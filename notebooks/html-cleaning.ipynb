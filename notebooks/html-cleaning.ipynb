{
 "cells": [
  {
   "cell_type": "code",
   "execution_count": 1,
   "source": [
    "%load_ext autoreload\n",
    "%autoreload 2\n",
    "import sys\n",
    "sys.path.insert(0, \"../../scrapemed\")\n",
    "\n",
    "import pandas as pd\n",
    "import numpy as np\n",
    "import re\n",
    "import lxml.etree as ET\n",
    "import scrapemed.scrape as scrape\n",
    "import scrapemed.trees as trees\n",
    "import scrapemed._clean as _clean\n",
    "import scrapemed._validate as _validate\n",
    "\n",
    "pd.set_option('display.max_columns', None)\n",
    "pd.set_option('display.max_rows', None)"
   ],
   "outputs": [],
   "metadata": {}
  },
  {
   "cell_type": "markdown",
   "source": [
    "## Efficient Example of Using scrape module"
   ],
   "metadata": {}
  },
  {
   "cell_type": "code",
   "execution_count": 3,
   "source": [
    "#Specify creds and PMCID\n",
    "PMCID = 7067710\n",
    "email = \"danielfrees247@gmail.com\"\n",
    "\n",
    "#get messy tree for data definitions\n",
    "full_xml = scrape.get_xml(pmcid = PMCID, email = email, strip_text_styling=False, download=True)\n",
    "full_data_dict = trees._generate_data_dictionary(full_xml)\n",
    "full_root = full_xml.getroot()\n",
    "\n",
    "\n",
    "#see validate xml separately\n",
    "#scrape._validate_xml(full_xml)\n",
    "\n",
    "#clean it up\n",
    "clean_xml = scrape.get_xml(pmcid= PMCID, email = email, strip_text_styling=True, verbose = False)\n",
    "clean_root = clean_xml.getroot()\n",
    "\n",
    "#unhash if you want to generate new pdfs of the element tree visualizations\n",
    "#scrape.visualize_element_tree(clean_root, title = f\"data/{PMCID}_element_tree_clean.gv\")\n",
    "#scrape.visualize_element_tree(full_root, title = f\"data/{PMCID}_element_tree_full.gv\")\n",
    "\n",
    "#basic description\n",
    "trees.investigate_xml_tree(clean_xml)\n",
    "clean_data_dict = trees._generate_data_dictionary(clean_xml)\n"
   ],
   "outputs": [
    {
     "output_type": "stream",
     "name": "stdout",
     "text": [
      "Num Elements: 1683\n",
      "Unique Element Types: {'journal-title', 'thead', 'title', 'ref-list', 'notes', 'publisher', 'suffix', <cyfunction ProcessingInstruction at 0x7ff78fe26400>, 'etal', 'journal-id', 'month', 'pub-date', 'abstract', 'subject', 'funding-group', 'funding-source', 'contrib-group', 'back', 'person-group', 'journal-title-group', 'article-meta', 'license', 'meta-name', 'p', 'mixed-citation', 'lpage', 'article-id', 'sc', 'fpage', 'table-wrap-foot', 'table', 'td', 'email', 'issn', 'break', 'ext-link', 'xref', 'subj-group', 'given-names', 'volume', 'issue', 'th', 'custom-meta', 'contrib', 'pmc-articleset', 'sec', 'permissions', 'publisher-loc', 'name', 'fn-group', 'pub-id', 'address', 'publisher-name', 'source', 'element-citation', 'surname', 'tr', 'institution-wrap', 'day', 'article-title', 'front', 'journal-meta', 'meta-value', 'article-categories', 'ref', 'title-group', 'license-p', 'article', 'award-group', 'fn', 'institution', 'caption', 'fig', 'copyright-statement', 'custom-meta-group', 'aff', 'table-wrap', 'label', 'year', 'tbody', 'ack', 'institution-id', 'body', 'graphic'}\n",
      "--------------------------------------------\n",
      "\n",
      "Data Dictionary:\n",
      " {'pmc-articleset': {}, 'article': {'article-type': ['research-article']}, 'front': {}, 'journal-meta': {}, 'journal-id': {'journal-id-type': ['nlm-ta', 'iso-abbrev']}, 'journal-title-group': {}, 'journal-title': {}, 'issn': {'pub-type': ['ppub', 'epub']}, 'publisher': {}, 'publisher-name': {}, 'publisher-loc': {}, 'article-meta': {}, 'article-id': {'pub-id-type': ['pmid', 'pmc', 'publisher-id', 'doi']}, 'article-categories': {}, 'subj-group': {'subj-group-type': ['heading']}, 'subject': {}, 'title-group': {}, 'article-title': {}, 'contrib-group': {}, 'contrib': {'contrib-type': ['author'], 'corresp': ['yes']}, 'name': {}, 'surname': {}, 'given-names': {}, 'address': {}, 'email': {}, 'xref': {'ref-type': ['aff', 'bibr', 'table', 'fig'], 'rid': ['Aff1', 'Aff6', 'Aff2', 'Aff3', 'Aff4', 'Aff5', 'CR1', 'CR2', 'CR5', 'CR6', 'CR7', 'CR8', 'CR9', 'CR10', 'CR11', 'CR12', 'CR13', 'CR14', 'CR3', 'CR16', 'CR15', 'CR17', 'CR18', 'Tab1', 'Fig1', 'Fig2', 'Tab2', 'Tab3', 'Tab4', 'Tab5', 'Tab6', 'Tab7', 'Tab8', 'CR19', 'CR20', 'CR21', 'CR28', 'CR27']}, 'aff': {'id': ['Aff1', 'Aff2', 'Aff3', 'Aff4', 'Aff5', 'Aff6']}, 'label': {}, 'institution-wrap': {}, 'institution-id': {'institution-id-type': ['GRID', 'ISNI']}, 'institution': {}, 'pub-date': {'pub-type': ['epub', 'pmc-release', 'ppub']}, 'day': {}, 'month': {}, 'year': {}, 'volume': {}, 'issue': {}, 'fpage': {}, 'lpage': {}, 'permissions': {}, 'copyright-statement': {}, 'license': {'license-type': ['OpenAccess']}, 'license-p': {}, 'ext-link': {'ext-link-type': ['uri'], '{http://www.w3.org/1999/xlink}href': ['http://creativecommons.org/licenses/by-nc/4.0/', 'https://www.pfizer.com/science/clinical-trials/trial-data-and-results']}, 'abstract': {'id': ['Abs1']}, 'sec': {'id': ['FPar1', 'Sec1', 'Sec2', 'Sec3', 'Sec4', 'Sec5', 'Sec6', 'Sec7', 'Sec8', 'Sec9', 'Sec10', 'Sec11', 'Sec12', 'Sec13', 'Sec14', 'Sec15']}, 'title': {}, 'p': {'id': ['Par1', 'Par2', 'Par3', 'Par4', 'Par5', 'Par6', 'Par7', 'Par8', 'Par9', 'Par10', 'Par11', 'Par12', 'Par13', 'Par14', 'Par15', 'Par16', 'Par17', 'Par18', 'Par19', 'Par20', 'Par21', 'Par22', 'Par23', 'Par24', 'Par25', 'Par26', 'Par27', 'Par28', 'Par29', 'Par30', 'Par31', 'Par32', 'Par33', 'Par34', 'Par35', 'Par36', 'Par37', 'Par38', 'Par39', 'Par40', 'Par41', 'Par42']}, 'funding-group': {}, 'award-group': {}, 'funding-source': {}, 'custom-meta-group': {}, 'custom-meta': {}, 'meta-name': {}, 'meta-value': {}, 'body': {}, 'table-wrap': {'id': ['Taba', 'Tab1', 'Tab2', 'Tab3', 'Tab4', 'Tab5', 'Tab6', 'Tab7', 'Tab8']}, 'table': {'frame': ['hsides'], 'rules': ['groups']}, 'tbody': {}, 'tr': {}, 'td': {'align': ['left', 'char'], 'colspan': ['4', '5'], 'char': ['.', '–']}, 'sc': {}, 'caption': {}, 'thead': {}, 'th': {'align': ['left'], 'rowspan': ['2'], 'colspan': ['2', '3', '4']}, 'table-wrap-foot': {}, 'fig': {'id': ['Fig1', 'Fig2']}, 'graphic': {'{http://www.w3.org/1999/xlink}href': ['40268_2020_293_Fig1_HTML', '40268_2020_293_Fig2_HTML'], 'id': ['MO1', 'MO2']}, 'break': {}, 'back': {}, 'fn-group': {}, 'fn': {}, 'ack': {}, 'notes': {'notes-type': ['author-contribution', 'data-availability', 'funding', 'COI-statement']}, 'ref-list': {'id': ['Bib1']}, 'ref': {'id': ['CR1', 'CR2', 'CR3', 'CR4', 'CR5', 'CR6', 'CR7', 'CR8', 'CR9', 'CR10', 'CR11', 'CR12', 'CR13', 'CR14', 'CR15', 'CR16', 'CR17', 'CR18', 'CR19', 'CR20', 'CR21', 'CR22', 'CR23', 'CR24', 'CR25', 'CR26', 'CR27', 'CR28']}, 'element-citation': {'publication-type': ['journal']}, 'person-group': {'person-group-type': ['author']}, 'source': {}, 'pub-id': {'pub-id-type': ['doi', 'pmid']}, 'mixed-citation': {'publication-type': ['other']}, 'etal': {}, 'suffix': {}}\n",
      "\n",
      "--------------------------------------------\n",
      "\n"
     ]
    }
   ],
   "metadata": {}
  },
  {
   "cell_type": "code",
   "execution_count": 4,
   "source": [
    "data_dict = clean_data_dict\n",
    "\n",
    "#Create a multi-indexed dataframe of all supported/known tag, attr, val combos\n",
    "multi_indexed_tuples = []\n",
    "header_names = [\"tag\", \"attr\", \"val\"]\n",
    "for tag in data_dict.keys():\n",
    "    for attr in data_dict[tag].keys():\n",
    "        for val in data_dict[tag][attr]:\n",
    "            multi_indexed_tuples.append(tuple([tag.lower(), attr.lower(), val.lower()]))\n",
    "\n",
    "multi_indexed_tuples\n",
    "\n",
    "m_index = pd.MultiIndex.from_tuples(multi_indexed_tuples)\n",
    "data_dict_df = m_index.to_frame(name = header_names)\n",
    "data_dict_df[\"supported\"] = 1\n",
    "data_dict_df = data_dict_df[\"supported\"]\n",
    "data_dict_df.head(300)\n",
    "#data_dict_df.to_csv(\"test.csv\", index_label = header_names)"
   ],
   "outputs": [
    {
     "output_type": "execute_result",
     "data": {
      "text/plain": [
       "article           article-type                        research-article                                                         1\n",
       "journal-id        journal-id-type                     nlm-ta                                                                   1\n",
       "                                                      iso-abbrev                                                               1\n",
       "issn              pub-type                            ppub                                                                     1\n",
       "                                                      epub                                                                     1\n",
       "article-id        pub-id-type                         pmid                                                                     1\n",
       "                                                      pmc                                                                      1\n",
       "                                                      publisher-id                                                             1\n",
       "                                                      doi                                                                      1\n",
       "subj-group        subj-group-type                     heading                                                                  1\n",
       "contrib           contrib-type                        author                                                                   1\n",
       "                  corresp                             yes                                                                      1\n",
       "xref              ref-type                            aff                                                                      1\n",
       "                                                      bibr                                                                     1\n",
       "                                                      table                                                                    1\n",
       "                                                      fig                                                                      1\n",
       "                  rid                                 aff1                                                                     1\n",
       "                                                      aff6                                                                     1\n",
       "                                                      aff2                                                                     1\n",
       "                                                      aff3                                                                     1\n",
       "                                                      aff4                                                                     1\n",
       "                                                      aff5                                                                     1\n",
       "                                                      cr1                                                                      1\n",
       "                                                      cr2                                                                      1\n",
       "                                                      cr5                                                                      1\n",
       "                                                      cr6                                                                      1\n",
       "                                                      cr7                                                                      1\n",
       "                                                      cr8                                                                      1\n",
       "                                                      cr9                                                                      1\n",
       "                                                      cr10                                                                     1\n",
       "                                                      cr11                                                                     1\n",
       "                                                      cr12                                                                     1\n",
       "                                                      cr13                                                                     1\n",
       "                                                      cr14                                                                     1\n",
       "                                                      cr3                                                                      1\n",
       "                                                      cr16                                                                     1\n",
       "                                                      cr15                                                                     1\n",
       "                                                      cr17                                                                     1\n",
       "                                                      cr18                                                                     1\n",
       "                                                      tab1                                                                     1\n",
       "                                                      fig1                                                                     1\n",
       "                                                      fig2                                                                     1\n",
       "                                                      tab2                                                                     1\n",
       "                                                      tab3                                                                     1\n",
       "                                                      tab4                                                                     1\n",
       "                                                      tab5                                                                     1\n",
       "                                                      tab6                                                                     1\n",
       "                                                      tab7                                                                     1\n",
       "                                                      tab8                                                                     1\n",
       "                                                      cr19                                                                     1\n",
       "                                                      cr20                                                                     1\n",
       "                                                      cr21                                                                     1\n",
       "                                                      cr28                                                                     1\n",
       "                                                      cr27                                                                     1\n",
       "aff               id                                  aff1                                                                     1\n",
       "                                                      aff2                                                                     1\n",
       "                                                      aff3                                                                     1\n",
       "                                                      aff4                                                                     1\n",
       "                                                      aff5                                                                     1\n",
       "                                                      aff6                                                                     1\n",
       "institution-id    institution-id-type                 grid                                                                     1\n",
       "                                                      isni                                                                     1\n",
       "pub-date          pub-type                            epub                                                                     1\n",
       "                                                      pmc-release                                                              1\n",
       "                                                      ppub                                                                     1\n",
       "license           license-type                        openaccess                                                               1\n",
       "ext-link          ext-link-type                       uri                                                                      1\n",
       "                  {http://www.w3.org/1999/xlink}href  http://creativecommons.org/licenses/by-nc/4.0/                           1\n",
       "                                                      https://www.pfizer.com/science/clinical-trials/trial-data-and-results    1\n",
       "abstract          id                                  abs1                                                                     1\n",
       "sec               id                                  fpar1                                                                    1\n",
       "                                                      sec1                                                                     1\n",
       "                                                      sec2                                                                     1\n",
       "                                                      sec3                                                                     1\n",
       "                                                      sec4                                                                     1\n",
       "                                                      sec5                                                                     1\n",
       "                                                      sec6                                                                     1\n",
       "                                                      sec7                                                                     1\n",
       "                                                      sec8                                                                     1\n",
       "                                                      sec9                                                                     1\n",
       "                                                      sec10                                                                    1\n",
       "                                                      sec11                                                                    1\n",
       "                                                      sec12                                                                    1\n",
       "                                                      sec13                                                                    1\n",
       "                                                      sec14                                                                    1\n",
       "                                                      sec15                                                                    1\n",
       "p                 id                                  par1                                                                     1\n",
       "                                                      par2                                                                     1\n",
       "                                                      par3                                                                     1\n",
       "                                                      par4                                                                     1\n",
       "                                                      par5                                                                     1\n",
       "                                                      par6                                                                     1\n",
       "                                                      par7                                                                     1\n",
       "                                                      par8                                                                     1\n",
       "                                                      par9                                                                     1\n",
       "                                                      par10                                                                    1\n",
       "                                                      par11                                                                    1\n",
       "                                                      par12                                                                    1\n",
       "                                                      par13                                                                    1\n",
       "                                                      par14                                                                    1\n",
       "                                                      par15                                                                    1\n",
       "                                                      par16                                                                    1\n",
       "                                                      par17                                                                    1\n",
       "                                                      par18                                                                    1\n",
       "                                                      par19                                                                    1\n",
       "                                                      par20                                                                    1\n",
       "                                                      par21                                                                    1\n",
       "                                                      par22                                                                    1\n",
       "                                                      par23                                                                    1\n",
       "                                                      par24                                                                    1\n",
       "                                                      par25                                                                    1\n",
       "                                                      par26                                                                    1\n",
       "                                                      par27                                                                    1\n",
       "                                                      par28                                                                    1\n",
       "                                                      par29                                                                    1\n",
       "                                                      par30                                                                    1\n",
       "                                                      par31                                                                    1\n",
       "                                                      par32                                                                    1\n",
       "                                                      par33                                                                    1\n",
       "                                                      par34                                                                    1\n",
       "                                                      par35                                                                    1\n",
       "                                                      par36                                                                    1\n",
       "                                                      par37                                                                    1\n",
       "                                                      par38                                                                    1\n",
       "                                                      par39                                                                    1\n",
       "                                                      par40                                                                    1\n",
       "                                                      par41                                                                    1\n",
       "                                                      par42                                                                    1\n",
       "table-wrap        id                                  taba                                                                     1\n",
       "                                                      tab1                                                                     1\n",
       "                                                      tab2                                                                     1\n",
       "                                                      tab3                                                                     1\n",
       "                                                      tab4                                                                     1\n",
       "                                                      tab5                                                                     1\n",
       "                                                      tab6                                                                     1\n",
       "                                                      tab7                                                                     1\n",
       "                                                      tab8                                                                     1\n",
       "table             frame                               hsides                                                                   1\n",
       "                  rules                               groups                                                                   1\n",
       "td                align                               left                                                                     1\n",
       "                                                      char                                                                     1\n",
       "                  colspan                             4                                                                        1\n",
       "                                                      5                                                                        1\n",
       "                  char                                .                                                                        1\n",
       "                                                      –                                                                        1\n",
       "th                align                               left                                                                     1\n",
       "                  rowspan                             2                                                                        1\n",
       "                  colspan                             2                                                                        1\n",
       "                                                      3                                                                        1\n",
       "                                                      4                                                                        1\n",
       "fig               id                                  fig1                                                                     1\n",
       "                                                      fig2                                                                     1\n",
       "graphic           {http://www.w3.org/1999/xlink}href  40268_2020_293_fig1_html                                                 1\n",
       "                                                      40268_2020_293_fig2_html                                                 1\n",
       "                  id                                  mo1                                                                      1\n",
       "                                                      mo2                                                                      1\n",
       "notes             notes-type                          author-contribution                                                      1\n",
       "                                                      data-availability                                                        1\n",
       "                                                      funding                                                                  1\n",
       "                                                      coi-statement                                                            1\n",
       "ref-list          id                                  bib1                                                                     1\n",
       "ref               id                                  cr1                                                                      1\n",
       "                                                      cr2                                                                      1\n",
       "                                                      cr3                                                                      1\n",
       "                                                      cr4                                                                      1\n",
       "                                                      cr5                                                                      1\n",
       "                                                      cr6                                                                      1\n",
       "                                                      cr7                                                                      1\n",
       "                                                      cr8                                                                      1\n",
       "                                                      cr9                                                                      1\n",
       "                                                      cr10                                                                     1\n",
       "                                                      cr11                                                                     1\n",
       "                                                      cr12                                                                     1\n",
       "                                                      cr13                                                                     1\n",
       "                                                      cr14                                                                     1\n",
       "                                                      cr15                                                                     1\n",
       "                                                      cr16                                                                     1\n",
       "                                                      cr17                                                                     1\n",
       "                                                      cr18                                                                     1\n",
       "                                                      cr19                                                                     1\n",
       "                                                      cr20                                                                     1\n",
       "                                                      cr21                                                                     1\n",
       "                                                      cr22                                                                     1\n",
       "                                                      cr23                                                                     1\n",
       "                                                      cr24                                                                     1\n",
       "                                                      cr25                                                                     1\n",
       "                                                      cr26                                                                     1\n",
       "                                                      cr27                                                                     1\n",
       "                                                      cr28                                                                     1\n",
       "element-citation  publication-type                    journal                                                                  1\n",
       "person-group      person-group-type                   author                                                                   1\n",
       "pub-id            pub-id-type                         doi                                                                      1\n",
       "                                                      pmid                                                                     1\n",
       "mixed-citation    publication-type                    other                                                                    1\n",
       "Name: supported, dtype: int64"
      ]
     },
     "metadata": {},
     "execution_count": 4
    }
   ],
   "metadata": {}
  },
  {
   "cell_type": "code",
   "execution_count": 5,
   "source": [
    "full_root = full_xml.getroot()\n",
    "full_root.findall(\".//*/ref\")[0].text"
   ],
   "outputs": [
    {
     "output_type": "execute_result",
     "data": {
      "text/plain": [
       "'\\n        '"
      ]
     },
     "metadata": {},
     "execution_count": 5
    }
   ],
   "metadata": {}
  },
  {
   "cell_type": "markdown",
   "source": [
    "### Testing scrape on a small text"
   ],
   "metadata": {}
  },
  {
   "cell_type": "code",
   "execution_count": 6,
   "source": [
    "test_text = (\"<paper><article-title>Daniel</article-title>Hello my name is Daniel, my <italic attr='Whatever' color = 'Blue'>favorite</italic> chemical is <i>C</i><sub>4</sub>. \"\n",
    "\"<b hello = 'dan' haha = 'whatever'>I</b> also <italic attr ='something'>wanted</italic> to say that <underline>you</underline> should use this code as a<sup>1</sup> test to make sure \"\n",
    "\"html tagging removal is going as expected.</paper>\")\n",
    "test_tree = scrape.xml_tree_from_string(test_text, strip_text_styling=False)\n",
    "\n",
    "#test the styling removal\n",
    "print(\"Testing the html styling removal function: --------------------------\\n\")\n",
    "print(_clean._remove_text_styling(test_text, verbose=True))\n",
    "print(\"\\n-------------End removal func------------\\n\")\n",
    "\n",
    "\n",
    "#test data dictionary generation\n",
    "print(\"Generating data dictionary for test text: ------------------\\n\")\n",
    "data_dict = trees._generate_data_dictionary(test_tree)\n",
    "print(data_dict)\n",
    "print(eval(repr(data_dict).lower()))\n",
    "print(\"\\n-------------End data dictionary generation------------\\n\")"
   ],
   "outputs": [
    {
     "output_type": "stream",
     "name": "stdout",
     "text": [
      "Testing the html styling removal function: --------------------------\n",
      "\n",
      "Removing the following tags:\n",
      "['<italic\\\\b[^>]*>', '<i\\\\b[^>]*>', '<bold\\\\b[^>]*>', '<b\\\\b[^>]*>', '<underline\\\\b[^>]*>', '<u\\\\b[^>]*>', '</italic\\\\b[^>]*>', '</i\\\\b[^>]*>', '</bold\\\\b[^>]*>', '</b\\\\b[^>]*>', '</underline\\\\b[^>]*>', '</u\\\\b[^>]*>', '</sub\\\\b[^>]*>', '</sup\\\\b[^>]*>']\n",
      "\n",
      "Making the following replacements:\n",
      "\n",
      "<sub> replaced with _\n",
      "\n",
      "<sup> replaced with ^\n",
      "\n",
      "<paper><article-title>Daniel</article-title>Hello my name is Daniel, my favorite chemical is C_4. I also wanted to say that you should use this code as a^1 test to make sure html tagging removal is going as expected.</paper>\n",
      "\n",
      "-------------End removal func------------\n",
      "\n",
      "Generating data dictionary for test text: ------------------\n",
      "\n",
      "{'paper': {}, 'article-title': {}, 'italic': {'attr': ['Whatever', 'something'], 'color': ['Blue']}, 'i': {}, 'sub': {}, 'b': {'hello': ['dan'], 'haha': ['whatever']}, 'underline': {}, 'sup': {}}\n",
      "{'paper': {}, 'article-title': {}, 'italic': {'attr': ['whatever', 'something'], 'color': ['blue']}, 'i': {}, 'sub': {}, 'b': {'hello': ['dan'], 'haha': ['whatever']}, 'underline': {}, 'sup': {}}\n",
      "\n",
      "-------------End data dictionary generation------------\n",
      "\n"
     ]
    }
   ],
   "metadata": {}
  },
  {
   "cell_type": "code",
   "execution_count": 7,
   "source": [
    "data_dict = trees._generate_data_dictionary(test_tree)\n",
    "print(data_dict)"
   ],
   "outputs": [
    {
     "output_type": "stream",
     "name": "stdout",
     "text": [
      "{'paper': {}, 'article-title': {}, 'italic': {'attr': ['Whatever', 'something'], 'color': ['Blue']}, 'i': {}, 'sub': {}, 'b': {'hello': ['dan'], 'haha': ['whatever']}, 'underline': {}, 'sup': {}}\n"
     ]
    }
   ],
   "metadata": {}
  },
  {
   "cell_type": "code",
   "execution_count": 8,
   "source": [
    "test_text2 = (\"<paper><article-title>Daniel</article-title>Hello my name is Daniel, my <italic attr='' color = 'Blue'>favorite</italic> chemical is <i>C</i><sub>4</sub>. \"\n",
    "\"<b hello = 'dan' haha = 'whatever'>I</b> also <italic attr ='something'>wanted</italic> to say that <underline>you</underline> should use this code as a<sup>1</sup> test to make sure \"\n",
    "\"html tagging removal is going as expected.</paper>\")\n",
    "test_tree2 = scrape.xml_tree_from_string(test_text2, strip_text_styling=False)\n",
    "\n",
    "trees._generate_data_dictionary(test_tree2)"
   ],
   "outputs": [
    {
     "output_type": "execute_result",
     "data": {
      "text/plain": [
       "{'paper': {},\n",
       " 'article-title': {},\n",
       " 'italic': {'attr': ['', 'something'], 'color': ['Blue']},\n",
       " 'i': {},\n",
       " 'sub': {},\n",
       " 'b': {'hello': ['dan'], 'haha': ['whatever']},\n",
       " 'underline': {},\n",
       " 'sup': {}}"
      ]
     },
     "metadata": {},
     "execution_count": 8
    }
   ],
   "metadata": {}
  },
  {
   "cell_type": "code",
   "execution_count": null,
   "source": [],
   "outputs": [],
   "metadata": {}
  },
  {
   "cell_type": "code",
   "execution_count": null,
   "source": [],
   "outputs": [],
   "metadata": {}
  },
  {
   "cell_type": "code",
   "execution_count": null,
   "source": [],
   "outputs": [],
   "metadata": {}
  },
  {
   "cell_type": "code",
   "execution_count": null,
   "source": [],
   "outputs": [],
   "metadata": {}
  }
 ],
 "metadata": {
  "orig_nbformat": 4,
  "language_info": {
   "name": "python",
   "version": "3.10.9",
   "mimetype": "text/x-python",
   "codemirror_mode": {
    "name": "ipython",
    "version": 3
   },
   "pygments_lexer": "ipython3",
   "nbconvert_exporter": "python",
   "file_extension": ".py"
  },
  "kernelspec": {
   "name": "python3",
   "display_name": "Python 3.10.9 64-bit ('scrapemed': conda)"
  },
  "interpreter": {
   "hash": "427d4943968a1e3fc165f884a0cbd733d19eb316925f7601ef95e6c86f630a99"
  }
 },
 "nbformat": 4,
 "nbformat_minor": 2
}