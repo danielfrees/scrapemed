{
 "cells": [
  {
   "cell_type": "code",
   "execution_count": 301,
   "source": [
    "%load_ext autoreload\n",
    "%autoreload 2\n",
    "import sys\n",
    "sys.path.insert(0, \"../../scrapemed\")\n",
    "\n",
    "import scrapemed.paper as paper\n",
    "import pandas as pd\n",
    "import lxml"
   ],
   "outputs": [
    {
     "output_type": "stream",
     "name": "stdout",
     "text": [
      "The autoreload extension is already loaded. To reload it, use:\n",
      "  %reload_ext autoreload\n"
     ]
    }
   ],
   "metadata": {}
  },
  {
   "cell_type": "code",
   "execution_count": 302,
   "source": [
    "#Specify creds and PMCID\n",
    "\n",
    "#---------  Issue list to investigate:  ------\n",
    "#---------------------------------------------\n",
    "#unmatched tables and figures: 8767368, 8566143 - TODO\n",
    "#fig under sec: 2832672 -fixed\n",
    "#no journal title found: 2848880 - TODO\n",
    "#something going wrong with contributor tuples function : 5173686, 2402497 -TODO\n",
    "#no abstract found: 2097352, 7210167 - should be fixed\n",
    "#invalid int when grabbing fpage: 3261356 - should be fixed\n",
    "#---------------------------------------------\n",
    "\n",
    "PMCID = 2848880\n",
    "email = \"danielfrees247@gmail.com\"\n",
    "\n",
    "p = paper.Paper(PMCID, email, download=True)"
   ],
   "outputs": [
    {
     "output_type": "stream",
     "name": "stderr",
     "text": [
      "UserWarning: Warning! No <body> tag found. This paper may be abstract only, or the Open Access portion may be abstract only. This also may happen with author manuscripts and other non-final editions.\n",
      "\n",
      "unexpectedZeroMatchWarning: No copyright statement found.\n",
      "\n",
      "unexpectedZeroMatchWarning: No license found.\n",
      "\n",
      "unmatchedCitationWarning: Citation without matching reference (Citation 1)!\n",
      "\n",
      "unmatchedCitationWarning: Citation without matching reference (Citation 2)!\n",
      "\n",
      "unmatchedCitationWarning: Citation without matching reference (Citation 3)!\n",
      "\n",
      "unmatchedCitationWarning: Citation without matching reference (Citation 4)!\n",
      "\n"
     ]
    }
   ],
   "metadata": {}
  },
  {
   "cell_type": "code",
   "execution_count": 303,
   "source": [
    "p.title"
   ],
   "outputs": [
    {
     "output_type": "execute_result",
     "data": {
      "text/plain": [
       "'Neutralizing antibodies derived from the B cells of 1918 influenza pandemic survivors'"
      ]
     },
     "metadata": {},
     "execution_count": 303
    }
   ],
   "metadata": {}
  },
  {
   "cell_type": "code",
   "execution_count": 304,
   "source": [
    "pd.options.display.max_colwidth = 200\n",
    "p.authors"
   ],
   "outputs": [
    {
     "output_type": "execute_result",
     "data": {
      "text/html": [
       "<div>\n",
       "<style scoped>\n",
       "    .dataframe tbody tr th:only-of-type {\n",
       "        vertical-align: middle;\n",
       "    }\n",
       "\n",
       "    .dataframe tbody tr th {\n",
       "        vertical-align: top;\n",
       "    }\n",
       "\n",
       "    .dataframe thead th {\n",
       "        text-align: right;\n",
       "    }\n",
       "</style>\n",
       "<table border=\"1\" class=\"dataframe\">\n",
       "  <thead>\n",
       "    <tr style=\"text-align: right;\">\n",
       "      <th></th>\n",
       "      <th>Contributor_Type</th>\n",
       "      <th>First_Name</th>\n",
       "      <th>Last_Name</th>\n",
       "      <th>Email_Address</th>\n",
       "      <th>Affiliations</th>\n",
       "    </tr>\n",
       "  </thead>\n",
       "  <tbody>\n",
       "    <tr>\n",
       "      <th>0</th>\n",
       "      <td>Author</td>\n",
       "      <td>Xiaocong</td>\n",
       "      <td>Yu</td>\n",
       "      <td>None</td>\n",
       "      <td>[A1: Affiliation data not found.]</td>\n",
       "    </tr>\n",
       "    <tr>\n",
       "      <th>1</th>\n",
       "      <td>Author</td>\n",
       "      <td>Tshidi</td>\n",
       "      <td>Tsibane</td>\n",
       "      <td>None</td>\n",
       "      <td>[A2: Affiliation data not found.]</td>\n",
       "    </tr>\n",
       "    <tr>\n",
       "      <th>2</th>\n",
       "      <td>Author</td>\n",
       "      <td>Patricia A.</td>\n",
       "      <td>McGraw</td>\n",
       "      <td>None</td>\n",
       "      <td>[A1: Affiliation data not found.]</td>\n",
       "    </tr>\n",
       "    <tr>\n",
       "      <th>3</th>\n",
       "      <td>Author</td>\n",
       "      <td>Frances S.</td>\n",
       "      <td>House</td>\n",
       "      <td>None</td>\n",
       "      <td>[A1: Affiliation data not found.]</td>\n",
       "    </tr>\n",
       "    <tr>\n",
       "      <th>4</th>\n",
       "      <td>Author</td>\n",
       "      <td>Christopher J.</td>\n",
       "      <td>Keefer</td>\n",
       "      <td>None</td>\n",
       "      <td>[A1: Affiliation data not found.]</td>\n",
       "    </tr>\n",
       "    <tr>\n",
       "      <th>5</th>\n",
       "      <td>Author</td>\n",
       "      <td>Mark D.</td>\n",
       "      <td>Hicar</td>\n",
       "      <td>None</td>\n",
       "      <td>[A1: Affiliation data not found.]</td>\n",
       "    </tr>\n",
       "    <tr>\n",
       "      <th>6</th>\n",
       "      <td>Author</td>\n",
       "      <td>Terrence M.</td>\n",
       "      <td>Tumpey</td>\n",
       "      <td>None</td>\n",
       "      <td>[A3: Affiliation data not found.]</td>\n",
       "    </tr>\n",
       "    <tr>\n",
       "      <th>7</th>\n",
       "      <td>Author</td>\n",
       "      <td>Claudia</td>\n",
       "      <td>Pappas</td>\n",
       "      <td>None</td>\n",
       "      <td>[A2: Affiliation data not found., A3: Affiliation data not found.]</td>\n",
       "    </tr>\n",
       "    <tr>\n",
       "      <th>8</th>\n",
       "      <td>Author</td>\n",
       "      <td>Lucy A.</td>\n",
       "      <td>Perrone</td>\n",
       "      <td>None</td>\n",
       "      <td>[A3: Affiliation data not found.]</td>\n",
       "    </tr>\n",
       "    <tr>\n",
       "      <th>9</th>\n",
       "      <td>Author</td>\n",
       "      <td>Osvaldo</td>\n",
       "      <td>Martinez</td>\n",
       "      <td>None</td>\n",
       "      <td>[A2: Affiliation data not found.]</td>\n",
       "    </tr>\n",
       "    <tr>\n",
       "      <th>10</th>\n",
       "      <td>Author</td>\n",
       "      <td>James</td>\n",
       "      <td>Stevens</td>\n",
       "      <td>None</td>\n",
       "      <td>[A3: Affiliation data not found., A4: Affiliation data not found.]</td>\n",
       "    </tr>\n",
       "    <tr>\n",
       "      <th>11</th>\n",
       "      <td>Author</td>\n",
       "      <td>Ian A.</td>\n",
       "      <td>Wilson</td>\n",
       "      <td>None</td>\n",
       "      <td>[A4: Affiliation data not found.]</td>\n",
       "    </tr>\n",
       "    <tr>\n",
       "      <th>12</th>\n",
       "      <td>Author</td>\n",
       "      <td>Patricia V.</td>\n",
       "      <td>Aguilar</td>\n",
       "      <td>None</td>\n",
       "      <td>[A2: Affiliation data not found.]</td>\n",
       "    </tr>\n",
       "    <tr>\n",
       "      <th>13</th>\n",
       "      <td>Author</td>\n",
       "      <td>Eric L.</td>\n",
       "      <td>Altschuler</td>\n",
       "      <td>None</td>\n",
       "      <td>[A5: Affiliation data not found.]</td>\n",
       "    </tr>\n",
       "    <tr>\n",
       "      <th>14</th>\n",
       "      <td>Author</td>\n",
       "      <td>Christopher F.</td>\n",
       "      <td>Basler</td>\n",
       "      <td>None</td>\n",
       "      <td>[A2: Affiliation data not found.]</td>\n",
       "    </tr>\n",
       "    <tr>\n",
       "      <th>15</th>\n",
       "      <td>Author</td>\n",
       "      <td>James E.</td>\n",
       "      <td>Crowe</td>\n",
       "      <td>None</td>\n",
       "      <td>[A1: Affiliation data not found.]</td>\n",
       "    </tr>\n",
       "  </tbody>\n",
       "</table>\n",
       "</div>"
      ],
      "text/plain": [
       "   Contributor_Type      First_Name   Last_Name Email_Address  \\\n",
       "0            Author        Xiaocong          Yu          None   \n",
       "1            Author          Tshidi     Tsibane          None   \n",
       "2            Author     Patricia A.      McGraw          None   \n",
       "3            Author      Frances S.       House          None   \n",
       "4            Author  Christopher J.      Keefer          None   \n",
       "5            Author         Mark D.       Hicar          None   \n",
       "6            Author     Terrence M.      Tumpey          None   \n",
       "7            Author         Claudia      Pappas          None   \n",
       "8            Author         Lucy A.     Perrone          None   \n",
       "9            Author         Osvaldo    Martinez          None   \n",
       "10           Author           James     Stevens          None   \n",
       "11           Author          Ian A.      Wilson          None   \n",
       "12           Author     Patricia V.     Aguilar          None   \n",
       "13           Author         Eric L.  Altschuler          None   \n",
       "14           Author  Christopher F.      Basler          None   \n",
       "15           Author        James E.       Crowe          None   \n",
       "\n",
       "                                                          Affiliations  \n",
       "0                                    [A1: Affiliation data not found.]  \n",
       "1                                    [A2: Affiliation data not found.]  \n",
       "2                                    [A1: Affiliation data not found.]  \n",
       "3                                    [A1: Affiliation data not found.]  \n",
       "4                                    [A1: Affiliation data not found.]  \n",
       "5                                    [A1: Affiliation data not found.]  \n",
       "6                                    [A3: Affiliation data not found.]  \n",
       "7   [A2: Affiliation data not found., A3: Affiliation data not found.]  \n",
       "8                                    [A3: Affiliation data not found.]  \n",
       "9                                    [A2: Affiliation data not found.]  \n",
       "10  [A3: Affiliation data not found., A4: Affiliation data not found.]  \n",
       "11                                   [A4: Affiliation data not found.]  \n",
       "12                                   [A2: Affiliation data not found.]  \n",
       "13                                   [A5: Affiliation data not found.]  \n",
       "14                                   [A2: Affiliation data not found.]  \n",
       "15                                   [A1: Affiliation data not found.]  "
      ]
     },
     "metadata": {},
     "execution_count": 304
    }
   ],
   "metadata": {}
  },
  {
   "cell_type": "code",
   "execution_count": 305,
   "source": [
    "print(p.non_author_contributors)"
   ],
   "outputs": [
    {
     "output_type": "stream",
     "name": "stdout",
     "text": [
      "No non-author contributors were found after parsing this paper.\n"
     ]
    }
   ],
   "metadata": {}
  },
  {
   "cell_type": "code",
   "execution_count": 306,
   "source": [
    "for sec in p.abstract:\n",
    "    print(sec)"
   ],
   "outputs": [
    {
     "output_type": "stream",
     "name": "stdout",
     "text": [
      "Investigation of the human antibody response to influenza virus infection has been largely limited to serology, with relatively little analysis at the molecular level. The 1918 H1N1 influenza virus pandemic was the most severe of the modern era1. Recent work has recovered the gene sequences of this unusual strain2, so that the 1918 pandemic virus could be reconstituted to display its unique virulence phenotypes3,4. However, little is known about adaptive immunity to this virus. We took advantage of the 1918 virus sequencing and the resultant production of recombinant 1918 hemagglutinin (HA) protein antigen to characterize at the clonal level neutralizing antibodies induced by natural exposure of survivors to the 1918 pandemic virus. In our study, each of 32 individuals tested that were born in or before 1915 exhibited seroreactivity with 1918 virus, nearly 90 years after the pandemic. Seven of 8 donor samples tested had circulating B cells that secreted antibodies that bound 1918 HA. We isolated B cells from subjects and generated five monoclonal antibodies that exhibited potent neutralizing activity against 1918 virus from three separate donors. These antibodies also cross-reacted with the genetically similar HA of a 1930 swine H1N1 influenza strain, but not with HAs of more contemporary human influenza viruses. The antibody genes exhibited an unusually high degree of somatic mutation. The antibodies bound to the 1918 HA protein with high affinity, exhibited exceptional virus neutralizing potency, and protected mice from lethal infection. Isolation of viruses that escaped inhibition suggested that the antibodies recognize classical antigenic sites on the HA surface. Thus, these studies reveal that survivors of the 1918 influenza pandemic possess highly functional, virus-neutralizing antibodies to this uniquely virulent virus, and that humans can sustain circulating B memory cells to viruses for many decades after exposure - well into the tenth decade of life.\n"
     ]
    }
   ],
   "metadata": {}
  },
  {
   "cell_type": "code",
   "execution_count": 307,
   "source": [
    "if p.body:\n",
    "    for sec in p.body:\n",
    "        print(str(sec))"
   ],
   "outputs": [],
   "metadata": {}
  },
  {
   "cell_type": "code",
   "execution_count": 308,
   "source": [
    "p.journal_id"
   ],
   "outputs": [
    {
     "output_type": "execute_result",
     "data": {
      "text/plain": [
       "{'nlm-journal-id': '0410462', 'pubmed-jr-id': '6011', 'nlm-ta': 'Nature'}"
      ]
     },
     "metadata": {},
     "execution_count": 308
    }
   ],
   "metadata": {}
  },
  {
   "cell_type": "code",
   "execution_count": 309,
   "source": [
    "p.issn"
   ],
   "outputs": [
    {
     "output_type": "execute_result",
     "data": {
      "text/plain": [
       "{'ppub': '0028-0836', 'epub': '1476-4687'}"
      ]
     },
     "metadata": {},
     "execution_count": 309
    }
   ],
   "metadata": {}
  },
  {
   "cell_type": "code",
   "execution_count": 310,
   "source": [
    "p.journal_title"
   ],
   "outputs": [
    {
     "output_type": "execute_result",
     "data": {
      "text/plain": [
       "'Nature'"
      ]
     },
     "metadata": {},
     "execution_count": 310
    }
   ],
   "metadata": {}
  },
  {
   "cell_type": "code",
   "execution_count": 311,
   "source": [
    "p.publisher_location"
   ],
   "outputs": [
    {
     "output_type": "execute_result",
     "data": {
      "text/plain": [
       "[]"
      ]
     },
     "metadata": {},
     "execution_count": 311
    }
   ],
   "metadata": {}
  },
  {
   "cell_type": "code",
   "execution_count": 312,
   "source": [
    "p.publisher_name"
   ],
   "outputs": [
    {
     "output_type": "execute_result",
     "data": {
      "text/plain": [
       "[]"
      ]
     },
     "metadata": {},
     "execution_count": 312
    }
   ],
   "metadata": {}
  },
  {
   "cell_type": "code",
   "execution_count": 313,
   "source": [
    "p.article_id"
   ],
   "outputs": [
    {
     "output_type": "execute_result",
     "data": {
      "text/plain": [
       "{'pmid': '18716625',\n",
       " 'pmc': '2848880',\n",
       " 'doi': '10.1038/nature07231',\n",
       " 'manuscript': 'NIHMS154734'}"
      ]
     },
     "metadata": {},
     "execution_count": 313
    }
   ],
   "metadata": {}
  },
  {
   "cell_type": "code",
   "execution_count": 314,
   "source": [
    "p.article_types"
   ],
   "outputs": [
    {
     "output_type": "execute_result",
     "data": {
      "text/plain": [
       "['Article']"
      ]
     },
     "metadata": {},
     "execution_count": 314
    }
   ],
   "metadata": {}
  },
  {
   "cell_type": "code",
   "execution_count": 315,
   "source": [
    "p.article_categories"
   ],
   "outputs": [
    {
     "output_type": "execute_result",
     "data": {
      "text/plain": [
       "'No extra article categories found. Check paper.article_types for header categories.'"
      ]
     },
     "metadata": {},
     "execution_count": 315
    }
   ],
   "metadata": {}
  },
  {
   "cell_type": "code",
   "execution_count": 316,
   "source": [
    "p.published_date"
   ],
   "outputs": [
    {
     "output_type": "execute_result",
     "data": {
      "text/plain": [
       "{'nihms-submitted': datetime.datetime(2010, 3, 15, 0, 0),\n",
       " 'epub': datetime.datetime(2008, 8, 17, 0, 0),\n",
       " 'ppub': datetime.datetime(2008, 9, 25, 0, 0),\n",
       " 'pmc-release': datetime.datetime(2010, 4, 3, 0, 0)}"
      ]
     },
     "metadata": {},
     "execution_count": 316
    }
   ],
   "metadata": {}
  },
  {
   "cell_type": "code",
   "execution_count": 317,
   "source": [
    "p.volume"
   ],
   "outputs": [
    {
     "output_type": "execute_result",
     "data": {
      "text/plain": [
       "455"
      ]
     },
     "metadata": {},
     "execution_count": 317
    }
   ],
   "metadata": {}
  },
  {
   "cell_type": "code",
   "execution_count": 318,
   "source": [
    "p.issue"
   ],
   "outputs": [
    {
     "output_type": "execute_result",
     "data": {
      "text/plain": [
       "7212"
      ]
     },
     "metadata": {},
     "execution_count": 318
    }
   ],
   "metadata": {}
  },
  {
   "cell_type": "code",
   "execution_count": 319,
   "source": [
    "p.fpage"
   ],
   "outputs": [
    {
     "output_type": "execute_result",
     "data": {
      "text/plain": [
       "532"
      ]
     },
     "metadata": {},
     "execution_count": 319
    }
   ],
   "metadata": {}
  },
  {
   "cell_type": "code",
   "execution_count": 320,
   "source": [
    "p.lpage"
   ],
   "outputs": [
    {
     "output_type": "execute_result",
     "data": {
      "text/plain": [
       "536"
      ]
     },
     "metadata": {},
     "execution_count": 320
    }
   ],
   "metadata": {}
  },
  {
   "cell_type": "code",
   "execution_count": 321,
   "source": [
    "p.permissions"
   ],
   "outputs": [],
   "metadata": {}
  },
  {
   "cell_type": "code",
   "execution_count": 322,
   "source": [
    "p.funding"
   ],
   "outputs": [],
   "metadata": {}
  },
  {
   "cell_type": "code",
   "execution_count": 323,
   "source": [
    "p.footnote"
   ],
   "outputs": [],
   "metadata": {}
  },
  {
   "cell_type": "code",
   "execution_count": 324,
   "source": [
    "try:\n",
    "    sample_table = p.ref_map[19]\n",
    "    sample_table\n",
    "except KeyError as e:\n",
    "    print(\"Nothing in ref map index 19.\")"
   ],
   "outputs": [
    {
     "output_type": "stream",
     "name": "stdout",
     "text": [
      "Nothing in ref map index 19.\n"
     ]
    }
   ],
   "metadata": {}
  },
  {
   "cell_type": "code",
   "execution_count": 325,
   "source": [
    "for ack in p.acknowledgements:\n",
    "    print(ack)"
   ],
   "outputs": [],
   "metadata": {}
  },
  {
   "cell_type": "code",
   "execution_count": 326,
   "source": [
    "for note in p.notes:\n",
    "    print(note)\n",
    "    print()"
   ],
   "outputs": [],
   "metadata": {}
  },
  {
   "cell_type": "code",
   "execution_count": 327,
   "source": [
    "p.custom_meta"
   ],
   "outputs": [],
   "metadata": {}
  },
  {
   "cell_type": "markdown",
   "source": [
    "## More Detailed Investigation of Ref Map and Texts"
   ],
   "metadata": {}
  },
  {
   "cell_type": "code",
   "execution_count": 328,
   "source": [
    "if p.body:\n",
    "    for sec in p.body:\n",
    "        print(\"Text: \" + sec.text)\n",
    "        print()\n",
    "        print(\"Text with Refs: \" + sec.text_with_refs)"
   ],
   "outputs": [],
   "metadata": {}
  },
  {
   "cell_type": "code",
   "execution_count": 329,
   "source": [
    "p._ref_map_with_tags\n"
   ],
   "outputs": [
    {
     "output_type": "execute_result",
     "data": {
      "text/plain": [
       "{0: '<xref xmlns:xlink=\"http://www.w3.org/1999/xlink\" xmlns:mml=\"http://www.w3.org/1998/Math/MathML\" ref-type=\"bibr\" rid=\"R1\">1</xref>',\n",
       " 1: '<xref xmlns:xlink=\"http://www.w3.org/1999/xlink\" xmlns:mml=\"http://www.w3.org/1998/Math/MathML\" ref-type=\"bibr\" rid=\"R2\">2</xref>',\n",
       " 2: '<xref xmlns:xlink=\"http://www.w3.org/1999/xlink\" xmlns:mml=\"http://www.w3.org/1998/Math/MathML\" ref-type=\"bibr\" rid=\"R3\">3</xref>',\n",
       " 3: '<xref xmlns:xlink=\"http://www.w3.org/1999/xlink\" xmlns:mml=\"http://www.w3.org/1998/Math/MathML\" ref-type=\"bibr\" rid=\"R4\">4</xref>'}"
      ]
     },
     "metadata": {},
     "execution_count": 329
    }
   ],
   "metadata": {}
  },
  {
   "cell_type": "code",
   "execution_count": 330,
   "source": [
    "p.ref_map"
   ],
   "outputs": [
    {
     "output_type": "execute_result",
     "data": {
      "text/plain": [
       "{}"
      ]
     },
     "metadata": {},
     "execution_count": 330
    }
   ],
   "metadata": {}
  },
  {
   "cell_type": "code",
   "execution_count": 331,
   "source": [
    "p.citation_list"
   ],
   "outputs": [
    {
     "output_type": "execute_result",
     "data": {
      "text/plain": [
       "[]"
      ]
     },
     "metadata": {},
     "execution_count": 331
    }
   ],
   "metadata": {}
  },
  {
   "cell_type": "code",
   "execution_count": 332,
   "source": [
    "p.tables"
   ],
   "outputs": [
    {
     "output_type": "execute_result",
     "data": {
      "text/plain": [
       "[]"
      ]
     },
     "metadata": {},
     "execution_count": 332
    }
   ],
   "metadata": {}
  },
  {
   "cell_type": "code",
   "execution_count": 333,
   "source": [
    "p.figures"
   ],
   "outputs": [
    {
     "output_type": "execute_result",
     "data": {
      "text/plain": [
       "[]"
      ]
     },
     "metadata": {},
     "execution_count": 333
    }
   ],
   "metadata": {}
  },
  {
   "cell_type": "code",
   "execution_count": 334,
   "source": [
    "for par in p.abstract:\n",
    "    print(\"Text: \" + par.text)\n",
    "    print()\n",
    "    print(\"Text with Refs: \" + par.text_with_refs)"
   ],
   "outputs": [
    {
     "output_type": "stream",
     "name": "stdout",
     "text": [
      "Text: Investigation of the human antibody response to influenza virus infection has been largely limited to serology, with relatively little analysis at the molecular level. The 1918 H1N1 influenza virus pandemic was the most severe of the modern era1. Recent work has recovered the gene sequences of this unusual strain2, so that the 1918 pandemic virus could be reconstituted to display its unique virulence phenotypes3,4. However, little is known about adaptive immunity to this virus. We took advantage of the 1918 virus sequencing and the resultant production of recombinant 1918 hemagglutinin (HA) protein antigen to characterize at the clonal level neutralizing antibodies induced by natural exposure of survivors to the 1918 pandemic virus. In our study, each of 32 individuals tested that were born in or before 1915 exhibited seroreactivity with 1918 virus, nearly 90 years after the pandemic. Seven of 8 donor samples tested had circulating B cells that secreted antibodies that bound 1918 HA. We isolated B cells from subjects and generated five monoclonal antibodies that exhibited potent neutralizing activity against 1918 virus from three separate donors. These antibodies also cross-reacted with the genetically similar HA of a 1930 swine H1N1 influenza strain, but not with HAs of more contemporary human influenza viruses. The antibody genes exhibited an unusually high degree of somatic mutation. The antibodies bound to the 1918 HA protein with high affinity, exhibited exceptional virus neutralizing potency, and protected mice from lethal infection. Isolation of viruses that escaped inhibition suggested that the antibodies recognize classical antigenic sites on the HA surface. Thus, these studies reveal that survivors of the 1918 influenza pandemic possess highly functional, virus-neutralizing antibodies to this uniquely virulent virus, and that humans can sustain circulating B memory cells to viruses for many decades after exposure - well into the tenth decade of life.\n",
      "\n",
      "Text with Refs: Investigation of the human antibody response to influenza virus infection has been largely limited to serology, with relatively little analysis at the molecular level. The 1918 H1N1 influenza virus pandemic was the most severe of the modern era1[MHTML::dataref::0]. Recent work has recovered the gene sequences of this unusual strain2[MHTML::dataref::1], so that the 1918 pandemic virus could be reconstituted to display its unique virulence phenotypes3[MHTML::dataref::2],4[MHTML::dataref::3]. However, little is known about adaptive immunity to this virus. We took advantage of the 1918 virus sequencing and the resultant production of recombinant 1918 hemagglutinin (HA) protein antigen to characterize at the clonal level neutralizing antibodies induced by natural exposure of survivors to the 1918 pandemic virus. In our study, each of 32 individuals tested that were born in or before 1915 exhibited seroreactivity with 1918 virus, nearly 90 years after the pandemic. Seven of 8 donor samples tested had circulating B cells that secreted antibodies that bound 1918 HA. We isolated B cells from subjects and generated five monoclonal antibodies that exhibited potent neutralizing activity against 1918 virus from three separate donors. These antibodies also cross-reacted with the genetically similar HA of a 1930 swine H1N1 influenza strain, but not with HAs of more contemporary human influenza viruses. The antibody genes exhibited an unusually high degree of somatic mutation. The antibodies bound to the 1918 HA protein with high affinity, exhibited exceptional virus neutralizing potency, and protected mice from lethal infection. Isolation of viruses that escaped inhibition suggested that the antibodies recognize classical antigenic sites on the HA surface. Thus, these studies reveal that survivors of the 1918 influenza pandemic possess highly functional, virus-neutralizing antibodies to this uniquely virulent virus, and that humans can sustain circulating B memory cells to viruses for many decades after exposure - well into the tenth decade of life.\n"
     ]
    }
   ],
   "metadata": {}
  },
  {
   "cell_type": "code",
   "execution_count": 348,
   "source": [
    "#Quick check that nothing breaks when downloading 50 papers and parsing them\n",
    "import random\n",
    "pmcids = [random.randint(1000000, 9999999) for _ in range(50)]\n",
    "titles = []\n",
    "#Specify creds and PMCID\n",
    "email = \"danielfrees247@gmail.com\"\n",
    "\n",
    "for pmcid in pmcids:\n",
    "    print(f\"Parsing PMCID: {pmcid}\")\n",
    "    p = paper.Paper(pmcid, email, download=False)\n",
    "    titles.append(p.title)\n",
    "\n",
    "print(titles)"
   ],
   "outputs": [
    {
     "output_type": "stream",
     "name": "stdout",
     "text": [
      "Parsing PMCID: 6110852\n"
     ]
    },
    {
     "output_type": "stream",
     "name": "stderr",
     "text": [
      "unexpectedMultipleMatchWarning: Warning! Multiple titles matched. Setting Paper.title to the first match.\n",
      "\n",
      "FutureWarning: The behavior of this method will change in future versions. Use specific 'len(elem)' or 'elem is not None' test instead.\n",
      "\n",
      "unexpectedZeroMatchWarning: No Issue # found for Publication.\n",
      "\n",
      "unexpectedZeroMatchWarning: No First Page # found for Publication.\n",
      "\n",
      "unexpectedZeroMatchWarning: No Last Page # found for Publication.\n",
      "\n",
      "unmatchedFigureWarning: No fig with id F1 found in the ref_map.\n",
      "\n",
      "unmatchedFigureWarning: No fig with id F2 found in the ref_map.\n",
      "\n",
      "unmatchedFigureWarning: No fig with id F3 found in the ref_map.\n",
      "\n",
      "unmatchedFigureWarning: No fig with id F4 found in the ref_map.\n",
      "\n"
     ]
    },
    {
     "output_type": "stream",
     "name": "stdout",
     "text": [
      "Parsing PMCID: 6497629\n"
     ]
    },
    {
     "output_type": "stream",
     "name": "stderr",
     "text": [
      "unexpectedMultipleMatchWarning: Warning! Multiple titles matched. Setting Paper.title to the first match.\n",
      "\n",
      "unexpectedZeroMatchWarning: No Issue # found for Publication.\n",
      "\n",
      "unexpectedZeroMatchWarning: No First Page # found for Publication.\n",
      "\n",
      "unexpectedZeroMatchWarning: No Last Page # found for Publication.\n",
      "\n",
      "FutureWarning: The behavior of this method will change in future versions. Use specific 'len(elem)' or 'elem is not None' test instead.\n",
      "\n"
     ]
    },
    {
     "output_type": "stream",
     "name": "stdout",
     "text": [
      "Parsing PMCID: 1244538\n"
     ]
    },
    {
     "output_type": "stream",
     "name": "stderr",
     "text": [
      "UserWarning: Warning! No <body> tag found. This paper may be abstract only, or the Open Access portion may be abstract only. This also may happen with author manuscripts and other non-final editions.\n",
      "\n",
      "unexpectedZeroMatchWarning: No copyright statement found.\n",
      "\n",
      "unexpectedZeroMatchWarning: No license found.\n",
      "\n"
     ]
    },
    {
     "output_type": "stream",
     "name": "stdout",
     "text": [
      "Parsing PMCID: 4169996\n"
     ]
    },
    {
     "output_type": "stream",
     "name": "stderr",
     "text": [
      "UserWarning: Warning! No <body> tag found. This paper may be abstract only, or the Open Access portion may be abstract only. This also may happen with author manuscripts and other non-final editions.\n",
      "\n",
      "unexpectedZeroMatchWarning: No Issue # found for Publication.\n",
      "\n",
      "unexpectedZeroMatchWarning: No license found.\n",
      "\n"
     ]
    },
    {
     "output_type": "stream",
     "name": "stdout",
     "text": [
      "Parsing PMCID: 7460493\n"
     ]
    },
    {
     "output_type": "stream",
     "name": "stderr",
     "text": [
      "unexpectedMultipleMatchWarning: Warning! Multiple titles matched. Setting Paper.title to the first match.\n",
      "\n",
      "unexpectedTagWarning: Tag of type uri found in a text portion of the provided markup language. Expected only HTML styling tags, or tags from the following list: ['xref', 'fig', 'table-wrap']. Specified unknown tag behavior: keep.\n",
      "\n",
      "unexpectedZeroMatchWarning: No First Page # found for Publication.\n",
      "\n",
      "unexpectedZeroMatchWarning: No Last Page # found for Publication.\n",
      "\n",
      "unmatchedFigureWarning: No fig with id animals-10-01317-f001 found in the ref_map.\n",
      "\n",
      "UserWarning: Unknown reference type: None found in ref_map.\n",
      "\n",
      "unmatchedFigureWarning: No fig with id animals-10-01317-f002 found in the ref_map.\n",
      "\n",
      "unmatchedFigureWarning: No fig with id animals-10-01317-f003 found in the ref_map.\n",
      "\n",
      "unmatchedFigureWarning: No fig with id animals-10-01317-f004 found in the ref_map.\n",
      "\n",
      "unmatchedTableWarning: Table ref unmatched. No table with id animals-10-01317-t001 found in the ref_map.\n",
      "\n",
      "unmatchedTableWarning: Table ref unmatched. No table with id animals-10-01317-t002 found in the ref_map.\n",
      "\n",
      "unmatchedFigureWarning: No fig with id animals-10-01317-f005 found in the ref_map.\n",
      "\n",
      "unmatchedFigureWarning: No fig with id animals-10-01317-f006 found in the ref_map.\n",
      "\n"
     ]
    },
    {
     "output_type": "stream",
     "name": "stdout",
     "text": [
      "Parsing PMCID: 3889674\n"
     ]
    },
    {
     "output_type": "stream",
     "name": "stderr",
     "text": [
      "unexpectedMultipleMatchWarning: Warning! Multiple titles matched. Setting Paper.title to the first match.\n",
      "\n",
      "FutureWarning: The behavior of this method will change in future versions. Use specific 'len(elem)' or 'elem is not None' test instead.\n",
      "\n",
      "FutureWarning: The behavior of this method will change in future versions. Use specific 'len(elem)' or 'elem is not None' test instead.\n",
      "\n"
     ]
    },
    {
     "output_type": "stream",
     "name": "stdout",
     "text": [
      "Parsing PMCID: 3727349\n"
     ]
    },
    {
     "output_type": "stream",
     "name": "stderr",
     "text": [
      "UserWarning: Warning! No <body> tag found. This paper may be abstract only, or the Open Access portion may be abstract only. This also may happen with author manuscripts and other non-final editions.\n",
      "\n",
      "unexpectedZeroMatchWarning: No license found.\n",
      "\n",
      "unmatchedCitationWarning: Citation without matching reference (Citation Allmark, P., 1995. A classical view of the theory–practice gap in nursing. J. Adv. Nurs. 22 (1), 18–23; Hewison, A. et al., 1996. The theory–practice gap in nursing: a new dimension. J. Adv. Nurs. 24 (4), 754–761)!\n",
      "\n"
     ]
    },
    {
     "output_type": "stream",
     "name": "stdout",
     "text": [
      "Parsing PMCID: 4350555\n"
     ]
    },
    {
     "output_type": "stream",
     "name": "stderr",
     "text": [
      "UserWarning: Warning! No <body> tag found. This paper may be abstract only, or the Open Access portion may be abstract only. This also may happen with author manuscripts and other non-final editions.\n",
      "\n",
      "unexpectedZeroMatchWarning: No license found.\n",
      "\n"
     ]
    },
    {
     "output_type": "stream",
     "name": "stdout",
     "text": [
      "Parsing PMCID: 6733209\n"
     ]
    },
    {
     "output_type": "stream",
     "name": "stderr",
     "text": [
      "UserWarning: Warning! Unexpected child with of type title found under an XML <abstract> tag.\n",
      "\n",
      "UserWarning: Warning! No <body> tag found. This paper may be abstract only, or the Open Access portion may be abstract only. This also may happen with author manuscripts and other non-final editions.\n",
      "\n",
      "unexpectedZeroMatchWarning: No license found.\n",
      "\n"
     ]
    },
    {
     "output_type": "stream",
     "name": "stdout",
     "text": [
      "Parsing PMCID: 2011984\n"
     ]
    },
    {
     "output_type": "stream",
     "name": "stderr",
     "text": [
      "unexpectedZeroMatchWarning: Warning! Authors could not be matched\n",
      "\n"
     ]
    },
    {
     "output_type": "error",
     "ename": "ValueError",
     "evalue": "Length mismatch: Expected axis has 0 elements, new values have 5 elements",
     "traceback": [
      "\u001b[0;31m---------------------------------------------------------------------------\u001b[0m",
      "\u001b[0;31mValueError\u001b[0m                                Traceback (most recent call last)",
      "Cell \u001b[0;32mIn[348], line 10\u001b[0m\n\u001b[1;32m      8\u001b[0m \u001b[38;5;28;01mfor\u001b[39;00m pmcid \u001b[38;5;129;01min\u001b[39;00m pmcids:\n\u001b[1;32m      9\u001b[0m     \u001b[38;5;28mprint\u001b[39m(\u001b[38;5;124mf\u001b[39m\u001b[38;5;124m\"\u001b[39m\u001b[38;5;124mParsing PMCID: \u001b[39m\u001b[38;5;132;01m{\u001b[39;00mpmcid\u001b[38;5;132;01m}\u001b[39;00m\u001b[38;5;124m\"\u001b[39m)\n\u001b[0;32m---> 10\u001b[0m     p \u001b[38;5;241m=\u001b[39m \u001b[43mpaper\u001b[49m\u001b[38;5;241;43m.\u001b[39;49m\u001b[43mPaper\u001b[49m\u001b[43m(\u001b[49m\u001b[43mpmcid\u001b[49m\u001b[43m,\u001b[49m\u001b[43m \u001b[49m\u001b[43memail\u001b[49m\u001b[43m,\u001b[49m\u001b[43m \u001b[49m\u001b[43mdownload\u001b[49m\u001b[38;5;241;43m=\u001b[39;49m\u001b[38;5;28;43;01mFalse\u001b[39;49;00m\u001b[43m)\u001b[49m\n\u001b[1;32m     11\u001b[0m     titles\u001b[38;5;241m.\u001b[39mappend(p\u001b[38;5;241m.\u001b[39mtitle)\n\u001b[1;32m     13\u001b[0m \u001b[38;5;28mprint\u001b[39m(titles)\n",
      "File \u001b[0;32m<string>:4\u001b[0m, in \u001b[0;36m__init__\u001b[0;34m(self, pmcid, email, download, validate, verbose)\u001b[0m\n",
      "File \u001b[0;32m~/miniconda3/envs/scrapemed/lib/python3.10/site-packages/sqlalchemy/orm/state.py:481\u001b[0m, in \u001b[0;36mInstanceState._initialize_instance\u001b[0;34m(*mixed, **kwargs)\u001b[0m\n\u001b[1;32m    479\u001b[0m     \u001b[38;5;28;01mreturn\u001b[39;00m manager\u001b[38;5;241m.\u001b[39moriginal_init(\u001b[38;5;241m*\u001b[39mmixed[\u001b[38;5;241m1\u001b[39m:], \u001b[38;5;241m*\u001b[39m\u001b[38;5;241m*\u001b[39mkwargs)\n\u001b[1;32m    480\u001b[0m \u001b[38;5;28;01mexcept\u001b[39;00m:\n\u001b[0;32m--> 481\u001b[0m     \u001b[38;5;28;01mwith\u001b[39;00m util\u001b[38;5;241m.\u001b[39msafe_reraise():\n\u001b[1;32m    482\u001b[0m         manager\u001b[38;5;241m.\u001b[39mdispatch\u001b[38;5;241m.\u001b[39minit_failure(\u001b[38;5;28mself\u001b[39m, args, kwargs)\n",
      "File \u001b[0;32m~/miniconda3/envs/scrapemed/lib/python3.10/site-packages/sqlalchemy/util/langhelpers.py:70\u001b[0m, in \u001b[0;36msafe_reraise.__exit__\u001b[0;34m(self, type_, value, traceback)\u001b[0m\n\u001b[1;32m     68\u001b[0m     \u001b[38;5;28mself\u001b[39m\u001b[38;5;241m.\u001b[39m_exc_info \u001b[38;5;241m=\u001b[39m \u001b[38;5;28;01mNone\u001b[39;00m  \u001b[38;5;66;03m# remove potential circular references\u001b[39;00m\n\u001b[1;32m     69\u001b[0m     \u001b[38;5;28;01mif\u001b[39;00m \u001b[38;5;129;01mnot\u001b[39;00m \u001b[38;5;28mself\u001b[39m\u001b[38;5;241m.\u001b[39mwarn_only:\n\u001b[0;32m---> 70\u001b[0m         \u001b[43mcompat\u001b[49m\u001b[38;5;241;43m.\u001b[39;49m\u001b[43mraise_\u001b[49m\u001b[43m(\u001b[49m\n\u001b[1;32m     71\u001b[0m \u001b[43m            \u001b[49m\u001b[43mexc_value\u001b[49m\u001b[43m,\u001b[49m\n\u001b[1;32m     72\u001b[0m \u001b[43m            \u001b[49m\u001b[43mwith_traceback\u001b[49m\u001b[38;5;241;43m=\u001b[39;49m\u001b[43mexc_tb\u001b[49m\u001b[43m,\u001b[49m\n\u001b[1;32m     73\u001b[0m \u001b[43m        \u001b[49m\u001b[43m)\u001b[49m\n\u001b[1;32m     74\u001b[0m \u001b[38;5;28;01melse\u001b[39;00m:\n\u001b[1;32m     75\u001b[0m     \u001b[38;5;28;01mif\u001b[39;00m \u001b[38;5;129;01mnot\u001b[39;00m compat\u001b[38;5;241m.\u001b[39mpy3k \u001b[38;5;129;01mand\u001b[39;00m \u001b[38;5;28mself\u001b[39m\u001b[38;5;241m.\u001b[39m_exc_info \u001b[38;5;129;01mand\u001b[39;00m \u001b[38;5;28mself\u001b[39m\u001b[38;5;241m.\u001b[39m_exc_info[\u001b[38;5;241m1\u001b[39m]:\n\u001b[1;32m     76\u001b[0m         \u001b[38;5;66;03m# emulate Py3K's behavior of telling us when an exception\u001b[39;00m\n\u001b[1;32m     77\u001b[0m         \u001b[38;5;66;03m# occurs in an exception handler.\u001b[39;00m\n",
      "File \u001b[0;32m~/miniconda3/envs/scrapemed/lib/python3.10/site-packages/sqlalchemy/util/compat.py:208\u001b[0m, in \u001b[0;36mraise_\u001b[0;34m(***failed resolving arguments***)\u001b[0m\n\u001b[1;32m    205\u001b[0m     exception\u001b[38;5;241m.\u001b[39m__cause__ \u001b[38;5;241m=\u001b[39m replace_context\n\u001b[1;32m    207\u001b[0m \u001b[38;5;28;01mtry\u001b[39;00m:\n\u001b[0;32m--> 208\u001b[0m     \u001b[38;5;28;01mraise\u001b[39;00m exception\n\u001b[1;32m    209\u001b[0m \u001b[38;5;28;01mfinally\u001b[39;00m:\n\u001b[1;32m    210\u001b[0m     \u001b[38;5;66;03m# credit to\u001b[39;00m\n\u001b[1;32m    211\u001b[0m     \u001b[38;5;66;03m# https://cosmicpercolator.com/2016/01/13/exception-leaks-in-python-2-and-3/\u001b[39;00m\n\u001b[1;32m    212\u001b[0m     \u001b[38;5;66;03m# as the __traceback__ object creates a cycle\u001b[39;00m\n\u001b[1;32m    213\u001b[0m     \u001b[38;5;28;01mdel\u001b[39;00m exception, replace_context, from_, with_traceback\n",
      "File \u001b[0;32m~/miniconda3/envs/scrapemed/lib/python3.10/site-packages/sqlalchemy/orm/state.py:479\u001b[0m, in \u001b[0;36mInstanceState._initialize_instance\u001b[0;34m(*mixed, **kwargs)\u001b[0m\n\u001b[1;32m    476\u001b[0m manager\u001b[38;5;241m.\u001b[39mdispatch\u001b[38;5;241m.\u001b[39minit(\u001b[38;5;28mself\u001b[39m, args, kwargs)\n\u001b[1;32m    478\u001b[0m \u001b[38;5;28;01mtry\u001b[39;00m:\n\u001b[0;32m--> 479\u001b[0m     \u001b[38;5;28;01mreturn\u001b[39;00m \u001b[43mmanager\u001b[49m\u001b[38;5;241;43m.\u001b[39;49m\u001b[43moriginal_init\u001b[49m\u001b[43m(\u001b[49m\u001b[38;5;241;43m*\u001b[39;49m\u001b[43mmixed\u001b[49m\u001b[43m[\u001b[49m\u001b[38;5;241;43m1\u001b[39;49m\u001b[43m:\u001b[49m\u001b[43m]\u001b[49m\u001b[43m,\u001b[49m\u001b[43m \u001b[49m\u001b[38;5;241;43m*\u001b[39;49m\u001b[38;5;241;43m*\u001b[39;49m\u001b[43mkwargs\u001b[49m\u001b[43m)\u001b[49m\n\u001b[1;32m    480\u001b[0m \u001b[38;5;28;01mexcept\u001b[39;00m:\n\u001b[1;32m    481\u001b[0m     \u001b[38;5;28;01mwith\u001b[39;00m util\u001b[38;5;241m.\u001b[39msafe_reraise():\n",
      "File \u001b[0;32m~/Desktop/Open Source Projects/scrapemed/notebooks/../../scrapemed/scrapemed/paper.py:28\u001b[0m, in \u001b[0;36mPaper.__init__\u001b[0;34m(self, pmcid, email, download, validate, verbose)\u001b[0m\n\u001b[1;32m     27\u001b[0m \u001b[38;5;28;01mdef\u001b[39;00m \u001b[38;5;21m__init__\u001b[39m(\u001b[38;5;28mself\u001b[39m, pmcid:\u001b[38;5;28mint\u001b[39m, email:\u001b[38;5;28mstr\u001b[39m, download:\u001b[38;5;28mbool\u001b[39m\u001b[38;5;241m=\u001b[39m\u001b[38;5;28;01mFalse\u001b[39;00m, validate:\u001b[38;5;28mbool\u001b[39m\u001b[38;5;241m=\u001b[39m\u001b[38;5;28;01mTrue\u001b[39;00m, verbose:\u001b[38;5;28mbool\u001b[39m\u001b[38;5;241m=\u001b[39m\u001b[38;5;28;01mFalse\u001b[39;00m):\n\u001b[0;32m---> 28\u001b[0m     paper_dict \u001b[38;5;241m=\u001b[39m \u001b[43mparse\u001b[49m\u001b[38;5;241;43m.\u001b[39;49m\u001b[43mgenerate_paper_dict\u001b[49m\u001b[43m(\u001b[49m\u001b[43mpmcid\u001b[49m\u001b[38;5;241;43m=\u001b[39;49m\u001b[43mpmcid\u001b[49m\u001b[43m,\u001b[49m\u001b[43m \u001b[49m\u001b[43memail\u001b[49m\u001b[38;5;241;43m=\u001b[39;49m\u001b[43memail\u001b[49m\u001b[43m,\u001b[49m\u001b[43m \u001b[49m\u001b[43mdownload\u001b[49m\u001b[38;5;241;43m=\u001b[39;49m\u001b[43mdownload\u001b[49m\u001b[43m,\u001b[49m\u001b[43m \u001b[49m\u001b[43mvalidate\u001b[49m\u001b[38;5;241;43m=\u001b[39;49m\u001b[43mvalidate\u001b[49m\u001b[43m,\u001b[49m\u001b[43m \u001b[49m\u001b[43mverbose\u001b[49m\u001b[38;5;241;43m=\u001b[39;49m\u001b[43mverbose\u001b[49m\u001b[43m)\u001b[49m\n\u001b[1;32m     30\u001b[0m     \u001b[38;5;28mself\u001b[39m\u001b[38;5;241m.\u001b[39mtitle \u001b[38;5;241m=\u001b[39m paper_dict[\u001b[38;5;124m'\u001b[39m\u001b[38;5;124mTitle\u001b[39m\u001b[38;5;124m'\u001b[39m]\n\u001b[1;32m     31\u001b[0m     \u001b[38;5;28mself\u001b[39m\u001b[38;5;241m.\u001b[39mauthors \u001b[38;5;241m=\u001b[39m paper_dict[\u001b[38;5;124m'\u001b[39m\u001b[38;5;124mAuthors\u001b[39m\u001b[38;5;124m'\u001b[39m]\n",
      "File \u001b[0;32m~/Desktop/Open Source Projects/scrapemed/notebooks/../../scrapemed/scrapemed/_parse.py:84\u001b[0m, in \u001b[0;36mgenerate_paper_dict\u001b[0;34m(pmcid, email, download, validate, verbose)\u001b[0m\n\u001b[1;32m     79\u001b[0m ref_map \u001b[38;5;241m=\u001b[39m basicBiMap()\n\u001b[1;32m     81\u001b[0m \u001b[38;5;66;03m#STORE EXTRACTED INFO IN PAPER DICT\u001b[39;00m\n\u001b[1;32m     82\u001b[0m paper_dict \u001b[38;5;241m=\u001b[39m {\n\u001b[1;32m     83\u001b[0m     \u001b[38;5;124m'\u001b[39m\u001b[38;5;124mTitle\u001b[39m\u001b[38;5;124m'\u001b[39m: gather_title(root),\n\u001b[0;32m---> 84\u001b[0m     \u001b[38;5;124m'\u001b[39m\u001b[38;5;124mAuthors\u001b[39m\u001b[38;5;124m'\u001b[39m: \u001b[43mgather_authors\u001b[49m\u001b[43m(\u001b[49m\u001b[43mroot\u001b[49m\u001b[43m)\u001b[49m,\n\u001b[1;32m     85\u001b[0m     \u001b[38;5;124m'\u001b[39m\u001b[38;5;124mNon-Author Contributors\u001b[39m\u001b[38;5;124m'\u001b[39m: gather_non_author_contributors(root),\n\u001b[1;32m     86\u001b[0m     \u001b[38;5;124m'\u001b[39m\u001b[38;5;124mAbstract\u001b[39m\u001b[38;5;124m'\u001b[39m: gather_abstract(root, ref_map),\n\u001b[1;32m     87\u001b[0m     \u001b[38;5;124m'\u001b[39m\u001b[38;5;124mBody\u001b[39m\u001b[38;5;124m'\u001b[39m: gather_body(root, ref_map),\n\u001b[1;32m     88\u001b[0m     \u001b[38;5;124m'\u001b[39m\u001b[38;5;124mJournal ID\u001b[39m\u001b[38;5;124m'\u001b[39m: gather_journal_id(root),\n\u001b[1;32m     89\u001b[0m     \u001b[38;5;124m'\u001b[39m\u001b[38;5;124mJournal Title\u001b[39m\u001b[38;5;124m'\u001b[39m: gather_journal_title(root),\n\u001b[1;32m     90\u001b[0m     \u001b[38;5;124m'\u001b[39m\u001b[38;5;124mISSN\u001b[39m\u001b[38;5;124m'\u001b[39m: gather_issn(root),\n\u001b[1;32m     91\u001b[0m     \u001b[38;5;124m'\u001b[39m\u001b[38;5;124mPublisher Name\u001b[39m\u001b[38;5;124m'\u001b[39m: gather_publisher_name(root),\n\u001b[1;32m     92\u001b[0m     \u001b[38;5;124m'\u001b[39m\u001b[38;5;124mPublisher Location\u001b[39m\u001b[38;5;124m'\u001b[39m: gather_publisher_location(root),\n\u001b[1;32m     93\u001b[0m     \u001b[38;5;124m'\u001b[39m\u001b[38;5;124mArticle ID\u001b[39m\u001b[38;5;124m'\u001b[39m: gather_article_id(root),\n\u001b[1;32m     94\u001b[0m     \u001b[38;5;124m'\u001b[39m\u001b[38;5;124mArticle Types\u001b[39m\u001b[38;5;124m'\u001b[39m: gather_article_types(root),\n\u001b[1;32m     95\u001b[0m     \u001b[38;5;124m'\u001b[39m\u001b[38;5;124mArticle Categories\u001b[39m\u001b[38;5;124m'\u001b[39m: gather_article_categories(root),\n\u001b[1;32m     96\u001b[0m     \u001b[38;5;124m'\u001b[39m\u001b[38;5;124mPublished Date\u001b[39m\u001b[38;5;124m'\u001b[39m: gather_published_date(root),\n\u001b[1;32m     97\u001b[0m     \u001b[38;5;124m'\u001b[39m\u001b[38;5;124mVolume\u001b[39m\u001b[38;5;124m'\u001b[39m: gather_volume(root),\n\u001b[1;32m     98\u001b[0m     \u001b[38;5;124m'\u001b[39m\u001b[38;5;124mIssue\u001b[39m\u001b[38;5;124m'\u001b[39m: gather_issue(root),\n\u001b[1;32m     99\u001b[0m     \u001b[38;5;124m'\u001b[39m\u001b[38;5;124mFirst Page\u001b[39m\u001b[38;5;124m'\u001b[39m: gather_fpage(root),\n\u001b[1;32m    100\u001b[0m     \u001b[38;5;124m'\u001b[39m\u001b[38;5;124mLast Page\u001b[39m\u001b[38;5;124m'\u001b[39m: gather_lpage(root),\n\u001b[1;32m    101\u001b[0m     \u001b[38;5;124m'\u001b[39m\u001b[38;5;124mPermissions\u001b[39m\u001b[38;5;124m'\u001b[39m: gather_permissions(root),\n\u001b[1;32m    102\u001b[0m     \u001b[38;5;124m'\u001b[39m\u001b[38;5;124mFunding\u001b[39m\u001b[38;5;124m'\u001b[39m: gather_funding(root),\n\u001b[1;32m    103\u001b[0m     \u001b[38;5;124m'\u001b[39m\u001b[38;5;124mFootnote\u001b[39m\u001b[38;5;124m'\u001b[39m: gather_footnote(root),\n\u001b[1;32m    104\u001b[0m     \u001b[38;5;124m'\u001b[39m\u001b[38;5;124mAcknowledgements\u001b[39m\u001b[38;5;124m'\u001b[39m: gather_acknowledgements(root),\n\u001b[1;32m    105\u001b[0m     \u001b[38;5;124m'\u001b[39m\u001b[38;5;124mNotes\u001b[39m\u001b[38;5;124m'\u001b[39m: gather_notes(root),\n\u001b[1;32m    106\u001b[0m     \u001b[38;5;124m'\u001b[39m\u001b[38;5;124mCustom Meta\u001b[39m\u001b[38;5;124m'\u001b[39m: gather_custom_metadata(root),\n\u001b[1;32m    107\u001b[0m     \u001b[38;5;124m'\u001b[39m\u001b[38;5;124mRef Map With Tags\u001b[39m\u001b[38;5;124m'\u001b[39m: copy\u001b[38;5;241m.\u001b[39mdeepcopy(ref_map),\n\u001b[1;32m    108\u001b[0m     \u001b[38;5;124m'\u001b[39m\u001b[38;5;124mRef Map\u001b[39m\u001b[38;5;124m'\u001b[39m: _clean_ref_map(paper_root \u001b[38;5;241m=\u001b[39m root, ref_map \u001b[38;5;241m=\u001b[39m ref_map),\n\u001b[1;32m    109\u001b[0m }\n\u001b[1;32m    111\u001b[0m citations, tables, figures \u001b[38;5;241m=\u001b[39m _split_citations_tables_figs(paper_dict[\u001b[38;5;124m'\u001b[39m\u001b[38;5;124mRef Map\u001b[39m\u001b[38;5;124m'\u001b[39m])\n\u001b[1;32m    112\u001b[0m paper_dict[\u001b[38;5;124m'\u001b[39m\u001b[38;5;124mCitations\u001b[39m\u001b[38;5;124m'\u001b[39m] \u001b[38;5;241m=\u001b[39m citations\n",
      "File \u001b[0;32m~/Desktop/Open Source Projects/scrapemed/notebooks/../../scrapemed/scrapemed/_parse.py:232\u001b[0m, in \u001b[0;36mgather_authors\u001b[0;34m(root)\u001b[0m\n\u001b[1;32m    229\u001b[0m author_tuples \u001b[38;5;241m=\u001b[39m _get_contributor_tuples(root\u001b[38;5;241m=\u001b[39mroot, contributors\u001b[38;5;241m=\u001b[39mauthors)\n\u001b[1;32m    231\u001b[0m authors_df \u001b[38;5;241m=\u001b[39m pd\u001b[38;5;241m.\u001b[39mDataFrame(author_tuples)\n\u001b[0;32m--> 232\u001b[0m authors_df\u001b[38;5;241m.\u001b[39mcolumns \u001b[38;5;241m=\u001b[39m [\u001b[38;5;124m'\u001b[39m\u001b[38;5;124mContributor_Type\u001b[39m\u001b[38;5;124m'\u001b[39m, \u001b[38;5;124m'\u001b[39m\u001b[38;5;124mFirst_Name\u001b[39m\u001b[38;5;124m'\u001b[39m, \u001b[38;5;124m'\u001b[39m\u001b[38;5;124mLast_Name\u001b[39m\u001b[38;5;124m'\u001b[39m, \u001b[38;5;124m'\u001b[39m\u001b[38;5;124mEmail_Address\u001b[39m\u001b[38;5;124m'\u001b[39m, \u001b[38;5;124m'\u001b[39m\u001b[38;5;124mAffiliations\u001b[39m\u001b[38;5;124m'\u001b[39m]\n\u001b[1;32m    234\u001b[0m \u001b[38;5;28;01mreturn\u001b[39;00m authors_df\n",
      "File \u001b[0;32m~/miniconda3/envs/scrapemed/lib/python3.10/site-packages/pandas/core/generic.py:5915\u001b[0m, in \u001b[0;36mNDFrame.__setattr__\u001b[0;34m(self, name, value)\u001b[0m\n\u001b[1;32m   5913\u001b[0m \u001b[38;5;28;01mtry\u001b[39;00m:\n\u001b[1;32m   5914\u001b[0m     \u001b[38;5;28mobject\u001b[39m\u001b[38;5;241m.\u001b[39m\u001b[38;5;21m__getattribute__\u001b[39m(\u001b[38;5;28mself\u001b[39m, name)\n\u001b[0;32m-> 5915\u001b[0m     \u001b[38;5;28;01mreturn\u001b[39;00m \u001b[38;5;28;43mobject\u001b[39;49m\u001b[38;5;241;43m.\u001b[39;49m\u001b[38;5;21;43m__setattr__\u001b[39;49m\u001b[43m(\u001b[49m\u001b[38;5;28;43mself\u001b[39;49m\u001b[43m,\u001b[49m\u001b[43m \u001b[49m\u001b[43mname\u001b[49m\u001b[43m,\u001b[49m\u001b[43m \u001b[49m\u001b[43mvalue\u001b[49m\u001b[43m)\u001b[49m\n\u001b[1;32m   5916\u001b[0m \u001b[38;5;28;01mexcept\u001b[39;00m \u001b[38;5;167;01mAttributeError\u001b[39;00m:\n\u001b[1;32m   5917\u001b[0m     \u001b[38;5;28;01mpass\u001b[39;00m\n",
      "File \u001b[0;32m~/miniconda3/envs/scrapemed/lib/python3.10/site-packages/pandas/_libs/properties.pyx:69\u001b[0m, in \u001b[0;36mpandas._libs.properties.AxisProperty.__set__\u001b[0;34m()\u001b[0m\n",
      "File \u001b[0;32m~/miniconda3/envs/scrapemed/lib/python3.10/site-packages/pandas/core/generic.py:823\u001b[0m, in \u001b[0;36mNDFrame._set_axis\u001b[0;34m(self, axis, labels)\u001b[0m\n\u001b[1;32m    821\u001b[0m \u001b[38;5;28;01mdef\u001b[39;00m \u001b[38;5;21m_set_axis\u001b[39m(\u001b[38;5;28mself\u001b[39m, axis: \u001b[38;5;28mint\u001b[39m, labels: AnyArrayLike \u001b[38;5;241m|\u001b[39m \u001b[38;5;28mlist\u001b[39m) \u001b[38;5;241m-\u001b[39m\u001b[38;5;241m>\u001b[39m \u001b[38;5;28;01mNone\u001b[39;00m:\n\u001b[1;32m    822\u001b[0m     labels \u001b[38;5;241m=\u001b[39m ensure_index(labels)\n\u001b[0;32m--> 823\u001b[0m     \u001b[38;5;28;43mself\u001b[39;49m\u001b[38;5;241;43m.\u001b[39;49m\u001b[43m_mgr\u001b[49m\u001b[38;5;241;43m.\u001b[39;49m\u001b[43mset_axis\u001b[49m\u001b[43m(\u001b[49m\u001b[43maxis\u001b[49m\u001b[43m,\u001b[49m\u001b[43m \u001b[49m\u001b[43mlabels\u001b[49m\u001b[43m)\u001b[49m\n\u001b[1;32m    824\u001b[0m     \u001b[38;5;28mself\u001b[39m\u001b[38;5;241m.\u001b[39m_clear_item_cache()\n",
      "File \u001b[0;32m~/miniconda3/envs/scrapemed/lib/python3.10/site-packages/pandas/core/internals/managers.py:230\u001b[0m, in \u001b[0;36mBaseBlockManager.set_axis\u001b[0;34m(self, axis, new_labels)\u001b[0m\n\u001b[1;32m    228\u001b[0m \u001b[38;5;28;01mdef\u001b[39;00m \u001b[38;5;21mset_axis\u001b[39m(\u001b[38;5;28mself\u001b[39m, axis: \u001b[38;5;28mint\u001b[39m, new_labels: Index) \u001b[38;5;241m-\u001b[39m\u001b[38;5;241m>\u001b[39m \u001b[38;5;28;01mNone\u001b[39;00m:\n\u001b[1;32m    229\u001b[0m     \u001b[38;5;66;03m# Caller is responsible for ensuring we have an Index object.\u001b[39;00m\n\u001b[0;32m--> 230\u001b[0m     \u001b[38;5;28;43mself\u001b[39;49m\u001b[38;5;241;43m.\u001b[39;49m\u001b[43m_validate_set_axis\u001b[49m\u001b[43m(\u001b[49m\u001b[43maxis\u001b[49m\u001b[43m,\u001b[49m\u001b[43m \u001b[49m\u001b[43mnew_labels\u001b[49m\u001b[43m)\u001b[49m\n\u001b[1;32m    231\u001b[0m     \u001b[38;5;28mself\u001b[39m\u001b[38;5;241m.\u001b[39maxes[axis] \u001b[38;5;241m=\u001b[39m new_labels\n",
      "File \u001b[0;32m~/miniconda3/envs/scrapemed/lib/python3.10/site-packages/pandas/core/internals/base.py:70\u001b[0m, in \u001b[0;36mDataManager._validate_set_axis\u001b[0;34m(self, axis, new_labels)\u001b[0m\n\u001b[1;32m     67\u001b[0m     \u001b[38;5;28;01mpass\u001b[39;00m\n\u001b[1;32m     69\u001b[0m \u001b[38;5;28;01melif\u001b[39;00m new_len \u001b[38;5;241m!=\u001b[39m old_len:\n\u001b[0;32m---> 70\u001b[0m     \u001b[38;5;28;01mraise\u001b[39;00m \u001b[38;5;167;01mValueError\u001b[39;00m(\n\u001b[1;32m     71\u001b[0m         \u001b[38;5;124mf\u001b[39m\u001b[38;5;124m\"\u001b[39m\u001b[38;5;124mLength mismatch: Expected axis has \u001b[39m\u001b[38;5;132;01m{\u001b[39;00mold_len\u001b[38;5;132;01m}\u001b[39;00m\u001b[38;5;124m elements, new \u001b[39m\u001b[38;5;124m\"\u001b[39m\n\u001b[1;32m     72\u001b[0m         \u001b[38;5;124mf\u001b[39m\u001b[38;5;124m\"\u001b[39m\u001b[38;5;124mvalues have \u001b[39m\u001b[38;5;132;01m{\u001b[39;00mnew_len\u001b[38;5;132;01m}\u001b[39;00m\u001b[38;5;124m elements\u001b[39m\u001b[38;5;124m\"\u001b[39m\n\u001b[1;32m     73\u001b[0m     )\n",
      "\u001b[0;31mValueError\u001b[0m: Length mismatch: Expected axis has 0 elements, new values have 5 elements"
     ]
    }
   ],
   "metadata": {}
  },
  {
   "cell_type": "code",
   "execution_count": null,
   "source": [],
   "outputs": [],
   "metadata": {}
  },
  {
   "cell_type": "code",
   "execution_count": null,
   "source": [],
   "outputs": [],
   "metadata": {}
  },
  {
   "cell_type": "code",
   "execution_count": null,
   "source": [],
   "outputs": [],
   "metadata": {}
  }
 ],
 "metadata": {
  "orig_nbformat": 4,
  "language_info": {
   "name": "python",
   "version": "3.10.9",
   "mimetype": "text/x-python",
   "codemirror_mode": {
    "name": "ipython",
    "version": 3
   },
   "pygments_lexer": "ipython3",
   "nbconvert_exporter": "python",
   "file_extension": ".py"
  },
  "kernelspec": {
   "name": "python3",
   "display_name": "Python 3.10.9 64-bit ('scrapemed': conda)"
  },
  "interpreter": {
   "hash": "427d4943968a1e3fc165f884a0cbd733d19eb316925f7601ef95e6c86f630a99"
  }
 },
 "nbformat": 4,
 "nbformat_minor": 2
}