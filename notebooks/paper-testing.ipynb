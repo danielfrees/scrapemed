{
 "cells": [
  {
   "cell_type": "code",
   "execution_count": 564,
   "source": [
    "%load_ext autoreload\n",
    "%autoreload 2\n",
    "import sys\n",
    "sys.path.insert(0, \"../../scrapemed\")\n",
    "\n",
    "import scrapemed.paper as paper\n",
    "import pandas as pd\n",
    "import lxml"
   ],
   "outputs": [
    {
     "output_type": "stream",
     "name": "stdout",
     "text": [
      "The autoreload extension is already loaded. To reload it, use:\n",
      "  %reload_ext autoreload\n"
     ]
    }
   ],
   "metadata": {}
  },
  {
   "cell_type": "code",
   "execution_count": 565,
   "source": [
    "#Specify creds and PMCID\n",
    "PMCID = 7067710\n",
    "email = \"danielfrees247@gmail.com\"\n",
    "\n",
    "p = paper.Paper(PMCID, email, download=True)"
   ],
   "outputs": [
    {
     "output_type": "stream",
     "name": "stderr",
     "text": [
      "unexpectedTagWarning: \"Tag of type sc found in a text portion of the provided markup language. Expected only HTML styling tags, or tags from the following list: ['xref', 'fig', 'table-wrap']. Specified unknown tag behavior: keep. Warning occured in a text section with id: Par6.\"\n",
      "\n"
     ]
    }
   ],
   "metadata": {}
  },
  {
   "cell_type": "code",
   "execution_count": 566,
   "source": [
    "p.title"
   ],
   "outputs": [
    {
     "output_type": "execute_result",
     "data": {
      "text/plain": [
       "'Phase I Pharmacokinetic Study of Fixed-Dose Combinations of Ibuprofen and Acetaminophen in Healthy Adult and Adolescent Populations'"
      ]
     },
     "metadata": {},
     "execution_count": 566
    }
   ],
   "metadata": {}
  },
  {
   "cell_type": "code",
   "execution_count": 567,
   "source": [
    "pd.options.display.max_colwidth = 200\n",
    "p.authors"
   ],
   "outputs": [
    {
     "output_type": "execute_result",
     "data": {
      "text/html": [
       "<div>\n",
       "<style scoped>\n",
       "    .dataframe tbody tr th:only-of-type {\n",
       "        vertical-align: middle;\n",
       "    }\n",
       "\n",
       "    .dataframe tbody tr th {\n",
       "        vertical-align: top;\n",
       "    }\n",
       "\n",
       "    .dataframe thead th {\n",
       "        text-align: right;\n",
       "    }\n",
       "</style>\n",
       "<table border=\"1\" class=\"dataframe\">\n",
       "  <thead>\n",
       "    <tr style=\"text-align: right;\">\n",
       "      <th></th>\n",
       "      <th>Contributor_Type</th>\n",
       "      <th>First_Name</th>\n",
       "      <th>Last_Name</th>\n",
       "      <th>Email_Address</th>\n",
       "      <th>Affiliations</th>\n",
       "    </tr>\n",
       "  </thead>\n",
       "  <tbody>\n",
       "    <tr>\n",
       "      <th>0</th>\n",
       "      <td>Author</td>\n",
       "      <td>Sanela</td>\n",
       "      <td>Tarabar</td>\n",
       "      <td>Sanela.Tarabar@pfizer.com</td>\n",
       "      <td>[Aff1: Pfizer New Haven Clinical Research Unit, New Haven, CT USA, Aff6: Clinical Research and Development, KS1, 1 Portland Street, Cambridge, MA 02139 USA]</td>\n",
       "    </tr>\n",
       "    <tr>\n",
       "      <th>1</th>\n",
       "      <td>Author</td>\n",
       "      <td>Debra</td>\n",
       "      <td>Kelsh</td>\n",
       "      <td>None</td>\n",
       "      <td>[Aff2: Altasciences/Vince and Associates Clinical Research, Overland Park, KS USA]</td>\n",
       "    </tr>\n",
       "    <tr>\n",
       "      <th>2</th>\n",
       "      <td>Author</td>\n",
       "      <td>Bradley</td>\n",
       "      <td>Vince</td>\n",
       "      <td>None</td>\n",
       "      <td>[Aff2: Altasciences/Vince and Associates Clinical Research, Overland Park, KS USA]</td>\n",
       "    </tr>\n",
       "    <tr>\n",
       "      <th>3</th>\n",
       "      <td>Author</td>\n",
       "      <td>Rina</td>\n",
       "      <td>Leyva</td>\n",
       "      <td>None</td>\n",
       "      <td>[Aff3: Pfizer Consumer Healthcare, Madison, NJ USA]</td>\n",
       "    </tr>\n",
       "    <tr>\n",
       "      <th>4</th>\n",
       "      <td>Author</td>\n",
       "      <td>Dongweon</td>\n",
       "      <td>Song</td>\n",
       "      <td>None</td>\n",
       "      <td>[Aff4: Pfizer Inc., Collegeville, PA USA]</td>\n",
       "    </tr>\n",
       "    <tr>\n",
       "      <th>5</th>\n",
       "      <td>Author</td>\n",
       "      <td>Kyle</td>\n",
       "      <td>Matschke</td>\n",
       "      <td>None</td>\n",
       "      <td>[Aff4: Pfizer Inc., Collegeville, PA USA]</td>\n",
       "    </tr>\n",
       "    <tr>\n",
       "      <th>6</th>\n",
       "      <td>Author</td>\n",
       "      <td>David E.</td>\n",
       "      <td>Kellstein</td>\n",
       "      <td>None</td>\n",
       "      <td>[Aff5: Pfizer Consumer Healthcare, Madison, NJ USA]</td>\n",
       "    </tr>\n",
       "    <tr>\n",
       "      <th>7</th>\n",
       "      <td>Author</td>\n",
       "      <td>Suzanne</td>\n",
       "      <td>Meeves</td>\n",
       "      <td>None</td>\n",
       "      <td>[Aff5: Pfizer Consumer Healthcare, Madison, NJ USA]</td>\n",
       "    </tr>\n",
       "    <tr>\n",
       "      <th>8</th>\n",
       "      <td>Author</td>\n",
       "      <td>Mario</td>\n",
       "      <td>Cruz-Rivera</td>\n",
       "      <td>None</td>\n",
       "      <td>[Aff5: Pfizer Consumer Healthcare, Madison, NJ USA]</td>\n",
       "    </tr>\n",
       "  </tbody>\n",
       "</table>\n",
       "</div>"
      ],
      "text/plain": [
       "  Contributor_Type First_Name    Last_Name              Email_Address  \\\n",
       "0           Author     Sanela      Tarabar  Sanela.Tarabar@pfizer.com   \n",
       "1           Author      Debra        Kelsh                       None   \n",
       "2           Author    Bradley        Vince                       None   \n",
       "3           Author       Rina        Leyva                       None   \n",
       "4           Author   Dongweon         Song                       None   \n",
       "5           Author       Kyle     Matschke                       None   \n",
       "6           Author   David E.    Kellstein                       None   \n",
       "7           Author    Suzanne       Meeves                       None   \n",
       "8           Author      Mario  Cruz-Rivera                       None   \n",
       "\n",
       "                                                                                                                                                   Affiliations  \n",
       "0  [Aff1: Pfizer New Haven Clinical Research Unit, New Haven, CT USA, Aff6: Clinical Research and Development, KS1, 1 Portland Street, Cambridge, MA 02139 USA]  \n",
       "1                                                                            [Aff2: Altasciences/Vince and Associates Clinical Research, Overland Park, KS USA]  \n",
       "2                                                                            [Aff2: Altasciences/Vince and Associates Clinical Research, Overland Park, KS USA]  \n",
       "3                                                                                                           [Aff3: Pfizer Consumer Healthcare, Madison, NJ USA]  \n",
       "4                                                                                                                     [Aff4: Pfizer Inc., Collegeville, PA USA]  \n",
       "5                                                                                                                     [Aff4: Pfizer Inc., Collegeville, PA USA]  \n",
       "6                                                                                                           [Aff5: Pfizer Consumer Healthcare, Madison, NJ USA]  \n",
       "7                                                                                                           [Aff5: Pfizer Consumer Healthcare, Madison, NJ USA]  \n",
       "8                                                                                                           [Aff5: Pfizer Consumer Healthcare, Madison, NJ USA]  "
      ]
     },
     "metadata": {},
     "execution_count": 567
    }
   ],
   "metadata": {}
  },
  {
   "cell_type": "code",
   "execution_count": 568,
   "source": [
    "print(p.non_author_contributors)"
   ],
   "outputs": [
    {
     "output_type": "stream",
     "name": "stdout",
     "text": [
      "No non-author contributors were found after parsing this paper.\n"
     ]
    }
   ],
   "metadata": {}
  },
  {
   "cell_type": "code",
   "execution_count": 569,
   "source": [
    "for sec in p.abstract:\n",
    "    print(sec)"
   ],
   "outputs": [
    {
     "output_type": "stream",
     "name": "stdout",
     "text": [
      "SECTION: Introduction:\n",
      "\n",
      "A fixed-dose combination (FDC) of ibuprofen and acetaminophen has been developed that provides greater analgesic efficacy than either agent alone at the same doses without increasing the risk for adverse events.\n",
      "\n",
      "SECTION: Methods:\n",
      "\n",
      "We report three clinical phase I studies designed to assess the pharmacokinetics (PK) of the FDC of ibuprofen/acetaminophen 250/500 mg (administered as two tablets of ibuprofen 125 mg/acetaminophen 250 mg) in comparison with its individual components administered alone or together, and to determine the effect of food on the PK of the FDC. Two studies in healthy adults aged 18–55 years used a crossover design in which subjects received a single dose of each treatment with a 2-day washout period between each. In the third study, the bioavailability of ibuprofen and acetaminophen from a single oral dose of the FDC was assessed in healthy adolescents aged 12–17 years, inclusive.\n",
      "\n",
      "SECTION: Results:\n",
      "\n",
      "A total of 35 and 46 subjects were enrolled in the two adult studies, respectively, and 21 were enrolled in the adolescent study. Ibuprofen and acetaminophen in the FDC were bioequivalent to the monocomponents administered alone or together. With food, the maximum concentration (C_max) for ibuprofen and acetaminophen from the FDC was reduced by 36% and 37%, respectively, and time to C_max (i.e. t_max) was delayed. Overall drug exposure to ibuprofen or acetaminophen in the fed versus fasted states was similar. In adolescents, overall exposure to acetaminophen and ibuprofen was comparable with that in adults, with a slightly higher overall exposure to ibuprofen. Exposure to acetaminophen and ibuprofen in adolescents aged 12–14 years was slightly higher versus those aged 15–17 years. Adverse events were similar across all treatment groups.\n",
      "\n",
      "SECTION: Conclusions:\n",
      "\n",
      "The FDC of ibuprofen/acetaminophen 250/500 mg has a PK profile similar to its monocomponent constituents when administered separately or coadministered, indicating no drug–drug interactions and no formulation effects. Similar to previous findings for the individual components, the rates of absorption of ibuprofen and acetaminophen from the FDC were slightly delayed in the presence of food. Overall, adolescents had similar exposures to acetaminophen and ibuprofen as adults, while younger adolescents had slightly greater exposure than older adolescents, probably due to their smaller body size. The FDC was generally well tolerated.\n",
      "\n"
     ]
    }
   ],
   "metadata": {}
  },
  {
   "cell_type": "code",
   "execution_count": 570,
   "source": [
    "for par in p.abstract:\n",
    "    print(\"Text: \" + par.text)\n",
    "    print()\n",
    "    print(\"Text with Refs: \" + par.text_with_refs)"
   ],
   "outputs": [
    {
     "output_type": "stream",
     "name": "stdout",
     "text": [
      "Text: SECTION: Introduction:\n",
      "\n",
      "A fixed-dose combination (FDC) of ibuprofen and acetaminophen has been developed that provides greater analgesic efficacy than either agent alone at the same doses without increasing the risk for adverse events.\n",
      "\n",
      "\n",
      "Text with Refs: SECTION: Introduction:\n",
      "\n",
      "A fixed-dose combination (FDC) of ibuprofen and acetaminophen has been developed that provides greater analgesic efficacy than either agent alone at the same doses without increasing the risk for adverse events.\n",
      "\n",
      "Text: SECTION: Methods:\n",
      "\n",
      "We report three clinical phase I studies designed to assess the pharmacokinetics (PK) of the FDC of ibuprofen/acetaminophen 250/500 mg (administered as two tablets of ibuprofen 125 mg/acetaminophen 250 mg) in comparison with its individual components administered alone or together, and to determine the effect of food on the PK of the FDC. Two studies in healthy adults aged 18–55 years used a crossover design in which subjects received a single dose of each treatment with a 2-day washout period between each. In the third study, the bioavailability of ibuprofen and acetaminophen from a single oral dose of the FDC was assessed in healthy adolescents aged 12–17 years, inclusive.\n",
      "\n",
      "\n",
      "Text with Refs: SECTION: Methods:\n",
      "\n",
      "We report three clinical phase I studies designed to assess the pharmacokinetics (PK) of the FDC of ibuprofen/acetaminophen 250/500 mg (administered as two tablets of ibuprofen 125 mg/acetaminophen 250 mg) in comparison with its individual components administered alone or together, and to determine the effect of food on the PK of the FDC. Two studies in healthy adults aged 18–55 years used a crossover design in which subjects received a single dose of each treatment with a 2-day washout period between each. In the third study, the bioavailability of ibuprofen and acetaminophen from a single oral dose of the FDC was assessed in healthy adolescents aged 12–17 years, inclusive.\n",
      "\n",
      "Text: SECTION: Results:\n",
      "\n",
      "A total of 35 and 46 subjects were enrolled in the two adult studies, respectively, and 21 were enrolled in the adolescent study. Ibuprofen and acetaminophen in the FDC were bioequivalent to the monocomponents administered alone or together. With food, the maximum concentration (C_max) for ibuprofen and acetaminophen from the FDC was reduced by 36% and 37%, respectively, and time to C_max (i.e. t_max) was delayed. Overall drug exposure to ibuprofen or acetaminophen in the fed versus fasted states was similar. In adolescents, overall exposure to acetaminophen and ibuprofen was comparable with that in adults, with a slightly higher overall exposure to ibuprofen. Exposure to acetaminophen and ibuprofen in adolescents aged 12–14 years was slightly higher versus those aged 15–17 years. Adverse events were similar across all treatment groups.\n",
      "\n",
      "\n",
      "Text with Refs: SECTION: Results:\n",
      "\n",
      "A total of 35 and 46 subjects were enrolled in the two adult studies, respectively, and 21 were enrolled in the adolescent study. Ibuprofen and acetaminophen in the FDC were bioequivalent to the monocomponents administered alone or together. With food, the maximum concentration (C_max) for ibuprofen and acetaminophen from the FDC was reduced by 36% and 37%, respectively, and time to C_max (i.e. t_max) was delayed. Overall drug exposure to ibuprofen or acetaminophen in the fed versus fasted states was similar. In adolescents, overall exposure to acetaminophen and ibuprofen was comparable with that in adults, with a slightly higher overall exposure to ibuprofen. Exposure to acetaminophen and ibuprofen in adolescents aged 12–14 years was slightly higher versus those aged 15–17 years. Adverse events were similar across all treatment groups.\n",
      "\n",
      "Text: SECTION: Conclusions:\n",
      "\n",
      "The FDC of ibuprofen/acetaminophen 250/500 mg has a PK profile similar to its monocomponent constituents when administered separately or coadministered, indicating no drug–drug interactions and no formulation effects. Similar to previous findings for the individual components, the rates of absorption of ibuprofen and acetaminophen from the FDC were slightly delayed in the presence of food. Overall, adolescents had similar exposures to acetaminophen and ibuprofen as adults, while younger adolescents had slightly greater exposure than older adolescents, probably due to their smaller body size. The FDC was generally well tolerated.\n",
      "\n",
      "\n",
      "Text with Refs: SECTION: Conclusions:\n",
      "\n",
      "The FDC of ibuprofen/acetaminophen 250/500 mg has a PK profile similar to its monocomponent constituents when administered separately or coadministered, indicating no drug–drug interactions and no formulation effects. Similar to previous findings for the individual components, the rates of absorption of ibuprofen and acetaminophen from the FDC were slightly delayed in the presence of food. Overall, adolescents had similar exposures to acetaminophen and ibuprofen as adults, while younger adolescents had slightly greater exposure than older adolescents, probably due to their smaller body size. The FDC was generally well tolerated.\n",
      "\n"
     ]
    }
   ],
   "metadata": {}
  },
  {
   "cell_type": "code",
   "execution_count": 571,
   "source": [
    "for sec in p.body:\n",
    "    print(str(sec))"
   ],
   "outputs": [
    {
     "output_type": "stream",
     "name": "stdout",
     "text": [
      "SECTION: Key Points:\n",
      "\n",
      "\n",
      "\n",
      "SECTION: Introduction:\n",
      "\n",
      "Ibuprofen and acetaminophen are among the most widely used non-prescription over-the-counter (OTC) analgesic/antipyretic drugs, both in the US and globally [1, 2]. The efficacy of these agents for the treatment of mild-to-moderate acute pain and fever in the OTC setting is well established [2–5]. Ibuprofen is a nonsteroidal anti-inflammatory drug (NSAID) that inhibits the cyclooxygenase (COX)-1 and -2 isoenzymes and hence the synthesis of pro-inflammatory prostaglandins, whereas acetaminophen is believed to act through inhibition of a subclass of COX enzyme isoforms in the central nervous system [6]. Additionally, acetaminophen has been reported to have effects on descending inhibitory serotonergic pain pathways to inhibit the l-arginine nitric oxide pathway; effects on cannabinoid receptors may also be operant [7]. Both ibuprofen and acetaminophen are associated with a ceiling effect for pain relief, i.e. a point at which higher single doses of either agent provide comparable changes in pain scores versus lower doses; respective dose ceilings are 400 mg for ibuprofen [8, 9] and 1000 mg for acetaminophen [10]. Conversely, the risk of adverse events (AEs) with ibuprofen and acetaminophen, such as gastrointestinal toxicity and acute liver failure, respectively, increases with greater doses of each agent [11, 12].\n",
      "\n",
      "Previous phase III clinical studies have demonstrated better efficacy of a fixed-dose combination (FDC) of ibuprofen and acetaminophen relative to monoactives in the same doses [13, 14]. Combining ibuprofen and acetaminophen may also allow for the effective use of lower doses of both agents, potentially reducing safety concerns associated with these drugs when administered alone at higher doses [11]. Indeed, combinations of ibuprofen and acetaminophen have been previously studied and have been shown to be effective in the management of acute pain and reduction of fever [3, 13–16]. Furthermore, these studies also demonstrated a safety profile of the ibuprofen/acetaminophen combination comparable or superior to the individual components [3, 13–15].\n",
      "\n",
      "Pharmacokinetic (PK) studies have demonstrated no alterations in plasma drug concentrations, indicating no drug–drug interactions, when ibuprofen and acetaminophen are administered concomitantly [6, 17]; therefore, no additional safety concerns are expected when ibuprofen and acetaminophen are used in combination compared with either agent alone. In this study, we report on three separate clinical PK studies of a new FDC of ibuprofen and acetaminophen containing lower doses of the two ingredients (250 mg ibuprofen/500 mg acetaminophen, administered as two tablets of 125 mg ibuprofen/250 mg acetaminophen) than the maximum recommended doses of the single-ingredient products. Analgesic studies of this FDC have demonstrated efficacy superior to the individual components and comparable to the maximal analgesic dose of ibuprofen (400 mg; Kellstein and Leyva, unpublished data). The objectives of the three studies detailed herein were (1) to determine the relative bioavailability of ibuprofen and acetaminophen from this new FDC compared with its individual monocomponents administered together or separately in adults; (2) to evaluate the effects of food on PK in adults; and (3) to determine exposure to ibuprofen and acetaminophen from the FDC in adolescents.\n",
      "\n",
      "SECTION: Methods:\n",
      "\n",
      "    SECTION: Study Design:\n",
      "\n",
      "    Three clinical phase I PK studies were conducted. Study 1 (conducted from January to March 2016) and Study 2 (conducted from December 2015 to March 2016) were performed at the Pfizer Clinical Research Unit (New Haven, CT, USA) and were open-label, four-way crossover studies that enrolled healthy adults. The third study (Study 3) was carried out from August to November 2016 at three clinical research centers across the US (WCCT Global, Costa Mesa, CA; Pharmaceutical Research Associates, Salt Lake City, UT; and Altasciences/Vince and Associates Clinical Research, Overland Park, KS) and was an open-label, single-dose study in healthy adolescents. The studies were conducted in compliance with the ethical principles originating in or derived from the Declaration of Helsinki and in compliance with all International Council for Harmonization Good Clinical Practice guidelines, as well as local regulatory requirements. All subjects (or parents or guardians in the adolescent study) provided written informed consent, and informed assent was obtained from each minor subject. The studies were managed by Pfizer Inc. and conducted by investigators employed or contracted by, and under the direction of, Pfizer Inc. Data management and analyses were conducted by Pfizer Inc., and investigators had full access and control over data interpretation for this study.\n",
      "\n",
      "    Subjects included in the two adult studies (i.e. Studies 1 and 2) were healthy male and female volunteers aged 18–55 years, inclusive. Included subjects had a body mass index (BMI) of 17.5–30.5 kg/m^2, inclusive, and a total body weight of > 50 kg. For inclusion in Study 3, subjects were healthy males and females 12–17 years of age, inclusive, with at least one painful condition (e.g. headache, dysmenorrhea, or musculoskeletal pain) that required the use of an oral OTC analgesic five or more times in the previous 4 weeks. Total body weight, stature, and BMI must have been within the 10th and 90th percentile for age and sex. Female subjects of childbearing potential and males able to father children must have been willing to use a highly effective method of contraception for the duration of the study and for 28 days after the last dose of study medication.\n",
      "\n",
      "    Exclusion criteria were similar in each of the three studies. Pregnant or breastfeeding subjects were not allowed to participate in any of the studies. The presence or history of significant disease, bleeding disorder, signs of dehydration (adolescents), or any other condition in which study medication may have increased risk; any condition that could have affected drug absorption (e.g. gastrectomy); a positive urine drug screen; history of regular alcohol consumption (adults); alcohol use within 24 h (adults) or 48 h (adolescents) of dosing; or use of tobacco within 6 months of screening (adults) or within 24 h prior to dosing (adolescents) was exclusionary. Treatment with an investigational drug within 30 days, use of prescription and non-prescription drugs or dietary supplements within 7 days, or use of nutritional supplements within 14 days prior to the first dose of study drug was prohibited. Subjects with hypertension (i.e. blood pressure ≥ 140/90 mmHg in adults or ≥ 95th percentile for age and height in adolescents); QT or QRS prolongation of > 450 ms or > 120 ms, respectively; aspartate or alanine aminotransferase ≥ 3 × or total bilirubin ≥ 1.5 × the upper limit of normal; blood donation of approximately 1 pint (adults) or exceeding 130 mL or 3 mL/kg (adolescents) within 56 days; hypersensitivity to aspirin, acetaminophen, ibuprofen, or any other NSAID; consumption of grapefruit or related citrus fruits within 7 days prior to dosing; use of acetaminophen, ibuprofen, or any other NSAID within 48 h prior to the first dose of study medication; or use of caffeine or alcohol within 24 h of admission prompted study exclusion. Subjects with a positive test for hepatitis B, hepatitis C, or human immunodeficiency virus were excluded.\n",
      "\n",
      "\n",
      "    SECTION: Determination of Sample Size:\n",
      "\n",
      "    In a previous publication [6] studying the PK profile of a novel FDC tablet formulation of ibuprofen and paracetamol (ibuprofen 400 mg/acetaminophen 1000 mg) under fasted and fed conditions, it was observed that the fed versus fasted ratio of C_max was lower than 80% for both ibuprofen and acetaminophen, suggesting that it was unlikely to achieve bioequivalence regardless of the sample size used for this parameter. Therefore, the sample size calculation in Study 1 was focused on having adequate power for declaring bioequivalence in terms of area under the concentration-time curve from time zero to infinity (AUC_∞). The sample size calculation was based on the results of the log-transformed AUC_∞ in acetaminophen, the analyte with the higher variability in this study.\n",
      "\n",
      "    In order to provide at least 85% power for declaring bioequivalence for AUC_∞ in Study 1, 32 subjects were required to complete the study. This sample size estimate assumed a root mean square of error (RMSE) of 0.120 and that the true bioavailability of the test formulation was within 15% of that for the reference formulation [6]. To ensure at least 32 subjects completed all four periods of the study, approximately 36 subjects were to be enrolled.\n",
      "\n",
      "    For Study 2, acetaminophen and log-transformed C_max, the analyte and the parameter with the highest variabilities observed in previous Pfizer Consumer Healthcare (PCH) studies, were used in the sample size calculation. Additionally, it was assumed that the true bioavailability of the test formulation (FDC ibuprofen/acetaminophen 250/500 mg) was within 5.0% of that for the reference formulation and that it was similar between the two analytes, ibuprofen and acetaminophen. This was observed in a previous publication studying the PK profiles of a novel FDC tablet of ibuprofen and acetaminophen (ibuprofen 400 mg/acetaminophen 1000 mg) [6].\n",
      "\n",
      "    Using these assumptions and an RMSE of 0.2742 (observed in a previous PCH study [#PA-96-01], which studied the PK profiles of different acetaminophen formulations of 1000 mg; unpublished data), it was estimated that a sample size of approximately 40 subjects would provide at least 85% power to establish bioequivalence in Study 2. To ensure approximately 40 subjects completed all four periods of the study, at least 44 subjects were to be enrolled.\n",
      "\n",
      "    For Study 3, review of previous PK data for ibuprofen and acetaminophen revealed that acetaminophen and the apparent oral clearance (CL), as calculated by the dose administered/AUC_∞ (CL/F), were the analyte and PK parameter, respectively, with the higher variability. Taking into consideration regulatory guidance from the US FDA as well as historical PK data, and using the method proposed by Wang et al. [18], it was estimated that a sample size of nine subjects within each of the age groups (12–14 years and 15–17 years) would provide at least 90% power to target the 95% confidence interval (CI) to be within 60% and 140% of the geometric mean estimate of CL/F for FDC ibuprofen/acetaminophen in each age subgroup, assuming an approximate between-subject coefficient of variability of 30% for the untransformed CL for acetaminophen based on a previous adult PK study conducted by PCH. To allow for dropouts in this multicenter study, approximately 22 subjects were to be enrolled to ensure that a minimum of 18 subjects completed the study (at least 9 within each age subgroup).\n",
      "\n",
      "\n",
      "    SECTION: Study Treatments:\n",
      "\n",
      "    Subjects were administered a single dose of study drug at baseline as described below. In Study 1, subjects were randomized to receive a single dose of 2 × FDC ibuprofen/acetaminophen 125 mg/250 mg (i.e. FDC ibuprofen/acetaminophen 250/500 mg; ^©2019 GSK group of companies or its licensor, Madison, NJ, USA) either after a 10-h fast or following a high-fat breakfast, or ibuprofen 200 mg (Advil^®; ^©2019 GSK group of companies or its licensor), or acetaminophen extended release (ER) 650 mg (Tylenol^® 8 HR; Johnson & Johnson Consumer Inc, New Brunswick, NJ, USA), both fasted. Acetaminophen 650 mg ER and ibuprofen 200 mg were used for comparison based on regulatory requirements. In Study 2, subjects were randomized to 2 × FDC ibuprofen/acetaminophen 125/250 mg, coadministered monocomponents ibuprofen 250 mg (^©2019 GSK group of companies or its licensor) and acetaminophen 500 mg (Tylenol^® Extra Strength; McNeil Consumer Healthcare, Ft. Washington, PA, USA), ibuprofen 250 mg alone, or acetaminophen 500 mg alone following an overnight fast of at least 10 h. Studies 1 and 2 had a crossover design; subjects received all four treatments, with a 2-day washout between each treatment period. Subjects remained in the clinic for the duration of the study. In Study 3, all subjects received a single dose of 2 × FDC ibuprofen/acetaminophen 125/250 mg (i.e. FDC ibuprofen/acetaminophen 250/500 mg) after an overnight fast.\n",
      "\n",
      "\n",
      "    SECTION: Phamacokinetic (PK) Sampling, Analysis, and Calculations:\n",
      "\n",
      "    In each study, a predose PK sample was obtained approximately 60 min before each treatment period. PK sampling was conducted at 10, 20, 30, 40, 50, 60, 75, and 90 min and 2, 3, 4, 6, 8, 10, 12, 18, and 24 h after dosing in Study 1, and at the same time points through 12 h in Study 2. Samples were obtained at 10, 20, 30, 45, 60, 75, and 90 min and at 2, 3, 6, 9, and 12 h in Study 3.\n",
      "\n",
      "    For all three studies, plasma samples were analyzed for total ibuprofen and acetaminophen using a validated analytical assay employing a high-performance liquid chromatography tandem mass spectrometric method by PPD (Middleton, WI, USA). The lower limit of quantitation (LLOQ) of the assay for ibuprofen and acetaminophen was 0.2 and 0.1 μg/mL, respectively. Clinical specimens with plasma ibuprofen or acetaminophen concentrations below the LLOQ were reported as below the LLOQ. In Studies 1 and 2, PK metrics were calculated for each subject using non-compartmental analysis of plasma concentration-time data using the internally validated software system electronic non-compartmental analysis (eNCA) version 2.2.4. In Study 3, PK metrics were calculated using Phoenix WinNonlin version 6.4 (Pharsight Corporation, Mountain View, CA, USA).\n",
      "\n",
      "    PK metrics calculated included C_max, time to maximum concentration (t_max), area under the concentration-time curve from time zero to the last quantifiable concentration (AUC_last), AUC_∞, and terminal half-life (t_½). The comparability of PK metrics in Studies 1 and 2 was determined by constructing 90% CIs around the estimated difference between test and reference treatments using a mixed-effects model based on natural log-transformed data. The mixed-effects model was implemented using SAS PROC MIXED (SAS Institute, Inc., Cary, NC, USA) with the restricted maximum likelihood estimation method and the Kenward–Roger degrees of freedom algorithm. Because the monocomponent doses in Study 1 were different from those of the FDC, PK metrics were dose normalized to ibuprofen 250 mg and acetaminophen 500 mg for the purposes of comparison.\n",
      "\n",
      "    Safety, including AEs, was monitored throughout the in-patient portion of the studies and during a follow-up phone call 14 days after the last investigational drug dose in each study.\n",
      "\n",
      "\n",
      "SECTION: Results:\n",
      "\n",
      "    SECTION: Baseline Characteristics:\n",
      "\n",
      "    Baseline characteristics for the three studies are shown in Table 1. A total of 35 subjects were randomized in Study 1 and 46 in Study 2. In Study 3, 21 subjects were assigned to treatment. In all three studies, the proportion of males and females was approximately 50%. In Study 3, the majority (62%) of subjects were White, whereas in Studies 1 and 2, the largest proportion of subjects were Black (54% and 41%, respectively). One subject in Study 1 discontinued study drug during the first treatment period due to an inability to swallow study medication, and two subjects in Study 2 discontinued study drug during the first treatment period due to difficulties in collecting PK samples; no PK profiling was possible for these two subjects. All 21 subjects in Study 3 completed treatment and were analyzed for PK metrics and safety.\n",
      "\n",
      "\n",
      "    SECTION: PK Profiles:\n",
      "\n",
      "    PK concentration-time profiles for ibuprofen and acetaminophen in the three studies are shown in Figs. 1 and 2, respectively.\n",
      "\n",
      "        SECTION: Study 1: Comparison of Fixed-Dose Combination (FDC) to Single-Ingredient Products and Food Effects:\n",
      "\n",
      "        PK metrics for ibuprofen and acetaminophen in Study 1 are summarized in Table 2. Under fasted conditions, the median plasma ibuprofen dose-normalized concentration-time profiles were similar for FDC ibuprofen/acetaminophen 250/500 mg and ibuprofen 200 mg alone (Fig. 1a) except for a shorter ibuprofen t_max for the FDC (1.38 h vs. 2.00 h, respectively) (Table 2). As seen in Table 3, the ratios of AUC_∞ (99.93%), AUC_last (100.63%), and C_max (102.44%) of FDC ibuprofen/acetaminophen 250/500 mg versus ibuprofen 200 mg under fasted conditions, and their 90% CIs, were completely contained within the limits of 80–125%, indicating bioequivalence under fasted conditions.\n",
      "\n",
      "        There was no meaningful food effect on the overall extent of absorption of ibuprofen from the FDC. The ratios for FDC fed/FDC fasted of the adjusted dose-normalized geometric means for AUC_∞ and AUC_last were 86.61% and 85.96%, respectively. The 90% CIs for these AUC values (Table 3) were within the acceptance range for bioequivalence of 80–125%. However, the rate of absorption was delayed with food compared with fasting; the ratio for dose-normalized C_max for ibuprofen was 63.86% (Table 3), indicative of an approximately 36% lower peak concentration of ibuprofen when the FDC was administered in the fed state. Similarly, the t_max was delayed for ibuprofen when the FDC was administered with food: 3.00 h with food and 1.38 h fasted. The t_½ was similar with or without food (2.4 h vs. 2.2 h, respectively) (Table 2).\n",
      "\n",
      "        Under fasted conditions, the median plasma acetaminophen dose-normalized concentration-time profiles were similar for FDC ibuprofen/acetaminophen 250/500 mg and acetaminophen ER 650 mg alone (Fig. 2a), with the exception of a shorter t_max for the FDC (0.58 h vs. 1.50 h, respectively) (Table 2). The overall relative bioavailability of the two treatments was equivalent based on dose-normalized test/reference ratios for AUC_∞ (108.60) and AUC_last (108.27) and their associated 90% CIs (Table 4). The ratio for dose-normalized C_max was 177.48%, indicating an approximately 77% higher peak concentration of acetaminophen derived from the FDC ibuprofen/acetaminophen 250/500 mg fasted treatment compared with that of acetaminophen ER 650 mg fasted treatment (Table 4), a finding that was not unexpected given use of the ER acetaminophen formulation in this comparison.\n",
      "\n",
      "        There was no effect of food on the extent of absorption of the acetaminophen from the FDC. The ratios of acetaminophen fed/acetaminophen fasted (Table 4) of dose-normalized geometric means for AUC_∞ and AUC_last were 95.01% and 94.29%, respectively; the 90% CIs for each were within the acceptance range for bioequivalence of 80–125%, indicating no relevant effect of food on these metrics. As with ibuprofen, the absorption rate of acetaminophen was delayed when the FDC was taken with food compared with fasting. The ratio for dose-normalized C_max was 63.22%, indicating an approximately 37% lower peak concentration for acetaminophen after administration of the FDC in the fed state compared with the fasted state (Table 4). Similarly, t_max was 2.49 h with food and 0.58 h when fasted. The t_½ for acetaminophen was similar with and without food (4.7 h vs. 4.6 h, respectively) (Table 2).\n",
      "\n",
      "\n",
      "        SECTION: Study 2: Comparison of FDC with Individual Components and Formulation Effects:\n",
      "\n",
      "        PK metrics for ibuprofen and acetaminophen in Study 2 are summarized in Table 5. As shown in Fig. 1b, the median plasma ibuprofen concentration-time profiles were similar for FDC ibuprofen/acetaminophen 250/500 mg, monocomponent ibuprofen 250 mg + acetaminophen 500 mg administered together, and ibuprofen 250 mg alone. The C_max was 12% higher following the FDC ibuprofen/acetaminophen 250/500 mg treatment than following treatment with either the coadministered monocomponents or ibuprofen 250 mg (Table 5). The relative bioavailability of treatments was similar based on AUC_∞, AUC_last, and C_max (Table 6), where the respective ratios of adjusted geometric means of ibuprofen were 102.53%, 103.00%, and 112.42% after administration of the FDC relative to the coadministered monocomponents. Similar results were obtained for the FDC relative to ibuprofen 250 mg alone. The ratios of adjusted geometric means of AUC_∞, AUC_last, and C_max were 102.60%, 103.08%, and 112.02%, respectively, following administration of FDC relative to ibuprofen 250 mg alone. The 90% CIs for each of these test/reference ratios reported were contained within the bioequivalence acceptance range of 80–125%, indicating bioequivalence.\n",
      "\n",
      "        As shown in Fig. 2b, the median plasma acetaminophen concentration-time curves for FDC ibuprofen/acetaminophen 250/500 mg, monocomponent ibuprofen 250 mg + acetaminophen 500 mg, and acetaminophen 500 mg alone were similar for all treatments, and the bioavailability of treatments was also similar based on AUC_∞, AUC_last, and C_max and their associated 90% CIs (Table 6). The ratios of adjusted geometric means of acetaminophen AUC_∞, AUC_last, and C_max were 99.79%, 100.00%, and 94.32 after administration of FDC relative to the coadministered monocomponents; each respective 90% CI fell within the limits indicative of bioequivalence. For the comparison of FDC with acetaminophen 500 mg alone, the ratios of adjusted geometric means of acetaminophen AUC_∞, AUC_last, and C_max were 104.00%, 104.12%, and 101.64%, respectively; all CIs were contained within the bioequivalence acceptance range of 80–125% (Table 6), also indicating bioequivalence.\n",
      "\n",
      "\n",
      "        SECTION: Study 3: Evaluation of PK in Adolescents:\n",
      "\n",
      "        PK metrics for ibuprofen and acetaminophen following administration of the FDC to adolescents in Study 3 are summarized in Table 7. Results are presented for all subjects and for the age groups 12–14 years and 15–17 years separately. The overall ibuprofen exposure (AUC values) following administration of the FDC was similar for both the younger and older age groups. However, the younger group had a C_max that was approximately 23% higher and occurred 1 h earlier relative to the older subjects (t_max: 1 vs. 2 h, respectively). Overall acetaminophen exposure was approximately 30% higher in the younger age group compared with the older age group. As with ibuprofen, C_max for acetaminophen was higher in the younger group (approximately 42%) and t_max was 0.5 h faster relative to the older group (0.5 vs. 1 h, respectively). The mean t_½ values were similar across all age groups.\n",
      "\n",
      "        Although not designed for a direct comparison, a numerical comparison of the results for the FDC in the fasted state in adolescents (Table 7) with those in adults (Table 2) indicated that the overall (AUC) and maximal (C_max) exposures to ibuprofen and acetaminophen in the adolescent group were similar to those in adults; overall exposure (AUC) to ibuprofen was slightly higher (95 µg∙h/mL vs. 77–78 µg∙h/mL) in adolescents.\n",
      "\n",
      "\n",
      "\n",
      "    SECTION: Safety:\n",
      "\n",
      "    AEs across the three trials were all mild or moderate in intensity; treatment-emergent AEs are summarized in Table 8. In Study 1, seven subjects (20%) reported 10 AEs; three AEs in two subjects were determined to be treatment-related: one subject experienced nausea (after ibuprofen 200 mg) and somnolence (after FDC fasted), and another reported headache (after FDC fed). All of these treatment-related AEs were mild and resolved. In Study 2, 10 subjects (21.7%) experienced 15 AEs. Six of these AEs in three subjects were determined to be treatment-related: two subjects experienced treatment-related constipation, and a third experienced abdominal distention, upper abdominal pain, dyspepsia, and nausea. Two of these AEs occurred during treatment with the monocomponents administered together, one during treatment with ibuprofen 250 mg, and three during treatment with acetaminophen 500 mg. All of these treatment-related AEs were mild and resolved. In Study 3, two subjects (9.5%) experienced five mild treatment-emergent AEs. One AE of dizziness was considered to be related to treatment with the FDC. No dose reductions or discontinuations due to AEs, no serious AEs, and no deaths occurred in any of the three studies. Likewise, no clinically significant changes in vital signs were apparent in any study. The safety profile of the FDC observed during each study was consistent with the known safety profile of the individual components.\n",
      "\n",
      "\n",
      "SECTION: Discussion:\n",
      "\n",
      "This series of PK studies demonstrates that the FDC ibuprofen/acetaminophen 250/500 mg (administered as 2 × ibuprofen/acetaminophen 125/250 mg) is bioequivalent to its individual monocomponents when administered separately or together. These data substantiate the lack of drug–drug PK interactions or formulation effects, respectively, with the combination. Acetaminophen in the FDC is bioequivalent to dose-normalized acetaminophen ER 650 mg for AUC. However, an increase in acetaminophen C_max was seen with the FDC compared with the acetaminophen ER 650 mg comparator. This result was expected as the FDC is an immediate-release formulation, whereas the acetaminophen 650 mg used was an ER formulation with delayed absorption. Ibuprofen in the FDC was also bioequivalent to dose-normalized ibuprofen 200 mg for AUC and C_max. These results therefore demonstrate that the exposure to ibuprofen and acetaminophen in the FDC is similar to those of commercially available formulations of the individual components, indicating there should be no increased safety concerns.\n",
      "\n",
      "A food effect on the rate of absorption was observed with the FDC, with C_max for ibuprofen and acetaminophen decreased 36% and 37%, respectively, in the presence of food. T_max was also delayed by approximately 1.6 h for ibuprofen and 1.9 h for acetaminophen in fed, compared with fasting, conditions. This is consistent with a previous study in which an FDC of ibuprofen/acetaminophen at a total dose of 400/1000 mg, respectively, exhibited decreased C_max values in the fed versus fasted state (ratios of 76% and 61% for ibuprofen and acetaminophen, respectively) and delayed median t_max by 0.75 h and 1 h, respectively [6]. Studies of ibuprofen alone and acetaminophen alone have also demonstrated decreased C_max and delayed t_max when either is administered with food [19, 20]. Although the overall extent of absorption (AUC) of ibuprofen from the FDC was slightly reduced (14%) in the presence of food compared with ibuprofen alone, both AUC_∞ and AUC_last met the bioequivalence standard of 80–125%. The overall exposure to acetaminophen was not affected by food, therefore it is unlikely that the slightly reduced AUC of ibuprofen observed in the fed state would be clinically meaningful in terms of analgesic efficacy. However, the effect of food on efficacy has not been evaluated as the dental pain studies of the FDC were conducted with food restrictions, as is the standard methodology.\n",
      "\n",
      "The majority of PK studies of ibuprofen and acetaminophen have focused on adults and younger subjects, with limited data available in adolescents aged 12–17 years [6, 21–28]. As a result, population PK estimates and allometric adjustments or scaling have typically provided the rationale for dosing in this younger age group [27, 28]. The present study of FDC ibuprofen/acetaminophen 250/500 mg therefore adds new and relevant information by reporting ibuprofen and acetaminophen PK in this age group. Importantly, no clinically important differences in PK exposure were observed for adolescents in comparison with adult subjects 18 years of age and older. Indeed, while these studies were not designed to be compared, the overall plasma concentration-time curves for both components of the FDC (in the fasted state) were similar across all three studies, and comparison of AUC and C_max values between the adolescent and adult studies also indicates similar exposures to both components, with a slightly higher overall exposure to ibuprofen in adolescents. This provides support for similar dosing recommendations for adolescents as in adults.\n",
      "\n",
      "In the younger age subgroup of subjects aged 12–14 years, ibuprofen and acetaminophen exposures were slightly increased following a single dose of the FDC compared with the older age group aged 15–17 years. This difference was as expected given the smaller body surface area and lower body weight of the younger subjects, and the differences were not clinically meaningful.\n",
      "\n",
      "These studies confirm the results of previous studies indicating no drug–drug PK interaction between ibuprofen and acetaminophen [6, 17]; therefore, no additional safety concerns are expected compared with the administration of either agent alone. The data also indicate no formulation effect when combining the two ingredients into one tablet. Consistent with these findings, the FDC ibuprofen/acetaminophen 250/500 mg was safe and generally well tolerated in these studies. All AEs were mild or moderate in severity, with no discontinuations due to AEs. AEs were equally distributed between treatment arms, with no new safety concerns compared with the individual components. Importantly, exposure in adolescents was similar to that in adults, and the FDC was generally well tolerated, indicating that this formulation can be safely used in this population. However, it should be noted that these were small, short-duration studies, and rare and serious AEs such as gastrointestinal bleeding and liver failure would not be expected. However, a large, longer-duration study (13 weeks) evaluating a similar FDC of ibuprofen/acetaminophen (200/500 mg) found a safety profile that was at least as favorable as maximum single OTC doses of the individual components (ibuprofen 400 mg, acetaminophen 1000 mg) [15].\n",
      "\n",
      "SECTION: Conclusions:\n",
      "\n",
      "The FDC ibuprofen/acetaminophen 250/500 mg has a PK profile similar to its monocomponent constituents when administered alone or coadministered. Overall exposure to ibuprofen and acetaminophen was bioequivalent under fed versus fasted conditions, although, as expected, food delayed absorption, similar to what has previously been observed for each individual monocomponent. In adolescents, overall exposure to ibuprofen from the FDC, as measured by AUC, was similar in individuals 12–14 years of age and 15–17 years of age, but C_max was 23% higher and t_max was achieved earlier in the younger age group of patients. In contrast, acetaminophen exposure (i.e. AUC) was 30% higher in the younger group after administration of the FDC; C_max was 42% higher and t_max occurred earlier in the younger age group of patients than in older adolescents. Exposure to ibuprofen and acetaminophen in the overall group of adolescents was similar to that in adults, supporting the same dosing in that population.\n",
      "\n"
     ]
    }
   ],
   "metadata": {}
  },
  {
   "cell_type": "code",
   "execution_count": 572,
   "source": [
    "p.journal_id"
   ],
   "outputs": [
    {
     "output_type": "execute_result",
     "data": {
      "text/plain": [
       "{'nlm-ta': 'Drugs R D', 'iso-abbrev': 'Drugs R D'}"
      ]
     },
     "metadata": {},
     "execution_count": 572
    }
   ],
   "metadata": {}
  },
  {
   "cell_type": "code",
   "execution_count": 573,
   "source": [
    "p.issn"
   ],
   "outputs": [
    {
     "output_type": "execute_result",
     "data": {
      "text/plain": [
       "{'ppub': '1174-5886', 'epub': '1179-6901'}"
      ]
     },
     "metadata": {},
     "execution_count": 573
    }
   ],
   "metadata": {}
  },
  {
   "cell_type": "code",
   "execution_count": 574,
   "source": [
    "p.journal_title"
   ],
   "outputs": [
    {
     "output_type": "execute_result",
     "data": {
      "text/plain": [
       "'Drugs in R&D'"
      ]
     },
     "metadata": {},
     "execution_count": 574
    }
   ],
   "metadata": {}
  },
  {
   "cell_type": "code",
   "execution_count": 575,
   "source": [
    "p.publisher_location"
   ],
   "outputs": [
    {
     "output_type": "execute_result",
     "data": {
      "text/plain": [
       "'Cham'"
      ]
     },
     "metadata": {},
     "execution_count": 575
    }
   ],
   "metadata": {}
  },
  {
   "cell_type": "code",
   "execution_count": 576,
   "source": [
    "p.publisher_name"
   ],
   "outputs": [
    {
     "output_type": "execute_result",
     "data": {
      "text/plain": [
       "'Springer International Publishing'"
      ]
     },
     "metadata": {},
     "execution_count": 576
    }
   ],
   "metadata": {}
  },
  {
   "cell_type": "code",
   "execution_count": 577,
   "source": [
    "p.article_id"
   ],
   "outputs": [
    {
     "output_type": "execute_result",
     "data": {
      "text/plain": [
       "{'pmid': '32130679',\n",
       " 'pmc': '7067710',\n",
       " 'publisher-id': '293',\n",
       " 'doi': '10.1007/s40268-020-00293-5'}"
      ]
     },
     "metadata": {},
     "execution_count": 577
    }
   ],
   "metadata": {}
  },
  {
   "cell_type": "code",
   "execution_count": 578,
   "source": [
    "p.article_types"
   ],
   "outputs": [
    {
     "output_type": "execute_result",
     "data": {
      "text/plain": [
       "['Original Research Article']"
      ]
     },
     "metadata": {},
     "execution_count": 578
    }
   ],
   "metadata": {}
  },
  {
   "cell_type": "code",
   "execution_count": 579,
   "source": [
    "p.article_categories"
   ],
   "outputs": [
    {
     "output_type": "execute_result",
     "data": {
      "text/plain": [
       "'No extra article categories found. Check paper.article_types for header categories.'"
      ]
     },
     "metadata": {},
     "execution_count": 579
    }
   ],
   "metadata": {}
  },
  {
   "cell_type": "code",
   "execution_count": 580,
   "source": [
    "p.published_date"
   ],
   "outputs": [
    {
     "output_type": "execute_result",
     "data": {
      "text/plain": [
       "{'epub': datetime.datetime(2020, 3, 4, 0, 0),\n",
       " 'pmc-release': datetime.datetime(2020, 3, 4, 0, 0),\n",
       " 'ppub': datetime.datetime(2020, 3, 1, 0, 0)}"
      ]
     },
     "metadata": {},
     "execution_count": 580
    }
   ],
   "metadata": {}
  },
  {
   "cell_type": "code",
   "execution_count": 581,
   "source": [
    "p.volume"
   ],
   "outputs": [
    {
     "output_type": "execute_result",
     "data": {
      "text/plain": [
       "20"
      ]
     },
     "metadata": {},
     "execution_count": 581
    }
   ],
   "metadata": {}
  },
  {
   "cell_type": "code",
   "execution_count": 582,
   "source": [
    "p.issue"
   ],
   "outputs": [
    {
     "output_type": "execute_result",
     "data": {
      "text/plain": [
       "1"
      ]
     },
     "metadata": {},
     "execution_count": 582
    }
   ],
   "metadata": {}
  },
  {
   "cell_type": "code",
   "execution_count": 583,
   "source": [
    "p.fpage"
   ],
   "outputs": [
    {
     "output_type": "execute_result",
     "data": {
      "text/plain": [
       "23"
      ]
     },
     "metadata": {},
     "execution_count": 583
    }
   ],
   "metadata": {}
  },
  {
   "cell_type": "code",
   "execution_count": 584,
   "source": [
    "p.lpage"
   ],
   "outputs": [
    {
     "output_type": "execute_result",
     "data": {
      "text/plain": [
       "37"
      ]
     },
     "metadata": {},
     "execution_count": 584
    }
   ],
   "metadata": {}
  },
  {
   "cell_type": "code",
   "execution_count": 585,
   "source": [
    "p.permissions"
   ],
   "outputs": [
    {
     "output_type": "execute_result",
     "data": {
      "text/plain": [
       "{'Copyright Statement': '© The Author(s) 2020',\n",
       " 'License Type': 'OpenAccess',\n",
       " 'License Text': \"Open AccessThis article is licensed under a Creative Commons Attribution-NonCommercial 4.0 International License, which permits any non-commercial use, sharing, adaptation, distribution and reproduction in any medium or format, as long as you give appropriate credit to the original author(s) and the source, provide a link to the Creative Commons licence, and indicate if changes were made. The images or other third party material in this article are included in the article's Creative Commons licence, unless indicated otherwise in a credit line to the material. If material is not included in the article's Creative Commons licence and your intended use is not permitted by statutory regulation or exceeds the permitted use, you will need to obtain permission directly from the copyright holder.To view a copy of this licence, visit [External URI:]http://creativecommons.org/licenses/by-nc/4.0/.\"}"
      ]
     },
     "metadata": {},
     "execution_count": 585
    }
   ],
   "metadata": {}
  },
  {
   "cell_type": "code",
   "execution_count": 586,
   "source": [
    "p.funding"
   ],
   "outputs": [
    {
     "output_type": "execute_result",
     "data": {
      "text/plain": [
       "['Pfizer Consumer Healthcare']"
      ]
     },
     "metadata": {},
     "execution_count": 586
    }
   ],
   "metadata": {}
  },
  {
   "cell_type": "code",
   "execution_count": 587,
   "source": [
    "p.footnote"
   ],
   "outputs": [
    {
     "output_type": "execute_result",
     "data": {
      "text/plain": [
       "'The authors David E. Kellstein, Suzanne Meeves and Mario Cruz-Rivera were Employees of Pfizer Consumer Healthcare, Madison, NJ, USA at the time this research was conducted.'"
      ]
     },
     "metadata": {},
     "execution_count": 587
    }
   ],
   "metadata": {}
  },
  {
   "cell_type": "code",
   "execution_count": null,
   "source": [],
   "outputs": [],
   "metadata": {}
  },
  {
   "cell_type": "markdown",
   "source": [
    "## More Detailed Investigation of Ref Map and Texts"
   ],
   "metadata": {}
  },
  {
   "cell_type": "code",
   "execution_count": 588,
   "source": [
    "for sec in p.body:\n",
    "    print(\"Text: \" + sec.text)\n",
    "    print()\n",
    "    print(\"Text with Refs: \" + sec.text_with_refs)"
   ],
   "outputs": [
    {
     "output_type": "stream",
     "name": "stdout",
     "text": [
      "Text: SECTION: Key Points:\n",
      "\n",
      "\n",
      "\n",
      "\n",
      "Text with Refs: SECTION: Key Points:\n",
      "\n",
      "[MHTML::dataref::0]\n",
      "\n",
      "Text: SECTION: Introduction:\n",
      "\n",
      "Ibuprofen and acetaminophen are among the most widely used non-prescription over-the-counter (OTC) analgesic/antipyretic drugs, both in the US and globally [1, 2]. The efficacy of these agents for the treatment of mild-to-moderate acute pain and fever in the OTC setting is well established [2–5]. Ibuprofen is a nonsteroidal anti-inflammatory drug (NSAID) that inhibits the cyclooxygenase (COX)-1 and -2 isoenzymes and hence the synthesis of pro-inflammatory prostaglandins, whereas acetaminophen is believed to act through inhibition of a subclass of COX enzyme isoforms in the central nervous system [6]. Additionally, acetaminophen has been reported to have effects on descending inhibitory serotonergic pain pathways to inhibit the l-arginine nitric oxide pathway; effects on cannabinoid receptors may also be operant [7]. Both ibuprofen and acetaminophen are associated with a ceiling effect for pain relief, i.e. a point at which higher single doses of either agent provide comparable changes in pain scores versus lower doses; respective dose ceilings are 400 mg for ibuprofen [8, 9] and 1000 mg for acetaminophen [10]. Conversely, the risk of adverse events (AEs) with ibuprofen and acetaminophen, such as gastrointestinal toxicity and acute liver failure, respectively, increases with greater doses of each agent [11, 12].\n",
      "\n",
      "Previous phase III clinical studies have demonstrated better efficacy of a fixed-dose combination (FDC) of ibuprofen and acetaminophen relative to monoactives in the same doses [13, 14]. Combining ibuprofen and acetaminophen may also allow for the effective use of lower doses of both agents, potentially reducing safety concerns associated with these drugs when administered alone at higher doses [11]. Indeed, combinations of ibuprofen and acetaminophen have been previously studied and have been shown to be effective in the management of acute pain and reduction of fever [3, 13–16]. Furthermore, these studies also demonstrated a safety profile of the ibuprofen/acetaminophen combination comparable or superior to the individual components [3, 13–15].\n",
      "\n",
      "Pharmacokinetic (PK) studies have demonstrated no alterations in plasma drug concentrations, indicating no drug–drug interactions, when ibuprofen and acetaminophen are administered concomitantly [6, 17]; therefore, no additional safety concerns are expected when ibuprofen and acetaminophen are used in combination compared with either agent alone. In this study, we report on three separate clinical PK studies of a new FDC of ibuprofen and acetaminophen containing lower doses of the two ingredients (250 mg ibuprofen/500 mg acetaminophen, administered as two tablets of 125 mg ibuprofen/250 mg acetaminophen) than the maximum recommended doses of the single-ingredient products. Analgesic studies of this FDC have demonstrated efficacy superior to the individual components and comparable to the maximal analgesic dose of ibuprofen (400 mg; Kellstein and Leyva, unpublished data). The objectives of the three studies detailed herein were (1) to determine the relative bioavailability of ibuprofen and acetaminophen from this new FDC compared with its individual monocomponents administered together or separately in adults; (2) to evaluate the effects of food on PK in adults; and (3) to determine exposure to ibuprofen and acetaminophen from the FDC in adolescents.\n",
      "\n",
      "\n",
      "Text with Refs: SECTION: Introduction:\n",
      "\n",
      "Ibuprofen and acetaminophen are among the most widely used non-prescription over-the-counter (OTC) analgesic/antipyretic drugs, both in the US and globally [1[MHTML::dataref::1], 2[MHTML::dataref::2]]. The efficacy of these agents for the treatment of mild-to-moderate acute pain and fever in the OTC setting is well established [2[MHTML::dataref::2]–5[MHTML::dataref::3]]. Ibuprofen is a nonsteroidal anti-inflammatory drug (NSAID) that inhibits the cyclooxygenase (COX)-1 and -2 isoenzymes and hence the synthesis of pro-inflammatory prostaglandins, whereas acetaminophen is believed to act through inhibition of a subclass of COX enzyme isoforms in the central nervous system [6[MHTML::dataref::4]]. Additionally, acetaminophen has been reported to have effects on descending inhibitory serotonergic pain pathways to inhibit the l-arginine nitric oxide pathway; effects on cannabinoid receptors may also be operant [7[MHTML::dataref::5]]. Both ibuprofen and acetaminophen are associated with a ceiling effect for pain relief, i.e. a point at which higher single doses of either agent provide comparable changes in pain scores versus lower doses; respective dose ceilings are 400 mg for ibuprofen [8[MHTML::dataref::6], 9[MHTML::dataref::7]] and 1000 mg for acetaminophen [10[MHTML::dataref::8]]. Conversely, the risk of adverse events (AEs) with ibuprofen and acetaminophen, such as gastrointestinal toxicity and acute liver failure, respectively, increases with greater doses of each agent [11[MHTML::dataref::9], 12[MHTML::dataref::10]].\n",
      "\n",
      "Previous phase III clinical studies have demonstrated better efficacy of a fixed-dose combination (FDC) of ibuprofen and acetaminophen relative to monoactives in the same doses [13[MHTML::dataref::11], 14[MHTML::dataref::12]]. Combining ibuprofen and acetaminophen may also allow for the effective use of lower doses of both agents, potentially reducing safety concerns associated with these drugs when administered alone at higher doses [11[MHTML::dataref::9]]. Indeed, combinations of ibuprofen and acetaminophen have been previously studied and have been shown to be effective in the management of acute pain and reduction of fever [3[MHTML::dataref::13], 13[MHTML::dataref::11]–16[MHTML::dataref::14]]. Furthermore, these studies also demonstrated a safety profile of the ibuprofen/acetaminophen combination comparable or superior to the individual components [3[MHTML::dataref::13], 13[MHTML::dataref::11]–15[MHTML::dataref::15]].\n",
      "\n",
      "Pharmacokinetic (PK) studies have demonstrated no alterations in plasma drug concentrations, indicating no drug–drug interactions, when ibuprofen and acetaminophen are administered concomitantly [6[MHTML::dataref::4], 17[MHTML::dataref::16]]; therefore, no additional safety concerns are expected when ibuprofen and acetaminophen are used in combination compared with either agent alone. In this study, we report on three separate clinical PK studies of a new FDC of ibuprofen and acetaminophen containing lower doses of the two ingredients (250 mg ibuprofen/500 mg acetaminophen, administered as two tablets of 125 mg ibuprofen/250 mg acetaminophen) than the maximum recommended doses of the single-ingredient products. Analgesic studies of this FDC have demonstrated efficacy superior to the individual components and comparable to the maximal analgesic dose of ibuprofen (400 mg; Kellstein and Leyva, unpublished data). The objectives of the three studies detailed herein were (1) to determine the relative bioavailability of ibuprofen and acetaminophen from this new FDC compared with its individual monocomponents administered together or separately in adults; (2) to evaluate the effects of food on PK in adults; and (3) to determine exposure to ibuprofen and acetaminophen from the FDC in adolescents.\n",
      "\n",
      "Text: SECTION: Methods:\n",
      "\n",
      "    SECTION: Study Design:\n",
      "\n",
      "    Three clinical phase I PK studies were conducted. Study 1 (conducted from January to March 2016) and Study 2 (conducted from December 2015 to March 2016) were performed at the Pfizer Clinical Research Unit (New Haven, CT, USA) and were open-label, four-way crossover studies that enrolled healthy adults. The third study (Study 3) was carried out from August to November 2016 at three clinical research centers across the US (WCCT Global, Costa Mesa, CA; Pharmaceutical Research Associates, Salt Lake City, UT; and Altasciences/Vince and Associates Clinical Research, Overland Park, KS) and was an open-label, single-dose study in healthy adolescents. The studies were conducted in compliance with the ethical principles originating in or derived from the Declaration of Helsinki and in compliance with all International Council for Harmonization Good Clinical Practice guidelines, as well as local regulatory requirements. All subjects (or parents or guardians in the adolescent study) provided written informed consent, and informed assent was obtained from each minor subject. The studies were managed by Pfizer Inc. and conducted by investigators employed or contracted by, and under the direction of, Pfizer Inc. Data management and analyses were conducted by Pfizer Inc., and investigators had full access and control over data interpretation for this study.\n",
      "\n",
      "    Subjects included in the two adult studies (i.e. Studies 1 and 2) were healthy male and female volunteers aged 18–55 years, inclusive. Included subjects had a body mass index (BMI) of 17.5–30.5 kg/m^2, inclusive, and a total body weight of > 50 kg. For inclusion in Study 3, subjects were healthy males and females 12–17 years of age, inclusive, with at least one painful condition (e.g. headache, dysmenorrhea, or musculoskeletal pain) that required the use of an oral OTC analgesic five or more times in the previous 4 weeks. Total body weight, stature, and BMI must have been within the 10th and 90th percentile for age and sex. Female subjects of childbearing potential and males able to father children must have been willing to use a highly effective method of contraception for the duration of the study and for 28 days after the last dose of study medication.\n",
      "\n",
      "    Exclusion criteria were similar in each of the three studies. Pregnant or breastfeeding subjects were not allowed to participate in any of the studies. The presence or history of significant disease, bleeding disorder, signs of dehydration (adolescents), or any other condition in which study medication may have increased risk; any condition that could have affected drug absorption (e.g. gastrectomy); a positive urine drug screen; history of regular alcohol consumption (adults); alcohol use within 24 h (adults) or 48 h (adolescents) of dosing; or use of tobacco within 6 months of screening (adults) or within 24 h prior to dosing (adolescents) was exclusionary. Treatment with an investigational drug within 30 days, use of prescription and non-prescription drugs or dietary supplements within 7 days, or use of nutritional supplements within 14 days prior to the first dose of study drug was prohibited. Subjects with hypertension (i.e. blood pressure ≥ 140/90 mmHg in adults or ≥ 95th percentile for age and height in adolescents); QT or QRS prolongation of > 450 ms or > 120 ms, respectively; aspartate or alanine aminotransferase ≥ 3 × or total bilirubin ≥ 1.5 × the upper limit of normal; blood donation of approximately 1 pint (adults) or exceeding 130 mL or 3 mL/kg (adolescents) within 56 days; hypersensitivity to aspirin, acetaminophen, ibuprofen, or any other NSAID; consumption of grapefruit or related citrus fruits within 7 days prior to dosing; use of acetaminophen, ibuprofen, or any other NSAID within 48 h prior to the first dose of study medication; or use of caffeine or alcohol within 24 h of admission prompted study exclusion. Subjects with a positive test for hepatitis B, hepatitis C, or human immunodeficiency virus were excluded.\n",
      "\n",
      "\n",
      "    SECTION: Determination of Sample Size:\n",
      "\n",
      "    In a previous publication [6] studying the PK profile of a novel FDC tablet formulation of ibuprofen and paracetamol (ibuprofen 400 mg/acetaminophen 1000 mg) under fasted and fed conditions, it was observed that the fed versus fasted ratio of C_max was lower than 80% for both ibuprofen and acetaminophen, suggesting that it was unlikely to achieve bioequivalence regardless of the sample size used for this parameter. Therefore, the sample size calculation in Study 1 was focused on having adequate power for declaring bioequivalence in terms of area under the concentration-time curve from time zero to infinity (AUC_∞). The sample size calculation was based on the results of the log-transformed AUC_∞ in acetaminophen, the analyte with the higher variability in this study.\n",
      "\n",
      "    In order to provide at least 85% power for declaring bioequivalence for AUC_∞ in Study 1, 32 subjects were required to complete the study. This sample size estimate assumed a root mean square of error (RMSE) of 0.120 and that the true bioavailability of the test formulation was within 15% of that for the reference formulation [6]. To ensure at least 32 subjects completed all four periods of the study, approximately 36 subjects were to be enrolled.\n",
      "\n",
      "    For Study 2, acetaminophen and log-transformed C_max, the analyte and the parameter with the highest variabilities observed in previous Pfizer Consumer Healthcare (PCH) studies, were used in the sample size calculation. Additionally, it was assumed that the true bioavailability of the test formulation (FDC ibuprofen/acetaminophen 250/500 mg) was within 5.0% of that for the reference formulation and that it was similar between the two analytes, ibuprofen and acetaminophen. This was observed in a previous publication studying the PK profiles of a novel FDC tablet of ibuprofen and acetaminophen (ibuprofen 400 mg/acetaminophen 1000 mg) [6].\n",
      "\n",
      "    Using these assumptions and an RMSE of 0.2742 (observed in a previous PCH study [#PA-96-01], which studied the PK profiles of different acetaminophen formulations of 1000 mg; unpublished data), it was estimated that a sample size of approximately 40 subjects would provide at least 85% power to establish bioequivalence in Study 2. To ensure approximately 40 subjects completed all four periods of the study, at least 44 subjects were to be enrolled.\n",
      "\n",
      "    For Study 3, review of previous PK data for ibuprofen and acetaminophen revealed that acetaminophen and the apparent oral clearance (CL), as calculated by the dose administered/AUC_∞ (CL/F), were the analyte and PK parameter, respectively, with the higher variability. Taking into consideration regulatory guidance from the US FDA as well as historical PK data, and using the method proposed by Wang et al. [18], it was estimated that a sample size of nine subjects within each of the age groups (12–14 years and 15–17 years) would provide at least 90% power to target the 95% confidence interval (CI) to be within 60% and 140% of the geometric mean estimate of CL/F for FDC ibuprofen/acetaminophen in each age subgroup, assuming an approximate between-subject coefficient of variability of 30% for the untransformed CL for acetaminophen based on a previous adult PK study conducted by PCH. To allow for dropouts in this multicenter study, approximately 22 subjects were to be enrolled to ensure that a minimum of 18 subjects completed the study (at least 9 within each age subgroup).\n",
      "\n",
      "\n",
      "    SECTION: Study Treatments:\n",
      "\n",
      "    Subjects were administered a single dose of study drug at baseline as described below. In Study 1, subjects were randomized to receive a single dose of 2 × FDC ibuprofen/acetaminophen 125 mg/250 mg (i.e. FDC ibuprofen/acetaminophen 250/500 mg; ^©2019 GSK group of companies or its licensor, Madison, NJ, USA) either after a 10-h fast or following a high-fat breakfast, or ibuprofen 200 mg (Advil^®; ^©2019 GSK group of companies or its licensor), or acetaminophen extended release (ER) 650 mg (Tylenol^® 8 HR; Johnson & Johnson Consumer Inc, New Brunswick, NJ, USA), both fasted. Acetaminophen 650 mg ER and ibuprofen 200 mg were used for comparison based on regulatory requirements. In Study 2, subjects were randomized to 2 × FDC ibuprofen/acetaminophen 125/250 mg, coadministered monocomponents ibuprofen 250 mg (^©2019 GSK group of companies or its licensor) and acetaminophen 500 mg (Tylenol^® Extra Strength; McNeil Consumer Healthcare, Ft. Washington, PA, USA), ibuprofen 250 mg alone, or acetaminophen 500 mg alone following an overnight fast of at least 10 h. Studies 1 and 2 had a crossover design; subjects received all four treatments, with a 2-day washout between each treatment period. Subjects remained in the clinic for the duration of the study. In Study 3, all subjects received a single dose of 2 × FDC ibuprofen/acetaminophen 125/250 mg (i.e. FDC ibuprofen/acetaminophen 250/500 mg) after an overnight fast.\n",
      "\n",
      "\n",
      "    SECTION: Phamacokinetic (PK) Sampling, Analysis, and Calculations:\n",
      "\n",
      "    In each study, a predose PK sample was obtained approximately 60 min before each treatment period. PK sampling was conducted at 10, 20, 30, 40, 50, 60, 75, and 90 min and 2, 3, 4, 6, 8, 10, 12, 18, and 24 h after dosing in Study 1, and at the same time points through 12 h in Study 2. Samples were obtained at 10, 20, 30, 45, 60, 75, and 90 min and at 2, 3, 6, 9, and 12 h in Study 3.\n",
      "\n",
      "    For all three studies, plasma samples were analyzed for total ibuprofen and acetaminophen using a validated analytical assay employing a high-performance liquid chromatography tandem mass spectrometric method by PPD (Middleton, WI, USA). The lower limit of quantitation (LLOQ) of the assay for ibuprofen and acetaminophen was 0.2 and 0.1 μg/mL, respectively. Clinical specimens with plasma ibuprofen or acetaminophen concentrations below the LLOQ were reported as below the LLOQ. In Studies 1 and 2, PK metrics were calculated for each subject using non-compartmental analysis of plasma concentration-time data using the internally validated software system electronic non-compartmental analysis (eNCA) version 2.2.4. In Study 3, PK metrics were calculated using Phoenix WinNonlin version 6.4 (Pharsight Corporation, Mountain View, CA, USA).\n",
      "\n",
      "    PK metrics calculated included C_max, time to maximum concentration (t_max), area under the concentration-time curve from time zero to the last quantifiable concentration (AUC_last), AUC_∞, and terminal half-life (t_½). The comparability of PK metrics in Studies 1 and 2 was determined by constructing 90% CIs around the estimated difference between test and reference treatments using a mixed-effects model based on natural log-transformed data. The mixed-effects model was implemented using SAS PROC MIXED (SAS Institute, Inc., Cary, NC, USA) with the restricted maximum likelihood estimation method and the Kenward–Roger degrees of freedom algorithm. Because the monocomponent doses in Study 1 were different from those of the FDC, PK metrics were dose normalized to ibuprofen 250 mg and acetaminophen 500 mg for the purposes of comparison.\n",
      "\n",
      "    Safety, including AEs, was monitored throughout the in-patient portion of the studies and during a follow-up phone call 14 days after the last investigational drug dose in each study.\n",
      "\n",
      "\n",
      "\n",
      "Text with Refs: SECTION: Methods:\n",
      "\n",
      "    SECTION: Study Design:\n",
      "\n",
      "    Three clinical phase I PK studies were conducted. Study 1 (conducted from January to March 2016) and Study 2 (conducted from December 2015 to March 2016) were performed at the Pfizer Clinical Research Unit (New Haven, CT, USA) and were open-label, four-way crossover studies that enrolled healthy adults. The third study (Study 3) was carried out from August to November 2016 at three clinical research centers across the US (WCCT Global, Costa Mesa, CA; Pharmaceutical Research Associates, Salt Lake City, UT; and Altasciences/Vince and Associates Clinical Research, Overland Park, KS) and was an open-label, single-dose study in healthy adolescents. The studies were conducted in compliance with the ethical principles originating in or derived from the Declaration of Helsinki and in compliance with all International Council for Harmonization Good Clinical Practice guidelines, as well as local regulatory requirements. All subjects (or parents or guardians in the adolescent study) provided written informed consent, and informed assent was obtained from each minor subject. The studies were managed by Pfizer Inc. and conducted by investigators employed or contracted by, and under the direction of, Pfizer Inc. Data management and analyses were conducted by Pfizer Inc., and investigators had full access and control over data interpretation for this study.\n",
      "\n",
      "    Subjects included in the two adult studies (i.e. Studies 1 and 2) were healthy male and female volunteers aged 18–55 years, inclusive. Included subjects had a body mass index (BMI) of 17.5–30.5 kg/m^2, inclusive, and a total body weight of > 50 kg. For inclusion in Study 3, subjects were healthy males and females 12–17 years of age, inclusive, with at least one painful condition (e.g. headache, dysmenorrhea, or musculoskeletal pain) that required the use of an oral OTC analgesic five or more times in the previous 4 weeks. Total body weight, stature, and BMI must have been within the 10th and 90th percentile for age and sex. Female subjects of childbearing potential and males able to father children must have been willing to use a highly effective method of contraception for the duration of the study and for 28 days after the last dose of study medication.\n",
      "\n",
      "    Exclusion criteria were similar in each of the three studies. Pregnant or breastfeeding subjects were not allowed to participate in any of the studies. The presence or history of significant disease, bleeding disorder, signs of dehydration (adolescents), or any other condition in which study medication may have increased risk; any condition that could have affected drug absorption (e.g. gastrectomy); a positive urine drug screen; history of regular alcohol consumption (adults); alcohol use within 24 h (adults) or 48 h (adolescents) of dosing; or use of tobacco within 6 months of screening (adults) or within 24 h prior to dosing (adolescents) was exclusionary. Treatment with an investigational drug within 30 days, use of prescription and non-prescription drugs or dietary supplements within 7 days, or use of nutritional supplements within 14 days prior to the first dose of study drug was prohibited. Subjects with hypertension (i.e. blood pressure ≥ 140/90 mmHg in adults or ≥ 95th percentile for age and height in adolescents); QT or QRS prolongation of > 450 ms or > 120 ms, respectively; aspartate or alanine aminotransferase ≥ 3 × or total bilirubin ≥ 1.5 × the upper limit of normal; blood donation of approximately 1 pint (adults) or exceeding 130 mL or 3 mL/kg (adolescents) within 56 days; hypersensitivity to aspirin, acetaminophen, ibuprofen, or any other NSAID; consumption of grapefruit or related citrus fruits within 7 days prior to dosing; use of acetaminophen, ibuprofen, or any other NSAID within 48 h prior to the first dose of study medication; or use of caffeine or alcohol within 24 h of admission prompted study exclusion. Subjects with a positive test for hepatitis B, hepatitis C, or human immunodeficiency virus were excluded.\n",
      "\n",
      "\n",
      "    SECTION: Determination of Sample Size:\n",
      "\n",
      "    In a previous publication [6[MHTML::dataref::4]] studying the PK profile of a novel FDC tablet formulation of ibuprofen and paracetamol (ibuprofen 400 mg/acetaminophen 1000 mg) under fasted and fed conditions, it was observed that the fed versus fasted ratio of C_max was lower than 80% for both ibuprofen and acetaminophen, suggesting that it was unlikely to achieve bioequivalence regardless of the sample size used for this parameter. Therefore, the sample size calculation in Study 1 was focused on having adequate power for declaring bioequivalence in terms of area under the concentration-time curve from time zero to infinity (AUC_∞). The sample size calculation was based on the results of the log-transformed AUC_∞ in acetaminophen, the analyte with the higher variability in this study.\n",
      "\n",
      "    In order to provide at least 85% power for declaring bioequivalence for AUC_∞ in Study 1, 32 subjects were required to complete the study. This sample size estimate assumed a root mean square of error (RMSE) of 0.120 and that the true bioavailability of the test formulation was within 15% of that for the reference formulation [6[MHTML::dataref::4]]. To ensure at least 32 subjects completed all four periods of the study, approximately 36 subjects were to be enrolled.\n",
      "\n",
      "    For Study 2, acetaminophen and log-transformed C_max, the analyte and the parameter with the highest variabilities observed in previous Pfizer Consumer Healthcare (PCH) studies, were used in the sample size calculation. Additionally, it was assumed that the true bioavailability of the test formulation (FDC ibuprofen/acetaminophen 250/500 mg) was within 5.0% of that for the reference formulation and that it was similar between the two analytes, ibuprofen and acetaminophen. This was observed in a previous publication studying the PK profiles of a novel FDC tablet of ibuprofen and acetaminophen (ibuprofen 400 mg/acetaminophen 1000 mg) [6[MHTML::dataref::4]].\n",
      "\n",
      "    Using these assumptions and an RMSE of 0.2742 (observed in a previous PCH study [#PA-96-01], which studied the PK profiles of different acetaminophen formulations of 1000 mg; unpublished data), it was estimated that a sample size of approximately 40 subjects would provide at least 85% power to establish bioequivalence in Study 2. To ensure approximately 40 subjects completed all four periods of the study, at least 44 subjects were to be enrolled.\n",
      "\n",
      "    For Study 3, review of previous PK data for ibuprofen and acetaminophen revealed that acetaminophen and the apparent oral clearance (CL), as calculated by the dose administered/AUC_∞ (CL/F), were the analyte and PK parameter, respectively, with the higher variability. Taking into consideration regulatory guidance from the US FDA as well as historical PK data, and using the method proposed by Wang et al. [18[MHTML::dataref::17]], it was estimated that a sample size of nine subjects within each of the age groups (12–14 years and 15–17 years) would provide at least 90% power to target the 95% confidence interval (CI) to be within 60% and 140% of the geometric mean estimate of CL/F for FDC ibuprofen/acetaminophen in each age subgroup, assuming an approximate between-subject coefficient of variability of 30% for the untransformed CL for acetaminophen based on a previous adult PK study conducted by PCH. To allow for dropouts in this multicenter study, approximately 22 subjects were to be enrolled to ensure that a minimum of 18 subjects completed the study (at least 9 within each age subgroup).\n",
      "\n",
      "\n",
      "    SECTION: Study Treatments:\n",
      "\n",
      "    Subjects were administered a single dose of study drug at baseline as described below. In Study 1, subjects were randomized to receive a single dose of 2 × FDC ibuprofen/acetaminophen 125 mg/250 mg (i.e. FDC ibuprofen/acetaminophen 250/500 mg; ^©2019 GSK group of companies or its licensor, Madison, NJ, USA) either after a 10-h fast or following a high-fat breakfast, or ibuprofen 200 mg (Advil^®; ^©2019 GSK group of companies or its licensor), or acetaminophen extended release (ER) 650 mg (Tylenol^® 8 HR; Johnson & Johnson Consumer Inc, New Brunswick, NJ, USA), both fasted. Acetaminophen 650 mg ER and ibuprofen 200 mg were used for comparison based on regulatory requirements. In Study 2, subjects were randomized to 2 × FDC ibuprofen/acetaminophen 125/250 mg, coadministered monocomponents ibuprofen 250 mg (^©2019 GSK group of companies or its licensor) and acetaminophen 500 mg (Tylenol^® Extra Strength; McNeil Consumer Healthcare, Ft. Washington, PA, USA), ibuprofen 250 mg alone, or acetaminophen 500 mg alone following an overnight fast of at least 10 h. Studies 1 and 2 had a crossover design; subjects received all four treatments, with a 2-day washout between each treatment period. Subjects remained in the clinic for the duration of the study. In Study 3, all subjects received a single dose of 2 × FDC ibuprofen/acetaminophen 125/250 mg (i.e. FDC ibuprofen/acetaminophen 250/500 mg) after an overnight fast.\n",
      "\n",
      "\n",
      "    SECTION: Phamacokinetic (PK) Sampling, Analysis, and Calculations:\n",
      "\n",
      "    In each study, a predose PK sample was obtained approximately 60 min before each treatment period. PK sampling was conducted at 10, 20, 30, 40, 50, 60, 75, and 90 min and 2, 3, 4, 6, 8, 10, 12, 18, and 24 h after dosing in Study 1, and at the same time points through 12 h in Study 2. Samples were obtained at 10, 20, 30, 45, 60, 75, and 90 min and at 2, 3, 6, 9, and 12 h in Study 3.\n",
      "\n",
      "    For all three studies, plasma samples were analyzed for total ibuprofen and acetaminophen using a validated analytical assay employing a high-performance liquid chromatography tandem mass spectrometric method by PPD (Middleton, WI, USA). The lower limit of quantitation (LLOQ) of the assay for ibuprofen and acetaminophen was 0.2 and 0.1 μg/mL, respectively. Clinical specimens with plasma ibuprofen or acetaminophen concentrations below the LLOQ were reported as below the LLOQ. In Studies 1 and 2, PK metrics were calculated for each subject using non-compartmental analysis of plasma concentration-time data using the internally validated software system electronic non-compartmental analysis (eNCA) version 2.2.4. In Study 3, PK metrics were calculated using Phoenix WinNonlin version 6.4 (Pharsight Corporation, Mountain View, CA, USA).\n",
      "\n",
      "    PK metrics calculated included C_max, time to maximum concentration (t_max), area under the concentration-time curve from time zero to the last quantifiable concentration (AUC_last), AUC_∞, and terminal half-life (t_½). The comparability of PK metrics in Studies 1 and 2 was determined by constructing 90% CIs around the estimated difference between test and reference treatments using a mixed-effects model based on natural log-transformed data. The mixed-effects model was implemented using SAS PROC MIXED (SAS Institute, Inc., Cary, NC, USA) with the restricted maximum likelihood estimation method and the Kenward–Roger degrees of freedom algorithm. Because the monocomponent doses in Study 1 were different from those of the FDC, PK metrics were dose normalized to ibuprofen 250 mg and acetaminophen 500 mg for the purposes of comparison.\n",
      "\n",
      "    Safety, including AEs, was monitored throughout the in-patient portion of the studies and during a follow-up phone call 14 days after the last investigational drug dose in each study.\n",
      "\n",
      "\n",
      "Text: SECTION: Results:\n",
      "\n",
      "    SECTION: Baseline Characteristics:\n",
      "\n",
      "    Baseline characteristics for the three studies are shown in Table 1. A total of 35 subjects were randomized in Study 1 and 46 in Study 2. In Study 3, 21 subjects were assigned to treatment. In all three studies, the proportion of males and females was approximately 50%. In Study 3, the majority (62%) of subjects were White, whereas in Studies 1 and 2, the largest proportion of subjects were Black (54% and 41%, respectively). One subject in Study 1 discontinued study drug during the first treatment period due to an inability to swallow study medication, and two subjects in Study 2 discontinued study drug during the first treatment period due to difficulties in collecting PK samples; no PK profiling was possible for these two subjects. All 21 subjects in Study 3 completed treatment and were analyzed for PK metrics and safety.\n",
      "\n",
      "\n",
      "    SECTION: PK Profiles:\n",
      "\n",
      "    PK concentration-time profiles for ibuprofen and acetaminophen in the three studies are shown in Figs. 1 and 2, respectively.\n",
      "\n",
      "        SECTION: Study 1: Comparison of Fixed-Dose Combination (FDC) to Single-Ingredient Products and Food Effects:\n",
      "\n",
      "        PK metrics for ibuprofen and acetaminophen in Study 1 are summarized in Table 2. Under fasted conditions, the median plasma ibuprofen dose-normalized concentration-time profiles were similar for FDC ibuprofen/acetaminophen 250/500 mg and ibuprofen 200 mg alone (Fig. 1a) except for a shorter ibuprofen t_max for the FDC (1.38 h vs. 2.00 h, respectively) (Table 2). As seen in Table 3, the ratios of AUC_∞ (99.93%), AUC_last (100.63%), and C_max (102.44%) of FDC ibuprofen/acetaminophen 250/500 mg versus ibuprofen 200 mg under fasted conditions, and their 90% CIs, were completely contained within the limits of 80–125%, indicating bioequivalence under fasted conditions.\n",
      "\n",
      "        There was no meaningful food effect on the overall extent of absorption of ibuprofen from the FDC. The ratios for FDC fed/FDC fasted of the adjusted dose-normalized geometric means for AUC_∞ and AUC_last were 86.61% and 85.96%, respectively. The 90% CIs for these AUC values (Table 3) were within the acceptance range for bioequivalence of 80–125%. However, the rate of absorption was delayed with food compared with fasting; the ratio for dose-normalized C_max for ibuprofen was 63.86% (Table 3), indicative of an approximately 36% lower peak concentration of ibuprofen when the FDC was administered in the fed state. Similarly, the t_max was delayed for ibuprofen when the FDC was administered with food: 3.00 h with food and 1.38 h fasted. The t_½ was similar with or without food (2.4 h vs. 2.2 h, respectively) (Table 2).\n",
      "\n",
      "        Under fasted conditions, the median plasma acetaminophen dose-normalized concentration-time profiles were similar for FDC ibuprofen/acetaminophen 250/500 mg and acetaminophen ER 650 mg alone (Fig. 2a), with the exception of a shorter t_max for the FDC (0.58 h vs. 1.50 h, respectively) (Table 2). The overall relative bioavailability of the two treatments was equivalent based on dose-normalized test/reference ratios for AUC_∞ (108.60) and AUC_last (108.27) and their associated 90% CIs (Table 4). The ratio for dose-normalized C_max was 177.48%, indicating an approximately 77% higher peak concentration of acetaminophen derived from the FDC ibuprofen/acetaminophen 250/500 mg fasted treatment compared with that of acetaminophen ER 650 mg fasted treatment (Table 4), a finding that was not unexpected given use of the ER acetaminophen formulation in this comparison.\n",
      "\n",
      "        There was no effect of food on the extent of absorption of the acetaminophen from the FDC. The ratios of acetaminophen fed/acetaminophen fasted (Table 4) of dose-normalized geometric means for AUC_∞ and AUC_last were 95.01% and 94.29%, respectively; the 90% CIs for each were within the acceptance range for bioequivalence of 80–125%, indicating no relevant effect of food on these metrics. As with ibuprofen, the absorption rate of acetaminophen was delayed when the FDC was taken with food compared with fasting. The ratio for dose-normalized C_max was 63.22%, indicating an approximately 37% lower peak concentration for acetaminophen after administration of the FDC in the fed state compared with the fasted state (Table 4). Similarly, t_max was 2.49 h with food and 0.58 h when fasted. The t_½ for acetaminophen was similar with and without food (4.7 h vs. 4.6 h, respectively) (Table 2).\n",
      "\n",
      "\n",
      "        SECTION: Study 2: Comparison of FDC with Individual Components and Formulation Effects:\n",
      "\n",
      "        PK metrics for ibuprofen and acetaminophen in Study 2 are summarized in Table 5. As shown in Fig. 1b, the median plasma ibuprofen concentration-time profiles were similar for FDC ibuprofen/acetaminophen 250/500 mg, monocomponent ibuprofen 250 mg + acetaminophen 500 mg administered together, and ibuprofen 250 mg alone. The C_max was 12% higher following the FDC ibuprofen/acetaminophen 250/500 mg treatment than following treatment with either the coadministered monocomponents or ibuprofen 250 mg (Table 5). The relative bioavailability of treatments was similar based on AUC_∞, AUC_last, and C_max (Table 6), where the respective ratios of adjusted geometric means of ibuprofen were 102.53%, 103.00%, and 112.42% after administration of the FDC relative to the coadministered monocomponents. Similar results were obtained for the FDC relative to ibuprofen 250 mg alone. The ratios of adjusted geometric means of AUC_∞, AUC_last, and C_max were 102.60%, 103.08%, and 112.02%, respectively, following administration of FDC relative to ibuprofen 250 mg alone. The 90% CIs for each of these test/reference ratios reported were contained within the bioequivalence acceptance range of 80–125%, indicating bioequivalence.\n",
      "\n",
      "        As shown in Fig. 2b, the median plasma acetaminophen concentration-time curves for FDC ibuprofen/acetaminophen 250/500 mg, monocomponent ibuprofen 250 mg + acetaminophen 500 mg, and acetaminophen 500 mg alone were similar for all treatments, and the bioavailability of treatments was also similar based on AUC_∞, AUC_last, and C_max and their associated 90% CIs (Table 6). The ratios of adjusted geometric means of acetaminophen AUC_∞, AUC_last, and C_max were 99.79%, 100.00%, and 94.32 after administration of FDC relative to the coadministered monocomponents; each respective 90% CI fell within the limits indicative of bioequivalence. For the comparison of FDC with acetaminophen 500 mg alone, the ratios of adjusted geometric means of acetaminophen AUC_∞, AUC_last, and C_max were 104.00%, 104.12%, and 101.64%, respectively; all CIs were contained within the bioequivalence acceptance range of 80–125% (Table 6), also indicating bioequivalence.\n",
      "\n",
      "\n",
      "        SECTION: Study 3: Evaluation of PK in Adolescents:\n",
      "\n",
      "        PK metrics for ibuprofen and acetaminophen following administration of the FDC to adolescents in Study 3 are summarized in Table 7. Results are presented for all subjects and for the age groups 12–14 years and 15–17 years separately. The overall ibuprofen exposure (AUC values) following administration of the FDC was similar for both the younger and older age groups. However, the younger group had a C_max that was approximately 23% higher and occurred 1 h earlier relative to the older subjects (t_max: 1 vs. 2 h, respectively). Overall acetaminophen exposure was approximately 30% higher in the younger age group compared with the older age group. As with ibuprofen, C_max for acetaminophen was higher in the younger group (approximately 42%) and t_max was 0.5 h faster relative to the older group (0.5 vs. 1 h, respectively). The mean t_½ values were similar across all age groups.\n",
      "\n",
      "        Although not designed for a direct comparison, a numerical comparison of the results for the FDC in the fasted state in adolescents (Table 7) with those in adults (Table 2) indicated that the overall (AUC) and maximal (C_max) exposures to ibuprofen and acetaminophen in the adolescent group were similar to those in adults; overall exposure (AUC) to ibuprofen was slightly higher (95 µg∙h/mL vs. 77–78 µg∙h/mL) in adolescents.\n",
      "\n",
      "\n",
      "\n",
      "    SECTION: Safety:\n",
      "\n",
      "    AEs across the three trials were all mild or moderate in intensity; treatment-emergent AEs are summarized in Table 8. In Study 1, seven subjects (20%) reported 10 AEs; three AEs in two subjects were determined to be treatment-related: one subject experienced nausea (after ibuprofen 200 mg) and somnolence (after FDC fasted), and another reported headache (after FDC fed). All of these treatment-related AEs were mild and resolved. In Study 2, 10 subjects (21.7%) experienced 15 AEs. Six of these AEs in three subjects were determined to be treatment-related: two subjects experienced treatment-related constipation, and a third experienced abdominal distention, upper abdominal pain, dyspepsia, and nausea. Two of these AEs occurred during treatment with the monocomponents administered together, one during treatment with ibuprofen 250 mg, and three during treatment with acetaminophen 500 mg. All of these treatment-related AEs were mild and resolved. In Study 3, two subjects (9.5%) experienced five mild treatment-emergent AEs. One AE of dizziness was considered to be related to treatment with the FDC. No dose reductions or discontinuations due to AEs, no serious AEs, and no deaths occurred in any of the three studies. Likewise, no clinically significant changes in vital signs were apparent in any study. The safety profile of the FDC observed during each study was consistent with the known safety profile of the individual components.\n",
      "\n",
      "\n",
      "\n",
      "Text with Refs: SECTION: Results:\n",
      "\n",
      "    SECTION: Baseline Characteristics:\n",
      "\n",
      "    Baseline characteristics for the three studies are shown in Table 1[MHTML::dataref::18]. A total of 35 subjects were randomized in Study 1 and 46 in Study 2. In Study 3, 21 subjects were assigned to treatment. In all three studies, the proportion of males and females was approximately 50%. In Study 3, the majority (62%) of subjects were White, whereas in Studies 1 and 2, the largest proportion of subjects were Black (54% and 41%, respectively). One subject in Study 1 discontinued study drug during the first treatment period due to an inability to swallow study medication, and two subjects in Study 2 discontinued study drug during the first treatment period due to difficulties in collecting PK samples; no PK profiling was possible for these two subjects. All 21 subjects in Study 3 completed treatment and were analyzed for PK metrics and safety.[MHTML::dataref::19]\n",
      "\n",
      "\n",
      "    SECTION: PK Profiles:\n",
      "\n",
      "    PK concentration-time profiles for ibuprofen and acetaminophen in the three studies are shown in Figs. 1[MHTML::dataref::20] and 2[MHTML::dataref::21], respectively.[MHTML::dataref::22][MHTML::dataref::23]\n",
      "\n",
      "        SECTION: Study 1: Comparison of Fixed-Dose Combination (FDC) to Single-Ingredient Products and Food Effects:\n",
      "\n",
      "        PK metrics for ibuprofen and acetaminophen in Study 1 are summarized in Table 2[MHTML::dataref::24]. Under fasted conditions, the median plasma ibuprofen dose-normalized concentration-time profiles were similar for FDC ibuprofen/acetaminophen 250/500 mg and ibuprofen 200 mg alone (Fig. 1[MHTML::dataref::20]a) except for a shorter ibuprofen t_max for the FDC (1.38 h vs. 2.00 h, respectively) (Table 2[MHTML::dataref::24]). As seen in Table 3[MHTML::dataref::25], the ratios of AUC_∞ (99.93%), AUC_last (100.63%), and C_max (102.44%) of FDC ibuprofen/acetaminophen 250/500 mg versus ibuprofen 200 mg under fasted conditions, and their 90% CIs, were completely contained within the limits of 80–125%, indicating bioequivalence under fasted conditions.[MHTML::dataref::26][MHTML::dataref::27]\n",
      "\n",
      "        There was no meaningful food effect on the overall extent of absorption of ibuprofen from the FDC. The ratios for FDC fed/FDC fasted of the adjusted dose-normalized geometric means for AUC_∞ and AUC_last were 86.61% and 85.96%, respectively. The 90% CIs for these AUC values (Table 3[MHTML::dataref::25]) were within the acceptance range for bioequivalence of 80–125%. However, the rate of absorption was delayed with food compared with fasting; the ratio for dose-normalized C_max for ibuprofen was 63.86% (Table 3[MHTML::dataref::25]), indicative of an approximately 36% lower peak concentration of ibuprofen when the FDC was administered in the fed state. Similarly, the t_max was delayed for ibuprofen when the FDC was administered with food: 3.00 h with food and 1.38 h fasted. The t_½ was similar with or without food (2.4 h vs. 2.2 h, respectively) (Table 2[MHTML::dataref::24]).\n",
      "\n",
      "        Under fasted conditions, the median plasma acetaminophen dose-normalized concentration-time profiles were similar for FDC ibuprofen/acetaminophen 250/500 mg and acetaminophen ER 650 mg alone (Fig. 2[MHTML::dataref::21]a), with the exception of a shorter t_max for the FDC (0.58 h vs. 1.50 h, respectively) (Table 2[MHTML::dataref::24]). The overall relative bioavailability of the two treatments was equivalent based on dose-normalized test/reference ratios for AUC_∞ (108.60) and AUC_last (108.27) and their associated 90% CIs (Table 4[MHTML::dataref::28]). The ratio for dose-normalized C_max was 177.48%, indicating an approximately 77% higher peak concentration of acetaminophen derived from the FDC ibuprofen/acetaminophen 250/500 mg fasted treatment compared with that of acetaminophen ER 650 mg fasted treatment (Table 4[MHTML::dataref::28]), a finding that was not unexpected given use of the ER acetaminophen formulation in this comparison.[MHTML::dataref::29]\n",
      "\n",
      "        There was no effect of food on the extent of absorption of the acetaminophen from the FDC. The ratios of acetaminophen fed/acetaminophen fasted (Table 4[MHTML::dataref::28]) of dose-normalized geometric means for AUC_∞ and AUC_last were 95.01% and 94.29%, respectively; the 90% CIs for each were within the acceptance range for bioequivalence of 80–125%, indicating no relevant effect of food on these metrics. As with ibuprofen, the absorption rate of acetaminophen was delayed when the FDC was taken with food compared with fasting. The ratio for dose-normalized C_max was 63.22%, indicating an approximately 37% lower peak concentration for acetaminophen after administration of the FDC in the fed state compared with the fasted state (Table 4[MHTML::dataref::28]). Similarly, t_max was 2.49 h with food and 0.58 h when fasted. The t_½ for acetaminophen was similar with and without food (4.7 h vs. 4.6 h, respectively) (Table 2[MHTML::dataref::24]).\n",
      "\n",
      "\n",
      "        SECTION: Study 2: Comparison of FDC with Individual Components and Formulation Effects:\n",
      "\n",
      "        PK metrics for ibuprofen and acetaminophen in Study 2 are summarized in Table 5[MHTML::dataref::30]. As shown in Fig. 1[MHTML::dataref::20]b, the median plasma ibuprofen concentration-time profiles were similar for FDC ibuprofen/acetaminophen 250/500 mg, monocomponent ibuprofen 250 mg + acetaminophen 500 mg administered together, and ibuprofen 250 mg alone. The C_max was 12% higher following the FDC ibuprofen/acetaminophen 250/500 mg treatment than following treatment with either the coadministered monocomponents or ibuprofen 250 mg (Table 5[MHTML::dataref::30]). The relative bioavailability of treatments was similar based on AUC_∞, AUC_last, and C_max (Table 6[MHTML::dataref::31]), where the respective ratios of adjusted geometric means of ibuprofen were 102.53%, 103.00%, and 112.42% after administration of the FDC relative to the coadministered monocomponents. Similar results were obtained for the FDC relative to ibuprofen 250 mg alone. The ratios of adjusted geometric means of AUC_∞, AUC_last, and C_max were 102.60%, 103.08%, and 112.02%, respectively, following administration of FDC relative to ibuprofen 250 mg alone. The 90% CIs for each of these test/reference ratios reported were contained within the bioequivalence acceptance range of 80–125%, indicating bioequivalence.[MHTML::dataref::32][MHTML::dataref::33]\n",
      "\n",
      "        As shown in Fig. 2[MHTML::dataref::21]b, the median plasma acetaminophen concentration-time curves for FDC ibuprofen/acetaminophen 250/500 mg, monocomponent ibuprofen 250 mg + acetaminophen 500 mg, and acetaminophen 500 mg alone were similar for all treatments, and the bioavailability of treatments was also similar based on AUC_∞, AUC_last, and C_max and their associated 90% CIs (Table 6[MHTML::dataref::31]). The ratios of adjusted geometric means of acetaminophen AUC_∞, AUC_last, and C_max were 99.79%, 100.00%, and 94.32 after administration of FDC relative to the coadministered monocomponents; each respective 90% CI fell within the limits indicative of bioequivalence. For the comparison of FDC with acetaminophen 500 mg alone, the ratios of adjusted geometric means of acetaminophen AUC_∞, AUC_last, and C_max were 104.00%, 104.12%, and 101.64%, respectively; all CIs were contained within the bioequivalence acceptance range of 80–125% (Table 6[MHTML::dataref::31]), also indicating bioequivalence.\n",
      "\n",
      "\n",
      "        SECTION: Study 3: Evaluation of PK in Adolescents:\n",
      "\n",
      "        PK metrics for ibuprofen and acetaminophen following administration of the FDC to adolescents in Study 3 are summarized in Table 7[MHTML::dataref::34]. Results are presented for all subjects and for the age groups 12–14 years and 15–17 years separately. The overall ibuprofen exposure (AUC values) following administration of the FDC was similar for both the younger and older age groups. However, the younger group had a C_max that was approximately 23% higher and occurred 1 h earlier relative to the older subjects (t_max: 1 vs. 2 h, respectively). Overall acetaminophen exposure was approximately 30% higher in the younger age group compared with the older age group. As with ibuprofen, C_max for acetaminophen was higher in the younger group (approximately 42%) and t_max was 0.5 h faster relative to the older group (0.5 vs. 1 h, respectively). The mean t_½ values were similar across all age groups.[MHTML::dataref::35]\n",
      "\n",
      "        Although not designed for a direct comparison, a numerical comparison of the results for the FDC in the fasted state in adolescents (Table 7[MHTML::dataref::34]) with those in adults (Table 2[MHTML::dataref::24]) indicated that the overall (AUC) and maximal (C_max) exposures to ibuprofen and acetaminophen in the adolescent group were similar to those in adults; overall exposure (AUC) to ibuprofen was slightly higher (95 µg∙h/mL vs. 77–78 µg∙h/mL) in adolescents.\n",
      "\n",
      "\n",
      "\n",
      "    SECTION: Safety:\n",
      "\n",
      "    AEs across the three trials were all mild or moderate in intensity; treatment-emergent AEs are summarized in Table 8[MHTML::dataref::36]. In Study 1, seven subjects (20%) reported 10 AEs; three AEs in two subjects were determined to be treatment-related: one subject experienced nausea (after ibuprofen 200 mg) and somnolence (after FDC fasted), and another reported headache (after FDC fed). All of these treatment-related AEs were mild and resolved. In Study 2, 10 subjects (21.7%) experienced 15 AEs. Six of these AEs in three subjects were determined to be treatment-related: two subjects experienced treatment-related constipation, and a third experienced abdominal distention, upper abdominal pain, dyspepsia, and nausea. Two of these AEs occurred during treatment with the monocomponents administered together, one during treatment with ibuprofen 250 mg, and three during treatment with acetaminophen 500 mg. All of these treatment-related AEs were mild and resolved. In Study 3, two subjects (9.5%) experienced five mild treatment-emergent AEs. One AE of dizziness was considered to be related to treatment with the FDC. No dose reductions or discontinuations due to AEs, no serious AEs, and no deaths occurred in any of the three studies. Likewise, no clinically significant changes in vital signs were apparent in any study. The safety profile of the FDC observed during each study was consistent with the known safety profile of the individual components.[MHTML::dataref::37]\n",
      "\n",
      "\n",
      "Text: SECTION: Discussion:\n",
      "\n",
      "This series of PK studies demonstrates that the FDC ibuprofen/acetaminophen 250/500 mg (administered as 2 × ibuprofen/acetaminophen 125/250 mg) is bioequivalent to its individual monocomponents when administered separately or together. These data substantiate the lack of drug–drug PK interactions or formulation effects, respectively, with the combination. Acetaminophen in the FDC is bioequivalent to dose-normalized acetaminophen ER 650 mg for AUC. However, an increase in acetaminophen C_max was seen with the FDC compared with the acetaminophen ER 650 mg comparator. This result was expected as the FDC is an immediate-release formulation, whereas the acetaminophen 650 mg used was an ER formulation with delayed absorption. Ibuprofen in the FDC was also bioequivalent to dose-normalized ibuprofen 200 mg for AUC and C_max. These results therefore demonstrate that the exposure to ibuprofen and acetaminophen in the FDC is similar to those of commercially available formulations of the individual components, indicating there should be no increased safety concerns.\n",
      "\n",
      "A food effect on the rate of absorption was observed with the FDC, with C_max for ibuprofen and acetaminophen decreased 36% and 37%, respectively, in the presence of food. T_max was also delayed by approximately 1.6 h for ibuprofen and 1.9 h for acetaminophen in fed, compared with fasting, conditions. This is consistent with a previous study in which an FDC of ibuprofen/acetaminophen at a total dose of 400/1000 mg, respectively, exhibited decreased C_max values in the fed versus fasted state (ratios of 76% and 61% for ibuprofen and acetaminophen, respectively) and delayed median t_max by 0.75 h and 1 h, respectively [6]. Studies of ibuprofen alone and acetaminophen alone have also demonstrated decreased C_max and delayed t_max when either is administered with food [19, 20]. Although the overall extent of absorption (AUC) of ibuprofen from the FDC was slightly reduced (14%) in the presence of food compared with ibuprofen alone, both AUC_∞ and AUC_last met the bioequivalence standard of 80–125%. The overall exposure to acetaminophen was not affected by food, therefore it is unlikely that the slightly reduced AUC of ibuprofen observed in the fed state would be clinically meaningful in terms of analgesic efficacy. However, the effect of food on efficacy has not been evaluated as the dental pain studies of the FDC were conducted with food restrictions, as is the standard methodology.\n",
      "\n",
      "The majority of PK studies of ibuprofen and acetaminophen have focused on adults and younger subjects, with limited data available in adolescents aged 12–17 years [6, 21–28]. As a result, population PK estimates and allometric adjustments or scaling have typically provided the rationale for dosing in this younger age group [27, 28]. The present study of FDC ibuprofen/acetaminophen 250/500 mg therefore adds new and relevant information by reporting ibuprofen and acetaminophen PK in this age group. Importantly, no clinically important differences in PK exposure were observed for adolescents in comparison with adult subjects 18 years of age and older. Indeed, while these studies were not designed to be compared, the overall plasma concentration-time curves for both components of the FDC (in the fasted state) were similar across all three studies, and comparison of AUC and C_max values between the adolescent and adult studies also indicates similar exposures to both components, with a slightly higher overall exposure to ibuprofen in adolescents. This provides support for similar dosing recommendations for adolescents as in adults.\n",
      "\n",
      "In the younger age subgroup of subjects aged 12–14 years, ibuprofen and acetaminophen exposures were slightly increased following a single dose of the FDC compared with the older age group aged 15–17 years. This difference was as expected given the smaller body surface area and lower body weight of the younger subjects, and the differences were not clinically meaningful.\n",
      "\n",
      "These studies confirm the results of previous studies indicating no drug–drug PK interaction between ibuprofen and acetaminophen [6, 17]; therefore, no additional safety concerns are expected compared with the administration of either agent alone. The data also indicate no formulation effect when combining the two ingredients into one tablet. Consistent with these findings, the FDC ibuprofen/acetaminophen 250/500 mg was safe and generally well tolerated in these studies. All AEs were mild or moderate in severity, with no discontinuations due to AEs. AEs were equally distributed between treatment arms, with no new safety concerns compared with the individual components. Importantly, exposure in adolescents was similar to that in adults, and the FDC was generally well tolerated, indicating that this formulation can be safely used in this population. However, it should be noted that these were small, short-duration studies, and rare and serious AEs such as gastrointestinal bleeding and liver failure would not be expected. However, a large, longer-duration study (13 weeks) evaluating a similar FDC of ibuprofen/acetaminophen (200/500 mg) found a safety profile that was at least as favorable as maximum single OTC doses of the individual components (ibuprofen 400 mg, acetaminophen 1000 mg) [15].\n",
      "\n",
      "\n",
      "Text with Refs: SECTION: Discussion:\n",
      "\n",
      "This series of PK studies demonstrates that the FDC ibuprofen/acetaminophen 250/500 mg (administered as 2 × ibuprofen/acetaminophen 125/250 mg) is bioequivalent to its individual monocomponents when administered separately or together. These data substantiate the lack of drug–drug PK interactions or formulation effects, respectively, with the combination. Acetaminophen in the FDC is bioequivalent to dose-normalized acetaminophen ER 650 mg for AUC. However, an increase in acetaminophen C_max was seen with the FDC compared with the acetaminophen ER 650 mg comparator. This result was expected as the FDC is an immediate-release formulation, whereas the acetaminophen 650 mg used was an ER formulation with delayed absorption. Ibuprofen in the FDC was also bioequivalent to dose-normalized ibuprofen 200 mg for AUC and C_max. These results therefore demonstrate that the exposure to ibuprofen and acetaminophen in the FDC is similar to those of commercially available formulations of the individual components, indicating there should be no increased safety concerns.\n",
      "\n",
      "A food effect on the rate of absorption was observed with the FDC, with C_max for ibuprofen and acetaminophen decreased 36% and 37%, respectively, in the presence of food. T_max was also delayed by approximately 1.6 h for ibuprofen and 1.9 h for acetaminophen in fed, compared with fasting, conditions. This is consistent with a previous study in which an FDC of ibuprofen/acetaminophen at a total dose of 400/1000 mg, respectively, exhibited decreased C_max values in the fed versus fasted state (ratios of 76% and 61% for ibuprofen and acetaminophen, respectively) and delayed median t_max by 0.75 h and 1 h, respectively [6[MHTML::dataref::4]]. Studies of ibuprofen alone and acetaminophen alone have also demonstrated decreased C_max and delayed t_max when either is administered with food [19[MHTML::dataref::38], 20[MHTML::dataref::39]]. Although the overall extent of absorption (AUC) of ibuprofen from the FDC was slightly reduced (14%) in the presence of food compared with ibuprofen alone, both AUC_∞ and AUC_last met the bioequivalence standard of 80–125%. The overall exposure to acetaminophen was not affected by food, therefore it is unlikely that the slightly reduced AUC of ibuprofen observed in the fed state would be clinically meaningful in terms of analgesic efficacy. However, the effect of food on efficacy has not been evaluated as the dental pain studies of the FDC were conducted with food restrictions, as is the standard methodology.\n",
      "\n",
      "The majority of PK studies of ibuprofen and acetaminophen have focused on adults and younger subjects, with limited data available in adolescents aged 12–17 years [6[MHTML::dataref::4], 21[MHTML::dataref::40]–28[MHTML::dataref::41]]. As a result, population PK estimates and allometric adjustments or scaling have typically provided the rationale for dosing in this younger age group [27[MHTML::dataref::42], 28[MHTML::dataref::41]]. The present study of FDC ibuprofen/acetaminophen 250/500 mg therefore adds new and relevant information by reporting ibuprofen and acetaminophen PK in this age group. Importantly, no clinically important differences in PK exposure were observed for adolescents in comparison with adult subjects 18 years of age and older. Indeed, while these studies were not designed to be compared, the overall plasma concentration-time curves for both components of the FDC (in the fasted state) were similar across all three studies, and comparison of AUC and C_max values between the adolescent and adult studies also indicates similar exposures to both components, with a slightly higher overall exposure to ibuprofen in adolescents. This provides support for similar dosing recommendations for adolescents as in adults.\n",
      "\n",
      "In the younger age subgroup of subjects aged 12–14 years, ibuprofen and acetaminophen exposures were slightly increased following a single dose of the FDC compared with the older age group aged 15–17 years. This difference was as expected given the smaller body surface area and lower body weight of the younger subjects, and the differences were not clinically meaningful.\n",
      "\n",
      "These studies confirm the results of previous studies indicating no drug–drug PK interaction between ibuprofen and acetaminophen [6[MHTML::dataref::4], 17[MHTML::dataref::16]]; therefore, no additional safety concerns are expected compared with the administration of either agent alone. The data also indicate no formulation effect when combining the two ingredients into one tablet. Consistent with these findings, the FDC ibuprofen/acetaminophen 250/500 mg was safe and generally well tolerated in these studies. All AEs were mild or moderate in severity, with no discontinuations due to AEs. AEs were equally distributed between treatment arms, with no new safety concerns compared with the individual components. Importantly, exposure in adolescents was similar to that in adults, and the FDC was generally well tolerated, indicating that this formulation can be safely used in this population. However, it should be noted that these were small, short-duration studies, and rare and serious AEs such as gastrointestinal bleeding and liver failure would not be expected. However, a large, longer-duration study (13 weeks) evaluating a similar FDC of ibuprofen/acetaminophen (200/500 mg) found a safety profile that was at least as favorable as maximum single OTC doses of the individual components (ibuprofen 400 mg, acetaminophen 1000 mg) [15[MHTML::dataref::15]].\n",
      "\n",
      "Text: SECTION: Conclusions:\n",
      "\n",
      "The FDC ibuprofen/acetaminophen 250/500 mg has a PK profile similar to its monocomponent constituents when administered alone or coadministered. Overall exposure to ibuprofen and acetaminophen was bioequivalent under fed versus fasted conditions, although, as expected, food delayed absorption, similar to what has previously been observed for each individual monocomponent. In adolescents, overall exposure to ibuprofen from the FDC, as measured by AUC, was similar in individuals 12–14 years of age and 15–17 years of age, but C_max was 23% higher and t_max was achieved earlier in the younger age group of patients. In contrast, acetaminophen exposure (i.e. AUC) was 30% higher in the younger group after administration of the FDC; C_max was 42% higher and t_max occurred earlier in the younger age group of patients than in older adolescents. Exposure to ibuprofen and acetaminophen in the overall group of adolescents was similar to that in adults, supporting the same dosing in that population.\n",
      "\n",
      "\n",
      "Text with Refs: SECTION: Conclusions:\n",
      "\n",
      "The FDC ibuprofen/acetaminophen 250/500 mg has a PK profile similar to its monocomponent constituents when administered alone or coadministered. Overall exposure to ibuprofen and acetaminophen was bioequivalent under fed versus fasted conditions, although, as expected, food delayed absorption, similar to what has previously been observed for each individual monocomponent. In adolescents, overall exposure to ibuprofen from the FDC, as measured by AUC, was similar in individuals 12–14 years of age and 15–17 years of age, but C_max was 23% higher and t_max was achieved earlier in the younger age group of patients. In contrast, acetaminophen exposure (i.e. AUC) was 30% higher in the younger group after administration of the FDC; C_max was 42% higher and t_max occurred earlier in the younger age group of patients than in older adolescents. Exposure to ibuprofen and acetaminophen in the overall group of adolescents was similar to that in adults, supporting the same dosing in that population.\n",
      "\n"
     ]
    }
   ],
   "metadata": {}
  },
  {
   "cell_type": "code",
   "execution_count": 589,
   "source": [
    "sample_table = p.ref_map[19]\n",
    "sample_table"
   ],
   "outputs": [
    {
     "output_type": "execute_result",
     "data": {
      "text/html": [
       "<style type=\"text/css\">\n",
       "</style>\n",
       "<table id=\"T_404ec\">\n",
       "  <caption>Table 1: Baseline characteristics</caption>\n",
       "  <thead>\n",
       "    <tr>\n",
       "      <th class=\"blank level0\" >&nbsp;</th>\n",
       "      <th id=\"T_404ec_level0_col0\" class=\"col_heading level0 col0\" >Unnamed: 0</th>\n",
       "      <th id=\"T_404ec_level0_col1\" class=\"col_heading level0 col1\" >Study 1 [N = 35]</th>\n",
       "      <th id=\"T_404ec_level0_col2\" class=\"col_heading level0 col2\" >Study 2 [N = 46]</th>\n",
       "      <th id=\"T_404ec_level0_col3\" class=\"col_heading level0 col3\" >Study 3 [N = 21]</th>\n",
       "    </tr>\n",
       "  </thead>\n",
       "  <tbody>\n",
       "    <tr>\n",
       "      <th id=\"T_404ec_level0_row0\" class=\"row_heading level0 row0\" >0</th>\n",
       "      <td id=\"T_404ec_row0_col0\" class=\"data row0 col0\" >Sex, male</td>\n",
       "      <td id=\"T_404ec_row0_col1\" class=\"data row0 col1\" >18 (51.4)</td>\n",
       "      <td id=\"T_404ec_row0_col2\" class=\"data row0 col2\" >25 (54.3)</td>\n",
       "      <td id=\"T_404ec_row0_col3\" class=\"data row0 col3\" >10 (47.6)</td>\n",
       "    </tr>\n",
       "    <tr>\n",
       "      <th id=\"T_404ec_level0_row1\" class=\"row_heading level0 row1\" >1</th>\n",
       "      <td id=\"T_404ec_row1_col0\" class=\"data row1 col0\" >Mean age, (years) (SD)</td>\n",
       "      <td id=\"T_404ec_row1_col1\" class=\"data row1 col1\" >35.6 (9.4)</td>\n",
       "      <td id=\"T_404ec_row1_col2\" class=\"data row1 col2\" >39.3 (9.2)</td>\n",
       "      <td id=\"T_404ec_row1_col3\" class=\"data row1 col3\" >14.7 (1.8)</td>\n",
       "    </tr>\n",
       "    <tr>\n",
       "      <th id=\"T_404ec_level0_row2\" class=\"row_heading level0 row2\" >2</th>\n",
       "      <td id=\"T_404ec_row2_col0\" class=\"data row2 col0\" >Age 12–14 years</td>\n",
       "      <td id=\"T_404ec_row2_col1\" class=\"data row2 col1\" >–</td>\n",
       "      <td id=\"T_404ec_row2_col2\" class=\"data row2 col2\" >–</td>\n",
       "      <td id=\"T_404ec_row2_col3\" class=\"data row2 col3\" >10 (47.6)</td>\n",
       "    </tr>\n",
       "    <tr>\n",
       "      <th id=\"T_404ec_level0_row3\" class=\"row_heading level0 row3\" >3</th>\n",
       "      <td id=\"T_404ec_row3_col0\" class=\"data row3 col0\" >Age 15–17 years</td>\n",
       "      <td id=\"T_404ec_row3_col1\" class=\"data row3 col1\" >–</td>\n",
       "      <td id=\"T_404ec_row3_col2\" class=\"data row3 col2\" >–</td>\n",
       "      <td id=\"T_404ec_row3_col3\" class=\"data row3 col3\" >11 (52.4)</td>\n",
       "    </tr>\n",
       "    <tr>\n",
       "      <th id=\"T_404ec_level0_row4\" class=\"row_heading level0 row4\" >4</th>\n",
       "      <td id=\"T_404ec_row4_col0\" class=\"data row4 col0\" >Race</td>\n",
       "      <td id=\"T_404ec_row4_col1\" class=\"data row4 col1\" >Race</td>\n",
       "      <td id=\"T_404ec_row4_col2\" class=\"data row4 col2\" >Race</td>\n",
       "      <td id=\"T_404ec_row4_col3\" class=\"data row4 col3\" >Race</td>\n",
       "    </tr>\n",
       "    <tr>\n",
       "      <th id=\"T_404ec_level0_row5\" class=\"row_heading level0 row5\" >5</th>\n",
       "      <td id=\"T_404ec_row5_col0\" class=\"data row5 col0\" >White</td>\n",
       "      <td id=\"T_404ec_row5_col1\" class=\"data row5 col1\" >4 (11.4)</td>\n",
       "      <td id=\"T_404ec_row5_col2\" class=\"data row5 col2\" >9 (19.6)</td>\n",
       "      <td id=\"T_404ec_row5_col3\" class=\"data row5 col3\" >13 (61.9)</td>\n",
       "    </tr>\n",
       "    <tr>\n",
       "      <th id=\"T_404ec_level0_row6\" class=\"row_heading level0 row6\" >6</th>\n",
       "      <td id=\"T_404ec_row6_col0\" class=\"data row6 col0\" >Black</td>\n",
       "      <td id=\"T_404ec_row6_col1\" class=\"data row6 col1\" >19 (54.3)</td>\n",
       "      <td id=\"T_404ec_row6_col2\" class=\"data row6 col2\" >19 (41.3)</td>\n",
       "      <td id=\"T_404ec_row6_col3\" class=\"data row6 col3\" >3 (14.3)</td>\n",
       "    </tr>\n",
       "    <tr>\n",
       "      <th id=\"T_404ec_level0_row7\" class=\"row_heading level0 row7\" >7</th>\n",
       "      <td id=\"T_404ec_row7_col0\" class=\"data row7 col0\" >Other</td>\n",
       "      <td id=\"T_404ec_row7_col1\" class=\"data row7 col1\" >12 (34.3)</td>\n",
       "      <td id=\"T_404ec_row7_col2\" class=\"data row7 col2\" >18 (39.1)</td>\n",
       "      <td id=\"T_404ec_row7_col3\" class=\"data row7 col3\" >5 (23.8)</td>\n",
       "    </tr>\n",
       "    <tr>\n",
       "      <th id=\"T_404ec_level0_row8\" class=\"row_heading level0 row8\" >8</th>\n",
       "      <td id=\"T_404ec_row8_col0\" class=\"data row8 col0\" >Ethnicity</td>\n",
       "      <td id=\"T_404ec_row8_col1\" class=\"data row8 col1\" >Ethnicity</td>\n",
       "      <td id=\"T_404ec_row8_col2\" class=\"data row8 col2\" >Ethnicity</td>\n",
       "      <td id=\"T_404ec_row8_col3\" class=\"data row8 col3\" >Ethnicity</td>\n",
       "    </tr>\n",
       "    <tr>\n",
       "      <th id=\"T_404ec_level0_row9\" class=\"row_heading level0 row9\" >9</th>\n",
       "      <td id=\"T_404ec_row9_col0\" class=\"data row9 col0\" >Hispanic/Latino</td>\n",
       "      <td id=\"T_404ec_row9_col1\" class=\"data row9 col1\" >14 (40.0)</td>\n",
       "      <td id=\"T_404ec_row9_col2\" class=\"data row9 col2\" >18 (39.1)</td>\n",
       "      <td id=\"T_404ec_row9_col3\" class=\"data row9 col3\" >4 (19.0)</td>\n",
       "    </tr>\n",
       "    <tr>\n",
       "      <th id=\"T_404ec_level0_row10\" class=\"row_heading level0 row10\" >10</th>\n",
       "      <td id=\"T_404ec_row10_col0\" class=\"data row10 col0\" >Non-Hispanic/Latino</td>\n",
       "      <td id=\"T_404ec_row10_col1\" class=\"data row10 col1\" >21 (60.0)</td>\n",
       "      <td id=\"T_404ec_row10_col2\" class=\"data row10 col2\" >28 (60.9)</td>\n",
       "      <td id=\"T_404ec_row10_col3\" class=\"data row10 col3\" >17 (81.0)</td>\n",
       "    </tr>\n",
       "    <tr>\n",
       "      <th id=\"T_404ec_level0_row11\" class=\"row_heading level0 row11\" >11</th>\n",
       "      <td id=\"T_404ec_row11_col0\" class=\"data row11 col0\" >Mean weight, (kg) (SD)</td>\n",
       "      <td id=\"T_404ec_row11_col1\" class=\"data row11 col1\" >78.5 (14.1)</td>\n",
       "      <td id=\"T_404ec_row11_col2\" class=\"data row11 col2\" >75.4 (12.5)</td>\n",
       "      <td id=\"T_404ec_row11_col3\" class=\"data row11 col3\" >56.2 (9.2)</td>\n",
       "    </tr>\n",
       "    <tr>\n",
       "      <th id=\"T_404ec_level0_row12\" class=\"row_heading level0 row12\" >12</th>\n",
       "      <td id=\"T_404ec_row12_col0\" class=\"data row12 col0\" >Mean height, (cm) (SD)</td>\n",
       "      <td id=\"T_404ec_row12_col1\" class=\"data row12 col1\" >171.2 (11.4)</td>\n",
       "      <td id=\"T_404ec_row12_col2\" class=\"data row12 col2\" >169.9 (8.6)</td>\n",
       "      <td id=\"T_404ec_row12_col3\" class=\"data row12 col3\" >164.3 (7.4)</td>\n",
       "    </tr>\n",
       "    <tr>\n",
       "      <th id=\"T_404ec_level0_row13\" class=\"row_heading level0 row13\" >13</th>\n",
       "      <td id=\"T_404ec_row13_col0\" class=\"data row13 col0\" >Mean BMI, (kg/m^2) (SD)</td>\n",
       "      <td id=\"T_404ec_row13_col1\" class=\"data row13 col1\" >26.6 (3.0)</td>\n",
       "      <td id=\"T_404ec_row13_col2\" class=\"data row13 col2\" >26.0 (3.0)</td>\n",
       "      <td id=\"T_404ec_row13_col3\" class=\"data row13 col3\" >–</td>\n",
       "    </tr>\n",
       "  </tbody>\n",
       "</table>\n"
      ],
      "text/plain": [
       "<pandas.io.formats.style.Styler at 0x7f7bb1fdf760>"
      ]
     },
     "metadata": {},
     "execution_count": 589
    }
   ],
   "metadata": {}
  },
  {
   "cell_type": "code",
   "execution_count": 590,
   "source": [
    "p._ref_map_with_tags\n"
   ],
   "outputs": [
    {
     "output_type": "execute_result",
     "data": {
      "text/plain": [
       "{0: '<table-wrap xmlns:mml=\"http://www.w3.org/1998/Math/MathML\" xmlns:xlink=\"http://www.w3.org/1999/xlink\" id=\"Taba\"><table frame=\"hsides\" rules=\"groups\"><tbody><tr><td align=\"left\">The pharmacokinetic profile of a fixed-dose combination (FDC) of ibuprofen 250&#160;mg and acetaminophen 500&#160;mg was found to be similar to its individual components administered separately or coadministered; bioequivalence was demonstrated for both overall and maximal exposure.</td></tr><tr><td align=\"left\">Similar to what has been previously reported for the individual ingredients, food delayed the absorption of both components but had no effect on overall exposure; exposure to both components in adolescents was similar to that in adults, with younger adolescents having slightly greater exposure.</td></tr><tr><td align=\"left\">Since the efficacy of this FDC has been shown to be superior to the same doses of individual components and it is generally well tolerated, this new FDC may provide another analgesic treatment option to relieve pain.</td></tr></tbody></table></table-wrap>',\n",
       " 1: '<xref xmlns:mml=\"http://www.w3.org/1998/Math/MathML\" xmlns:xlink=\"http://www.w3.org/1999/xlink\" ref-type=\"bibr\" rid=\"CR1\">1</xref>',\n",
       " 2: '<xref xmlns:mml=\"http://www.w3.org/1998/Math/MathML\" xmlns:xlink=\"http://www.w3.org/1999/xlink\" ref-type=\"bibr\" rid=\"CR2\">2</xref>',\n",
       " 3: '<xref xmlns:mml=\"http://www.w3.org/1998/Math/MathML\" xmlns:xlink=\"http://www.w3.org/1999/xlink\" ref-type=\"bibr\" rid=\"CR5\">5</xref>',\n",
       " 4: '<xref xmlns:mml=\"http://www.w3.org/1998/Math/MathML\" xmlns:xlink=\"http://www.w3.org/1999/xlink\" ref-type=\"bibr\" rid=\"CR6\">6</xref>',\n",
       " 5: '<xref xmlns:mml=\"http://www.w3.org/1998/Math/MathML\" xmlns:xlink=\"http://www.w3.org/1999/xlink\" ref-type=\"bibr\" rid=\"CR7\">7</xref>',\n",
       " 6: '<xref xmlns:mml=\"http://www.w3.org/1998/Math/MathML\" xmlns:xlink=\"http://www.w3.org/1999/xlink\" ref-type=\"bibr\" rid=\"CR8\">8</xref>',\n",
       " 7: '<xref xmlns:mml=\"http://www.w3.org/1998/Math/MathML\" xmlns:xlink=\"http://www.w3.org/1999/xlink\" ref-type=\"bibr\" rid=\"CR9\">9</xref>',\n",
       " 8: '<xref xmlns:mml=\"http://www.w3.org/1998/Math/MathML\" xmlns:xlink=\"http://www.w3.org/1999/xlink\" ref-type=\"bibr\" rid=\"CR10\">10</xref>',\n",
       " 9: '<xref xmlns:mml=\"http://www.w3.org/1998/Math/MathML\" xmlns:xlink=\"http://www.w3.org/1999/xlink\" ref-type=\"bibr\" rid=\"CR11\">11</xref>',\n",
       " 10: '<xref xmlns:mml=\"http://www.w3.org/1998/Math/MathML\" xmlns:xlink=\"http://www.w3.org/1999/xlink\" ref-type=\"bibr\" rid=\"CR12\">12</xref>',\n",
       " 11: '<xref xmlns:mml=\"http://www.w3.org/1998/Math/MathML\" xmlns:xlink=\"http://www.w3.org/1999/xlink\" ref-type=\"bibr\" rid=\"CR13\">13</xref>',\n",
       " 12: '<xref xmlns:mml=\"http://www.w3.org/1998/Math/MathML\" xmlns:xlink=\"http://www.w3.org/1999/xlink\" ref-type=\"bibr\" rid=\"CR14\">14</xref>',\n",
       " 13: '<xref xmlns:mml=\"http://www.w3.org/1998/Math/MathML\" xmlns:xlink=\"http://www.w3.org/1999/xlink\" ref-type=\"bibr\" rid=\"CR3\">3</xref>',\n",
       " 14: '<xref xmlns:mml=\"http://www.w3.org/1998/Math/MathML\" xmlns:xlink=\"http://www.w3.org/1999/xlink\" ref-type=\"bibr\" rid=\"CR16\">16</xref>',\n",
       " 15: '<xref xmlns:mml=\"http://www.w3.org/1998/Math/MathML\" xmlns:xlink=\"http://www.w3.org/1999/xlink\" ref-type=\"bibr\" rid=\"CR15\">15</xref>',\n",
       " 16: '<xref xmlns:mml=\"http://www.w3.org/1998/Math/MathML\" xmlns:xlink=\"http://www.w3.org/1999/xlink\" ref-type=\"bibr\" rid=\"CR17\">17</xref>',\n",
       " 17: '<xref xmlns:mml=\"http://www.w3.org/1998/Math/MathML\" xmlns:xlink=\"http://www.w3.org/1999/xlink\" ref-type=\"bibr\" rid=\"CR18\">18</xref>',\n",
       " 18: '<xref xmlns:mml=\"http://www.w3.org/1998/Math/MathML\" xmlns:xlink=\"http://www.w3.org/1999/xlink\" rid=\"Tab1\" ref-type=\"table\">1</xref>',\n",
       " 19: '<table-wrap xmlns:mml=\"http://www.w3.org/1998/Math/MathML\" xmlns:xlink=\"http://www.w3.org/1999/xlink\" id=\"Tab1\"><label>Table&#160;1</label><caption><p>Baseline characteristics</p></caption><table frame=\"hsides\" rules=\"groups\"><thead><tr><th align=\"left\"/><th align=\"left\">Study 1 [N&#8201;=&#8201;35]</th><th align=\"left\">Study 2 [N&#8201;=&#8201;46]</th><th align=\"left\">Study 3 [N&#8201;=&#8201;21]</th></tr></thead><tbody><tr><td align=\"left\">Sex, male</td><td align=\"left\">18 (51.4)</td><td align=\"left\">25 (54.3)</td><td align=\"left\">10 (47.6)</td></tr><tr><td align=\"left\">Mean age, (years) (SD)</td><td align=\"left\">35.6 (9.4)</td><td align=\"left\">39.3 (9.2)</td><td align=\"left\">14.7 (1.8)</td></tr><tr><td align=\"left\">&#160;Age 12&#8211;14&#160;years</td><td align=\"left\">&#8211;</td><td align=\"left\">&#8211;</td><td align=\"left\">10 (47.6)</td></tr><tr><td align=\"left\">&#160;Age 15&#8211;17&#160;years</td><td align=\"left\">&#8211;</td><td align=\"left\">&#8211;</td><td align=\"left\">11 (52.4)</td></tr><tr><td align=\"left\" colspan=\"4\">Race</td></tr><tr><td align=\"left\">&#160;White</td><td align=\"left\">4 (11.4)</td><td align=\"left\">9 (19.6)</td><td align=\"left\">13 (61.9)</td></tr><tr><td align=\"left\">&#160;Black</td><td align=\"left\">19 (54.3)</td><td align=\"left\">19 (41.3)</td><td align=\"left\">3 (14.3)</td></tr><tr><td align=\"left\">&#160;Other</td><td align=\"left\">12 (34.3)</td><td align=\"left\">18 (39.1)</td><td align=\"left\">5 (23.8)</td></tr><tr><td align=\"left\" colspan=\"4\">Ethnicity</td></tr><tr><td align=\"left\">&#160;Hispanic/Latino</td><td align=\"left\">14 (40.0)</td><td align=\"left\">18 (39.1)</td><td align=\"left\">4 (19.0)</td></tr><tr><td align=\"left\">&#160;Non-Hispanic/Latino</td><td align=\"left\">21 (60.0)</td><td align=\"left\">28 (60.9)</td><td align=\"left\">17 (81.0)</td></tr><tr><td align=\"left\">Mean weight, (kg) (SD)</td><td align=\"left\">78.5 (14.1)</td><td align=\"left\">75.4 (12.5)</td><td align=\"left\">56.2 (9.2)</td></tr><tr><td align=\"left\">Mean height, (cm) (SD)</td><td align=\"left\">171.2 (11.4)</td><td align=\"left\">169.9 (8.6)</td><td align=\"left\">164.3 (7.4)</td></tr><tr><td align=\"left\">Mean BMI, (kg/m^2) (SD)</td><td align=\"left\">26.6 (3.0)</td><td align=\"left\">26.0 (3.0)</td><td align=\"left\">&#8211;</td></tr></tbody></table><table-wrap-foot><p>Data are expressed as n (%) unless otherwise specified</p><p>BMI body mass index, SD standard deviation</p></table-wrap-foot></table-wrap>',\n",
       " 20: '<xref xmlns:mml=\"http://www.w3.org/1998/Math/MathML\" xmlns:xlink=\"http://www.w3.org/1999/xlink\" rid=\"Fig1\" ref-type=\"fig\">1</xref>',\n",
       " 21: '<xref xmlns:mml=\"http://www.w3.org/1998/Math/MathML\" xmlns:xlink=\"http://www.w3.org/1999/xlink\" rid=\"Fig2\" ref-type=\"fig\">2</xref>',\n",
       " 22: '<fig xmlns:mml=\"http://www.w3.org/1998/Math/MathML\" xmlns:xlink=\"http://www.w3.org/1999/xlink\" id=\"Fig1\"><label>Fig.&#160;1</label><caption><p>Median plasma ibuprofen concentration over time following a single oral dose: a Study 1; b Study 2; c Study 3. Note that plasma concentrations for IBU 200&#160;mg in Study 1 are dose-normalized. APAP acetaminophen, FDC fixed-dose combination, IBU ibuprofen</p></caption><graphic xlink:href=\"40268_2020_293_Fig1_HTML\" id=\"MO1\"/></fig>',\n",
       " 23: '<fig xmlns:mml=\"http://www.w3.org/1998/Math/MathML\" xmlns:xlink=\"http://www.w3.org/1999/xlink\" id=\"Fig2\"><label>Fig.&#160;2</label><caption><p>Median plasma acetaminophen concentration over time following a single oral dose: a Study 1; b Study 2; c Study 3. Note that plasma concentrations for APAP ER 650&#160;mg in Study 1 are dose-normalized. APAP acetaminophen, ER extended-release, FDC fixed-dose combination, IBU ibuprofen</p></caption><graphic xlink:href=\"40268_2020_293_Fig2_HTML\" id=\"MO2\"/></fig>',\n",
       " 24: '<xref xmlns:mml=\"http://www.w3.org/1998/Math/MathML\" xmlns:xlink=\"http://www.w3.org/1999/xlink\" rid=\"Tab2\" ref-type=\"table\">2</xref>',\n",
       " 25: '<xref xmlns:mml=\"http://www.w3.org/1998/Math/MathML\" xmlns:xlink=\"http://www.w3.org/1999/xlink\" rid=\"Tab3\" ref-type=\"table\">3</xref>',\n",
       " 26: '<table-wrap xmlns:mml=\"http://www.w3.org/1998/Math/MathML\" xmlns:xlink=\"http://www.w3.org/1999/xlink\" id=\"Tab2\"><label>Table&#160;2</label><caption><p>Summary of plasma pharmacokinetic metrics for ibuprofen and acetaminophen following single oral doses: Study 1</p></caption><table frame=\"hsides\" rules=\"groups\"><thead><tr><th align=\"left\">PK metric (units)</th><th align=\"left\">FDC IBU/APAP 250/500&#160;mg (fasted)<break/>[N, n&#8201;=&#8201;34, 34]</th><th align=\"left\">IBU 200&#160;mg (fasted)<break/>[N, n&#8201;=&#8201;34, 34]</th><th align=\"left\">FDC IBU/APAP 250/500&#160;mg (fed)<break/>[N, n&#8201;=&#8201;35, 34]</th></tr></thead><tbody><tr><td align=\"left\" colspan=\"4\">Ibuprofen</td></tr><tr><td align=\"left\">&#160;AUC_&#8734;, (&#181;g&#8729;h/mL)</td><td align=\"left\">77.51 (19)</td><td align=\"left\">62.00 (20)</td><td align=\"left\">67.08 (19)</td></tr><tr><td align=\"left\">&#160;AUC_last, (&#181;g&#8729;h/mL)</td><td align=\"left\">75.95 (19)</td><td align=\"left\">60.34 (20)</td><td align=\"left\">65.24 (20)</td></tr><tr><td align=\"left\">&#160;C_max, (&#181;g/mL)</td><td align=\"left\">21.50 (26)</td><td align=\"left\">16.77 (27)</td><td align=\"left\">13.74 (33)</td></tr><tr><td align=\"left\">&#160;t_max, (h)</td><td align=\"left\">1.38 (0.50&#8211;4.00)</td><td align=\"left\">2.00 (0.50&#8211;6.00)</td><td align=\"left\">3.00 (0.33&#8211;10.00)</td></tr><tr><td align=\"left\">&#160;t_&#189;, (h)</td><td align=\"left\">2.19 (0.456)</td><td align=\"left\">2.25 (0.375)</td><td align=\"left\">2.43 (0.634)</td></tr><tr><td align=\"left\">&#160;AUC_&#8734;, (&#181;g&#8729;h/mL)^a</td><td align=\"left\">77.51 (19)</td><td align=\"left\">77.51 (20)</td><td align=\"left\">67.08 (19)</td></tr><tr><td align=\"left\">&#160;AUC_last, (&#181;g&#8729;h/mL)^a</td><td align=\"left\">75.95 (19)</td><td align=\"left\">75.41 (20)</td><td align=\"left\">65.24 (20)</td></tr><tr><td align=\"left\">&#160;C_max, (&#181;g/mL)^a</td><td align=\"left\">21.50 (26)</td><td align=\"left\">20.98 (27)</td><td align=\"left\">13.74 (33)</td></tr></tbody></table><table frame=\"hsides\" rules=\"groups\"><thead><tr><th align=\"left\">PK metric (units)</th><th align=\"left\">FDC IBU/APAP<break/>250/500&#160;mg (fasted)<break/>[N, n&#8201;=&#8201;34, 34]</th><th align=\"left\">APAP ER 650&#160;mg (fasted)<break/>[N, n&#8201;=&#8201;34, 34]</th><th align=\"left\">FDC IBU/APAP 250/500&#160;mg (fed)<break/>[N, n&#8201;=&#8201;35, 33]</th></tr></thead><tbody><tr><td align=\"left\" colspan=\"4\">Acetaminophen</td></tr><tr><td align=\"left\">&#160;AUC_&#8734;, (&#181;g&#8729;h/mL)</td><td align=\"left\">26.36 (29)</td><td align=\"left\">31.53 (30)</td><td align=\"left\">24.97 (28)</td></tr><tr><td align=\"left\">&#160;AUC_last, (&#181;g&#8729;h/mL)</td><td align=\"left\">25.33 (29)</td><td align=\"left\">30.40 (30)</td><td align=\"left\">23.88 (28)^b</td></tr><tr><td align=\"left\">&#160;C_max, (&#181;g/mL)</td><td align=\"left\">7.26 (39)</td><td align=\"left\">5.28 (32)</td><td align=\"left\">4.58 (34)^b</td></tr><tr><td align=\"left\">&#160;t_max, (h)</td><td align=\"left\">0.58 (0.17&#8211;2.00)</td><td align=\"left\">1.50 (0.33&#8211;4.00)</td><td align=\"left\">2.49 (0.33&#8211;6.00)^b</td></tr><tr><td align=\"left\">&#160;t_&#189;, (h)</td><td align=\"left\">4.56 (1.563)</td><td align=\"left\">4.52 (1.310)</td><td align=\"left\">4.69 (1.195)</td></tr><tr><td align=\"left\">&#160;AUC_&#8734;, (&#181;g&#8729;h/mL)^c</td><td align=\"left\">26.36 (29)</td><td align=\"left\">24.26 (30)</td><td align=\"left\">24.97 (28)</td></tr><tr><td align=\"left\">&#160;AUC_last, &#181;g&#8729;h/mL)^c</td><td align=\"left\">25.33 (29)</td><td align=\"left\">23.37 (30)</td><td align=\"left\">23.88 (28)^b</td></tr><tr><td align=\"left\">&#160;C_max, (&#181;g/mL)^c</td><td align=\"left\">7.26 (39)</td><td align=\"left\">4.06 (32)</td><td align=\"left\">4.58 (34)^b</td></tr></tbody></table><table-wrap-foot><p>All values are geometric mean (geometric %CV [percentage coefficient of variation]) except for t_max, where median (range) is reported, and t_&#189;, where arithmetic mean&#8201;&#177;&#8201;SD is reported</p><p>APAP acetaminophen, AUC_&#8734; area under the concentration-time curve from time zero to infinity, AUC_last area under the concentration-time curve from time zero to the last quantifiable concentration, C_max maximum concentration, ER extended release, FDC fixed-dose combination, IBU ibuprofen, PK pharmacokinetic, SD standard deviation, t_&#189;, terminal half-life, t_max time to maximum concentration</p><p>^aNormalized to IBU 250&#160;mg</p><p>^bn&#8201;=&#8201;34</p><p>^cNormalized to APAP 500&#160;mg</p></table-wrap-foot></table-wrap>',\n",
       " 27: '<table-wrap xmlns:mml=\"http://www.w3.org/1998/Math/MathML\" xmlns:xlink=\"http://www.w3.org/1999/xlink\" id=\"Tab3\"><label>Table&#160;3</label><caption><p>Summary of treatment and food effect comparisons for ibuprofen: Study 1</p></caption><table frame=\"hsides\" rules=\"groups\"><thead><tr><th align=\"left\" rowspan=\"2\">PK metric (units)</th><th align=\"left\" colspan=\"2\">Adjusted geometric means</th><th align=\"left\" rowspan=\"2\">Ratio [test/reference] of adjusted means^a</th><th align=\"left\" rowspan=\"2\">90% CI for ratio^a</th></tr><tr><th align=\"left\">FDC IBU/APAP 250/500&#160;mg (fasted) [test]</th><th align=\"left\">IBU 200&#160;mg (fasted)<break/>[reference]</th></tr></thead><tbody><tr><td align=\"left\" colspan=\"5\">Summary of treatment comparisons</td></tr><tr><td align=\"left\">&#160;AUC_&#8734;, (&#181;g&#8729;h/mL)</td><td char=\".\" align=\"char\">77.46</td><td char=\".\" align=\"char\">77.51</td><td char=\".\" align=\"char\">99.93</td><td char=\"&#8211;\" align=\"char\">94.83&#8211;105.30</td></tr><tr><td align=\"left\">&#160;AUC_last, (&#181;g&#8729;h/mL)</td><td char=\".\" align=\"char\">75.88</td><td char=\".\" align=\"char\">75.40</td><td char=\".\" align=\"char\">100.63</td><td char=\"&#8211;\" align=\"char\">95.45&#8211;106.10</td></tr><tr><td align=\"left\">&#160;C_max, (&#181;g/mL)</td><td char=\".\" align=\"char\">21.50</td><td char=\".\" align=\"char\">20.99</td><td char=\".\" align=\"char\">102.44</td><td char=\"&#8211;\" align=\"char\">91.89&#8211;114.20</td></tr><tr><td align=\"left\" colspan=\"5\">Summary of food effect comparisons</td></tr><tr><td align=\"left\">&#160;AUC_&#8734;, (&#181;g&#8729;h/mL)</td><td char=\".\" align=\"char\">67.09</td><td char=\".\" align=\"char\">77.46</td><td char=\".\" align=\"char\">86.61</td><td char=\"&#8211;\" align=\"char\">82.19&#8211;91.27</td></tr><tr><td align=\"left\">&#160;AUC_last, (&#181;g&#8729;h/mL)</td><td char=\".\" align=\"char\">65.23</td><td char=\".\" align=\"char\">75.88</td><td char=\".\" align=\"char\">85.96</td><td char=\"&#8211;\" align=\"char\">81.53&#8211;90.63</td></tr><tr><td align=\"left\">&#160;C_max, (&#181;g/mL)</td><td char=\".\" align=\"char\">13.73</td><td char=\".\" align=\"char\">21.50</td><td char=\".\" align=\"char\">63.86</td><td char=\"&#8211;\" align=\"char\">57.28&#8211;71.19</td></tr></tbody></table><table-wrap-foot><p>APAP acetaminophen, AUC_&#8734; area under the concentration-time curve from time zero to infinity, AUC_last area under the concentration-time curve from time zero to the last quantifiable concentration, CI confidence interval, C_max maximum concentration, FDC fixed-dose combination, IBU ibuprofen, PK pharmacokinetic</p><p>^aRatios and 90% CIs are expressed as percentages</p></table-wrap-foot></table-wrap>',\n",
       " 28: '<xref xmlns:mml=\"http://www.w3.org/1998/Math/MathML\" xmlns:xlink=\"http://www.w3.org/1999/xlink\" rid=\"Tab4\" ref-type=\"table\">4</xref>',\n",
       " 29: '<table-wrap xmlns:mml=\"http://www.w3.org/1998/Math/MathML\" xmlns:xlink=\"http://www.w3.org/1999/xlink\" id=\"Tab4\"><label>Table&#160;4</label><caption><p>Summary of treatment and food effect comparisons for acetaminophen: Study 1</p></caption><table frame=\"hsides\" rules=\"groups\"><thead><tr><th align=\"left\" rowspan=\"2\">PK metric (units)</th><th align=\"left\" colspan=\"2\">Adjusted geometric means</th><th align=\"left\" rowspan=\"2\">Ratio [test/reference] of adjusted means^a</th><th align=\"left\" rowspan=\"2\">90% CI for ratio^a</th></tr><tr><th align=\"left\">FDC IBU/APAP 250/500&#160;mg (fasted) [test]</th><th align=\"left\">APAP ER 650&#160;mg (fasted) [reference]</th></tr></thead><tbody><tr><td char=\"&#8211;\" align=\"char\" colspan=\"5\">Summary of treatment comparisons</td></tr><tr><td align=\"left\">&#160;AUC_&#8734;, (&#181;g&#8729;h/mL)</td><td align=\"left\">26.44</td><td align=\"left\">24.34</td><td align=\"left\">108.60</td><td align=\"left\">103.93&#8211;113.49</td></tr><tr><td align=\"left\">&#160;AUC_last, (&#181;g&#8729;h/mL)</td><td align=\"left\">25.40</td><td align=\"left\">23.46</td><td align=\"left\">108.27</td><td align=\"left\">103.48&#8211;113.28</td></tr><tr><td align=\"left\">&#160;C_max, (&#181;g/mL)</td><td align=\"left\">7.260</td><td align=\"left\">4.090</td><td align=\"left\">177.48</td><td align=\"left\">158.75&#8211;198.42</td></tr><tr><td align=\"left\" colspan=\"5\">Summary of food effect comparisons</td></tr><tr><td align=\"left\">&#160;AUC_&#8734;, (&#181;g&#8729;h/mL)</td><td align=\"left\">25.12</td><td align=\"left\">26.44</td><td align=\"left\">95.01</td><td align=\"left\">90.88&#8211;99.34</td></tr><tr><td align=\"left\">&#160;AUC_last, (&#181;g&#8729;h/mL)</td><td align=\"left\">23.95</td><td align=\"left\">25.40</td><td align=\"left\">94.29</td><td align=\"left\">90.12&#8211;98.65</td></tr><tr><td align=\"left\">&#160;C_max, (&#181;g/mL)</td><td align=\"left\">4.590</td><td align=\"left\">7.260</td><td align=\"left\">63.22</td><td align=\"left\">56.55&#8211;70.68</td></tr></tbody></table><table-wrap-foot><p>APAP acetaminophen, AUC_&#8734; area under the concentration-time curve from time zero to infinity, AUC_last area under the concentration-time curve from time zero to the last quantifiable concentration, CI confidence interval, C_max maximum concentration, ER extended release, FDC fixed-dose combination, IBU ibuprofen, PK pharmacokinetic</p><p>^aRatios and 90% CIs are expressed as percentages</p></table-wrap-foot></table-wrap>',\n",
       " 30: '<xref xmlns:mml=\"http://www.w3.org/1998/Math/MathML\" xmlns:xlink=\"http://www.w3.org/1999/xlink\" rid=\"Tab5\" ref-type=\"table\">5</xref>',\n",
       " 31: '<xref xmlns:mml=\"http://www.w3.org/1998/Math/MathML\" xmlns:xlink=\"http://www.w3.org/1999/xlink\" rid=\"Tab6\" ref-type=\"table\">6</xref>',\n",
       " 32: '<table-wrap xmlns:mml=\"http://www.w3.org/1998/Math/MathML\" xmlns:xlink=\"http://www.w3.org/1999/xlink\" id=\"Tab5\"><label>Table&#160;5</label><caption><p>Summary of plasma pharmacokinetic metrics for ibuprofen and acetaminophen following single oral doses: Study 2</p></caption><table frame=\"hsides\" rules=\"groups\"><thead><tr><th align=\"left\">PK metric (units)</th><th align=\"left\">FDC IBU/APAP 250/500&#160;mg<break/>[N, n&#8201;=&#8201;45, 44]</th><th align=\"left\">IBU 250&#160;mg&#8201;+&#8201;APAP 500&#160;mg<break/>(coadministered monocomponents)<break/>[N, n&#8201;=&#8201;45, 44]</th><th align=\"left\">IBU 250&#160;mg<break/>(N, n&#8201;=&#8201;44, 44)</th></tr></thead><tbody><tr><td align=\"left\" colspan=\"4\">IBU</td></tr><tr><td align=\"left\">&#160;AUC_&#8734;, (&#181;g&#8729;h/mL)</td><td align=\"left\">79.12 (21)</td><td align=\"left\">77.17 (25)</td><td align=\"left\">77.01 (23)^a</td></tr><tr><td align=\"left\">&#160;AUC_last, (&#181;g&#8729;h/mL)</td><td align=\"left\">77.11 (20)</td><td align=\"left\">74.87 (24)</td><td align=\"left\">74.81 (22)</td></tr><tr><td align=\"left\">&#160;C_max, (&#181;g/mL)</td><td align=\"left\">22.11 (22)</td><td align=\"left\">19.67 (28)</td><td align=\"left\">19.74 (30)</td></tr><tr><td align=\"left\">&#160;t_max, (h)</td><td align=\"left\">1.25 (0.50&#8211;4.00)</td><td align=\"left\">1.50 (0.33&#8211;4.00)</td><td align=\"left\">1.38 (0.50&#8211;8.00)</td></tr><tr><td align=\"left\">&#160;t_&#189;, (h)</td><td align=\"left\">2.07 (0.33)</td><td align=\"left\">2.10 (0.38)</td><td align=\"left\">2.09 (0.33)^a</td></tr><tr><td align=\"left\" colspan=\"4\">APAP</td></tr><tr><td align=\"left\">&#160;AUC_&#8734;, (&#181;g&#8729;h/mL)</td><td align=\"left\">23.92 (25)</td><td align=\"left\">23.97 (23)</td><td align=\"left\">23.00 (27)</td></tr><tr><td align=\"left\">&#160;AUC_last, (&#181;g&#8729;h/mL)</td><td align=\"left\">22.69 (25)</td><td align=\"left\">22.69 (23)</td><td align=\"left\">21.80 (27)</td></tr><tr><td align=\"left\">&#160;C_max, (&#181;g/mL)</td><td align=\"left\">7.20 (39)</td><td align=\"left\">7.63 (42)</td><td align=\"left\">7.08 (46)</td></tr><tr><td align=\"left\">&#160;t_max, (h)</td><td align=\"left\">0.67 (0.33&#8211;3.00)</td><td align=\"left\">0.50 (0.33&#8211;2.05)</td><td align=\"left\">0.50 (0.33&#8211;3.03)</td></tr><tr><td align=\"left\">&#160;t_&#189;</td><td align=\"left\">2.71 (0.40)</td><td align=\"left\">2.74 (0.40)</td><td align=\"left\">2.71 (0.39)</td></tr></tbody></table><table-wrap-foot><p>All values are geometric mean (geometric %CV [percentage coefficient of variation]) except for t_max, where median (range) is reported, and t_&#189;, where arithmetic mean&#8201;&#177;&#8201;SD is reported</p><p>APAP acetaminophen, AUC_&#8734; area under the concentration-time curve from time zero to infinity, AUC_last area under the concentration-time curve from time zero to the last quantifiable concentration, C_max maximum concentration, FDC fixed-dose combination, IBU ibuprofen, PK pharmacokinetic, SD standard deviation, t_&#189; terminal half-life, t_max time to maximum concentration</p><p>^an&#8201;=&#8201;43</p></table-wrap-foot></table-wrap>',\n",
       " 33: '<table-wrap xmlns:mml=\"http://www.w3.org/1998/Math/MathML\" xmlns:xlink=\"http://www.w3.org/1999/xlink\" id=\"Tab6\"><label>Table&#160;6</label><caption><p>Summary of treatment comparisons for ibuprofen and acetaminophen: Study 2</p></caption><table frame=\"hsides\" rules=\"groups\"><thead><tr><th align=\"left\" rowspan=\"2\">PK metric (units)</th><th align=\"left\" colspan=\"2\">Adjusted geometric means</th><th align=\"left\" rowspan=\"2\">Ratio (test/reference) of adjusted geometric means^a</th><th align=\"left\" rowspan=\"2\">90% CI for ratio^a</th></tr><tr><th align=\"left\">Test</th><th align=\"left\">Reference</th></tr></thead><tbody><tr><td align=\"left\" colspan=\"5\">IBU</td></tr><tr><td align=\"left\" colspan=\"5\">&#160;FDC IBU/APAP 250/500&#160;mg (test) vs. IBU 250&#160;mg&#8201;+&#8201;APAP 500&#160;mg monocomponents coadministered (reference)</td></tr><tr><td align=\"left\">&#160;&#160;AUC_&#8734;, (&#181;g&#8729;h/mL)</td><td align=\"left\">79.12</td><td align=\"left\">77.17</td><td align=\"left\">102.53</td><td align=\"left\">99.41&#8211;105.75</td></tr><tr><td align=\"left\">&#160;&#160;AUC_last, (&#181;g&#8729;h/mL)</td><td align=\"left\">77.11</td><td align=\"left\">74.87</td><td align=\"left\">103.00</td><td align=\"left\">99.81&#8211;106.29</td></tr><tr><td align=\"left\">&#160;&#160;C_max, (&#181;g/mL)</td><td align=\"left\">22.11</td><td align=\"left\">19.67</td><td align=\"left\">112.42</td><td align=\"left\">105.13&#8211;120.23</td></tr><tr><td align=\"left\" colspan=\"5\">&#160;FDC IBU/APAP 250/500&#160;mg (test) vs. IBU 250 mg (reference)</td></tr><tr><td align=\"left\">&#160;&#160;AUC_&#8734;, (&#181;g&#8729;h/mL)</td><td align=\"left\">79.12</td><td align=\"left\">77.01</td><td align=\"left\">102.60</td><td align=\"left\">99.45&#8211;105.85</td></tr><tr><td align=\"left\">&#160;&#160;AUC_last, (&#181;g&#8729;h/mL)</td><td align=\"left\">77.11</td><td align=\"left\">74.81</td><td align=\"left\">103.08</td><td align=\"left\">99.89&#8211;106.38</td></tr><tr><td align=\"left\">&#160;&#160;C_max, (&#181;g/mL)</td><td align=\"left\">22.11</td><td align=\"left\">19.74</td><td align=\"left\">112.02</td><td align=\"left\">104.75&#8211;119.80</td></tr><tr><td align=\"left\" colspan=\"5\">APAP</td></tr><tr><td align=\"left\" colspan=\"5\">&#160;FDC IBU/APAP 250/500 mg (test) vs. IBU 250 mg&#8201;+&#8201;APAP 500 mg monocomponents coadministered (reference)</td></tr><tr><td align=\"left\">&#160;&#160;AUC_&#8734;, (&#181;g&#8729;h/mL)</td><td align=\"left\">23.92</td><td align=\"left\">23.97</td><td align=\"left\">99.79</td><td align=\"left\">97.53&#8211;102.10</td></tr><tr><td align=\"left\">&#160;&#160;AUC_last, (&#181;g&#8729;h/mL)</td><td align=\"left\">22.69</td><td align=\"left\">22.69</td><td align=\"left\">100.00</td><td align=\"left\">97.73&#8211;102.33</td></tr><tr><td align=\"left\">&#160;&#160;C_max, (&#181;g/mL)</td><td align=\"left\">7.199</td><td align=\"left\">7.633</td><td align=\"left\">94.32</td><td align=\"left\">85.18&#8211;104.44</td></tr><tr><td align=\"left\" colspan=\"5\">&#160;FDC IBU/APAP 250/500 mg (test) vs. APAP 500 mg (reference)</td></tr><tr><td align=\"left\">&#160;&#160;AUC_&#8734;, (&#181;g&#8729;h/mL)</td><td align=\"left\">23.92</td><td align=\"left\">23.00</td><td align=\"left\">104.00</td><td align=\"left\">101.65&#8211;106.41</td></tr><tr><td align=\"left\">&#160;&#160;AUC_last, (&#181;g&#8729;h/mL)</td><td align=\"left\">22.69</td><td align=\"left\">21.80</td><td align=\"left\">104.12</td><td align=\"left\">101.75&#8211;106.54</td></tr><tr><td align=\"left\">&#160;&#160;C_max, (&#181;g/mL)</td><td align=\"left\">7.199</td><td align=\"left\">7.083</td><td align=\"left\">101.64</td><td align=\"left\">91.79&#8211;112.55</td></tr></tbody></table><table-wrap-foot><p>APAP acetaminophen, AUC_&#8734; area under the concentration-time curve from time zero to infinity, AUC_last area under the concentration-time curve from time zero to the last quantifiable concentration, CI confidence interval, C_max maximum concentration, FDC fixed-dose combination, IBU ibuprofen, PK pharmacokinetic</p><p>^aRatios and 90% CIs are expressed as percentages</p></table-wrap-foot></table-wrap>',\n",
       " 34: '<xref xmlns:mml=\"http://www.w3.org/1998/Math/MathML\" xmlns:xlink=\"http://www.w3.org/1999/xlink\" rid=\"Tab7\" ref-type=\"table\">7</xref>',\n",
       " 35: '<table-wrap xmlns:mml=\"http://www.w3.org/1998/Math/MathML\" xmlns:xlink=\"http://www.w3.org/1999/xlink\" id=\"Tab7\"><label>Table&#160;7</label><caption><p>Summary of plasma ibuprofen and acetaminophen pharmacokinetic metrics: Study 3</p></caption><table frame=\"hsides\" rules=\"groups\"><thead><tr><th align=\"left\" rowspan=\"2\">PK metric (units)</th><th align=\"left\" colspan=\"3\">FDC IBU/APAP 250/500 mg</th></tr><tr><th align=\"left\">All (N, n&#8201;=&#8201;21, 18)^a</th><th align=\"left\">Age group 12&#8211;14&#160;years (N, n&#8201;=&#8201;10, 9)^b</th><th align=\"left\">Age group 15&#8211;17&#160;years (N, n&#8201;=&#8201;11, 9)^c</th></tr></thead><tbody><tr><td align=\"left\" colspan=\"4\">IBU</td></tr><tr><td align=\"left\">&#160;AUC_&#8734;, (&#181;g&#8729;h/mL)</td><td align=\"left\">97.84 (15)</td><td align=\"left\">99.07 (10)</td><td align=\"left\">96.62 (20)</td></tr><tr><td align=\"left\">&#160;AUC_last, (&#181;g&#8729;h/mL)</td><td align=\"left\">92.07 (19)</td><td align=\"left\">96.45 (10)</td><td align=\"left\">88.27 (24)</td></tr><tr><td align=\"left\">&#160;C_max, (&#181;g/mL)</td><td align=\"left\">23.07 (36)</td><td align=\"left\">25.67 (34)</td><td align=\"left\">20.93 (36)</td></tr><tr><td align=\"left\">&#160;t_max, (h)</td><td align=\"left\">1.50 (0.50&#8211;6.12)</td><td align=\"left\">1.00 (0.50&#8211;5.83)</td><td align=\"left\">2.00 (0.80&#8211;6.12)</td></tr><tr><td align=\"left\">&#160;t_&#189;, (h)</td><td align=\"left\">1.87 (0.27)</td><td align=\"left\">1.79 (0.24)</td><td align=\"left\">1.96 (0.29)</td></tr><tr><td align=\"left\" colspan=\"4\">APAP</td></tr><tr><td align=\"left\">&#160;AUC_&#8734;, (&#181;g&#8729;h/mL)</td><td align=\"left\">30.58 (27)</td><td align=\"left\">35.05 (28)</td><td align=\"left\">27.01 (19)</td></tr><tr><td align=\"left\">&#160;AUC_last, (&#181;g&#8729;h/mL)</td><td align=\"left\">28.84 (26)</td><td align=\"left\">33.04 (27)</td><td align=\"left\">25.49 (19)</td></tr><tr><td align=\"left\">&#160;C_max, (&#181;g/mL)</td><td align=\"left\">7.09 (34)</td><td align=\"left\">8.51 (30)</td><td align=\"left\">6.01 (29)</td></tr><tr><td align=\"left\">&#160;t_max, (h)</td><td align=\"left\">0.75 (0.33&#8211;1.57)</td><td align=\"left\">0.50 (0.33&#8211;1.57)</td><td align=\"left\">1.00 (0.50&#8211;1.50)</td></tr><tr><td align=\"left\">&#160;t_&#189;, (h)</td><td align=\"left\">2.71 (0.32)</td><td align=\"left\">2.74 (0.39)</td><td align=\"left\">2.68 (0.25)</td></tr></tbody></table><table-wrap-foot><p>All values are geometric mean (geometric %CV [percentage coefficient of variation]) except for t_max, where median (range) is reported, and t_&#189;, where arithmetic mean&#8201;&#177;&#8201;SD is reported</p><p>APAP acetaminophen, AUC_&#8734; area under the concentration-time curve from time zero to infinity, AUC_last area under the concentration-time curve from time zero to the last quantifiable concentration, C_max maximum concentration, FDC fixed-dose combination, IBU ibuprofen, PK pharmacokinetic, SD standard deviation, t_&#189;, terminal half-life, t_max time to maximum concentration</p><p>^an&#8201;=&#8201;21 for AUC_last, C_max, and t_max; n&#8201;=&#8201;18 for AUC_&#8734; and t_&#189;</p><p>^bn&#8201;=&#8201;10 for AUC_last, C_max, and t_max; n&#8201;=&#8201;9 for AUC_&#8734; and t_&#189;</p><p>^cn&#8201;=&#8201;11 for AUC_last, C_max, and t_max; n&#8201;=&#8201;9 for AUC_&#8734; and t_&#189;</p></table-wrap-foot></table-wrap>',\n",
       " 36: '<xref xmlns:mml=\"http://www.w3.org/1998/Math/MathML\" xmlns:xlink=\"http://www.w3.org/1999/xlink\" rid=\"Tab8\" ref-type=\"table\">8</xref>',\n",
       " 37: '<table-wrap xmlns:mml=\"http://www.w3.org/1998/Math/MathML\" xmlns:xlink=\"http://www.w3.org/1999/xlink\" id=\"Tab8\"><label>Table&#160;8</label><caption><p>Treatment-emergent adverse events</p></caption><table frame=\"hsides\" rules=\"groups\"><thead><tr><th align=\"left\" rowspan=\"2\">Treatment-emergent adverse event [n (%)]</th><th align=\"left\" colspan=\"4\">Study 1</th><th align=\"left\" colspan=\"4\">Study 2</th><th align=\"left\">Study 3</th></tr><tr><th align=\"left\">FDC IBU/APAP 250/500&#160;mg fasted [n&#8201;=&#8201;34]</th><th align=\"left\">IBU 200&#160;mg [n&#8201;=&#8201;34]</th><th align=\"left\">APAP ER 650&#160;mg [n&#8201;=&#8201;34]</th><th align=\"left\">FDC IBU/APAP 250/500&#160;mg fed [n&#8201;=&#8201;35]</th><th align=\"left\">FDC IBU/APAP 250/500&#160;mg [n&#8201;=&#8201;45]</th><th align=\"left\">IBU 250&#160;mg&#8201;+&#8201;APAP 500&#160;mg [n&#8201;=&#8201;45]</th><th align=\"left\">IBU 250&#160;mg [n&#8201;=&#8201;44]</th><th align=\"left\">APAP 500&#160;mg [n&#8201;=&#8201;44]</th><th align=\"left\">FDC IBU/APAP 250/500&#160;mg [n&#8201;=&#8201;21]</th></tr></thead><tbody><tr><td align=\"left\">Dysphagia</td><td align=\"left\">&#8211;</td><td align=\"left\">&#8211;</td><td align=\"left\">&#8211;</td><td align=\"left\">1 (2.9)</td><td align=\"left\">&#8211;</td><td align=\"left\">&#8211;</td><td align=\"left\">&#8211;</td><td align=\"left\">&#8211;</td><td align=\"left\">&#8211;</td></tr><tr><td align=\"left\">Nausea</td><td align=\"left\">&#8211;</td><td align=\"left\">1 (2.9)</td><td align=\"left\">&#8211;</td><td align=\"left\">&#8211;</td><td align=\"left\">&#8211;</td><td align=\"left\">1 (2.2)</td><td align=\"left\">&#8211;</td><td align=\"left\">&#8211;</td><td align=\"left\">1 (4.8)</td></tr><tr><td align=\"left\">Vomiting</td><td align=\"left\">&#8211;</td><td align=\"left\">&#8211;</td><td align=\"left\">&#8211;</td><td align=\"left\">&#8211;</td><td align=\"left\">&#8211;</td><td align=\"left\">&#8211;</td><td align=\"left\">&#8211;</td><td align=\"left\">&#8211;</td><td align=\"left\">1 (4.8)</td></tr><tr><td align=\"left\">Abdominal distention</td><td align=\"left\">&#8211;</td><td align=\"left\">&#8211;</td><td align=\"left\">&#8211;</td><td align=\"left\">&#8211;</td><td align=\"left\">&#8211;</td><td align=\"left\">&#8211;</td><td align=\"left\">&#8211;</td><td align=\"left\">1 (2.3)</td><td align=\"left\">&#8211;</td></tr><tr><td align=\"left\">Abdominal pain, upper</td><td align=\"left\">&#8211;</td><td align=\"left\">&#8211;</td><td align=\"left\">&#8211;</td><td align=\"left\">&#8211;</td><td align=\"left\">&#8211;</td><td align=\"left\">&#8211;</td><td align=\"left\">&#8211;</td><td align=\"left\">1 (2.3)</td><td align=\"left\">&#8211;</td></tr><tr><td align=\"left\">Constipation</td><td align=\"left\">&#8211;</td><td align=\"left\">&#8211;</td><td align=\"left\">&#8211;</td><td align=\"left\">&#8211;</td><td align=\"left\">&#8211;</td><td align=\"left\">1 (2.2)</td><td align=\"left\">1 (2.3)</td><td align=\"left\">&#8211;</td><td align=\"left\">&#8211;</td></tr><tr><td align=\"left\">Dyspepsia</td><td align=\"left\">&#8211;</td><td align=\"left\">&#8211;</td><td align=\"left\">&#8211;</td><td align=\"left\">&#8211;</td><td align=\"left\">&#8211;</td><td align=\"left\">&#8211;</td><td align=\"left\">&#8211;</td><td align=\"left\">1 (2.3)</td><td align=\"left\">&#8211;</td></tr><tr><td align=\"left\">Toothache</td><td align=\"left\">&#8211;</td><td align=\"left\">&#8211;</td><td align=\"left\">&#8211;</td><td align=\"left\">&#8211;</td><td align=\"left\">&#8211;</td><td align=\"left\">&#8211;</td><td align=\"left\">1 (2.3)</td><td align=\"left\">&#8211;</td><td align=\"left\">&#8211;</td></tr><tr><td align=\"left\">Dizziness</td><td align=\"left\">&#8211;</td><td align=\"left\">&#8211;</td><td align=\"left\">1 (2.9)</td><td align=\"left\">&#8211;</td><td align=\"left\">&#8211;</td><td align=\"left\">&#8211;</td><td align=\"left\">&#8211;</td><td align=\"left\">&#8211;</td><td align=\"left\">1 (4.8)</td></tr><tr><td align=\"left\">Headache</td><td align=\"left\">&#8211;</td><td align=\"left\">&#8211;</td><td align=\"left\">&#8211;</td><td align=\"left\">1 (2.9)</td><td align=\"left\">&#8211;</td><td align=\"left\">&#8211;</td><td align=\"left\">&#8211;</td><td align=\"left\">&#8211;</td><td align=\"left\">1 (4.8)</td></tr><tr><td align=\"left\">Somnolence</td><td align=\"left\">1 (2.9)</td><td align=\"left\">&#8211;</td><td align=\"left\">&#8211;</td><td align=\"left\">&#8211;</td><td align=\"left\">&#8211;</td><td align=\"left\">&#8211;</td><td align=\"left\">&#8211;</td><td align=\"left\">&#8211;</td><td align=\"left\">&#8211;</td></tr><tr><td align=\"left\">Vessel puncture site bruise</td><td align=\"left\">2 (5.9)</td><td align=\"left\">&#8211;</td><td align=\"left\">&#8211;</td><td align=\"left\">&#8211;</td><td align=\"left\">3 (6.7)</td><td align=\"left\">&#8211;</td><td align=\"left\">&#8211;</td><td align=\"left\">1 (2.3)</td><td align=\"left\">&#8211;</td></tr><tr><td align=\"left\">Vessel puncture site pain</td><td align=\"left\">1 (2.9)</td><td align=\"left\">&#8211;</td><td align=\"left\">&#8211;</td><td align=\"left\">&#8211;</td><td align=\"left\">1 (2.2)</td><td align=\"left\">&#8211;</td><td align=\"left\">&#8211;</td><td align=\"left\">&#8211;</td><td align=\"left\">&#8211;</td></tr><tr><td align=\"left\">Petechiae</td><td align=\"left\">&#8211;</td><td align=\"left\">&#8211;</td><td align=\"left\">&#8211;</td><td align=\"left\">&#8211;</td><td align=\"left\">1 (2.2)</td><td align=\"left\">&#8211;</td><td align=\"left\">&#8211;</td><td align=\"left\">&#8211;</td><td align=\"left\">&#8211;</td></tr><tr><td align=\"left\">Upper respiratory tract infection</td><td align=\"left\">&#8211;</td><td align=\"left\">&#8211;</td><td align=\"left\">&#8211;</td><td align=\"left\">&#8211;</td><td align=\"left\">&#8211;</td><td align=\"left\">&#8211;</td><td align=\"left\">1 (2.3)</td><td align=\"left\">&#8211;</td><td align=\"left\">&#8211;</td></tr><tr><td align=\"left\">Cough</td><td align=\"left\">&#8211;</td><td align=\"left\">&#8211;</td><td align=\"left\">&#8211;</td><td align=\"left\">&#8211;</td><td align=\"left\">&#8211;</td><td align=\"left\">&#8211;</td><td align=\"left\">1 (2.3)</td><td align=\"left\">&#8211;</td><td align=\"left\">&#8211;</td></tr><tr><td align=\"left\">Head injury</td><td align=\"left\">&#8211;</td><td align=\"left\">&#8211;</td><td align=\"left\">1 (2.9)</td><td align=\"left\">&#8211;</td><td align=\"left\">&#8211;</td><td align=\"left\">&#8211;</td><td align=\"left\">&#8211;</td><td align=\"left\">&#8211;</td><td align=\"left\">&#8211;</td></tr><tr><td align=\"left\">Laceration</td><td align=\"left\">&#8211;</td><td align=\"left\">&#8211;</td><td align=\"left\">1 (2.9)</td><td align=\"left\">&#8211;</td><td align=\"left\">&#8211;</td><td align=\"left\">&#8211;</td><td align=\"left\">&#8211;</td><td align=\"left\">&#8211;</td><td align=\"left\">&#8211;</td></tr><tr><td align=\"left\">Musculoskeletal stiffness</td><td align=\"left\">&#8211;</td><td align=\"left\">&#8211;</td><td align=\"left\">&#8211;</td><td align=\"left\">&#8211;</td><td align=\"left\">&#8211;</td><td align=\"left\">&#8211;</td><td align=\"left\">&#8211;</td><td align=\"left\">&#8211;</td><td align=\"left\">1 (4.8)</td></tr></tbody></table><table-wrap-foot><p>APAP acetaminophen, ER extended release, FDC fixed-dose combination, IBU ibuprofen</p></table-wrap-foot></table-wrap>',\n",
       " 38: '<xref xmlns:mml=\"http://www.w3.org/1998/Math/MathML\" xmlns:xlink=\"http://www.w3.org/1999/xlink\" ref-type=\"bibr\" rid=\"CR19\">19</xref>',\n",
       " 39: '<xref xmlns:mml=\"http://www.w3.org/1998/Math/MathML\" xmlns:xlink=\"http://www.w3.org/1999/xlink\" ref-type=\"bibr\" rid=\"CR20\">20</xref>',\n",
       " 40: '<xref xmlns:mml=\"http://www.w3.org/1998/Math/MathML\" xmlns:xlink=\"http://www.w3.org/1999/xlink\" ref-type=\"bibr\" rid=\"CR21\">21</xref>',\n",
       " 41: '<xref xmlns:mml=\"http://www.w3.org/1998/Math/MathML\" xmlns:xlink=\"http://www.w3.org/1999/xlink\" ref-type=\"bibr\" rid=\"CR28\">28</xref>',\n",
       " 42: '<xref xmlns:mml=\"http://www.w3.org/1998/Math/MathML\" xmlns:xlink=\"http://www.w3.org/1999/xlink\" ref-type=\"bibr\" rid=\"CR27\">27</xref>'}"
      ]
     },
     "metadata": {},
     "execution_count": 590
    }
   ],
   "metadata": {}
  },
  {
   "cell_type": "code",
   "execution_count": 591,
   "source": [
    "p.ref_map"
   ],
   "outputs": [
    {
     "output_type": "execute_result",
     "data": {
      "text/plain": [
       "{0:                                                                                                                                                                                                          0\n",
       " 0  The pharmacokinetic profile of a fixed-dose combination (FDC) of ibuprofen 250 mg and acetaminophen 500 mg was found to be similar to its individual components administered separately or coadminis...\n",
       " 1  Similar to what has been previously reported for the individual ingredients, food delayed the absorption of both components but had no effect on overall exposure; exposure to both components in ad...\n",
       " 2  Since the efficacy of this FDC has been shown to be superior to the same doses of individual components and it is generally well tolerated, this new FDC may provide another analgesic treatment opt...,\n",
       " 1: {'Authors': ['A Dickman'],\n",
       "  'Title': 'Choosing over-the-counter analgesics',\n",
       "  'Source': 'Pharm J.',\n",
       "  'Year': '2008',\n",
       "  'Volume': '281',\n",
       "  'FirstPage': '631',\n",
       "  'LastPage': None,\n",
       "  'DOI': None,\n",
       "  'PMID': None},\n",
       " 2: {'Authors': ['DA Perrott', 'T Piira', 'B Goodenough', 'GD Champion'],\n",
       "  'Title': 'Efficacy and safety of acetaminophen vs ibuprofen for treating children’s pain or fever: a meta-analysis',\n",
       "  'Source': 'Arch Pediatr Adolesc Med.',\n",
       "  'Year': '2004',\n",
       "  'Volume': '158',\n",
       "  'FirstPage': '521',\n",
       "  'LastPage': '526',\n",
       "  'DOI': '10.1001/archpedi.158.6.521',\n",
       "  'PMID': '15184213'},\n",
       " 3: {'Authors': ['CA Pierce', 'B Voss'],\n",
       "  'Title': 'Efficacy and safety of ibuprofen and acetaminophen in children and adults: a meta-analysis and qualitative review',\n",
       "  'Source': 'Ann Pharmacother.',\n",
       "  'Year': '2010',\n",
       "  'Volume': '44',\n",
       "  'FirstPage': '489',\n",
       "  'LastPage': '506',\n",
       "  'DOI': '10.1345/aph.1M332',\n",
       "  'PMID': '20150507'},\n",
       " 4: {'Authors': ['T Tanner', 'S Aspley', 'A Munn', 'T Thomas'],\n",
       "  'Title': 'The pharmacokinetic profile of a novel fixed-dose combination tablet of ibuprofen and paracetamol',\n",
       "  'Source': 'BMC Clin Pharmacol.',\n",
       "  'Year': '2010',\n",
       "  'Volume': '10',\n",
       "  'FirstPage': '10',\n",
       "  'LastPage': None,\n",
       "  'DOI': '10.1186/1472-6904-10-10',\n",
       "  'PMID': '20602760'},\n",
       " 5: {'Authors': ['BJ Anderson'],\n",
       "  'Title': 'Paracetamol (acetaminophen): mechanisms of action',\n",
       "  'Source': 'Paediatr Anaesth.',\n",
       "  'Year': '2008',\n",
       "  'Volume': '18',\n",
       "  'FirstPage': '915',\n",
       "  'LastPage': '921',\n",
       "  'DOI': '10.1111/j.1460-9592.2008.02764.x',\n",
       "  'PMID': '18811827'},\n",
       " 6: {'Authors': ['EM Laska',\n",
       "   'A Sunshine',\n",
       "   'I Marrero',\n",
       "   'N Olson',\n",
       "   'C Siegel',\n",
       "   'N McCormick'],\n",
       "  'Title': 'The correlation between blood levels of ibuprofen and clinical analgesic response',\n",
       "  'Source': 'Clin Pharmacol Ther.',\n",
       "  'Year': '1986',\n",
       "  'Volume': '40',\n",
       "  'FirstPage': '1',\n",
       "  'LastPage': '7',\n",
       "  'DOI': '10.1038/clpt.1986.129',\n",
       "  'PMID': '3522030'},\n",
       " 7: {'Authors': ['RA Seymour', 'P Ward-Booth', 'PJ Kelly'],\n",
       "  'Title': 'Evaluation of different doses of soluble ibuprofen and ibuprofen tablets in postoperative dental pain',\n",
       "  'Source': 'Br J Oral Maxillofac Surg.',\n",
       "  'Year': '1996',\n",
       "  'Volume': '34',\n",
       "  'FirstPage': '110',\n",
       "  'LastPage': '114',\n",
       "  'DOI': '10.1016/S0266-4356(96)90147-3',\n",
       "  'PMID': '8645662'},\n",
       " 8: {'Authors': ['LA Skoglund', 'P Skjelbred', 'G Fyllingen'],\n",
       "  'Title': 'Analgesic efficacy of acetaminophen 1000\\xa0mg, acetaminophen 2000\\xa0mg, and the combination of acetaminophen 1000\\xa0mg and codeine phosphate 60\\xa0mg versus placebo in acute postoperative pain',\n",
       "  'Source': 'Pharmacotherapy.',\n",
       "  'Year': '1991',\n",
       "  'Volume': '11',\n",
       "  'FirstPage': '364',\n",
       "  'LastPage': '369',\n",
       "  'DOI': None,\n",
       "  'PMID': '1745622'},\n",
       " 9: {'Authors': ['N Moore', 'JM Scheiman'],\n",
       "  'Title': 'Gastrointestinal safety and tolerability of oral non-aspirin over-the-counter analgesics',\n",
       "  'Source': 'Postgrad Med.',\n",
       "  'Year': '2018',\n",
       "  'Volume': '130',\n",
       "  'FirstPage': '188',\n",
       "  'LastPage': '199',\n",
       "  'DOI': '10.1080/00325481.2018.1429793',\n",
       "  'PMID': '29417856'},\n",
       " 10: {'Authors': ['DE Becker'],\n",
       "  'Title': 'Pain management: Part 1: managing acute and postoperative dental pain',\n",
       "  'Source': 'Anesth Prog',\n",
       "  'Year': '2010',\n",
       "  'Volume': '57',\n",
       "  'FirstPage': '67',\n",
       "  'LastPage': '78',\n",
       "  'DOI': '10.2344/0003-3006-57.2.67',\n",
       "  'PMID': '20553137'},\n",
       " 11: {'Authors': ['DR Mehlisch', 'S Aspley', 'SE Daniels', 'DP Bandy'],\n",
       "  'Title': 'Comparison of the analgesic efficacy of concurrent ibuprofen and paracetamol with ibuprofen or paracetamol alone in the management of moderate to severe acute postoperative dental pain in adolescents and adults: a randomized, double-blind, placebo-controlled, parallel-group, single-dose, two-center, modified factorial study',\n",
       "  'Source': 'Clin Ther.',\n",
       "  'Year': '2010',\n",
       "  'Volume': '32',\n",
       "  'FirstPage': '882',\n",
       "  'LastPage': '895',\n",
       "  'DOI': '10.1016/j.clinthera.2010.04.022',\n",
       "  'PMID': '20685496'},\n",
       " 12: {'Authors': ['DR Mehlisch',\n",
       "   'S Aspley',\n",
       "   'SE Daniels',\n",
       "   'KA Southerden',\n",
       "   'KS Christensen'],\n",
       "  'Title': 'A single-tablet fixed-dose combination of racemic ibuprofen/paracetamol in the management of moderate to severe postoperative dental pain in adult and adolescent patients: a multicenter, two-stage, randomized, double-blind, parallel-group, placebo-controlled, factorial study',\n",
       "  'Source': 'Clin Ther.',\n",
       "  'Year': '2010',\n",
       "  'Volume': '32',\n",
       "  'FirstPage': '1033',\n",
       "  'LastPage': '1049',\n",
       "  'DOI': '10.1016/j.clinthera.2010.06.002',\n",
       "  'PMID': '20637958'},\n",
       " 13: ['Moore RA, Wiffen PJ, Derry S, Maguire T, Roy YM, Tyrrell L. Non-prescription (OTC) oral analgesics for acute pain—an overview of Cochrane reviews. Cochrane Database Syst Rev. 2015;(11):CD010794.'],\n",
       " 14: {'Authors': ['RR Malya'],\n",
       "  'Title': 'Does combination treatment with ibuprofen and acetaminophen improve fever control?',\n",
       "  'Source': 'Ann Emerg Med.',\n",
       "  'Year': '2013',\n",
       "  'Volume': '61',\n",
       "  'FirstPage': '569',\n",
       "  'LastPage': '570',\n",
       "  'DOI': '10.1016/j.annemergmed.2012.10.025',\n",
       "  'PMID': '23522609'},\n",
       " 15: {'Authors': ['M Doherty', 'C Hawkey', 'M Goulder'],\n",
       "  'Title': 'A randomised controlled trial of ibuprofen, paracetamol or a combination tablet of ibuprofen/paracetamol in community-derived people with knee pain',\n",
       "  'Source': 'Ann Rheum Dis.',\n",
       "  'Year': '2011',\n",
       "  'Volume': '70',\n",
       "  'FirstPage': '1534',\n",
       "  'LastPage': '1541',\n",
       "  'DOI': '10.1136/ard.2011.154047',\n",
       "  'PMID': '21804100'},\n",
       " 16: {'Authors': ['CE Wright', 'EJ Antal', 'WR Gillespie', 'KS Albert'],\n",
       "  'Title': 'Ibuprofen and acetaminophen kinetics when taken concurrently',\n",
       "  'Source': 'Clin Pharmacol Ther.',\n",
       "  'Year': '1983',\n",
       "  'Volume': '34',\n",
       "  'FirstPage': '707',\n",
       "  'LastPage': '710',\n",
       "  'DOI': '10.1038/clpt.1983.237',\n",
       "  'PMID': '6627831'},\n",
       " 17: {'Authors': ['Y Wang', 'PR Jadhav', 'M Lala', 'JV Gobburu'],\n",
       "  'Title': 'Clarification on precision criteria to derive sample size when designing pediatric pharmacokinetic studies',\n",
       "  'Source': 'J Clin Pharmacol.',\n",
       "  'Year': '2012',\n",
       "  'Volume': '52',\n",
       "  'FirstPage': '1601',\n",
       "  'LastPage': '1606',\n",
       "  'DOI': '10.1177/0091270011422812',\n",
       "  'PMID': '22162537'},\n",
       " 18: <pandas.io.formats.style.Styler at 0x7f7bb1fdf760>,\n",
       " 19: <pandas.io.formats.style.Styler at 0x7f7bb1fdf760>,\n",
       " 20: {'Label': 'Fig.\\xa01',\n",
       "  'Caption': None,\n",
       "  'Link': '40268_2020_293_Fig1_HTML'},\n",
       " 21: {'Label': 'Fig.\\xa02',\n",
       "  'Caption': None,\n",
       "  'Link': '40268_2020_293_Fig2_HTML'},\n",
       " 22: {'Label': 'Fig.\\xa01',\n",
       "  'Caption': None,\n",
       "  'Link': '40268_2020_293_Fig1_HTML'},\n",
       " 23: {'Label': 'Fig.\\xa02',\n",
       "  'Caption': None,\n",
       "  'Link': '40268_2020_293_Fig2_HTML'},\n",
       " 24: <pandas.io.formats.style.Styler at 0x7f7bb1fdebc0>,\n",
       " 25: <pandas.io.formats.style.Styler at 0x7f7bb1f56aa0>,\n",
       " 26: <pandas.io.formats.style.Styler at 0x7f7bb1fdebc0>,\n",
       " 27: <pandas.io.formats.style.Styler at 0x7f7bb1f56aa0>,\n",
       " 28: <pandas.io.formats.style.Styler at 0x7f7bb1f57430>,\n",
       " 29: <pandas.io.formats.style.Styler at 0x7f7bb1f57430>,\n",
       " 30: <pandas.io.formats.style.Styler at 0x7f7bb1643d90>,\n",
       " 31: <pandas.io.formats.style.Styler at 0x7f7bb1643d00>,\n",
       " 32: <pandas.io.formats.style.Styler at 0x7f7bb1643d90>,\n",
       " 33: <pandas.io.formats.style.Styler at 0x7f7bb1643d00>,\n",
       " 34: <pandas.io.formats.style.Styler at 0x7f7bb0d8cbe0>,\n",
       " 35: <pandas.io.formats.style.Styler at 0x7f7bb0d8cbe0>,\n",
       " 36: <pandas.io.formats.style.Styler at 0x7f7bb1643df0>,\n",
       " 37: <pandas.io.formats.style.Styler at 0x7f7bb1643df0>,\n",
       " 38: {'Authors': ['MJ Koenigsknecht', 'JR Baker', 'B Wen'],\n",
       "  'Title': 'In vivo dissolution and systemic absorption of immediate release ibuprofen in human gastrointestinal tract under fed and fasted conditions',\n",
       "  'Source': 'Mol Pharm.',\n",
       "  'Year': '2017',\n",
       "  'Volume': '14',\n",
       "  'FirstPage': '4295',\n",
       "  'LastPage': '4304',\n",
       "  'DOI': '10.1021/acs.molpharmaceut.7b00425',\n",
       "  'PMID': '28937221'},\n",
       " 39: {'Authors': ['M Divoll', 'DJ Greenblatt', 'B Ameer', 'DR Abernethy'],\n",
       "  'Title': 'Effect of food on acetaminophen absorption in young and elderly subjects',\n",
       "  'Source': 'J Clin Pharmacol.',\n",
       "  'Year': '1982',\n",
       "  'Volume': '22',\n",
       "  'FirstPage': '571',\n",
       "  'LastPage': '576',\n",
       "  'DOI': '10.1002/j.1552-4604.1982.tb02651.x',\n",
       "  'PMID': '7161411'},\n",
       " 40: {'Authors': ['NM Davies'],\n",
       "  'Title': 'Clinical pharmacokinetics of ibuprofen. The first 30\\xa0years',\n",
       "  'Source': 'Clin Pharmacokinet',\n",
       "  'Year': '1998',\n",
       "  'Volume': '34',\n",
       "  'FirstPage': '101',\n",
       "  'LastPage': '154',\n",
       "  'DOI': '10.2165/00003088-199834020-00002',\n",
       "  'PMID': '9515184'},\n",
       " 41: {'Authors': ['AN Edginton', 'W Schmitt', 'S Willmann'],\n",
       "  'Title': 'Development and evaluation of a generic physiologically based pharmacokinetic model for children',\n",
       "  'Source': 'Clin Pharmacokinet.',\n",
       "  'Year': '2006',\n",
       "  'Volume': '45',\n",
       "  'FirstPage': '1013',\n",
       "  'LastPage': '1034',\n",
       "  'DOI': '10.2165/00003088-200645100-00005',\n",
       "  'PMID': '16984214'},\n",
       " 42: {'Authors': ['IF Troconiz',\n",
       "   'S Armenteros',\n",
       "   'MV Planelles',\n",
       "   'J Benitez',\n",
       "   'R Calvo',\n",
       "   'R Dominguez'],\n",
       "  'Title': 'Pharmacokinetic–pharmacodynamic modelling of the antipyretic effect of two oral formulations of ibuprofen',\n",
       "  'Source': 'Clin Pharmacokinet.',\n",
       "  'Year': '2000',\n",
       "  'Volume': '38',\n",
       "  'FirstPage': '505',\n",
       "  'LastPage': '518',\n",
       "  'DOI': '10.2165/00003088-200038060-00004',\n",
       "  'PMID': '10885587'}}"
      ]
     },
     "metadata": {},
     "execution_count": 591
    }
   ],
   "metadata": {}
  },
  {
   "cell_type": "code",
   "execution_count": null,
   "source": [],
   "outputs": [],
   "metadata": {}
  }
 ],
 "metadata": {
  "orig_nbformat": 4,
  "language_info": {
   "name": "python",
   "version": "3.10.9",
   "mimetype": "text/x-python",
   "codemirror_mode": {
    "name": "ipython",
    "version": 3
   },
   "pygments_lexer": "ipython3",
   "nbconvert_exporter": "python",
   "file_extension": ".py"
  },
  "kernelspec": {
   "name": "python3",
   "display_name": "Python 3.10.9 64-bit ('scrapemed': conda)"
  },
  "interpreter": {
   "hash": "427d4943968a1e3fc165f884a0cbd733d19eb316925f7601ef95e6c86f630a99"
  }
 },
 "nbformat": 4,
 "nbformat_minor": 2
}