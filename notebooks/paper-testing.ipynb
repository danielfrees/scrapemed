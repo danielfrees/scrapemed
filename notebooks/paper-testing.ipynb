{
 "cells": [
  {
   "cell_type": "code",
   "execution_count": 285,
   "metadata": {},
   "outputs": [
    {
     "name": "stdout",
     "output_type": "stream",
     "text": [
      "The autoreload extension is already loaded. To reload it, use:\n",
      "  %reload_ext autoreload\n"
     ]
    }
   ],
   "source": [
    "%load_ext autoreload\n",
    "%autoreload 2\n",
    "import sys\n",
    "sys.path.insert(0, \"../../scrapemed\")\n",
    "\n",
    "import scrapemed.paper as paper\n",
    "import pandas as pd\n",
    "import lxml"
   ]
  },
  {
   "cell_type": "code",
   "execution_count": 286,
   "metadata": {},
   "outputs": [
    {
     "name": "stderr",
     "output_type": "stream",
     "text": [
      "unexpectedMultipleMatchWarning: Warning! Multiple titles matched. Setting Paper.title to the first match.\n",
      "\n",
      "unexpectedZeroMatchWarning: No Issue # found for Publication.\n",
      "\n",
      "unexpectedZeroMatchWarning: No First Page # found for Publication.\n",
      "\n",
      "unexpectedZeroMatchWarning: No Last Page # found for Publication.\n",
      "\n",
      "UserWarning: Warning! Unexpected child with of type {http://www.niso.org/schemas/ali/1.0/}license_ref found under an XML <license> tag.\n",
      "\n",
      "FutureWarning: The behavior of this method will change in future versions. Use specific 'len(elem)' or 'elem is not None' test instead.\n",
      "\n",
      "FutureWarning: The behavior of this method will change in future versions. Use specific 'len(elem)' or 'elem is not None' test instead.\n",
      "\n"
     ]
    }
   ],
   "source": [
    "#Specify creds and PMCID\n",
    "\n",
    "#---------  Issue list to investigate:  ------\n",
    "#---------------------------------------------\n",
    "#unmatched tables and figures: 8767368, 8566143 - TODO\n",
    "#fig under sec: 2832672 -fixed\n",
    "#unmatched citations: ___\n",
    "#something going wrong with contributor tuples function : 5173686, 2402497 -TODO\n",
    "#no abstract found: 2097352, 7210167 - should be fixed\n",
    "#invalid int when grabbing fpage: 3261356 - should be fixed\n",
    "#---------------------------------------------\n",
    "\n",
    "PMCID = 8767368\n",
    "email = \"danielfrees247@gmail.com\"\n",
    "\n",
    "p = paper.Paper.from_pmc(PMCID, email, download=True)"
   ]
  },
  {
   "cell_type": "code",
   "execution_count": 287,
   "metadata": {},
   "outputs": [
    {
     "data": {
      "text/plain": [
       "'Preparation of Drug Sustained-Release Scaffold with De-Epithelized Human Amniotic Epithelial Cells and Thiolated Chitosan Nanocarriers and Its Repair Effect on Spinal Cord Injury'"
      ]
     },
     "execution_count": 287,
     "metadata": {},
     "output_type": "execute_result"
    }
   ],
   "source": [
    "p.title"
   ]
  },
  {
   "cell_type": "code",
   "execution_count": 288,
   "metadata": {},
   "outputs": [
    {
     "data": {
      "text/html": [
       "<div>\n",
       "<style scoped>\n",
       "    .dataframe tbody tr th:only-of-type {\n",
       "        vertical-align: middle;\n",
       "    }\n",
       "\n",
       "    .dataframe tbody tr th {\n",
       "        vertical-align: top;\n",
       "    }\n",
       "\n",
       "    .dataframe thead th {\n",
       "        text-align: right;\n",
       "    }\n",
       "</style>\n",
       "<table border=\"1\" class=\"dataframe\">\n",
       "  <thead>\n",
       "    <tr style=\"text-align: right;\">\n",
       "      <th></th>\n",
       "      <th>Contributor_Type</th>\n",
       "      <th>First_Name</th>\n",
       "      <th>Last_Name</th>\n",
       "      <th>Email_Address</th>\n",
       "      <th>Affiliations</th>\n",
       "    </tr>\n",
       "  </thead>\n",
       "  <tbody>\n",
       "    <tr>\n",
       "      <th>0</th>\n",
       "      <td>Author</td>\n",
       "      <td>Lijuan</td>\n",
       "      <td>Zhu</td>\n",
       "      <td>None</td>\n",
       "      <td>[I1: Affiliation data not found.]</td>\n",
       "    </tr>\n",
       "    <tr>\n",
       "      <th>1</th>\n",
       "      <td>Author</td>\n",
       "      <td>Shaohua</td>\n",
       "      <td>Tian</td>\n",
       "      <td>None</td>\n",
       "      <td>[I2: Affiliation data not found.]</td>\n",
       "    </tr>\n",
       "    <tr>\n",
       "      <th>2</th>\n",
       "      <td>Author</td>\n",
       "      <td>Zhiyong</td>\n",
       "      <td>Li</td>\n",
       "      <td>None</td>\n",
       "      <td>[I2: Affiliation data not found.]</td>\n",
       "    </tr>\n",
       "    <tr>\n",
       "      <th>3</th>\n",
       "      <td>Author</td>\n",
       "      <td>Dandan</td>\n",
       "      <td>Fan</td>\n",
       "      <td>None</td>\n",
       "      <td>[I2: Affiliation data not found.]</td>\n",
       "    </tr>\n",
       "    <tr>\n",
       "      <th>4</th>\n",
       "      <td>Author</td>\n",
       "      <td>Hongwei</td>\n",
       "      <td>Gao</td>\n",
       "      <td>None</td>\n",
       "      <td>[I2: Affiliation data not found.]</td>\n",
       "    </tr>\n",
       "    <tr>\n",
       "      <th>5</th>\n",
       "      <td>Author</td>\n",
       "      <td>Hongyu</td>\n",
       "      <td>Zhang</td>\n",
       "      <td>None</td>\n",
       "      <td>[I2: Affiliation data not found.]</td>\n",
       "    </tr>\n",
       "    <tr>\n",
       "      <th>6</th>\n",
       "      <td>Author</td>\n",
       "      <td>Zhengqing</td>\n",
       "      <td>Bao</td>\n",
       "      <td>None</td>\n",
       "      <td>[I2: Affiliation data not found.]</td>\n",
       "    </tr>\n",
       "    <tr>\n",
       "      <th>7</th>\n",
       "      <td>Author</td>\n",
       "      <td>Wenlong</td>\n",
       "      <td>Zhang</td>\n",
       "      <td>None</td>\n",
       "      <td>[I2: Affiliation data not found.]</td>\n",
       "    </tr>\n",
       "  </tbody>\n",
       "</table>\n",
       "</div>"
      ],
      "text/plain": [
       "  Contributor_Type First_Name Last_Name Email_Address  \\\n",
       "0           Author     Lijuan       Zhu          None   \n",
       "1           Author    Shaohua      Tian          None   \n",
       "2           Author    Zhiyong        Li          None   \n",
       "3           Author     Dandan       Fan          None   \n",
       "4           Author    Hongwei       Gao          None   \n",
       "5           Author     Hongyu     Zhang          None   \n",
       "6           Author  Zhengqing       Bao          None   \n",
       "7           Author    Wenlong     Zhang          None   \n",
       "\n",
       "                        Affiliations  \n",
       "0  [I1: Affiliation data not found.]  \n",
       "1  [I2: Affiliation data not found.]  \n",
       "2  [I2: Affiliation data not found.]  \n",
       "3  [I2: Affiliation data not found.]  \n",
       "4  [I2: Affiliation data not found.]  \n",
       "5  [I2: Affiliation data not found.]  \n",
       "6  [I2: Affiliation data not found.]  \n",
       "7  [I2: Affiliation data not found.]  "
      ]
     },
     "execution_count": 288,
     "metadata": {},
     "output_type": "execute_result"
    }
   ],
   "source": [
    "pd.options.display.max_colwidth = 200\n",
    "p.authors"
   ]
  },
  {
   "cell_type": "code",
   "execution_count": 289,
   "metadata": {},
   "outputs": [
    {
     "name": "stdout",
     "output_type": "stream",
     "text": [
      "No non-author contributors were found after parsing this paper.\n"
     ]
    }
   ],
   "source": [
    "print(p.non_author_contributors)"
   ]
  },
  {
   "cell_type": "code",
   "execution_count": 290,
   "metadata": {},
   "outputs": [
    {
     "name": "stdout",
     "output_type": "stream",
     "text": [
      "The disability rate of spinal cord injury (SCI) is extremely high, and stem cell inhibition is one of the most effective schemes in treating the spinal cord, but the survival rate is extremely low after stem cell transplantation, so it cannot be widely used in clinic. Studies have revealed that loading stem cells with biological scaffolds can effectively improve the survival rate and effect after stem cell transplantation. Therefore, this research was devised to analyze the repair effect of thiolated chitosan nanocarriers scaffold carrying de-epithelized human amniotic epithelial cells (HAECs) on SCI. And we used thiolated chitosan as nanocarriers, aiming to provide a reliable theoretical basis for future clinical practice. Through experiments, we concluded that the Tarlov and BBB scores of rats with SCI were raised under the intervention of thiolated chitosan carrying HAECs, while the inflammatory factors in serum, oxidative stress reaction in spinal cord tissue, apoptosis rate of nerve cells, and autophagy protein expression were all suppressed. Thus, the thiolated chitosan carrying HAECs may be applied to treat SCI by suppressing autophagy protein expression, oxidative stress response, and release of inflammatory factors in spinal cord tissue, which may be a new clinical therapy for SCI in the future. Even though we cannot understand exactly the therapeutic mechanism of thiolated chitosan carrying HAECs for SCI, the real clinical application of thiolated chitosan carrying HAECs needs to be confirmed by human experiments.\n"
     ]
    }
   ],
   "source": [
    "for sec in p.abstract:\n",
    "    print(sec)"
   ]
  },
  {
   "cell_type": "code",
   "execution_count": 291,
   "metadata": {},
   "outputs": [
    {
     "name": "stdout",
     "output_type": "stream",
     "text": [
      "SECTION: 1. Introduction:\n",
      "\n",
      "SCI is one of the primary causes of limb dysfunction [1]. For the past few years, the incidence of SCI has been on the rise, with dozens to tens of thousands of new patients with SCI every year around the world, mainly due to traffic accidents, high-altitude falls, violence, or sports injuries [2–4]. In the process of SCI, patients will have a series of local or systemic events such as hypotension, ischemia, and vasospasm [5]. These pathological changes can easily lead to organ dysfunction, shock, and even paralysis [6]. For now, SCI is usually treated conservatively in clinical practice, and drugs such as corticosteroids, gangliosides, scopolamine, and neurotrophy are commonly applied [7, 8]. Although it can relieve the SCI of patients, it is difficult to cure completely, and there are some toxic and side effects [9, 10]. With the increasingly serious threat of SCI, it is urgent to find an effective, stable, and rapid cure scheme for SCI in a clinic.\n",
      "\n",
      "As a kind of stem cell, HAECs have been proven to be effective in transplantation therapy for central nervous system diseases [11, 12]. Moreover, previous studies have also revealed that HAECs have a very significant effect in the process of resisting cell aging and repairing cell damage [13, 14]. Compared with other transplanted cells, HAECs have higher safety and wider access, so it has great potential for clinical application [15]. However, the cell survival rate is extremely low through stem cell transplantation alone, which may not play an effective role in healing injury [16]. In recent years, it has been found in clinic that loading stem cells with biological scaffolds can effectively improve the survival rate and effect after stem cell transplantation, among which chitosan is a very commonly used loading material [17]. As a kind of natural macromolecular polysaccharide from shrimp and crab shells, chitosan is extremely mild and safe [18]. Chitosan can be electrostatically combined with nucleic acid to form nanoparticles, which not only have a very high protective effect on the DNA contained in them but can also make it release slowly and promote their binding to human cells [19]. Therefore, chitosan is applied as medicine or as a stem cell carrier for clinic medicine, and its effect has been generally recognized [20, 21]. According to related studies, sulfhydrylation of chitosan can further enhance the cell permeability of nanoparticles, which is beneficial to cell binding [22]. Therefore, this research was devised to treat SCI by preparing de-epithelized human amniotic basement membrane and using thiolated chitosan as nanocarriers, aiming to provide a reliable theoretical basis for future clinical practice.\n",
      "\n",
      "SECTION: 2. Materials and Methods:\n",
      "\n",
      "Forty SPF SD rats, half male and half female, weighing 280–320 g, were from Zhuhai BesTest Bio-Tech Co., Ltd., with license number SYXK (Guangdong) 2020–0229. They were fed adaptively for one week. Rats were randomly assigned to 4 groups: transplanted HAECs (group A, GA), transplanted thiolated chitosan carrying HAECs (group B, GB), no processing (model group, MG), and control group (CG).\n",
      "\n",
      "In GA, GB, and MG, rats were anesthetized with pelltobarbitalum natricum intraperitoneally and then fastened on the fixed mount. Next, the skin and muscle at T9-T10 level were carefully cut layer by layer, the neural plate at T9-T10 was excised, and the spinal cord was clamped with a microvascular clamp at a pressure of 20 g/cm^2 for 90 s, and then the incision was closed. In CG, a microvascular clamp was not applied to treat the spinal cord, and the others were the same as abovementioned. A week later, rats in GA were transplanted with HAECs (ScienCell Research Laboratories, Inc.). The epithelial cell layer of HAECs was eliminated by trypsinase digestion, and 5 μL (2 cells/μL) cells were obtained and implanted into the transection site of model rats. In CG and MG, rats were implanted with the same amount of physiological saline. The chitosan (500 mg) was obtained and mingled with 8 mL of hydrochloric acid (1 mol/L). Then, the deionized water was supplemented to 50 mL, and then 1.38 g of 1-(3-dimethylaminopropyl)-3-ethyl carbodiimide hydrochloride was supplemented to continue. The pure thioglycollic acid (0.5 mL) was added and changed it to pH 5.0 with 2 mol/L sodium hydroxide. They were placed at ambient temperature for 6 hours in the dark, and then dialyzed with hydrochloric acid (5 mmol/L), hydrochloric acid (5 mmol/L), 1% sodium chloride, and hydrochloric acid (1 mmol/L), respectively, for 12 hours each time. Freeze-drying was applied to prepare the thiolated chitosan solid. The thiolated chitosan (1.25 mg) was added to the 5-5'-dithio-bis-nitrobenzoic acid solution (0.5 mg/mL) for 3 h. After that, it was centrifuged for 15 min (15116 × g, 4°C) to obtain the supernatant, and the OD value (412 nm) was tested via an enzyme-labeling instrument. The morphology of thiolated chitosan was observed under a scanning electron microscope (SEM). HAECs and the prepared thiolated chitosan were cultivated for 24 hours, and then transplanted to rats in GB according to the scheme in 2.3. The concentration of HAECs was changed to 5 × 10^3/hole and inoculated it into 96-hole plate. After 24 h, the culture medium was replaced, the thiolated chitosan was supplemented, and cultivated for 24 h, 48 h, and 72 h, respectively. Next, 20 μL MTT solution (5 mg/mL) was added. After 4h, the supernatant was discarded and DMSO (150 μL) was supplemented. The OD value (570 nm) was tested via an enzyme-labeling instrument. The growth of HAECs cells with thiolated chitosan was compared with that without thiolated chitosan. In the three groups, rats were assessed by the Tarlov score [23] and the Basso Beattie Bresnahan (BBB) score [24] on the 0th, 3^rd, 5^th, and 7^th days after transplantation. The higher the score, the better the situation.\n",
      "\n",
      "After transplantation for 7 days, all the rats were killed by cutting their necks under anesthesia. The abdominal aorta blood (5 mL) was drawn and centrifuged for 10 min (1504 × g, 4°C) to obtain serum, which was put in a refrigerator at −80°C. In addition, the spinal cord tissue from the T9–T10 injured segment of rats was obtained and cut into small pieces of 1 mm^3 for a subsequent test. ELISA was used to test inflammatory factors such as interleukin-6 (IL-8) and interleukin-10 (IL-10) and tumour necrosis factor-α (TNF-α) in rat serum, and the kits were all from Invitrogen, the States. Spinal tissue samples were collected from samples in 2.9. The contents of malondialdehyde (MDA) and superoxide dismutase (SOD) in tissues were tested via xanthine oxidation and thiobarbituric acid. The kit was purchased from Beijing Biolab Technology Co., Ltd. and Sigma-Aldrich, the States. Spinal tissue samples were collected from samples in 2.9. They were fastened in 4% paraformaldehyde for 72 hours and prepared into paraffin sections (5 μm). Then, it was dyed in accordance with the specifications of the TUNEL apoptosis kit (Abcam, China) and counted under a microscope to calculate the apoptosis rate of nerve cells. Spinal cord tissue was put in RIPA lysate (Invitrogen, the States), and protein concentration was verified via BCA (Invitrogen, the States). SDS-PAGE electrophoresis was applied to transfer the film and seal it for 1 h. Beclinl (1: 1,000), LC3 (1: 1,000), P62 (1: 1,000), and GAPDH primary antibody (1: 2,000) were supplemented overnight. Then, the film was washed with TBST and HRP-labeled goat anti-rabbit IgG secondary antibody was added (1: 4,000). ECL (Sigma-Aldrich, the States) was applied for detection, and the gray value was calculated.\n",
      "\n",
      "All results were represented as (mean number ± standard deviation) and analyzed by SPSS19.0. Independent sample t-test was applied for comparison between groups. Univariate analysis of variance and LSD back testing were applied for comparison among groups. P < 0.05 was considered significant.\n",
      "\n",
      "SECTION: 3. Results:\n",
      "\n",
      "    SECTION: 3.1. Preparation of Thiolated Chitosan:\n",
      "\n",
      "    According to the test, the sulfhydryl group in 1 g of thiolated chitosan was approximately 214.52 ± 14.26, which was higher than in nonthiolated chitosan (26.42 ± 4.86) (P < 0.001, Figure 1(a)). By observing the morphology of thiolated chitosan nanoparticles under SEM, it could be seen that thiolated chitosan showed a dense and complete circular structure, which was evenly distributed in the field of vision and had no gaps. The appearance was smooth, and the size was equal (Figure 1(b)).\n",
      "\n",
      "\n",
      "    SECTION: 3.2. Effect of Thiolated Chitosan on the Survival Rate of HAECs:\n",
      "\n",
      "    MTT assay revealed that the HAECs curve with the intervention of thiolated chitosan was higher than that without intervention (P < 0.05, Figure 2).\n",
      "\n",
      "\n",
      "    SECTION: 3.3. Evaluation of SCI:\n",
      "\n",
      "    On the 0th and 3rd day, Tarlov and BBB scores had no difference in GA, GB, and MG (P > 0.05, Tables 1 and 2), and they were lower than those in CG (P < 0.05, Tables 1 and 2). On the 5^th and 7^th days, the Tarlov and BBB scores in MG were the lowest among the three groups, followed by GA, and GB was higher than GA but lower than the CG (P < 0.05, Tables 1 and 2). In GA and GB, it increased from the third day (P < 0.05, Tables 1 and 2).\n",
      "\n",
      "\n",
      "    SECTION: 3.4. Comparison of Inflammatory Factors:\n",
      "\n",
      "    In GA, IL-6, IL-10, and TNF-α were (18.86 ± 4.34 pg/mL), (31.42 ± 7.42 pg/mL), and (52.62 ± 9.57 pg/mL), respectively. In GB, they were (11.87 ± 3.42 pg/mL), (22.42 ± 6.72 pg/mL), and (37.84 ± 6.65 pg/mL), respectively. In MG, they were (29.42 ± 5.63 pg/mL), (42.85 ± 10.52 pg/mL), and (84.63 ± 11.74 pg/mL), respectively. In CG, they were (9.62 ± 2.05 pg/mL), (12.84 ± 4.26 pg/mL), and (18.93 ± 4.71 pg/mL), respectively. The levels of IL-6, IL-10, and TNF-α in MG were the highest, followed by GA. The levels of IL-10 and TNF-α in GB were lower than those in GA but higher than those in CG (P < 0.05, Figures 3(a)–3(c)). Nevertheless, there was no difference between GB and CG in IL-6 (P > 0.05, Figure 3(a)), which was lower than that in GA (P < 0.05, Figure 3(a)).\n",
      "\n",
      "\n",
      "    SECTION: 3.5. Comparison of Oxidative Stress:\n",
      "\n",
      "    There was no difference in SOD between GB and CG (P > 0.05, Figure 4(a)), which was higher than the other two groups. But SOD in GA was higher than that in MG (P < 0.05, Figure 4(a)). The MDA in MG was the highest among the four groups, followed by GA, and the MDA in GB was lower than that in GA but higher than that in CG (P < 0.05, Figure 4(b)).\n",
      "\n",
      "\n",
      "    SECTION: 3.6. Comparison of Apoptosis Rate of Nerve Cells:\n",
      "\n",
      "    The apoptosis rate of nerve cells was about (24.81 ± 3.42%) in GA, (14.83 ± 2.93%) in GB, (42.82 ± 5.63%) in MG, and (7.63 ± 1.18) in CG. Compared with the four groups, the apoptosis rate of nerve cells in MG was the highest, followed by GA, and GB was lower than GA but higher than CG (P < 0.05, Figure 5).\n",
      "\n",
      "\n",
      "    SECTION: 3.7. Expression of Autophagy Protein:\n",
      "\n",
      "    After detection, we concluded that the expression of Beclinl, LC3, and P62 protein in the spinal cord tissue of MG was the highest among the four groups, while they were the lowest in CG (P < 0.05, Figures 6(a) and 6(b)). There was no difference in Beclinl between GA and GB (P > 0.05, Figures 6(a) and 6(b)), but LC3 and P62 were higher than those in GB (P < 0.05, Figures 6(a) and 6(b)).\n",
      "\n",
      "\n",
      "SECTION: 4. Discussion:\n",
      "\n",
      "SCI is one of the most common traumatic diseases at present, and its complications (such as muscle atrophy, infection, respiratory system disease) are becoming more and more complex and serious [25]. As one of the effective treatment schemes for SCI, stem cell transplantation has a significant effect, but it cannot be widely applied in clinical practice due to its low survival rate [26]. The emergence of nanodrug-carrying scaffolds may be the breakthrough of clinical application of stem cell transplantation in the future. Moreover, a large number of studies have revealed that oxidative damage, inflammatory response, and changes in cell biological behavior caused by oxygen free radicals all play a vital role in the development of SCI [27, 28]. Therefore, in order to confirm the effect of nanodrug-carrying scaffolds on stem cell transplantation in treating SCI, this research was devised to make a step-by-step analysis through the abovementioned points.\n",
      "\n",
      "Firstly, we tested the sulfhydryl groups in the prepared thiolated chitosan and found that the content of sulfhydryl groups in the thiolated chitosan increased obviously. Previous studies have revealed that the sulfhydryl groups can greatly destroy the intramolecular hydrogen bonds of chitosan, improve the water solubility of chitosan, and form disulfide bonds with the sulfhydryl groups of mucin molecules, thus increasing the mucosal adsorption effect of nanoparticles and the absorption rate of encapsulated drugs in vivo [29]. Therefore, the thiolated chitosan is more convenient for drug loading than the nonsulfhydryl chitosan, and it has a higher utilization value. By observing the cell survival of HAECs under the intervention of thiolated chitosan, we concluded that the growth of HAECs under the intervention of thiolated chitosan was obviously higher than that without intervention, which suggested that thiolated chitosan not only had no toxic and side effects on HAECs, but also could effectively enhance cell activation, so it had a crucial effect on making up for the low survival rate of stem cell transplantation. Therefore, we assessed the state of SCI in rats with SCI and control rats which were transplanted with HAECs, thiolated chitosan carrying HAECs, and did not intervene. The findings revealed that the scores of rats transplanted with HAECs and thiolated chitosan carrying HAECs in GA and GB were better than those of rats in MG, which also preliminarily revealed that the two transplantation schemes might have had definite improvement effects on SCI and the thiolated chitosan carrying HAECs was better. Then, we also concluded that the inflammatory factors in GB were obviously lower than those of rats in GA and MG by comparing the inflammatory factors of rats in the four groups, which revealed that the inflammatory reaction and inflammatory injury in the bodies of rats in GB were obviously ameliorated. However, the development of SCI is due to the massive release of inflammatory mediators, resulting in the injury and necrosis of tissues and cells, thus aggravating the disease [30]. From this, we could conclude that HAECs carrying thiolated chitosan had a significant effect on the inhibition of inflammatory factors. The release of inflammatory factors is mainly activated by the peroxidation of tissues or cells [31]. The aggravation of oxidative stress is also an important pathological process that causes secondary injury to the injury site and its surrounding tissues after SCI [32]. After SCI, a large number of oxygen free radicals can be produced in tissues to cause oxidative damage to cells and damage neurons, glial cells, and other normal cells around them, resulting in cell necrosis and apoptosis [33, 34]. SOD and MDA are the most sensitive indicators of oxidative stress response, and their role in responding to oxidative stress in various diseases has been repeatedly verified [35, 36]. SOD has a strong ability to scavenge superoxide anion radicals, which indicates the antioxidation ability of the body. MDA is the final product of lipid peroxidation [37]. Our test results revealed that SOD levels in GB were raised while MDA levels declined, which indicated that oxidative stress reactions were obviously suppressed and the antioxidant capacity of tissues was improved. The detection results of TUNEL also revealed that the apoptosis rate of nerve cells in GB had obviously declined, which might be related to the effective inhibition of oxidative stress reaction. Finally, in order to further clarify the repair effect of thiolated chitosan carrying HAECs on SCI, we also tested autophagy proteins in spinal cord tissue. As an important factor causing cell injury and death, autophagy has been confirmed to increase obviously during SCI. In this test, we concluded that the autophagy proteins Beclinl, LC3, and P62 of rats in GB were obviously lower than those in MG. It could be seen that thiolated chitosan carrying HAECs also had an effective inhibitory effect on autophagy, and this inhibition might be the key to reduce oxidative stress response and inflammatory reactions of cells.\n",
      "\n",
      "SECTION: 5. Conclusion:\n",
      "\n",
      "The nanodrug-carrying scaffolds of thiolated chitosan can ameliorate the survival rate of HAECs. The thiolated chitosan carrying HAECs may be applied to treat SCI by suppressing autophagy protein expression, oxidative stress response, and release of inflammatory factors in spinal cord tissue, which may be a new clinical therapy for SCI in the future.\n",
      "\n",
      "However, we cannot understand exactly the therapeutic mechanism of thiolated chitosan carrying HAECs for SCI due to the limited conditions, and the improvement of thiolated chitosan for HAECs' shortcomings may not only ameliorate the cell survival rate and the binding rate with the body, but also have a deeper and potential relationship between them, which is worth exploring and discovering. Nevertheless, the real clinical application of thiolated chitosan carrying HAECs needs to be confirmed by human experiments.\n",
      "\n"
     ]
    }
   ],
   "source": [
    "if p.body:\n",
    "    for sec in p.body:\n",
    "        print(str(sec))"
   ]
  },
  {
   "cell_type": "code",
   "execution_count": 292,
   "metadata": {},
   "outputs": [
    {
     "data": {
      "text/plain": [
       "{'nlm-ta': 'J Healthc Eng',\n",
       " 'iso-abbrev': 'J Healthc Eng',\n",
       " 'publisher-id': 'JHE'}"
      ]
     },
     "execution_count": 292,
     "metadata": {},
     "output_type": "execute_result"
    }
   ],
   "source": [
    "p.journal_id"
   ]
  },
  {
   "cell_type": "code",
   "execution_count": 293,
   "metadata": {},
   "outputs": [
    {
     "data": {
      "text/plain": [
       "{'ppub': '2040-2295', 'epub': '2040-2309'}"
      ]
     },
     "execution_count": 293,
     "metadata": {},
     "output_type": "execute_result"
    }
   ],
   "source": [
    "p.issn"
   ]
  },
  {
   "cell_type": "code",
   "execution_count": 294,
   "metadata": {},
   "outputs": [
    {
     "data": {
      "text/plain": [
       "'Journal of Healthcare Engineering'"
      ]
     },
     "execution_count": 294,
     "metadata": {},
     "output_type": "execute_result"
    }
   ],
   "source": [
    "p.journal_title"
   ]
  },
  {
   "cell_type": "code",
   "execution_count": 295,
   "metadata": {},
   "outputs": [
    {
     "data": {
      "text/plain": [
       "[]"
      ]
     },
     "execution_count": 295,
     "metadata": {},
     "output_type": "execute_result"
    }
   ],
   "source": [
    "p.publisher_location"
   ]
  },
  {
   "cell_type": "code",
   "execution_count": 296,
   "metadata": {},
   "outputs": [
    {
     "data": {
      "text/plain": [
       "'Hindawi'"
      ]
     },
     "execution_count": 296,
     "metadata": {},
     "output_type": "execute_result"
    }
   ],
   "source": [
    "p.publisher_name"
   ]
  },
  {
   "cell_type": "code",
   "execution_count": 297,
   "metadata": {},
   "outputs": [
    {
     "data": {
      "text/plain": [
       "{'pmid': '35070240', 'pmc': '8767368', 'doi': '10.1155/2022/6294148'}"
      ]
     },
     "execution_count": 297,
     "metadata": {},
     "output_type": "execute_result"
    }
   ],
   "source": [
    "p.article_id"
   ]
  },
  {
   "cell_type": "code",
   "execution_count": 298,
   "metadata": {},
   "outputs": [
    {
     "data": {
      "text/plain": [
       "['Research Article']"
      ]
     },
     "execution_count": 298,
     "metadata": {},
     "output_type": "execute_result"
    }
   ],
   "source": [
    "p.article_types"
   ]
  },
  {
   "cell_type": "code",
   "execution_count": 299,
   "metadata": {},
   "outputs": [
    {
     "data": {
      "text/plain": [
       "'No extra article categories found. Check paper.article_types for header categories.'"
      ]
     },
     "execution_count": 299,
     "metadata": {},
     "output_type": "execute_result"
    }
   ],
   "source": [
    "p.article_categories"
   ]
  },
  {
   "cell_type": "code",
   "execution_count": 300,
   "metadata": {},
   "outputs": [
    {
     "data": {
      "text/plain": [
       "{'collection': datetime.datetime(2022, 1, 1, 0, 0),\n",
       " 'epub': datetime.datetime(2022, 1, 11, 0, 0)}"
      ]
     },
     "execution_count": 300,
     "metadata": {},
     "output_type": "execute_result"
    }
   ],
   "source": [
    "p.published_date"
   ]
  },
  {
   "cell_type": "code",
   "execution_count": 301,
   "metadata": {},
   "outputs": [
    {
     "data": {
      "text/plain": [
       "'2022'"
      ]
     },
     "execution_count": 301,
     "metadata": {},
     "output_type": "execute_result"
    }
   ],
   "source": [
    "p.volume"
   ]
  },
  {
   "cell_type": "code",
   "execution_count": 302,
   "metadata": {},
   "outputs": [],
   "source": [
    "p.issue"
   ]
  },
  {
   "cell_type": "code",
   "execution_count": 303,
   "metadata": {},
   "outputs": [],
   "source": [
    "p.fpage"
   ]
  },
  {
   "cell_type": "code",
   "execution_count": 304,
   "metadata": {},
   "outputs": [],
   "source": [
    "p.lpage"
   ]
  },
  {
   "cell_type": "code",
   "execution_count": 305,
   "metadata": {},
   "outputs": [
    {
     "data": {
      "text/plain": [
       "{'Copyright Statement': 'Copyright © 2022 Lijuan Zhu et al.',\n",
       " 'License Type': 'Not Specified',\n",
       " 'License Text': 'This is an open access article distributed under the Creative Commons Attribution License, which permits unrestricted use, distribution, and reproduction in any medium, provided the original work is properly cited.'}"
      ]
     },
     "execution_count": 305,
     "metadata": {},
     "output_type": "execute_result"
    }
   ],
   "source": [
    "p.permissions"
   ]
  },
  {
   "cell_type": "code",
   "execution_count": 306,
   "metadata": {},
   "outputs": [],
   "source": [
    "p.funding"
   ]
  },
  {
   "cell_type": "code",
   "execution_count": 307,
   "metadata": {},
   "outputs": [],
   "source": [
    "p.footnote"
   ]
  },
  {
   "cell_type": "code",
   "execution_count": 308,
   "metadata": {},
   "outputs": [],
   "source": [
    "try:\n",
    "    sample_table = p.ref_map[19]\n",
    "    sample_table\n",
    "except KeyError as e:\n",
    "    print(\"Nothing in ref map index 19.\")"
   ]
  },
  {
   "cell_type": "code",
   "execution_count": 309,
   "metadata": {},
   "outputs": [
    {
     "name": "stdout",
     "output_type": "stream",
     "text": [
      "Acknowledgments \n",
      "       This paper was supported by Qiqihar Science and Technology Bureau (SFZD-2019135).\n"
     ]
    }
   ],
   "source": [
    "for ack in p.acknowledgements:\n",
    "    print(ack)"
   ]
  },
  {
   "cell_type": "code",
   "execution_count": 310,
   "metadata": {},
   "outputs": [],
   "source": [
    "for note in p.notes:\n",
    "    print(note)\n",
    "    print()"
   ]
  },
  {
   "cell_type": "code",
   "execution_count": 311,
   "metadata": {},
   "outputs": [],
   "source": [
    "p.custom_meta"
   ]
  },
  {
   "cell_type": "markdown",
   "metadata": {},
   "source": [
    "## More Detailed Investigation of Ref Map and Texts"
   ]
  },
  {
   "cell_type": "code",
   "execution_count": 312,
   "metadata": {},
   "outputs": [
    {
     "name": "stdout",
     "output_type": "stream",
     "text": [
      "Text: SECTION: 1. Introduction:\n",
      "\n",
      "SCI is one of the primary causes of limb dysfunction [1]. For the past few years, the incidence of SCI has been on the rise, with dozens to tens of thousands of new patients with SCI every year around the world, mainly due to traffic accidents, high-altitude falls, violence, or sports injuries [2–4]. In the process of SCI, patients will have a series of local or systemic events such as hypotension, ischemia, and vasospasm [5]. These pathological changes can easily lead to organ dysfunction, shock, and even paralysis [6]. For now, SCI is usually treated conservatively in clinical practice, and drugs such as corticosteroids, gangliosides, scopolamine, and neurotrophy are commonly applied [7, 8]. Although it can relieve the SCI of patients, it is difficult to cure completely, and there are some toxic and side effects [9, 10]. With the increasingly serious threat of SCI, it is urgent to find an effective, stable, and rapid cure scheme for SCI in a clinic.\n",
      "\n",
      "As a kind of stem cell, HAECs have been proven to be effective in transplantation therapy for central nervous system diseases [11, 12]. Moreover, previous studies have also revealed that HAECs have a very significant effect in the process of resisting cell aging and repairing cell damage [13, 14]. Compared with other transplanted cells, HAECs have higher safety and wider access, so it has great potential for clinical application [15]. However, the cell survival rate is extremely low through stem cell transplantation alone, which may not play an effective role in healing injury [16]. In recent years, it has been found in clinic that loading stem cells with biological scaffolds can effectively improve the survival rate and effect after stem cell transplantation, among which chitosan is a very commonly used loading material [17]. As a kind of natural macromolecular polysaccharide from shrimp and crab shells, chitosan is extremely mild and safe [18]. Chitosan can be electrostatically combined with nucleic acid to form nanoparticles, which not only have a very high protective effect on the DNA contained in them but can also make it release slowly and promote their binding to human cells [19]. Therefore, chitosan is applied as medicine or as a stem cell carrier for clinic medicine, and its effect has been generally recognized [20, 21]. According to related studies, sulfhydrylation of chitosan can further enhance the cell permeability of nanoparticles, which is beneficial to cell binding [22]. Therefore, this research was devised to treat SCI by preparing de-epithelized human amniotic basement membrane and using thiolated chitosan as nanocarriers, aiming to provide a reliable theoretical basis for future clinical practice.\n",
      "\n",
      "\n",
      "Text with Refs: SECTION: 1. Introduction:\n",
      "\n",
      "SCI is one of the primary causes of limb dysfunction [1[MHTML::dataref::0]]. For the past few years, the incidence of SCI has been on the rise, with dozens to tens of thousands of new patients with SCI every year around the world, mainly due to traffic accidents, high-altitude falls, violence, or sports injuries [2[MHTML::dataref::1]–4[MHTML::dataref::2]]. In the process of SCI, patients will have a series of local or systemic events such as hypotension, ischemia, and vasospasm [5[MHTML::dataref::3]]. These pathological changes can easily lead to organ dysfunction, shock, and even paralysis [6[MHTML::dataref::4]]. For now, SCI is usually treated conservatively in clinical practice, and drugs such as corticosteroids, gangliosides, scopolamine, and neurotrophy are commonly applied [7[MHTML::dataref::5], 8[MHTML::dataref::6]]. Although it can relieve the SCI of patients, it is difficult to cure completely, and there are some toxic and side effects [9[MHTML::dataref::7], 10[MHTML::dataref::8]]. With the increasingly serious threat of SCI, it is urgent to find an effective, stable, and rapid cure scheme for SCI in a clinic.\n",
      "\n",
      "As a kind of stem cell, HAECs have been proven to be effective in transplantation therapy for central nervous system diseases [11[MHTML::dataref::9], 12[MHTML::dataref::10]]. Moreover, previous studies have also revealed that HAECs have a very significant effect in the process of resisting cell aging and repairing cell damage [13[MHTML::dataref::11], 14[MHTML::dataref::12]]. Compared with other transplanted cells, HAECs have higher safety and wider access, so it has great potential for clinical application [15[MHTML::dataref::13]]. However, the cell survival rate is extremely low through stem cell transplantation alone, which may not play an effective role in healing injury [16[MHTML::dataref::14]]. In recent years, it has been found in clinic that loading stem cells with biological scaffolds can effectively improve the survival rate and effect after stem cell transplantation, among which chitosan is a very commonly used loading material [17[MHTML::dataref::15]]. As a kind of natural macromolecular polysaccharide from shrimp and crab shells, chitosan is extremely mild and safe [18[MHTML::dataref::16]]. Chitosan can be electrostatically combined with nucleic acid to form nanoparticles, which not only have a very high protective effect on the DNA contained in them but can also make it release slowly and promote their binding to human cells [19[MHTML::dataref::17]]. Therefore, chitosan is applied as medicine or as a stem cell carrier for clinic medicine, and its effect has been generally recognized [20[MHTML::dataref::18], 21[MHTML::dataref::19]]. According to related studies, sulfhydrylation of chitosan can further enhance the cell permeability of nanoparticles, which is beneficial to cell binding [22[MHTML::dataref::20]]. Therefore, this research was devised to treat SCI by preparing de-epithelized human amniotic basement membrane and using thiolated chitosan as nanocarriers, aiming to provide a reliable theoretical basis for future clinical practice.\n",
      "\n",
      "Text: SECTION: 2. Materials and Methods:\n",
      "\n",
      "Forty SPF SD rats, half male and half female, weighing 280–320 g, were from Zhuhai BesTest Bio-Tech Co., Ltd., with license number SYXK (Guangdong) 2020–0229. They were fed adaptively for one week. Rats were randomly assigned to 4 groups: transplanted HAECs (group A, GA), transplanted thiolated chitosan carrying HAECs (group B, GB), no processing (model group, MG), and control group (CG).\n",
      "\n",
      "In GA, GB, and MG, rats were anesthetized with pelltobarbitalum natricum intraperitoneally and then fastened on the fixed mount. Next, the skin and muscle at T9-T10 level were carefully cut layer by layer, the neural plate at T9-T10 was excised, and the spinal cord was clamped with a microvascular clamp at a pressure of 20 g/cm^2 for 90 s, and then the incision was closed. In CG, a microvascular clamp was not applied to treat the spinal cord, and the others were the same as abovementioned. A week later, rats in GA were transplanted with HAECs (ScienCell Research Laboratories, Inc.). The epithelial cell layer of HAECs was eliminated by trypsinase digestion, and 5 μL (2 cells/μL) cells were obtained and implanted into the transection site of model rats. In CG and MG, rats were implanted with the same amount of physiological saline. The chitosan (500 mg) was obtained and mingled with 8 mL of hydrochloric acid (1 mol/L). Then, the deionized water was supplemented to 50 mL, and then 1.38 g of 1-(3-dimethylaminopropyl)-3-ethyl carbodiimide hydrochloride was supplemented to continue. The pure thioglycollic acid (0.5 mL) was added and changed it to pH 5.0 with 2 mol/L sodium hydroxide. They were placed at ambient temperature for 6 hours in the dark, and then dialyzed with hydrochloric acid (5 mmol/L), hydrochloric acid (5 mmol/L), 1% sodium chloride, and hydrochloric acid (1 mmol/L), respectively, for 12 hours each time. Freeze-drying was applied to prepare the thiolated chitosan solid. The thiolated chitosan (1.25 mg) was added to the 5-5'-dithio-bis-nitrobenzoic acid solution (0.5 mg/mL) for 3 h. After that, it was centrifuged for 15 min (15116 × g, 4°C) to obtain the supernatant, and the OD value (412 nm) was tested via an enzyme-labeling instrument. The morphology of thiolated chitosan was observed under a scanning electron microscope (SEM). HAECs and the prepared thiolated chitosan were cultivated for 24 hours, and then transplanted to rats in GB according to the scheme in 2.3. The concentration of HAECs was changed to 5 × 10^3/hole and inoculated it into 96-hole plate. After 24 h, the culture medium was replaced, the thiolated chitosan was supplemented, and cultivated for 24 h, 48 h, and 72 h, respectively. Next, 20 μL MTT solution (5 mg/mL) was added. After 4h, the supernatant was discarded and DMSO (150 μL) was supplemented. The OD value (570 nm) was tested via an enzyme-labeling instrument. The growth of HAECs cells with thiolated chitosan was compared with that without thiolated chitosan. In the three groups, rats were assessed by the Tarlov score [23] and the Basso Beattie Bresnahan (BBB) score [24] on the 0th, 3^rd, 5^th, and 7^th days after transplantation. The higher the score, the better the situation.\n",
      "\n",
      "After transplantation for 7 days, all the rats were killed by cutting their necks under anesthesia. The abdominal aorta blood (5 mL) was drawn and centrifuged for 10 min (1504 × g, 4°C) to obtain serum, which was put in a refrigerator at −80°C. In addition, the spinal cord tissue from the T9–T10 injured segment of rats was obtained and cut into small pieces of 1 mm^3 for a subsequent test. ELISA was used to test inflammatory factors such as interleukin-6 (IL-8) and interleukin-10 (IL-10) and tumour necrosis factor-α (TNF-α) in rat serum, and the kits were all from Invitrogen, the States. Spinal tissue samples were collected from samples in 2.9. The contents of malondialdehyde (MDA) and superoxide dismutase (SOD) in tissues were tested via xanthine oxidation and thiobarbituric acid. The kit was purchased from Beijing Biolab Technology Co., Ltd. and Sigma-Aldrich, the States. Spinal tissue samples were collected from samples in 2.9. They were fastened in 4% paraformaldehyde for 72 hours and prepared into paraffin sections (5 μm). Then, it was dyed in accordance with the specifications of the TUNEL apoptosis kit (Abcam, China) and counted under a microscope to calculate the apoptosis rate of nerve cells. Spinal cord tissue was put in RIPA lysate (Invitrogen, the States), and protein concentration was verified via BCA (Invitrogen, the States). SDS-PAGE electrophoresis was applied to transfer the film and seal it for 1 h. Beclinl (1: 1,000), LC3 (1: 1,000), P62 (1: 1,000), and GAPDH primary antibody (1: 2,000) were supplemented overnight. Then, the film was washed with TBST and HRP-labeled goat anti-rabbit IgG secondary antibody was added (1: 4,000). ECL (Sigma-Aldrich, the States) was applied for detection, and the gray value was calculated.\n",
      "\n",
      "All results were represented as (mean number ± standard deviation) and analyzed by SPSS19.0. Independent sample t-test was applied for comparison between groups. Univariate analysis of variance and LSD back testing were applied for comparison among groups. P < 0.05 was considered significant.\n",
      "\n",
      "\n",
      "Text with Refs: SECTION: 2. Materials and Methods:\n",
      "\n",
      "Forty SPF SD rats, half male and half female, weighing 280–320 g, were from Zhuhai BesTest Bio-Tech Co., Ltd., with license number SYXK (Guangdong) 2020–0229. They were fed adaptively for one week. Rats were randomly assigned to 4 groups: transplanted HAECs (group A, GA), transplanted thiolated chitosan carrying HAECs (group B, GB), no processing (model group, MG), and control group (CG).\n",
      "\n",
      "In GA, GB, and MG, rats were anesthetized with pelltobarbitalum natricum intraperitoneally and then fastened on the fixed mount. Next, the skin and muscle at T9-T10 level were carefully cut layer by layer, the neural plate at T9-T10 was excised, and the spinal cord was clamped with a microvascular clamp at a pressure of 20 g/cm^2 for 90 s, and then the incision was closed. In CG, a microvascular clamp was not applied to treat the spinal cord, and the others were the same as abovementioned. A week later, rats in GA were transplanted with HAECs (ScienCell Research Laboratories, Inc.). The epithelial cell layer of HAECs was eliminated by trypsinase digestion, and 5 μL (2 cells/μL) cells were obtained and implanted into the transection site of model rats. In CG and MG, rats were implanted with the same amount of physiological saline. The chitosan (500 mg) was obtained and mingled with 8 mL of hydrochloric acid (1 mol/L). Then, the deionized water was supplemented to 50 mL, and then 1.38 g of 1-(3-dimethylaminopropyl)-3-ethyl carbodiimide hydrochloride was supplemented to continue. The pure thioglycollic acid (0.5 mL) was added and changed it to pH 5.0 with 2 mol/L sodium hydroxide. They were placed at ambient temperature for 6 hours in the dark, and then dialyzed with hydrochloric acid (5 mmol/L), hydrochloric acid (5 mmol/L), 1% sodium chloride, and hydrochloric acid (1 mmol/L), respectively, for 12 hours each time. Freeze-drying was applied to prepare the thiolated chitosan solid. The thiolated chitosan (1.25 mg) was added to the 5-5'-dithio-bis-nitrobenzoic acid solution (0.5 mg/mL) for 3 h. After that, it was centrifuged for 15 min (15116 × g, 4°C) to obtain the supernatant, and the OD value (412 nm) was tested via an enzyme-labeling instrument. The morphology of thiolated chitosan was observed under a scanning electron microscope (SEM). HAECs and the prepared thiolated chitosan were cultivated for 24 hours, and then transplanted to rats in GB according to the scheme in 2.3. The concentration of HAECs was changed to 5 × 10^3/hole and inoculated it into 96-hole plate. After 24 h, the culture medium was replaced, the thiolated chitosan was supplemented, and cultivated for 24 h, 48 h, and 72 h, respectively. Next, 20 μL MTT solution (5 mg/mL) was added. After 4h, the supernatant was discarded and DMSO (150 μL) was supplemented. The OD value (570 nm) was tested via an enzyme-labeling instrument. The growth of HAECs cells with thiolated chitosan was compared with that without thiolated chitosan. In the three groups, rats were assessed by the Tarlov score [23[MHTML::dataref::21]] and the Basso Beattie Bresnahan (BBB) score [24[MHTML::dataref::22]] on the 0th, 3^rd, 5^th, and 7^th days after transplantation. The higher the score, the better the situation.\n",
      "\n",
      "After transplantation for 7 days, all the rats were killed by cutting their necks under anesthesia. The abdominal aorta blood (5 mL) was drawn and centrifuged for 10 min (1504 × g, 4°C) to obtain serum, which was put in a refrigerator at −80°C. In addition, the spinal cord tissue from the T9–T10 injured segment of rats was obtained and cut into small pieces of 1 mm^3 for a subsequent test. ELISA was used to test inflammatory factors such as interleukin-6 (IL-8) and interleukin-10 (IL-10) and tumour necrosis factor-α (TNF-α) in rat serum, and the kits were all from Invitrogen, the States. Spinal tissue samples were collected from samples in 2.9. The contents of malondialdehyde (MDA) and superoxide dismutase (SOD) in tissues were tested via xanthine oxidation and thiobarbituric acid. The kit was purchased from Beijing Biolab Technology Co., Ltd. and Sigma-Aldrich, the States. Spinal tissue samples were collected from samples in 2.9. They were fastened in 4% paraformaldehyde for 72 hours and prepared into paraffin sections (5 μm). Then, it was dyed in accordance with the specifications of the TUNEL apoptosis kit (Abcam, China) and counted under a microscope to calculate the apoptosis rate of nerve cells. Spinal cord tissue was put in RIPA lysate (Invitrogen, the States), and protein concentration was verified via BCA (Invitrogen, the States). SDS-PAGE electrophoresis was applied to transfer the film and seal it for 1 h. Beclinl (1: 1,000), LC3 (1: 1,000), P62 (1: 1,000), and GAPDH primary antibody (1: 2,000) were supplemented overnight. Then, the film was washed with TBST and HRP-labeled goat anti-rabbit IgG secondary antibody was added (1: 4,000). ECL (Sigma-Aldrich, the States) was applied for detection, and the gray value was calculated.\n",
      "\n",
      "All results were represented as (mean number ± standard deviation) and analyzed by SPSS19.0. Independent sample t-test was applied for comparison between groups. Univariate analysis of variance and LSD back testing were applied for comparison among groups. P < 0.05 was considered significant.\n",
      "\n",
      "Text: SECTION: 3. Results:\n",
      "\n",
      "    SECTION: 3.1. Preparation of Thiolated Chitosan:\n",
      "\n",
      "    According to the test, the sulfhydryl group in 1 g of thiolated chitosan was approximately 214.52 ± 14.26, which was higher than in nonthiolated chitosan (26.42 ± 4.86) (P < 0.001, Figure 1(a)). By observing the morphology of thiolated chitosan nanoparticles under SEM, it could be seen that thiolated chitosan showed a dense and complete circular structure, which was evenly distributed in the field of vision and had no gaps. The appearance was smooth, and the size was equal (Figure 1(b)).\n",
      "\n",
      "\n",
      "    SECTION: 3.2. Effect of Thiolated Chitosan on the Survival Rate of HAECs:\n",
      "\n",
      "    MTT assay revealed that the HAECs curve with the intervention of thiolated chitosan was higher than that without intervention (P < 0.05, Figure 2).\n",
      "\n",
      "\n",
      "    SECTION: 3.3. Evaluation of SCI:\n",
      "\n",
      "    On the 0th and 3rd day, Tarlov and BBB scores had no difference in GA, GB, and MG (P > 0.05, Tables 1 and 2), and they were lower than those in CG (P < 0.05, Tables 1 and 2). On the 5^th and 7^th days, the Tarlov and BBB scores in MG were the lowest among the three groups, followed by GA, and GB was higher than GA but lower than the CG (P < 0.05, Tables 1 and 2). In GA and GB, it increased from the third day (P < 0.05, Tables 1 and 2).\n",
      "\n",
      "\n",
      "    SECTION: 3.4. Comparison of Inflammatory Factors:\n",
      "\n",
      "    In GA, IL-6, IL-10, and TNF-α were (18.86 ± 4.34 pg/mL), (31.42 ± 7.42 pg/mL), and (52.62 ± 9.57 pg/mL), respectively. In GB, they were (11.87 ± 3.42 pg/mL), (22.42 ± 6.72 pg/mL), and (37.84 ± 6.65 pg/mL), respectively. In MG, they were (29.42 ± 5.63 pg/mL), (42.85 ± 10.52 pg/mL), and (84.63 ± 11.74 pg/mL), respectively. In CG, they were (9.62 ± 2.05 pg/mL), (12.84 ± 4.26 pg/mL), and (18.93 ± 4.71 pg/mL), respectively. The levels of IL-6, IL-10, and TNF-α in MG were the highest, followed by GA. The levels of IL-10 and TNF-α in GB were lower than those in GA but higher than those in CG (P < 0.05, Figures 3(a)–3(c)). Nevertheless, there was no difference between GB and CG in IL-6 (P > 0.05, Figure 3(a)), which was lower than that in GA (P < 0.05, Figure 3(a)).\n",
      "\n",
      "\n",
      "    SECTION: 3.5. Comparison of Oxidative Stress:\n",
      "\n",
      "    There was no difference in SOD between GB and CG (P > 0.05, Figure 4(a)), which was higher than the other two groups. But SOD in GA was higher than that in MG (P < 0.05, Figure 4(a)). The MDA in MG was the highest among the four groups, followed by GA, and the MDA in GB was lower than that in GA but higher than that in CG (P < 0.05, Figure 4(b)).\n",
      "\n",
      "\n",
      "    SECTION: 3.6. Comparison of Apoptosis Rate of Nerve Cells:\n",
      "\n",
      "    The apoptosis rate of nerve cells was about (24.81 ± 3.42%) in GA, (14.83 ± 2.93%) in GB, (42.82 ± 5.63%) in MG, and (7.63 ± 1.18) in CG. Compared with the four groups, the apoptosis rate of nerve cells in MG was the highest, followed by GA, and GB was lower than GA but higher than CG (P < 0.05, Figure 5).\n",
      "\n",
      "\n",
      "    SECTION: 3.7. Expression of Autophagy Protein:\n",
      "\n",
      "    After detection, we concluded that the expression of Beclinl, LC3, and P62 protein in the spinal cord tissue of MG was the highest among the four groups, while they were the lowest in CG (P < 0.05, Figures 6(a) and 6(b)). There was no difference in Beclinl between GA and GB (P > 0.05, Figures 6(a) and 6(b)), but LC3 and P62 were higher than those in GB (P < 0.05, Figures 6(a) and 6(b)).\n",
      "\n",
      "\n",
      "\n",
      "Text with Refs: SECTION: 3. Results:\n",
      "\n",
      "    SECTION: 3.1. Preparation of Thiolated Chitosan:\n",
      "\n",
      "    According to the test, the sulfhydryl group in 1 g of thiolated chitosan was approximately 214.52 ± 14.26, which was higher than in nonthiolated chitosan (26.42 ± 4.86) (P < 0.001, Figure 1(a)[MHTML::dataref::23]). By observing the morphology of thiolated chitosan nanoparticles under SEM, it could be seen that thiolated chitosan showed a dense and complete circular structure, which was evenly distributed in the field of vision and had no gaps. The appearance was smooth, and the size was equal (Figure 1(b)[MHTML::dataref::24]).\n",
      "\n",
      "\n",
      "    SECTION: 3.2. Effect of Thiolated Chitosan on the Survival Rate of HAECs:\n",
      "\n",
      "    MTT assay revealed that the HAECs curve with the intervention of thiolated chitosan was higher than that without intervention (P < 0.05, Figure 2[MHTML::dataref::25]).\n",
      "\n",
      "\n",
      "    SECTION: 3.3. Evaluation of SCI:\n",
      "\n",
      "    On the 0th and 3rd day, Tarlov and BBB scores had no difference in GA, GB, and MG (P > 0.05, Tables 1[MHTML::dataref::26] and 2[MHTML::dataref::27]), and they were lower than those in CG (P < 0.05, Tables 1[MHTML::dataref::26] and 2[MHTML::dataref::27]). On the 5^th and 7^th days, the Tarlov and BBB scores in MG were the lowest among the three groups, followed by GA, and GB was higher than GA but lower than the CG (P < 0.05, Tables 1[MHTML::dataref::26] and 2[MHTML::dataref::27]). In GA and GB, it increased from the third day (P < 0.05, Tables 1[MHTML::dataref::26] and 2[MHTML::dataref::27]).\n",
      "\n",
      "\n",
      "    SECTION: 3.4. Comparison of Inflammatory Factors:\n",
      "\n",
      "    In GA, IL-6, IL-10, and TNF-α were (18.86 ± 4.34 pg/mL), (31.42 ± 7.42 pg/mL), and (52.62 ± 9.57 pg/mL), respectively. In GB, they were (11.87 ± 3.42 pg/mL), (22.42 ± 6.72 pg/mL), and (37.84 ± 6.65 pg/mL), respectively. In MG, they were (29.42 ± 5.63 pg/mL), (42.85 ± 10.52 pg/mL), and (84.63 ± 11.74 pg/mL), respectively. In CG, they were (9.62 ± 2.05 pg/mL), (12.84 ± 4.26 pg/mL), and (18.93 ± 4.71 pg/mL), respectively. The levels of IL-6, IL-10, and TNF-α in MG were the highest, followed by GA. The levels of IL-10 and TNF-α in GB were lower than those in GA but higher than those in CG (P < 0.05, Figures 3(a)[MHTML::dataref::28]–3(c)[MHTML::dataref::29]). Nevertheless, there was no difference between GB and CG in IL-6 (P > 0.05, Figure 3(a)[MHTML::dataref::30]), which was lower than that in GA (P < 0.05, Figure 3(a)[MHTML::dataref::30]).\n",
      "\n",
      "\n",
      "    SECTION: 3.5. Comparison of Oxidative Stress:\n",
      "\n",
      "    There was no difference in SOD between GB and CG (P > 0.05, Figure 4(a)[MHTML::dataref::31]), which was higher than the other two groups. But SOD in GA was higher than that in MG (P < 0.05, Figure 4(a)[MHTML::dataref::31]). The MDA in MG was the highest among the four groups, followed by GA, and the MDA in GB was lower than that in GA but higher than that in CG (P < 0.05, Figure 4(b)[MHTML::dataref::32]).\n",
      "\n",
      "\n",
      "    SECTION: 3.6. Comparison of Apoptosis Rate of Nerve Cells:\n",
      "\n",
      "    The apoptosis rate of nerve cells was about (24.81 ± 3.42%) in GA, (14.83 ± 2.93%) in GB, (42.82 ± 5.63%) in MG, and (7.63 ± 1.18) in CG. Compared with the four groups, the apoptosis rate of nerve cells in MG was the highest, followed by GA, and GB was lower than GA but higher than CG (P < 0.05, Figure 5[MHTML::dataref::33]).\n",
      "\n",
      "\n",
      "    SECTION: 3.7. Expression of Autophagy Protein:\n",
      "\n",
      "    After detection, we concluded that the expression of Beclinl, LC3, and P62 protein in the spinal cord tissue of MG was the highest among the four groups, while they were the lowest in CG (P < 0.05, Figures 6(a)[MHTML::dataref::34] and 6(b)[MHTML::dataref::35]). There was no difference in Beclinl between GA and GB (P > 0.05, Figures 6(a)[MHTML::dataref::34] and 6(b)[MHTML::dataref::35]), but LC3 and P62 were higher than those in GB (P < 0.05, Figures 6(a)[MHTML::dataref::34] and 6(b)[MHTML::dataref::35]).\n",
      "\n",
      "\n",
      "Text: SECTION: 4. Discussion:\n",
      "\n",
      "SCI is one of the most common traumatic diseases at present, and its complications (such as muscle atrophy, infection, respiratory system disease) are becoming more and more complex and serious [25]. As one of the effective treatment schemes for SCI, stem cell transplantation has a significant effect, but it cannot be widely applied in clinical practice due to its low survival rate [26]. The emergence of nanodrug-carrying scaffolds may be the breakthrough of clinical application of stem cell transplantation in the future. Moreover, a large number of studies have revealed that oxidative damage, inflammatory response, and changes in cell biological behavior caused by oxygen free radicals all play a vital role in the development of SCI [27, 28]. Therefore, in order to confirm the effect of nanodrug-carrying scaffolds on stem cell transplantation in treating SCI, this research was devised to make a step-by-step analysis through the abovementioned points.\n",
      "\n",
      "Firstly, we tested the sulfhydryl groups in the prepared thiolated chitosan and found that the content of sulfhydryl groups in the thiolated chitosan increased obviously. Previous studies have revealed that the sulfhydryl groups can greatly destroy the intramolecular hydrogen bonds of chitosan, improve the water solubility of chitosan, and form disulfide bonds with the sulfhydryl groups of mucin molecules, thus increasing the mucosal adsorption effect of nanoparticles and the absorption rate of encapsulated drugs in vivo [29]. Therefore, the thiolated chitosan is more convenient for drug loading than the nonsulfhydryl chitosan, and it has a higher utilization value. By observing the cell survival of HAECs under the intervention of thiolated chitosan, we concluded that the growth of HAECs under the intervention of thiolated chitosan was obviously higher than that without intervention, which suggested that thiolated chitosan not only had no toxic and side effects on HAECs, but also could effectively enhance cell activation, so it had a crucial effect on making up for the low survival rate of stem cell transplantation. Therefore, we assessed the state of SCI in rats with SCI and control rats which were transplanted with HAECs, thiolated chitosan carrying HAECs, and did not intervene. The findings revealed that the scores of rats transplanted with HAECs and thiolated chitosan carrying HAECs in GA and GB were better than those of rats in MG, which also preliminarily revealed that the two transplantation schemes might have had definite improvement effects on SCI and the thiolated chitosan carrying HAECs was better. Then, we also concluded that the inflammatory factors in GB were obviously lower than those of rats in GA and MG by comparing the inflammatory factors of rats in the four groups, which revealed that the inflammatory reaction and inflammatory injury in the bodies of rats in GB were obviously ameliorated. However, the development of SCI is due to the massive release of inflammatory mediators, resulting in the injury and necrosis of tissues and cells, thus aggravating the disease [30]. From this, we could conclude that HAECs carrying thiolated chitosan had a significant effect on the inhibition of inflammatory factors. The release of inflammatory factors is mainly activated by the peroxidation of tissues or cells [31]. The aggravation of oxidative stress is also an important pathological process that causes secondary injury to the injury site and its surrounding tissues after SCI [32]. After SCI, a large number of oxygen free radicals can be produced in tissues to cause oxidative damage to cells and damage neurons, glial cells, and other normal cells around them, resulting in cell necrosis and apoptosis [33, 34]. SOD and MDA are the most sensitive indicators of oxidative stress response, and their role in responding to oxidative stress in various diseases has been repeatedly verified [35, 36]. SOD has a strong ability to scavenge superoxide anion radicals, which indicates the antioxidation ability of the body. MDA is the final product of lipid peroxidation [37]. Our test results revealed that SOD levels in GB were raised while MDA levels declined, which indicated that oxidative stress reactions were obviously suppressed and the antioxidant capacity of tissues was improved. The detection results of TUNEL also revealed that the apoptosis rate of nerve cells in GB had obviously declined, which might be related to the effective inhibition of oxidative stress reaction. Finally, in order to further clarify the repair effect of thiolated chitosan carrying HAECs on SCI, we also tested autophagy proteins in spinal cord tissue. As an important factor causing cell injury and death, autophagy has been confirmed to increase obviously during SCI. In this test, we concluded that the autophagy proteins Beclinl, LC3, and P62 of rats in GB were obviously lower than those in MG. It could be seen that thiolated chitosan carrying HAECs also had an effective inhibitory effect on autophagy, and this inhibition might be the key to reduce oxidative stress response and inflammatory reactions of cells.\n",
      "\n",
      "\n",
      "Text with Refs: SECTION: 4. Discussion:\n",
      "\n",
      "SCI is one of the most common traumatic diseases at present, and its complications (such as muscle atrophy, infection, respiratory system disease) are becoming more and more complex and serious [25[MHTML::dataref::36]]. As one of the effective treatment schemes for SCI, stem cell transplantation has a significant effect, but it cannot be widely applied in clinical practice due to its low survival rate [26[MHTML::dataref::37]]. The emergence of nanodrug-carrying scaffolds may be the breakthrough of clinical application of stem cell transplantation in the future. Moreover, a large number of studies have revealed that oxidative damage, inflammatory response, and changes in cell biological behavior caused by oxygen free radicals all play a vital role in the development of SCI [27[MHTML::dataref::38], 28[MHTML::dataref::39]]. Therefore, in order to confirm the effect of nanodrug-carrying scaffolds on stem cell transplantation in treating SCI, this research was devised to make a step-by-step analysis through the abovementioned points.\n",
      "\n",
      "Firstly, we tested the sulfhydryl groups in the prepared thiolated chitosan and found that the content of sulfhydryl groups in the thiolated chitosan increased obviously. Previous studies have revealed that the sulfhydryl groups can greatly destroy the intramolecular hydrogen bonds of chitosan, improve the water solubility of chitosan, and form disulfide bonds with the sulfhydryl groups of mucin molecules, thus increasing the mucosal adsorption effect of nanoparticles and the absorption rate of encapsulated drugs in vivo [29[MHTML::dataref::40]]. Therefore, the thiolated chitosan is more convenient for drug loading than the nonsulfhydryl chitosan, and it has a higher utilization value. By observing the cell survival of HAECs under the intervention of thiolated chitosan, we concluded that the growth of HAECs under the intervention of thiolated chitosan was obviously higher than that without intervention, which suggested that thiolated chitosan not only had no toxic and side effects on HAECs, but also could effectively enhance cell activation, so it had a crucial effect on making up for the low survival rate of stem cell transplantation. Therefore, we assessed the state of SCI in rats with SCI and control rats which were transplanted with HAECs, thiolated chitosan carrying HAECs, and did not intervene. The findings revealed that the scores of rats transplanted with HAECs and thiolated chitosan carrying HAECs in GA and GB were better than those of rats in MG, which also preliminarily revealed that the two transplantation schemes might have had definite improvement effects on SCI and the thiolated chitosan carrying HAECs was better. Then, we also concluded that the inflammatory factors in GB were obviously lower than those of rats in GA and MG by comparing the inflammatory factors of rats in the four groups, which revealed that the inflammatory reaction and inflammatory injury in the bodies of rats in GB were obviously ameliorated. However, the development of SCI is due to the massive release of inflammatory mediators, resulting in the injury and necrosis of tissues and cells, thus aggravating the disease [30[MHTML::dataref::41]]. From this, we could conclude that HAECs carrying thiolated chitosan had a significant effect on the inhibition of inflammatory factors. The release of inflammatory factors is mainly activated by the peroxidation of tissues or cells [31[MHTML::dataref::42]]. The aggravation of oxidative stress is also an important pathological process that causes secondary injury to the injury site and its surrounding tissues after SCI [32[MHTML::dataref::43]]. After SCI, a large number of oxygen free radicals can be produced in tissues to cause oxidative damage to cells and damage neurons, glial cells, and other normal cells around them, resulting in cell necrosis and apoptosis [33[MHTML::dataref::44], 34[MHTML::dataref::45]]. SOD and MDA are the most sensitive indicators of oxidative stress response, and their role in responding to oxidative stress in various diseases has been repeatedly verified [35[MHTML::dataref::46], 36[MHTML::dataref::47]]. SOD has a strong ability to scavenge superoxide anion radicals, which indicates the antioxidation ability of the body. MDA is the final product of lipid peroxidation [37[MHTML::dataref::48]]. Our test results revealed that SOD levels in GB were raised while MDA levels declined, which indicated that oxidative stress reactions were obviously suppressed and the antioxidant capacity of tissues was improved. The detection results of TUNEL also revealed that the apoptosis rate of nerve cells in GB had obviously declined, which might be related to the effective inhibition of oxidative stress reaction. Finally, in order to further clarify the repair effect of thiolated chitosan carrying HAECs on SCI, we also tested autophagy proteins in spinal cord tissue. As an important factor causing cell injury and death, autophagy has been confirmed to increase obviously during SCI. In this test, we concluded that the autophagy proteins Beclinl, LC3, and P62 of rats in GB were obviously lower than those in MG. It could be seen that thiolated chitosan carrying HAECs also had an effective inhibitory effect on autophagy, and this inhibition might be the key to reduce oxidative stress response and inflammatory reactions of cells.\n",
      "\n",
      "Text: SECTION: 5. Conclusion:\n",
      "\n",
      "The nanodrug-carrying scaffolds of thiolated chitosan can ameliorate the survival rate of HAECs. The thiolated chitosan carrying HAECs may be applied to treat SCI by suppressing autophagy protein expression, oxidative stress response, and release of inflammatory factors in spinal cord tissue, which may be a new clinical therapy for SCI in the future.\n",
      "\n",
      "However, we cannot understand exactly the therapeutic mechanism of thiolated chitosan carrying HAECs for SCI due to the limited conditions, and the improvement of thiolated chitosan for HAECs' shortcomings may not only ameliorate the cell survival rate and the binding rate with the body, but also have a deeper and potential relationship between them, which is worth exploring and discovering. Nevertheless, the real clinical application of thiolated chitosan carrying HAECs needs to be confirmed by human experiments.\n",
      "\n",
      "\n",
      "Text with Refs: SECTION: 5. Conclusion:\n",
      "\n",
      "The nanodrug-carrying scaffolds of thiolated chitosan can ameliorate the survival rate of HAECs. The thiolated chitosan carrying HAECs may be applied to treat SCI by suppressing autophagy protein expression, oxidative stress response, and release of inflammatory factors in spinal cord tissue, which may be a new clinical therapy for SCI in the future.\n",
      "\n",
      "However, we cannot understand exactly the therapeutic mechanism of thiolated chitosan carrying HAECs for SCI due to the limited conditions, and the improvement of thiolated chitosan for HAECs' shortcomings may not only ameliorate the cell survival rate and the binding rate with the body, but also have a deeper and potential relationship between them, which is worth exploring and discovering. Nevertheless, the real clinical application of thiolated chitosan carrying HAECs needs to be confirmed by human experiments.\n",
      "\n"
     ]
    }
   ],
   "source": [
    "if p.body:\n",
    "    for sec in p.body:\n",
    "        print(\"Text: \" + sec.text)\n",
    "        print()\n",
    "        print(\"Text with Refs: \" + sec.text_with_refs)"
   ]
  },
  {
   "cell_type": "code",
   "execution_count": 313,
   "metadata": {},
   "outputs": [
    {
     "data": {
      "text/plain": [
       "{0: '<xref xmlns:mml=\"http://www.w3.org/1998/Math/MathML\" xmlns:xlink=\"http://www.w3.org/1999/xlink\" rid=\"B1\" ref-type=\"bibr\">1</xref>',\n",
       " 1: '<xref xmlns:mml=\"http://www.w3.org/1998/Math/MathML\" xmlns:xlink=\"http://www.w3.org/1999/xlink\" rid=\"B2\" ref-type=\"bibr\">2</xref>',\n",
       " 2: '<xref xmlns:mml=\"http://www.w3.org/1998/Math/MathML\" xmlns:xlink=\"http://www.w3.org/1999/xlink\" rid=\"B4\" ref-type=\"bibr\">4</xref>',\n",
       " 3: '<xref xmlns:mml=\"http://www.w3.org/1998/Math/MathML\" xmlns:xlink=\"http://www.w3.org/1999/xlink\" rid=\"B5\" ref-type=\"bibr\">5</xref>',\n",
       " 4: '<xref xmlns:mml=\"http://www.w3.org/1998/Math/MathML\" xmlns:xlink=\"http://www.w3.org/1999/xlink\" rid=\"B6\" ref-type=\"bibr\">6</xref>',\n",
       " 5: '<xref xmlns:mml=\"http://www.w3.org/1998/Math/MathML\" xmlns:xlink=\"http://www.w3.org/1999/xlink\" rid=\"B7\" ref-type=\"bibr\">7</xref>',\n",
       " 6: '<xref xmlns:mml=\"http://www.w3.org/1998/Math/MathML\" xmlns:xlink=\"http://www.w3.org/1999/xlink\" rid=\"B8\" ref-type=\"bibr\">8</xref>',\n",
       " 7: '<xref xmlns:mml=\"http://www.w3.org/1998/Math/MathML\" xmlns:xlink=\"http://www.w3.org/1999/xlink\" rid=\"B9\" ref-type=\"bibr\">9</xref>',\n",
       " 8: '<xref xmlns:mml=\"http://www.w3.org/1998/Math/MathML\" xmlns:xlink=\"http://www.w3.org/1999/xlink\" rid=\"B10\" ref-type=\"bibr\">10</xref>',\n",
       " 9: '<xref xmlns:mml=\"http://www.w3.org/1998/Math/MathML\" xmlns:xlink=\"http://www.w3.org/1999/xlink\" rid=\"B11\" ref-type=\"bibr\">11</xref>',\n",
       " 10: '<xref xmlns:mml=\"http://www.w3.org/1998/Math/MathML\" xmlns:xlink=\"http://www.w3.org/1999/xlink\" rid=\"B12\" ref-type=\"bibr\">12</xref>',\n",
       " 11: '<xref xmlns:mml=\"http://www.w3.org/1998/Math/MathML\" xmlns:xlink=\"http://www.w3.org/1999/xlink\" rid=\"B13\" ref-type=\"bibr\">13</xref>',\n",
       " 12: '<xref xmlns:mml=\"http://www.w3.org/1998/Math/MathML\" xmlns:xlink=\"http://www.w3.org/1999/xlink\" rid=\"B14\" ref-type=\"bibr\">14</xref>',\n",
       " 13: '<xref xmlns:mml=\"http://www.w3.org/1998/Math/MathML\" xmlns:xlink=\"http://www.w3.org/1999/xlink\" rid=\"B15\" ref-type=\"bibr\">15</xref>',\n",
       " 14: '<xref xmlns:mml=\"http://www.w3.org/1998/Math/MathML\" xmlns:xlink=\"http://www.w3.org/1999/xlink\" rid=\"B16\" ref-type=\"bibr\">16</xref>',\n",
       " 15: '<xref xmlns:mml=\"http://www.w3.org/1998/Math/MathML\" xmlns:xlink=\"http://www.w3.org/1999/xlink\" rid=\"B17\" ref-type=\"bibr\">17</xref>',\n",
       " 16: '<xref xmlns:mml=\"http://www.w3.org/1998/Math/MathML\" xmlns:xlink=\"http://www.w3.org/1999/xlink\" rid=\"B18\" ref-type=\"bibr\">18</xref>',\n",
       " 17: '<xref xmlns:mml=\"http://www.w3.org/1998/Math/MathML\" xmlns:xlink=\"http://www.w3.org/1999/xlink\" rid=\"B19\" ref-type=\"bibr\">19</xref>',\n",
       " 18: '<xref xmlns:mml=\"http://www.w3.org/1998/Math/MathML\" xmlns:xlink=\"http://www.w3.org/1999/xlink\" rid=\"B20\" ref-type=\"bibr\">20</xref>',\n",
       " 19: '<xref xmlns:mml=\"http://www.w3.org/1998/Math/MathML\" xmlns:xlink=\"http://www.w3.org/1999/xlink\" rid=\"B21\" ref-type=\"bibr\">21</xref>',\n",
       " 20: '<xref xmlns:mml=\"http://www.w3.org/1998/Math/MathML\" xmlns:xlink=\"http://www.w3.org/1999/xlink\" rid=\"B22\" ref-type=\"bibr\">22</xref>',\n",
       " 21: '<xref xmlns:mml=\"http://www.w3.org/1998/Math/MathML\" xmlns:xlink=\"http://www.w3.org/1999/xlink\" rid=\"B23\" ref-type=\"bibr\">23</xref>',\n",
       " 22: '<xref xmlns:mml=\"http://www.w3.org/1998/Math/MathML\" xmlns:xlink=\"http://www.w3.org/1999/xlink\" rid=\"B24\" ref-type=\"bibr\">24</xref>',\n",
       " 23: '<xref xmlns:mml=\"http://www.w3.org/1998/Math/MathML\" xmlns:xlink=\"http://www.w3.org/1999/xlink\" rid=\"fig1\" ref-type=\"fig\">Figure 1(a)</xref>',\n",
       " 24: '<xref xmlns:mml=\"http://www.w3.org/1998/Math/MathML\" xmlns:xlink=\"http://www.w3.org/1999/xlink\" rid=\"fig1\" ref-type=\"fig\">Figure 1(b)</xref>',\n",
       " 25: '<xref xmlns:mml=\"http://www.w3.org/1998/Math/MathML\" xmlns:xlink=\"http://www.w3.org/1999/xlink\" rid=\"fig2\" ref-type=\"fig\">Figure 2</xref>',\n",
       " 26: '<xref xmlns:mml=\"http://www.w3.org/1998/Math/MathML\" xmlns:xlink=\"http://www.w3.org/1999/xlink\" rid=\"tab1\" ref-type=\"table\">1</xref>',\n",
       " 27: '<xref xmlns:mml=\"http://www.w3.org/1998/Math/MathML\" xmlns:xlink=\"http://www.w3.org/1999/xlink\" rid=\"tab2\" ref-type=\"table\">2</xref>',\n",
       " 28: '<xref xmlns:mml=\"http://www.w3.org/1998/Math/MathML\" xmlns:xlink=\"http://www.w3.org/1999/xlink\" rid=\"fig3\" ref-type=\"fig\">3(a)</xref>',\n",
       " 29: '<xref xmlns:mml=\"http://www.w3.org/1998/Math/MathML\" xmlns:xlink=\"http://www.w3.org/1999/xlink\" rid=\"fig3\" ref-type=\"fig\">3(c)</xref>',\n",
       " 30: '<xref xmlns:mml=\"http://www.w3.org/1998/Math/MathML\" xmlns:xlink=\"http://www.w3.org/1999/xlink\" rid=\"fig3\" ref-type=\"fig\">Figure 3(a)</xref>',\n",
       " 31: '<xref xmlns:mml=\"http://www.w3.org/1998/Math/MathML\" xmlns:xlink=\"http://www.w3.org/1999/xlink\" rid=\"fig4\" ref-type=\"fig\">Figure 4(a)</xref>',\n",
       " 32: '<xref xmlns:mml=\"http://www.w3.org/1998/Math/MathML\" xmlns:xlink=\"http://www.w3.org/1999/xlink\" rid=\"fig4\" ref-type=\"fig\">Figure 4(b)</xref>',\n",
       " 33: '<xref xmlns:mml=\"http://www.w3.org/1998/Math/MathML\" xmlns:xlink=\"http://www.w3.org/1999/xlink\" rid=\"fig5\" ref-type=\"fig\">Figure 5</xref>',\n",
       " 34: '<xref xmlns:mml=\"http://www.w3.org/1998/Math/MathML\" xmlns:xlink=\"http://www.w3.org/1999/xlink\" rid=\"fig6\" ref-type=\"fig\">6(a)</xref>',\n",
       " 35: '<xref xmlns:mml=\"http://www.w3.org/1998/Math/MathML\" xmlns:xlink=\"http://www.w3.org/1999/xlink\" rid=\"fig6\" ref-type=\"fig\">6(b)</xref>',\n",
       " 36: '<xref xmlns:mml=\"http://www.w3.org/1998/Math/MathML\" xmlns:xlink=\"http://www.w3.org/1999/xlink\" rid=\"B25\" ref-type=\"bibr\">25</xref>',\n",
       " 37: '<xref xmlns:mml=\"http://www.w3.org/1998/Math/MathML\" xmlns:xlink=\"http://www.w3.org/1999/xlink\" rid=\"B26\" ref-type=\"bibr\">26</xref>',\n",
       " 38: '<xref xmlns:mml=\"http://www.w3.org/1998/Math/MathML\" xmlns:xlink=\"http://www.w3.org/1999/xlink\" rid=\"B27\" ref-type=\"bibr\">27</xref>',\n",
       " 39: '<xref xmlns:mml=\"http://www.w3.org/1998/Math/MathML\" xmlns:xlink=\"http://www.w3.org/1999/xlink\" rid=\"B28\" ref-type=\"bibr\">28</xref>',\n",
       " 40: '<xref xmlns:mml=\"http://www.w3.org/1998/Math/MathML\" xmlns:xlink=\"http://www.w3.org/1999/xlink\" rid=\"B29\" ref-type=\"bibr\">29</xref>',\n",
       " 41: '<xref xmlns:mml=\"http://www.w3.org/1998/Math/MathML\" xmlns:xlink=\"http://www.w3.org/1999/xlink\" rid=\"B30\" ref-type=\"bibr\">30</xref>',\n",
       " 42: '<xref xmlns:mml=\"http://www.w3.org/1998/Math/MathML\" xmlns:xlink=\"http://www.w3.org/1999/xlink\" rid=\"B31\" ref-type=\"bibr\">31</xref>',\n",
       " 43: '<xref xmlns:mml=\"http://www.w3.org/1998/Math/MathML\" xmlns:xlink=\"http://www.w3.org/1999/xlink\" rid=\"B32\" ref-type=\"bibr\">32</xref>',\n",
       " 44: '<xref xmlns:mml=\"http://www.w3.org/1998/Math/MathML\" xmlns:xlink=\"http://www.w3.org/1999/xlink\" rid=\"B33\" ref-type=\"bibr\">33</xref>',\n",
       " 45: '<xref xmlns:mml=\"http://www.w3.org/1998/Math/MathML\" xmlns:xlink=\"http://www.w3.org/1999/xlink\" rid=\"B34\" ref-type=\"bibr\">34</xref>',\n",
       " 46: '<xref xmlns:mml=\"http://www.w3.org/1998/Math/MathML\" xmlns:xlink=\"http://www.w3.org/1999/xlink\" rid=\"B35\" ref-type=\"bibr\">35</xref>',\n",
       " 47: '<xref xmlns:mml=\"http://www.w3.org/1998/Math/MathML\" xmlns:xlink=\"http://www.w3.org/1999/xlink\" rid=\"B36\" ref-type=\"bibr\">36</xref>',\n",
       " 48: '<xref xmlns:mml=\"http://www.w3.org/1998/Math/MathML\" xmlns:xlink=\"http://www.w3.org/1999/xlink\" rid=\"B37\" ref-type=\"bibr\">37</xref>'}"
      ]
     },
     "execution_count": 313,
     "metadata": {},
     "output_type": "execute_result"
    }
   ],
   "source": [
    "p._ref_map_with_tags\n"
   ]
  },
  {
   "cell_type": "code",
   "execution_count": 314,
   "metadata": {},
   "outputs": [
    {
     "data": {
      "text/plain": [
       "{0: {'Authors': ['O. Bican', 'A. Minagar', 'A. A. Pruitt'],\n",
       "  'Title': 'The spinal cord',\n",
       "  'Source': '\\nNeurologic Clinics\\n',\n",
       "  'Year': '2013',\n",
       "  'Volume': '31',\n",
       "  'FirstPage': '1',\n",
       "  'LastPage': '18',\n",
       "  'DOI': '10.1016/j.ncl.2012.09.009',\n",
       "  'PMID': '23186894'},\n",
       " 1: {'Authors': ['T. A. Cho'],\n",
       "  'Title': 'Spinal cord functional anatomy',\n",
       "  'Source': '\\nContinuum\\n',\n",
       "  'Year': '2015',\n",
       "  'Volume': '21',\n",
       "  'FirstPage': '13',\n",
       "  'LastPage': '35',\n",
       "  'DOI': '10.1212/01.con.0000461082.25876.4a',\n",
       "  'PMID': '25651215'},\n",
       " 2: {'Authors': ['J. Novy'],\n",
       "  'Title': 'Spinal cord syndromes',\n",
       "  'Source': '\\nFrontiers of Neurology and Neuroscience\\n',\n",
       "  'Year': '2012',\n",
       "  'Volume': '30',\n",
       "  'FirstPage': '195',\n",
       "  'LastPage': '198',\n",
       "  'DOI': '10.1159/000333682',\n",
       "  'PMID': '22377894'},\n",
       " 3: {'Authors': ['R. D. Bartlett', 'D. Choi', 'J. B. Phillips'],\n",
       "  'Title': 'Biomechanical properties of the spinal cord: implications for tissue engineering and clinical translation',\n",
       "  'Source': '\\nRegenerative Medicine\\n',\n",
       "  'Year': '2016',\n",
       "  'Volume': '11',\n",
       "  'FirstPage': '659',\n",
       "  'LastPage': '673',\n",
       "  'DOI': '10.2217/rme-2016-0065',\n",
       "  'PMID': '27592549'},\n",
       " 4: {'Authors': ['P. Nadvornik'],\n",
       "  'Title': 'Spinal cord stereotaxy: an overview',\n",
       "  'Source': '\\nJournal of Neurological Surgery. Part A, Central European Neurosurgery\\n',\n",
       "  'Year': '2015',\n",
       "  'Volume': '76',\n",
       "  'FirstPage': '318',\n",
       "  'LastPage': '322',\n",
       "  'DOI': '10.1055/s-0034-1376194',\n",
       "  'PMID': None},\n",
       " 5: {'Authors': ['L. H. Nguyen',\n",
       "   'M. Gao',\n",
       "   'J. Lin',\n",
       "   'W. Wu',\n",
       "   'J. Wang',\n",
       "   'S. Y. Chew'],\n",
       "  'Title': 'Three-dimensional aligned nanofibers-hydrogel scaffold for controlled non-viral drug/gene delivery to direct axon regeneration in spinal cord injury treatment',\n",
       "  'Source': '\\nScientific Reports\\n',\n",
       "  'Year': '2017',\n",
       "  'Volume': '7',\n",
       "  'FirstPage': 'p. 42212',\n",
       "  'LastPage': None,\n",
       "  'DOI': '10.1038/srep42212',\n",
       "  'PMID': None},\n",
       " 6: {'Authors': ['A. P. Pêgo', 'S. Kubinova', 'D. Cizkova'],\n",
       "  'Title': 'Regenerative medicine for the treatment of spinal cord injury: more than just promises?',\n",
       "  'Source': '\\nJournal of Cellular and Molecular Medicine\\n',\n",
       "  'Year': '2012',\n",
       "  'Volume': '16',\n",
       "  'FirstPage': '2564',\n",
       "  'LastPage': '2582',\n",
       "  'DOI': '10.1111/j.1582-4934.2012.01603.x',\n",
       "  'PMID': '22805417'},\n",
       " 7: {'Authors': ['J. W. Geurts', 'E. A. Joosten', 'M. van Kleef'],\n",
       "  'Title': 'Current status and future perspectives of spinal cord stimulation in treatment of chronic pain',\n",
       "  'Source': '\\nPain\\n',\n",
       "  'Year': '2017',\n",
       "  'Volume': '158',\n",
       "  'FirstPage': '771',\n",
       "  'LastPage': '774',\n",
       "  'DOI': '10.1097/j.pain.0000000000000847',\n",
       "  'PMID': '28106667'},\n",
       " 8: {'Authors': ['M. P. Jensen', 'R. M. Brownstone'],\n",
       "  'Title': 'Mechanisms of spinal cord stimulation for the treatment of pain: still in the dark after 50 years',\n",
       "  'Source': '\\nEuropean Journal of Pain\\n',\n",
       "  'Year': '2019',\n",
       "  'Volume': '23',\n",
       "  'FirstPage': '652',\n",
       "  'LastPage': '659',\n",
       "  'DOI': '10.1002/ejp.1336',\n",
       "  'PMID': '30407696'},\n",
       " 9: {'Authors': ['T. G. Wang', 'J. Xu', 'A. H. Zhu'],\n",
       "  'Title': 'Human amniotic epithelial cells combined with silk fibroin scaffold in the repair of spinal cord injury',\n",
       "  'Source': '\\nNeural regeneration research\\n',\n",
       "  'Year': '2016',\n",
       "  'Volume': '11',\n",
       "  'FirstPage': '1670',\n",
       "  'LastPage': '1677',\n",
       "  'DOI': '10.4103/1673-5374.193249',\n",
       "  'PMID': '27904501'},\n",
       " 10: {'Authors': ['V. Sankar', 'R. Muthusamy'],\n",
       "  'Title': 'Role of human amniotic epithelial cell transplantation in spinal cord injury repair research',\n",
       "  'Source': '\\nNeuroscience\\n',\n",
       "  'Year': '2003',\n",
       "  'Volume': '118',\n",
       "  'FirstPage': '11',\n",
       "  'LastPage': '17',\n",
       "  'DOI': '10.1016/s0306-4522(02)00929-6',\n",
       "  'PMID': '12676132'},\n",
       " 11: {'Authors': ['C. Pan', 'H. Lang', 'T. Zhang'],\n",
       "  'Title': 'Conditioned medium derived from human amniotic stem cells delays H2O2induced premature senescence in human dermal fibroblasts',\n",
       "  'Source': '\\nInternational Journal of Molecular Medicine\\n',\n",
       "  'Year': '2019',\n",
       "  'Volume': '44',\n",
       "  'FirstPage': '1629',\n",
       "  'LastPage': '1640',\n",
       "  'DOI': '10.3892/ijmm.2019.4346',\n",
       "  'PMID': '31545472'},\n",
       " 12: {'Authors': ['J. L. Tan', 'S. N. Lau', 'B. Leaw'],\n",
       "  'Title': 'Amnion epithelial cell-derived exosomes restrict lung injury and enhance endogenous lung repair',\n",
       "  'Source': '\\nStem Cells Translational Medicine\\n',\n",
       "  'Year': '2018',\n",
       "  'Volume': '7',\n",
       "  'FirstPage': '180',\n",
       "  'LastPage': '196',\n",
       "  'DOI': '10.1002/sctm.17-0185',\n",
       "  'PMID': '29297621'},\n",
       " 13: {'Authors': ['R. Menon', 'I. Boldogh', 'R. Urrabaz-Garza'],\n",
       "  'Title': 'Senescence of primary amniotic cells via oxidative DNA damage',\n",
       "  'Source': '\\nPLoS One\\n',\n",
       "  'Year': '2013',\n",
       "  'Volume': '8',\n",
       "  'FirstPage': None,\n",
       "  'LastPage': None,\n",
       "  'DOI': '10.1371/journal.pone.0083416',\n",
       "  'PMID': None},\n",
       " 14: {'Authors': ['H. He',\n",
       "   'H.-T. Cho',\n",
       "   'W. Li',\n",
       "   'T. Kawakita',\n",
       "   'L. Jong',\n",
       "   'S. C. G. Tseng'],\n",
       "  'Title': 'Signaling-transduction pathways required for ex vivo expansion of human limbal explants on intact amniotic membrane',\n",
       "  'Source': '\\nInvestigative Opthalmology & Visual Science\\n',\n",
       "  'Year': '2006',\n",
       "  'Volume': '47',\n",
       "  'FirstPage': '151',\n",
       "  'LastPage': '157',\n",
       "  'DOI': '10.1167/iovs.05-0351',\n",
       "  'PMID': None},\n",
       " 15: {'Authors': ['A. Muxika',\n",
       "   'A. Etxabide',\n",
       "   'J. Uranga',\n",
       "   'P. Guerrero',\n",
       "   'K. de la Caba'],\n",
       "  'Title': 'Chitosan as a bioactive polymer: processing, properties and applications',\n",
       "  'Source': '\\nInternational Journal of Biological Macromolecules\\n',\n",
       "  'Year': '2017',\n",
       "  'Volume': '105',\n",
       "  'FirstPage': '1358',\n",
       "  'LastPage': '1368',\n",
       "  'DOI': '10.1016/j.ijbiomac.2017.07.087',\n",
       "  'PMID': '28735006'},\n",
       " 16: {'Authors': ['I. Younes', 'M. Rinaudo'],\n",
       "  'Title': 'Chitin and chitosan preparation from marine sources. Structure, properties and applications',\n",
       "  'Source': '\\nMarine Drugs\\n',\n",
       "  'Year': '2015',\n",
       "  'Volume': '13',\n",
       "  'FirstPage': '1133',\n",
       "  'LastPage': '1174',\n",
       "  'DOI': '10.3390/md13031133',\n",
       "  'PMID': '25738328'},\n",
       " 17: {'Authors': ['V. Patrulea', 'V. Ostafe', 'G. Borchard', 'O. Jordan'],\n",
       "  'Title': 'Chitosan as a starting material for wound healing applications',\n",
       "  'Source': '\\nEuropean Journal of Pharmaceutics and Biopharmaceutics\\n',\n",
       "  'Year': '2015',\n",
       "  'Volume': '97',\n",
       "  'FirstPage': '417',\n",
       "  'LastPage': '426',\n",
       "  'DOI': '10.1016/j.ejpb.2015.08.004',\n",
       "  'PMID': '26614560'},\n",
       " 18: {'Authors': ['Z. Shariatinia'],\n",
       "  'Title': 'Carboxymethyl chitosan: properties and biomedical applications',\n",
       "  'Source': '\\nInternational Journal of Biological Macromolecules\\n',\n",
       "  'Year': '2018',\n",
       "  'Volume': '120',\n",
       "  'FirstPage': '1406',\n",
       "  'LastPage': '1419',\n",
       "  'DOI': '10.1016/j.ijbiomac.2018.09.131',\n",
       "  'PMID': '30267813'},\n",
       " 19: {'Authors': ['E. M. Costa',\n",
       "   'S. Silva',\n",
       "   'M. Veiga',\n",
       "   'F. K. Tavaria',\n",
       "   'M. M. Pintado'],\n",
       "  'Title': 'Chitosan’s biological activity upon skin-related microorganisms and its potential textile applications',\n",
       "  'Source': '\\nWorld Journal of Microbiology and Biotechnology\\n',\n",
       "  'Year': '2018',\n",
       "  'Volume': '34',\n",
       "  'FirstPage': 'p. 93',\n",
       "  'LastPage': None,\n",
       "  'DOI': '10.1007/s11274-018-2471-2',\n",
       "  'PMID': None},\n",
       " 20: {'Authors': ['A. Mahmood',\n",
       "   'M. Lanthaler',\n",
       "   'F. Laffleur',\n",
       "   'C. W. Huck',\n",
       "   'A. Bernkop-Schnürch'],\n",
       "  'Title': 'Thiolated chitosan micelles: highly mucoadhesive drug carriers',\n",
       "  'Source': '\\nCarbohydrate Polymers\\n',\n",
       "  'Year': '2017',\n",
       "  'Volume': '167',\n",
       "  'FirstPage': '250',\n",
       "  'LastPage': '258',\n",
       "  'DOI': '10.1016/j.carbpol.2017.03.019',\n",
       "  'PMID': '28433160'},\n",
       " 21: {'Authors': ['Y. Nazli',\n",
       "   'N. Colak',\n",
       "   'M. Alpay',\n",
       "   'S. Uysal',\n",
       "   'A. Uzunlar',\n",
       "   'O. Cakir'],\n",
       "  'Title': 'Neuroprotective effect of atorvastatin in spinal cord ischemia-reperfusion injury',\n",
       "  'Source': '\\nClinics\\n',\n",
       "  'Year': '2015',\n",
       "  'Volume': '70',\n",
       "  'FirstPage': '52',\n",
       "  'LastPage': '60',\n",
       "  'DOI': '10.6061/clinics/2015(01)10',\n",
       "  'PMID': '25672430'},\n",
       " 22: {'Authors': ['H. Zeng', 'N. Liu', 'Y.-y. Yang'],\n",
       "  'Title': 'Lentivirus-mediated downregulation of α-synuclein reduces neuroinflammation and promotes functional recovery in rats with spinal cord injury',\n",
       "  'Source': '\\nJournal of Neuroinflammation\\n',\n",
       "  'Year': '2019',\n",
       "  'Volume': '16',\n",
       "  'FirstPage': 'p. 283',\n",
       "  'LastPage': None,\n",
       "  'DOI': '10.1186/s12974-019-1658-2',\n",
       "  'PMID': None},\n",
       " 23: {'Label': 'Figure 1', 'Caption': '\\n        Preparation of thiolated chitosan. (a) Sulfhydryl content in thiolated chitosan and chitosan, ^∗∗∗P\\u2009<\\u20090.001; (b) SEM image of thiolated chitosan.\\n      ', 'Link': 'JHE2022-6294148.001'},\n",
       " 24: {'Label': 'Figure 1', 'Caption': '\\n        Preparation of thiolated chitosan. (a) Sulfhydryl content in thiolated chitosan and chitosan, ^∗∗∗P\\u2009<\\u20090.001; (b) SEM image of thiolated chitosan.\\n      ', 'Link': 'JHE2022-6294148.001'},\n",
       " 25: {'Label': 'Figure 2', 'Caption': '\\n        Growth curve of HAECs. ^∗P ＜ 0.05.\\n      ', 'Link': 'JHE2022-6294148.002'},\n",
       " 26: <pandas.io.formats.style.Styler object at 0x7fb1eb45eef0>,\n",
       " 27: <pandas.io.formats.style.Styler object at 0x7fb1eb45ff10>,\n",
       " 28: {'Label': 'Figure 3', 'Caption': '\\n        Comparison of inflammatory factors. (a) IL-6 concentration; (b) IL-10 concentration; and (c) TNF-α concentration. ^∗ represents the comparison with GA, P\\u2009<\\u20090.05; # represents the comparison with GB, P\\u2009<\\u20090.05; @ represents the comparison with MG, P\\u2009<\\u20090.05.\\n      ', 'Link': 'JHE2022-6294148.003'},\n",
       " 29: {'Label': 'Figure 3', 'Caption': '\\n        Comparison of inflammatory factors. (a) IL-6 concentration; (b) IL-10 concentration; and (c) TNF-α concentration. ^∗ represents the comparison with GA, P\\u2009<\\u20090.05; # represents the comparison with GB, P\\u2009<\\u20090.05; @ represents the comparison with MG, P\\u2009<\\u20090.05.\\n      ', 'Link': 'JHE2022-6294148.003'},\n",
       " 30: {'Label': 'Figure 3', 'Caption': '\\n        Comparison of inflammatory factors. (a) IL-6 concentration; (b) IL-10 concentration; and (c) TNF-α concentration. ^∗ represents the comparison with GA, P\\u2009<\\u20090.05; # represents the comparison with GB, P\\u2009<\\u20090.05; @ represents the comparison with MG, P\\u2009<\\u20090.05.\\n      ', 'Link': 'JHE2022-6294148.003'},\n",
       " 31: {'Label': 'Figure 4', 'Caption': '\\n        Oxidative stress. (a) SOD concentration; (b) MDA concentration. ^∗ represents the comparison with GA, P\\u2009<\\u20090.05; # represents the comparison with GB, P\\u2009<\\u20090.05; @ represents the comparison with MG, P\\u2009<\\u20090.05.\\n      ', 'Link': 'JHE2022-6294148.004'},\n",
       " 32: {'Label': 'Figure 4', 'Caption': '\\n        Oxidative stress. (a) SOD concentration; (b) MDA concentration. ^∗ represents the comparison with GA, P\\u2009<\\u20090.05; # represents the comparison with GB, P\\u2009<\\u20090.05; @ represents the comparison with MG, P\\u2009<\\u20090.05.\\n      ', 'Link': 'JHE2022-6294148.004'},\n",
       " 33: {'Label': 'Figure 5', 'Caption': '\\n        Apoptosis rate of nerve cells. ^∗ represents the comparison with GA, P\\u2009<\\u20090.05; # represents the comparison with GB, P\\u2009<\\u20090.05; @ represents the comparison with MG, P\\u2009<\\u20090.05.\\n      ', 'Link': 'JHE2022-6294148.005'},\n",
       " 34: {'Label': 'Figure 6', 'Caption': '\\n        Expression of autophagy protein. (a) Protein expression; (b) western blot. ^∗ represents the comparison with GA, P\\u2009<\\u20090.05; # represents the comparison with GB, P\\u2009<\\u20090.05; @ represents the comparison with MG, P\\u2009<\\u20090.05.\\n      ', 'Link': 'JHE2022-6294148.006'},\n",
       " 35: {'Label': 'Figure 6', 'Caption': '\\n        Expression of autophagy protein. (a) Protein expression; (b) western blot. ^∗ represents the comparison with GA, P\\u2009<\\u20090.05; # represents the comparison with GB, P\\u2009<\\u20090.05; @ represents the comparison with MG, P\\u2009<\\u20090.05.\\n      ', 'Link': 'JHE2022-6294148.006'},\n",
       " 36: {'Authors': ['W. K. Rogers', 'M. Todd'],\n",
       "  'Title': 'Acute spinal cord injury',\n",
       "  'Source': '\\nBest Practice & Research Clinical Anaesthesiology\\n',\n",
       "  'Year': '2016',\n",
       "  'Volume': '30',\n",
       "  'FirstPage': '27',\n",
       "  'LastPage': '39',\n",
       "  'DOI': '10.1016/j.bpa.2015.11.003',\n",
       "  'PMID': '27036601'},\n",
       " 37: {'Authors': ['L. Gao', 'Y. Peng', 'W. Xu'],\n",
       "  'Title': 'Progress in stem cell therapy for spinal cord injury',\n",
       "  'Source': '\\nStem Cells International\\n',\n",
       "  'Year': '2020',\n",
       "  'Volume': '2020',\n",
       "  'FirstPage': '16',\n",
       "  'LastPage': None,\n",
       "  'DOI': '10.1155/2020/2853650',\n",
       "  'PMID': None},\n",
       " 38: {'Authors': ['Z. Li', 'F. Wu', 'D. Xu', 'Z. Zhi', 'G. Xu'],\n",
       "  'Title': 'Inhibition of TREM1 reduces inflammation and oxidative stress after spinal cord injury (SCI) associated with HO-1 expressions',\n",
       "  'Source': '\\nBiomedicine & Pharmacotherapy\\n',\n",
       "  'Year': '2019',\n",
       "  'Volume': '109',\n",
       "  'FirstPage': '2014',\n",
       "  'LastPage': '2021',\n",
       "  'DOI': '10.1016/j.biopha.2018.08.159',\n",
       "  'PMID': '30551457'},\n",
       " 39: {'Authors': ['J. Dai', 'L. J. Xu', 'G. D. Han'],\n",
       "  'Title': 'MiR-137 attenuates spinal cord injury by modulating NEUROD4 through reducing inflammation and oxidative stress',\n",
       "  'Source': '\\nEuropean Review for Medical and Pharmacological Sciences\\n',\n",
       "  'Year': '2018',\n",
       "  'Volume': '22',\n",
       "  'FirstPage': '1884',\n",
       "  'LastPage': '1890',\n",
       "  'DOI': '10.26355/eurrev_201804_14709',\n",
       "  'PMID': '29687839'},\n",
       " 40: {'Authors': ['Y. Yu', 'M. Huo', 'Y. Fu'],\n",
       "  'Title': 'N-deoxycholic acid-N,O-hydroxyethyl chitosan with a sulfhydryl modification to enhance the oral absorptive efficiency of paclitaxel',\n",
       "  'Source': '\\nMolecular Pharmaceutics\\n',\n",
       "  'Year': '2017',\n",
       "  'Volume': '14',\n",
       "  'FirstPage': '4539',\n",
       "  'LastPage': '4550',\n",
       "  'DOI': '10.1021/acs.molpharmaceut.7b00662',\n",
       "  'PMID': '29058910'},\n",
       " 41: {'Authors': ['O. Bloom', 'P. E. Herman', 'A. M. Spungen'],\n",
       "  'Title': 'Systemic inflammation in traumatic spinal cord injury',\n",
       "  'Source': '\\nExperimental Neurology\\n',\n",
       "  'Year': '2020',\n",
       "  'Volume': '325',\n",
       "  'FirstPage': None,\n",
       "  'LastPage': None,\n",
       "  'DOI': '10.1016/j.expneurol.2019.113143',\n",
       "  'PMID': None},\n",
       " 42: {'Authors': ['Q. Fan', 'O. Cavus', 'L. Xiong', 'Y. Xia'],\n",
       "  'Title': 'Spinal cord injury: how could acupuncture help?',\n",
       "  'Source': '\\nJournal of Acupuncture and Meridian Studies\\n',\n",
       "  'Year': '2018',\n",
       "  'Volume': '11',\n",
       "  'FirstPage': '124',\n",
       "  'LastPage': '132',\n",
       "  'DOI': '10.1016/j.jams.2018.05.002',\n",
       "  'PMID': '29753705'},\n",
       " 43: {'Authors': ['M. Savikj',\n",
       "   'E. Kostovski',\n",
       "   'L. S. Lundell',\n",
       "   'P. O. Iversen',\n",
       "   'J. Massart',\n",
       "   'U. Widegren'],\n",
       "  'Title': 'Altered oxidative stress and antioxidant defence in skeletal muscle during the first year following spinal cord injury',\n",
       "  'Source': '\\nPhysiological reports\\n',\n",
       "  'Year': '2019',\n",
       "  'Volume': '7',\n",
       "  'FirstPage': None,\n",
       "  'LastPage': None,\n",
       "  'DOI': '10.14814/phy2.14218',\n",
       "  'PMID': None},\n",
       " 44: {'Authors': ['A. M. Ozturk',\n",
       "   'M. C. Sozbilen',\n",
       "   'E. Sevgili',\n",
       "   'T. Dagci',\n",
       "   'H. Özyalcin',\n",
       "   'G. Armagan'],\n",
       "  'Title': 'Epidermal growth factor regulates apoptosis and oxidative stress in a rat model of spinal cord injury',\n",
       "  'Source': '\\nInjury\\n',\n",
       "  'Year': '2018',\n",
       "  'Volume': '49',\n",
       "  'FirstPage': '1038',\n",
       "  'LastPage': '1045',\n",
       "  'DOI': '10.1016/j.injury.2018.03.021',\n",
       "  'PMID': '29602490'},\n",
       " 45: {'Authors': ['Z. Jia', 'H. Zhu', 'J. Li', 'X. Wang', 'H. Misra', 'Y. Li'],\n",
       "  'Title': 'Oxidative stress in spinal cord injury and antioxidant-based intervention',\n",
       "  'Source': '\\nSpinal Cord\\n',\n",
       "  'Year': '2012',\n",
       "  'Volume': '50',\n",
       "  'FirstPage': '264',\n",
       "  'LastPage': '274',\n",
       "  'DOI': '10.1038/sc.2011.111',\n",
       "  'PMID': '21987065'},\n",
       " 46: {'Authors': ['R. He', 'M. Cui', 'H. Lin'],\n",
       "  'Title': 'Melatonin resists oxidative stress-induced apoptosis in nucleus pulposus cells',\n",
       "  'Source': '\\nLife Sciences\\n',\n",
       "  'Year': '2018',\n",
       "  'Volume': '199',\n",
       "  'FirstPage': '122',\n",
       "  'LastPage': '130',\n",
       "  'DOI': '10.1016/j.lfs.2018.03.020',\n",
       "  'PMID': '29526797'},\n",
       " 47: {'Authors': ['C. Qiu', 'J. Wu', 'F. Pei'],\n",
       "  'Title': '[Correlation between oxidative stress factors and prognosis of patients with sepsis]',\n",
       "  'Source': '\\nZhonghua Wei Zhong Bing Ji Jiu Yi Xue\\n',\n",
       "  'Year': '2019',\n",
       "  'Volume': '31',\n",
       "  'FirstPage': '847',\n",
       "  'LastPage': '851',\n",
       "  'DOI': '10.3760/cma.j.issn.2095-4352.2019.07.010',\n",
       "  'PMID': '31441408'},\n",
       " 48: {'Authors': ['M. He',\n",
       "   'Y. Ding',\n",
       "   'C. Chu',\n",
       "   'J. Tang',\n",
       "   'Q. Xiao',\n",
       "   'Z.-G. Luo'],\n",
       "  'Title': 'Autophagy induction stabilizes microtubules and promotes axon regeneration after spinal cord injury',\n",
       "  'Source': '\\nProceedings of the National Academy of Sciences\\n',\n",
       "  'Year': '2016',\n",
       "  'Volume': '113',\n",
       "  'FirstPage': '11324',\n",
       "  'LastPage': '11329',\n",
       "  'DOI': '10.1073/pnas.1611282113',\n",
       "  'PMID': None}}"
      ]
     },
     "execution_count": 314,
     "metadata": {},
     "output_type": "execute_result"
    }
   ],
   "source": [
    "p.ref_map"
   ]
  },
  {
   "cell_type": "code",
   "execution_count": 315,
   "metadata": {},
   "outputs": [
    {
     "data": {
      "text/plain": [
       "[{'Authors': ['O. Bican', 'A. Minagar', 'A. A. Pruitt'],\n",
       "  'Title': 'The spinal cord',\n",
       "  'Source': '\\nNeurologic Clinics\\n',\n",
       "  'Year': '2013',\n",
       "  'Volume': '31',\n",
       "  'FirstPage': '1',\n",
       "  'LastPage': '18',\n",
       "  'DOI': '10.1016/j.ncl.2012.09.009',\n",
       "  'PMID': '23186894'},\n",
       " {'Authors': ['T. A. Cho'],\n",
       "  'Title': 'Spinal cord functional anatomy',\n",
       "  'Source': '\\nContinuum\\n',\n",
       "  'Year': '2015',\n",
       "  'Volume': '21',\n",
       "  'FirstPage': '13',\n",
       "  'LastPage': '35',\n",
       "  'DOI': '10.1212/01.con.0000461082.25876.4a',\n",
       "  'PMID': '25651215'},\n",
       " {'Authors': ['J. Novy'],\n",
       "  'Title': 'Spinal cord syndromes',\n",
       "  'Source': '\\nFrontiers of Neurology and Neuroscience\\n',\n",
       "  'Year': '2012',\n",
       "  'Volume': '30',\n",
       "  'FirstPage': '195',\n",
       "  'LastPage': '198',\n",
       "  'DOI': '10.1159/000333682',\n",
       "  'PMID': '22377894'},\n",
       " {'Authors': ['R. D. Bartlett', 'D. Choi', 'J. B. Phillips'],\n",
       "  'Title': 'Biomechanical properties of the spinal cord: implications for tissue engineering and clinical translation',\n",
       "  'Source': '\\nRegenerative Medicine\\n',\n",
       "  'Year': '2016',\n",
       "  'Volume': '11',\n",
       "  'FirstPage': '659',\n",
       "  'LastPage': '673',\n",
       "  'DOI': '10.2217/rme-2016-0065',\n",
       "  'PMID': '27592549'},\n",
       " {'Authors': ['P. Nadvornik'],\n",
       "  'Title': 'Spinal cord stereotaxy: an overview',\n",
       "  'Source': '\\nJournal of Neurological Surgery. Part A, Central European Neurosurgery\\n',\n",
       "  'Year': '2015',\n",
       "  'Volume': '76',\n",
       "  'FirstPage': '318',\n",
       "  'LastPage': '322',\n",
       "  'DOI': '10.1055/s-0034-1376194',\n",
       "  'PMID': None},\n",
       " {'Authors': ['L. H. Nguyen',\n",
       "   'M. Gao',\n",
       "   'J. Lin',\n",
       "   'W. Wu',\n",
       "   'J. Wang',\n",
       "   'S. Y. Chew'],\n",
       "  'Title': 'Three-dimensional aligned nanofibers-hydrogel scaffold for controlled non-viral drug/gene delivery to direct axon regeneration in spinal cord injury treatment',\n",
       "  'Source': '\\nScientific Reports\\n',\n",
       "  'Year': '2017',\n",
       "  'Volume': '7',\n",
       "  'FirstPage': 'p. 42212',\n",
       "  'LastPage': None,\n",
       "  'DOI': '10.1038/srep42212',\n",
       "  'PMID': None},\n",
       " {'Authors': ['A. P. Pêgo', 'S. Kubinova', 'D. Cizkova'],\n",
       "  'Title': 'Regenerative medicine for the treatment of spinal cord injury: more than just promises?',\n",
       "  'Source': '\\nJournal of Cellular and Molecular Medicine\\n',\n",
       "  'Year': '2012',\n",
       "  'Volume': '16',\n",
       "  'FirstPage': '2564',\n",
       "  'LastPage': '2582',\n",
       "  'DOI': '10.1111/j.1582-4934.2012.01603.x',\n",
       "  'PMID': '22805417'},\n",
       " {'Authors': ['J. W. Geurts', 'E. A. Joosten', 'M. van Kleef'],\n",
       "  'Title': 'Current status and future perspectives of spinal cord stimulation in treatment of chronic pain',\n",
       "  'Source': '\\nPain\\n',\n",
       "  'Year': '2017',\n",
       "  'Volume': '158',\n",
       "  'FirstPage': '771',\n",
       "  'LastPage': '774',\n",
       "  'DOI': '10.1097/j.pain.0000000000000847',\n",
       "  'PMID': '28106667'},\n",
       " {'Authors': ['M. P. Jensen', 'R. M. Brownstone'],\n",
       "  'Title': 'Mechanisms of spinal cord stimulation for the treatment of pain: still in the dark after 50 years',\n",
       "  'Source': '\\nEuropean Journal of Pain\\n',\n",
       "  'Year': '2019',\n",
       "  'Volume': '23',\n",
       "  'FirstPage': '652',\n",
       "  'LastPage': '659',\n",
       "  'DOI': '10.1002/ejp.1336',\n",
       "  'PMID': '30407696'},\n",
       " {'Authors': ['T. G. Wang', 'J. Xu', 'A. H. Zhu'],\n",
       "  'Title': 'Human amniotic epithelial cells combined with silk fibroin scaffold in the repair of spinal cord injury',\n",
       "  'Source': '\\nNeural regeneration research\\n',\n",
       "  'Year': '2016',\n",
       "  'Volume': '11',\n",
       "  'FirstPage': '1670',\n",
       "  'LastPage': '1677',\n",
       "  'DOI': '10.4103/1673-5374.193249',\n",
       "  'PMID': '27904501'},\n",
       " {'Authors': ['V. Sankar', 'R. Muthusamy'],\n",
       "  'Title': 'Role of human amniotic epithelial cell transplantation in spinal cord injury repair research',\n",
       "  'Source': '\\nNeuroscience\\n',\n",
       "  'Year': '2003',\n",
       "  'Volume': '118',\n",
       "  'FirstPage': '11',\n",
       "  'LastPage': '17',\n",
       "  'DOI': '10.1016/s0306-4522(02)00929-6',\n",
       "  'PMID': '12676132'},\n",
       " {'Authors': ['C. Pan', 'H. Lang', 'T. Zhang'],\n",
       "  'Title': 'Conditioned medium derived from human amniotic stem cells delays H2O2induced premature senescence in human dermal fibroblasts',\n",
       "  'Source': '\\nInternational Journal of Molecular Medicine\\n',\n",
       "  'Year': '2019',\n",
       "  'Volume': '44',\n",
       "  'FirstPage': '1629',\n",
       "  'LastPage': '1640',\n",
       "  'DOI': '10.3892/ijmm.2019.4346',\n",
       "  'PMID': '31545472'},\n",
       " {'Authors': ['J. L. Tan', 'S. N. Lau', 'B. Leaw'],\n",
       "  'Title': 'Amnion epithelial cell-derived exosomes restrict lung injury and enhance endogenous lung repair',\n",
       "  'Source': '\\nStem Cells Translational Medicine\\n',\n",
       "  'Year': '2018',\n",
       "  'Volume': '7',\n",
       "  'FirstPage': '180',\n",
       "  'LastPage': '196',\n",
       "  'DOI': '10.1002/sctm.17-0185',\n",
       "  'PMID': '29297621'},\n",
       " {'Authors': ['R. Menon', 'I. Boldogh', 'R. Urrabaz-Garza'],\n",
       "  'Title': 'Senescence of primary amniotic cells via oxidative DNA damage',\n",
       "  'Source': '\\nPLoS One\\n',\n",
       "  'Year': '2013',\n",
       "  'Volume': '8',\n",
       "  'FirstPage': None,\n",
       "  'LastPage': None,\n",
       "  'DOI': '10.1371/journal.pone.0083416',\n",
       "  'PMID': None},\n",
       " {'Authors': ['H. He',\n",
       "   'H.-T. Cho',\n",
       "   'W. Li',\n",
       "   'T. Kawakita',\n",
       "   'L. Jong',\n",
       "   'S. C. G. Tseng'],\n",
       "  'Title': 'Signaling-transduction pathways required for ex vivo expansion of human limbal explants on intact amniotic membrane',\n",
       "  'Source': '\\nInvestigative Opthalmology & Visual Science\\n',\n",
       "  'Year': '2006',\n",
       "  'Volume': '47',\n",
       "  'FirstPage': '151',\n",
       "  'LastPage': '157',\n",
       "  'DOI': '10.1167/iovs.05-0351',\n",
       "  'PMID': None},\n",
       " {'Authors': ['A. Muxika',\n",
       "   'A. Etxabide',\n",
       "   'J. Uranga',\n",
       "   'P. Guerrero',\n",
       "   'K. de la Caba'],\n",
       "  'Title': 'Chitosan as a bioactive polymer: processing, properties and applications',\n",
       "  'Source': '\\nInternational Journal of Biological Macromolecules\\n',\n",
       "  'Year': '2017',\n",
       "  'Volume': '105',\n",
       "  'FirstPage': '1358',\n",
       "  'LastPage': '1368',\n",
       "  'DOI': '10.1016/j.ijbiomac.2017.07.087',\n",
       "  'PMID': '28735006'},\n",
       " {'Authors': ['I. Younes', 'M. Rinaudo'],\n",
       "  'Title': 'Chitin and chitosan preparation from marine sources. Structure, properties and applications',\n",
       "  'Source': '\\nMarine Drugs\\n',\n",
       "  'Year': '2015',\n",
       "  'Volume': '13',\n",
       "  'FirstPage': '1133',\n",
       "  'LastPage': '1174',\n",
       "  'DOI': '10.3390/md13031133',\n",
       "  'PMID': '25738328'},\n",
       " {'Authors': ['V. Patrulea', 'V. Ostafe', 'G. Borchard', 'O. Jordan'],\n",
       "  'Title': 'Chitosan as a starting material for wound healing applications',\n",
       "  'Source': '\\nEuropean Journal of Pharmaceutics and Biopharmaceutics\\n',\n",
       "  'Year': '2015',\n",
       "  'Volume': '97',\n",
       "  'FirstPage': '417',\n",
       "  'LastPage': '426',\n",
       "  'DOI': '10.1016/j.ejpb.2015.08.004',\n",
       "  'PMID': '26614560'},\n",
       " {'Authors': ['Z. Shariatinia'],\n",
       "  'Title': 'Carboxymethyl chitosan: properties and biomedical applications',\n",
       "  'Source': '\\nInternational Journal of Biological Macromolecules\\n',\n",
       "  'Year': '2018',\n",
       "  'Volume': '120',\n",
       "  'FirstPage': '1406',\n",
       "  'LastPage': '1419',\n",
       "  'DOI': '10.1016/j.ijbiomac.2018.09.131',\n",
       "  'PMID': '30267813'},\n",
       " {'Authors': ['E. M. Costa',\n",
       "   'S. Silva',\n",
       "   'M. Veiga',\n",
       "   'F. K. Tavaria',\n",
       "   'M. M. Pintado'],\n",
       "  'Title': 'Chitosan’s biological activity upon skin-related microorganisms and its potential textile applications',\n",
       "  'Source': '\\nWorld Journal of Microbiology and Biotechnology\\n',\n",
       "  'Year': '2018',\n",
       "  'Volume': '34',\n",
       "  'FirstPage': 'p. 93',\n",
       "  'LastPage': None,\n",
       "  'DOI': '10.1007/s11274-018-2471-2',\n",
       "  'PMID': None},\n",
       " {'Authors': ['A. Mahmood',\n",
       "   'M. Lanthaler',\n",
       "   'F. Laffleur',\n",
       "   'C. W. Huck',\n",
       "   'A. Bernkop-Schnürch'],\n",
       "  'Title': 'Thiolated chitosan micelles: highly mucoadhesive drug carriers',\n",
       "  'Source': '\\nCarbohydrate Polymers\\n',\n",
       "  'Year': '2017',\n",
       "  'Volume': '167',\n",
       "  'FirstPage': '250',\n",
       "  'LastPage': '258',\n",
       "  'DOI': '10.1016/j.carbpol.2017.03.019',\n",
       "  'PMID': '28433160'},\n",
       " {'Authors': ['Y. Nazli',\n",
       "   'N. Colak',\n",
       "   'M. Alpay',\n",
       "   'S. Uysal',\n",
       "   'A. Uzunlar',\n",
       "   'O. Cakir'],\n",
       "  'Title': 'Neuroprotective effect of atorvastatin in spinal cord ischemia-reperfusion injury',\n",
       "  'Source': '\\nClinics\\n',\n",
       "  'Year': '2015',\n",
       "  'Volume': '70',\n",
       "  'FirstPage': '52',\n",
       "  'LastPage': '60',\n",
       "  'DOI': '10.6061/clinics/2015(01)10',\n",
       "  'PMID': '25672430'},\n",
       " {'Authors': ['H. Zeng', 'N. Liu', 'Y.-y. Yang'],\n",
       "  'Title': 'Lentivirus-mediated downregulation of α-synuclein reduces neuroinflammation and promotes functional recovery in rats with spinal cord injury',\n",
       "  'Source': '\\nJournal of Neuroinflammation\\n',\n",
       "  'Year': '2019',\n",
       "  'Volume': '16',\n",
       "  'FirstPage': 'p. 283',\n",
       "  'LastPage': None,\n",
       "  'DOI': '10.1186/s12974-019-1658-2',\n",
       "  'PMID': None},\n",
       " {'Authors': ['W. K. Rogers', 'M. Todd'],\n",
       "  'Title': 'Acute spinal cord injury',\n",
       "  'Source': '\\nBest Practice & Research Clinical Anaesthesiology\\n',\n",
       "  'Year': '2016',\n",
       "  'Volume': '30',\n",
       "  'FirstPage': '27',\n",
       "  'LastPage': '39',\n",
       "  'DOI': '10.1016/j.bpa.2015.11.003',\n",
       "  'PMID': '27036601'},\n",
       " {'Authors': ['L. Gao', 'Y. Peng', 'W. Xu'],\n",
       "  'Title': 'Progress in stem cell therapy for spinal cord injury',\n",
       "  'Source': '\\nStem Cells International\\n',\n",
       "  'Year': '2020',\n",
       "  'Volume': '2020',\n",
       "  'FirstPage': '16',\n",
       "  'LastPage': None,\n",
       "  'DOI': '10.1155/2020/2853650',\n",
       "  'PMID': None},\n",
       " {'Authors': ['Z. Li', 'F. Wu', 'D. Xu', 'Z. Zhi', 'G. Xu'],\n",
       "  'Title': 'Inhibition of TREM1 reduces inflammation and oxidative stress after spinal cord injury (SCI) associated with HO-1 expressions',\n",
       "  'Source': '\\nBiomedicine & Pharmacotherapy\\n',\n",
       "  'Year': '2019',\n",
       "  'Volume': '109',\n",
       "  'FirstPage': '2014',\n",
       "  'LastPage': '2021',\n",
       "  'DOI': '10.1016/j.biopha.2018.08.159',\n",
       "  'PMID': '30551457'},\n",
       " {'Authors': ['J. Dai', 'L. J. Xu', 'G. D. Han'],\n",
       "  'Title': 'MiR-137 attenuates spinal cord injury by modulating NEUROD4 through reducing inflammation and oxidative stress',\n",
       "  'Source': '\\nEuropean Review for Medical and Pharmacological Sciences\\n',\n",
       "  'Year': '2018',\n",
       "  'Volume': '22',\n",
       "  'FirstPage': '1884',\n",
       "  'LastPage': '1890',\n",
       "  'DOI': '10.26355/eurrev_201804_14709',\n",
       "  'PMID': '29687839'},\n",
       " {'Authors': ['Y. Yu', 'M. Huo', 'Y. Fu'],\n",
       "  'Title': 'N-deoxycholic acid-N,O-hydroxyethyl chitosan with a sulfhydryl modification to enhance the oral absorptive efficiency of paclitaxel',\n",
       "  'Source': '\\nMolecular Pharmaceutics\\n',\n",
       "  'Year': '2017',\n",
       "  'Volume': '14',\n",
       "  'FirstPage': '4539',\n",
       "  'LastPage': '4550',\n",
       "  'DOI': '10.1021/acs.molpharmaceut.7b00662',\n",
       "  'PMID': '29058910'},\n",
       " {'Authors': ['O. Bloom', 'P. E. Herman', 'A. M. Spungen'],\n",
       "  'Title': 'Systemic inflammation in traumatic spinal cord injury',\n",
       "  'Source': '\\nExperimental Neurology\\n',\n",
       "  'Year': '2020',\n",
       "  'Volume': '325',\n",
       "  'FirstPage': None,\n",
       "  'LastPage': None,\n",
       "  'DOI': '10.1016/j.expneurol.2019.113143',\n",
       "  'PMID': None},\n",
       " {'Authors': ['Q. Fan', 'O. Cavus', 'L. Xiong', 'Y. Xia'],\n",
       "  'Title': 'Spinal cord injury: how could acupuncture help?',\n",
       "  'Source': '\\nJournal of Acupuncture and Meridian Studies\\n',\n",
       "  'Year': '2018',\n",
       "  'Volume': '11',\n",
       "  'FirstPage': '124',\n",
       "  'LastPage': '132',\n",
       "  'DOI': '10.1016/j.jams.2018.05.002',\n",
       "  'PMID': '29753705'},\n",
       " {'Authors': ['M. Savikj',\n",
       "   'E. Kostovski',\n",
       "   'L. S. Lundell',\n",
       "   'P. O. Iversen',\n",
       "   'J. Massart',\n",
       "   'U. Widegren'],\n",
       "  'Title': 'Altered oxidative stress and antioxidant defence in skeletal muscle during the first year following spinal cord injury',\n",
       "  'Source': '\\nPhysiological reports\\n',\n",
       "  'Year': '2019',\n",
       "  'Volume': '7',\n",
       "  'FirstPage': None,\n",
       "  'LastPage': None,\n",
       "  'DOI': '10.14814/phy2.14218',\n",
       "  'PMID': None},\n",
       " {'Authors': ['A. M. Ozturk',\n",
       "   'M. C. Sozbilen',\n",
       "   'E. Sevgili',\n",
       "   'T. Dagci',\n",
       "   'H. Özyalcin',\n",
       "   'G. Armagan'],\n",
       "  'Title': 'Epidermal growth factor regulates apoptosis and oxidative stress in a rat model of spinal cord injury',\n",
       "  'Source': '\\nInjury\\n',\n",
       "  'Year': '2018',\n",
       "  'Volume': '49',\n",
       "  'FirstPage': '1038',\n",
       "  'LastPage': '1045',\n",
       "  'DOI': '10.1016/j.injury.2018.03.021',\n",
       "  'PMID': '29602490'},\n",
       " {'Authors': ['Z. Jia', 'H. Zhu', 'J. Li', 'X. Wang', 'H. Misra', 'Y. Li'],\n",
       "  'Title': 'Oxidative stress in spinal cord injury and antioxidant-based intervention',\n",
       "  'Source': '\\nSpinal Cord\\n',\n",
       "  'Year': '2012',\n",
       "  'Volume': '50',\n",
       "  'FirstPage': '264',\n",
       "  'LastPage': '274',\n",
       "  'DOI': '10.1038/sc.2011.111',\n",
       "  'PMID': '21987065'},\n",
       " {'Authors': ['R. He', 'M. Cui', 'H. Lin'],\n",
       "  'Title': 'Melatonin resists oxidative stress-induced apoptosis in nucleus pulposus cells',\n",
       "  'Source': '\\nLife Sciences\\n',\n",
       "  'Year': '2018',\n",
       "  'Volume': '199',\n",
       "  'FirstPage': '122',\n",
       "  'LastPage': '130',\n",
       "  'DOI': '10.1016/j.lfs.2018.03.020',\n",
       "  'PMID': '29526797'},\n",
       " {'Authors': ['C. Qiu', 'J. Wu', 'F. Pei'],\n",
       "  'Title': '[Correlation between oxidative stress factors and prognosis of patients with sepsis]',\n",
       "  'Source': '\\nZhonghua Wei Zhong Bing Ji Jiu Yi Xue\\n',\n",
       "  'Year': '2019',\n",
       "  'Volume': '31',\n",
       "  'FirstPage': '847',\n",
       "  'LastPage': '851',\n",
       "  'DOI': '10.3760/cma.j.issn.2095-4352.2019.07.010',\n",
       "  'PMID': '31441408'},\n",
       " {'Authors': ['M. He', 'Y. Ding', 'C. Chu', 'J. Tang', 'Q. Xiao', 'Z.-G. Luo'],\n",
       "  'Title': 'Autophagy induction stabilizes microtubules and promotes axon regeneration after spinal cord injury',\n",
       "  'Source': '\\nProceedings of the National Academy of Sciences\\n',\n",
       "  'Year': '2016',\n",
       "  'Volume': '113',\n",
       "  'FirstPage': '11324',\n",
       "  'LastPage': '11329',\n",
       "  'DOI': '10.1073/pnas.1611282113',\n",
       "  'PMID': None}]"
      ]
     },
     "execution_count": 315,
     "metadata": {},
     "output_type": "execute_result"
    }
   ],
   "source": [
    "p.citations"
   ]
  },
  {
   "cell_type": "code",
   "execution_count": 316,
   "metadata": {},
   "outputs": [
    {
     "data": {
      "text/plain": [
       "[<pandas.io.formats.style.Styler at 0x7fb1eb45eef0>,\n",
       " <pandas.io.formats.style.Styler at 0x7fb1eb45ff10>]"
      ]
     },
     "execution_count": 316,
     "metadata": {},
     "output_type": "execute_result"
    }
   ],
   "source": [
    "p.tables"
   ]
  },
  {
   "cell_type": "code",
   "execution_count": 317,
   "metadata": {},
   "outputs": [
    {
     "data": {
      "text/plain": [
       "[{'Label': 'Figure 1',\n",
       "  'Caption': '\\n        Preparation of thiolated chitosan. (a) Sulfhydryl content in thiolated chitosan and chitosan, ^∗∗∗P\\u2009<\\u20090.001; (b) SEM image of thiolated chitosan.\\n      ',\n",
       "  'Link': 'JHE2022-6294148.001'},\n",
       " {'Label': 'Figure 1',\n",
       "  'Caption': '\\n        Preparation of thiolated chitosan. (a) Sulfhydryl content in thiolated chitosan and chitosan, ^∗∗∗P\\u2009<\\u20090.001; (b) SEM image of thiolated chitosan.\\n      ',\n",
       "  'Link': 'JHE2022-6294148.001'},\n",
       " {'Label': 'Figure 2',\n",
       "  'Caption': '\\n        Growth curve of HAECs. ^∗P ＜ 0.05.\\n      ',\n",
       "  'Link': 'JHE2022-6294148.002'},\n",
       " {'Label': 'Figure 3',\n",
       "  'Caption': '\\n        Comparison of inflammatory factors. (a) IL-6 concentration; (b) IL-10 concentration; and (c) TNF-α concentration. ^∗ represents the comparison with GA, P\\u2009<\\u20090.05; # represents the comparison with GB, P\\u2009<\\u20090.05; @ represents the comparison with MG, P\\u2009<\\u20090.05.\\n      ',\n",
       "  'Link': 'JHE2022-6294148.003'},\n",
       " {'Label': 'Figure 3',\n",
       "  'Caption': '\\n        Comparison of inflammatory factors. (a) IL-6 concentration; (b) IL-10 concentration; and (c) TNF-α concentration. ^∗ represents the comparison with GA, P\\u2009<\\u20090.05; # represents the comparison with GB, P\\u2009<\\u20090.05; @ represents the comparison with MG, P\\u2009<\\u20090.05.\\n      ',\n",
       "  'Link': 'JHE2022-6294148.003'},\n",
       " {'Label': 'Figure 3',\n",
       "  'Caption': '\\n        Comparison of inflammatory factors. (a) IL-6 concentration; (b) IL-10 concentration; and (c) TNF-α concentration. ^∗ represents the comparison with GA, P\\u2009<\\u20090.05; # represents the comparison with GB, P\\u2009<\\u20090.05; @ represents the comparison with MG, P\\u2009<\\u20090.05.\\n      ',\n",
       "  'Link': 'JHE2022-6294148.003'},\n",
       " {'Label': 'Figure 4',\n",
       "  'Caption': '\\n        Oxidative stress. (a) SOD concentration; (b) MDA concentration. ^∗ represents the comparison with GA, P\\u2009<\\u20090.05; # represents the comparison with GB, P\\u2009<\\u20090.05; @ represents the comparison with MG, P\\u2009<\\u20090.05.\\n      ',\n",
       "  'Link': 'JHE2022-6294148.004'},\n",
       " {'Label': 'Figure 4',\n",
       "  'Caption': '\\n        Oxidative stress. (a) SOD concentration; (b) MDA concentration. ^∗ represents the comparison with GA, P\\u2009<\\u20090.05; # represents the comparison with GB, P\\u2009<\\u20090.05; @ represents the comparison with MG, P\\u2009<\\u20090.05.\\n      ',\n",
       "  'Link': 'JHE2022-6294148.004'},\n",
       " {'Label': 'Figure 5',\n",
       "  'Caption': '\\n        Apoptosis rate of nerve cells. ^∗ represents the comparison with GA, P\\u2009<\\u20090.05; # represents the comparison with GB, P\\u2009<\\u20090.05; @ represents the comparison with MG, P\\u2009<\\u20090.05.\\n      ',\n",
       "  'Link': 'JHE2022-6294148.005'},\n",
       " {'Label': 'Figure 6',\n",
       "  'Caption': '\\n        Expression of autophagy protein. (a) Protein expression; (b) western blot. ^∗ represents the comparison with GA, P\\u2009<\\u20090.05; # represents the comparison with GB, P\\u2009<\\u20090.05; @ represents the comparison with MG, P\\u2009<\\u20090.05.\\n      ',\n",
       "  'Link': 'JHE2022-6294148.006'},\n",
       " {'Label': 'Figure 6',\n",
       "  'Caption': '\\n        Expression of autophagy protein. (a) Protein expression; (b) western blot. ^∗ represents the comparison with GA, P\\u2009<\\u20090.05; # represents the comparison with GB, P\\u2009<\\u20090.05; @ represents the comparison with MG, P\\u2009<\\u20090.05.\\n      ',\n",
       "  'Link': 'JHE2022-6294148.006'}]"
      ]
     },
     "execution_count": 317,
     "metadata": {},
     "output_type": "execute_result"
    }
   ],
   "source": [
    "p.figures"
   ]
  },
  {
   "cell_type": "code",
   "execution_count": 318,
   "metadata": {},
   "outputs": [
    {
     "name": "stdout",
     "output_type": "stream",
     "text": [
      "Text: The disability rate of spinal cord injury (SCI) is extremely high, and stem cell inhibition is one of the most effective schemes in treating the spinal cord, but the survival rate is extremely low after stem cell transplantation, so it cannot be widely used in clinic. Studies have revealed that loading stem cells with biological scaffolds can effectively improve the survival rate and effect after stem cell transplantation. Therefore, this research was devised to analyze the repair effect of thiolated chitosan nanocarriers scaffold carrying de-epithelized human amniotic epithelial cells (HAECs) on SCI. And we used thiolated chitosan as nanocarriers, aiming to provide a reliable theoretical basis for future clinical practice. Through experiments, we concluded that the Tarlov and BBB scores of rats with SCI were raised under the intervention of thiolated chitosan carrying HAECs, while the inflammatory factors in serum, oxidative stress reaction in spinal cord tissue, apoptosis rate of nerve cells, and autophagy protein expression were all suppressed. Thus, the thiolated chitosan carrying HAECs may be applied to treat SCI by suppressing autophagy protein expression, oxidative stress response, and release of inflammatory factors in spinal cord tissue, which may be a new clinical therapy for SCI in the future. Even though we cannot understand exactly the therapeutic mechanism of thiolated chitosan carrying HAECs for SCI, the real clinical application of thiolated chitosan carrying HAECs needs to be confirmed by human experiments.\n",
      "\n",
      "Text with Refs: The disability rate of spinal cord injury (SCI) is extremely high, and stem cell inhibition is one of the most effective schemes in treating the spinal cord, but the survival rate is extremely low after stem cell transplantation, so it cannot be widely used in clinic. Studies have revealed that loading stem cells with biological scaffolds can effectively improve the survival rate and effect after stem cell transplantation. Therefore, this research was devised to analyze the repair effect of thiolated chitosan nanocarriers scaffold carrying de-epithelized human amniotic epithelial cells (HAECs) on SCI. And we used thiolated chitosan as nanocarriers, aiming to provide a reliable theoretical basis for future clinical practice. Through experiments, we concluded that the Tarlov and BBB scores of rats with SCI were raised under the intervention of thiolated chitosan carrying HAECs, while the inflammatory factors in serum, oxidative stress reaction in spinal cord tissue, apoptosis rate of nerve cells, and autophagy protein expression were all suppressed. Thus, the thiolated chitosan carrying HAECs may be applied to treat SCI by suppressing autophagy protein expression, oxidative stress response, and release of inflammatory factors in spinal cord tissue, which may be a new clinical therapy for SCI in the future. Even though we cannot understand exactly the therapeutic mechanism of thiolated chitosan carrying HAECs for SCI, the real clinical application of thiolated chitosan carrying HAECs needs to be confirmed by human experiments.\n"
     ]
    }
   ],
   "source": [
    "for par in p.abstract:\n",
    "    print(\"Text: \" + par.text)\n",
    "    print()\n",
    "    print(\"Text with Refs: \" + par.text_with_refs)"
   ]
  },
  {
   "cell_type": "code",
   "execution_count": 319,
   "metadata": {},
   "outputs": [
    {
     "name": "stdout",
     "output_type": "stream",
     "text": [
      "Parsing PMCID: 9797124\n"
     ]
    },
    {
     "name": "stderr",
     "output_type": "stream",
     "text": [
      "unexpectedMultipleMatchWarning: Warning! Multiple titles matched. Setting Paper.title to the first match.\n",
      "\n",
      "FutureWarning: The behavior of this method will change in future versions. Use specific 'len(elem)' or 'elem is not None' test instead.\n",
      "\n",
      "FutureWarning: The behavior of this method will change in future versions. Use specific 'len(elem)' or 'elem is not None' test instead.\n",
      "\n"
     ]
    },
    {
     "name": "stdout",
     "output_type": "stream",
     "text": [
      "Parsing PMCID: 3117708\n"
     ]
    },
    {
     "name": "stderr",
     "output_type": "stream",
     "text": [
      "unexpectedMultipleMatchWarning: Warning! Multiple titles matched. Setting Paper.title to the first match.\n",
      "\n",
      "unexpectedZeroMatchWarning: No Issue # found for Publication.\n",
      "\n"
     ]
    },
    {
     "name": "stdout",
     "output_type": "stream",
     "text": [
      "Parsing PMCID: 9575081\n"
     ]
    },
    {
     "name": "stderr",
     "output_type": "stream",
     "text": [
      "unexpectedMultipleMatchWarning: Warning! Multiple titles matched. Setting Paper.title to the first match.\n",
      "\n",
      "UserWarning: Warning! Unexpected child with of type title found under an XML <abstract> tag.\n",
      "\n",
      "FutureWarning: The behavior of this method will change in future versions. Use specific 'len(elem)' or 'elem is not None' test instead.\n",
      "\n",
      "FutureWarning: The behavior of this method will change in future versions. Use specific 'len(elem)' or 'elem is not None' test instead.\n",
      "\n",
      "unexpectedZeroMatchWarning: No First Page # found for Publication.\n",
      "\n",
      "unexpectedZeroMatchWarning: No Last Page # found for Publication.\n",
      "\n",
      "UserWarning: Warning! Unexpected child with of type {http://www.niso.org/schemas/ali/1.0/}license_ref found under an XML <license> tag.\n",
      "\n",
      "UserWarning: Unknown reference type: None found in ref_map.\n",
      "\n",
      "FutureWarning: The behavior of this method will change in future versions. Use specific 'len(elem)' or 'elem is not None' test instead.\n",
      "\n"
     ]
    },
    {
     "name": "stdout",
     "output_type": "stream",
     "text": [
      "Parsing PMCID: 9418064\n"
     ]
    },
    {
     "name": "stderr",
     "output_type": "stream",
     "text": [
      "unexpectedMultipleMatchWarning: Multiple affiliations with the same ID found. Check XML Formatting.\n",
      "\n",
      "unexpectedMultipleMatchWarning: Warning! Multiple abstracts matched. Filling in Paper.abstract with the first match.\n",
      "\n",
      "FutureWarning: The behavior of this method will change in future versions. Use specific 'len(elem)' or 'elem is not None' test instead.\n",
      "\n",
      "UserWarning: Warning! Unexpected child with of type {http://www.niso.org/schemas/ali/1.0/}license_ref found under an XML <license> tag.\n",
      "\n",
      "FutureWarning: The behavior of this method will change in future versions. Use specific 'len(elem)' or 'elem is not None' test instead.\n",
      "\n"
     ]
    },
    {
     "name": "stdout",
     "output_type": "stream",
     "text": [
      "Parsing PMCID: 3490368\n"
     ]
    },
    {
     "name": "stderr",
     "output_type": "stream",
     "text": [
      "unexpectedMultipleMatchWarning: Warning! Multiple titles matched. Setting Paper.title to the first match.\n",
      "\n",
      "unexpectedMultipleMatchWarning: Multiple affiliations with the same ID found. Check XML Formatting.\n",
      "\n",
      "unexpectedTagWarning: Tag of type sc found in a text portion of the provided markup language. Expected only HTML styling tags, or tags from the following list: ['xref', 'fig', 'table-wrap']. Specified unknown tag behavior: keep.\n",
      "\n",
      "unexpectedTagWarning: Tag of type sc found in a text portion of the provided markup language. Expected only HTML styling tags, or tags from the following list: ['xref', 'fig', 'table-wrap']. Specified unknown tag behavior: keep.\n",
      "\n",
      "FutureWarning: The behavior of this method will change in future versions. Use specific 'len(elem)' or 'elem is not None' test instead.\n",
      "\n",
      "FutureWarning: The behavior of this method will change in future versions. Use specific 'len(elem)' or 'elem is not None' test instead.\n",
      "\n",
      "FutureWarning: The behavior of this method will change in future versions. Use specific 'len(elem)' or 'elem is not None' test instead.\n",
      "\n",
      "unexpectedTagWarning: Tag of type sc found in a text portion of the provided markup language. Expected only HTML styling tags, or tags from the following list: ['xref', 'fig', 'table-wrap']. Specified unknown tag behavior: keep.\n",
      "\n",
      "FutureWarning: The behavior of this method will change in future versions. Use specific 'len(elem)' or 'elem is not None' test instead.\n",
      "\n",
      "FutureWarning: The behavior of this method will change in future versions. Use specific 'len(elem)' or 'elem is not None' test instead.\n",
      "\n",
      "FutureWarning: The behavior of this method will change in future versions. Use specific 'len(elem)' or 'elem is not None' test instead.\n",
      "\n"
     ]
    },
    {
     "name": "stdout",
     "output_type": "stream",
     "text": [
      "Parsing PMCID: 1241476\n"
     ]
    },
    {
     "name": "stderr",
     "output_type": "stream",
     "text": [
      "UserWarning: Warning! No <body> tag found. This paper may be abstract only, or the Open Access portion may be abstract only. This also may happen with author manuscripts and other non-final editions.\n",
      "\n",
      "unexpectedZeroMatchWarning: No copyright statement found.\n",
      "\n",
      "unexpectedZeroMatchWarning: No license found.\n",
      "\n"
     ]
    },
    {
     "name": "stdout",
     "output_type": "stream",
     "text": [
      "Parsing PMCID: 7054859\n"
     ]
    },
    {
     "name": "stderr",
     "output_type": "stream",
     "text": [
      "unexpectedMultipleMatchWarning: Warning! Multiple titles matched. Setting Paper.title to the first match.\n",
      "\n",
      "unexpectedMultipleMatchWarning: Warning! Multiple abstracts matched. Filling in Paper.abstract with the first match.\n",
      "\n",
      "unexpectedTagWarning: Tag of type sc found in a text portion of the provided markup language. Expected only HTML styling tags, or tags from the following list: ['xref', 'fig', 'table-wrap']. Specified unknown tag behavior: keep.\n",
      "\n",
      "FutureWarning: The behavior of this method will change in future versions. Use specific 'len(elem)' or 'elem is not None' test instead.\n",
      "\n",
      "FutureWarning: The behavior of this method will change in future versions. Use specific 'len(elem)' or 'elem is not None' test instead.\n",
      "\n",
      "unexpectedZeroMatchWarning: No First Page # found for Publication.\n",
      "\n",
      "unexpectedZeroMatchWarning: No Last Page # found for Publication.\n",
      "\n",
      "UserWarning: Warning! Unexpected child with of type {http://www.niso.org/schemas/ali/1.0/}license_ref found under an XML <license> tag.\n",
      "\n",
      "FutureWarning: The behavior of this method will change in future versions. Use specific 'len(elem)' or 'elem is not None' test instead.\n",
      "\n"
     ]
    },
    {
     "name": "stdout",
     "output_type": "stream",
     "text": [
      "Parsing PMCID: 3478527\n"
     ]
    },
    {
     "name": "stderr",
     "output_type": "stream",
     "text": [
      "unexpectedMultipleMatchWarning: Warning! Multiple titles matched. Setting Paper.title to the first match.\n",
      "\n",
      "unexpectedZeroMatchWarning: No abstract found.\n",
      "\n",
      "unexpectedTagWarning: Tag of type related-article found in a text portion of the provided markup language. Expected only HTML styling tags, or tags from the following list: ['xref', 'fig', 'table-wrap']. Specified unknown tag behavior: keep.\n",
      "\n"
     ]
    },
    {
     "name": "stdout",
     "output_type": "stream",
     "text": [
      "Parsing PMCID: 2036596\n"
     ]
    },
    {
     "name": "stderr",
     "output_type": "stream",
     "text": [
      "unexpectedZeroMatchWarning: No abstract found.\n",
      "\n",
      "UserWarning: Warning! No <body> tag found. This paper may be abstract only, or the Open Access portion may be abstract only. This also may happen with author manuscripts and other non-final editions.\n",
      "\n",
      "unexpectedZeroMatchWarning: No copyright statement found.\n",
      "\n",
      "unexpectedZeroMatchWarning: No license found.\n",
      "\n"
     ]
    },
    {
     "name": "stdout",
     "output_type": "stream",
     "text": [
      "Parsing PMCID: 1828844\n"
     ]
    },
    {
     "name": "stderr",
     "output_type": "stream",
     "text": [
      "unexpectedMultipleMatchWarning: Warning! Multiple titles matched. Setting Paper.title to the first match.\n",
      "\n",
      "UserWarning: Warning! No <body> tag found. This paper may be abstract only, or the Open Access portion may be abstract only. This also may happen with author manuscripts and other non-final editions.\n",
      "\n",
      "unexpectedZeroMatchWarning: No copyright statement found.\n",
      "\n",
      "unexpectedZeroMatchWarning: No license found.\n",
      "\n"
     ]
    },
    {
     "name": "stdout",
     "output_type": "stream",
     "text": [
      "Parsing PMCID: 7139044\n"
     ]
    },
    {
     "name": "stderr",
     "output_type": "stream",
     "text": [
      "unexpectedMultipleMatchWarning: Warning! Multiple titles matched. Setting Paper.title to the first match.\n",
      "\n",
      "FutureWarning: The behavior of this method will change in future versions. Use specific 'len(elem)' or 'elem is not None' test instead.\n",
      "\n",
      "UserWarning: Warning! Unexpected child with of type {http://www.niso.org/schemas/ali/1.0/}license_ref found under an XML <license> tag.\n",
      "\n"
     ]
    },
    {
     "name": "stdout",
     "output_type": "stream",
     "text": [
      "Parsing PMCID: 6191801\n"
     ]
    },
    {
     "name": "stderr",
     "output_type": "stream",
     "text": [
      "unexpectedMultipleMatchWarning: Warning! Multiple titles matched. Setting Paper.title to the first match.\n",
      "\n",
      "unexpectedZeroMatchWarning: No authors found in citation ref2\n",
      "\n",
      "unexpectedZeroMatchWarning: No authors found in citation ref11\n",
      "\n",
      "unexpectedZeroMatchWarning: No authors found in citation ref12\n",
      "\n"
     ]
    },
    {
     "name": "stdout",
     "output_type": "stream",
     "text": [
      "Parsing PMCID: 3298402\n"
     ]
    },
    {
     "name": "stderr",
     "output_type": "stream",
     "text": [
      "UserWarning: Warning! No <body> tag found. This paper may be abstract only, or the Open Access portion may be abstract only. This also may happen with author manuscripts and other non-final editions.\n",
      "\n",
      "unexpectedZeroMatchWarning: No First Page # found for Publication.\n",
      "\n",
      "unexpectedZeroMatchWarning: No Last Page # found for Publication.\n",
      "\n",
      "unexpectedZeroMatchWarning: No license found.\n",
      "\n"
     ]
    },
    {
     "name": "stdout",
     "output_type": "stream",
     "text": [
      "Parsing PMCID: 4832741\n"
     ]
    },
    {
     "name": "stderr",
     "output_type": "stream",
     "text": [
      "unexpectedZeroMatchWarning: No abstract found.\n",
      "\n",
      "UserWarning: Warning! No <body> tag found. This paper may be abstract only, or the Open Access portion may be abstract only. This also may happen with author manuscripts and other non-final editions.\n",
      "\n",
      "unexpectedZeroMatchWarning: No license found.\n",
      "\n"
     ]
    },
    {
     "name": "stdout",
     "output_type": "stream",
     "text": [
      "Parsing PMCID: 8845661\n"
     ]
    },
    {
     "name": "stderr",
     "output_type": "stream",
     "text": [
      "unexpectedZeroMatchWarning: No abstract found.\n",
      "\n",
      "UserWarning: Warning! No <body> tag found. This paper may be abstract only, or the Open Access portion may be abstract only. This also may happen with author manuscripts and other non-final editions.\n",
      "\n",
      "unexpectedZeroMatchWarning: No copyright statement found.\n",
      "\n",
      "UserWarning: Warning! Unexpected child with of type {http://www.niso.org/schemas/ali/1.0/}license_ref found under an XML <license> tag.\n",
      "\n"
     ]
    },
    {
     "name": "stdout",
     "output_type": "stream",
     "text": [
      "Parsing PMCID: 3285487\n"
     ]
    },
    {
     "name": "stderr",
     "output_type": "stream",
     "text": [
      "UserWarning: Warning! No <body> tag found. This paper may be abstract only, or the Open Access portion may be abstract only. This also may happen with author manuscripts and other non-final editions.\n",
      "\n",
      "unexpectedZeroMatchWarning: No copyright statement found.\n",
      "\n",
      "unexpectedZeroMatchWarning: No license found.\n",
      "\n"
     ]
    },
    {
     "name": "stdout",
     "output_type": "stream",
     "text": [
      "Parsing PMCID: 2723939\n"
     ]
    },
    {
     "name": "stderr",
     "output_type": "stream",
     "text": [
      "UserWarning: Warning! No <body> tag found. This paper may be abstract only, or the Open Access portion may be abstract only. This also may happen with author manuscripts and other non-final editions.\n",
      "\n",
      "unexpectedZeroMatchWarning: No copyright statement found.\n",
      "\n",
      "unexpectedZeroMatchWarning: No license found.\n",
      "\n"
     ]
    },
    {
     "name": "stdout",
     "output_type": "stream",
     "text": [
      "Parsing PMCID: 2973543\n"
     ]
    },
    {
     "name": "stderr",
     "output_type": "stream",
     "text": [
      "unexpectedZeroMatchWarning: No abstract found.\n",
      "\n",
      "UserWarning: Warning! No <body> tag found. This paper may be abstract only, or the Open Access portion may be abstract only. This also may happen with author manuscripts and other non-final editions.\n",
      "\n",
      "unexpectedZeroMatchWarning: No copyright statement found.\n",
      "\n",
      "unexpectedZeroMatchWarning: No license found.\n",
      "\n"
     ]
    },
    {
     "name": "stdout",
     "output_type": "stream",
     "text": [
      "Parsing PMCID: 9285419\n"
     ]
    },
    {
     "name": "stderr",
     "output_type": "stream",
     "text": [
      "unexpectedMultipleMatchWarning: Warning! Multiple titles matched. Setting Paper.title to the first match.\n",
      "\n",
      "unexpectedZeroMatchWarning: No abstract found.\n",
      "\n",
      "unhandledTextTagWarning: Warning! Unexpected child with of type label found under an XML <sec> tag.\n",
      "\n",
      "unexpectedZeroMatchWarning: No First Page # found for Publication.\n",
      "\n",
      "unexpectedZeroMatchWarning: No Last Page # found for Publication.\n",
      "\n",
      "UserWarning: Warning! Unexpected child with of type {http://www.niso.org/schemas/ali/1.0/}license_ref found under an XML <license> tag.\n",
      "\n"
     ]
    },
    {
     "name": "stdout",
     "output_type": "stream",
     "text": [
      "Parsing PMCID: 4145748\n"
     ]
    },
    {
     "name": "stderr",
     "output_type": "stream",
     "text": [
      "UserWarning: Warning! No <body> tag found. This paper may be abstract only, or the Open Access portion may be abstract only. This also may happen with author manuscripts and other non-final editions.\n",
      "\n",
      "unexpectedZeroMatchWarning: No license found.\n",
      "\n"
     ]
    },
    {
     "name": "stdout",
     "output_type": "stream",
     "text": [
      "Parsing PMCID: 7062986\n"
     ]
    },
    {
     "name": "stderr",
     "output_type": "stream",
     "text": [
      "unexpectedMultipleMatchWarning: Warning! Multiple titles matched. Setting Paper.title to the first match.\n",
      "\n",
      "FutureWarning: The behavior of this method will change in future versions. Use specific 'len(elem)' or 'elem is not None' test instead.\n",
      "\n",
      "unexpectedZeroMatchWarning: No copyright statement found.\n",
      "\n",
      "FutureWarning: The behavior of this method will change in future versions. Use specific 'len(elem)' or 'elem is not None' test instead.\n",
      "\n"
     ]
    },
    {
     "name": "stdout",
     "output_type": "stream",
     "text": [
      "Parsing PMCID: 6292518\n"
     ]
    },
    {
     "name": "stderr",
     "output_type": "stream",
     "text": [
      "UserWarning: Warning! No <body> tag found. This paper may be abstract only, or the Open Access portion may be abstract only. This also may happen with author manuscripts and other non-final editions.\n",
      "\n",
      "unexpectedZeroMatchWarning: No copyright statement found.\n",
      "\n",
      "unexpectedZeroMatchWarning: No license found.\n",
      "\n"
     ]
    },
    {
     "name": "stdout",
     "output_type": "stream",
     "text": [
      "Parsing PMCID: 2172974\n"
     ]
    },
    {
     "name": "stderr",
     "output_type": "stream",
     "text": [
      "unexpectedTagWarning: Tag of type sc found in a text portion of the provided markup language. Expected only HTML styling tags, or tags from the following list: ['xref', 'fig', 'table-wrap']. Specified unknown tag behavior: keep.\n",
      "\n",
      "FutureWarning: The behavior of this method will change in future versions. Use specific 'len(elem)' or 'elem is not None' test instead.\n",
      "\n",
      "unexpectedTagWarning: Tag of type disp-formula found in a text portion of the provided markup language. Expected only HTML styling tags, or tags from the following list: ['xref', 'fig', 'table-wrap']. Specified unknown tag behavior: keep.\n",
      "\n",
      "unhandledTextTagWarning: Warning! Unexpected child with of type supplementary-material found under an XML <sec> tag.\n",
      "\n",
      "UserWarning: Unexpected child of type label under a footnote (<fn>) tag. Ignoring.\n",
      "\n",
      "UserWarning: Unknown reference type: None found in ref_map.\n",
      "\n"
     ]
    },
    {
     "name": "stdout",
     "output_type": "stream",
     "text": [
      "Parsing PMCID: 9550734\n"
     ]
    },
    {
     "name": "stderr",
     "output_type": "stream",
     "text": [
      "unexpectedMultipleMatchWarning: Warning! Multiple titles matched. Setting Paper.title to the first match.\n",
      "\n",
      "UserWarning: Warning! Unexpected child with of type title found under an XML <abstract> tag.\n",
      "\n",
      "UserWarning: Warning! Unexpected child with of type def-list found under an XML <body> tag.\n",
      "\n",
      "unhandledTextTagWarning: Warning! Unexpected child with of type label found under an XML <sec> tag.\n",
      "\n",
      "unhandledTextTagWarning: Warning! Unexpected child with of type boxed-text found under an XML <sec> tag.\n",
      "\n",
      "FutureWarning: The behavior of this method will change in future versions. Use specific 'len(elem)' or 'elem is not None' test instead.\n",
      "\n",
      "unexpectedTagWarning: Tag of type disp-formula found in a text portion of the provided markup language. Expected only HTML styling tags, or tags from the following list: ['xref', 'fig', 'table-wrap']. Specified unknown tag behavior: keep.\n",
      "\n",
      "unhandledTextTagWarning: Warning! Unexpected child with of type label found under an XML <sec> tag.\n",
      "\n",
      "FutureWarning: The behavior of this method will change in future versions. Use specific 'len(elem)' or 'elem is not None' test instead.\n",
      "\n",
      "unhandledTextTagWarning: Warning! Unexpected child with of type label found under an XML <sec> tag.\n",
      "\n",
      "FutureWarning: The behavior of this method will change in future versions. Use specific 'len(elem)' or 'elem is not None' test instead.\n",
      "\n",
      "UserWarning: Warning! Unexpected child with of type {http://www.niso.org/schemas/ali/1.0/}license_ref found under an XML <license> tag.\n",
      "\n",
      "UserWarning: Unknown reference type: None found in ref_map.\n",
      "\n",
      "FutureWarning: The behavior of this method will change in future versions. Use specific 'len(elem)' or 'elem is not None' test instead.\n",
      "\n",
      "FutureWarning: The behavior of this method will change in future versions. Use specific 'len(elem)' or 'elem is not None' test instead.\n",
      "\n"
     ]
    },
    {
     "name": "stdout",
     "output_type": "stream",
     "text": [
      "Parsing PMCID: 6018440\n"
     ]
    },
    {
     "name": "stderr",
     "output_type": "stream",
     "text": [
      "unexpectedMultipleMatchWarning: Warning! Multiple titles matched. Setting Paper.title to the first match.\n",
      "\n",
      "UserWarning: Warning! Unexpected child with of type boxed-text found under an XML <body> tag.\n",
      "\n",
      "unhandledTextTagWarning: Warning! Unexpected child with of type disp-formula found under an XML <sec> tag.\n",
      "\n",
      "unexpectedTagWarning: Tag of type inline-formula found in a text portion of the provided markup language. Expected only HTML styling tags, or tags from the following list: ['xref', 'fig', 'table-wrap']. Specified unknown tag behavior: keep.\n",
      "\n",
      "unexpectedZeroMatchWarning: No Issue # found for Publication.\n",
      "\n",
      "FutureWarning: The behavior of this method will change in future versions. Use specific 'len(elem)' or 'elem is not None' test instead.\n",
      "\n",
      "UserWarning: Unknown reference type: None found in ref_map.\n",
      "\n",
      "FutureWarning: The behavior of this method will change in future versions. Use specific 'len(elem)' or 'elem is not None' test instead.\n",
      "\n",
      "UserWarning: Unknown reference type: None found in ref_map.\n",
      "\n",
      "FutureWarning: The behavior of this method will change in future versions. Use specific 'len(elem)' or 'elem is not None' test instead.\n",
      "\n",
      "UserWarning: Unknown reference type: None found in ref_map.\n",
      "\n",
      "FutureWarning: The behavior of this method will change in future versions. Use specific 'len(elem)' or 'elem is not None' test instead.\n",
      "\n"
     ]
    },
    {
     "name": "stdout",
     "output_type": "stream",
     "text": [
      "Parsing PMCID: 7815048\n"
     ]
    },
    {
     "name": "stderr",
     "output_type": "stream",
     "text": [
      "unexpectedMultipleMatchWarning: Warning! Multiple titles matched. Setting Paper.title to the first match.\n",
      "\n",
      "unexpectedZeroMatchWarning: No Issue # found for Publication.\n",
      "\n",
      "unexpectedZeroMatchWarning: No First Page # found for Publication.\n",
      "\n",
      "unexpectedZeroMatchWarning: No Last Page # found for Publication.\n",
      "\n"
     ]
    },
    {
     "ename": "ValueError",
     "evalue": "No tables found",
     "output_type": "error",
     "traceback": [
      "\u001b[0;31m---------------------------------------------------------------------------\u001b[0m",
      "\u001b[0;31mValueError\u001b[0m                                Traceback (most recent call last)",
      "Cell \u001b[0;32mIn[319], line 10\u001b[0m\n\u001b[1;32m      8\u001b[0m \u001b[39mfor\u001b[39;00m pmcid \u001b[39min\u001b[39;00m pmcids:\n\u001b[1;32m      9\u001b[0m     \u001b[39mprint\u001b[39m(\u001b[39mf\u001b[39m\u001b[39m\"\u001b[39m\u001b[39mParsing PMCID: \u001b[39m\u001b[39m{\u001b[39;00mpmcid\u001b[39m}\u001b[39;00m\u001b[39m\"\u001b[39m)\n\u001b[0;32m---> 10\u001b[0m     p \u001b[39m=\u001b[39m paper\u001b[39m.\u001b[39;49mPaper\u001b[39m.\u001b[39;49mfrom_pmc(pmcid, email, download\u001b[39m=\u001b[39;49m\u001b[39mFalse\u001b[39;49;00m)\n\u001b[1;32m     11\u001b[0m     titles\u001b[39m.\u001b[39mappend(p\u001b[39m.\u001b[39mtitle)\n\u001b[1;32m     13\u001b[0m \u001b[39mprint\u001b[39m(titles)\n",
      "File \u001b[0;32m~/Desktop/Open Source Projects/scrapemed/notebooks/../../scrapemed/scrapemed/paper.py:74\u001b[0m, in \u001b[0;36mPaper.from_pmc\u001b[0;34m(cls, pmcid, email, download, validate, verbose)\u001b[0m\n\u001b[1;32m     69\u001b[0m \u001b[39m@classmethod\u001b[39m \n\u001b[1;32m     70\u001b[0m \u001b[39mdef\u001b[39;00m \u001b[39mfrom_pmc\u001b[39m(\u001b[39mcls\u001b[39m, pmcid:\u001b[39mint\u001b[39m, email:\u001b[39mstr\u001b[39m, download:\u001b[39mbool\u001b[39m\u001b[39m=\u001b[39m\u001b[39mFalse\u001b[39;00m, validate:\u001b[39mbool\u001b[39m\u001b[39m=\u001b[39m\u001b[39mTrue\u001b[39;00m, verbose:\u001b[39mbool\u001b[39m\u001b[39m=\u001b[39m\u001b[39mFalse\u001b[39;00m):\n\u001b[1;32m     71\u001b[0m     \u001b[39m\"\"\"\u001b[39;00m\n\u001b[1;32m     72\u001b[0m \u001b[39m    Generate a Paper from a pmcid. Specify your email for auth.\u001b[39;00m\n\u001b[1;32m     73\u001b[0m \u001b[39m    \"\"\"\u001b[39;00m\n\u001b[0;32m---> 74\u001b[0m     paper_dict \u001b[39m=\u001b[39m parse\u001b[39m.\u001b[39;49mpaper_dict_from_pmc(pmcid\u001b[39m=\u001b[39;49mpmcid, email\u001b[39m=\u001b[39;49memail, download\u001b[39m=\u001b[39;49mdownload, validate\u001b[39m=\u001b[39;49mvalidate, verbose\u001b[39m=\u001b[39;49mverbose)\n\u001b[1;32m     75\u001b[0m     \u001b[39mreturn\u001b[39;00m \u001b[39mcls\u001b[39m(paper_dict)\n",
      "File \u001b[0;32m~/Desktop/Open Source Projects/scrapemed/notebooks/../../scrapemed/scrapemed/_parse.py:77\u001b[0m, in \u001b[0;36mpaper_dict_from_pmc\u001b[0;34m(pmcid, email, download, validate, verbose)\u001b[0m\n\u001b[1;32m     74\u001b[0m paper_tree \u001b[39m=\u001b[39m scrape\u001b[39m.\u001b[39mget_xml(pmcid\u001b[39m=\u001b[39mpmcid, email\u001b[39m=\u001b[39memail, download\u001b[39m=\u001b[39mdownload, validate\u001b[39m=\u001b[39mvalidate, verbose\u001b[39m=\u001b[39mverbose)\n\u001b[1;32m     75\u001b[0m root \u001b[39m=\u001b[39m paper_tree\u001b[39m.\u001b[39mgetroot()\n\u001b[0;32m---> 77\u001b[0m \u001b[39mreturn\u001b[39;00m generate_paper_dict(paper_root \u001b[39m=\u001b[39;49m root)\n",
      "File \u001b[0;32m~/Desktop/Open Source Projects/scrapemed/notebooks/../../scrapemed/scrapemed/_parse.py:118\u001b[0m, in \u001b[0;36mgenerate_paper_dict\u001b[0;34m(paper_root, verbose)\u001b[0m\n\u001b[1;32m     89\u001b[0m ref_map \u001b[39m=\u001b[39m basicBiMap()\n\u001b[1;32m     91\u001b[0m \u001b[39m#STORE EXTRACTED INFO IN PAPER DICT\u001b[39;00m\n\u001b[1;32m     92\u001b[0m paper_dict \u001b[39m=\u001b[39m {\n\u001b[1;32m     93\u001b[0m     \u001b[39m'\u001b[39m\u001b[39mTitle\u001b[39m\u001b[39m'\u001b[39m: gather_title(root),\n\u001b[1;32m     94\u001b[0m     \u001b[39m'\u001b[39m\u001b[39mAuthors\u001b[39m\u001b[39m'\u001b[39m: gather_authors(root),\n\u001b[1;32m     95\u001b[0m     \u001b[39m'\u001b[39m\u001b[39mNon-Author Contributors\u001b[39m\u001b[39m'\u001b[39m: gather_non_author_contributors(root),\n\u001b[1;32m     96\u001b[0m     \u001b[39m'\u001b[39m\u001b[39mAbstract\u001b[39m\u001b[39m'\u001b[39m: gather_abstract(root, ref_map),\n\u001b[1;32m     97\u001b[0m     \u001b[39m'\u001b[39m\u001b[39mBody\u001b[39m\u001b[39m'\u001b[39m: gather_body(root, ref_map),\n\u001b[1;32m     98\u001b[0m     \u001b[39m'\u001b[39m\u001b[39mJournal ID\u001b[39m\u001b[39m'\u001b[39m: gather_journal_id(root),\n\u001b[1;32m     99\u001b[0m     \u001b[39m'\u001b[39m\u001b[39mJournal Title\u001b[39m\u001b[39m'\u001b[39m: gather_journal_title(root),\n\u001b[1;32m    100\u001b[0m     \u001b[39m'\u001b[39m\u001b[39mISSN\u001b[39m\u001b[39m'\u001b[39m: gather_issn(root),\n\u001b[1;32m    101\u001b[0m     \u001b[39m'\u001b[39m\u001b[39mPublisher Name\u001b[39m\u001b[39m'\u001b[39m: gather_publisher_name(root),\n\u001b[1;32m    102\u001b[0m     \u001b[39m'\u001b[39m\u001b[39mPublisher Location\u001b[39m\u001b[39m'\u001b[39m: gather_publisher_location(root),\n\u001b[1;32m    103\u001b[0m     \u001b[39m'\u001b[39m\u001b[39mArticle ID\u001b[39m\u001b[39m'\u001b[39m: gather_article_id(root),\n\u001b[1;32m    104\u001b[0m     \u001b[39m'\u001b[39m\u001b[39mArticle Types\u001b[39m\u001b[39m'\u001b[39m: gather_article_types(root),\n\u001b[1;32m    105\u001b[0m     \u001b[39m'\u001b[39m\u001b[39mArticle Categories\u001b[39m\u001b[39m'\u001b[39m: gather_article_categories(root),\n\u001b[1;32m    106\u001b[0m     \u001b[39m'\u001b[39m\u001b[39mPublished Date\u001b[39m\u001b[39m'\u001b[39m: gather_published_date(root),\n\u001b[1;32m    107\u001b[0m     \u001b[39m'\u001b[39m\u001b[39mVolume\u001b[39m\u001b[39m'\u001b[39m: gather_volume(root),\n\u001b[1;32m    108\u001b[0m     \u001b[39m'\u001b[39m\u001b[39mIssue\u001b[39m\u001b[39m'\u001b[39m: gather_issue(root),\n\u001b[1;32m    109\u001b[0m     \u001b[39m'\u001b[39m\u001b[39mFirst Page\u001b[39m\u001b[39m'\u001b[39m: gather_fpage(root),\n\u001b[1;32m    110\u001b[0m     \u001b[39m'\u001b[39m\u001b[39mLast Page\u001b[39m\u001b[39m'\u001b[39m: gather_lpage(root),\n\u001b[1;32m    111\u001b[0m     \u001b[39m'\u001b[39m\u001b[39mPermissions\u001b[39m\u001b[39m'\u001b[39m: gather_permissions(root),\n\u001b[1;32m    112\u001b[0m     \u001b[39m'\u001b[39m\u001b[39mFunding\u001b[39m\u001b[39m'\u001b[39m: gather_funding(root),\n\u001b[1;32m    113\u001b[0m     \u001b[39m'\u001b[39m\u001b[39mFootnote\u001b[39m\u001b[39m'\u001b[39m: gather_footnote(root),\n\u001b[1;32m    114\u001b[0m     \u001b[39m'\u001b[39m\u001b[39mAcknowledgements\u001b[39m\u001b[39m'\u001b[39m: gather_acknowledgements(root),\n\u001b[1;32m    115\u001b[0m     \u001b[39m'\u001b[39m\u001b[39mNotes\u001b[39m\u001b[39m'\u001b[39m: gather_notes(root),\n\u001b[1;32m    116\u001b[0m     \u001b[39m'\u001b[39m\u001b[39mCustom Meta\u001b[39m\u001b[39m'\u001b[39m: gather_custom_metadata(root),\n\u001b[1;32m    117\u001b[0m     \u001b[39m'\u001b[39m\u001b[39mRef Map With Tags\u001b[39m\u001b[39m'\u001b[39m: copy\u001b[39m.\u001b[39mdeepcopy(ref_map),\n\u001b[0;32m--> 118\u001b[0m     \u001b[39m'\u001b[39m\u001b[39mRef Map\u001b[39m\u001b[39m'\u001b[39m: _clean_ref_map(paper_root \u001b[39m=\u001b[39;49m root, ref_map \u001b[39m=\u001b[39;49m ref_map),\n\u001b[1;32m    119\u001b[0m }\n\u001b[1;32m    121\u001b[0m citations, tables, figures \u001b[39m=\u001b[39m _split_citations_tables_figs(paper_dict[\u001b[39m'\u001b[39m\u001b[39mRef Map\u001b[39m\u001b[39m'\u001b[39m])\n\u001b[1;32m    122\u001b[0m paper_dict[\u001b[39m'\u001b[39m\u001b[39mCitations\u001b[39m\u001b[39m'\u001b[39m] \u001b[39m=\u001b[39m citations\n",
      "File \u001b[0;32m~/Desktop/Open Source Projects/scrapemed/notebooks/../../scrapemed/scrapemed/_parse.py:761\u001b[0m, in \u001b[0;36m_clean_ref_map\u001b[0;34m(paper_root, ref_map)\u001b[0m\n\u001b[1;32m    759\u001b[0m         warnings\u001b[39m.\u001b[39mwarn(\u001b[39m\"\u001b[39m\u001b[39mMultiple references found for a single table. Filling in with the first match.\u001b[39m\u001b[39m\"\u001b[39m)\n\u001b[1;32m    760\u001b[0m     table_root \u001b[39m=\u001b[39m matches[\u001b[39m0\u001b[39m]\n\u001b[0;32m--> 761\u001b[0m     cleaned_ref_map[key] \u001b[39m=\u001b[39m TextTable(table_root \u001b[39m=\u001b[39;49m table_root)\n\u001b[1;32m    763\u001b[0m \u001b[39melif\u001b[39;00m root\u001b[39m.\u001b[39mget(\u001b[39m\"\u001b[39m\u001b[39mref-type\u001b[39m\u001b[39m\"\u001b[39m) \u001b[39m==\u001b[39m \u001b[39m\"\u001b[39m\u001b[39mfig\u001b[39m\u001b[39m\"\u001b[39m:\n\u001b[1;32m    764\u001b[0m     fig_id \u001b[39m=\u001b[39m root\u001b[39m.\u001b[39mget(\u001b[39m\"\u001b[39m\u001b[39mrid\u001b[39m\u001b[39m\"\u001b[39m)\n",
      "File \u001b[0;32m~/Desktop/Open Source Projects/scrapemed/notebooks/../../scrapemed/scrapemed/_text.py:221\u001b[0m, in \u001b[0;36mTextTable.__init__\u001b[0;34m(self, table_root, parent, ref_map)\u001b[0m\n\u001b[1;32m    218\u001b[0m     caption \u001b[39m=\u001b[39m caption_matches[\u001b[39m0\u001b[39m]\u001b[39m.\u001b[39mtext\n\u001b[1;32m    220\u001b[0m table_xml_str \u001b[39m=\u001b[39m ET\u001b[39m.\u001b[39mtostring(table_root)\n\u001b[0;32m--> 221\u001b[0m table_df \u001b[39m=\u001b[39m pd\u001b[39m.\u001b[39;49mread_html(table_xml_str)[\u001b[39m0\u001b[39m]\n\u001b[1;32m    223\u001b[0m \u001b[39m#build title for styled df, if relevant\u001b[39;00m\n\u001b[1;32m    224\u001b[0m title \u001b[39m=\u001b[39m \u001b[39mNone\u001b[39;00m\n",
      "File \u001b[0;32m~/miniconda3/envs/scrapemed/lib/python3.10/site-packages/pandas/util/_decorators.py:331\u001b[0m, in \u001b[0;36mdeprecate_nonkeyword_arguments.<locals>.decorate.<locals>.wrapper\u001b[0;34m(*args, **kwargs)\u001b[0m\n\u001b[1;32m    325\u001b[0m \u001b[39mif\u001b[39;00m \u001b[39mlen\u001b[39m(args) \u001b[39m>\u001b[39m num_allow_args:\n\u001b[1;32m    326\u001b[0m     warnings\u001b[39m.\u001b[39mwarn(\n\u001b[1;32m    327\u001b[0m         msg\u001b[39m.\u001b[39mformat(arguments\u001b[39m=\u001b[39m_format_argument_list(allow_args)),\n\u001b[1;32m    328\u001b[0m         \u001b[39mFutureWarning\u001b[39;00m,\n\u001b[1;32m    329\u001b[0m         stacklevel\u001b[39m=\u001b[39mfind_stack_level(),\n\u001b[1;32m    330\u001b[0m     )\n\u001b[0;32m--> 331\u001b[0m \u001b[39mreturn\u001b[39;00m func(\u001b[39m*\u001b[39;49margs, \u001b[39m*\u001b[39;49m\u001b[39m*\u001b[39;49mkwargs)\n",
      "File \u001b[0;32m~/miniconda3/envs/scrapemed/lib/python3.10/site-packages/pandas/io/html.py:1205\u001b[0m, in \u001b[0;36mread_html\u001b[0;34m(io, match, flavor, header, index_col, skiprows, attrs, parse_dates, thousands, encoding, decimal, converters, na_values, keep_default_na, displayed_only, extract_links)\u001b[0m\n\u001b[1;32m   1201\u001b[0m validate_header_arg(header)\n\u001b[1;32m   1203\u001b[0m io \u001b[39m=\u001b[39m stringify_path(io)\n\u001b[0;32m-> 1205\u001b[0m \u001b[39mreturn\u001b[39;00m _parse(\n\u001b[1;32m   1206\u001b[0m     flavor\u001b[39m=\u001b[39;49mflavor,\n\u001b[1;32m   1207\u001b[0m     io\u001b[39m=\u001b[39;49mio,\n\u001b[1;32m   1208\u001b[0m     match\u001b[39m=\u001b[39;49mmatch,\n\u001b[1;32m   1209\u001b[0m     header\u001b[39m=\u001b[39;49mheader,\n\u001b[1;32m   1210\u001b[0m     index_col\u001b[39m=\u001b[39;49mindex_col,\n\u001b[1;32m   1211\u001b[0m     skiprows\u001b[39m=\u001b[39;49mskiprows,\n\u001b[1;32m   1212\u001b[0m     parse_dates\u001b[39m=\u001b[39;49mparse_dates,\n\u001b[1;32m   1213\u001b[0m     thousands\u001b[39m=\u001b[39;49mthousands,\n\u001b[1;32m   1214\u001b[0m     attrs\u001b[39m=\u001b[39;49mattrs,\n\u001b[1;32m   1215\u001b[0m     encoding\u001b[39m=\u001b[39;49mencoding,\n\u001b[1;32m   1216\u001b[0m     decimal\u001b[39m=\u001b[39;49mdecimal,\n\u001b[1;32m   1217\u001b[0m     converters\u001b[39m=\u001b[39;49mconverters,\n\u001b[1;32m   1218\u001b[0m     na_values\u001b[39m=\u001b[39;49mna_values,\n\u001b[1;32m   1219\u001b[0m     keep_default_na\u001b[39m=\u001b[39;49mkeep_default_na,\n\u001b[1;32m   1220\u001b[0m     displayed_only\u001b[39m=\u001b[39;49mdisplayed_only,\n\u001b[1;32m   1221\u001b[0m     extract_links\u001b[39m=\u001b[39;49mextract_links,\n\u001b[1;32m   1222\u001b[0m )\n",
      "File \u001b[0;32m~/miniconda3/envs/scrapemed/lib/python3.10/site-packages/pandas/io/html.py:1006\u001b[0m, in \u001b[0;36m_parse\u001b[0;34m(flavor, io, match, attrs, encoding, displayed_only, extract_links, **kwargs)\u001b[0m\n\u001b[1;32m   1004\u001b[0m \u001b[39melse\u001b[39;00m:\n\u001b[1;32m   1005\u001b[0m     \u001b[39massert\u001b[39;00m retained \u001b[39mis\u001b[39;00m \u001b[39mnot\u001b[39;00m \u001b[39mNone\u001b[39;00m  \u001b[39m# for mypy\u001b[39;00m\n\u001b[0;32m-> 1006\u001b[0m     \u001b[39mraise\u001b[39;00m retained\n\u001b[1;32m   1008\u001b[0m ret \u001b[39m=\u001b[39m []\n\u001b[1;32m   1009\u001b[0m \u001b[39mfor\u001b[39;00m table \u001b[39min\u001b[39;00m tables:\n",
      "File \u001b[0;32m~/miniconda3/envs/scrapemed/lib/python3.10/site-packages/pandas/io/html.py:986\u001b[0m, in \u001b[0;36m_parse\u001b[0;34m(flavor, io, match, attrs, encoding, displayed_only, extract_links, **kwargs)\u001b[0m\n\u001b[1;32m    983\u001b[0m p \u001b[39m=\u001b[39m parser(io, compiled_match, attrs, encoding, displayed_only, extract_links)\n\u001b[1;32m    985\u001b[0m \u001b[39mtry\u001b[39;00m:\n\u001b[0;32m--> 986\u001b[0m     tables \u001b[39m=\u001b[39m p\u001b[39m.\u001b[39;49mparse_tables()\n\u001b[1;32m    987\u001b[0m \u001b[39mexcept\u001b[39;00m \u001b[39mValueError\u001b[39;00m \u001b[39mas\u001b[39;00m caught:\n\u001b[1;32m    988\u001b[0m     \u001b[39m# if `io` is an io-like object, check if it's seekable\u001b[39;00m\n\u001b[1;32m    989\u001b[0m     \u001b[39m# and try to rewind it before trying the next parser\u001b[39;00m\n\u001b[1;32m    990\u001b[0m     \u001b[39mif\u001b[39;00m \u001b[39mhasattr\u001b[39m(io, \u001b[39m\"\u001b[39m\u001b[39mseekable\u001b[39m\u001b[39m\"\u001b[39m) \u001b[39mand\u001b[39;00m io\u001b[39m.\u001b[39mseekable():\n",
      "File \u001b[0;32m~/miniconda3/envs/scrapemed/lib/python3.10/site-packages/pandas/io/html.py:262\u001b[0m, in \u001b[0;36m_HtmlFrameParser.parse_tables\u001b[0;34m(self)\u001b[0m\n\u001b[1;32m    254\u001b[0m \u001b[39mdef\u001b[39;00m \u001b[39mparse_tables\u001b[39m(\u001b[39mself\u001b[39m):\n\u001b[1;32m    255\u001b[0m     \u001b[39m\"\"\"\u001b[39;00m\n\u001b[1;32m    256\u001b[0m \u001b[39m    Parse and return all tables from the DOM.\u001b[39;00m\n\u001b[1;32m    257\u001b[0m \n\u001b[0;32m   (...)\u001b[0m\n\u001b[1;32m    260\u001b[0m \u001b[39m    list of parsed (header, body, footer) tuples from tables.\u001b[39;00m\n\u001b[1;32m    261\u001b[0m \u001b[39m    \"\"\"\u001b[39;00m\n\u001b[0;32m--> 262\u001b[0m     tables \u001b[39m=\u001b[39m \u001b[39mself\u001b[39;49m\u001b[39m.\u001b[39;49m_parse_tables(\u001b[39mself\u001b[39;49m\u001b[39m.\u001b[39;49m_build_doc(), \u001b[39mself\u001b[39;49m\u001b[39m.\u001b[39;49mmatch, \u001b[39mself\u001b[39;49m\u001b[39m.\u001b[39;49mattrs)\n\u001b[1;32m    263\u001b[0m     \u001b[39mreturn\u001b[39;00m (\u001b[39mself\u001b[39m\u001b[39m.\u001b[39m_parse_thead_tbody_tfoot(table) \u001b[39mfor\u001b[39;00m table \u001b[39min\u001b[39;00m tables)\n",
      "File \u001b[0;32m~/miniconda3/envs/scrapemed/lib/python3.10/site-packages/pandas/io/html.py:618\u001b[0m, in \u001b[0;36m_BeautifulSoupHtml5LibFrameParser._parse_tables\u001b[0;34m(self, doc, match, attrs)\u001b[0m\n\u001b[1;32m    615\u001b[0m tables \u001b[39m=\u001b[39m doc\u001b[39m.\u001b[39mfind_all(element_name, attrs\u001b[39m=\u001b[39mattrs)\n\u001b[1;32m    617\u001b[0m \u001b[39mif\u001b[39;00m \u001b[39mnot\u001b[39;00m tables:\n\u001b[0;32m--> 618\u001b[0m     \u001b[39mraise\u001b[39;00m \u001b[39mValueError\u001b[39;00m(\u001b[39m\"\u001b[39m\u001b[39mNo tables found\u001b[39m\u001b[39m\"\u001b[39m)\n\u001b[1;32m    620\u001b[0m result \u001b[39m=\u001b[39m []\n\u001b[1;32m    621\u001b[0m unique_tables \u001b[39m=\u001b[39m \u001b[39mset\u001b[39m()\n",
      "\u001b[0;31mValueError\u001b[0m: No tables found"
     ]
    }
   ],
   "source": [
    "#Quick check that nothing breaks when downloading 50 papers and parsing them\n",
    "import random\n",
    "pmcids = [random.randint(1000000, 9999999) for _ in range(50)]\n",
    "titles = []\n",
    "#Specify creds and PMCID\n",
    "email = \"danielfrees247@gmail.com\"\n",
    "\n",
    "for pmcid in pmcids:\n",
    "    print(f\"Parsing PMCID: {pmcid}\")\n",
    "    p = paper.Paper.from_pmc(pmcid, email, download=False)\n",
    "    titles.append(p.title)\n",
    "\n",
    "print(titles)"
   ]
  },
  {
   "cell_type": "code",
   "execution_count": null,
   "metadata": {},
   "outputs": [],
   "source": []
  },
  {
   "cell_type": "code",
   "execution_count": null,
   "metadata": {},
   "outputs": [],
   "source": []
  },
  {
   "cell_type": "code",
   "execution_count": null,
   "metadata": {},
   "outputs": [],
   "source": []
  }
 ],
 "metadata": {
  "interpreter": {
   "hash": "427d4943968a1e3fc165f884a0cbd733d19eb316925f7601ef95e6c86f630a99"
  },
  "kernelspec": {
   "display_name": "Python 3.10.9 64-bit ('scrapemed': conda)",
   "name": "python3"
  },
  "language_info": {
   "codemirror_mode": {
    "name": "ipython",
    "version": 3
   },
   "file_extension": ".py",
   "mimetype": "text/x-python",
   "name": "python",
   "nbconvert_exporter": "python",
   "pygments_lexer": "ipython3",
   "version": "3.10.9"
  },
  "orig_nbformat": 4
 },
 "nbformat": 4,
 "nbformat_minor": 2
}
