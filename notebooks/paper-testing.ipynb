{
 "cells": [
  {
   "cell_type": "code",
   "execution_count": 167,
   "metadata": {},
   "outputs": [
    {
     "name": "stdout",
     "output_type": "stream",
     "text": [
      "The autoreload extension is already loaded. To reload it, use:\n",
      "  %reload_ext autoreload\n"
     ]
    }
   ],
   "source": [
    "%load_ext autoreload\n",
    "%autoreload 2\n",
    "import sys\n",
    "sys.path.insert(0, \"../../scrapemed\")\n",
    "\n",
    "import scrapemed.paper as paper\n",
    "import pandas as pd\n",
    "import lxml"
   ]
  },
  {
   "cell_type": "code",
   "execution_count": 168,
   "metadata": {},
   "outputs": [],
   "source": [
    "#Specify creds and PMCID\n",
    "\n",
    "#---------  Issue list to investigate:  ------\n",
    "#---------------------------------------------\n",
    "#unmatched tables and figures: 8767368, 8566143 - fixed\n",
    "#fig under sec: 2832672 -fixed\n",
    "#unmatched citations: should be fixed\n",
    "#something going wrong with contributor tuples function : 5173686, 2402497 -fixed\n",
    "#no abstract found: 2097352, 7210167 - fixed\n",
    "#invalid int when grabbing fpage: 3261356 - fixed\n",
    "#pandas read_html not working on one of the HTML tables: 7815048 - fixed, seems to happen with graphics only figures, just reporting these with warning and skipping\n",
    "#article categories func does not support none found properly: 8460637 - fixed\n",
    "#Possible ref map issue... not sure why a TextElement is being initialized without a ref_map passed in: 5682655 - possibly fixed, but may not be perfect\n",
    "#issue with figure labels missing: 1086993 - fixed\n",
    "#---------------------------------------------\n",
    "\n",
    "PMCID = 1086993\n",
    "email = \"danielfrees247@gmail.com\"\n",
    "\n",
    "p = paper.Paper.from_pmc(PMCID, email, download=False)"
   ]
  },
  {
   "cell_type": "code",
   "execution_count": 169,
   "metadata": {},
   "outputs": [
    {
     "data": {
      "text/plain": [
       "'Growth Physics in Nitella: a Method for Continuous in Vivo Analysis of Extensibility Based on a Micro-manometer Technique for Turgor Pressure '"
      ]
     },
     "execution_count": 169,
     "metadata": {},
     "output_type": "execute_result"
    }
   ],
   "source": [
    "p.title"
   ]
  },
  {
   "cell_type": "code",
   "execution_count": 170,
   "metadata": {},
   "outputs": [
    {
     "data": {
      "text/html": [
       "<div>\n",
       "<style scoped>\n",
       "    .dataframe tbody tr th:only-of-type {\n",
       "        vertical-align: middle;\n",
       "    }\n",
       "\n",
       "    .dataframe tbody tr th {\n",
       "        vertical-align: top;\n",
       "    }\n",
       "\n",
       "    .dataframe thead th {\n",
       "        text-align: right;\n",
       "    }\n",
       "</style>\n",
       "<table border=\"1\" class=\"dataframe\">\n",
       "  <thead>\n",
       "    <tr style=\"text-align: right;\">\n",
       "      <th></th>\n",
       "      <th>Contributor_Type</th>\n",
       "      <th>First_Name</th>\n",
       "      <th>Last_Name</th>\n",
       "      <th>Email_Address</th>\n",
       "      <th>Affiliations</th>\n",
       "    </tr>\n",
       "  </thead>\n",
       "  <tbody>\n",
       "    <tr>\n",
       "      <th>0</th>\n",
       "      <td>Author</td>\n",
       "      <td>Paul B.</td>\n",
       "      <td>Green</td>\n",
       "      <td>None</td>\n",
       "      <td>[]</td>\n",
       "    </tr>\n",
       "  </tbody>\n",
       "</table>\n",
       "</div>"
      ],
      "text/plain": [
       "  Contributor_Type First_Name Last_Name Email_Address Affiliations\n",
       "0           Author    Paul B.     Green          None           []"
      ]
     },
     "execution_count": 170,
     "metadata": {},
     "output_type": "execute_result"
    }
   ],
   "source": [
    "pd.options.display.max_colwidth = 200\n",
    "p.authors"
   ]
  },
  {
   "cell_type": "code",
   "execution_count": 171,
   "metadata": {},
   "outputs": [
    {
     "name": "stdout",
     "output_type": "stream",
     "text": [
      "No non-author contributors were found after parsing this paper.\n"
     ]
    }
   ],
   "source": [
    "print(p.non_author_contributors)"
   ]
  },
  {
   "cell_type": "code",
   "execution_count": 172,
   "metadata": {},
   "outputs": [
    {
     "name": "stdout",
     "output_type": "stream",
     "text": [
      "The view that the plant cell grows by the yielding of the cell wall to turgor pressure can be expressed in the equation: rate = cell extensibility × turgor. All growth rate responses can in principle be resolved into changes in the 2 latter variables. Extensibility will relate primarily to the yielding properties of the cell wall, turgor primarily to solute uptake or production. Use of this simple relationship in vivo requires that at least 2 of the 3 variables be measured in a growing cell. Extensibility is not amenable to direct measurement. Data on rate and turgor for single Nitella cells can, however, be continuously gathered to permit calculation of extensibility (rate/turgor). Rate is accurately obtained from measurements on time-lapse film. Turgor is estimated in the same cell, to within 0.1 atm or less, by measurement of the ability of the cell to compress gas trapped in the closed end of a capillary the open end of which is in the cell vacuole. The method is independent of osmotic equilibrium. It operates continuously for several days, over a several fold increase in cell length, and has response time of less than one minute. Rapid changes in turgor brought on by changes in tonicity of the medium, show that extensibility, as defined above, is not constant but has a value of zero unless the cell has about 80% of normal turgor. Because elastic changes are small, extensibility relates to growth. Over long periods of treatment in a variety of osmotica the threshold value for extensibility and growth is seen to fall to lower values to permit resumption of growth at reduced turgor. A brief period of rapid growth (5× normal) follows the return to normal turgor. All variables then become normal and the cycle can be repeated. The cell remains essentially at osmotic equilibrium, even while growing at 5× the normal rate. The method has potential for detailed in vivo analyses of “wall softening.”\n",
      "SECTION: Images:\n",
      "\n"
     ]
    }
   ],
   "source": [
    "if p.abstract:\n",
    "    for sec in p.abstract:\n",
    "        print(sec)"
   ]
  },
  {
   "cell_type": "code",
   "execution_count": 173,
   "metadata": {},
   "outputs": [],
   "source": [
    "if p.body:\n",
    "    for sec in p.body:\n",
    "        print(str(sec))"
   ]
  },
  {
   "cell_type": "code",
   "execution_count": 174,
   "metadata": {},
   "outputs": [
    {
     "data": {
      "text/plain": [
       "{'nlm-ta': 'Plant Physiol'}"
      ]
     },
     "execution_count": 174,
     "metadata": {},
     "output_type": "execute_result"
    }
   ],
   "source": [
    "p.journal_id"
   ]
  },
  {
   "cell_type": "code",
   "execution_count": 175,
   "metadata": {},
   "outputs": [
    {
     "data": {
      "text/plain": [
       "{'ppub': '0032-0889', 'epub': '1532-2548'}"
      ]
     },
     "execution_count": 175,
     "metadata": {},
     "output_type": "execute_result"
    }
   ],
   "source": [
    "p.issn"
   ]
  },
  {
   "cell_type": "code",
   "execution_count": 176,
   "metadata": {},
   "outputs": [
    {
     "data": {
      "text/plain": [
       "'Plant Physiology'"
      ]
     },
     "execution_count": 176,
     "metadata": {},
     "output_type": "execute_result"
    }
   ],
   "source": [
    "p.journal_title"
   ]
  },
  {
   "cell_type": "code",
   "execution_count": 177,
   "metadata": {},
   "outputs": [
    {
     "data": {
      "text/plain": [
       "[]"
      ]
     },
     "execution_count": 177,
     "metadata": {},
     "output_type": "execute_result"
    }
   ],
   "source": [
    "p.publisher_location"
   ]
  },
  {
   "cell_type": "code",
   "execution_count": 178,
   "metadata": {},
   "outputs": [
    {
     "data": {
      "text/plain": [
       "[]"
      ]
     },
     "execution_count": 178,
     "metadata": {},
     "output_type": "execute_result"
    }
   ],
   "source": [
    "p.publisher_name"
   ]
  },
  {
   "cell_type": "code",
   "execution_count": 179,
   "metadata": {},
   "outputs": [
    {
     "data": {
      "text/plain": [
       "{'pmid': '16656901', 'pmc': '1086993'}"
      ]
     },
     "execution_count": 179,
     "metadata": {},
     "output_type": "execute_result"
    }
   ],
   "source": [
    "p.article_id"
   ]
  },
  {
   "cell_type": "code",
   "execution_count": 180,
   "metadata": {},
   "outputs": [
    {
     "data": {
      "text/plain": [
       "['Articles']"
      ]
     },
     "execution_count": 180,
     "metadata": {},
     "output_type": "execute_result"
    }
   ],
   "source": [
    "p.article_types"
   ]
  },
  {
   "cell_type": "code",
   "execution_count": 181,
   "metadata": {},
   "outputs": [
    {
     "data": {
      "text/plain": [
       "'No extra article categories found. Check paper.article_types for header categories.'"
      ]
     },
     "execution_count": 181,
     "metadata": {},
     "output_type": "execute_result"
    }
   ],
   "source": [
    "p.article_categories"
   ]
  },
  {
   "cell_type": "code",
   "execution_count": 182,
   "metadata": {},
   "outputs": [
    {
     "data": {
      "text/plain": [
       "{'ppub': datetime.datetime(1968, 8, 1, 0, 0)}"
      ]
     },
     "execution_count": 182,
     "metadata": {},
     "output_type": "execute_result"
    }
   ],
   "source": [
    "p.published_date"
   ]
  },
  {
   "cell_type": "code",
   "execution_count": 183,
   "metadata": {},
   "outputs": [
    {
     "data": {
      "text/plain": [
       "'43'"
      ]
     },
     "execution_count": 183,
     "metadata": {},
     "output_type": "execute_result"
    }
   ],
   "source": [
    "p.volume"
   ]
  },
  {
   "cell_type": "code",
   "execution_count": 184,
   "metadata": {},
   "outputs": [
    {
     "data": {
      "text/plain": [
       "'8'"
      ]
     },
     "execution_count": 184,
     "metadata": {},
     "output_type": "execute_result"
    }
   ],
   "source": [
    "p.issue"
   ]
  },
  {
   "cell_type": "code",
   "execution_count": 185,
   "metadata": {},
   "outputs": [
    {
     "data": {
      "text/plain": [
       "'1169'"
      ]
     },
     "execution_count": 185,
     "metadata": {},
     "output_type": "execute_result"
    }
   ],
   "source": [
    "p.fpage"
   ]
  },
  {
   "cell_type": "code",
   "execution_count": 186,
   "metadata": {},
   "outputs": [
    {
     "data": {
      "text/plain": [
       "'1184'"
      ]
     },
     "execution_count": 186,
     "metadata": {},
     "output_type": "execute_result"
    }
   ],
   "source": [
    "p.lpage"
   ]
  },
  {
   "cell_type": "code",
   "execution_count": 187,
   "metadata": {},
   "outputs": [],
   "source": [
    "p.permissions"
   ]
  },
  {
   "cell_type": "code",
   "execution_count": 188,
   "metadata": {},
   "outputs": [],
   "source": [
    "p.funding"
   ]
  },
  {
   "cell_type": "code",
   "execution_count": 189,
   "metadata": {},
   "outputs": [],
   "source": [
    "p.footnote"
   ]
  },
  {
   "cell_type": "code",
   "execution_count": 190,
   "metadata": {},
   "outputs": [
    {
     "name": "stdout",
     "output_type": "stream",
     "text": [
      "Nothing in ref map index 19.\n"
     ]
    }
   ],
   "source": [
    "try:\n",
    "    sample_table = p.ref_map[19]\n",
    "    sample_table\n",
    "except KeyError as e:\n",
    "    print(\"Nothing in ref map index 19.\")"
   ]
  },
  {
   "cell_type": "code",
   "execution_count": 191,
   "metadata": {},
   "outputs": [],
   "source": [
    "for ack in p.acknowledgements:\n",
    "    print(ack)"
   ]
  },
  {
   "cell_type": "code",
   "execution_count": 192,
   "metadata": {},
   "outputs": [],
   "source": [
    "for note in p.notes:\n",
    "    print(note)\n",
    "    print()"
   ]
  },
  {
   "cell_type": "code",
   "execution_count": 193,
   "metadata": {},
   "outputs": [],
   "source": [
    "p.custom_meta"
   ]
  },
  {
   "cell_type": "markdown",
   "metadata": {},
   "source": [
    "## More Detailed Investigation of Ref Map and Texts"
   ]
  },
  {
   "cell_type": "code",
   "execution_count": 194,
   "metadata": {},
   "outputs": [],
   "source": [
    "if p.body:\n",
    "    for sec in p.body:\n",
    "        print(\"Text: \" + sec.text)\n",
    "        print()\n",
    "        print(\"Text with Refs: \" + sec.text_with_refs)"
   ]
  },
  {
   "cell_type": "code",
   "execution_count": 195,
   "metadata": {},
   "outputs": [
    {
     "data": {
      "text/plain": [
       "{}"
      ]
     },
     "execution_count": 195,
     "metadata": {},
     "output_type": "execute_result"
    }
   ],
   "source": [
    "p._ref_map_with_tags\n"
   ]
  },
  {
   "cell_type": "code",
   "execution_count": 196,
   "metadata": {},
   "outputs": [
    {
     "data": {
      "text/plain": [
       "{}"
      ]
     },
     "execution_count": 196,
     "metadata": {},
     "output_type": "execute_result"
    }
   ],
   "source": [
    "p.ref_map"
   ]
  },
  {
   "cell_type": "code",
   "execution_count": 197,
   "metadata": {},
   "outputs": [
    {
     "data": {
      "text/plain": [
       "[]"
      ]
     },
     "execution_count": 197,
     "metadata": {},
     "output_type": "execute_result"
    }
   ],
   "source": [
    "p.citations"
   ]
  },
  {
   "cell_type": "code",
   "execution_count": 198,
   "metadata": {},
   "outputs": [
    {
     "data": {
      "text/plain": [
       "[]"
      ]
     },
     "execution_count": 198,
     "metadata": {},
     "output_type": "execute_result"
    }
   ],
   "source": [
    "p.tables"
   ]
  },
  {
   "cell_type": "code",
   "execution_count": 199,
   "metadata": {},
   "outputs": [
    {
     "data": {
      "text/plain": [
       "[]"
      ]
     },
     "execution_count": 199,
     "metadata": {},
     "output_type": "execute_result"
    }
   ],
   "source": [
    "p.figures"
   ]
  },
  {
   "cell_type": "code",
   "execution_count": 200,
   "metadata": {},
   "outputs": [
    {
     "name": "stdout",
     "output_type": "stream",
     "text": [
      "Text: The view that the plant cell grows by the yielding of the cell wall to turgor pressure can be expressed in the equation: rate = cell extensibility × turgor. All growth rate responses can in principle be resolved into changes in the 2 latter variables. Extensibility will relate primarily to the yielding properties of the cell wall, turgor primarily to solute uptake or production. Use of this simple relationship in vivo requires that at least 2 of the 3 variables be measured in a growing cell. Extensibility is not amenable to direct measurement. Data on rate and turgor for single Nitella cells can, however, be continuously gathered to permit calculation of extensibility (rate/turgor). Rate is accurately obtained from measurements on time-lapse film. Turgor is estimated in the same cell, to within 0.1 atm or less, by measurement of the ability of the cell to compress gas trapped in the closed end of a capillary the open end of which is in the cell vacuole. The method is independent of osmotic equilibrium. It operates continuously for several days, over a several fold increase in cell length, and has response time of less than one minute. Rapid changes in turgor brought on by changes in tonicity of the medium, show that extensibility, as defined above, is not constant but has a value of zero unless the cell has about 80% of normal turgor. Because elastic changes are small, extensibility relates to growth. Over long periods of treatment in a variety of osmotica the threshold value for extensibility and growth is seen to fall to lower values to permit resumption of growth at reduced turgor. A brief period of rapid growth (5× normal) follows the return to normal turgor. All variables then become normal and the cycle can be repeated. The cell remains essentially at osmotic equilibrium, even while growing at 5× the normal rate. The method has potential for detailed in vivo analyses of “wall softening.”\n",
      "\n",
      "Text with Refs: The view that the plant cell grows by the yielding of the cell wall to turgor pressure can be expressed in the equation: rate = cell extensibility × turgor. All growth rate responses can in principle be resolved into changes in the 2 latter variables. Extensibility will relate primarily to the yielding properties of the cell wall, turgor primarily to solute uptake or production. Use of this simple relationship in vivo requires that at least 2 of the 3 variables be measured in a growing cell. Extensibility is not amenable to direct measurement. Data on rate and turgor for single Nitella cells can, however, be continuously gathered to permit calculation of extensibility (rate/turgor). Rate is accurately obtained from measurements on time-lapse film. Turgor is estimated in the same cell, to within 0.1 atm or less, by measurement of the ability of the cell to compress gas trapped in the closed end of a capillary the open end of which is in the cell vacuole. The method is independent of osmotic equilibrium. It operates continuously for several days, over a several fold increase in cell length, and has response time of less than one minute. Rapid changes in turgor brought on by changes in tonicity of the medium, show that extensibility, as defined above, is not constant but has a value of zero unless the cell has about 80% of normal turgor. Because elastic changes are small, extensibility relates to growth. Over long periods of treatment in a variety of osmotica the threshold value for extensibility and growth is seen to fall to lower values to permit resumption of growth at reduced turgor. A brief period of rapid growth (5× normal) follows the return to normal turgor. All variables then become normal and the cycle can be repeated. The cell remains essentially at osmotic equilibrium, even while growing at 5× the normal rate. The method has potential for detailed in vivo analyses of “wall softening.”\n",
      "Text: SECTION: Images:\n",
      "\n",
      "\n",
      "Text with Refs: SECTION: Images:\n",
      "\n"
     ]
    }
   ],
   "source": [
    "if p.abstract:\n",
    "    for par in p.abstract:\n",
    "        print(\"Text: \" + par.text)\n",
    "        print()\n",
    "        print(\"Text with Refs: \" + par.text_with_refs)"
   ]
  },
  {
   "cell_type": "code",
   "execution_count": 201,
   "metadata": {},
   "outputs": [
    {
     "name": "stdout",
     "output_type": "stream",
     "text": [
      "Parsing PMCID: 1642104\n"
     ]
    },
    {
     "name": "stdout",
     "output_type": "stream",
     "text": [
      "Parsing PMCID: 3055258\n",
      "Parsing PMCID: 9368675\n",
      "Parsing PMCID: 8073325\n",
      "Parsing PMCID: 3286965\n",
      "Parsing PMCID: 1438516\n",
      "Parsing PMCID: 7192048\n",
      "Parsing PMCID: 5023931\n",
      "Parsing PMCID: 7585360\n",
      "Parsing PMCID: 6969526\n",
      "Parsing PMCID: 5144984\n",
      "Parsing PMCID: 6398706\n",
      "Parsing PMCID: 6696857\n",
      "Parsing PMCID: 4878817\n",
      "Parsing PMCID: 1316399\n",
      "Parsing PMCID: 2499978\n",
      "Parsing PMCID: 9557412\n",
      "Parsing PMCID: 4710385\n",
      "Parsing PMCID: 4535485\n",
      "Parsing PMCID: 7481476\n",
      "Parsing PMCID: 3172388\n",
      "Parsing PMCID: 5085028\n",
      "Parsing PMCID: 6164421\n",
      "Parsing PMCID: 9817286\n",
      "Parsing PMCID: 2604670\n",
      "Parsing PMCID: 3714266\n",
      "Parsing PMCID: 2319835\n",
      "Parsing PMCID: 4651936\n",
      "Parsing PMCID: 8602269\n",
      "Parsing PMCID: 9551734\n",
      "Parsing PMCID: 4188186\n",
      "Parsing PMCID: 3004995\n",
      "Parsing PMCID: 7475481\n",
      "Parsing PMCID: 9982749\n",
      "Parsing PMCID: 8315631\n",
      "Parsing PMCID: 8386866\n",
      "Parsing PMCID: 8970983\n",
      "Parsing PMCID: 8151644\n",
      "Parsing PMCID: 6280527\n",
      "Parsing PMCID: 5418660\n",
      "Parsing PMCID: 8593216\n",
      "Parsing PMCID: 8557594\n",
      "Parsing PMCID: 4248569\n",
      "Parsing PMCID: 9721829\n",
      "Parsing PMCID: 7015234\n",
      "Parsing PMCID: 6120718\n",
      "Parsing PMCID: 6981866\n",
      "Parsing PMCID: 5610932\n",
      "Parsing PMCID: 1234196\n",
      "Parsing PMCID: 8382761\n",
      "['“FRESNO” 1916', 'Correspondence (letter to the editor): Hydrocephalus Should not Be Forgotten', 'Understanding Moral Distress among Eldercare Workers: A Scoping Review', 'Using Digital Platforms to Promote Blood Donation: Motivational and Preliminary Evidence from Latin America and Spain', 'In This Issue', 'PROGRAMS, PRACTICES, PEOPLE', 'Gender differences in eating disorder psychopathology across DSM-5 severity categories of anorexia nervosa and bulimia nervosa', 'Incidence of and Risk Factors for Tuberculosis (TB) in Gastric Cancer Patients in an Area Endemic for TB: A Nationwide Population-based Matched Cohort Study: Erratum', 'Clinical features, laboratory findings and persistence of virus in 10 children with coronavirus disease 2019 (COVID-19)', 'Combinatorial interactions of the LEC1 transcription factor specify diverse developmental programs during soybean seed development', 'Enhancer Sharing Promotes Neighborhoods of Transcriptional Regulation Across Eukaryotes', 'Using specialist screening practitioners (SSPs) to increase uptake of bowel scope (flexible sigmoidoscopy) screening: results of a feasibility single-stage phase II randomised trial', 'Efficacy of a Self-Regulation–Based Electronic and Mobile Health Intervention Targeting an Active Lifestyle in Adults Having Type 2 Diabetes and in Adults Aged 50 Years or Older: Two Randomized Controlled Trials', 'Missed opportunities for prevention of mother-to-child transmission of HIV-1 in the NISDI Perinatal and LILAC cohorts', 'Retinoschisis: Perimetry as a Clue to Diagnosis', None, None, 'Authentic Research Experience and “Big Data” Analysis in the Classroom: Maize Response to Abiotic Stress', 'Revision of the Neotropical Exoristini (Diptera, Tachinidae): The status of the genera Epiplagiops and Tetragrapha', 'Behavioral and Biochemical Effects of KXS on Postmyocardial Infarction Depression', 'Identification of Proline Residues In or Near the Transmembrane Helices of the Human Breast Cancer Resistance Protein (BCRP/ABCG2) Important for Transport Activity and Substrate Specificity^', 'Perceptions of Research Bronchoscopy in Malawian Adults with Pulmonary Tuberculosis: A Cross-Sectional Study', 'The Effectiveness and Cost-Effectiveness of Screening for and Vaccination Against Hepatitis B Virus among Migrants in the EU/EEA: A Systematic Review', 'Theory-based mHealth targeting fathers and mothers to improve exclusive breastfeeding: a quasi-experimental study', 'Data Acquisition and Processing in Biology and Medicine', 'HIV-1 Autologous Antibody Neutralization Associates with Mother to Child Transmission', 'British Medical Association', 'Synovial Chondromatosis of the Temporomandibular Joint Successfully Treated by Surgery', 'Comparative analysis of loop-mediated isothermal amplification (LAMP)-based assays for rapid detection of SARS-CoV-2 genes', None, 'Global issues related to enteric viral infections', 'Sequential Combination of Self Report, Breath Carbon Monoxide, and Saliva Cotinine to Assess Smoking Status', 'Erratum to dexmedetomidine promotes breast cancer cell migration through Rab11-mediated secretion of exosomal TMPRSS2', 'Personal air pollutant exposure monitoring in South African children in the VHEMBE birth cohort', None, 'Regional performance variation in external validation of four prediction models for severity of COVID-19 at hospital admission: An observational multi-centre cohort study', 'Multivitamin Supplementation Is Associated with Greater Adequacy of Gestational Weight Gain among Pregnant Women in Tanzania', '3D Bioprinting of Model Tissues That Mimic the Tumor Microenvironment', 'Advances in multiple omics of natural-killer/T cell lymphoma', 'Exercise adherence in a randomized trial of exercise on aromatase inhibitor arthralgias in breast cancer survivors: The Hormones and Physical Exercise (HOPE) Study', 'APE2 Is a General Regulator of the ATR-Chk1 DNA Damage Response Pathway to Maintain Genome Integrity in Pancreatic Cancer Cells', None, '\\nThe Diffraction Pattern Calculator (DPC) toolkit: a user-friendly approach to unit-cell lattice parameter identification of two-dimensional grazing-incidence wide-angle X-ray scattering data', None, 'Abstract', 'Increased chromosomal mobility after DNA damage is controlled by interactions between the recombination machinery and the checkpoint', 'Percussion Drilling Hole in Cu, Al, Ti and Ni Alloys Using Ultra-Short Pulsed Laser Ablation', 'Impact of Posttraumatic Stress Symptom Dimensions on Amygdala Reactivity to Emotional Faces', 'Modern Trends in Biomechanics', 'Real-space observations of 60-nm skyrmion dynamics in an insulating magnet under low heat flow']\n"
     ]
    }
   ],
   "source": [
    "#Quick check that nothing breaks when downloading 50 papers and parsing them\n",
    "import random\n",
    "pmcids = [random.randint(1000000, 9999999) for _ in range(50)]\n",
    "titles = []\n",
    "#Specify creds and PMCID\n",
    "email = \"danielfrees247@gmail.com\"\n",
    "\n",
    "for pmcid in pmcids:\n",
    "    print(f\"Parsing PMCID: {pmcid}\")\n",
    "    p = paper.Paper.from_pmc(pmcid, email, download=False, suppress_warnings=True)\n",
    "    titles.append(p.title)\n",
    "\n",
    "print(titles)"
   ]
  },
  {
   "cell_type": "code",
   "execution_count": null,
   "metadata": {},
   "outputs": [],
   "source": []
  },
  {
   "cell_type": "code",
   "execution_count": null,
   "metadata": {},
   "outputs": [],
   "source": []
  },
  {
   "cell_type": "code",
   "execution_count": null,
   "metadata": {},
   "outputs": [],
   "source": []
  },
  {
   "cell_type": "code",
   "execution_count": null,
   "metadata": {},
   "outputs": [],
   "source": []
  }
 ],
 "metadata": {
  "interpreter": {
   "hash": "427d4943968a1e3fc165f884a0cbd733d19eb316925f7601ef95e6c86f630a99"
  },
  "kernelspec": {
   "display_name": "Python 3.10.9 64-bit ('scrapemed': conda)",
   "name": "python3"
  },
  "language_info": {
   "codemirror_mode": {
    "name": "ipython",
    "version": 3
   },
   "file_extension": ".py",
   "mimetype": "text/x-python",
   "name": "python",
   "nbconvert_exporter": "python",
   "pygments_lexer": "ipython3",
   "version": "3.10.9"
  },
  "orig_nbformat": 4
 },
 "nbformat": 4,
 "nbformat_minor": 2
}
