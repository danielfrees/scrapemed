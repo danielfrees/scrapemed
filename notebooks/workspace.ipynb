{
 "cells": [
  {
   "cell_type": "markdown",
   "source": [
    "# Workspace for Messy Development Work"
   ],
   "metadata": {}
  },
  {
   "cell_type": "code",
   "execution_count": 1,
   "source": [
    "%load_ext autoreload\n",
    "%autoreload 2\n",
    "import sys\n",
    "sys.path.insert(0, \"../../scrapemed\")\n",
    "\n",
    "import re\n",
    "import warnings\n",
    "import scrapemed._morehtml as mhtml\n",
    "from scrapemed.utils import basicBiMap"
   ],
   "outputs": [],
   "metadata": {}
  },
  {
   "cell_type": "code",
   "execution_count": 2,
   "source": [
    "SAMPLE_TEXT1 = (\"Hello, this is a test for removal of regular \"\n",
    "    \"MHTML tags such as [MHTML::tag], and also typed MHTML tags such as [MHTML::tag_type::tag_value]. \"\n",
    "    \"Anyway, that's about all.\")\n",
    "\n",
    "print(mhtml.remove_mhtml_tags(SAMPLE_TEXT1))"
   ],
   "outputs": [
    {
     "output_type": "stream",
     "name": "stdout",
     "text": [
      "Hello, this is a test for removal of regular MHTML tags such as , and also typed MHTML tags such as . Anyway, that's about all.\n"
     ]
    }
   ],
   "metadata": {}
  },
  {
   "cell_type": "code",
   "execution_count": 3,
   "source": [
    "#removed from the front: <p id=\"Par22\">\n",
    "#removed from the end: </p>\n",
    "SAMPLE_PAR = ('Baseline characteristics for the three studies are shown '\n",
    "    'in Table&#xA0;<xref rid=\"Tab1\" ref-type=\"table\">1</xref>. A total of 35 subjects were '\n",
    "    'randomized in Study 1 and 46 in Study 2. In Study 3, 21 subjects were assigned to treatment. '\n",
    "    'In all three studies, the proportion of males and females was approximately 50%. In Study 3, '\n",
    "    'the majority (62%) of subjects were White, whereas in Studies 1 and 2, the largest proportion '\n",
    "    'of subjects were Black (54% and 41%, respectively). One subject in Study 1 discontinued study '\n",
    "    'drug during the first treatment period due to an inability to swallow study medication, and '\n",
    "    'two subjects in Study 2 discontinued study drug during the first treatment period due to '\n",
    "    'difficulties in collecting PK samples; no PK profiling was possible for these two subjects. '\n",
    "    'All 21 subjects in Study 3 completed treatment and were analyzed for PK metrics and safety.'\n",
    "    '<table-wrap id=\"Tab1\"><label>Table&#xA0;1</label><caption><p>Baseline characteristics</p>'\n",
    "    '</caption><table frame=\"hsides\" rules=\"groups\"><thead><tr><th align=\"left\"/><th align=\"left\">'\n",
    "    'Study 1 [<italic>N&#x2009;</italic>=&#x2009;35]</th><th align=\"left\">Study 2 '\n",
    "    '[<italic>N&#x2009;</italic>=&#x2009;46]</th><th align=\"left\">Study 3 '\n",
    "    '[<italic>N&#x2009;</italic>=&#x2009;21]</th></tr></thead><tbody><tr><td align=\"left\">'\n",
    "    'Sex, male</td><td align=\"left\">18 (51.4)</td><td align=\"left\">25 (54.3)</td><td align=\"left\">'\n",
    "    '10 (47.6)</td></tr><tr><td align=\"left\">Mean age, (years) (SD)</td><td align=\"left\">35.6 (9.4)'\n",
    "    '</td><td align=\"left\">39.3 (9.2)</td><td align=\"left\">14.7 (1.8)</td></tr><tr><td align=\"left\">'\n",
    "    '&#xA0;Age 12&#x2013;14&#xA0;years</td><td align=\"left\">&#x2013;</td><td align=\"left\">&#x2013;'\n",
    "    '</td><td align=\"left\">10 (47.6)</td></tr><tr><td align=\"left\">&#xA0;Age 15&#x2013;17&#xA0;years'\n",
    "    '</td><td align=\"left\">&#x2013;</td><td align=\"left\">&#x2013;</td><td align=\"left\">11 (52.4)'\n",
    "    '</td></tr><tr><td align=\"left\" colspan=\"4\">Race</td></tr><tr><td align=\"left\">&#xA0;White'\n",
    "    '</td><td align=\"left\">4 (11.4)</td><td align=\"left\">9 (19.6)</td><td align=\"left\">13 (61.9)'\n",
    "    '</td></tr><tr><td align=\"left\">&#xA0;Black</td><td align=\"left\">19 (54.3)</td><td align=\"left\">'\n",
    "    '19 (41.3)</td><td align=\"left\">3 (14.3)</td></tr><tr><td align=\"left\">&#xA0;Other</td>'\n",
    "    '<td align=\"left\">12 (34.3)</td><td align=\"left\">18 (39.1)</td><td align=\"left\">'\n",
    "    '5 (23.8)</td></tr><tr><td align=\"left\" colspan=\"4\">Ethnicity</td></tr><tr><td align=\"left\">'\n",
    "    '&#xA0;Hispanic/Latino</td><td align=\"left\">14 (40.0)</td><td align=\"left\">18 (39.1)'\n",
    "    '</td><td align=\"left\">4 (19.0)</td></tr><tr><td align=\"left\">&#xA0;Non-Hispanic/Latino</td>'\n",
    "    '<td align=\"left\">21 (60.0)</td><td align=\"left\">28 (60.9)</td><td align=\"left\">17 (81.0)'\n",
    "    '</td></tr><tr><td align=\"left\">Mean weight, (kg) (SD)</td><td align=\"left\">78.5 (14.1)'\n",
    "    '</td><td align=\"left\">75.4 (12.5)</td><td align=\"left\">56.2 (9.2)</td></tr><tr><td align=\"left\">'\n",
    "    'Mean height, (cm) (SD)</td><td align=\"left\">171.2 (11.4)</td><td align=\"left\">169.9 (8.6)</td>'\n",
    "    '<td align=\"left\">164.3 (7.4)</td></tr><tr><td align=\"left\">Mean BMI, (kg/m<sup>2</sup>) (SD)'\n",
    "    '</td><td align=\"left\">26.6 (3.0)</td><td align=\"left\">26.0 (3.0)</td><td align=\"left\">&#x2013;'\n",
    "    '</td></tr></tbody></table><table-wrap-foot><p>Data are expressed as <italic>n'\n",
    "    '</italic> (%) unless otherwise specified</p><p><italic>BMI</italic> body mass index, '\n",
    "    '<italic>SD</italic> standard deviation</p></table-wrap-foot></table-wrap>')"
   ],
   "outputs": [],
   "metadata": {}
  },
  {
   "cell_type": "code",
   "execution_count": 4,
   "source": [
    "ref_map = basicBiMap()\n",
    "\n",
    "XREF_TAG_NAME = 'xref'\n",
    "FIGURE_TAG_NAME = 'fig'\n",
    "TABLE_TAG_NAME = 'table'\n",
    "TABLEWRAP_TAG_NAME = 'table-wrap'\n",
    "ALLOWED_TAG_NAMES = [XREF_TAG_NAME, FIGURE_TAG_NAME, TABLE_TAG_NAME, TABLEWRAP_TAG_NAME]\n",
    "\n",
    "text = SAMPLE_PAR.strip()\n",
    "text\n",
    "\n",
    "cleaned_text = \"\"\n",
    "#matches an html or xml tag until it either self closes or we reach the closing tag\n",
    "tag_pattern = r'<([a-zA-Z][\\w-]*)\\b[^>]*>(.*?)</\\1>|<([a-zA-Z][\\w-]*)\\b[^/>]*/?>'\n",
    "tag_r = re.compile(tag_pattern, re.DOTALL) #DOTALL used in case of multiline tag spans\n",
    "\n",
    "while len(text) > 0:\n",
    "    match = tag_r.search(text)\n",
    "    if match: #found a tag, append the text prior to the tag and deal w tag\n",
    "\n",
    "        #EAT NEXT TAG AND MATCH PARTS\n",
    "        tag_name = match.group(1)\n",
    "        tag_contents = match.group(2)\n",
    "        full_tag = match.group()\n",
    "\n",
    "        if not tag_name in ALLOWED_TAG_NAMES:\n",
    "            warning_msg = (f\"Tag of type {tag_name} found in a text portion of the provided markup language. \"\n",
    "            f\"Expected only HTML styling tags, or tags from the following list: {ALLOWED_TAG_NAMES}.\")\n",
    "            if id:\n",
    "                warning_msg += f\" Warning occured in a text section with id: {id}.\"\n",
    "            warnings.warn(warning_msg, Warning)\n",
    "\n",
    "        #ADD CONTENTS PRIOR TO TAG \n",
    "        tag_start_index = match.start()\n",
    "        cleaned_text += text[0:tag_start_index] \n",
    "        #also add tag contents if it is an xref.\n",
    "        if tag_name == 'xref':\n",
    "            cleaned_text += tag_contents\n",
    "\n",
    "        #Get reference number for data reference\n",
    "        ref_num = None\n",
    "        if full_tag in ref_map.reverse:\n",
    "            #have we generated a map for this tag before?\n",
    "            ref_num = ref_map.reverse[full_tag]\n",
    "        else:\n",
    "            ref_num = len(ref_map) #new tag, append a new key\n",
    "            ref_map[ref_num] = full_tag #and fill in the tag value\n",
    "\n",
    "        data_ref_tag = mhtml.generate_typed_mhtml_tag(tag_type=\"dataref\", string=str(ref_num))\n",
    "        cleaned_text += f\"{data_ref_tag}\"\n",
    "\n",
    "        #eat through the text that was just processed\n",
    "        text = text[match.end():]\n",
    "\n",
    "    else: #no more tags to deal with, add the last bits to our output text\n",
    "        cleaned_text += text\n",
    "        text = \"\"\n",
    "        \n",
    "print(f\"\\nCleaned Text----------------------------\\n{cleaned_text}\\n----------------------------------------\")\n",
    "print(ref_map)\n"
   ],
   "outputs": [
    {
     "output_type": "stream",
     "name": "stdout",
     "text": [
      "\n",
      "Cleaned Text----------------------------\n",
      "Baseline characteristics for the three studies are shown in Table&#xA0;1[MHTML::dataref::0]. A total of 35 subjects were randomized in Study 1 and 46 in Study 2. In Study 3, 21 subjects were assigned to treatment. In all three studies, the proportion of males and females was approximately 50%. In Study 3, the majority (62%) of subjects were White, whereas in Studies 1 and 2, the largest proportion of subjects were Black (54% and 41%, respectively). One subject in Study 1 discontinued study drug during the first treatment period due to an inability to swallow study medication, and two subjects in Study 2 discontinued study drug during the first treatment period due to difficulties in collecting PK samples; no PK profiling was possible for these two subjects. All 21 subjects in Study 3 completed treatment and were analyzed for PK metrics and safety.[MHTML::dataref::1]\n",
      "----------------------------------------\n",
      "BiMap: {0: '<xref rid=\"Tab1\" ref-type=\"table\">1</xref>', 1: '<table-wrap id=\"Tab1\"><label>Table&#xA0;1</label><caption><p>Baseline characteristics</p></caption><table frame=\"hsides\" rules=\"groups\"><thead><tr><th align=\"left\"/><th align=\"left\">Study 1 [<italic>N&#x2009;</italic>=&#x2009;35]</th><th align=\"left\">Study 2 [<italic>N&#x2009;</italic>=&#x2009;46]</th><th align=\"left\">Study 3 [<italic>N&#x2009;</italic>=&#x2009;21]</th></tr></thead><tbody><tr><td align=\"left\">Sex, male</td><td align=\"left\">18 (51.4)</td><td align=\"left\">25 (54.3)</td><td align=\"left\">10 (47.6)</td></tr><tr><td align=\"left\">Mean age, (years) (SD)</td><td align=\"left\">35.6 (9.4)</td><td align=\"left\">39.3 (9.2)</td><td align=\"left\">14.7 (1.8)</td></tr><tr><td align=\"left\">&#xA0;Age 12&#x2013;14&#xA0;years</td><td align=\"left\">&#x2013;</td><td align=\"left\">&#x2013;</td><td align=\"left\">10 (47.6)</td></tr><tr><td align=\"left\">&#xA0;Age 15&#x2013;17&#xA0;years</td><td align=\"left\">&#x2013;</td><td align=\"left\">&#x2013;</td><td align=\"left\">11 (52.4)</td></tr><tr><td align=\"left\" colspan=\"4\">Race</td></tr><tr><td align=\"left\">&#xA0;White</td><td align=\"left\">4 (11.4)</td><td align=\"left\">9 (19.6)</td><td align=\"left\">13 (61.9)</td></tr><tr><td align=\"left\">&#xA0;Black</td><td align=\"left\">19 (54.3)</td><td align=\"left\">19 (41.3)</td><td align=\"left\">3 (14.3)</td></tr><tr><td align=\"left\">&#xA0;Other</td><td align=\"left\">12 (34.3)</td><td align=\"left\">18 (39.1)</td><td align=\"left\">5 (23.8)</td></tr><tr><td align=\"left\" colspan=\"4\">Ethnicity</td></tr><tr><td align=\"left\">&#xA0;Hispanic/Latino</td><td align=\"left\">14 (40.0)</td><td align=\"left\">18 (39.1)</td><td align=\"left\">4 (19.0)</td></tr><tr><td align=\"left\">&#xA0;Non-Hispanic/Latino</td><td align=\"left\">21 (60.0)</td><td align=\"left\">28 (60.9)</td><td align=\"left\">17 (81.0)</td></tr><tr><td align=\"left\">Mean weight, (kg) (SD)</td><td align=\"left\">78.5 (14.1)</td><td align=\"left\">75.4 (12.5)</td><td align=\"left\">56.2 (9.2)</td></tr><tr><td align=\"left\">Mean height, (cm) (SD)</td><td align=\"left\">171.2 (11.4)</td><td align=\"left\">169.9 (8.6)</td><td align=\"left\">164.3 (7.4)</td></tr><tr><td align=\"left\">Mean BMI, (kg/m<sup>2</sup>) (SD)</td><td align=\"left\">26.6 (3.0)</td><td align=\"left\">26.0 (3.0)</td><td align=\"left\">&#x2013;</td></tr></tbody></table><table-wrap-foot><p>Data are expressed as <italic>n</italic> (%) unless otherwise specified</p><p><italic>BMI</italic> body mass index, <italic>SD</italic> standard deviation</p></table-wrap-foot></table-wrap>'}\n"
     ]
    }
   ],
   "metadata": {}
  },
  {
   "cell_type": "code",
   "execution_count": null,
   "source": [],
   "outputs": [],
   "metadata": {}
  },
  {
   "cell_type": "code",
   "execution_count": null,
   "source": [],
   "outputs": [],
   "metadata": {}
  }
 ],
 "metadata": {
  "orig_nbformat": 4,
  "language_info": {
   "name": "python",
   "version": "3.10.9",
   "mimetype": "text/x-python",
   "codemirror_mode": {
    "name": "ipython",
    "version": 3
   },
   "pygments_lexer": "ipython3",
   "nbconvert_exporter": "python",
   "file_extension": ".py"
  },
  "kernelspec": {
   "name": "python3",
   "display_name": "Python 3.10.9 64-bit ('scrapemed': conda)"
  },
  "interpreter": {
   "hash": "427d4943968a1e3fc165f884a0cbd733d19eb316925f7601ef95e6c86f630a99"
  }
 },
 "nbformat": 4,
 "nbformat_minor": 2
}