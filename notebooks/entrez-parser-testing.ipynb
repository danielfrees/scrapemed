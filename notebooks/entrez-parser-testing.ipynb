{
 "cells": [
  {
   "cell_type": "code",
   "execution_count": 1,
   "source": [
    "%load_ext autoreload\n",
    "%autoreload 2\n",
    "import sys\n",
    "sys.path.insert(0, \"../../scrapemed\")\n",
    "\n",
    "import pandas as pd\n",
    "import numpy as np\n",
    "import re\n",
    "import lxml.etree as ET\n",
    "import scrapemed.scrape as scrape\n",
    "import scrapemed.trees as trees\n",
    "import scrapemed._clean as _clean\n",
    "import scrapemed._validate as _validate\n",
    "from Bio import Entrez \n",
    "from urllib.error import HTTPError\n",
    "\n",
    "pd.set_option('display.max_columns', None)\n",
    "pd.set_option('display.max_rows', None)"
   ],
   "outputs": [],
   "metadata": {}
  },
  {
   "cell_type": "code",
   "execution_count": 2,
   "source": [
    "def view_record_index(records, i, verbose = False):\n",
    "    record = records[i]\n",
    "    print(f\"----------Record #{i} Returned:-------------------\\n{record}\\n\")\n",
    "    print(f\"----------Record #{i} Front:---------------------- \\n{record['front']}\\n\")\n",
    "    print(f\"----------Record #{i} Body:---------------------- \\n{record['body']}\\n\")\n",
    "    try:\n",
    "        p = record['body']['sec']['p']\n",
    "        print(f\"\\nSample paragraph: {p}\")\n",
    "        print(f\"\\nParagraph items: {p.items()}\")\n",
    "        print(f\"\\nParagraph values: {p.values()}\")\n",
    "        if verbose:\n",
    "            print(f\"\\n...Iterating Paragraph Attrs...\\n\")\n",
    "            for attr in dir(p):\n",
    "                if not attr.startswith(\"__\"):\n",
    "                    attr_value = getattr(p, attr)\n",
    "                    if not callable(attr_value):\n",
    "                        print(\"\\nNon-Callable Attr:\\n\")\n",
    "                        print(f\"{attr}: {attr_value}\")\n",
    "\n",
    "            for attr in dir(p):\n",
    "                if not attr.startswith(\"__\"):\n",
    "                    if callable(attr_value):\n",
    "                        print(f\"\\nCallable Attr {attr}:\\n\")\n",
    "                        try:\n",
    "                            attr_value()\n",
    "                        except TypeError as e:\n",
    "                            print(f\"{attr_value} gave Type Error: {e}\")\n",
    "                        except KeyError as e:\n",
    "                            print(f\"{attr_value} gave Key Error: {e}\")\n",
    "    except TypeError as e:\n",
    "        pass\n",
    "    except KeyError as e:\n",
    "        pass\n",
    "    print(f\"---------------------------------------------\\n\")\n",
    "\n",
    "\n",
    "def get_records_and_view(pmcid_list):\n",
    "    #Specify creds and PMCID\n",
    "    EMAIL = \"danielfrees247@gmail.com\"\n",
    "    DB = 'pmc'\n",
    "    RETTYPE = 'full'\n",
    "    RETMODE = 'xml'\n",
    "    Entrez.email = EMAIL\n",
    "\n",
    "    #Actually fetch from PMC\n",
    "    handle = Entrez.efetch(db = DB, id = pmcid_list, rettype = RETTYPE, retmode = RETMODE)\n",
    "    records = Entrez.read(handle)\n",
    "\n",
    "    for i in range(len(records)):\n",
    "        view_record_index(records, i)"
   ],
   "outputs": [],
   "metadata": {}
  },
  {
   "cell_type": "code",
   "execution_count": 3,
   "source": [
    "get_records_and_view(pmcid_list = [7067710])"
   ],
   "outputs": [
    {
     "output_type": "stream",
     "name": "stdout",
     "text": [
      "----------Record #0 Returned:-------------------\n",
      "DictElement({'front': {'journal-meta': {'journal-id': DictElement({}, attributes={'journal-id-type': 'iso-abbrev'}), 'journal-title-group': {'journal-title': {}}, 'issn': DictElement({}, attributes={'pub-type': 'epub'}), 'publisher': {'publisher-name': {}, 'publisher-loc': {}}}, 'article-meta': {'article-id': DictElement({}, attributes={'pub-id-type': 'doi'}), 'article-categories': {'subj-group': DictElement({'subject': {}}, attributes={'subj-group-type': 'heading'})}, 'title-group': {'article-title': {}}, 'contrib-group': {'contrib': DictElement({'name': {'surname': {}, 'given-names': {}}, 'xref': DictElement({}, attributes={'ref-type': 'aff', 'rid': 'Aff5'})}, attributes={'contrib-type': 'author'}), 'aff': DictElement({'label': {}}, attributes={'id': 'Aff6'})}, 'pub-date': DictElement({'month': {}, 'year': {}}, attributes={'pub-type': 'ppub'}), 'volume': {}, 'issue': {}, 'fpage': {}, 'lpage': {}, 'permissions': {'copyright-statement': {}, 'license': DictElement({'license-p': {'bold': {}, 'ext-link': DictElement({}, attributes={'ext-link-type': 'uri', 'http://www.w3.org/1999/xlink href': 'http://creativecommons.org/licenses/by-nc/4.0/'})}}, attributes={'license-type': 'OpenAccess'})}, 'abstract': DictElement({'sec': {'title': {}, 'p': DictElement({}, attributes={'id': 'Par4'})}}, attributes={'id': 'Abs1'}), 'funding-group': {'award-group': {'funding-source': {'institution': {}}}}, 'custom-meta-group': {'custom-meta': {'meta-name': {}, 'meta-value': {}}}}}, 'body': {'sec': DictElement({'title': {}, 'p': DictElement({'italic': {}, 'sub': {}}, attributes={'id': 'Par38'})}, attributes={'id': 'Sec15'})}, 'back': {'fn-group': {'fn': {'p': {}}}, 'ack': {'title': {}, 'p': {}}, 'notes': {'title': {}, 'notes': {'title': {}, 'p': DictElement({}, attributes={'id': 'Par42'})}}, 'ref-list': DictElement({'title': {}, 'ref': DictElement({'label': {}, 'element-citation': DictElement({'person-group': DictElement({'name': {'surname': {}, 'given-names': {}}}, attributes={'person-group-type': 'author'}), 'article-title': {}, 'source': {}, 'year': {}, 'volume': {}, 'fpage': {}, 'lpage': {}, 'pub-id': DictElement({}, attributes={'pub-id-type': 'pmid'})}, attributes={'publication-type': 'journal'})}, attributes={'id': 'CR28'})}, attributes={'id': 'Bib1'})}}, attributes={'article-type': 'research-article'})\n",
      "\n",
      "----------Record #0 Front:---------------------- \n",
      "{'journal-meta': {'journal-id': DictElement({}, attributes={'journal-id-type': 'iso-abbrev'}), 'journal-title-group': {'journal-title': {}}, 'issn': DictElement({}, attributes={'pub-type': 'epub'}), 'publisher': {'publisher-name': {}, 'publisher-loc': {}}}, 'article-meta': {'article-id': DictElement({}, attributes={'pub-id-type': 'doi'}), 'article-categories': {'subj-group': DictElement({'subject': {}}, attributes={'subj-group-type': 'heading'})}, 'title-group': {'article-title': {}}, 'contrib-group': {'contrib': DictElement({'name': {'surname': {}, 'given-names': {}}, 'xref': DictElement({}, attributes={'ref-type': 'aff', 'rid': 'Aff5'})}, attributes={'contrib-type': 'author'}), 'aff': DictElement({'label': {}}, attributes={'id': 'Aff6'})}, 'pub-date': DictElement({'month': {}, 'year': {}}, attributes={'pub-type': 'ppub'}), 'volume': {}, 'issue': {}, 'fpage': {}, 'lpage': {}, 'permissions': {'copyright-statement': {}, 'license': DictElement({'license-p': {'bold': {}, 'ext-link': DictElement({}, attributes={'ext-link-type': 'uri', 'http://www.w3.org/1999/xlink href': 'http://creativecommons.org/licenses/by-nc/4.0/'})}}, attributes={'license-type': 'OpenAccess'})}, 'abstract': DictElement({'sec': {'title': {}, 'p': DictElement({}, attributes={'id': 'Par4'})}}, attributes={'id': 'Abs1'}), 'funding-group': {'award-group': {'funding-source': {'institution': {}}}}, 'custom-meta-group': {'custom-meta': {'meta-name': {}, 'meta-value': {}}}}}\n",
      "\n",
      "----------Record #0 Body:---------------------- \n",
      "{'sec': DictElement({'title': {}, 'p': DictElement({'italic': {}, 'sub': {}}, attributes={'id': 'Par38'})}, attributes={'id': 'Sec15'})}\n",
      "\n",
      "\n",
      "Sample paragraph: DictElement({'italic': {}, 'sub': {}}, attributes={'id': 'Par38'})\n",
      "\n",
      "Paragraph items: dict_items([('italic', {}), ('sub', {})])\n",
      "\n",
      "Paragraph values: dict_values([{}, {}])\n",
      "---------------------------------------------\n",
      "\n"
     ]
    }
   ],
   "metadata": {}
  },
  {
   "cell_type": "code",
   "execution_count": 4,
   "source": [
    "handle = Entrez.esearch(db=\"pmc\", retmax=10, term=\"drug\")\n",
    "record = Entrez.read(handle)\n",
    "handle.close()\n",
    "drug_article_sample = record['IdList']\n",
    "drug_article_sample"
   ],
   "outputs": [
    {
     "output_type": "execute_result",
     "data": {
      "text/plain": [
       "['10191793', '10191786', '10191785', '10191755', '10191748', '10191746', '10191738', '10191736', '10191730', '10191713']"
      ]
     },
     "metadata": {},
     "execution_count": 4
    }
   ],
   "metadata": {}
  },
  {
   "cell_type": "code",
   "execution_count": 5,
   "source": [
    "dtd_list = []\n",
    "\n",
    "#Specify creds and PMCID\n",
    "EMAIL = \"danielfrees247@gmail.com\"\n",
    "DB = 'pmc'\n",
    "RETTYPE = 'full'\n",
    "RETMODE = 'xml'\n",
    "Entrez.email = EMAIL\n",
    "\n",
    "#Actually fetch from PMC\n",
    "pmcid_list = drug_article_sample\n",
    "handle.close()\n",
    "for pmcid in pmcid_list:\n",
    "    try:\n",
    "        record = scrape.get_xml(pmcid = pmcid, email = EMAIL, validate = False)\n",
    "    except ET.XMLSyntaxError as e:\n",
    "        print(\"Found a bad XML.\")\n",
    "    except HTTPError as e:\n",
    "        print(\"HTTP Error with Entrez servers.\")\n",
    "    dtd_url_pattern = re.compile(r'\"(https?://\\S+)\"')\n",
    "    match = dtd_url_pattern.search(record.docinfo.doctype)\n",
    "\n",
    "    if match:\n",
    "        url = match.group(1)\n",
    "        dtd_list.append(url)\n",
    "    else:\n",
    "        print(\"Failed to find DTD!\")"
   ],
   "outputs": [
    {
     "output_type": "stream",
     "name": "stderr",
     "text": [
      "validationWarning: 'Warning! Scraping XML for PMCID 10191793 from PMC without validating.'\n",
      "\n",
      "validationWarning: 'Warning! Scraping XML for PMCID 10191786 from PMC without validating.'\n",
      "\n",
      "validationWarning: 'Warning! Scraping XML for PMCID 10191785 from PMC without validating.'\n",
      "\n",
      "validationWarning: 'Warning! Scraping XML for PMCID 10191755 from PMC without validating.'\n",
      "\n",
      "validationWarning: 'Warning! Scraping XML for PMCID 10191748 from PMC without validating.'\n",
      "\n",
      "validationWarning: 'Warning! Scraping XML for PMCID 10191746 from PMC without validating.'\n",
      "\n",
      "validationWarning: 'Warning! Scraping XML for PMCID 10191738 from PMC without validating.'\n",
      "\n",
      "validationWarning: 'Warning! Scraping XML for PMCID 10191736 from PMC without validating.'\n",
      "\n",
      "validationWarning: 'Warning! Scraping XML for PMCID 10191730 from PMC without validating.'\n",
      "\n",
      "validationWarning: 'Warning! Scraping XML for PMCID 10191713 from PMC without validating.'\n",
      "\n"
     ]
    }
   ],
   "metadata": {}
  },
  {
   "cell_type": "code",
   "execution_count": 6,
   "source": [
    "#WRITE OUT SCAN RESULTS\n",
    "print(f\"# of DTDs found: {len(dtd_list)}\\n\")\n",
    "dtd_set = set(dtd_list)\n",
    "print(f\"Unique DTDs: {dtd_set}\\n\")\n",
    "with open('dtd_list.txt', 'w') as f:\n",
    "    f.write(f\"# of DTDs found: {len(dtd_list)}\\n\")\n",
    "    f.write(str(dtd_list))\n",
    "with open('dtd_set.txt', 'w') as f:\n",
    "    f.write(str(dtd_set))"
   ],
   "outputs": [
    {
     "output_type": "stream",
     "name": "stdout",
     "text": [
      "# of DTDs found: 10\n",
      "\n",
      "Unique DTDs: {'https://dtd.nlm.nih.gov/ncbi/pmc/articleset/nlm-articleset-2.0.dtd'}\n",
      "\n"
     ]
    }
   ],
   "metadata": {}
  },
  {
   "cell_type": "code",
   "execution_count": 7,
   "source": [
    "\n",
    "#get_records_and_view(drug_article_sample)\n"
   ],
   "outputs": [],
   "metadata": {}
  },
  {
   "cell_type": "code",
   "execution_count": 8,
   "source": [
    "def get_pmc_dtd_list(search_term, retmax=10):\n",
    "    dtd_list = []\n",
    "\n",
    "    #Specify creds and PMCID\n",
    "    EMAIL = \"danielfrees247@gmail.com\"\n",
    "    DB = 'pmc'\n",
    "    RETTYPE = 'full'\n",
    "    RETMODE = 'xml'\n",
    "    Entrez.email = EMAIL\n",
    "\n",
    "    #Actually fetch from PMC\n",
    "    handle = Entrez.esearch(db = DB, retmax = retmax, term = search_term)\n",
    "    pmcid_list = Entrez.read(handle)\n",
    "    handle.close()\n",
    "    for pmcid in pmcid_list:\n",
    "        record = scrape.get_xml(pmcid = pmcid, email = EMAIL, validate = False)\n",
    "        dtd_url_pattern = re.compile(r'\"(https?://\\S+)\"')\n",
    "        match = dtd_url_pattern.search(record.docinfo.doctype)\n",
    "\n",
    "        if match:\n",
    "            url = match.group(1)\n",
    "            dtd_list.append(url)\n",
    "        else:\n",
    "            print(\"Failed to find DTD!\")\n",
    "    \n",
    "    return dtd_list\n",
    "    "
   ],
   "outputs": [],
   "metadata": {}
  },
  {
   "cell_type": "code",
   "execution_count": 9,
   "source": [
    "\n",
    "#get_pmc_dtd_list('drug')\n"
   ],
   "outputs": [],
   "metadata": {}
  },
  {
   "cell_type": "code",
   "execution_count": 10,
   "source": [
    "dtd_list = []\n",
    "#Specify creds and PMCID\n",
    "EMAIL = \"danielfrees247@gmail.com\"\n",
    "DB = 'pmc'\n",
    "RETTYPE = 'full'\n",
    "RETMODE = 'xml'\n",
    "Entrez.email = EMAIL\n",
    "pmcid = 10156464\n",
    "record = scrape.get_xml(pmcid = pmcid, email = EMAIL, validate = False)\n",
    "dtd_list.append(record.docinfo.public_id)\n",
    "\n",
    "print(type(record))\n",
    "\n",
    "\n",
    "\n",
    "\n",
    "dtd_list"
   ],
   "outputs": [
    {
     "output_type": "stream",
     "name": "stdout",
     "text": [
      "<class 'lxml.etree._ElementTree'>\n"
     ]
    },
    {
     "output_type": "stream",
     "name": "stderr",
     "text": [
      "validationWarning: 'Warning! Scraping XML for PMCID 10156464 from PMC without validating.'\n",
      "\n"
     ]
    },
    {
     "output_type": "execute_result",
     "data": {
      "text/plain": [
       "['-//NLM//DTD ARTICLE SET 2.0//EN']"
      ]
     },
     "metadata": {},
     "execution_count": 10
    }
   ],
   "metadata": {}
  },
  {
   "cell_type": "markdown",
   "source": [],
   "metadata": {}
  },
  {
   "cell_type": "code",
   "execution_count": null,
   "source": [
    "\n"
   ],
   "outputs": [],
   "metadata": {}
  },
  {
   "cell_type": "code",
   "execution_count": null,
   "source": [],
   "outputs": [],
   "metadata": {}
  }
 ],
 "metadata": {
  "orig_nbformat": 4,
  "language_info": {
   "name": "python",
   "version": "3.10.9",
   "mimetype": "text/x-python",
   "codemirror_mode": {
    "name": "ipython",
    "version": 3
   },
   "pygments_lexer": "ipython3",
   "nbconvert_exporter": "python",
   "file_extension": ".py"
  },
  "kernelspec": {
   "name": "python3",
   "display_name": "Python 3.10.9 64-bit ('scrapemed': conda)"
  },
  "interpreter": {
   "hash": "427d4943968a1e3fc165f884a0cbd733d19eb316925f7601ef95e6c86f630a99"
  }
 },
 "nbformat": 4,
 "nbformat_minor": 2
}