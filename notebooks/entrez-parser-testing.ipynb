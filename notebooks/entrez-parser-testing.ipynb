{
 "cells": [
  {
   "cell_type": "code",
   "execution_count": 1,
   "source": [
    "%load_ext autoreload\n",
    "%autoreload 2\n",
    "import sys\n",
    "sys.path.insert(0, \"../../scrapemed\")\n",
    "\n",
    "import pandas as pd\n",
    "import numpy as np\n",
    "import re\n",
    "import lxml.etree as ET\n",
    "import scrapemed.scrape as scrape\n",
    "import scrapemed.trees as trees\n",
    "import scrapemed._clean as _clean\n",
    "import scrapemed._validate as _validate\n",
    "from Bio import Entrez \n",
    "\n",
    "pd.set_option('display.max_columns', None)\n",
    "pd.set_option('display.max_rows', None)"
   ],
   "outputs": [],
   "metadata": {}
  },
  {
   "cell_type": "code",
   "execution_count": 20,
   "source": [
    "def view_record_index(records, i, verbose = False):\n",
    "    record = records[i]\n",
    "    print(f\"----------Record #{i} Returned:-------------------\\n{record}\")\n",
    "    try:\n",
    "        p = record['body']['sec']['p']\n",
    "        print(f\"\\nSample paragraph: {p}\")\n",
    "        print(f\"\\nParagraph items: {p.items()}\")\n",
    "        print(f\"\\nParagraph values: {p.values()}\")\n",
    "        if verbose:\n",
    "            print(f\"\\n...Iterating Paragraph Attrs...\\n\")\n",
    "            for attr in dir(p):\n",
    "                if not attr.startswith(\"__\"):\n",
    "                    attr_value = getattr(p, attr)\n",
    "                    if not callable(attr_value):\n",
    "                        print(\"\\nNon-Callable Attr:\\n\")\n",
    "                        print(f\"{attr}: {attr_value}\")\n",
    "\n",
    "            for attr in dir(p):\n",
    "                if not attr.startswith(\"__\"):\n",
    "                    if callable(attr_value):\n",
    "                        print(f\"\\nCallable Attr {attr}:\\n\")\n",
    "                        try:\n",
    "                            attr_value()\n",
    "                        except TypeError as e:\n",
    "                            print(f\"{attr_value} gave Type Error: {e}\")\n",
    "                        except KeyError as e:\n",
    "                            print(f\"{attr_value} gave Key Error: {e}\")\n",
    "    except TypeError as e:\n",
    "        pass\n",
    "    except KeyError as e:\n",
    "        pass\n",
    "    print(f\"---------------------------------------------\\n\")\n",
    "\n",
    "\n",
    "def get_records_and_view(pmcid_list):\n",
    "    #Specify creds and PMCID\n",
    "    EMAIL = \"danielfrees247@gmail.com\"\n",
    "    DB = 'pmc'\n",
    "    RETTYPE = 'full'\n",
    "    RETMODE = 'xml'\n",
    "    Entrez.email = EMAIL\n",
    "\n",
    "    #Actually fetch from PMC\n",
    "    handle = Entrez.efetch(db = DB, id = pmcid_list, rettype = RETTYPE, retmode = RETMODE)\n",
    "    records = Entrez.read(handle)\n",
    "\n",
    "    for i in range(len(records)):\n",
    "        view_record_index(records, i)"
   ],
   "outputs": [],
   "metadata": {}
  },
  {
   "cell_type": "code",
   "execution_count": 21,
   "source": [
    "get_records_and_view(pmcid_list = [7067710])"
   ],
   "outputs": [
    {
     "output_type": "stream",
     "name": "stdout",
     "text": [
      "----------Record #0 Returned:-------------------\n",
      "DictElement({'front': {'journal-meta': {'journal-id': DictElement({}, attributes={'journal-id-type': 'iso-abbrev'}), 'journal-title-group': {'journal-title': {}}, 'issn': DictElement({}, attributes={'pub-type': 'epub'}), 'publisher': {'publisher-name': {}, 'publisher-loc': {}}}, 'article-meta': {'article-id': DictElement({}, attributes={'pub-id-type': 'doi'}), 'article-categories': {'subj-group': DictElement({'subject': {}}, attributes={'subj-group-type': 'heading'})}, 'title-group': {'article-title': {}}, 'contrib-group': {'contrib': DictElement({'name': {'surname': {}, 'given-names': {}}, 'xref': DictElement({}, attributes={'ref-type': 'aff', 'rid': 'Aff5'})}, attributes={'contrib-type': 'author'}), 'aff': DictElement({'label': {}}, attributes={'id': 'Aff6'})}, 'pub-date': DictElement({'month': {}, 'year': {}}, attributes={'pub-type': 'ppub'}), 'volume': {}, 'issue': {}, 'fpage': {}, 'lpage': {}, 'permissions': {'copyright-statement': {}, 'license': DictElement({'license-p': {'bold': {}, 'ext-link': DictElement({}, attributes={'ext-link-type': 'uri', 'http://www.w3.org/1999/xlink href': 'http://creativecommons.org/licenses/by-nc/4.0/'})}}, attributes={'license-type': 'OpenAccess'})}, 'abstract': DictElement({'sec': {'title': {}, 'p': DictElement({}, attributes={'id': 'Par4'})}}, attributes={'id': 'Abs1'}), 'funding-group': {'award-group': {'funding-source': {'institution': {}}}}, 'custom-meta-group': {'custom-meta': {'meta-name': {}, 'meta-value': {}}}}}, 'body': {'sec': DictElement({'title': {}, 'p': DictElement({'italic': {}, 'sub': {}}, attributes={'id': 'Par38'})}, attributes={'id': 'Sec15'})}, 'back': {'fn-group': {'fn': {'p': {}}}, 'ack': {'title': {}, 'p': {}}, 'notes': {'title': {}, 'notes': {'title': {}, 'p': DictElement({}, attributes={'id': 'Par42'})}}, 'ref-list': DictElement({'title': {}, 'ref': DictElement({'label': {}, 'element-citation': DictElement({'person-group': DictElement({'name': {'surname': {}, 'given-names': {}}}, attributes={'person-group-type': 'author'}), 'article-title': {}, 'source': {}, 'year': {}, 'volume': {}, 'fpage': {}, 'lpage': {}, 'pub-id': DictElement({}, attributes={'pub-id-type': 'pmid'})}, attributes={'publication-type': 'journal'})}, attributes={'id': 'CR28'})}, attributes={'id': 'Bib1'})}}, attributes={'article-type': 'research-article'})\n",
      "\n",
      "Sample paragraph: DictElement({'italic': {}, 'sub': {}}, attributes={'id': 'Par38'})\n",
      "\n",
      "Paragraph items: dict_items([('italic', {}), ('sub', {})])\n",
      "\n",
      "Paragraph values: dict_values([{}, {}])\n",
      "---------------------------------------------\n",
      "\n"
     ]
    }
   ],
   "metadata": {}
  },
  {
   "cell_type": "code",
   "execution_count": 34,
   "source": [
    "handle = Entrez.esearch(db=\"pmc\", retmax=100, term=\"drug\")\n",
    "record = Entrez.read(handle)\n",
    "handle.close()\n",
    "drug_article_sample = record['IdList']\n",
    "drug_article_sample"
   ],
   "outputs": [
    {
     "output_type": "execute_result",
     "data": {
      "text/plain": [
       "['10156464', '10156460', '10156452', '10156445', '10156439', '10156411', '10156174', '10156167', '10156161', '10156151', '10156126', '10156123', '10156121', '10156119', '10156104', '10156058', '10156006', '10155988', '10155987', '10155984', '10155980', '10155961', '10155953', '10155949', '10155941', '10155913', '10155901', '10155898', '10155890', '10155872', '10155836', '10155833', '10155817', '10155808', '10155778', '10155777', '10155759', '10155755', '10155746', '10155742', '10155741', '10155735', '10155713', '10155709', '10155705', '10155702', '10155701', '10155692', '10155686', '10155676', '10155675', '10155631', '10155618', '10155609', '10155607', '10155601', '10155597', '10155591', '10155587', '10155584', '10155580', '10155578', '10155577', '10155572', '10155559', '10155557', '10155531', '10155514', '10155506', '10155495', '10155491', '10155484', '10155480', '10155476', '10155474', '10155470', '10155461', '10155453', '10155448', '10155445', '10155432', '10155429', '10155424', '10155404', '10155401', '10155393', '10155387', '10155385', '10155382', '10155363', '10155358', '10155355', '10155349', '10155346', '10155334', '10155318', '10155315', '10155313', '10155305', '10155244']"
      ]
     },
     "metadata": {},
     "execution_count": 34
    }
   ],
   "metadata": {}
  },
  {
   "cell_type": "code",
   "execution_count": 64,
   "source": [
    "dtd_list = []\n",
    "\n",
    "#Specify creds and PMCID\n",
    "EMAIL = \"danielfrees247@gmail.com\"\n",
    "DB = 'pmc'\n",
    "RETTYPE = 'full'\n",
    "RETMODE = 'xml'\n",
    "Entrez.email = EMAIL\n",
    "\n",
    "#Actually fetch from PMC\n",
    "pmcid_list = drug_article_sample\n",
    "handle.close()\n",
    "for pmcid in pmcid_list:\n",
    "    try:\n",
    "        record = scrape.get_xml(pmcid = pmcid, email = EMAIL, validate = False)\n",
    "    except ET.XMLSyntaxError as e:\n",
    "        print(\"Found a bad XML.\")\n",
    "    dtd_url_pattern = re.compile(r'\"(https?://\\S+)\"')\n",
    "    match = dtd_url_pattern.search(record.docinfo.doctype)\n",
    "\n",
    "    if match:\n",
    "        url = match.group(1)\n",
    "        dtd_list.append(url)\n",
    "    else:\n",
    "        print(\"Failed to find DTD!\")"
   ],
   "outputs": [
    {
     "output_type": "stream",
     "name": "stderr",
     "text": [
      "validationWarning: 'Warning! Scraping XML for PMCID 10156464 from PMC without validating.'\n",
      "\n",
      "validationWarning: 'Warning! Scraping XML for PMCID 10156460 from PMC without validating.'\n",
      "\n",
      "validationWarning: 'Warning! Scraping XML for PMCID 10156452 from PMC without validating.'\n",
      "\n",
      "validationWarning: 'Warning! Scraping XML for PMCID 10156445 from PMC without validating.'\n",
      "\n",
      "validationWarning: 'Warning! Scraping XML for PMCID 10156439 from PMC without validating.'\n",
      "\n",
      "validationWarning: 'Warning! Scraping XML for PMCID 10156411 from PMC without validating.'\n",
      "\n",
      "validationWarning: 'Warning! Scraping XML for PMCID 10156174 from PMC without validating.'\n",
      "\n"
     ]
    },
    {
     "output_type": "stream",
     "name": "stdout",
     "text": [
      "Found a bad XML.\n"
     ]
    },
    {
     "output_type": "stream",
     "name": "stderr",
     "text": [
      "validationWarning: 'Warning! Scraping XML for PMCID 10156161 from PMC without validating.'\n",
      "\n",
      "validationWarning: 'Warning! Scraping XML for PMCID 10156151 from PMC without validating.'\n",
      "\n"
     ]
    },
    {
     "output_type": "stream",
     "name": "stdout",
     "text": [
      "Found a bad XML.\n"
     ]
    },
    {
     "output_type": "stream",
     "name": "stderr",
     "text": [
      "validationWarning: 'Warning! Scraping XML for PMCID 10156123 from PMC without validating.'\n",
      "\n",
      "validationWarning: 'Warning! Scraping XML for PMCID 10156121 from PMC without validating.'\n",
      "\n",
      "validationWarning: 'Warning! Scraping XML for PMCID 10156119 from PMC without validating.'\n",
      "\n",
      "validationWarning: 'Warning! Scraping XML for PMCID 10156104 from PMC without validating.'\n",
      "\n",
      "validationWarning: 'Warning! Scraping XML for PMCID 10156058 from PMC without validating.'\n",
      "\n",
      "validationWarning: 'Warning! Scraping XML for PMCID 10156006 from PMC without validating.'\n",
      "\n",
      "validationWarning: 'Warning! Scraping XML for PMCID 10155988 from PMC without validating.'\n",
      "\n"
     ]
    },
    {
     "output_type": "stream",
     "name": "stdout",
     "text": [
      "Found a bad XML.\n"
     ]
    },
    {
     "output_type": "stream",
     "name": "stderr",
     "text": [
      "validationWarning: 'Warning! Scraping XML for PMCID 10155984 from PMC without validating.'\n",
      "\n",
      "validationWarning: 'Warning! Scraping XML for PMCID 10155980 from PMC without validating.'\n",
      "\n",
      "validationWarning: 'Warning! Scraping XML for PMCID 10155961 from PMC without validating.'\n",
      "\n",
      "validationWarning: 'Warning! Scraping XML for PMCID 10155953 from PMC without validating.'\n",
      "\n"
     ]
    },
    {
     "output_type": "stream",
     "name": "stdout",
     "text": [
      "Found a bad XML.\n"
     ]
    },
    {
     "output_type": "stream",
     "name": "stderr",
     "text": [
      "validationWarning: 'Warning! Scraping XML for PMCID 10155941 from PMC without validating.'\n",
      "\n",
      "validationWarning: 'Warning! Scraping XML for PMCID 10155913 from PMC without validating.'\n",
      "\n",
      "validationWarning: 'Warning! Scraping XML for PMCID 10155901 from PMC without validating.'\n",
      "\n",
      "validationWarning: 'Warning! Scraping XML for PMCID 10155898 from PMC without validating.'\n",
      "\n",
      "validationWarning: 'Warning! Scraping XML for PMCID 10155890 from PMC without validating.'\n",
      "\n",
      "validationWarning: 'Warning! Scraping XML for PMCID 10155872 from PMC without validating.'\n",
      "\n",
      "validationWarning: 'Warning! Scraping XML for PMCID 10155836 from PMC without validating.'\n",
      "\n",
      "validationWarning: 'Warning! Scraping XML for PMCID 10155833 from PMC without validating.'\n",
      "\n",
      "validationWarning: 'Warning! Scraping XML for PMCID 10155817 from PMC without validating.'\n",
      "\n",
      "validationWarning: 'Warning! Scraping XML for PMCID 10155808 from PMC without validating.'\n",
      "\n",
      "validationWarning: 'Warning! Scraping XML for PMCID 10155778 from PMC without validating.'\n",
      "\n",
      "validationWarning: 'Warning! Scraping XML for PMCID 10155777 from PMC without validating.'\n",
      "\n",
      "validationWarning: 'Warning! Scraping XML for PMCID 10155759 from PMC without validating.'\n",
      "\n",
      "validationWarning: 'Warning! Scraping XML for PMCID 10155755 from PMC without validating.'\n",
      "\n",
      "validationWarning: 'Warning! Scraping XML for PMCID 10155746 from PMC without validating.'\n",
      "\n",
      "validationWarning: 'Warning! Scraping XML for PMCID 10155742 from PMC without validating.'\n",
      "\n",
      "validationWarning: 'Warning! Scraping XML for PMCID 10155741 from PMC without validating.'\n",
      "\n"
     ]
    },
    {
     "output_type": "stream",
     "name": "stdout",
     "text": [
      "Found a bad XML.\n"
     ]
    },
    {
     "output_type": "stream",
     "name": "stderr",
     "text": [
      "validationWarning: 'Warning! Scraping XML for PMCID 10155713 from PMC without validating.'\n",
      "\n",
      "validationWarning: 'Warning! Scraping XML for PMCID 10155709 from PMC without validating.'\n",
      "\n",
      "validationWarning: 'Warning! Scraping XML for PMCID 10155705 from PMC without validating.'\n",
      "\n",
      "validationWarning: 'Warning! Scraping XML for PMCID 10155702 from PMC without validating.'\n",
      "\n",
      "validationWarning: 'Warning! Scraping XML for PMCID 10155701 from PMC without validating.'\n",
      "\n",
      "validationWarning: 'Warning! Scraping XML for PMCID 10155692 from PMC without validating.'\n",
      "\n",
      "validationWarning: 'Warning! Scraping XML for PMCID 10155686 from PMC without validating.'\n",
      "\n",
      "validationWarning: 'Warning! Scraping XML for PMCID 10155676 from PMC without validating.'\n",
      "\n",
      "validationWarning: 'Warning! Scraping XML for PMCID 10155675 from PMC without validating.'\n",
      "\n",
      "validationWarning: 'Warning! Scraping XML for PMCID 10155631 from PMC without validating.'\n",
      "\n",
      "validationWarning: 'Warning! Scraping XML for PMCID 10155618 from PMC without validating.'\n",
      "\n",
      "validationWarning: 'Warning! Scraping XML for PMCID 10155609 from PMC without validating.'\n",
      "\n",
      "validationWarning: 'Warning! Scraping XML for PMCID 10155607 from PMC without validating.'\n",
      "\n"
     ]
    }
   ],
   "metadata": {}
  },
  {
   "cell_type": "code",
   "execution_count": 33,
   "source": [
    "\n",
    "#get_records_and_view(drug_article_sample)\n"
   ],
   "outputs": [],
   "metadata": {}
  },
  {
   "cell_type": "code",
   "execution_count": 61,
   "source": [
    "def get_pmc_dtd_list(search_term, retmax=10):\n",
    "    dtd_list = []\n",
    "\n",
    "    #Specify creds and PMCID\n",
    "    EMAIL = \"danielfrees247@gmail.com\"\n",
    "    DB = 'pmc'\n",
    "    RETTYPE = 'full'\n",
    "    RETMODE = 'xml'\n",
    "    Entrez.email = EMAIL\n",
    "\n",
    "    #Actually fetch from PMC\n",
    "    handle = Entrez.esearch(db = DB, retmax = retmax, term = search_term)\n",
    "    pmcid_list = Entrez.read(handle)\n",
    "    handle.close()\n",
    "    for pmcid in pmcid_list:\n",
    "        record = scrape.get_xml(pmcid = pmcid, email = EMAIL, validate = False)\n",
    "        dtd_url_pattern = re.compile(r'\"(https?://\\S+)\"')\n",
    "        match = dtd_url_pattern.search(record.docinfo.doctype)\n",
    "\n",
    "        if match:\n",
    "            url = match.group(1)\n",
    "            dtd_list.append(url)\n",
    "        else:\n",
    "            print(\"Failed to find DTD!\")\n",
    "    \n",
    "    return dtd_list\n",
    "    "
   ],
   "outputs": [],
   "metadata": {}
  },
  {
   "cell_type": "code",
   "execution_count": 62,
   "source": [
    "\n",
    "get_pmc_dtd_list('drug')\n"
   ],
   "outputs": [
    {
     "output_type": "error",
     "ename": "HTTPError",
     "evalue": "HTTP Error 400: Bad Request",
     "traceback": [
      "\u001b[0;31m---------------------------------------------------------------------------\u001b[0m",
      "\u001b[0;31mHTTPError\u001b[0m                                 Traceback (most recent call last)",
      "Cell \u001b[0;32mIn[62], line 1\u001b[0m\n\u001b[0;32m----> 1\u001b[0m \u001b[43mget_pmc_dtd_list\u001b[49m\u001b[43m(\u001b[49m\u001b[38;5;124;43m'\u001b[39;49m\u001b[38;5;124;43mdrug\u001b[39;49m\u001b[38;5;124;43m'\u001b[39;49m\u001b[43m)\u001b[49m\n",
      "Cell \u001b[0;32mIn[61], line 16\u001b[0m, in \u001b[0;36mget_pmc_dtd_list\u001b[0;34m(search_term, retmax)\u001b[0m\n\u001b[1;32m     14\u001b[0m handle\u001b[38;5;241m.\u001b[39mclose()\n\u001b[1;32m     15\u001b[0m \u001b[38;5;28;01mfor\u001b[39;00m pmcid \u001b[38;5;129;01min\u001b[39;00m pmcid_list:\n\u001b[0;32m---> 16\u001b[0m     record \u001b[38;5;241m=\u001b[39m \u001b[43mscrape\u001b[49m\u001b[38;5;241;43m.\u001b[39;49m\u001b[43mget_xml\u001b[49m\u001b[43m(\u001b[49m\u001b[43mpmcid\u001b[49m\u001b[43m \u001b[49m\u001b[38;5;241;43m=\u001b[39;49m\u001b[43m \u001b[49m\u001b[43mpmcid\u001b[49m\u001b[43m,\u001b[49m\u001b[43m \u001b[49m\u001b[43memail\u001b[49m\u001b[43m \u001b[49m\u001b[38;5;241;43m=\u001b[39;49m\u001b[43m \u001b[49m\u001b[43mEMAIL\u001b[49m\u001b[43m,\u001b[49m\u001b[43m \u001b[49m\u001b[43mvalidate\u001b[49m\u001b[43m \u001b[49m\u001b[38;5;241;43m=\u001b[39;49m\u001b[43m \u001b[49m\u001b[38;5;28;43;01mFalse\u001b[39;49;00m\u001b[43m)\u001b[49m\n\u001b[1;32m     17\u001b[0m     dtd_url_pattern \u001b[38;5;241m=\u001b[39m re\u001b[38;5;241m.\u001b[39mcompile(\u001b[38;5;124mr\u001b[39m\u001b[38;5;124m'\u001b[39m\u001b[38;5;124m\"\u001b[39m\u001b[38;5;124m(https?://\u001b[39m\u001b[38;5;124m\\\u001b[39m\u001b[38;5;124mS+)\u001b[39m\u001b[38;5;124m\"\u001b[39m\u001b[38;5;124m'\u001b[39m)\n\u001b[1;32m     18\u001b[0m     match \u001b[38;5;241m=\u001b[39m dtd_url_pattern\u001b[38;5;241m.\u001b[39msearch(record\u001b[38;5;241m.\u001b[39mdocinfo\u001b[38;5;241m.\u001b[39mdoctype)\n",
      "File \u001b[0;32m~/Desktop/scrapemed/notebooks/../../scrapemed/scrapemed/scrape.py:32\u001b[0m, in \u001b[0;36mget_xml\u001b[0;34m(pmcid, email, download, validate, strip_text_styling, verbose)\u001b[0m\n\u001b[1;32m     22\u001b[0m \u001b[38;5;28;01mdef\u001b[39;00m \u001b[38;5;21mget_xml\u001b[39m(pmcid: \u001b[38;5;28mint\u001b[39m, email: \u001b[38;5;28mstr\u001b[39m, download \u001b[38;5;241m=\u001b[39m \u001b[38;5;28;01mFalse\u001b[39;00m, validate \u001b[38;5;241m=\u001b[39m \u001b[38;5;28;01mTrue\u001b[39;00m, strip_text_styling \u001b[38;5;241m=\u001b[39m \u001b[38;5;28;01mTrue\u001b[39;00m, verbose \u001b[38;5;241m=\u001b[39m \u001b[38;5;28;01mFalse\u001b[39;00m) \u001b[38;5;241m-\u001b[39m\u001b[38;5;241m>\u001b[39m ET\u001b[38;5;241m.\u001b[39mElementTree:\n\u001b[1;32m     23\u001b[0m     \u001b[38;5;124;03m\"\"\"\u001b[39;00m\n\u001b[1;32m     24\u001b[0m \u001b[38;5;124;03m    Retrieve XML of a research paper from PMC (TODO: Support to come for other NCBI repos later).\u001b[39;00m\n\u001b[1;32m     25\u001b[0m \u001b[38;5;124;03m    Also validates the XML\u001b[39;00m\n\u001b[0;32m   (...)\u001b[0m\n\u001b[1;32m     30\u001b[0m \u001b[38;5;124;03m    Output: ElementTree of the validated xml record. \u001b[39;00m\n\u001b[1;32m     31\u001b[0m \u001b[38;5;124;03m    \"\"\"\u001b[39;00m\n\u001b[0;32m---> 32\u001b[0m     xml_text \u001b[38;5;241m=\u001b[39m \u001b[43m_get_xml_string\u001b[49m\u001b[43m(\u001b[49m\u001b[43mpmcid\u001b[49m\u001b[43m,\u001b[49m\u001b[43m \u001b[49m\u001b[43memail\u001b[49m\u001b[43m,\u001b[49m\u001b[43m \u001b[49m\u001b[43mdownload\u001b[49m\u001b[43m,\u001b[49m\u001b[43m \u001b[49m\u001b[43mverbose\u001b[49m\u001b[43m)\u001b[49m\n\u001b[1;32m     33\u001b[0m     tree \u001b[38;5;241m=\u001b[39m xml_tree_from_string(xml_string\u001b[38;5;241m=\u001b[39mxml_text, strip_text_styling\u001b[38;5;241m=\u001b[39mstrip_text_styling, verbose\u001b[38;5;241m=\u001b[39mverbose)\n\u001b[1;32m     35\u001b[0m     \u001b[38;5;28;01mif\u001b[39;00m validate:\n\u001b[1;32m     36\u001b[0m         \u001b[38;5;66;03m#Validate tags, attrs, values are supported for parsing by the scrapemed package.\u001b[39;00m\n",
      "File \u001b[0;32m~/Desktop/scrapemed/notebooks/../../scrapemed/scrapemed/scrape.py:61\u001b[0m, in \u001b[0;36m_get_xml_string\u001b[0;34m(pmcid, email, download, verbose)\u001b[0m\n\u001b[1;32m     58\u001b[0m Entrez\u001b[38;5;241m.\u001b[39memail \u001b[38;5;241m=\u001b[39m email\n\u001b[1;32m     60\u001b[0m \u001b[38;5;66;03m#Actually fetch from PMC\u001b[39;00m\n\u001b[0;32m---> 61\u001b[0m handle \u001b[38;5;241m=\u001b[39m \u001b[43mEntrez\u001b[49m\u001b[38;5;241;43m.\u001b[39;49m\u001b[43mefetch\u001b[49m\u001b[43m(\u001b[49m\u001b[43mdb\u001b[49m\u001b[43m \u001b[49m\u001b[38;5;241;43m=\u001b[39;49m\u001b[43m \u001b[49m\u001b[43mDB\u001b[49m\u001b[43m,\u001b[49m\u001b[43m \u001b[49m\u001b[38;5;28;43mid\u001b[39;49m\u001b[43m \u001b[49m\u001b[38;5;241;43m=\u001b[39;49m\u001b[43m \u001b[49m\u001b[43mpmcid\u001b[49m\u001b[43m,\u001b[49m\u001b[43m \u001b[49m\u001b[43mrettype\u001b[49m\u001b[43m \u001b[49m\u001b[38;5;241;43m=\u001b[39;49m\u001b[43m \u001b[49m\u001b[43mRETTYPE\u001b[49m\u001b[43m,\u001b[49m\u001b[43m \u001b[49m\u001b[43mretmode\u001b[49m\u001b[43m \u001b[49m\u001b[38;5;241;43m=\u001b[39;49m\u001b[43m \u001b[49m\u001b[43mRETMODE\u001b[49m\u001b[43m)\u001b[49m\n\u001b[1;32m     62\u001b[0m xml_record \u001b[38;5;241m=\u001b[39m handle\u001b[38;5;241m.\u001b[39mread()\n\u001b[1;32m     63\u001b[0m xml_text \u001b[38;5;241m=\u001b[39m xml_record\u001b[38;5;241m.\u001b[39mdecode(encoding \u001b[38;5;241m=\u001b[39m \u001b[38;5;124m\"\u001b[39m\u001b[38;5;124mutf-8\u001b[39m\u001b[38;5;124m\"\u001b[39m)\n",
      "File \u001b[0;32m~/miniconda3/envs/scrapemed/lib/python3.10/site-packages/Bio/Entrez/__init__.py:196\u001b[0m, in \u001b[0;36mefetch\u001b[0;34m(db, **keywords)\u001b[0m\n\u001b[1;32m    194\u001b[0m variables\u001b[38;5;241m.\u001b[39mupdate(keywords)\n\u001b[1;32m    195\u001b[0m request \u001b[38;5;241m=\u001b[39m _build_request(cgi, variables)\n\u001b[0;32m--> 196\u001b[0m \u001b[38;5;28;01mreturn\u001b[39;00m \u001b[43m_open\u001b[49m\u001b[43m(\u001b[49m\u001b[43mrequest\u001b[49m\u001b[43m)\u001b[49m\n",
      "File \u001b[0;32m~/miniconda3/envs/scrapemed/lib/python3.10/site-packages/Bio/Entrez/__init__.py:594\u001b[0m, in \u001b[0;36m_open\u001b[0;34m(request)\u001b[0m\n\u001b[1;32m    592\u001b[0m \u001b[38;5;28;01mfor\u001b[39;00m i \u001b[38;5;129;01min\u001b[39;00m \u001b[38;5;28mrange\u001b[39m(max_tries):\n\u001b[1;32m    593\u001b[0m     \u001b[38;5;28;01mtry\u001b[39;00m:\n\u001b[0;32m--> 594\u001b[0m         handle \u001b[38;5;241m=\u001b[39m \u001b[43murlopen\u001b[49m\u001b[43m(\u001b[49m\u001b[43mrequest\u001b[49m\u001b[43m)\u001b[49m\n\u001b[1;32m    595\u001b[0m     \u001b[38;5;28;01mexcept\u001b[39;00m HTTPError \u001b[38;5;28;01mas\u001b[39;00m exception:\n\u001b[1;32m    596\u001b[0m         \u001b[38;5;66;03m# Reraise if the final try fails\u001b[39;00m\n\u001b[1;32m    597\u001b[0m         \u001b[38;5;28;01mif\u001b[39;00m i \u001b[38;5;241m>\u001b[39m\u001b[38;5;241m=\u001b[39m max_tries \u001b[38;5;241m-\u001b[39m \u001b[38;5;241m1\u001b[39m:\n",
      "File \u001b[0;32m~/miniconda3/envs/scrapemed/lib/python3.10/urllib/request.py:216\u001b[0m, in \u001b[0;36murlopen\u001b[0;34m(url, data, timeout, cafile, capath, cadefault, context)\u001b[0m\n\u001b[1;32m    214\u001b[0m \u001b[38;5;28;01melse\u001b[39;00m:\n\u001b[1;32m    215\u001b[0m     opener \u001b[38;5;241m=\u001b[39m _opener\n\u001b[0;32m--> 216\u001b[0m \u001b[38;5;28;01mreturn\u001b[39;00m \u001b[43mopener\u001b[49m\u001b[38;5;241;43m.\u001b[39;49m\u001b[43mopen\u001b[49m\u001b[43m(\u001b[49m\u001b[43murl\u001b[49m\u001b[43m,\u001b[49m\u001b[43m \u001b[49m\u001b[43mdata\u001b[49m\u001b[43m,\u001b[49m\u001b[43m \u001b[49m\u001b[43mtimeout\u001b[49m\u001b[43m)\u001b[49m\n",
      "File \u001b[0;32m~/miniconda3/envs/scrapemed/lib/python3.10/urllib/request.py:525\u001b[0m, in \u001b[0;36mOpenerDirector.open\u001b[0;34m(self, fullurl, data, timeout)\u001b[0m\n\u001b[1;32m    523\u001b[0m \u001b[38;5;28;01mfor\u001b[39;00m processor \u001b[38;5;129;01min\u001b[39;00m \u001b[38;5;28mself\u001b[39m\u001b[38;5;241m.\u001b[39mprocess_response\u001b[38;5;241m.\u001b[39mget(protocol, []):\n\u001b[1;32m    524\u001b[0m     meth \u001b[38;5;241m=\u001b[39m \u001b[38;5;28mgetattr\u001b[39m(processor, meth_name)\n\u001b[0;32m--> 525\u001b[0m     response \u001b[38;5;241m=\u001b[39m \u001b[43mmeth\u001b[49m\u001b[43m(\u001b[49m\u001b[43mreq\u001b[49m\u001b[43m,\u001b[49m\u001b[43m \u001b[49m\u001b[43mresponse\u001b[49m\u001b[43m)\u001b[49m\n\u001b[1;32m    527\u001b[0m \u001b[38;5;28;01mreturn\u001b[39;00m response\n",
      "File \u001b[0;32m~/miniconda3/envs/scrapemed/lib/python3.10/urllib/request.py:634\u001b[0m, in \u001b[0;36mHTTPErrorProcessor.http_response\u001b[0;34m(self, request, response)\u001b[0m\n\u001b[1;32m    631\u001b[0m \u001b[38;5;66;03m# According to RFC 2616, \"2xx\" code indicates that the client's\u001b[39;00m\n\u001b[1;32m    632\u001b[0m \u001b[38;5;66;03m# request was successfully received, understood, and accepted.\u001b[39;00m\n\u001b[1;32m    633\u001b[0m \u001b[38;5;28;01mif\u001b[39;00m \u001b[38;5;129;01mnot\u001b[39;00m (\u001b[38;5;241m200\u001b[39m \u001b[38;5;241m<\u001b[39m\u001b[38;5;241m=\u001b[39m code \u001b[38;5;241m<\u001b[39m \u001b[38;5;241m300\u001b[39m):\n\u001b[0;32m--> 634\u001b[0m     response \u001b[38;5;241m=\u001b[39m \u001b[38;5;28;43mself\u001b[39;49m\u001b[38;5;241;43m.\u001b[39;49m\u001b[43mparent\u001b[49m\u001b[38;5;241;43m.\u001b[39;49m\u001b[43merror\u001b[49m\u001b[43m(\u001b[49m\n\u001b[1;32m    635\u001b[0m \u001b[43m        \u001b[49m\u001b[38;5;124;43m'\u001b[39;49m\u001b[38;5;124;43mhttp\u001b[39;49m\u001b[38;5;124;43m'\u001b[39;49m\u001b[43m,\u001b[49m\u001b[43m \u001b[49m\u001b[43mrequest\u001b[49m\u001b[43m,\u001b[49m\u001b[43m \u001b[49m\u001b[43mresponse\u001b[49m\u001b[43m,\u001b[49m\u001b[43m \u001b[49m\u001b[43mcode\u001b[49m\u001b[43m,\u001b[49m\u001b[43m \u001b[49m\u001b[43mmsg\u001b[49m\u001b[43m,\u001b[49m\u001b[43m \u001b[49m\u001b[43mhdrs\u001b[49m\u001b[43m)\u001b[49m\n\u001b[1;32m    637\u001b[0m \u001b[38;5;28;01mreturn\u001b[39;00m response\n",
      "File \u001b[0;32m~/miniconda3/envs/scrapemed/lib/python3.10/urllib/request.py:563\u001b[0m, in \u001b[0;36mOpenerDirector.error\u001b[0;34m(self, proto, *args)\u001b[0m\n\u001b[1;32m    561\u001b[0m \u001b[38;5;28;01mif\u001b[39;00m http_err:\n\u001b[1;32m    562\u001b[0m     args \u001b[38;5;241m=\u001b[39m (\u001b[38;5;28mdict\u001b[39m, \u001b[38;5;124m'\u001b[39m\u001b[38;5;124mdefault\u001b[39m\u001b[38;5;124m'\u001b[39m, \u001b[38;5;124m'\u001b[39m\u001b[38;5;124mhttp_error_default\u001b[39m\u001b[38;5;124m'\u001b[39m) \u001b[38;5;241m+\u001b[39m orig_args\n\u001b[0;32m--> 563\u001b[0m     \u001b[38;5;28;01mreturn\u001b[39;00m \u001b[38;5;28;43mself\u001b[39;49m\u001b[38;5;241;43m.\u001b[39;49m\u001b[43m_call_chain\u001b[49m\u001b[43m(\u001b[49m\u001b[38;5;241;43m*\u001b[39;49m\u001b[43margs\u001b[49m\u001b[43m)\u001b[49m\n",
      "File \u001b[0;32m~/miniconda3/envs/scrapemed/lib/python3.10/urllib/request.py:496\u001b[0m, in \u001b[0;36mOpenerDirector._call_chain\u001b[0;34m(self, chain, kind, meth_name, *args)\u001b[0m\n\u001b[1;32m    494\u001b[0m \u001b[38;5;28;01mfor\u001b[39;00m handler \u001b[38;5;129;01min\u001b[39;00m handlers:\n\u001b[1;32m    495\u001b[0m     func \u001b[38;5;241m=\u001b[39m \u001b[38;5;28mgetattr\u001b[39m(handler, meth_name)\n\u001b[0;32m--> 496\u001b[0m     result \u001b[38;5;241m=\u001b[39m \u001b[43mfunc\u001b[49m\u001b[43m(\u001b[49m\u001b[38;5;241;43m*\u001b[39;49m\u001b[43margs\u001b[49m\u001b[43m)\u001b[49m\n\u001b[1;32m    497\u001b[0m     \u001b[38;5;28;01mif\u001b[39;00m result \u001b[38;5;129;01mis\u001b[39;00m \u001b[38;5;129;01mnot\u001b[39;00m \u001b[38;5;28;01mNone\u001b[39;00m:\n\u001b[1;32m    498\u001b[0m         \u001b[38;5;28;01mreturn\u001b[39;00m result\n",
      "File \u001b[0;32m~/miniconda3/envs/scrapemed/lib/python3.10/urllib/request.py:643\u001b[0m, in \u001b[0;36mHTTPDefaultErrorHandler.http_error_default\u001b[0;34m(self, req, fp, code, msg, hdrs)\u001b[0m\n\u001b[1;32m    642\u001b[0m \u001b[38;5;28;01mdef\u001b[39;00m \u001b[38;5;21mhttp_error_default\u001b[39m(\u001b[38;5;28mself\u001b[39m, req, fp, code, msg, hdrs):\n\u001b[0;32m--> 643\u001b[0m     \u001b[38;5;28;01mraise\u001b[39;00m HTTPError(req\u001b[38;5;241m.\u001b[39mfull_url, code, msg, hdrs, fp)\n",
      "\u001b[0;31mHTTPError\u001b[0m: HTTP Error 400: Bad Request"
     ]
    }
   ],
   "metadata": {}
  },
  {
   "cell_type": "code",
   "execution_count": 51,
   "source": [
    "dtd_list = []\n",
    "#Specify creds and PMCID\n",
    "EMAIL = \"danielfrees247@gmail.com\"\n",
    "DB = 'pmc'\n",
    "RETTYPE = 'full'\n",
    "RETMODE = 'xml'\n",
    "Entrez.email = EMAIL\n",
    "pmcid = 10156464\n",
    "record = scrape.get_xml(pmcid = pmcid, email = EMAIL, validate = False)\n",
    "\n",
    "print(type(record))\n",
    "dtd_list.append(record.docinfo)\n",
    "\n",
    "dtd_list"
   ],
   "outputs": [
    {
     "output_type": "stream",
     "name": "stdout",
     "text": [
      "<class 'lxml.etree._ElementTree'>\n"
     ]
    },
    {
     "output_type": "execute_result",
     "data": {
      "text/plain": [
       "[<lxml.etree.DocInfo at 0x7ff589683730>]"
      ]
     },
     "metadata": {},
     "execution_count": 51
    }
   ],
   "metadata": {}
  },
  {
   "cell_type": "markdown",
   "source": [],
   "metadata": {}
  },
  {
   "cell_type": "code",
   "execution_count": 60,
   "source": [
    "\n"
   ],
   "outputs": [
    {
     "output_type": "execute_result",
     "data": {
      "text/plain": [
       "'<!DOCTYPE pmc-articleset PUBLIC \"-//NLM//DTD ARTICLE SET 2.0//EN\" \"https://dtd.nlm.nih.gov/ncbi/pmc/articleset/nlm-articleset-2.0.dtd\">'"
      ]
     },
     "metadata": {},
     "execution_count": 60
    }
   ],
   "metadata": {}
  },
  {
   "cell_type": "code",
   "execution_count": null,
   "source": [],
   "outputs": [],
   "metadata": {}
  }
 ],
 "metadata": {
  "orig_nbformat": 4,
  "language_info": {
   "name": "python",
   "version": "3.10.9",
   "mimetype": "text/x-python",
   "codemirror_mode": {
    "name": "ipython",
    "version": 3
   },
   "pygments_lexer": "ipython3",
   "nbconvert_exporter": "python",
   "file_extension": ".py"
  },
  "kernelspec": {
   "name": "python3",
   "display_name": "Python 3.10.9 64-bit ('scrapemed': conda)"
  },
  "interpreter": {
   "hash": "427d4943968a1e3fc165f884a0cbd733d19eb316925f7601ef95e6c86f630a99"
  }
 },
 "nbformat": 4,
 "nbformat_minor": 2
}