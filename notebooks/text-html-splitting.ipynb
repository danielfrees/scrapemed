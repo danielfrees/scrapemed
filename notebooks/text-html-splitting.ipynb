{
 "cells": [
  {
   "cell_type": "code",
   "execution_count": 1,
   "source": [
    "%load_ext autoreload\n",
    "%autoreload 2\n",
    "import sys\n",
    "sys.path.insert(0, \"../../scrapemed\")\n",
    "\n",
    "\n",
    "import scrapemed._text as _text\n",
    "import scrapemed._clean as _clean\n",
    "import html\n",
    "import lxml.etree as ET\n",
    "import lxml.html as lhtml"
   ],
   "outputs": [],
   "metadata": {}
  },
  {
   "cell_type": "code",
   "execution_count": 2,
   "source": [
    "sample_p = ('<p id=\"Par14\">For Study 2, acetaminophen and log-transformed <italic>C</italic><sub>max</sub>,' \n",
    "' the analyte and the parameter with the highest variabilities observed in previous Pfizer Consumer Healthcare (PCH) ' \n",
    "'studies,&#xA0;were used in the sample size calculation. <xref>TEST</xref>Additionally, it was assumed that the true bioavailability ' \n",
    "'of the test formulation (FDC ibuprofen/acetaminophen 250/500&#xA0;mg) was within 5.0% of that for the reference ' \n",
    "'formulation and that it was similar between the two analytes, ibuprofen and acetaminophen. This was observed in ' \n",
    "'a previous publication studying the PK profiles of a novel FDC tablet of ibuprofen and acetaminophen (ibuprofen ' \n",
    "'400&#xA0;mg/acetaminophen 1000&#xA0;mg) [<xref ref-type=\\\\\"bibr\\\\\" rid=\\\\\"CR6\\\\\">6</xref>].</p>'\n",
    ")\n",
    "\n",
    "htree = lhtml.fromstring(sample_p)"
   ],
   "outputs": [],
   "metadata": {}
  },
  {
   "cell_type": "code",
   "execution_count": 3,
   "source": [
    "text_content = htree.text_content()\n",
    "print(text_content)"
   ],
   "outputs": [
    {
     "output_type": "stream",
     "name": "stdout",
     "text": [
      "For Study 2, acetaminophen and log-transformed Cmax, the analyte and the parameter with the highest variabilities observed in previous Pfizer Consumer Healthcare (PCH) studies, were used in the sample size calculation. TESTAdditionally, it was assumed that the true bioavailability of the test formulation (FDC ibuprofen/acetaminophen 250/500 mg) was within 5.0% of that for the reference formulation and that it was similar between the two analytes, ibuprofen and acetaminophen. This was observed in a previous publication studying the PK profiles of a novel FDC tablet of ibuprofen and acetaminophen (ibuprofen 400 mg/acetaminophen 1000 mg) [6].\n"
     ]
    }
   ],
   "metadata": {}
  },
  {
   "cell_type": "code",
   "execution_count": 4,
   "source": [
    "html.unescape(text_content)"
   ],
   "outputs": [
    {
     "output_type": "execute_result",
     "data": {
      "text/plain": [
       "'For Study 2, acetaminophen and log-transformed Cmax, the analyte and the parameter with the highest variabilities observed in previous Pfizer Consumer Healthcare (PCH) studies,\\xa0were used in the sample size calculation. TESTAdditionally, it was assumed that the true bioavailability of the test formulation (FDC ibuprofen/acetaminophen 250/500\\xa0mg) was within 5.0% of that for the reference formulation and that it was similar between the two analytes, ibuprofen and acetaminophen. This was observed in a previous publication studying the PK profiles of a novel FDC tablet of ibuprofen and acetaminophen (ibuprofen 400\\xa0mg/acetaminophen 1000\\xa0mg) [6].'"
      ]
     },
     "metadata": {},
     "execution_count": 4
    }
   ],
   "metadata": {}
  },
  {
   "cell_type": "code",
   "execution_count": 5,
   "source": [
    "ET.tostring(htree, method='text', encoding='UTF-8').decode('UTF-8')"
   ],
   "outputs": [
    {
     "output_type": "execute_result",
     "data": {
      "text/plain": [
       "'For Study 2, acetaminophen and log-transformed Cmax, the analyte and the parameter with the highest variabilities observed in previous Pfizer Consumer Healthcare (PCH) studies,\\xa0were used in the sample size calculation. TESTAdditionally, it was assumed that the true bioavailability of the test formulation (FDC ibuprofen/acetaminophen 250/500\\xa0mg) was within 5.0% of that for the reference formulation and that it was similar between the two analytes, ibuprofen and acetaminophen. This was observed in a previous publication studying the PK profiles of a novel FDC tablet of ibuprofen and acetaminophen (ibuprofen 400\\xa0mg/acetaminophen 1000\\xa0mg) [6].'"
      ]
     },
     "metadata": {},
     "execution_count": 5
    }
   ],
   "metadata": {}
  },
  {
   "cell_type": "code",
   "execution_count": null,
   "source": [],
   "outputs": [],
   "metadata": {}
  },
  {
   "cell_type": "code",
   "execution_count": null,
   "source": [],
   "outputs": [],
   "metadata": {}
  }
 ],
 "metadata": {
  "orig_nbformat": 4,
  "language_info": {
   "name": "python",
   "version": "3.10.9",
   "mimetype": "text/x-python",
   "codemirror_mode": {
    "name": "ipython",
    "version": 3
   },
   "pygments_lexer": "ipython3",
   "nbconvert_exporter": "python",
   "file_extension": ".py"
  },
  "kernelspec": {
   "name": "python3",
   "display_name": "Python 3.10.9 64-bit ('scrapemed': conda)"
  },
  "interpreter": {
   "hash": "427d4943968a1e3fc165f884a0cbd733d19eb316925f7601ef95e6c86f630a99"
  }
 },
 "nbformat": 4,
 "nbformat_minor": 2
}