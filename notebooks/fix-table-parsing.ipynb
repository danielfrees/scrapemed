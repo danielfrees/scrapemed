{
 "cells": [
  {
   "cell_type": "code",
   "execution_count": 13,
   "source": [
    "%load_ext autoreload\n",
    "%autoreload 2\n",
    "import sys\n",
    "sys.path.insert(0, \"../../scrapemed\")\n",
    "\n",
    "import pandas as pd\n",
    "import warnings\n",
    "import re\n",
    "from scrapemed.utils import basicBiMap\n",
    "import scrapemed._morehtml as mhtml\n",
    "import scrapemed._clean as _clean\n",
    "import lxml.etree as ET"
   ],
   "outputs": [
    {
     "output_type": "stream",
     "name": "stdout",
     "text": [
      "The autoreload extension is already loaded. To reload it, use:\n",
      "  %reload_ext autoreload\n"
     ]
    }
   ],
   "metadata": {}
  },
  {
   "cell_type": "code",
   "execution_count": 22,
   "source": [
    "#test tag parsing of paragraph text\n",
    "\n",
    "\n",
    "SAMPLE_PAR_2 = ('Baseline characteristics for the three studies are shown '\n",
    "'in Table&#xA0;<xref rid=\"Tab1\" ref-type=\"table\">1</xref>. A total of 35 subjects were '\n",
    "'randomized in Study 1 and 46 in Study 2. '\n",
    "\"\"\"\n",
    "<table-wrap id=\"Tab1\">\n",
    "    <label>Table 1</label>\n",
    "    <caption>Sample Table Caption</caption>\n",
    "    <table>\n",
    "        <thead>\n",
    "            <tr>\n",
    "                <th>Column A</th>\n",
    "                <th>Column B</th>\n",
    "                <th>Column C</th>\n",
    "            </tr>\n",
    "        </thead>\n",
    "        <tbody>\n",
    "            <tr>\n",
    "                <td>Data 1A</td>\n",
    "                <td>Data 1B</td>\n",
    "                <td>Data 1C</td>\n",
    "            </tr>\n",
    "            <tr>\n",
    "                <td>Data 2A</td>\n",
    "                <td>Data 2B</td>\n",
    "                <td>Data 2C</td>\n",
    "            </tr>\n",
    "        </tbody>\n",
    "    </table>\n",
    "</table-wrap>\n",
    "\"\"\"\n",
    ")\n",
    "\n",
    "ref_map = basicBiMap()\n",
    "ref_text = _clean.split_text_and_refs(SAMPLE_PAR_2, ref_map)\n",
    "print(f\"Ref Text: {ref_text}\\n\")\n",
    "print(f\"Ref Map: {ref_map}\")\n"
   ],
   "outputs": [
    {
     "output_type": "stream",
     "name": "stdout",
     "text": [
      "Ref Text: Baseline characteristics for the three studies are shown in Table&#xA0;1[MHTML::dataref::0]. A total of 35 subjects were randomized in Study 1 and 46 in Study 2. \n",
      "[MHTML::dataref::1]\n",
      "\n",
      "Ref Map: BiMap: {0: '<xref rid=\"Tab1\" ref-type=\"table\">1</xref>', 1: '<table-wrap id=\"Tab1\">\\n    <label>Table 1</label>\\n    <caption>Sample Table Caption</caption>\\n    <table>\\n        <thead>\\n            <tr>\\n                <th>Column A</th>\\n                <th>Column B</th>\\n                <th>Column C</th>\\n            </tr>\\n        </thead>\\n        <tbody>\\n            <tr>\\n                <td>Data 1A</td>\\n                <td>Data 1B</td>\\n                <td>Data 1C</td>\\n            </tr>\\n            <tr>\\n                <td>Data 2A</td>\\n                <td>Data 2B</td>\\n                <td>Data 2C</td>\\n            </tr>\\n        </tbody>\\n    </table>\\n</table-wrap>'}\n"
     ]
    }
   ],
   "metadata": {}
  },
  {
   "cell_type": "code",
   "execution_count": 19,
   "source": [
    "ref_map"
   ],
   "outputs": [
    {
     "output_type": "execute_result",
     "data": {
      "text/plain": [
       "{0: '<xref rid=\"Tab1\" ref-type=\"table\">1</xref>',\n",
       " 1: '<table-wrap id=\"Tab1\">\\n    <label>Table 1</label>\\n    <caption>Sample Table Caption</caption>\\n    <table>\\n        <thead>\\n            <tr>\\n                <th>Column A</th>\\n                <th>Column B</th>\\n                <th>Column C</th>\\n            </tr>\\n        </thead>\\n        <tbody>\\n            <tr>\\n                <td>Data 1A</td>\\n                <td>Data 1B</td>\\n                <td>Data 1C</td>\\n            </tr>\\n            <tr>\\n                <td>Data 2A</td>\\n                <td>Data 2B</td>\\n                <td>Data 2C</td>\\n            </tr>\\n        </tbody>\\n    </table>\\n</table-wrap>'}"
      ]
     },
     "metadata": {},
     "execution_count": 19
    }
   ],
   "metadata": {}
  },
  {
   "cell_type": "code",
   "execution_count": null,
   "source": [],
   "outputs": [],
   "metadata": {}
  }
 ],
 "metadata": {
  "orig_nbformat": 4,
  "language_info": {
   "name": "python",
   "version": "3.10.9",
   "mimetype": "text/x-python",
   "codemirror_mode": {
    "name": "ipython",
    "version": 3
   },
   "pygments_lexer": "ipython3",
   "nbconvert_exporter": "python",
   "file_extension": ".py"
  },
  "kernelspec": {
   "name": "python3",
   "display_name": "Python 3.10.9 64-bit ('scrapemed': conda)"
  },
  "interpreter": {
   "hash": "427d4943968a1e3fc165f884a0cbd733d19eb316925f7601ef95e6c86f630a99"
  }
 },
 "nbformat": 4,
 "nbformat_minor": 2
}