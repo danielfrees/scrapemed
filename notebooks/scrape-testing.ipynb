{
 "cells": [
  {
   "cell_type": "code",
   "execution_count": 2,
   "metadata": {},
   "outputs": [],
   "source": [
    "%load_ext autoreload\n",
    "%autoreload 2\n",
    "import sys\n",
    "sys.path.insert(0, \"../../scrapemed\")\n",
    "\n",
    "import scrapemed.paper as paper\n",
    "import scrapemed.scrape as scrape\n",
    "import pandas as pd\n",
    "import lxml\n",
    "from dotenv import load_dotenv\n",
    "import os\n",
    "load_dotenv()"
   ]
  },
  {
   "cell_type": "code",
   "execution_count": 35,
   "metadata": {},
   "outputs": [
    {
     "name": "stdout",
     "output_type": "stream",
     "text": [
      "\n",
      "Searching pmc...\n",
      "\n",
      "Number of results found: 854\n"
     ]
    },
    {
     "data": {
      "text/plain": [
       "['10445649', '9889004', '9888923', '10423256', '10417431', '10414059', '10410636', '10406254', '10402651', '10372448']"
      ]
     },
     "execution_count": 35,
     "metadata": {},
     "output_type": "execute_result"
    }
   ],
   "source": [
    "email = os.getenv(\"PMC_EMAIL\")\n",
    "\n",
    "brain_surgery_articles = scrape.search_pmc(email, \"brain[ti] AND surgery[ti]\", retmax = 10, verbose = True)['IdList']\n",
    "brain_surgery_articles"
   ]
  },
  {
   "cell_type": "code",
   "execution_count": 32,
   "metadata": {},
   "outputs": [],
   "source": [
    "p = paper.Paper.from_pmc(pmcid=10417431, email=email, suppress_warnings=True, suppress_errors = True)"
   ]
  },
  {
   "cell_type": "code",
   "execution_count": 33,
   "metadata": {},
   "outputs": [
    {
     "data": {
      "text/plain": [
       "'Surgery vs. Radiosurgery for Patients with Localized Metastatic Brain Disease: A Systematic Review with Meta-Analysis of Randomized Controlled Trials'"
      ]
     },
     "execution_count": 33,
     "metadata": {},
     "output_type": "execute_result"
    }
   ],
   "source": [
    "p.title"
   ]
  },
  {
   "cell_type": "code",
   "execution_count": 36,
   "metadata": {},
   "outputs": [],
   "source": [
    "xmls = scrape.get_xmls(brain_surgery_articles, email=\"danielfrees247@gmail.com\")"
   ]
  },
  {
   "cell_type": "code",
   "execution_count": 39,
   "metadata": {},
   "outputs": [
    {
     "data": {
      "text/plain": [
       "lxml.etree._ElementTree"
      ]
     },
     "execution_count": 39,
     "metadata": {},
     "output_type": "execute_result"
    }
   ],
   "source": [
    "type(xmls[9])"
   ]
  },
  {
   "cell_type": "code",
   "execution_count": null,
   "metadata": {},
   "outputs": [],
   "source": []
  }
 ],
 "metadata": {
  "kernelspec": {
   "display_name": "scrapemed",
   "language": "python",
   "name": "python3"
  },
  "language_info": {
   "codemirror_mode": {
    "name": "ipython",
    "version": 3
   },
   "file_extension": ".py",
   "mimetype": "text/x-python",
   "name": "python",
   "nbconvert_exporter": "python",
   "pygments_lexer": "ipython3",
   "version": "3.10.12"
  },
  "orig_nbformat": 4
 },
 "nbformat": 4,
 "nbformat_minor": 2
}
