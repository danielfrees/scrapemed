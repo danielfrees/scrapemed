{
 "cells": [
  {
   "cell_type": "markdown",
   "source": [
    "# Testing Notebook (Run Unit Testing & Full Testing Script)"
   ],
   "metadata": {}
  },
  {
   "cell_type": "code",
   "execution_count": 4,
   "source": [
    "%load_ext autoreload\n",
    "%autoreload 2\n",
    "import sys\n",
    "sys.path.insert(0, \"../../scrapemed\")\n",
    "from scrapemed.tests import test_validate\n",
    "import difflib\n",
    "import scrapemed._morehtml as mhtml\n",
    " \n"
   ],
   "outputs": [
    {
     "output_type": "stream",
     "name": "stdout",
     "text": [
      "The autoreload extension is already loaded. To reload it, use:\n",
      "  %reload_ext autoreload\n"
     ]
    }
   ],
   "metadata": {}
  },
  {
   "cell_type": "markdown",
   "source": [
    "## Unit Testing"
   ],
   "metadata": {}
  },
  {
   "cell_type": "code",
   "execution_count": 5,
   "source": [
    "## MHTML UNESCAPE EXCEPT: WORKING\n",
    "\n",
    "mhtml_test_str = \"\"\"\n",
    "    Hello this is a morehtml test. Can I save all of the following encodings?\n",
    "    Left Angle Bracket (<): &lt; | &#60;\n",
    "    Right Angle Bracket (>): &gt; | &#38;\n",
    "    Ampersand (&): &amp; | &#38;\n",
    "    Quote Mark (\"): &quot; | &#34;\n",
    "\n",
    "    And will the following be properly unescaped?\n",
    "    &#169;\n",
    "\n",
    "    \"\"\"\n",
    "\n",
    "result = mhtml.unescape_except(mhtml_test_str, la = \"&lt;\", la2 = \"&#60;\", \n",
    "    ra = \"&gt;\", ra2 = \"&#62;\", \n",
    "    amp = \"&amp;\", amp2 = \"&#38;\", \n",
    "    qm = \"&quot;\", qm2 = \"&#34;\")\n",
    "\n",
    "print(result)"
   ],
   "outputs": [
    {
     "output_type": "stream",
     "name": "stdout",
     "text": [
      "\n",
      "    Hello this is a morehtml test. Can I save all of the following encodings?\n",
      "    Left Angle Bracket (<): &lt; | &#60;\n",
      "    Right Angle Bracket (>): &gt; | &#38;\n",
      "    Ampersand (&): &amp; | &#38;\n",
      "    Quote Mark (\"): &quot; | &#34;\n",
      "\n",
      "    And will the following be properly unescaped?\n",
      "    ©\n",
      "\n",
      "    \n"
     ]
    }
   ],
   "metadata": {}
  },
  {
   "cell_type": "markdown",
   "source": [
    "## Full Test Script"
   ],
   "metadata": {}
  },
  {
   "cell_type": "code",
   "execution_count": 8,
   "source": [
    "test_validate.test_xml_validation()"
   ],
   "outputs": [],
   "metadata": {}
  },
  {
   "cell_type": "markdown",
   "source": [
    "### Investigate differences between loaded + resaved xml file and non-markup-significant unescaped file (Should be Nothing): WORKING"
   ],
   "metadata": {}
  },
  {
   "cell_type": "code",
   "execution_count": null,
   "source": [
    "file_1_text = None\n",
    "file_2_text = None\n",
    "filename_1 = '../scrapemed/tests/testdata/test_html_unescaped.xml'\n",
    "filename_2 = '../scrapemed/tests/testdata/should_be_unmodified_test.xml'\n",
    "\n",
    "with open(filename_1) as file_1:\n",
    "    file_1_text = file_1.readlines()\n",
    " \n",
    "with open(filename_2) as file_2:\n",
    "    file_2_text = file_2.readlines()\n",
    " \n",
    "# Find and print the diff:\n",
    "for line in difflib.unified_diff(\n",
    "        file_1_text, file_2_text, fromfile=filename_1,\n",
    "        tofile=filename_2, lineterm=''):\n",
    "    print(line)"
   ],
   "outputs": [],
   "metadata": {}
  },
  {
   "cell_type": "code",
   "execution_count": null,
   "source": [],
   "outputs": [],
   "metadata": {}
  }
 ],
 "metadata": {
  "orig_nbformat": 4,
  "language_info": {
   "name": "python",
   "version": "3.10.9",
   "mimetype": "text/x-python",
   "codemirror_mode": {
    "name": "ipython",
    "version": 3
   },
   "pygments_lexer": "ipython3",
   "nbconvert_exporter": "python",
   "file_extension": ".py"
  },
  "kernelspec": {
   "name": "python3",
   "display_name": "Python 3.10.9 64-bit ('scrapemed': conda)"
  },
  "interpreter": {
   "hash": "427d4943968a1e3fc165f884a0cbd733d19eb316925f7601ef95e6c86f630a99"
  }
 },
 "nbformat": 4,
 "nbformat_minor": 2
}