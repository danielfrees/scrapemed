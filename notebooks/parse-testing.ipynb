{
 "cells": [
  {
   "cell_type": "code",
   "execution_count": 1,
   "source": [
    "%load_ext autoreload\n",
    "%autoreload 2\n",
    "import sys\n",
    "sys.path.insert(0, \"../../scrapemed\")\n",
    "\n",
    "import scrapemed._parse as _parse\n",
    "import scrapemed.scrape as scrape\n",
    "from scrapemed._parse import TextSection, TextParagraph"
   ],
   "outputs": [],
   "metadata": {}
  },
  {
   "cell_type": "code",
   "execution_count": null,
   "source": [
    "sample_sec1 = \"\"\"\n",
    "    <sec id=\"Sec4\">\n",
    "        <title>Determination of Sample Size</title>\n",
    "        <p id=\"Par12\">In a previous publication [<xref ref-type=\"bibr\" rid=\"CR6\">6</xref>] studying the PK profile of a novel FDC tablet formulation of ibuprofen and paracetamol (ibuprofen 400&#xA0;mg/acetaminophen 1000&#xA0;mg) under fasted and fed conditions, it was observed that the fed versus fasted ratio of <italic>C</italic><sub>max</sub> was lower than 80% for both ibuprofen and acetaminophen, suggesting that it was unlikely to achieve bioequivalence regardless of the sample size used for this parameter. </p>\n",
    "        <p id=\"Par13\">In order to provide at least 85% power for declaring bioequivalence for AUC<sub>&#x221E;</sub> in Study 1, 32 subjects were required to complete the study. This sample size estimate assumed a root mean square of error (RMSE) of 0.120 and that the true bioavailability of the test formulation was within 15% of that for the reference formulation [<xref ref-type=\"bibr\" rid=\"CR6\">6</xref>]. To ensure at least 32 subjects completed all four periods of the study, approximately 36 subjects were to be enrolled.</p>\n",
    "        <p id=\"Par14\">For Study 2, acetaminophen and log-transformed <italic>C</italic><sub>max</sub>, the analyte and the parameter with the highest variabilities observed in previous Pfizer Consumer Healthcare (PCH) studies,&#xA0;were used in the sample size calculation. Additionally, it was assumed that the true bioavailability of the test formulation (FDC ibuprofen/acetaminophen 250/500&#xA0;mg) was within 5.0% of that for the reference formulation and that it was similar between the two analytes, ibuprofen and acetaminophen. </p>\n",
    "        <p id=\"Par15\">Using these assumptions and an RMSE of 0.2742 (observed in a previous PCH study [#PA-96-01], which studied the PK profiles of different acetaminophen formulations of 1000 mg; unpublished data), it was estimated that a sample size of approximately 40 subjects would provide at least 85% power to establish bioequivalence in Study 2. To ensure approximately 40 subjects completed all four periods of the study, at least 44 subjects were to be enrolled.</p>\n",
    "        <p id=\"Par16\">For Study 3, review of previous PK data for ibuprofen and acetaminophen revealed that acetaminophen and the apparent oral clearance (CL), as calculated by the dose administered/AUC<sub>&#x221E;</sub> (CL/F), were the analyte and PK parameter, respectively, with the higher variability. </p>\n",
    "    </sec>\n",
    "      \"\"\""
   ],
   "outputs": [],
   "metadata": {}
  },
  {
   "cell_type": "code",
   "execution_count": null,
   "source": [
    "sample_sec1_tree = scrape.xml_tree_from_string(sample_sec1, strip_text_styling=True)\n",
    "sample_sec1_root = sample_sec1_tree.getroot()"
   ],
   "outputs": [],
   "metadata": {}
  },
  {
   "cell_type": "code",
   "execution_count": null,
   "source": [
    "sample_sec1_object = TextSection(sample_sec1_root)"
   ],
   "outputs": [],
   "metadata": {}
  },
  {
   "cell_type": "code",
   "execution_count": null,
   "source": [
    "print(str(sample_sec1_object))"
   ],
   "outputs": [
    {
     "output_type": "stream",
     "name": "stdout",
     "text": [
      "SECTION: Determination of Sample Size:\n",
      "\n",
      "In a previous publication [6] studying the PK profile of a novel FDC tablet formulation of ibuprofen and paracetamol (ibuprofen 400 mg/acetaminophen 1000 mg) under fasted and fed conditions, it was observed that the fed versus fasted ratio of C_max was lower than 80% for both ibuprofen and acetaminophen, suggesting that it was unlikely to achieve bioequivalence regardless of the sample size used for this parameter.\n",
      "\n",
      "In order to provide at least 85% power for declaring bioequivalence for AUC_∞ in Study 1, 32 subjects were required to complete the study. This sample size estimate assumed a root mean square of error (RMSE) of 0.120 and that the true bioavailability of the test formulation was within 15% of that for the reference formulation [6]. To ensure at least 32 subjects completed all four periods of the study, approximately 36 subjects were to be enrolled.\n",
      "\n",
      "For Study 2, acetaminophen and log-transformed C_max, the analyte and the parameter with the highest variabilities observed in previous Pfizer Consumer Healthcare (PCH) studies, were used in the sample size calculation. Additionally, it was assumed that the true bioavailability of the test formulation (FDC ibuprofen/acetaminophen 250/500 mg) was within 5.0% of that for the reference formulation and that it was similar between the two analytes, ibuprofen and acetaminophen.\n",
      "\n",
      "Using these assumptions and an RMSE of 0.2742 (observed in a previous PCH study [#PA-96-01], which studied the PK profiles of different acetaminophen formulations of 1000 mg; unpublished data), it was estimated that a sample size of approximately 40 subjects would provide at least 85% power to establish bioequivalence in Study 2. To ensure approximately 40 subjects completed all four periods of the study, at least 44 subjects were to be enrolled.\n",
      "\n",
      "For Study 3, review of previous PK data for ibuprofen and acetaminophen revealed that acetaminophen and the apparent oral clearance (CL), as calculated by the dose administered/AUC_∞ (CL/F), were the analyte and PK parameter, respectively, with the higher variability.\n",
      "\n"
     ]
    }
   ],
   "metadata": {}
  },
  {
   "cell_type": "code",
   "execution_count": null,
   "source": [],
   "outputs": [],
   "metadata": {}
  },
  {
   "cell_type": "code",
   "execution_count": null,
   "source": [],
   "outputs": [],
   "metadata": {}
  }
 ],
 "metadata": {
  "orig_nbformat": 4,
  "language_info": {
   "name": "python",
   "version": "3.10.9",
   "mimetype": "text/x-python",
   "codemirror_mode": {
    "name": "ipython",
    "version": 3
   },
   "pygments_lexer": "ipython3",
   "nbconvert_exporter": "python",
   "file_extension": ".py"
  },
  "kernelspec": {
   "name": "python3",
   "display_name": "Python 3.10.9 64-bit ('scrapemed': conda)"
  },
  "interpreter": {
   "hash": "427d4943968a1e3fc165f884a0cbd733d19eb316925f7601ef95e6c86f630a99"
  }
 },
 "nbformat": 4,
 "nbformat_minor": 2
}