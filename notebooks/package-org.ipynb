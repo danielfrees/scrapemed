{
 "cells": [
  {
   "cell_type": "code",
   "execution_count": 2,
   "source": [
    "%load_ext autoreload\n",
    "%autoreload 2\n",
    "import sys\n",
    "sys.path.insert(0, \"../../scrapemed\")\n",
    "import scrapemed._clean as _clean\n",
    "import scrapemed._morehtml as mhtml\n",
    "import scrapemed._parse as _parse\n",
    "import scrapemed._validate as _validate\n",
    "import scrapemed.paper as paper\n",
    "import scrapemed.scrape as scrape\n",
    "import scrapemed.trees as trees"
   ],
   "outputs": [
    {
     "output_type": "stream",
     "name": "stdout",
     "text": [
      "The autoreload extension is already loaded. To reload it, use:\n",
      "  %reload_ext autoreload\n"
     ]
    }
   ],
   "metadata": {}
  },
  {
   "cell_type": "markdown",
   "source": [
    "## Get list of all functions in package"
   ],
   "metadata": {}
  },
  {
   "cell_type": "code",
   "execution_count": 4,
   "source": [
    "function_list = []\n",
    "for package in [_clean, mhtml, _parse, _validate, paper, scrape, trees]:\n",
    "    function_list.extend([(package.__name__,func) for func in dir(package) if callable(getattr(package, func))])\n",
    "print(function_list)"
   ],
   "outputs": [
    {
     "output_type": "stream",
     "name": "stdout",
     "text": [
      "[('scrapemed._clean', '_remove_html_styling'), ('scrapemed._clean', '_remove_text_styling'), ('scrapemed._clean', 'clean_xml_string'), ('scrapemed._morehtml', 'unescape_except'), ('scrapemed._parse', 'TextParagraph'), ('scrapemed._parse', 'TextSection'), ('scrapemed._parse', 'badTextFormattingWarning'), ('scrapemed._parse', 'gather_abstract_sections'), ('scrapemed._parse', 'gather_acknowledgements'), ('scrapemed._parse', 'gather_authors'), ('scrapemed._parse', 'gather_body_sections'), ('scrapemed._parse', 'gather_title'), ('scrapemed._parse', 'generate_paper_dict'), ('scrapemed._parse', 'unexpectedMultipleXPathWarning'), ('scrapemed._validate', '_is_supported_wildcard_html'), ('scrapemed._validate', '_is_valid_sequence_attribute'), ('scrapemed._validate', '_is_valid_table_attribute'), ('scrapemed._validate', '_is_valid_table_wrap_attribute'), ('scrapemed._validate', '_is_valid_td_attribute'), ('scrapemed._validate', '_strip_wildcard_tags'), ('scrapemed._validate', '_update_supported_xml_html'), ('scrapemed._validate', 'markupLanguageAttributeException'), ('scrapemed._validate', 'markupLanguageTagException'), ('scrapemed._validate', 'markupLanguageValueWarning'), ('scrapemed._validate', 'validate_xml'), ('scrapemed.paper', 'Base'), ('scrapemed.paper', 'Boolean'), ('scrapemed.paper', 'CHAR'), ('scrapemed.paper', 'Column'), ('scrapemed.paper', 'DateTime'), ('scrapemed.paper', 'ForeignKey'), ('scrapemed.paper', 'Integer'), ('scrapemed.paper', 'Paper'), ('scrapemed.paper', 'String'), ('scrapemed.paper', 'TextSection'), ('scrapemed.paper', 'create_engine'), ('scrapemed.paper', 'declarative_base'), ('scrapemed.paper', 'sessionmaker'), ('scrapemed.scrape', '_get_xml_string'), ('scrapemed.scrape', 'get_xml'), ('scrapemed.scrape', 'validationWarning'), ('scrapemed.scrape', 'xml_tree_from_string'), ('scrapemed.trees', 'Digraph'), ('scrapemed.trees', '_add_elements'), ('scrapemed.trees', '_generate_data_dictionary'), ('scrapemed.trees', 'investigate_xml_tree'), ('scrapemed.trees', 'visualize_element_tree')]\n"
     ]
    }
   ],
   "metadata": {}
  },
  {
   "cell_type": "code",
   "execution_count": 5,
   "source": [
    "just_funcs = []\n",
    "for tup in function_list:\n",
    "    just_funcs.append(tup[1])\n",
    "print(just_funcs)"
   ],
   "outputs": [
    {
     "output_type": "stream",
     "name": "stdout",
     "text": [
      "['_remove_html_styling', '_remove_text_styling', 'clean_xml_string', 'unescape_except', 'TextParagraph', 'TextSection', 'badTextFormattingWarning', 'gather_abstract_sections', 'gather_acknowledgements', 'gather_authors', 'gather_body_sections', 'gather_title', 'generate_paper_dict', 'unexpectedMultipleXPathWarning', '_is_supported_wildcard_html', '_is_valid_sequence_attribute', '_is_valid_table_attribute', '_is_valid_table_wrap_attribute', '_is_valid_td_attribute', '_strip_wildcard_tags', '_update_supported_xml_html', 'markupLanguageAttributeException', 'markupLanguageTagException', 'markupLanguageValueWarning', 'validate_xml', 'Base', 'Boolean', 'CHAR', 'Column', 'DateTime', 'ForeignKey', 'Integer', 'Paper', 'String', 'TextSection', 'create_engine', 'declarative_base', 'sessionmaker', '_get_xml_string', 'get_xml', 'validationWarning', 'xml_tree_from_string', 'Digraph', '_add_elements', '_generate_data_dictionary', 'investigate_xml_tree', 'visualize_element_tree']\n"
     ]
    }
   ],
   "metadata": {}
  },
  {
   "cell_type": "code",
   "execution_count": null,
   "source": [],
   "outputs": [],
   "metadata": {}
  }
 ],
 "metadata": {
  "orig_nbformat": 4,
  "language_info": {
   "name": "python",
   "version": "3.10.9",
   "mimetype": "text/x-python",
   "codemirror_mode": {
    "name": "ipython",
    "version": 3
   },
   "pygments_lexer": "ipython3",
   "nbconvert_exporter": "python",
   "file_extension": ".py"
  },
  "kernelspec": {
   "name": "python3",
   "display_name": "Python 3.10.9 64-bit ('scrapemed': conda)"
  },
  "interpreter": {
   "hash": "427d4943968a1e3fc165f884a0cbd733d19eb316925f7601ef95e6c86f630a99"
  }
 },
 "nbformat": 4,
 "nbformat_minor": 2
}