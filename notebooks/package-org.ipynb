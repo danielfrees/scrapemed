{
 "cells": [
  {
   "cell_type": "code",
   "execution_count": 1,
   "source": [
    "%load_ext autoreload\n",
    "%autoreload 2\n",
    "import sys\n",
    "sys.path.insert(0, \"../../scrapemed\")\n",
    "import scrapemed._clean as _clean\n",
    "import scrapemed._morehtml as mhtml\n",
    "import scrapemed._parse as _parse\n",
    "import scrapemed._validate as _validate\n",
    "import scrapemed.paper as paper\n",
    "import scrapemed.scrape as scrape\n",
    "import scrapemed.trees as trees"
   ],
   "outputs": [],
   "metadata": {}
  },
  {
   "cell_type": "markdown",
   "source": [
    "## Get list of all functions in package"
   ],
   "metadata": {}
  },
  {
   "cell_type": "code",
   "execution_count": 2,
   "source": [
    "function_list = []\n",
    "for package in [_clean, mhtml, _parse, _validate, paper, scrape, trees]:\n",
    "    function_list.extend([(package.__name__,func) for func in dir(package) if callable(getattr(package, func))])\n",
    "print(function_list)"
   ],
   "outputs": [
    {
     "output_type": "stream",
     "name": "stdout",
     "text": [
      "[('scrapemed._clean', '_remove_html_styling'), ('scrapemed._clean', '_remove_text_styling'), ('scrapemed._clean', 'basicBiMap'), ('scrapemed._clean', 'clean_xml_string'), ('scrapemed._clean', 'split_text_and_refs'), ('scrapemed._clean', 'unexpectedTagWarning'), ('scrapemed._morehtml', 'generate_mhtml_tag'), ('scrapemed._morehtml', 'generate_typed_mhtml_tag'), ('scrapemed._morehtml', 'remove_mhtml_tags'), ('scrapemed._morehtml', 'unescape_except'), ('scrapemed._parse', 'Dict'), ('scrapemed._parse', 'List'), ('scrapemed._parse', 'Text'), ('scrapemed._parse', 'TextParagraph'), ('scrapemed._parse', 'TextSection'), ('scrapemed._parse', 'Tuple'), ('scrapemed._parse', 'Union'), ('scrapemed._parse', 'badTextFormattingWarning'), ('scrapemed._parse', 'basicBiMap'), ('scrapemed._parse', 'gather_abstract'), ('scrapemed._parse', 'gather_acknowledgements'), ('scrapemed._parse', 'gather_article_categories'), ('scrapemed._parse', 'gather_article_id'), ('scrapemed._parse', 'gather_article_meta'), ('scrapemed._parse', 'gather_article_type'), ('scrapemed._parse', 'gather_authors'), ('scrapemed._parse', 'gather_award_group'), ('scrapemed._parse', 'gather_body'), ('scrapemed._parse', 'gather_copyright_statement'), ('scrapemed._parse', 'gather_footnote'), ('scrapemed._parse', 'gather_funding_group'), ('scrapemed._parse', 'gather_funding_source'), ('scrapemed._parse', 'gather_institution'), ('scrapemed._parse', 'gather_institution_id'), ('scrapemed._parse', 'gather_issn'), ('scrapemed._parse', 'gather_issue'), ('scrapemed._parse', 'gather_journal_id'), ('scrapemed._parse', 'gather_journal_title'), ('scrapemed._parse', 'gather_license'), ('scrapemed._parse', 'gather_non_author_contributors'), ('scrapemed._parse', 'gather_notes'), ('scrapemed._parse', 'gather_permissions'), ('scrapemed._parse', 'gather_published_date'), ('scrapemed._parse', 'gather_publisher_location'), ('scrapemed._parse', 'gather_publisher_name'), ('scrapemed._parse', 'gather_reference_list'), ('scrapemed._parse', 'gather_subject'), ('scrapemed._parse', 'gather_title'), ('scrapemed._parse', 'gather_volume'), ('scrapemed._parse', 'generate_paper_dict'), ('scrapemed._parse', 'get_contributor_tuples'), ('scrapemed._parse', 'unexpectedMultipleMatchWarning'), ('scrapemed._parse', 'unexpectedZeroMatchWarning'), ('scrapemed._validate', 'StringIO'), ('scrapemed._validate', 'noDTDFoundError'), ('scrapemed._validate', 'validate_xml'), ('scrapemed.paper', 'Base'), ('scrapemed.paper', 'Boolean'), ('scrapemed.paper', 'CHAR'), ('scrapemed.paper', 'Column'), ('scrapemed.paper', 'DateTime'), ('scrapemed.paper', 'ForeignKey'), ('scrapemed.paper', 'Integer'), ('scrapemed.paper', 'Paper'), ('scrapemed.paper', 'String'), ('scrapemed.paper', 'TextSection'), ('scrapemed.paper', 'basicBiMap'), ('scrapemed.paper', 'create_engine'), ('scrapemed.paper', 'declarative_base'), ('scrapemed.paper', 'sessionmaker'), ('scrapemed.scrape', '_get_xml_string'), ('scrapemed.scrape', 'get_xml'), ('scrapemed.scrape', 'validationWarning'), ('scrapemed.scrape', 'xml_tree_from_string'), ('scrapemed.trees', 'Digraph'), ('scrapemed.trees', '_add_elements'), ('scrapemed.trees', '_generate_data_dictionary'), ('scrapemed.trees', 'investigate_xml_tree'), ('scrapemed.trees', 'visualize_element_tree')]\n"
     ]
    }
   ],
   "metadata": {}
  },
  {
   "cell_type": "code",
   "execution_count": 3,
   "source": [
    "just_funcs = []\n",
    "for tup in function_list:\n",
    "    just_funcs.append(tup[1])\n",
    "print(just_funcs)"
   ],
   "outputs": [
    {
     "output_type": "stream",
     "name": "stdout",
     "text": [
      "['_remove_html_styling', '_remove_text_styling', 'basicBiMap', 'clean_xml_string', 'split_text_and_refs', 'unexpectedTagWarning', 'generate_mhtml_tag', 'generate_typed_mhtml_tag', 'remove_mhtml_tags', 'unescape_except', 'Dict', 'List', 'Text', 'TextParagraph', 'TextSection', 'Tuple', 'Union', 'badTextFormattingWarning', 'basicBiMap', 'gather_abstract', 'gather_acknowledgements', 'gather_article_categories', 'gather_article_id', 'gather_article_meta', 'gather_article_type', 'gather_authors', 'gather_award_group', 'gather_body', 'gather_copyright_statement', 'gather_footnote', 'gather_funding_group', 'gather_funding_source', 'gather_institution', 'gather_institution_id', 'gather_issn', 'gather_issue', 'gather_journal_id', 'gather_journal_title', 'gather_license', 'gather_non_author_contributors', 'gather_notes', 'gather_permissions', 'gather_published_date', 'gather_publisher_location', 'gather_publisher_name', 'gather_reference_list', 'gather_subject', 'gather_title', 'gather_volume', 'generate_paper_dict', 'get_contributor_tuples', 'unexpectedMultipleMatchWarning', 'unexpectedZeroMatchWarning', 'StringIO', 'noDTDFoundError', 'validate_xml', 'Base', 'Boolean', 'CHAR', 'Column', 'DateTime', 'ForeignKey', 'Integer', 'Paper', 'String', 'TextSection', 'basicBiMap', 'create_engine', 'declarative_base', 'sessionmaker', '_get_xml_string', 'get_xml', 'validationWarning', 'xml_tree_from_string', 'Digraph', '_add_elements', '_generate_data_dictionary', 'investigate_xml_tree', 'visualize_element_tree']\n"
     ]
    }
   ],
   "metadata": {}
  },
  {
   "cell_type": "code",
   "execution_count": null,
   "source": [],
   "outputs": [],
   "metadata": {}
  }
 ],
 "metadata": {
  "orig_nbformat": 4,
  "language_info": {
   "name": "python",
   "version": "3.10.9",
   "mimetype": "text/x-python",
   "codemirror_mode": {
    "name": "ipython",
    "version": 3
   },
   "pygments_lexer": "ipython3",
   "nbconvert_exporter": "python",
   "file_extension": ".py"
  },
  "kernelspec": {
   "name": "python3",
   "display_name": "Python 3.10.9 64-bit ('scrapemed': conda)"
  },
  "interpreter": {
   "hash": "427d4943968a1e3fc165f884a0cbd733d19eb316925f7601ef95e6c86f630a99"
  }
 },
 "nbformat": 4,
 "nbformat_minor": 2
}