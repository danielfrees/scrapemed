{
 "cells": [
  {
   "cell_type": "code",
   "execution_count": 1,
   "metadata": {},
   "outputs": [],
   "source": [
    "import scrapemed as smed \n",
    "import pandas as pd  \n",
    "from scrapemed.paper import Paper\n",
    "import scrapemed.scrape as scrape\n",
    "from scrapemed.paperSet import paperSet\n",
    "import os\n",
    "from Bio import Entrez\n",
    "import scrapemed.paper as paper"
   ]
  },
  {
   "cell_type": "code",
   "execution_count": 2,
   "metadata": {},
   "outputs": [],
   "source": [
    "EMAIL = os.getenv(\"PMC_EMAIL\")\n",
    "Entrez.email = EMAIL\n",
    "\n",
    "# test pmc scraping\n",
    "brain_surgery_articles = scrape.search_pmc(\n",
    "    EMAIL, \"brain[ti] AND surgery[ti]\", retmax=10, verbose=False\n",
    ")[\"IdList\"]"
   ]
  },
  {
   "cell_type": "code",
   "execution_count": 3,
   "metadata": {},
   "outputs": [
    {
     "data": {
      "text/plain": [
       "['10744829', '10711149', '10710589', '10698442', '10692402', '10749855', '10742002', '10714222', '10681104', '10680896']"
      ]
     },
     "execution_count": 3,
     "metadata": {},
     "output_type": "execute_result"
    }
   ],
   "source": [
    "brain_surgery_articles"
   ]
  },
  {
   "cell_type": "code",
   "execution_count": 6,
   "metadata": {},
   "outputs": [
    {
     "name": "stdout",
     "output_type": "stream",
     "text": [
      "Generating paperSet from PMCID list (This can take a while due to PMC HTTP Request Limitations!)...\n",
      "Done generating paperSet!\n"
     ]
    }
   ],
   "source": [
    "pset = paperSet.from_pmcid_list(brain_surgery_articles, EMAIL)"
   ]
  },
  {
   "cell_type": "code",
   "execution_count": 5,
   "metadata": {},
   "outputs": [
    {
     "name": "stderr",
     "output_type": "stream",
     "text": [
      "unexpectedMultipleMatchWarning: Warning! Multiple titles matched. Setting Paper.title to the first match.\n",
      "\n",
      "unexpectedTagWarning: Tag of type sc found in a text portion of the provided markup language. Expected only HTML styling tags, or tags from the following list: ['xref', 'fig', 'table-wrap']. Specified unknown tag behavior: keep. Warning occured in a text section with id: Par6.\n",
      "\n"
     ]
    }
   ],
   "source": [
    "#Specify creds and PMCID\n",
    "\n",
    "PMCID = 7067710\n",
    "email = os.getenv(\"PMC_EMAIL\")\n",
    "\n",
    "p = paper.Paper.from_pmc(PMCID, email, download=False)"
   ]
  },
  {
   "cell_type": "code",
   "execution_count": null,
   "metadata": {},
   "outputs": [],
   "source": []
  }
 ],
 "metadata": {
  "kernelspec": {
   "display_name": "scrapemed",
   "language": "python",
   "name": "python3"
  },
  "language_info": {
   "codemirror_mode": {
    "name": "ipython",
    "version": 3
   },
   "file_extension": ".py",
   "mimetype": "text/x-python",
   "name": "python",
   "nbconvert_exporter": "python",
   "pygments_lexer": "ipython3",
   "version": "3.11.7"
  }
 },
 "nbformat": 4,
 "nbformat_minor": 2
}
