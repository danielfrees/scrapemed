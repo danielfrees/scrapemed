{
 "cells": [
  {
   "cell_type": "code",
   "execution_count": 1,
   "metadata": {},
   "outputs": [],
   "source": [
    "import scrapemed as smed \n",
    "import pandas as pd  \n",
    "from scrapemed.paper import Paper\n",
    "import scrapemed.scrape as scrape\n",
    "from scrapemed.paperSet import paperSet\n",
    "import os\n",
    "from Bio import Entrez"
   ]
  },
  {
   "cell_type": "code",
   "execution_count": 2,
   "metadata": {},
   "outputs": [],
   "source": [
    "EMAIL = os.getenv(\"PMC_EMAIL\")\n",
    "Entrez.email = EMAIL\n",
    "\n",
    "# test pmc scraping\n",
    "brain_surgery_articles = scrape.search_pmc(\n",
    "    EMAIL, \"brain[ti] AND surgery[ti]\", retmax=10, verbose=False\n",
    ")[\"IdList\"]"
   ]
  },
  {
   "cell_type": "code",
   "execution_count": null,
   "metadata": {},
   "outputs": [
    {
     "data": {
      "text/plain": [
       "['10744829', '10711149', '10710589', '10698442', '10692402', '10749855', '10742002', '10714222', '10681104', '10680896']"
      ]
     },
     "execution_count": 6,
     "metadata": {},
     "output_type": "execute_result"
    }
   ],
   "source": [
    "brain_surgery_articles"
   ]
  },
  {
   "cell_type": "code",
   "execution_count": null,
   "metadata": {},
   "outputs": [
    {
     "ename": "NameError",
     "evalue": "name 'paperSet' is not defined",
     "output_type": "error",
     "traceback": [
      "\u001b[0;31m---------------------------------------------------------------------------\u001b[0m",
      "\u001b[0;31mNameError\u001b[0m                                 Traceback (most recent call last)",
      "Cell \u001b[0;32mIn[1], line 1\u001b[0m\n\u001b[0;32m----> 1\u001b[0m pset \u001b[38;5;241m=\u001b[39m \u001b[43mpaperSet\u001b[49m\u001b[38;5;241m.\u001b[39mfrom_pmcid_list(brain_surgery_articles, EMAIL)\n",
      "\u001b[0;31mNameError\u001b[0m: name 'paperSet' is not defined"
     ]
    }
   ],
   "source": [
    "#pset = paperSet.from_pmcid_list(brain_surgery_articles, EMAIL)"
   ]
  },
  {
   "cell_type": "code",
   "execution_count": 3,
   "metadata": {},
   "outputs": [
    {
     "name": "stdout",
     "output_type": "stream",
     "text": [
      "Generating paperSet from search (This can take a while due to PMC HTTP Request Limitations!)...\n"
     ]
    },
    {
     "ename": "DTDParseError",
     "evalue": "error parsing DTD",
     "output_type": "error",
     "traceback": [
      "\u001b[0;31m---------------------------------------------------------------------------\u001b[0m",
      "\u001b[0;31mDTDParseError\u001b[0m                             Traceback (most recent call last)",
      "Cell \u001b[0;32mIn[3], line 2\u001b[0m\n\u001b[1;32m      1\u001b[0m EMAIL \u001b[38;5;241m=\u001b[39m os\u001b[38;5;241m.\u001b[39mgetenv(\u001b[38;5;124m\"\u001b[39m\u001b[38;5;124mPMC_EMAIL\u001b[39m\u001b[38;5;124m\"\u001b[39m)\n\u001b[0;32m----> 2\u001b[0m pset \u001b[38;5;241m=\u001b[39m \u001b[43mpaperSet\u001b[49m\u001b[38;5;241;43m.\u001b[39;49m\u001b[43mfrom_search\u001b[49m\u001b[43m(\u001b[49m\u001b[43mEMAIL\u001b[49m\u001b[43m,\u001b[49m\u001b[43m \u001b[49m\u001b[43mterm\u001b[49m\u001b[38;5;241;43m=\u001b[39;49m\u001b[38;5;124;43m\"\u001b[39;49m\u001b[38;5;124;43mbrain[ti] AND surgery[ti]\u001b[39;49m\u001b[38;5;124;43m\"\u001b[39;49m\u001b[43m,\u001b[49m\u001b[43m \u001b[49m\u001b[43mretmax\u001b[49m\u001b[38;5;241;43m=\u001b[39;49m\u001b[38;5;241;43m3\u001b[39;49m\u001b[43m)\u001b[49m\n\u001b[1;32m      3\u001b[0m \u001b[38;5;28;01massert\u001b[39;00m \u001b[38;5;28mlen\u001b[39m(pset\u001b[38;5;241m.\u001b[39mpapers) \u001b[38;5;241m==\u001b[39m \u001b[38;5;241m3\u001b[39m\n",
      "File \u001b[0;32m~/miniconda3/envs/scrapemed/lib/python3.11/site-packages/scrapemed/paperSet.py:112\u001b[0m, in \u001b[0;36mpaperSet.from_search\u001b[0;34m(cls, email, term, retmax, verbose, suppress_warnings, suppress_errors)\u001b[0m\n\u001b[1;32m    103\u001b[0m \u001b[38;5;28mprint\u001b[39m(\n\u001b[1;32m    104\u001b[0m     (\n\u001b[1;32m    105\u001b[0m         \u001b[38;5;124m\"\u001b[39m\u001b[38;5;124mGenerating paperSet from search (This can take a while due to \u001b[39m\u001b[38;5;124m\"\u001b[39m\n\u001b[1;32m    106\u001b[0m         \u001b[38;5;124m\"\u001b[39m\u001b[38;5;124mPMC HTTP Request Limitations!)...\u001b[39m\u001b[38;5;124m\"\u001b[39m\n\u001b[1;32m    107\u001b[0m     )\n\u001b[1;32m    108\u001b[0m )\n\u001b[1;32m    109\u001b[0m pmcid_list \u001b[38;5;241m=\u001b[39m scrape\u001b[38;5;241m.\u001b[39msearch_pmc(\n\u001b[1;32m    110\u001b[0m     email\u001b[38;5;241m=\u001b[39memail, term\u001b[38;5;241m=\u001b[39mterm, retmax\u001b[38;5;241m=\u001b[39mretmax, verbose\u001b[38;5;241m=\u001b[39mverbose\n\u001b[1;32m    111\u001b[0m )[\u001b[38;5;124m\"\u001b[39m\u001b[38;5;124mIdList\u001b[39m\u001b[38;5;124m\"\u001b[39m]\n\u001b[0;32m--> 112\u001b[0m paper_list \u001b[38;5;241m=\u001b[39m \u001b[43m[\u001b[49m\n\u001b[1;32m    113\u001b[0m \u001b[43m    \u001b[49m\u001b[43mPaper\u001b[49m\u001b[38;5;241;43m.\u001b[39;49m\u001b[43mfrom_pmc\u001b[49m\u001b[43m(\u001b[49m\n\u001b[1;32m    114\u001b[0m \u001b[43m        \u001b[49m\u001b[43mpmcid\u001b[49m\u001b[43m,\u001b[49m\n\u001b[1;32m    115\u001b[0m \u001b[43m        \u001b[49m\u001b[43memail\u001b[49m\u001b[38;5;241;43m=\u001b[39;49m\u001b[43memail\u001b[49m\u001b[43m,\u001b[49m\n\u001b[1;32m    116\u001b[0m \u001b[43m        \u001b[49m\u001b[43mverbose\u001b[49m\u001b[38;5;241;43m=\u001b[39;49m\u001b[43mverbose\u001b[49m\u001b[43m,\u001b[49m\n\u001b[1;32m    117\u001b[0m \u001b[43m        \u001b[49m\u001b[43msuppress_warnings\u001b[49m\u001b[38;5;241;43m=\u001b[39;49m\u001b[43msuppress_warnings\u001b[49m\u001b[43m,\u001b[49m\n\u001b[1;32m    118\u001b[0m \u001b[43m        \u001b[49m\u001b[43msuppress_errors\u001b[49m\u001b[38;5;241;43m=\u001b[39;49m\u001b[43msuppress_errors\u001b[49m\u001b[43m,\u001b[49m\n\u001b[1;32m    119\u001b[0m \u001b[43m    \u001b[49m\u001b[43m)\u001b[49m\n\u001b[1;32m    120\u001b[0m \u001b[43m    \u001b[49m\u001b[38;5;28;43;01mfor\u001b[39;49;00m\u001b[43m \u001b[49m\u001b[43mpmcid\u001b[49m\u001b[43m \u001b[49m\u001b[38;5;129;43;01min\u001b[39;49;00m\u001b[43m \u001b[49m\u001b[43mpmcid_list\u001b[49m\n\u001b[1;32m    121\u001b[0m \u001b[43m\u001b[49m\u001b[43m]\u001b[49m\n\u001b[1;32m    123\u001b[0m \u001b[38;5;28;01mreturn\u001b[39;00m \u001b[38;5;28mcls\u001b[39m(papers\u001b[38;5;241m=\u001b[39mpaper_list)\n",
      "File \u001b[0;32m~/miniconda3/envs/scrapemed/lib/python3.11/site-packages/scrapemed/paperSet.py:113\u001b[0m, in \u001b[0;36m<listcomp>\u001b[0;34m(.0)\u001b[0m\n\u001b[1;32m    103\u001b[0m \u001b[38;5;28mprint\u001b[39m(\n\u001b[1;32m    104\u001b[0m     (\n\u001b[1;32m    105\u001b[0m         \u001b[38;5;124m\"\u001b[39m\u001b[38;5;124mGenerating paperSet from search (This can take a while due to \u001b[39m\u001b[38;5;124m\"\u001b[39m\n\u001b[1;32m    106\u001b[0m         \u001b[38;5;124m\"\u001b[39m\u001b[38;5;124mPMC HTTP Request Limitations!)...\u001b[39m\u001b[38;5;124m\"\u001b[39m\n\u001b[1;32m    107\u001b[0m     )\n\u001b[1;32m    108\u001b[0m )\n\u001b[1;32m    109\u001b[0m pmcid_list \u001b[38;5;241m=\u001b[39m scrape\u001b[38;5;241m.\u001b[39msearch_pmc(\n\u001b[1;32m    110\u001b[0m     email\u001b[38;5;241m=\u001b[39memail, term\u001b[38;5;241m=\u001b[39mterm, retmax\u001b[38;5;241m=\u001b[39mretmax, verbose\u001b[38;5;241m=\u001b[39mverbose\n\u001b[1;32m    111\u001b[0m )[\u001b[38;5;124m\"\u001b[39m\u001b[38;5;124mIdList\u001b[39m\u001b[38;5;124m\"\u001b[39m]\n\u001b[1;32m    112\u001b[0m paper_list \u001b[38;5;241m=\u001b[39m [\n\u001b[0;32m--> 113\u001b[0m     \u001b[43mPaper\u001b[49m\u001b[38;5;241;43m.\u001b[39;49m\u001b[43mfrom_pmc\u001b[49m\u001b[43m(\u001b[49m\n\u001b[1;32m    114\u001b[0m \u001b[43m        \u001b[49m\u001b[43mpmcid\u001b[49m\u001b[43m,\u001b[49m\n\u001b[1;32m    115\u001b[0m \u001b[43m        \u001b[49m\u001b[43memail\u001b[49m\u001b[38;5;241;43m=\u001b[39;49m\u001b[43memail\u001b[49m\u001b[43m,\u001b[49m\n\u001b[1;32m    116\u001b[0m \u001b[43m        \u001b[49m\u001b[43mverbose\u001b[49m\u001b[38;5;241;43m=\u001b[39;49m\u001b[43mverbose\u001b[49m\u001b[43m,\u001b[49m\n\u001b[1;32m    117\u001b[0m \u001b[43m        \u001b[49m\u001b[43msuppress_warnings\u001b[49m\u001b[38;5;241;43m=\u001b[39;49m\u001b[43msuppress_warnings\u001b[49m\u001b[43m,\u001b[49m\n\u001b[1;32m    118\u001b[0m \u001b[43m        \u001b[49m\u001b[43msuppress_errors\u001b[49m\u001b[38;5;241;43m=\u001b[39;49m\u001b[43msuppress_errors\u001b[49m\u001b[43m,\u001b[49m\n\u001b[1;32m    119\u001b[0m \u001b[43m    \u001b[49m\u001b[43m)\u001b[49m\n\u001b[1;32m    120\u001b[0m     \u001b[38;5;28;01mfor\u001b[39;00m pmcid \u001b[38;5;129;01min\u001b[39;00m pmcid_list\n\u001b[1;32m    121\u001b[0m ]\n\u001b[1;32m    123\u001b[0m \u001b[38;5;28;01mreturn\u001b[39;00m \u001b[38;5;28mcls\u001b[39m(papers\u001b[38;5;241m=\u001b[39mpaper_list)\n",
      "File \u001b[0;32m~/miniconda3/envs/scrapemed/lib/python3.11/site-packages/scrapemed/paper.py:231\u001b[0m, in \u001b[0;36mPaper.from_pmc\u001b[0;34m(cls, pmcid, email, download, validate, verbose, suppress_warnings, suppress_errors)\u001b[0m\n\u001b[1;32m    229\u001b[0m \u001b[38;5;28;01mfor\u001b[39;00m i \u001b[38;5;129;01min\u001b[39;00m \u001b[38;5;28mrange\u001b[39m(NUM_TRIES):\n\u001b[1;32m    230\u001b[0m     \u001b[38;5;28;01mtry\u001b[39;00m:\n\u001b[0;32m--> 231\u001b[0m         paper_dict \u001b[38;5;241m=\u001b[39m \u001b[43mparse\u001b[49m\u001b[38;5;241;43m.\u001b[39;49m\u001b[43mpaper_dict_from_pmc\u001b[49m\u001b[43m(\u001b[49m\n\u001b[1;32m    232\u001b[0m \u001b[43m            \u001b[49m\u001b[43mpmcid\u001b[49m\u001b[38;5;241;43m=\u001b[39;49m\u001b[43mpmcid\u001b[49m\u001b[43m,\u001b[49m\n\u001b[1;32m    233\u001b[0m \u001b[43m            \u001b[49m\u001b[43memail\u001b[49m\u001b[38;5;241;43m=\u001b[39;49m\u001b[43memail\u001b[49m\u001b[43m,\u001b[49m\n\u001b[1;32m    234\u001b[0m \u001b[43m            \u001b[49m\u001b[43mdownload\u001b[49m\u001b[38;5;241;43m=\u001b[39;49m\u001b[43mdownload\u001b[49m\u001b[43m,\u001b[49m\n\u001b[1;32m    235\u001b[0m \u001b[43m            \u001b[49m\u001b[43mvalidate\u001b[49m\u001b[38;5;241;43m=\u001b[39;49m\u001b[43mvalidate\u001b[49m\u001b[43m,\u001b[49m\n\u001b[1;32m    236\u001b[0m \u001b[43m            \u001b[49m\u001b[43mverbose\u001b[49m\u001b[38;5;241;43m=\u001b[39;49m\u001b[43mverbose\u001b[49m\u001b[43m,\u001b[49m\n\u001b[1;32m    237\u001b[0m \u001b[43m            \u001b[49m\u001b[43msuppress_warnings\u001b[49m\u001b[38;5;241;43m=\u001b[39;49m\u001b[43msuppress_warnings\u001b[49m\u001b[43m,\u001b[49m\n\u001b[1;32m    238\u001b[0m \u001b[43m            \u001b[49m\u001b[43msuppress_errors\u001b[49m\u001b[38;5;241;43m=\u001b[39;49m\u001b[43msuppress_errors\u001b[49m\u001b[43m,\u001b[49m\n\u001b[1;32m    239\u001b[0m \u001b[43m        \u001b[49m\u001b[43m)\u001b[49m\n\u001b[1;32m    240\u001b[0m         \u001b[38;5;28;01mbreak\u001b[39;00m\n\u001b[1;32m    241\u001b[0m     \u001b[38;5;28;01mexcept\u001b[39;00m HTTPError:\n",
      "File \u001b[0;32m~/miniconda3/envs/scrapemed/lib/python3.11/site-packages/scrapemed/_parse.py:130\u001b[0m, in \u001b[0;36mpaper_dict_from_pmc\u001b[0;34m(pmcid, email, download, validate, verbose, suppress_warnings, suppress_errors)\u001b[0m\n\u001b[1;32m    128\u001b[0m     \u001b[38;5;28mprint\u001b[39m(\u001b[38;5;124mf\u001b[39m\u001b[38;5;124m\"\u001b[39m\u001b[38;5;124mGenerating Paper object for PMCID = \u001b[39m\u001b[38;5;132;01m{\u001b[39;00mpmcid\u001b[38;5;132;01m}\u001b[39;00m\u001b[38;5;124m...\u001b[39m\u001b[38;5;124m\"\u001b[39m)\n\u001b[1;32m    129\u001b[0m \u001b[38;5;66;03m# DOWNLOAD XML TREE AND GET ROOT\u001b[39;00m\n\u001b[0;32m--> 130\u001b[0m paper_tree \u001b[38;5;241m=\u001b[39m \u001b[43mscrape\u001b[49m\u001b[38;5;241;43m.\u001b[39;49m\u001b[43mget_xml\u001b[49m\u001b[43m(\u001b[49m\n\u001b[1;32m    131\u001b[0m \u001b[43m    \u001b[49m\u001b[43mpmcid\u001b[49m\u001b[38;5;241;43m=\u001b[39;49m\u001b[43mpmcid\u001b[49m\u001b[43m,\u001b[49m\u001b[43m \u001b[49m\u001b[43memail\u001b[49m\u001b[38;5;241;43m=\u001b[39;49m\u001b[43memail\u001b[49m\u001b[43m,\u001b[49m\u001b[43m \u001b[49m\u001b[43mdownload\u001b[49m\u001b[38;5;241;43m=\u001b[39;49m\u001b[43mdownload\u001b[49m\u001b[43m,\u001b[49m\u001b[43m \u001b[49m\u001b[43mvalidate\u001b[49m\u001b[38;5;241;43m=\u001b[39;49m\u001b[43mvalidate\u001b[49m\u001b[43m,\u001b[49m\u001b[43m \u001b[49m\u001b[43mverbose\u001b[49m\u001b[38;5;241;43m=\u001b[39;49m\u001b[43mverbose\u001b[49m\n\u001b[1;32m    132\u001b[0m \u001b[43m\u001b[49m\u001b[43m)\u001b[49m\n\u001b[1;32m    133\u001b[0m root \u001b[38;5;241m=\u001b[39m paper_tree\u001b[38;5;241m.\u001b[39mgetroot()\n\u001b[1;32m    135\u001b[0m \u001b[38;5;28;01mreturn\u001b[39;00m generate_paper_dict(\n\u001b[1;32m    136\u001b[0m     pmcid\u001b[38;5;241m=\u001b[39mpmcid,\n\u001b[1;32m    137\u001b[0m     paper_root\u001b[38;5;241m=\u001b[39mroot,\n\u001b[0;32m   (...)\u001b[0m\n\u001b[1;32m    140\u001b[0m     suppress_errors\u001b[38;5;241m=\u001b[39msuppress_errors,\n\u001b[1;32m    141\u001b[0m )\n",
      "File \u001b[0;32m~/miniconda3/envs/scrapemed/lib/python3.11/site-packages/scrapemed/scrape.py:123\u001b[0m, in \u001b[0;36mget_xml\u001b[0;34m(pmcid, email, download, validate, strip_text_styling, verbose)\u001b[0m\n\u001b[1;32m    116\u001b[0m tree \u001b[38;5;241m=\u001b[39m xml_tree_from_string(\n\u001b[1;32m    117\u001b[0m     xml_string\u001b[38;5;241m=\u001b[39mxml_text, strip_text_styling\u001b[38;5;241m=\u001b[39mstrip_text_styling, verbose\u001b[38;5;241m=\u001b[39mverbose\n\u001b[1;32m    118\u001b[0m )\n\u001b[1;32m    120\u001b[0m \u001b[38;5;28;01mif\u001b[39;00m validate:\n\u001b[1;32m    121\u001b[0m     \u001b[38;5;66;03m# Validate tags, attrs, values are supported for\u001b[39;00m\n\u001b[1;32m    122\u001b[0m     \u001b[38;5;66;03m# parsing by the scrapemed package.\u001b[39;00m\n\u001b[0;32m--> 123\u001b[0m     \u001b[43m_validate\u001b[49m\u001b[38;5;241;43m.\u001b[39;49m\u001b[43mvalidate_xml\u001b[49m\u001b[43m(\u001b[49m\u001b[43mtree\u001b[49m\u001b[43m)\u001b[49m\n\u001b[1;32m    124\u001b[0m \u001b[38;5;28;01melse\u001b[39;00m:\n\u001b[1;32m    125\u001b[0m     warnings\u001b[38;5;241m.\u001b[39mwarn(\n\u001b[1;32m    126\u001b[0m         (\n\u001b[1;32m    127\u001b[0m             \u001b[38;5;124mf\u001b[39m\u001b[38;5;124m\"\u001b[39m\u001b[38;5;124mWarning! Scraping XML for PMCID \u001b[39m\u001b[38;5;132;01m{\u001b[39;00mpmcid\u001b[38;5;132;01m}\u001b[39;00m\u001b[38;5;124m from \u001b[39m\u001b[38;5;124m\"\u001b[39m\n\u001b[0;32m   (...)\u001b[0m\n\u001b[1;32m    130\u001b[0m         validationWarning,\n\u001b[1;32m    131\u001b[0m     )\n",
      "File \u001b[0;32m~/miniconda3/envs/scrapemed/lib/python3.11/site-packages/scrapemed/_validate.py:81\u001b[0m, in \u001b[0;36mvalidate_xml\u001b[0;34m(xml)\u001b[0m\n\u001b[1;32m     78\u001b[0m \u001b[38;5;28;01mwith\u001b[39;00m \u001b[38;5;28mopen\u001b[39m(dtd_filepath, \u001b[38;5;124m\"\u001b[39m\u001b[38;5;124mr\u001b[39m\u001b[38;5;124m\"\u001b[39m) \u001b[38;5;28;01mas\u001b[39;00m f:\n\u001b[1;32m     79\u001b[0m     dtd_doc \u001b[38;5;241m=\u001b[39m f\u001b[38;5;241m.\u001b[39mread()\n\u001b[0;32m---> 81\u001b[0m dtd \u001b[38;5;241m=\u001b[39m \u001b[43mET\u001b[49m\u001b[38;5;241;43m.\u001b[39;49m\u001b[43mDTD\u001b[49m\u001b[43m(\u001b[49m\u001b[43mStringIO\u001b[49m\u001b[43m(\u001b[49m\u001b[43mdtd_doc\u001b[49m\u001b[43m)\u001b[49m\u001b[43m)\u001b[49m\n\u001b[1;32m     83\u001b[0m \u001b[38;5;28;01mreturn\u001b[39;00m dtd\u001b[38;5;241m.\u001b[39mvalidate(xml)\n",
      "File \u001b[0;32msrc/lxml/dtd.pxi:291\u001b[0m, in \u001b[0;36mlxml.etree.DTD.__init__\u001b[0;34m()\u001b[0m\n",
      "File \u001b[0;32msrc/lxml/dtd.pxi:409\u001b[0m, in \u001b[0;36mlxml.etree._parseDtdFromFilelike\u001b[0;34m()\u001b[0m\n",
      "\u001b[0;31mDTDParseError\u001b[0m: error parsing DTD"
     ]
    }
   ],
   "source": [
    "EMAIL = os.getenv(\"PMC_EMAIL\")\n",
    "pset = paperSet.from_search(EMAIL, term=\"brain[ti] AND surgery[ti]\", retmax=3)\n",
    "assert len(pset.papers) == 3"
   ]
  },
  {
   "cell_type": "code",
   "execution_count": null,
   "metadata": {},
   "outputs": [],
   "source": []
  }
 ],
 "metadata": {
  "kernelspec": {
   "display_name": "scrapemed",
   "language": "python",
   "name": "python3"
  },
  "language_info": {
   "codemirror_mode": {
    "name": "ipython",
    "version": 3
   },
   "file_extension": ".py",
   "mimetype": "text/x-python",
   "name": "python",
   "nbconvert_exporter": "python",
   "pygments_lexer": "ipython3",
   "version": "3.11.7"
  }
 },
 "nbformat": 4,
 "nbformat_minor": 2
}
