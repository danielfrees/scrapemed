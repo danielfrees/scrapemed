{
 "cells": [
  {
   "cell_type": "code",
   "execution_count": 34,
   "metadata": {},
   "outputs": [
    {
     "name": "stdout",
     "output_type": "stream",
     "text": [
      "The autoreload extension is already loaded. To reload it, use:\n",
      "  %reload_ext autoreload\n"
     ]
    },
    {
     "data": {
      "text/plain": [
       "True"
      ]
     },
     "execution_count": 34,
     "metadata": {},
     "output_type": "execute_result"
    }
   ],
   "source": [
    "%load_ext autoreload\n",
    "%autoreload 2\n",
    "import sys\n",
    "sys.path.insert(0, \"../../scrapemed\")\n",
    "\n",
    "import scrapemed.paper as paper\n",
    "import pandas as pd\n",
    "import lxml\n",
    "from dotenv import load_dotenv\n",
    "import os\n",
    "load_dotenv()"
   ]
  },
  {
   "cell_type": "markdown",
   "metadata": {},
   "source": [
    "## Download a Paper from PMC"
   ]
  },
  {
   "cell_type": "code",
   "execution_count": 35,
   "metadata": {},
   "outputs": [
    {
     "name": "stderr",
     "output_type": "stream",
     "text": [
      "unexpectedMultipleMatchWarning: Warning! Multiple titles matched. Setting Paper.title to the first match.\n",
      "\n",
      "unexpectedTagWarning: Tag of type sc found in a text portion of the provided markup language. Expected only HTML styling tags, or tags from the following list: ['xref', 'fig', 'table-wrap']. Specified unknown tag behavior: keep. Warning occured in a text section with id: Par6.\n",
      "\n"
     ]
    }
   ],
   "source": [
    "#Specify creds and PMCID\n",
    "\n",
    "PMCID = 7067710\n",
    "email = os.getenv(\"PMC_EMAIL\")\n",
    "\n",
    "p = paper.Paper.from_pmc(PMCID, email, download=False)"
   ]
  },
  {
   "cell_type": "markdown",
   "metadata": {},
   "source": [
    "## Natural Language Querying and Paper Embeddings"
   ]
  },
  {
   "cell_type": "code",
   "execution_count": 36,
   "metadata": {},
   "outputs": [
    {
     "name": "stdout",
     "output_type": "stream",
     "text": [
      "Vectorizing Paper (This may take a little while)...\n"
     ]
    },
    {
     "name": "stderr",
     "output_type": "stream",
     "text": [
      "Insert of existing embedding ID: pmcid-7067710-chunk-0\n",
      "Insert of existing embedding ID: pmcid-7067710-chunk-1\n",
      "Insert of existing embedding ID: pmcid-7067710-chunk-2\n",
      "Insert of existing embedding ID: pmcid-7067710-chunk-3\n",
      "Insert of existing embedding ID: pmcid-7067710-chunk-4\n",
      "Insert of existing embedding ID: pmcid-7067710-chunk-5\n",
      "Insert of existing embedding ID: pmcid-7067710-chunk-6\n",
      "Insert of existing embedding ID: pmcid-7067710-chunk-7\n",
      "Insert of existing embedding ID: pmcid-7067710-chunk-8\n",
      "Insert of existing embedding ID: pmcid-7067710-chunk-9\n",
      "Insert of existing embedding ID: pmcid-7067710-chunk-10\n",
      "Insert of existing embedding ID: pmcid-7067710-chunk-11\n",
      "Insert of existing embedding ID: pmcid-7067710-chunk-12\n",
      "Insert of existing embedding ID: pmcid-7067710-chunk-13\n",
      "Insert of existing embedding ID: pmcid-7067710-chunk-14\n",
      "Insert of existing embedding ID: pmcid-7067710-chunk-15\n",
      "Insert of existing embedding ID: pmcid-7067710-chunk-16\n",
      "Insert of existing embedding ID: pmcid-7067710-chunk-17\n",
      "Insert of existing embedding ID: pmcid-7067710-chunk-18\n",
      "Insert of existing embedding ID: pmcid-7067710-chunk-19\n",
      "Insert of existing embedding ID: pmcid-7067710-chunk-20\n",
      "Insert of existing embedding ID: pmcid-7067710-chunk-21\n",
      "Insert of existing embedding ID: pmcid-7067710-chunk-22\n",
      "Insert of existing embedding ID: pmcid-7067710-chunk-23\n",
      "Insert of existing embedding ID: pmcid-7067710-chunk-24\n",
      "Insert of existing embedding ID: pmcid-7067710-chunk-25\n",
      "Insert of existing embedding ID: pmcid-7067710-chunk-26\n",
      "Insert of existing embedding ID: pmcid-7067710-chunk-27\n",
      "Insert of existing embedding ID: pmcid-7067710-chunk-28\n",
      "Insert of existing embedding ID: pmcid-7067710-chunk-29\n",
      "Insert of existing embedding ID: pmcid-7067710-chunk-30\n",
      "Insert of existing embedding ID: pmcid-7067710-chunk-31\n",
      "Insert of existing embedding ID: pmcid-7067710-chunk-32\n",
      "Insert of existing embedding ID: pmcid-7067710-chunk-33\n",
      "Insert of existing embedding ID: pmcid-7067710-chunk-34\n",
      "Insert of existing embedding ID: pmcid-7067710-chunk-35\n",
      "Insert of existing embedding ID: pmcid-7067710-chunk-36\n",
      "Insert of existing embedding ID: pmcid-7067710-chunk-37\n",
      "Insert of existing embedding ID: pmcid-7067710-chunk-38\n",
      "Insert of existing embedding ID: pmcid-7067710-chunk-39\n",
      "Insert of existing embedding ID: pmcid-7067710-chunk-40\n",
      "Insert of existing embedding ID: pmcid-7067710-chunk-41\n",
      "Insert of existing embedding ID: pmcid-7067710-chunk-42\n",
      "Insert of existing embedding ID: pmcid-7067710-chunk-43\n",
      "Insert of existing embedding ID: pmcid-7067710-chunk-44\n",
      "Insert of existing embedding ID: pmcid-7067710-chunk-45\n",
      "Insert of existing embedding ID: pmcid-7067710-chunk-46\n",
      "Insert of existing embedding ID: pmcid-7067710-chunk-47\n",
      "Insert of existing embedding ID: pmcid-7067710-chunk-48\n",
      "Insert of existing embedding ID: pmcid-7067710-chunk-49\n",
      "Insert of existing embedding ID: pmcid-7067710-chunk-50\n",
      "Insert of existing embedding ID: pmcid-7067710-chunk-51\n",
      "Insert of existing embedding ID: pmcid-7067710-chunk-52\n",
      "Insert of existing embedding ID: pmcid-7067710-chunk-53\n",
      "Insert of existing embedding ID: pmcid-7067710-chunk-54\n",
      "Insert of existing embedding ID: pmcid-7067710-chunk-55\n",
      "Insert of existing embedding ID: pmcid-7067710-chunk-56\n",
      "Insert of existing embedding ID: pmcid-7067710-chunk-57\n",
      "Insert of existing embedding ID: pmcid-7067710-chunk-58\n",
      "Insert of existing embedding ID: pmcid-7067710-chunk-59\n",
      "Insert of existing embedding ID: pmcid-7067710-chunk-60\n",
      "Insert of existing embedding ID: pmcid-7067710-chunk-61\n",
      "Insert of existing embedding ID: pmcid-7067710-chunk-62\n",
      "Insert of existing embedding ID: pmcid-7067710-chunk-63\n",
      "Insert of existing embedding ID: pmcid-7067710-chunk-64\n",
      "Insert of existing embedding ID: pmcid-7067710-chunk-65\n",
      "Insert of existing embedding ID: pmcid-7067710-chunk-66\n",
      "Insert of existing embedding ID: pmcid-7067710-chunk-67\n",
      "Insert of existing embedding ID: pmcid-7067710-chunk-68\n",
      "Insert of existing embedding ID: pmcid-7067710-chunk-69\n",
      "Insert of existing embedding ID: pmcid-7067710-chunk-70\n",
      "Insert of existing embedding ID: pmcid-7067710-chunk-71\n",
      "Insert of existing embedding ID: pmcid-7067710-chunk-72\n",
      "Insert of existing embedding ID: pmcid-7067710-chunk-73\n",
      "Insert of existing embedding ID: pmcid-7067710-chunk-74\n",
      "Insert of existing embedding ID: pmcid-7067710-chunk-75\n",
      "Insert of existing embedding ID: pmcid-7067710-chunk-76\n",
      "Insert of existing embedding ID: pmcid-7067710-chunk-77\n",
      "Insert of existing embedding ID: pmcid-7067710-chunk-78\n",
      "Insert of existing embedding ID: pmcid-7067710-chunk-79\n",
      "Insert of existing embedding ID: pmcid-7067710-chunk-80\n",
      "Insert of existing embedding ID: pmcid-7067710-chunk-81\n",
      "Insert of existing embedding ID: pmcid-7067710-chunk-82\n",
      "Insert of existing embedding ID: pmcid-7067710-chunk-83\n",
      "Insert of existing embedding ID: pmcid-7067710-chunk-84\n",
      "Insert of existing embedding ID: pmcid-7067710-chunk-85\n",
      "Insert of existing embedding ID: pmcid-7067710-chunk-86\n",
      "Insert of existing embedding ID: pmcid-7067710-chunk-87\n",
      "Insert of existing embedding ID: pmcid-7067710-chunk-88\n",
      "Insert of existing embedding ID: pmcid-7067710-chunk-89\n",
      "Insert of existing embedding ID: pmcid-7067710-chunk-90\n",
      "Insert of existing embedding ID: pmcid-7067710-chunk-91\n",
      "Insert of existing embedding ID: pmcid-7067710-chunk-92\n",
      "Insert of existing embedding ID: pmcid-7067710-chunk-93\n",
      "Insert of existing embedding ID: pmcid-7067710-chunk-94\n",
      "Insert of existing embedding ID: pmcid-7067710-chunk-95\n",
      "Insert of existing embedding ID: pmcid-7067710-chunk-96\n",
      "Insert of existing embedding ID: pmcid-7067710-chunk-97\n",
      "Insert of existing embedding ID: pmcid-7067710-chunk-98\n",
      "Insert of existing embedding ID: pmcid-7067710-chunk-99\n",
      "Insert of existing embedding ID: pmcid-7067710-chunk-100\n",
      "Insert of existing embedding ID: pmcid-7067710-chunk-101\n",
      "Insert of existing embedding ID: pmcid-7067710-chunk-102\n",
      "Insert of existing embedding ID: pmcid-7067710-chunk-103\n",
      "Insert of existing embedding ID: pmcid-7067710-chunk-104\n",
      "Insert of existing embedding ID: pmcid-7067710-chunk-105\n",
      "Insert of existing embedding ID: pmcid-7067710-chunk-106\n",
      "Insert of existing embedding ID: pmcid-7067710-chunk-107\n",
      "Insert of existing embedding ID: pmcid-7067710-chunk-108\n",
      "Insert of existing embedding ID: pmcid-7067710-chunk-109\n",
      "Insert of existing embedding ID: pmcid-7067710-chunk-110\n",
      "Insert of existing embedding ID: pmcid-7067710-chunk-111\n",
      "Insert of existing embedding ID: pmcid-7067710-chunk-112\n",
      "Insert of existing embedding ID: pmcid-7067710-chunk-113\n",
      "Insert of existing embedding ID: pmcid-7067710-chunk-114\n",
      "Insert of existing embedding ID: pmcid-7067710-chunk-115\n",
      "Insert of existing embedding ID: pmcid-7067710-chunk-116\n",
      "Insert of existing embedding ID: pmcid-7067710-chunk-117\n",
      "Insert of existing embedding ID: pmcid-7067710-chunk-118\n",
      "Insert of existing embedding ID: pmcid-7067710-chunk-119\n",
      "Insert of existing embedding ID: pmcid-7067710-chunk-120\n",
      "Insert of existing embedding ID: pmcid-7067710-chunk-121\n",
      "Insert of existing embedding ID: pmcid-7067710-chunk-122\n",
      "Insert of existing embedding ID: pmcid-7067710-chunk-123\n",
      "Insert of existing embedding ID: pmcid-7067710-chunk-124\n",
      "Insert of existing embedding ID: pmcid-7067710-chunk-125\n",
      "Insert of existing embedding ID: pmcid-7067710-chunk-126\n",
      "Insert of existing embedding ID: pmcid-7067710-chunk-127\n",
      "Insert of existing embedding ID: pmcid-7067710-chunk-128\n",
      "Insert of existing embedding ID: pmcid-7067710-chunk-129\n",
      "Insert of existing embedding ID: pmcid-7067710-chunk-130\n",
      "Insert of existing embedding ID: pmcid-7067710-chunk-131\n",
      "Insert of existing embedding ID: pmcid-7067710-chunk-132\n",
      "Insert of existing embedding ID: pmcid-7067710-chunk-133\n",
      "Insert of existing embedding ID: pmcid-7067710-chunk-134\n",
      "Insert of existing embedding ID: pmcid-7067710-chunk-135\n",
      "Insert of existing embedding ID: pmcid-7067710-chunk-136\n",
      "Insert of existing embedding ID: pmcid-7067710-chunk-137\n",
      "Insert of existing embedding ID: pmcid-7067710-chunk-138\n",
      "Insert of existing embedding ID: pmcid-7067710-chunk-139\n",
      "Insert of existing embedding ID: pmcid-7067710-chunk-140\n",
      "Insert of existing embedding ID: pmcid-7067710-chunk-141\n",
      "Insert of existing embedding ID: pmcid-7067710-chunk-142\n",
      "Insert of existing embedding ID: pmcid-7067710-chunk-143\n",
      "Insert of existing embedding ID: pmcid-7067710-chunk-144\n",
      "Insert of existing embedding ID: pmcid-7067710-chunk-145\n",
      "Insert of existing embedding ID: pmcid-7067710-chunk-146\n",
      "Insert of existing embedding ID: pmcid-7067710-chunk-147\n",
      "Insert of existing embedding ID: pmcid-7067710-chunk-148\n",
      "Insert of existing embedding ID: pmcid-7067710-chunk-149\n",
      "Insert of existing embedding ID: pmcid-7067710-chunk-150\n",
      "Insert of existing embedding ID: pmcid-7067710-chunk-151\n",
      "Insert of existing embedding ID: pmcid-7067710-chunk-152\n",
      "Insert of existing embedding ID: pmcid-7067710-chunk-153\n",
      "Insert of existing embedding ID: pmcid-7067710-chunk-154\n",
      "Insert of existing embedding ID: pmcid-7067710-chunk-155\n",
      "Insert of existing embedding ID: pmcid-7067710-chunk-156\n",
      "Insert of existing embedding ID: pmcid-7067710-chunk-157\n",
      "Insert of existing embedding ID: pmcid-7067710-chunk-158\n",
      "Insert of existing embedding ID: pmcid-7067710-chunk-159\n",
      "Insert of existing embedding ID: pmcid-7067710-chunk-160\n",
      "Insert of existing embedding ID: pmcid-7067710-chunk-161\n",
      "Insert of existing embedding ID: pmcid-7067710-chunk-162\n",
      "Insert of existing embedding ID: pmcid-7067710-chunk-163\n",
      "Insert of existing embedding ID: pmcid-7067710-chunk-164\n",
      "Insert of existing embedding ID: pmcid-7067710-chunk-165\n",
      "Insert of existing embedding ID: pmcid-7067710-chunk-166\n",
      "Insert of existing embedding ID: pmcid-7067710-chunk-167\n",
      "Insert of existing embedding ID: pmcid-7067710-chunk-168\n",
      "Insert of existing embedding ID: pmcid-7067710-chunk-169\n",
      "Insert of existing embedding ID: pmcid-7067710-chunk-170\n",
      "Insert of existing embedding ID: pmcid-7067710-chunk-171\n",
      "Insert of existing embedding ID: pmcid-7067710-chunk-172\n",
      "Insert of existing embedding ID: pmcid-7067710-chunk-173\n",
      "Insert of existing embedding ID: pmcid-7067710-chunk-174\n",
      "Insert of existing embedding ID: pmcid-7067710-chunk-175\n",
      "Insert of existing embedding ID: pmcid-7067710-chunk-176\n",
      "Insert of existing embedding ID: pmcid-7067710-chunk-177\n",
      "Insert of existing embedding ID: pmcid-7067710-chunk-178\n",
      "Insert of existing embedding ID: pmcid-7067710-chunk-179\n",
      "Insert of existing embedding ID: pmcid-7067710-chunk-180\n",
      "Insert of existing embedding ID: pmcid-7067710-chunk-181\n",
      "Insert of existing embedding ID: pmcid-7067710-chunk-182\n",
      "Insert of existing embedding ID: pmcid-7067710-chunk-183\n",
      "Insert of existing embedding ID: pmcid-7067710-chunk-184\n",
      "Insert of existing embedding ID: pmcid-7067710-chunk-185\n",
      "Insert of existing embedding ID: pmcid-7067710-chunk-186\n",
      "Insert of existing embedding ID: pmcid-7067710-chunk-187\n",
      "Insert of existing embedding ID: pmcid-7067710-chunk-188\n",
      "Insert of existing embedding ID: pmcid-7067710-chunk-189\n",
      "Insert of existing embedding ID: pmcid-7067710-chunk-190\n",
      "Insert of existing embedding ID: pmcid-7067710-chunk-191\n",
      "Insert of existing embedding ID: pmcid-7067710-chunk-192\n",
      "Insert of existing embedding ID: pmcid-7067710-chunk-193\n",
      "Insert of existing embedding ID: pmcid-7067710-chunk-194\n",
      "Insert of existing embedding ID: pmcid-7067710-chunk-195\n",
      "Insert of existing embedding ID: pmcid-7067710-chunk-196\n",
      "Insert of existing embedding ID: pmcid-7067710-chunk-197\n",
      "Insert of existing embedding ID: pmcid-7067710-chunk-198\n",
      "Insert of existing embedding ID: pmcid-7067710-chunk-199\n",
      "Insert of existing embedding ID: pmcid-7067710-chunk-200\n",
      "Insert of existing embedding ID: pmcid-7067710-chunk-201\n",
      "Insert of existing embedding ID: pmcid-7067710-chunk-202\n",
      "Insert of existing embedding ID: pmcid-7067710-chunk-203\n",
      "Insert of existing embedding ID: pmcid-7067710-chunk-204\n",
      "Insert of existing embedding ID: pmcid-7067710-chunk-205\n",
      "Insert of existing embedding ID: pmcid-7067710-chunk-206\n",
      "Insert of existing embedding ID: pmcid-7067710-chunk-207\n",
      "Insert of existing embedding ID: pmcid-7067710-chunk-208\n",
      "Insert of existing embedding ID: pmcid-7067710-chunk-209\n",
      "Insert of existing embedding ID: pmcid-7067710-chunk-210\n",
      "Insert of existing embedding ID: pmcid-7067710-chunk-211\n",
      "Insert of existing embedding ID: pmcid-7067710-chunk-212\n",
      "Insert of existing embedding ID: pmcid-7067710-chunk-213\n",
      "Insert of existing embedding ID: pmcid-7067710-chunk-214\n",
      "Insert of existing embedding ID: pmcid-7067710-chunk-215\n",
      "Insert of existing embedding ID: pmcid-7067710-chunk-216\n",
      "Insert of existing embedding ID: pmcid-7067710-chunk-217\n",
      "Insert of existing embedding ID: pmcid-7067710-chunk-218\n",
      "Insert of existing embedding ID: pmcid-7067710-chunk-219\n",
      "Insert of existing embedding ID: pmcid-7067710-chunk-220\n",
      "Insert of existing embedding ID: pmcid-7067710-chunk-221\n",
      "Insert of existing embedding ID: pmcid-7067710-chunk-222\n",
      "Insert of existing embedding ID: pmcid-7067710-chunk-223\n",
      "Insert of existing embedding ID: pmcid-7067710-chunk-224\n",
      "Insert of existing embedding ID: pmcid-7067710-chunk-225\n",
      "Insert of existing embedding ID: pmcid-7067710-chunk-226\n",
      "Insert of existing embedding ID: pmcid-7067710-chunk-227\n",
      "Insert of existing embedding ID: pmcid-7067710-chunk-228\n",
      "Insert of existing embedding ID: pmcid-7067710-chunk-229\n",
      "Insert of existing embedding ID: pmcid-7067710-chunk-230\n",
      "Insert of existing embedding ID: pmcid-7067710-chunk-231\n",
      "Insert of existing embedding ID: pmcid-7067710-chunk-232\n",
      "Insert of existing embedding ID: pmcid-7067710-chunk-233\n",
      "Insert of existing embedding ID: pmcid-7067710-chunk-234\n",
      "Insert of existing embedding ID: pmcid-7067710-chunk-235\n",
      "Insert of existing embedding ID: pmcid-7067710-chunk-236\n",
      "Insert of existing embedding ID: pmcid-7067710-chunk-237\n",
      "Insert of existing embedding ID: pmcid-7067710-chunk-238\n",
      "Insert of existing embedding ID: pmcid-7067710-chunk-239\n",
      "Insert of existing embedding ID: pmcid-7067710-chunk-240\n",
      "Insert of existing embedding ID: pmcid-7067710-chunk-241\n",
      "Insert of existing embedding ID: pmcid-7067710-chunk-242\n",
      "Insert of existing embedding ID: pmcid-7067710-chunk-243\n",
      "Insert of existing embedding ID: pmcid-7067710-chunk-244\n",
      "Insert of existing embedding ID: pmcid-7067710-chunk-245\n",
      "Insert of existing embedding ID: pmcid-7067710-chunk-246\n",
      "Insert of existing embedding ID: pmcid-7067710-chunk-247\n",
      "Insert of existing embedding ID: pmcid-7067710-chunk-248\n",
      "Insert of existing embedding ID: pmcid-7067710-chunk-249\n",
      "Insert of existing embedding ID: pmcid-7067710-chunk-250\n",
      "Insert of existing embedding ID: pmcid-7067710-chunk-251\n",
      "Insert of existing embedding ID: pmcid-7067710-chunk-252\n",
      "Insert of existing embedding ID: pmcid-7067710-chunk-253\n",
      "Insert of existing embedding ID: pmcid-7067710-chunk-254\n",
      "Insert of existing embedding ID: pmcid-7067710-chunk-255\n",
      "Insert of existing embedding ID: pmcid-7067710-chunk-256\n",
      "Insert of existing embedding ID: pmcid-7067710-chunk-257\n",
      "Insert of existing embedding ID: pmcid-7067710-chunk-258\n",
      "Insert of existing embedding ID: pmcid-7067710-chunk-259\n",
      "Insert of existing embedding ID: pmcid-7067710-chunk-260\n",
      "Insert of existing embedding ID: pmcid-7067710-chunk-261\n",
      "Insert of existing embedding ID: pmcid-7067710-chunk-262\n",
      "Insert of existing embedding ID: pmcid-7067710-chunk-263\n",
      "Insert of existing embedding ID: pmcid-7067710-chunk-264\n",
      "Insert of existing embedding ID: pmcid-7067710-chunk-265\n",
      "Insert of existing embedding ID: pmcid-7067710-chunk-266\n",
      "Insert of existing embedding ID: pmcid-7067710-chunk-267\n",
      "Insert of existing embedding ID: pmcid-7067710-chunk-268\n",
      "Insert of existing embedding ID: pmcid-7067710-chunk-269\n",
      "Insert of existing embedding ID: pmcid-7067710-chunk-270\n",
      "Insert of existing embedding ID: pmcid-7067710-chunk-271\n",
      "Insert of existing embedding ID: pmcid-7067710-chunk-272\n",
      "Insert of existing embedding ID: pmcid-7067710-chunk-273\n",
      "Insert of existing embedding ID: pmcid-7067710-chunk-274\n",
      "Insert of existing embedding ID: pmcid-7067710-chunk-275\n",
      "Insert of existing embedding ID: pmcid-7067710-chunk-276\n",
      "Insert of existing embedding ID: pmcid-7067710-chunk-277\n",
      "Insert of existing embedding ID: pmcid-7067710-chunk-278\n",
      "Insert of existing embedding ID: pmcid-7067710-chunk-279\n",
      "Insert of existing embedding ID: pmcid-7067710-chunk-280\n",
      "Insert of existing embedding ID: pmcid-7067710-chunk-281\n",
      "Insert of existing embedding ID: pmcid-7067710-chunk-282\n",
      "Insert of existing embedding ID: pmcid-7067710-chunk-283\n",
      "Insert of existing embedding ID: pmcid-7067710-chunk-284\n",
      "Insert of existing embedding ID: pmcid-7067710-chunk-285\n",
      "Insert of existing embedding ID: pmcid-7067710-chunk-286\n",
      "Insert of existing embedding ID: pmcid-7067710-chunk-287\n",
      "Insert of existing embedding ID: pmcid-7067710-chunk-288\n",
      "Insert of existing embedding ID: pmcid-7067710-chunk-289\n",
      "Insert of existing embedding ID: pmcid-7067710-chunk-290\n",
      "Insert of existing embedding ID: pmcid-7067710-chunk-291\n",
      "Insert of existing embedding ID: pmcid-7067710-chunk-292\n",
      "Insert of existing embedding ID: pmcid-7067710-chunk-293\n",
      "Insert of existing embedding ID: pmcid-7067710-chunk-294\n",
      "Insert of existing embedding ID: pmcid-7067710-chunk-295\n",
      "Insert of existing embedding ID: pmcid-7067710-chunk-296\n",
      "Insert of existing embedding ID: pmcid-7067710-chunk-297\n",
      "Insert of existing embedding ID: pmcid-7067710-chunk-298\n",
      "Insert of existing embedding ID: pmcid-7067710-chunk-299\n",
      "Insert of existing embedding ID: pmcid-7067710-chunk-300\n",
      "Insert of existing embedding ID: pmcid-7067710-chunk-301\n",
      "Insert of existing embedding ID: pmcid-7067710-chunk-302\n",
      "Insert of existing embedding ID: pmcid-7067710-chunk-303\n",
      "Insert of existing embedding ID: pmcid-7067710-chunk-304\n",
      "Insert of existing embedding ID: pmcid-7067710-chunk-305\n",
      "Insert of existing embedding ID: pmcid-7067710-chunk-306\n",
      "Insert of existing embedding ID: pmcid-7067710-chunk-307\n",
      "Insert of existing embedding ID: pmcid-7067710-chunk-308\n",
      "Insert of existing embedding ID: pmcid-7067710-chunk-309\n",
      "Insert of existing embedding ID: pmcid-7067710-chunk-310\n",
      "Insert of existing embedding ID: pmcid-7067710-chunk-311\n",
      "Insert of existing embedding ID: pmcid-7067710-chunk-312\n",
      "Insert of existing embedding ID: pmcid-7067710-chunk-313\n",
      "Insert of existing embedding ID: pmcid-7067710-chunk-314\n",
      "Insert of existing embedding ID: pmcid-7067710-chunk-315\n",
      "Insert of existing embedding ID: pmcid-7067710-chunk-316\n",
      "Insert of existing embedding ID: pmcid-7067710-chunk-317\n",
      "Insert of existing embedding ID: pmcid-7067710-chunk-318\n",
      "Insert of existing embedding ID: pmcid-7067710-chunk-319\n",
      "Insert of existing embedding ID: pmcid-7067710-chunk-320\n",
      "Insert of existing embedding ID: pmcid-7067710-chunk-321\n",
      "Insert of existing embedding ID: pmcid-7067710-chunk-322\n",
      "Insert of existing embedding ID: pmcid-7067710-chunk-323\n",
      "Insert of existing embedding ID: pmcid-7067710-chunk-324\n",
      "Insert of existing embedding ID: pmcid-7067710-chunk-325\n",
      "Insert of existing embedding ID: pmcid-7067710-chunk-326\n",
      "Insert of existing embedding ID: pmcid-7067710-chunk-327\n",
      "Insert of existing embedding ID: pmcid-7067710-chunk-328\n",
      "Insert of existing embedding ID: pmcid-7067710-chunk-329\n",
      "Insert of existing embedding ID: pmcid-7067710-chunk-330\n",
      "Insert of existing embedding ID: pmcid-7067710-chunk-331\n",
      "Insert of existing embedding ID: pmcid-7067710-chunk-332\n",
      "Insert of existing embedding ID: pmcid-7067710-chunk-333\n",
      "Insert of existing embedding ID: pmcid-7067710-chunk-334\n",
      "Insert of existing embedding ID: pmcid-7067710-chunk-335\n",
      "Insert of existing embedding ID: pmcid-7067710-chunk-336\n",
      "Insert of existing embedding ID: pmcid-7067710-chunk-337\n",
      "Insert of existing embedding ID: pmcid-7067710-chunk-338\n",
      "Insert of existing embedding ID: pmcid-7067710-chunk-339\n",
      "Insert of existing embedding ID: pmcid-7067710-chunk-340\n",
      "Insert of existing embedding ID: pmcid-7067710-chunk-341\n",
      "Insert of existing embedding ID: pmcid-7067710-chunk-342\n",
      "Insert of existing embedding ID: pmcid-7067710-chunk-343\n",
      "Insert of existing embedding ID: pmcid-7067710-chunk-344\n",
      "Insert of existing embedding ID: pmcid-7067710-chunk-345\n",
      "Insert of existing embedding ID: pmcid-7067710-chunk-346\n",
      "Insert of existing embedding ID: pmcid-7067710-chunk-347\n",
      "Insert of existing embedding ID: pmcid-7067710-chunk-348\n",
      "Insert of existing embedding ID: pmcid-7067710-chunk-349\n",
      "Insert of existing embedding ID: pmcid-7067710-chunk-350\n",
      "Insert of existing embedding ID: pmcid-7067710-chunk-351\n",
      "Insert of existing embedding ID: pmcid-7067710-chunk-352\n",
      "Insert of existing embedding ID: pmcid-7067710-chunk-353\n",
      "Insert of existing embedding ID: pmcid-7067710-chunk-354\n",
      "Insert of existing embedding ID: pmcid-7067710-chunk-355\n",
      "Insert of existing embedding ID: pmcid-7067710-chunk-356\n",
      "Insert of existing embedding ID: pmcid-7067710-chunk-357\n",
      "Insert of existing embedding ID: pmcid-7067710-chunk-358\n",
      "Insert of existing embedding ID: pmcid-7067710-chunk-359\n",
      "Insert of existing embedding ID: pmcid-7067710-chunk-360\n",
      "Insert of existing embedding ID: pmcid-7067710-chunk-361\n",
      "Insert of existing embedding ID: pmcid-7067710-chunk-362\n",
      "Insert of existing embedding ID: pmcid-7067710-chunk-363\n",
      "Insert of existing embedding ID: pmcid-7067710-chunk-364\n",
      "Insert of existing embedding ID: pmcid-7067710-chunk-365\n",
      "Insert of existing embedding ID: pmcid-7067710-chunk-366\n",
      "Insert of existing embedding ID: pmcid-7067710-chunk-367\n",
      "Insert of existing embedding ID: pmcid-7067710-chunk-368\n",
      "Insert of existing embedding ID: pmcid-7067710-chunk-369\n",
      "Insert of existing embedding ID: pmcid-7067710-chunk-370\n",
      "Insert of existing embedding ID: pmcid-7067710-chunk-371\n",
      "Insert of existing embedding ID: pmcid-7067710-chunk-372\n",
      "Insert of existing embedding ID: pmcid-7067710-chunk-373\n",
      "Insert of existing embedding ID: pmcid-7067710-chunk-374\n",
      "Insert of existing embedding ID: pmcid-7067710-chunk-375\n",
      "Insert of existing embedding ID: pmcid-7067710-chunk-376\n",
      "Insert of existing embedding ID: pmcid-7067710-chunk-377\n",
      "Insert of existing embedding ID: pmcid-7067710-chunk-378\n",
      "Insert of existing embedding ID: pmcid-7067710-chunk-379\n",
      "Insert of existing embedding ID: pmcid-7067710-chunk-380\n",
      "Insert of existing embedding ID: pmcid-7067710-chunk-381\n",
      "Insert of existing embedding ID: pmcid-7067710-chunk-382\n",
      "Insert of existing embedding ID: pmcid-7067710-chunk-383\n",
      "Insert of existing embedding ID: pmcid-7067710-chunk-384\n",
      "Insert of existing embedding ID: pmcid-7067710-chunk-385\n",
      "Insert of existing embedding ID: pmcid-7067710-chunk-386\n",
      "Insert of existing embedding ID: pmcid-7067710-chunk-387\n",
      "Insert of existing embedding ID: pmcid-7067710-chunk-388\n",
      "Insert of existing embedding ID: pmcid-7067710-chunk-389\n",
      "Insert of existing embedding ID: pmcid-7067710-chunk-390\n",
      "Insert of existing embedding ID: pmcid-7067710-chunk-391\n",
      "Insert of existing embedding ID: pmcid-7067710-chunk-392\n",
      "Insert of existing embedding ID: pmcid-7067710-chunk-393\n",
      "Insert of existing embedding ID: pmcid-7067710-chunk-394\n",
      "Insert of existing embedding ID: pmcid-7067710-chunk-395\n",
      "Insert of existing embedding ID: pmcid-7067710-chunk-396\n",
      "Insert of existing embedding ID: pmcid-7067710-chunk-397\n",
      "Insert of existing embedding ID: pmcid-7067710-chunk-398\n",
      "Insert of existing embedding ID: pmcid-7067710-chunk-399\n",
      "Insert of existing embedding ID: pmcid-7067710-chunk-400\n",
      "Insert of existing embedding ID: pmcid-7067710-chunk-401\n",
      "Insert of existing embedding ID: pmcid-7067710-chunk-402\n",
      "Insert of existing embedding ID: pmcid-7067710-chunk-403\n",
      "Insert of existing embedding ID: pmcid-7067710-chunk-404\n",
      "Insert of existing embedding ID: pmcid-7067710-chunk-405\n",
      "Insert of existing embedding ID: pmcid-7067710-chunk-406\n",
      "Insert of existing embedding ID: pmcid-7067710-chunk-407\n",
      "Insert of existing embedding ID: pmcid-7067710-chunk-408\n",
      "Insert of existing embedding ID: pmcid-7067710-chunk-409\n",
      "Insert of existing embedding ID: pmcid-7067710-chunk-410\n",
      "Insert of existing embedding ID: pmcid-7067710-chunk-411\n",
      "Insert of existing embedding ID: pmcid-7067710-chunk-412\n",
      "Insert of existing embedding ID: pmcid-7067710-chunk-413\n",
      "Insert of existing embedding ID: pmcid-7067710-chunk-414\n",
      "Add of existing embedding ID: pmcid-7067710-chunk-0\n",
      "Add of existing embedding ID: pmcid-7067710-chunk-1\n",
      "Add of existing embedding ID: pmcid-7067710-chunk-2\n",
      "Add of existing embedding ID: pmcid-7067710-chunk-3\n",
      "Add of existing embedding ID: pmcid-7067710-chunk-4\n",
      "Add of existing embedding ID: pmcid-7067710-chunk-5\n",
      "Add of existing embedding ID: pmcid-7067710-chunk-6\n",
      "Add of existing embedding ID: pmcid-7067710-chunk-7\n",
      "Add of existing embedding ID: pmcid-7067710-chunk-8\n",
      "Add of existing embedding ID: pmcid-7067710-chunk-9\n",
      "Add of existing embedding ID: pmcid-7067710-chunk-10\n",
      "Add of existing embedding ID: pmcid-7067710-chunk-11\n",
      "Add of existing embedding ID: pmcid-7067710-chunk-12\n",
      "Add of existing embedding ID: pmcid-7067710-chunk-13\n",
      "Add of existing embedding ID: pmcid-7067710-chunk-14\n",
      "Add of existing embedding ID: pmcid-7067710-chunk-15\n",
      "Add of existing embedding ID: pmcid-7067710-chunk-16\n",
      "Add of existing embedding ID: pmcid-7067710-chunk-17\n",
      "Add of existing embedding ID: pmcid-7067710-chunk-18\n",
      "Add of existing embedding ID: pmcid-7067710-chunk-19\n",
      "Add of existing embedding ID: pmcid-7067710-chunk-20\n",
      "Add of existing embedding ID: pmcid-7067710-chunk-21\n",
      "Add of existing embedding ID: pmcid-7067710-chunk-22\n",
      "Add of existing embedding ID: pmcid-7067710-chunk-23\n",
      "Add of existing embedding ID: pmcid-7067710-chunk-24\n",
      "Add of existing embedding ID: pmcid-7067710-chunk-25\n",
      "Add of existing embedding ID: pmcid-7067710-chunk-26\n",
      "Add of existing embedding ID: pmcid-7067710-chunk-27\n",
      "Add of existing embedding ID: pmcid-7067710-chunk-28\n",
      "Add of existing embedding ID: pmcid-7067710-chunk-29\n",
      "Add of existing embedding ID: pmcid-7067710-chunk-30\n",
      "Add of existing embedding ID: pmcid-7067710-chunk-31\n",
      "Add of existing embedding ID: pmcid-7067710-chunk-32\n",
      "Add of existing embedding ID: pmcid-7067710-chunk-33\n",
      "Add of existing embedding ID: pmcid-7067710-chunk-34\n",
      "Add of existing embedding ID: pmcid-7067710-chunk-35\n",
      "Add of existing embedding ID: pmcid-7067710-chunk-36\n",
      "Add of existing embedding ID: pmcid-7067710-chunk-37\n",
      "Add of existing embedding ID: pmcid-7067710-chunk-38\n",
      "Add of existing embedding ID: pmcid-7067710-chunk-39\n",
      "Add of existing embedding ID: pmcid-7067710-chunk-40\n",
      "Add of existing embedding ID: pmcid-7067710-chunk-41\n",
      "Add of existing embedding ID: pmcid-7067710-chunk-42\n",
      "Add of existing embedding ID: pmcid-7067710-chunk-43\n",
      "Add of existing embedding ID: pmcid-7067710-chunk-44\n",
      "Add of existing embedding ID: pmcid-7067710-chunk-45\n",
      "Add of existing embedding ID: pmcid-7067710-chunk-46\n",
      "Add of existing embedding ID: pmcid-7067710-chunk-47\n",
      "Add of existing embedding ID: pmcid-7067710-chunk-48\n",
      "Add of existing embedding ID: pmcid-7067710-chunk-49\n",
      "Add of existing embedding ID: pmcid-7067710-chunk-50\n",
      "Add of existing embedding ID: pmcid-7067710-chunk-51\n",
      "Add of existing embedding ID: pmcid-7067710-chunk-52\n",
      "Add of existing embedding ID: pmcid-7067710-chunk-53\n",
      "Add of existing embedding ID: pmcid-7067710-chunk-54\n",
      "Add of existing embedding ID: pmcid-7067710-chunk-55\n",
      "Add of existing embedding ID: pmcid-7067710-chunk-56\n",
      "Add of existing embedding ID: pmcid-7067710-chunk-57\n",
      "Add of existing embedding ID: pmcid-7067710-chunk-58\n",
      "Add of existing embedding ID: pmcid-7067710-chunk-59\n",
      "Add of existing embedding ID: pmcid-7067710-chunk-60\n",
      "Add of existing embedding ID: pmcid-7067710-chunk-61\n",
      "Add of existing embedding ID: pmcid-7067710-chunk-62\n",
      "Add of existing embedding ID: pmcid-7067710-chunk-63\n",
      "Add of existing embedding ID: pmcid-7067710-chunk-64\n",
      "Add of existing embedding ID: pmcid-7067710-chunk-65\n",
      "Add of existing embedding ID: pmcid-7067710-chunk-66\n",
      "Add of existing embedding ID: pmcid-7067710-chunk-67\n",
      "Add of existing embedding ID: pmcid-7067710-chunk-68\n",
      "Add of existing embedding ID: pmcid-7067710-chunk-69\n",
      "Add of existing embedding ID: pmcid-7067710-chunk-70\n",
      "Add of existing embedding ID: pmcid-7067710-chunk-71\n",
      "Add of existing embedding ID: pmcid-7067710-chunk-72\n",
      "Add of existing embedding ID: pmcid-7067710-chunk-73\n",
      "Add of existing embedding ID: pmcid-7067710-chunk-74\n",
      "Add of existing embedding ID: pmcid-7067710-chunk-75\n",
      "Add of existing embedding ID: pmcid-7067710-chunk-76\n",
      "Add of existing embedding ID: pmcid-7067710-chunk-77\n",
      "Add of existing embedding ID: pmcid-7067710-chunk-78\n",
      "Add of existing embedding ID: pmcid-7067710-chunk-79\n",
      "Add of existing embedding ID: pmcid-7067710-chunk-80\n",
      "Add of existing embedding ID: pmcid-7067710-chunk-81\n",
      "Add of existing embedding ID: pmcid-7067710-chunk-82\n",
      "Add of existing embedding ID: pmcid-7067710-chunk-83\n",
      "Add of existing embedding ID: pmcid-7067710-chunk-84\n",
      "Add of existing embedding ID: pmcid-7067710-chunk-85\n",
      "Add of existing embedding ID: pmcid-7067710-chunk-86\n",
      "Add of existing embedding ID: pmcid-7067710-chunk-87\n",
      "Add of existing embedding ID: pmcid-7067710-chunk-88\n",
      "Add of existing embedding ID: pmcid-7067710-chunk-89\n",
      "Add of existing embedding ID: pmcid-7067710-chunk-90\n",
      "Add of existing embedding ID: pmcid-7067710-chunk-91\n",
      "Add of existing embedding ID: pmcid-7067710-chunk-92\n",
      "Add of existing embedding ID: pmcid-7067710-chunk-93\n",
      "Add of existing embedding ID: pmcid-7067710-chunk-94\n",
      "Add of existing embedding ID: pmcid-7067710-chunk-95\n",
      "Add of existing embedding ID: pmcid-7067710-chunk-96\n",
      "Add of existing embedding ID: pmcid-7067710-chunk-97\n",
      "Add of existing embedding ID: pmcid-7067710-chunk-98\n",
      "Add of existing embedding ID: pmcid-7067710-chunk-99\n",
      "Add of existing embedding ID: pmcid-7067710-chunk-100\n",
      "Add of existing embedding ID: pmcid-7067710-chunk-101\n",
      "Add of existing embedding ID: pmcid-7067710-chunk-102\n",
      "Add of existing embedding ID: pmcid-7067710-chunk-103\n",
      "Add of existing embedding ID: pmcid-7067710-chunk-104\n",
      "Add of existing embedding ID: pmcid-7067710-chunk-105\n",
      "Add of existing embedding ID: pmcid-7067710-chunk-106\n",
      "Add of existing embedding ID: pmcid-7067710-chunk-107\n",
      "Add of existing embedding ID: pmcid-7067710-chunk-108\n",
      "Add of existing embedding ID: pmcid-7067710-chunk-109\n",
      "Add of existing embedding ID: pmcid-7067710-chunk-110\n",
      "Add of existing embedding ID: pmcid-7067710-chunk-111\n",
      "Add of existing embedding ID: pmcid-7067710-chunk-112\n",
      "Add of existing embedding ID: pmcid-7067710-chunk-113\n",
      "Add of existing embedding ID: pmcid-7067710-chunk-114\n",
      "Add of existing embedding ID: pmcid-7067710-chunk-115\n",
      "Add of existing embedding ID: pmcid-7067710-chunk-116\n",
      "Add of existing embedding ID: pmcid-7067710-chunk-117\n",
      "Add of existing embedding ID: pmcid-7067710-chunk-118\n",
      "Add of existing embedding ID: pmcid-7067710-chunk-119\n",
      "Add of existing embedding ID: pmcid-7067710-chunk-120\n",
      "Add of existing embedding ID: pmcid-7067710-chunk-121\n",
      "Add of existing embedding ID: pmcid-7067710-chunk-122\n",
      "Add of existing embedding ID: pmcid-7067710-chunk-123\n",
      "Add of existing embedding ID: pmcid-7067710-chunk-124\n",
      "Add of existing embedding ID: pmcid-7067710-chunk-125\n",
      "Add of existing embedding ID: pmcid-7067710-chunk-126\n",
      "Add of existing embedding ID: pmcid-7067710-chunk-127\n",
      "Add of existing embedding ID: pmcid-7067710-chunk-128\n",
      "Add of existing embedding ID: pmcid-7067710-chunk-129\n",
      "Add of existing embedding ID: pmcid-7067710-chunk-130\n",
      "Add of existing embedding ID: pmcid-7067710-chunk-131\n",
      "Add of existing embedding ID: pmcid-7067710-chunk-132\n",
      "Add of existing embedding ID: pmcid-7067710-chunk-133\n",
      "Add of existing embedding ID: pmcid-7067710-chunk-134\n",
      "Add of existing embedding ID: pmcid-7067710-chunk-135\n",
      "Add of existing embedding ID: pmcid-7067710-chunk-136\n",
      "Add of existing embedding ID: pmcid-7067710-chunk-137\n",
      "Add of existing embedding ID: pmcid-7067710-chunk-138\n",
      "Add of existing embedding ID: pmcid-7067710-chunk-139\n",
      "Add of existing embedding ID: pmcid-7067710-chunk-140\n",
      "Add of existing embedding ID: pmcid-7067710-chunk-141\n",
      "Add of existing embedding ID: pmcid-7067710-chunk-142\n",
      "Add of existing embedding ID: pmcid-7067710-chunk-143\n",
      "Add of existing embedding ID: pmcid-7067710-chunk-144\n",
      "Add of existing embedding ID: pmcid-7067710-chunk-145\n",
      "Add of existing embedding ID: pmcid-7067710-chunk-146\n",
      "Add of existing embedding ID: pmcid-7067710-chunk-147\n",
      "Add of existing embedding ID: pmcid-7067710-chunk-148\n",
      "Add of existing embedding ID: pmcid-7067710-chunk-149\n",
      "Add of existing embedding ID: pmcid-7067710-chunk-150\n",
      "Add of existing embedding ID: pmcid-7067710-chunk-151\n",
      "Add of existing embedding ID: pmcid-7067710-chunk-152\n",
      "Add of existing embedding ID: pmcid-7067710-chunk-153\n",
      "Add of existing embedding ID: pmcid-7067710-chunk-154\n",
      "Add of existing embedding ID: pmcid-7067710-chunk-155\n",
      "Add of existing embedding ID: pmcid-7067710-chunk-156\n",
      "Add of existing embedding ID: pmcid-7067710-chunk-157\n",
      "Add of existing embedding ID: pmcid-7067710-chunk-158\n",
      "Add of existing embedding ID: pmcid-7067710-chunk-159\n",
      "Add of existing embedding ID: pmcid-7067710-chunk-160\n",
      "Add of existing embedding ID: pmcid-7067710-chunk-161\n",
      "Add of existing embedding ID: pmcid-7067710-chunk-162\n",
      "Add of existing embedding ID: pmcid-7067710-chunk-163\n",
      "Add of existing embedding ID: pmcid-7067710-chunk-164\n",
      "Add of existing embedding ID: pmcid-7067710-chunk-165\n",
      "Add of existing embedding ID: pmcid-7067710-chunk-166\n",
      "Add of existing embedding ID: pmcid-7067710-chunk-167\n",
      "Add of existing embedding ID: pmcid-7067710-chunk-168\n",
      "Add of existing embedding ID: pmcid-7067710-chunk-169\n",
      "Add of existing embedding ID: pmcid-7067710-chunk-170\n",
      "Add of existing embedding ID: pmcid-7067710-chunk-171\n",
      "Add of existing embedding ID: pmcid-7067710-chunk-172\n",
      "Add of existing embedding ID: pmcid-7067710-chunk-173\n",
      "Add of existing embedding ID: pmcid-7067710-chunk-174\n",
      "Add of existing embedding ID: pmcid-7067710-chunk-175\n",
      "Add of existing embedding ID: pmcid-7067710-chunk-176\n",
      "Add of existing embedding ID: pmcid-7067710-chunk-177\n",
      "Add of existing embedding ID: pmcid-7067710-chunk-178\n",
      "Add of existing embedding ID: pmcid-7067710-chunk-179\n",
      "Add of existing embedding ID: pmcid-7067710-chunk-180\n",
      "Add of existing embedding ID: pmcid-7067710-chunk-181\n",
      "Add of existing embedding ID: pmcid-7067710-chunk-182\n",
      "Add of existing embedding ID: pmcid-7067710-chunk-183\n",
      "Add of existing embedding ID: pmcid-7067710-chunk-184\n",
      "Add of existing embedding ID: pmcid-7067710-chunk-185\n",
      "Add of existing embedding ID: pmcid-7067710-chunk-186\n",
      "Add of existing embedding ID: pmcid-7067710-chunk-187\n",
      "Add of existing embedding ID: pmcid-7067710-chunk-188\n",
      "Add of existing embedding ID: pmcid-7067710-chunk-189\n",
      "Add of existing embedding ID: pmcid-7067710-chunk-190\n",
      "Add of existing embedding ID: pmcid-7067710-chunk-191\n",
      "Add of existing embedding ID: pmcid-7067710-chunk-192\n",
      "Add of existing embedding ID: pmcid-7067710-chunk-193\n",
      "Add of existing embedding ID: pmcid-7067710-chunk-194\n",
      "Add of existing embedding ID: pmcid-7067710-chunk-195\n",
      "Add of existing embedding ID: pmcid-7067710-chunk-196\n",
      "Add of existing embedding ID: pmcid-7067710-chunk-197\n",
      "Add of existing embedding ID: pmcid-7067710-chunk-198\n",
      "Add of existing embedding ID: pmcid-7067710-chunk-199\n",
      "Add of existing embedding ID: pmcid-7067710-chunk-200\n",
      "Add of existing embedding ID: pmcid-7067710-chunk-201\n",
      "Add of existing embedding ID: pmcid-7067710-chunk-202\n",
      "Add of existing embedding ID: pmcid-7067710-chunk-203\n",
      "Add of existing embedding ID: pmcid-7067710-chunk-204\n",
      "Add of existing embedding ID: pmcid-7067710-chunk-205\n",
      "Add of existing embedding ID: pmcid-7067710-chunk-206\n",
      "Add of existing embedding ID: pmcid-7067710-chunk-207\n",
      "Add of existing embedding ID: pmcid-7067710-chunk-208\n",
      "Add of existing embedding ID: pmcid-7067710-chunk-209\n",
      "Add of existing embedding ID: pmcid-7067710-chunk-210\n",
      "Add of existing embedding ID: pmcid-7067710-chunk-211\n",
      "Add of existing embedding ID: pmcid-7067710-chunk-212\n",
      "Add of existing embedding ID: pmcid-7067710-chunk-213\n",
      "Add of existing embedding ID: pmcid-7067710-chunk-214\n",
      "Add of existing embedding ID: pmcid-7067710-chunk-215\n",
      "Add of existing embedding ID: pmcid-7067710-chunk-216\n",
      "Add of existing embedding ID: pmcid-7067710-chunk-217\n",
      "Add of existing embedding ID: pmcid-7067710-chunk-218\n",
      "Add of existing embedding ID: pmcid-7067710-chunk-219\n",
      "Add of existing embedding ID: pmcid-7067710-chunk-220\n",
      "Add of existing embedding ID: pmcid-7067710-chunk-221\n",
      "Add of existing embedding ID: pmcid-7067710-chunk-222\n",
      "Add of existing embedding ID: pmcid-7067710-chunk-223\n",
      "Add of existing embedding ID: pmcid-7067710-chunk-224\n",
      "Add of existing embedding ID: pmcid-7067710-chunk-225\n",
      "Add of existing embedding ID: pmcid-7067710-chunk-226\n",
      "Add of existing embedding ID: pmcid-7067710-chunk-227\n",
      "Add of existing embedding ID: pmcid-7067710-chunk-228\n",
      "Add of existing embedding ID: pmcid-7067710-chunk-229\n",
      "Add of existing embedding ID: pmcid-7067710-chunk-230\n",
      "Add of existing embedding ID: pmcid-7067710-chunk-231\n",
      "Add of existing embedding ID: pmcid-7067710-chunk-232\n",
      "Add of existing embedding ID: pmcid-7067710-chunk-233\n",
      "Add of existing embedding ID: pmcid-7067710-chunk-234\n",
      "Add of existing embedding ID: pmcid-7067710-chunk-235\n",
      "Add of existing embedding ID: pmcid-7067710-chunk-236\n",
      "Add of existing embedding ID: pmcid-7067710-chunk-237\n",
      "Add of existing embedding ID: pmcid-7067710-chunk-238\n",
      "Add of existing embedding ID: pmcid-7067710-chunk-239\n",
      "Add of existing embedding ID: pmcid-7067710-chunk-240\n",
      "Add of existing embedding ID: pmcid-7067710-chunk-241\n",
      "Add of existing embedding ID: pmcid-7067710-chunk-242\n",
      "Add of existing embedding ID: pmcid-7067710-chunk-243\n",
      "Add of existing embedding ID: pmcid-7067710-chunk-244\n",
      "Add of existing embedding ID: pmcid-7067710-chunk-245\n",
      "Add of existing embedding ID: pmcid-7067710-chunk-246\n",
      "Add of existing embedding ID: pmcid-7067710-chunk-247\n",
      "Add of existing embedding ID: pmcid-7067710-chunk-248\n",
      "Add of existing embedding ID: pmcid-7067710-chunk-249\n",
      "Add of existing embedding ID: pmcid-7067710-chunk-250\n",
      "Add of existing embedding ID: pmcid-7067710-chunk-251\n",
      "Add of existing embedding ID: pmcid-7067710-chunk-252\n",
      "Add of existing embedding ID: pmcid-7067710-chunk-253\n",
      "Add of existing embedding ID: pmcid-7067710-chunk-254\n",
      "Add of existing embedding ID: pmcid-7067710-chunk-255\n",
      "Add of existing embedding ID: pmcid-7067710-chunk-256\n",
      "Add of existing embedding ID: pmcid-7067710-chunk-257\n",
      "Add of existing embedding ID: pmcid-7067710-chunk-258\n",
      "Add of existing embedding ID: pmcid-7067710-chunk-259\n",
      "Add of existing embedding ID: pmcid-7067710-chunk-260\n",
      "Add of existing embedding ID: pmcid-7067710-chunk-261\n",
      "Add of existing embedding ID: pmcid-7067710-chunk-262\n",
      "Add of existing embedding ID: pmcid-7067710-chunk-263\n",
      "Add of existing embedding ID: pmcid-7067710-chunk-264\n",
      "Add of existing embedding ID: pmcid-7067710-chunk-265\n",
      "Add of existing embedding ID: pmcid-7067710-chunk-266\n",
      "Add of existing embedding ID: pmcid-7067710-chunk-267\n",
      "Add of existing embedding ID: pmcid-7067710-chunk-268\n",
      "Add of existing embedding ID: pmcid-7067710-chunk-269\n",
      "Add of existing embedding ID: pmcid-7067710-chunk-270\n",
      "Add of existing embedding ID: pmcid-7067710-chunk-271\n",
      "Add of existing embedding ID: pmcid-7067710-chunk-272\n",
      "Add of existing embedding ID: pmcid-7067710-chunk-273\n",
      "Add of existing embedding ID: pmcid-7067710-chunk-274\n",
      "Add of existing embedding ID: pmcid-7067710-chunk-275\n",
      "Add of existing embedding ID: pmcid-7067710-chunk-276\n",
      "Add of existing embedding ID: pmcid-7067710-chunk-277\n",
      "Add of existing embedding ID: pmcid-7067710-chunk-278\n",
      "Add of existing embedding ID: pmcid-7067710-chunk-279\n",
      "Add of existing embedding ID: pmcid-7067710-chunk-280\n",
      "Add of existing embedding ID: pmcid-7067710-chunk-281\n",
      "Add of existing embedding ID: pmcid-7067710-chunk-282\n",
      "Add of existing embedding ID: pmcid-7067710-chunk-283\n",
      "Add of existing embedding ID: pmcid-7067710-chunk-284\n",
      "Add of existing embedding ID: pmcid-7067710-chunk-285\n",
      "Add of existing embedding ID: pmcid-7067710-chunk-286\n",
      "Add of existing embedding ID: pmcid-7067710-chunk-287\n",
      "Add of existing embedding ID: pmcid-7067710-chunk-288\n",
      "Add of existing embedding ID: pmcid-7067710-chunk-289\n",
      "Add of existing embedding ID: pmcid-7067710-chunk-290\n",
      "Add of existing embedding ID: pmcid-7067710-chunk-291\n",
      "Add of existing embedding ID: pmcid-7067710-chunk-292\n",
      "Add of existing embedding ID: pmcid-7067710-chunk-293\n",
      "Add of existing embedding ID: pmcid-7067710-chunk-294\n",
      "Add of existing embedding ID: pmcid-7067710-chunk-295\n",
      "Add of existing embedding ID: pmcid-7067710-chunk-296\n",
      "Add of existing embedding ID: pmcid-7067710-chunk-297\n",
      "Add of existing embedding ID: pmcid-7067710-chunk-298\n",
      "Add of existing embedding ID: pmcid-7067710-chunk-299\n",
      "Add of existing embedding ID: pmcid-7067710-chunk-300\n",
      "Add of existing embedding ID: pmcid-7067710-chunk-301\n",
      "Add of existing embedding ID: pmcid-7067710-chunk-302\n",
      "Add of existing embedding ID: pmcid-7067710-chunk-303\n",
      "Add of existing embedding ID: pmcid-7067710-chunk-304\n",
      "Add of existing embedding ID: pmcid-7067710-chunk-305\n",
      "Add of existing embedding ID: pmcid-7067710-chunk-306\n",
      "Add of existing embedding ID: pmcid-7067710-chunk-307\n",
      "Add of existing embedding ID: pmcid-7067710-chunk-308\n",
      "Add of existing embedding ID: pmcid-7067710-chunk-309\n",
      "Add of existing embedding ID: pmcid-7067710-chunk-310\n",
      "Add of existing embedding ID: pmcid-7067710-chunk-311\n",
      "Add of existing embedding ID: pmcid-7067710-chunk-312\n",
      "Add of existing embedding ID: pmcid-7067710-chunk-313\n",
      "Add of existing embedding ID: pmcid-7067710-chunk-314\n",
      "Add of existing embedding ID: pmcid-7067710-chunk-315\n",
      "Add of existing embedding ID: pmcid-7067710-chunk-316\n",
      "Add of existing embedding ID: pmcid-7067710-chunk-317\n",
      "Add of existing embedding ID: pmcid-7067710-chunk-318\n",
      "Add of existing embedding ID: pmcid-7067710-chunk-319\n",
      "Add of existing embedding ID: pmcid-7067710-chunk-320\n",
      "Add of existing embedding ID: pmcid-7067710-chunk-321\n",
      "Add of existing embedding ID: pmcid-7067710-chunk-322\n",
      "Add of existing embedding ID: pmcid-7067710-chunk-323\n",
      "Add of existing embedding ID: pmcid-7067710-chunk-324\n",
      "Add of existing embedding ID: pmcid-7067710-chunk-325\n",
      "Add of existing embedding ID: pmcid-7067710-chunk-326\n",
      "Add of existing embedding ID: pmcid-7067710-chunk-327\n",
      "Add of existing embedding ID: pmcid-7067710-chunk-328\n",
      "Add of existing embedding ID: pmcid-7067710-chunk-329\n",
      "Add of existing embedding ID: pmcid-7067710-chunk-330\n",
      "Add of existing embedding ID: pmcid-7067710-chunk-331\n",
      "Add of existing embedding ID: pmcid-7067710-chunk-332\n",
      "Add of existing embedding ID: pmcid-7067710-chunk-333\n",
      "Add of existing embedding ID: pmcid-7067710-chunk-334\n",
      "Add of existing embedding ID: pmcid-7067710-chunk-335\n",
      "Add of existing embedding ID: pmcid-7067710-chunk-336\n",
      "Add of existing embedding ID: pmcid-7067710-chunk-337\n",
      "Add of existing embedding ID: pmcid-7067710-chunk-338\n",
      "Add of existing embedding ID: pmcid-7067710-chunk-339\n",
      "Add of existing embedding ID: pmcid-7067710-chunk-340\n",
      "Add of existing embedding ID: pmcid-7067710-chunk-341\n",
      "Add of existing embedding ID: pmcid-7067710-chunk-342\n",
      "Add of existing embedding ID: pmcid-7067710-chunk-343\n",
      "Add of existing embedding ID: pmcid-7067710-chunk-344\n",
      "Add of existing embedding ID: pmcid-7067710-chunk-345\n",
      "Add of existing embedding ID: pmcid-7067710-chunk-346\n",
      "Add of existing embedding ID: pmcid-7067710-chunk-347\n",
      "Add of existing embedding ID: pmcid-7067710-chunk-348\n",
      "Add of existing embedding ID: pmcid-7067710-chunk-349\n",
      "Add of existing embedding ID: pmcid-7067710-chunk-350\n",
      "Add of existing embedding ID: pmcid-7067710-chunk-351\n",
      "Add of existing embedding ID: pmcid-7067710-chunk-352\n",
      "Add of existing embedding ID: pmcid-7067710-chunk-353\n",
      "Add of existing embedding ID: pmcid-7067710-chunk-354\n",
      "Add of existing embedding ID: pmcid-7067710-chunk-355\n",
      "Add of existing embedding ID: pmcid-7067710-chunk-356\n",
      "Add of existing embedding ID: pmcid-7067710-chunk-357\n",
      "Add of existing embedding ID: pmcid-7067710-chunk-358\n",
      "Add of existing embedding ID: pmcid-7067710-chunk-359\n",
      "Add of existing embedding ID: pmcid-7067710-chunk-360\n",
      "Add of existing embedding ID: pmcid-7067710-chunk-361\n",
      "Add of existing embedding ID: pmcid-7067710-chunk-362\n",
      "Add of existing embedding ID: pmcid-7067710-chunk-363\n",
      "Add of existing embedding ID: pmcid-7067710-chunk-364\n",
      "Add of existing embedding ID: pmcid-7067710-chunk-365\n",
      "Add of existing embedding ID: pmcid-7067710-chunk-366\n",
      "Add of existing embedding ID: pmcid-7067710-chunk-367\n",
      "Add of existing embedding ID: pmcid-7067710-chunk-368\n",
      "Add of existing embedding ID: pmcid-7067710-chunk-369\n",
      "Add of existing embedding ID: pmcid-7067710-chunk-370\n",
      "Add of existing embedding ID: pmcid-7067710-chunk-371\n",
      "Add of existing embedding ID: pmcid-7067710-chunk-372\n",
      "Add of existing embedding ID: pmcid-7067710-chunk-373\n",
      "Add of existing embedding ID: pmcid-7067710-chunk-374\n",
      "Add of existing embedding ID: pmcid-7067710-chunk-375\n",
      "Add of existing embedding ID: pmcid-7067710-chunk-376\n",
      "Add of existing embedding ID: pmcid-7067710-chunk-377\n",
      "Add of existing embedding ID: pmcid-7067710-chunk-378\n",
      "Add of existing embedding ID: pmcid-7067710-chunk-379\n",
      "Add of existing embedding ID: pmcid-7067710-chunk-380\n",
      "Add of existing embedding ID: pmcid-7067710-chunk-381\n",
      "Add of existing embedding ID: pmcid-7067710-chunk-382\n",
      "Add of existing embedding ID: pmcid-7067710-chunk-383\n",
      "Add of existing embedding ID: pmcid-7067710-chunk-384\n",
      "Add of existing embedding ID: pmcid-7067710-chunk-385\n",
      "Add of existing embedding ID: pmcid-7067710-chunk-386\n",
      "Add of existing embedding ID: pmcid-7067710-chunk-387\n",
      "Add of existing embedding ID: pmcid-7067710-chunk-388\n",
      "Add of existing embedding ID: pmcid-7067710-chunk-389\n",
      "Add of existing embedding ID: pmcid-7067710-chunk-390\n",
      "Add of existing embedding ID: pmcid-7067710-chunk-391\n",
      "Add of existing embedding ID: pmcid-7067710-chunk-392\n",
      "Add of existing embedding ID: pmcid-7067710-chunk-393\n",
      "Add of existing embedding ID: pmcid-7067710-chunk-394\n",
      "Add of existing embedding ID: pmcid-7067710-chunk-395\n",
      "Add of existing embedding ID: pmcid-7067710-chunk-396\n",
      "Add of existing embedding ID: pmcid-7067710-chunk-397\n",
      "Add of existing embedding ID: pmcid-7067710-chunk-398\n",
      "Add of existing embedding ID: pmcid-7067710-chunk-399\n",
      "Add of existing embedding ID: pmcid-7067710-chunk-400\n",
      "Add of existing embedding ID: pmcid-7067710-chunk-401\n",
      "Add of existing embedding ID: pmcid-7067710-chunk-402\n",
      "Add of existing embedding ID: pmcid-7067710-chunk-403\n",
      "Add of existing embedding ID: pmcid-7067710-chunk-404\n",
      "Add of existing embedding ID: pmcid-7067710-chunk-405\n",
      "Add of existing embedding ID: pmcid-7067710-chunk-406\n",
      "Add of existing embedding ID: pmcid-7067710-chunk-407\n",
      "Add of existing embedding ID: pmcid-7067710-chunk-408\n",
      "Add of existing embedding ID: pmcid-7067710-chunk-409\n",
      "Add of existing embedding ID: pmcid-7067710-chunk-410\n",
      "Add of existing embedding ID: pmcid-7067710-chunk-411\n",
      "Add of existing embedding ID: pmcid-7067710-chunk-412\n",
      "Add of existing embedding ID: pmcid-7067710-chunk-413\n",
      "Add of existing embedding ID: pmcid-7067710-chunk-414\n"
     ]
    },
    {
     "name": "stdout",
     "output_type": "stream",
     "text": [
      "Done Vectorizing Paper! Natural language query with Paper.query() now available.\n"
     ]
    },
    {
     "data": {
      "text/plain": [
       "{'Match on pmcid-7067710-chunk-26': '...similar to its monocomponent constituents when administered separately or coadministered, indicating no drug–drug interactions and no formulation effects. Similar to previous findings for the individual components, the rates of absorption of ibuprofen and acetaminophen from the FDC were slightly delayed in the presence of food. Overall, adolescents had similar exposures to acetaminophen and ibuprofen...'}"
      ]
     },
     "execution_count": 36,
     "metadata": {},
     "output_type": "execute_result"
    }
   ],
   "source": [
    "p.query(\"absorption\")"
   ]
  },
  {
   "cell_type": "code",
   "execution_count": 37,
   "metadata": {},
   "outputs": [
    {
     "data": {
      "text/plain": [
       "{'Match on pmcid-7067710-chunk-302': '...of the FDC to adolescents in Study 3 are summarized in Table\\xa07. Results are presented for all subjects and for the age groups 12–14\\xa0years and 15–17\\xa0years separately. The overall ibuprofen exposure (AUC values) following administration of the FDC was similar for both the younger and older age groups. However, the younger group had a C_max that was approximately 23% higher and occurred 1\\xa0h earlier relative to...',\n",
       " 'Match on pmcid-7067710-chunk-92': '...for this study.\\n\\n    Subjects included in the two adult studies (i.e. Studies 1 and 2) were healthy males and females 12–17\\xa0years of age, inclusive, with at least one painful condition (e.g. headache,...'}"
      ]
     },
     "execution_count": 37,
     "metadata": {},
     "output_type": "execute_result"
    }
   ],
   "source": [
    "p.query(\"what were the participants ages?\", n_results=2, n_before=1, n_after=3)"
   ]
  },
  {
   "cell_type": "markdown",
   "metadata": {},
   "source": [
    "## Peek at the Full Text"
   ]
  },
  {
   "cell_type": "code",
   "execution_count": 38,
   "metadata": {},
   "outputs": [
    {
     "data": {
      "text/plain": [
       "'Abstract: \\n\\nSECTION: Introduction:\\n\\nA fixed-dose combination (FDC) of ibuprofen and acetaminophen ha'"
      ]
     },
     "execution_count": 38,
     "metadata": {},
     "output_type": "execute_result"
    }
   ],
   "source": [
    "p.full_text()[0:100]"
   ]
  },
  {
   "cell_type": "markdown",
   "metadata": {},
   "source": [
    "## Peek at relational df representation of Paper"
   ]
  },
  {
   "cell_type": "code",
   "execution_count": 39,
   "metadata": {},
   "outputs": [
    {
     "name": "stdout",
     "output_type": "stream",
     "text": [
      "<class 'pandas.core.frame.DataFrame'>\n",
      "Index: 31 entries, PMCID to Figures\n",
      "Data columns (total 1 columns):\n",
      " #   Column  Non-Null Count  Dtype \n",
      "---  ------  --------------  ----- \n",
      " 0   0       30 non-null     object\n",
      "dtypes: object(1)\n",
      "memory usage: 496.0+ bytes\n"
     ]
    }
   ],
   "source": [
    "pd.DataFrame(p.to_relational()).info()"
   ]
  },
  {
   "cell_type": "markdown",
   "metadata": {},
   "source": [
    "## Look at a bunch of other Paper metadata"
   ]
  },
  {
   "cell_type": "code",
   "execution_count": 40,
   "metadata": {},
   "outputs": [
    {
     "data": {
      "text/plain": [
       "'Phase I Pharmacokinetic Study of Fixed-Dose Combinations of Ibuprofen and Acetaminophen in Healthy Adult and Adolescent Populations'"
      ]
     },
     "execution_count": 40,
     "metadata": {},
     "output_type": "execute_result"
    }
   ],
   "source": [
    "p.title"
   ]
  },
  {
   "cell_type": "code",
   "execution_count": 41,
   "metadata": {},
   "outputs": [
    {
     "data": {
      "text/html": [
       "<div>\n",
       "<style scoped>\n",
       "    .dataframe tbody tr th:only-of-type {\n",
       "        vertical-align: middle;\n",
       "    }\n",
       "\n",
       "    .dataframe tbody tr th {\n",
       "        vertical-align: top;\n",
       "    }\n",
       "\n",
       "    .dataframe thead th {\n",
       "        text-align: right;\n",
       "    }\n",
       "</style>\n",
       "<table border=\"1\" class=\"dataframe\">\n",
       "  <thead>\n",
       "    <tr style=\"text-align: right;\">\n",
       "      <th></th>\n",
       "      <th>Contributor_Type</th>\n",
       "      <th>First_Name</th>\n",
       "      <th>Last_Name</th>\n",
       "      <th>Email_Address</th>\n",
       "      <th>Affiliations</th>\n",
       "    </tr>\n",
       "  </thead>\n",
       "  <tbody>\n",
       "    <tr>\n",
       "      <th>0</th>\n",
       "      <td>Author</td>\n",
       "      <td>Sanela</td>\n",
       "      <td>Tarabar</td>\n",
       "      <td>Sanela.Tarabar@pfizer.com</td>\n",
       "      <td>[Aff1: Pfizer New Haven Clinical Research Unit, New Haven, CT USA, Aff6: Clinical Research and Development, KS1, 1 Portland Street, Cambridge, MA 02139 USA]</td>\n",
       "    </tr>\n",
       "    <tr>\n",
       "      <th>1</th>\n",
       "      <td>Author</td>\n",
       "      <td>Debra</td>\n",
       "      <td>Kelsh</td>\n",
       "      <td>None</td>\n",
       "      <td>[Aff2: Altasciences/Vince and Associates Clinical Research, Overland Park, KS USA]</td>\n",
       "    </tr>\n",
       "    <tr>\n",
       "      <th>2</th>\n",
       "      <td>Author</td>\n",
       "      <td>Bradley</td>\n",
       "      <td>Vince</td>\n",
       "      <td>None</td>\n",
       "      <td>[Aff2: Altasciences/Vince and Associates Clinical Research, Overland Park, KS USA]</td>\n",
       "    </tr>\n",
       "    <tr>\n",
       "      <th>3</th>\n",
       "      <td>Author</td>\n",
       "      <td>Rina</td>\n",
       "      <td>Leyva</td>\n",
       "      <td>None</td>\n",
       "      <td>[Aff3: Pfizer Consumer Healthcare, Madison, NJ USA]</td>\n",
       "    </tr>\n",
       "    <tr>\n",
       "      <th>4</th>\n",
       "      <td>Author</td>\n",
       "      <td>Dongweon</td>\n",
       "      <td>Song</td>\n",
       "      <td>None</td>\n",
       "      <td>[Aff4: Pfizer Inc., Collegeville, PA USA]</td>\n",
       "    </tr>\n",
       "    <tr>\n",
       "      <th>5</th>\n",
       "      <td>Author</td>\n",
       "      <td>Kyle</td>\n",
       "      <td>Matschke</td>\n",
       "      <td>None</td>\n",
       "      <td>[Aff4: Pfizer Inc., Collegeville, PA USA]</td>\n",
       "    </tr>\n",
       "    <tr>\n",
       "      <th>6</th>\n",
       "      <td>Author</td>\n",
       "      <td>David E.</td>\n",
       "      <td>Kellstein</td>\n",
       "      <td>None</td>\n",
       "      <td>[Aff5: Pfizer Consumer Healthcare, Madison, NJ USA]</td>\n",
       "    </tr>\n",
       "    <tr>\n",
       "      <th>7</th>\n",
       "      <td>Author</td>\n",
       "      <td>Suzanne</td>\n",
       "      <td>Meeves</td>\n",
       "      <td>None</td>\n",
       "      <td>[Aff5: Pfizer Consumer Healthcare, Madison, NJ USA]</td>\n",
       "    </tr>\n",
       "    <tr>\n",
       "      <th>8</th>\n",
       "      <td>Author</td>\n",
       "      <td>Mario</td>\n",
       "      <td>Cruz-Rivera</td>\n",
       "      <td>None</td>\n",
       "      <td>[Aff5: Pfizer Consumer Healthcare, Madison, NJ USA]</td>\n",
       "    </tr>\n",
       "  </tbody>\n",
       "</table>\n",
       "</div>"
      ],
      "text/plain": [
       "  Contributor_Type First_Name    Last_Name              Email_Address  \\\n",
       "0           Author     Sanela      Tarabar  Sanela.Tarabar@pfizer.com   \n",
       "1           Author      Debra        Kelsh                       None   \n",
       "2           Author    Bradley        Vince                       None   \n",
       "3           Author       Rina        Leyva                       None   \n",
       "4           Author   Dongweon         Song                       None   \n",
       "5           Author       Kyle     Matschke                       None   \n",
       "6           Author   David E.    Kellstein                       None   \n",
       "7           Author    Suzanne       Meeves                       None   \n",
       "8           Author      Mario  Cruz-Rivera                       None   \n",
       "\n",
       "                                                                                                                                                   Affiliations  \n",
       "0  [Aff1: Pfizer New Haven Clinical Research Unit, New Haven, CT USA, Aff6: Clinical Research and Development, KS1, 1 Portland Street, Cambridge, MA 02139 USA]  \n",
       "1                                                                            [Aff2: Altasciences/Vince and Associates Clinical Research, Overland Park, KS USA]  \n",
       "2                                                                            [Aff2: Altasciences/Vince and Associates Clinical Research, Overland Park, KS USA]  \n",
       "3                                                                                                           [Aff3: Pfizer Consumer Healthcare, Madison, NJ USA]  \n",
       "4                                                                                                                     [Aff4: Pfizer Inc., Collegeville, PA USA]  \n",
       "5                                                                                                                     [Aff4: Pfizer Inc., Collegeville, PA USA]  \n",
       "6                                                                                                           [Aff5: Pfizer Consumer Healthcare, Madison, NJ USA]  \n",
       "7                                                                                                           [Aff5: Pfizer Consumer Healthcare, Madison, NJ USA]  \n",
       "8                                                                                                           [Aff5: Pfizer Consumer Healthcare, Madison, NJ USA]  "
      ]
     },
     "execution_count": 41,
     "metadata": {},
     "output_type": "execute_result"
    }
   ],
   "source": [
    "pd.options.display.max_colwidth = 200\n",
    "p.authors"
   ]
  },
  {
   "cell_type": "code",
   "execution_count": 42,
   "metadata": {},
   "outputs": [
    {
     "name": "stdout",
     "output_type": "stream",
     "text": [
      "No non-author contributors were found after parsing this paper.\n"
     ]
    }
   ],
   "source": [
    "print(p.non_author_contributors)"
   ]
  },
  {
   "cell_type": "code",
   "execution_count": 43,
   "metadata": {},
   "outputs": [
    {
     "data": {
      "text/plain": [
       "{'nlm-ta': 'Drugs R D', 'iso-abbrev': 'Drugs R D'}"
      ]
     },
     "execution_count": 43,
     "metadata": {},
     "output_type": "execute_result"
    }
   ],
   "source": [
    "p.journal_id"
   ]
  },
  {
   "cell_type": "code",
   "execution_count": 44,
   "metadata": {},
   "outputs": [
    {
     "data": {
      "text/plain": [
       "{'ppub': '1174-5886', 'epub': '1179-6901'}"
      ]
     },
     "execution_count": 44,
     "metadata": {},
     "output_type": "execute_result"
    }
   ],
   "source": [
    "p.issn"
   ]
  },
  {
   "cell_type": "code",
   "execution_count": 45,
   "metadata": {},
   "outputs": [
    {
     "data": {
      "text/plain": [
       "'Drugs in R&D'"
      ]
     },
     "execution_count": 45,
     "metadata": {},
     "output_type": "execute_result"
    }
   ],
   "source": [
    "p.journal_title"
   ]
  },
  {
   "cell_type": "code",
   "execution_count": 46,
   "metadata": {},
   "outputs": [
    {
     "data": {
      "text/plain": [
       "'Cham'"
      ]
     },
     "execution_count": 46,
     "metadata": {},
     "output_type": "execute_result"
    }
   ],
   "source": [
    "p.publisher_location"
   ]
  },
  {
   "cell_type": "code",
   "execution_count": 47,
   "metadata": {},
   "outputs": [
    {
     "data": {
      "text/plain": [
       "'Springer International Publishing'"
      ]
     },
     "execution_count": 47,
     "metadata": {},
     "output_type": "execute_result"
    }
   ],
   "source": [
    "p.publisher_name"
   ]
  },
  {
   "cell_type": "code",
   "execution_count": 48,
   "metadata": {},
   "outputs": [
    {
     "data": {
      "text/plain": [
       "{'pmid': '32130679',\n",
       " 'pmc': '7067710',\n",
       " 'publisher-id': '293',\n",
       " 'doi': '10.1007/s40268-020-00293-5'}"
      ]
     },
     "execution_count": 48,
     "metadata": {},
     "output_type": "execute_result"
    }
   ],
   "source": [
    "p.article_id"
   ]
  },
  {
   "cell_type": "code",
   "execution_count": 49,
   "metadata": {},
   "outputs": [
    {
     "data": {
      "text/plain": [
       "['Original Research Article']"
      ]
     },
     "execution_count": 49,
     "metadata": {},
     "output_type": "execute_result"
    }
   ],
   "source": [
    "p.article_types"
   ]
  },
  {
   "cell_type": "code",
   "execution_count": 50,
   "metadata": {},
   "outputs": [
    {
     "data": {
      "text/plain": [
       "'No extra article categories found. Check paper.article_types for header categories.'"
      ]
     },
     "execution_count": 50,
     "metadata": {},
     "output_type": "execute_result"
    }
   ],
   "source": [
    "p.article_categories"
   ]
  },
  {
   "cell_type": "code",
   "execution_count": 51,
   "metadata": {},
   "outputs": [
    {
     "data": {
      "text/plain": [
       "{'epub': datetime.datetime(2020, 3, 4, 0, 0),\n",
       " 'pmc-release': datetime.datetime(2020, 3, 4, 0, 0),\n",
       " 'ppub': datetime.datetime(2020, 3, 1, 0, 0)}"
      ]
     },
     "execution_count": 51,
     "metadata": {},
     "output_type": "execute_result"
    }
   ],
   "source": [
    "p.published_date"
   ]
  },
  {
   "cell_type": "code",
   "execution_count": 52,
   "metadata": {},
   "outputs": [
    {
     "data": {
      "text/plain": [
       "'20'"
      ]
     },
     "execution_count": 52,
     "metadata": {},
     "output_type": "execute_result"
    }
   ],
   "source": [
    "p.volume"
   ]
  },
  {
   "cell_type": "code",
   "execution_count": 53,
   "metadata": {},
   "outputs": [
    {
     "data": {
      "text/plain": [
       "'1'"
      ]
     },
     "execution_count": 53,
     "metadata": {},
     "output_type": "execute_result"
    }
   ],
   "source": [
    "p.issue"
   ]
  },
  {
   "cell_type": "code",
   "execution_count": 54,
   "metadata": {},
   "outputs": [
    {
     "data": {
      "text/plain": [
       "'23'"
      ]
     },
     "execution_count": 54,
     "metadata": {},
     "output_type": "execute_result"
    }
   ],
   "source": [
    "p.fpage"
   ]
  },
  {
   "cell_type": "code",
   "execution_count": 55,
   "metadata": {},
   "outputs": [
    {
     "data": {
      "text/plain": [
       "'37'"
      ]
     },
     "execution_count": 55,
     "metadata": {},
     "output_type": "execute_result"
    }
   ],
   "source": [
    "p.lpage"
   ]
  },
  {
   "cell_type": "code",
   "execution_count": 56,
   "metadata": {},
   "outputs": [
    {
     "data": {
      "text/plain": [
       "{'Copyright Statement': '© The Author(s) 2020',\n",
       " 'License Type': 'OpenAccess',\n",
       " 'License Text': \"Open AccessThis article is licensed under a Creative Commons Attribution-NonCommercial 4.0 International License, which permits any non-commercial use, sharing, adaptation, distribution and reproduction in any medium or format, as long as you give appropriate credit to the original author(s) and the source, provide a link to the Creative Commons licence, and indicate if changes were made. The images or other third party material in this article are included in the article's Creative Commons licence, unless indicated otherwise in a credit line to the material. If material is not included in the article's Creative Commons licence and your intended use is not permitted by statutory regulation or exceeds the permitted use, you will need to obtain permission directly from the copyright holder.To view a copy of this licence, visit [External URI:]http://creativecommons.org/licenses/by-nc/4.0/.\"}"
      ]
     },
     "execution_count": 56,
     "metadata": {},
     "output_type": "execute_result"
    }
   ],
   "source": [
    "p.permissions"
   ]
  },
  {
   "cell_type": "code",
   "execution_count": 57,
   "metadata": {},
   "outputs": [
    {
     "data": {
      "text/plain": [
       "'© The Author(s) 2020'"
      ]
     },
     "execution_count": 57,
     "metadata": {},
     "output_type": "execute_result"
    }
   ],
   "source": [
    "p.copyright"
   ]
  },
  {
   "cell_type": "code",
   "execution_count": 58,
   "metadata": {},
   "outputs": [
    {
     "data": {
      "text/plain": [
       "'OpenAccess'"
      ]
     },
     "execution_count": 58,
     "metadata": {},
     "output_type": "execute_result"
    }
   ],
   "source": [
    "p.license"
   ]
  },
  {
   "cell_type": "code",
   "execution_count": 59,
   "metadata": {},
   "outputs": [
    {
     "data": {
      "text/plain": [
       "['Pfizer Consumer Healthcare']"
      ]
     },
     "execution_count": 59,
     "metadata": {},
     "output_type": "execute_result"
    }
   ],
   "source": [
    "p.funding"
   ]
  },
  {
   "cell_type": "code",
   "execution_count": 60,
   "metadata": {},
   "outputs": [
    {
     "data": {
      "text/plain": [
       "'The authors David E. Kellstein, Suzanne Meeves and Mario Cruz-Rivera were Employees of Pfizer Consumer Healthcare, Madison, NJ, USA at the time this research was conducted.'"
      ]
     },
     "execution_count": 60,
     "metadata": {},
     "output_type": "execute_result"
    }
   ],
   "source": [
    "p.footnote"
   ]
  },
  {
   "cell_type": "code",
   "execution_count": 61,
   "metadata": {},
   "outputs": [
    {
     "name": "stdout",
     "output_type": "stream",
     "text": [
      "Acknowledgements \n",
      "       Medical writing support was provided by John H. Simmons, MD, of Peloton Advantage, LLC, an OPEN Health company, and was funded by Pfizer. On 1 August 2019, PCH became part of GSK Consumer Healthcare. The authors would like to thank Zhongwei Zhou, lead programmer, and all the programmers who supported these studies, as well as the study participants.\n"
     ]
    }
   ],
   "source": [
    "for ack in p.acknowledgements:\n",
    "    print(ack)"
   ]
  },
  {
   "cell_type": "markdown",
   "metadata": {},
   "source": [
    "## More Detailed Investigation of Ref Map and Texts"
   ]
  },
  {
   "cell_type": "code",
   "execution_count": 62,
   "metadata": {},
   "outputs": [
    {
     "data": {
      "text/plain": [
       "{'Authors': ['A Dickman'],\n",
       " 'Title': 'Choosing over-the-counter analgesics',\n",
       " 'Source': 'Pharm J.',\n",
       " 'Year': '2008',\n",
       " 'Volume': '281',\n",
       " 'FirstPage': '631',\n",
       " 'LastPage': None,\n",
       " 'DOI': None,\n",
       " 'PMID': None}"
      ]
     },
     "execution_count": 62,
     "metadata": {},
     "output_type": "execute_result"
    }
   ],
   "source": [
    "\n",
    "#look at DATAREF index 1, a citation (if using the provided example PMCID article)\n",
    "p.ref_map[1]"
   ]
  },
  {
   "cell_type": "code",
   "execution_count": 63,
   "metadata": {},
   "outputs": [
    {
     "data": {
      "text/plain": [
       "[{'Authors': ['A Dickman'],\n",
       "  'Title': 'Choosing over-the-counter analgesics',\n",
       "  'Source': 'Pharm J.',\n",
       "  'Year': '2008',\n",
       "  'Volume': '281',\n",
       "  'FirstPage': '631',\n",
       "  'LastPage': None,\n",
       "  'DOI': None,\n",
       "  'PMID': None}]"
      ]
     },
     "execution_count": 63,
     "metadata": {},
     "output_type": "execute_result"
    }
   ],
   "source": [
    "#look at datarefs filtered by citations\n",
    "p.citations[0:1]"
   ]
  },
  {
   "cell_type": "code",
   "execution_count": 64,
   "metadata": {},
   "outputs": [
    {
     "data": {
      "text/html": [
       "<div>\n",
       "<style scoped>\n",
       "    .dataframe tbody tr th:only-of-type {\n",
       "        vertical-align: middle;\n",
       "    }\n",
       "\n",
       "    .dataframe tbody tr th {\n",
       "        vertical-align: top;\n",
       "    }\n",
       "\n",
       "    .dataframe thead th {\n",
       "        text-align: right;\n",
       "    }\n",
       "</style>\n",
       "<table border=\"1\" class=\"dataframe\">\n",
       "  <thead>\n",
       "    <tr style=\"text-align: right;\">\n",
       "      <th></th>\n",
       "      <th>0</th>\n",
       "    </tr>\n",
       "  </thead>\n",
       "  <tbody>\n",
       "    <tr>\n",
       "      <th>0</th>\n",
       "      <td>The pharmacokinetic profile of a fixed-dose combination (FDC) of ibuprofen 250 mg and acetaminophen 500 mg was found to be similar to its individual components administered separately or coadminis...</td>\n",
       "    </tr>\n",
       "    <tr>\n",
       "      <th>1</th>\n",
       "      <td>Similar to what has been previously reported for the individual ingredients, food delayed the absorption of both components but had no effect on overall exposure; exposure to both components in ad...</td>\n",
       "    </tr>\n",
       "    <tr>\n",
       "      <th>2</th>\n",
       "      <td>Since the efficacy of this FDC has been shown to be superior to the same doses of individual components and it is generally well tolerated, this new FDC may provide another analgesic treatment opt...</td>\n",
       "    </tr>\n",
       "  </tbody>\n",
       "</table>\n",
       "</div>"
      ],
      "text/plain": [
       "                                                                                                                                                                                                         0\n",
       "0  The pharmacokinetic profile of a fixed-dose combination (FDC) of ibuprofen 250 mg and acetaminophen 500 mg was found to be similar to its individual components administered separately or coadminis...\n",
       "1  Similar to what has been previously reported for the individual ingredients, food delayed the absorption of both components but had no effect on overall exposure; exposure to both components in ad...\n",
       "2  Since the efficacy of this FDC has been shown to be superior to the same doses of individual components and it is generally well tolerated, this new FDC may provide another analgesic treatment opt..."
      ]
     },
     "execution_count": 64,
     "metadata": {},
     "output_type": "execute_result"
    }
   ],
   "source": [
    "#look at an example table filtered out of the ref map\n",
    "p.tables[0]"
   ]
  },
  {
   "cell_type": "code",
   "execution_count": 65,
   "metadata": {},
   "outputs": [
    {
     "data": {
      "text/plain": [
       "{'Label': 'Fig.\\xa01',\n",
       " 'Caption': 'Median plasma ibuprofen concentration over time following a single oral dose: a Study 1; b Study 2; c Study 3. Note that plasma concentrations for IBU 200\\xa0mg in Study 1 are dose-normalized. APAP acetaminophen, FDC fixed-dose combination, IBU ibuprofen',\n",
       " 'Link': '40268_2020_293_Fig1_HTML'}"
      ]
     },
     "execution_count": 65,
     "metadata": {},
     "output_type": "execute_result"
    }
   ],
   "source": [
    "#look at an example figure filtered out from the ref map\n",
    "p.figures[0]"
   ]
  },
  {
   "cell_type": "code",
   "execution_count": 66,
   "metadata": {},
   "outputs": [
    {
     "name": "stdout",
     "output_type": "stream",
     "text": [
      "Text: SECTION: Key Points:\n",
      "\n",
      "\n",
      "\n",
      "\n",
      "Text with Refs: SECTION: Key Points:\n",
      "\n",
      "[MHTML::dataref::0]\n",
      "\n",
      "Text: SECTION: Introduction:\n",
      "\n",
      "Ibuprofen and acetaminophen are among the most widely used non-prescription over-the-counter (OTC) analgesic/antipyretic drugs, both in the US and globally [1, 2]. The efficacy of these agents for the treatment of mild-to-moderate acute pain and fever in the OTC setting is well established [2–5]. Ibuprofen is a nonsteroidal anti-inflammatory drug (NSAID) that inhibits the cyclooxygenase (COX)-1 and -2 isoenzymes and hence the synthesis of pro-inflammatory prostaglandins, whereas acetaminophen is believed to act through inhibition of a subclass of COX enzyme isoforms in the central nervous system [6]. Additionally, acetaminophen has been reported to have effects on descending inhibitory serotonergic pain pathways to inhibit the l-arginine nitric oxide pathway; effects on cannabinoid receptors may also be operant [7]. Both ibuprofen and acetaminophen are associated with a ceiling effect for pain relief, i.e. a point at which higher single doses of either agent provide comparable changes in pain scores versus lower doses; respective dose ceilings are 400 mg for ibuprofen [8, 9] and 1000 mg for acetaminophen [10]. Conversely, the risk of adverse events (AEs) with ibuprofen and acetaminophen, such as gastrointestinal toxicity and acute liver failure, respectively, increases with greater doses of each agent [11, 12].\n",
      "\n",
      "Previous phase III clinical studies have demonstrated better efficacy of a fixed-dose combination (FDC) of ibuprofen and acetaminophen relative to monoactives in the same doses [13, 14]. Combining ibuprofen and acetaminophen may also allow for the effective use of lower doses of both agents, potentially reducing safety concerns associated with these drugs when administered alone at higher doses [11]. Indeed, combinations of ibuprofen and acetaminophen have been previously studied and have been shown to be effective in the management of acute pain and reduction of fever [3, 13–16]. Furthermore, these studies also demonstrated a safety profile of the ibuprofen/acetaminophen combination comparable or superior to the individual components [3, 13–15].\n",
      "\n",
      "Pharmacokinetic (PK) studies have demonstrated no alterations in plasma drug concentrations, indicating no drug–drug interactions, when ibuprofen and acetaminophen are administered concomitantly [6, 17]; therefore, no additional safety concerns are expected when ibuprofen and acetaminophen are used in combination compared with either agent alone. In this study, we report on three separate clinical PK studies of a new FDC of ibuprofen and acetaminophen containing lower doses of the two ingredients (250 mg ibuprofen/500 mg acetaminophen, administered as two tablets of 125 mg ibuprofen/250 mg acetaminophen) than the maximum recommended doses of the single-ingredient products. Analgesic studies of this FDC have demonstrated efficacy superior to the individual components and comparable to the maximal analgesic dose of ibuprofen (400 mg; Kellstein and Leyva, unpublished data). The objectives of the three studies detailed herein were (1) to determine the relative bioavailability of ibuprofen and acetaminophen from this new FDC compared with its individual monocomponents administered together or separately in adults; (2) to evaluate the effects of food on PK in adults; and (3) to determine exposure to ibuprofen and acetaminophen from the FDC in adolescents.\n",
      "\n",
      "\n",
      "Text with Refs: SECTION: Introduction:\n",
      "\n",
      "Ibuprofen and acetaminophen are among the most widely used non-prescription over-the-counter (OTC) analgesic/antipyretic drugs, both in the US and globally [1[MHTML::dataref::1], 2[MHTML::dataref::2]]. The efficacy of these agents for the treatment of mild-to-moderate acute pain and fever in the OTC setting is well established [2[MHTML::dataref::2]–5[MHTML::dataref::3]]. Ibuprofen is a nonsteroidal anti-inflammatory drug (NSAID) that inhibits the cyclooxygenase (COX)-1 and -2 isoenzymes and hence the synthesis of pro-inflammatory prostaglandins, whereas acetaminophen is believed to act through inhibition of a subclass of COX enzyme isoforms in the central nervous system [6[MHTML::dataref::4]]. Additionally, acetaminophen has been reported to have effects on descending inhibitory serotonergic pain pathways to inhibit the l-arginine nitric oxide pathway; effects on cannabinoid receptors may also be operant [7[MHTML::dataref::5]]. Both ibuprofen and acetaminophen are associated with a ceiling effect for pain relief, i.e. a point at which higher single doses of either agent provide comparable changes in pain scores versus lower doses; respective dose ceilings are 400 mg for ibuprofen [8[MHTML::dataref::6], 9[MHTML::dataref::7]] and 1000 mg for acetaminophen [10[MHTML::dataref::8]]. Conversely, the risk of adverse events (AEs) with ibuprofen and acetaminophen, such as gastrointestinal toxicity and acute liver failure, respectively, increases with greater doses of each agent [11[MHTML::dataref::9], 12[MHTML::dataref::10]].\n",
      "\n",
      "Previous phase III clinical studies have demonstrated better efficacy of a fixed-dose combination (FDC) of ibuprofen and acetaminophen relative to monoactives in the same doses [13[MHTML::dataref::11], 14[MHTML::dataref::12]]. Combining ibuprofen and acetaminophen may also allow for the effective use of lower doses of both agents, potentially reducing safety concerns associated with these drugs when administered alone at higher doses [11[MHTML::dataref::9]]. Indeed, combinations of ibuprofen and acetaminophen have been previously studied and have been shown to be effective in the management of acute pain and reduction of fever [3[MHTML::dataref::13], 13[MHTML::dataref::11]–16[MHTML::dataref::14]]. Furthermore, these studies also demonstrated a safety profile of the ibuprofen/acetaminophen combination comparable or superior to the individual components [3[MHTML::dataref::13], 13[MHTML::dataref::11]–15[MHTML::dataref::15]].\n",
      "\n",
      "Pharmacokinetic (PK) studies have demonstrated no alterations in plasma drug concentrations, indicating no drug–drug interactions, when ibuprofen and acetaminophen are administered concomitantly [6[MHTML::dataref::4], 17[MHTML::dataref::16]]; therefore, no additional safety concerns are expected when ibuprofen and acetaminophen are used in combination compared with either agent alone. In this study, we report on three separate clinical PK studies of a new FDC of ibuprofen and acetaminophen containing lower doses of the two ingredients (250 mg ibuprofen/500 mg acetaminophen, administered as two tablets of 125 mg ibuprofen/250 mg acetaminophen) than the maximum recommended doses of the single-ingredient products. Analgesic studies of this FDC have demonstrated efficacy superior to the individual components and comparable to the maximal analgesic dose of ibuprofen (400 mg; Kellstein and Leyva, unpublished data). The objectives of the three studies detailed herein were (1) to determine the relative bioavailability of ibuprofen and acetaminophen from this new FDC compared with its individual monocomponents administered together or separately in adults; (2) to evaluate the effects of food on PK in adults; and (3) to determine exposure to ibuprofen and acetaminophen from the FDC in adolescents.\n",
      "\n",
      "Text: SECTION: Methods:\n",
      "\n",
      "    SECTION: Study Design:\n",
      "\n",
      "    Three clinical phase I PK studies were conducted. Study 1 (conducted from January to March 2016) and Study 2 (conducted from December 2015 to March 2016) were performed at the Pfizer Clinical Research Unit (New Haven, CT, USA) and were open-label, four-way crossover studies that enrolled healthy adults. The third study (Study 3) was carried out from August to November 2016 at three clinical research centers across the US (WCCT Global, Costa Mesa, CA; Pharmaceutical Research Associates, Salt Lake City, UT; and Altasciences/Vince and Associates Clinical Research, Overland Park, KS) and was an open-label, single-dose study in healthy adolescents. The studies were conducted in compliance with the ethical principles originating in or derived from the Declaration of Helsinki and in compliance with all International Council for Harmonization Good Clinical Practice guidelines, as well as local regulatory requirements. All subjects (or parents or guardians in the adolescent study) provided written informed consent, and informed assent was obtained from each minor subject. The studies were managed by Pfizer Inc. and conducted by investigators employed or contracted by, and under the direction of, Pfizer Inc. Data management and analyses were conducted by Pfizer Inc., and investigators had full access and control over data interpretation for this study.\n",
      "\n",
      "    Subjects included in the two adult studies (i.e. Studies 1 and 2) were healthy male and female volunteers aged 18–55 years, inclusive. Included subjects had a body mass index (BMI) of 17.5–30.5 kg/m^2, inclusive, and a total body weight of > 50 kg. For inclusion in Study 3, subjects were healthy males and females 12–17 years of age, inclusive, with at least one painful condition (e.g. headache, dysmenorrhea, or musculoskeletal pain) that required the use of an oral OTC analgesic five or more times in the previous 4 weeks. Total body weight, stature, and BMI must have been within the 10th and 90th percentile for age and sex. Female subjects of childbearing potential and males able to father children must have been willing to use a highly effective method of contraception for the duration of the study and for 28 days after the last dose of study medication.\n",
      "\n",
      "    Exclusion criteria were similar in each of the three studies. Pregnant or breastfeeding subjects were not allowed to participate in any of the studies. The presence or history of significant disease, bleeding disorder, signs of dehydration (adolescents), or any other condition in which study medication may have increased risk; any condition that could have affected drug absorption (e.g. gastrectomy); a positive urine drug screen; history of regular alcohol consumption (adults); alcohol use within 24 h (adults) or 48 h (adolescents) of dosing; or use of tobacco within 6 months of screening (adults) or within 24 h prior to dosing (adolescents) was exclusionary. Treatment with an investigational drug within 30 days, use of prescription and non-prescription drugs or dietary supplements within 7 days, or use of nutritional supplements within 14 days prior to the first dose of study drug was prohibited. Subjects with hypertension (i.e. blood pressure ≥ 140/90 mmHg in adults or ≥ 95th percentile for age and height in adolescents); QT or QRS prolongation of > 450 ms or > 120 ms, respectively; aspartate or alanine aminotransferase ≥ 3 × or total bilirubin ≥ 1.5 × the upper limit of normal; blood donation of approximately 1 pint (adults) or exceeding 130 mL or 3 mL/kg (adolescents) within 56 days; hypersensitivity to aspirin, acetaminophen, ibuprofen, or any other NSAID; consumption of grapefruit or related citrus fruits within 7 days prior to dosing; use of acetaminophen, ibuprofen, or any other NSAID within 48 h prior to the first dose of study medication; or use of caffeine or alcohol within 24 h of admission prompted study exclusion. Subjects with a positive test for hepatitis B, hepatitis C, or human immunodeficiency virus were excluded.\n",
      "\n",
      "\n",
      "    SECTION: Determination of Sample Size:\n",
      "\n",
      "    In a previous publication [6] studying the PK profile of a novel FDC tablet formulation of ibuprofen and paracetamol (ibuprofen 400 mg/acetaminophen 1000 mg) under fasted and fed conditions, it was observed that the fed versus fasted ratio of C_max was lower than 80% for both ibuprofen and acetaminophen, suggesting that it was unlikely to achieve bioequivalence regardless of the sample size used for this parameter. Therefore, the sample size calculation in Study 1 was focused on having adequate power for declaring bioequivalence in terms of area under the concentration-time curve from time zero to infinity (AUC_∞). The sample size calculation was based on the results of the log-transformed AUC_∞ in acetaminophen, the analyte with the higher variability in this study.\n",
      "\n",
      "    In order to provide at least 85% power for declaring bioequivalence for AUC_∞ in Study 1, 32 subjects were required to complete the study. This sample size estimate assumed a root mean square of error (RMSE) of 0.120 and that the true bioavailability of the test formulation was within 15% of that for the reference formulation [6]. To ensure at least 32 subjects completed all four periods of the study, approximately 36 subjects were to be enrolled.\n",
      "\n",
      "    For Study 2, acetaminophen and log-transformed C_max, the analyte and the parameter with the highest variabilities observed in previous Pfizer Consumer Healthcare (PCH) studies, were used in the sample size calculation. Additionally, it was assumed that the true bioavailability of the test formulation (FDC ibuprofen/acetaminophen 250/500 mg) was within 5.0% of that for the reference formulation and that it was similar between the two analytes, ibuprofen and acetaminophen. This was observed in a previous publication studying the PK profiles of a novel FDC tablet of ibuprofen and acetaminophen (ibuprofen 400 mg/acetaminophen 1000 mg) [6].\n",
      "\n",
      "    Using these assumptions and an RMSE of 0.2742 (observed in a previous PCH study [#PA-96-01], which studied the PK profiles of different acetaminophen formulations of 1000 mg; unpublished data), it was estimated that a sample size of approximately 40 subjects would provide at least 85% power to establish bioequivalence in Study 2. To ensure approximately 40 subjects completed all four periods of the study, at least 44 subjects were to be enrolled.\n",
      "\n",
      "    For Study 3, review of previous PK data for ibuprofen and acetaminophen revealed that acetaminophen and the apparent oral clearance (CL), as calculated by the dose administered/AUC_∞ (CL/F), were the analyte and PK parameter, respectively, with the higher variability. Taking into consideration regulatory guidance from the US FDA as well as historical PK data, and using the method proposed by Wang et al. [18], it was estimated that a sample size of nine subjects within each of the age groups (12–14 years and 15–17 years) would provide at least 90% power to target the 95% confidence interval (CI) to be within 60% and 140% of the geometric mean estimate of CL/F for FDC ibuprofen/acetaminophen in each age subgroup, assuming an approximate between-subject coefficient of variability of 30% for the untransformed CL for acetaminophen based on a previous adult PK study conducted by PCH. To allow for dropouts in this multicenter study, approximately 22 subjects were to be enrolled to ensure that a minimum of 18 subjects completed the study (at least 9 within each age subgroup).\n",
      "\n",
      "\n",
      "    SECTION: Study Treatments:\n",
      "\n",
      "    Subjects were administered a single dose of study drug at baseline as described below. In Study 1, subjects were randomized to receive a single dose of 2 × FDC ibuprofen/acetaminophen 125 mg/250 mg (i.e. FDC ibuprofen/acetaminophen 250/500 mg; ^©2019 GSK group of companies or its licensor, Madison, NJ, USA) either after a 10-h fast or following a high-fat breakfast, or ibuprofen 200 mg (Advil^®; ^©2019 GSK group of companies or its licensor), or acetaminophen extended release (ER) 650 mg (Tylenol^® 8 HR; Johnson & Johnson Consumer Inc, New Brunswick, NJ, USA), both fasted. Acetaminophen 650 mg ER and ibuprofen 200 mg were used for comparison based on regulatory requirements. In Study 2, subjects were randomized to 2 × FDC ibuprofen/acetaminophen 125/250 mg, coadministered monocomponents ibuprofen 250 mg (^©2019 GSK group of companies or its licensor) and acetaminophen 500 mg (Tylenol^® Extra Strength; McNeil Consumer Healthcare, Ft. Washington, PA, USA), ibuprofen 250 mg alone, or acetaminophen 500 mg alone following an overnight fast of at least 10 h. Studies 1 and 2 had a crossover design; subjects received all four treatments, with a 2-day washout between each treatment period. Subjects remained in the clinic for the duration of the study. In Study 3, all subjects received a single dose of 2 × FDC ibuprofen/acetaminophen 125/250 mg (i.e. FDC ibuprofen/acetaminophen 250/500 mg) after an overnight fast.\n",
      "\n",
      "\n",
      "    SECTION: Phamacokinetic (PK) Sampling, Analysis, and Calculations:\n",
      "\n",
      "    In each study, a predose PK sample was obtained approximately 60 min before each treatment period. PK sampling was conducted at 10, 20, 30, 40, 50, 60, 75, and 90 min and 2, 3, 4, 6, 8, 10, 12, 18, and 24 h after dosing in Study 1, and at the same time points through 12 h in Study 2. Samples were obtained at 10, 20, 30, 45, 60, 75, and 90 min and at 2, 3, 6, 9, and 12 h in Study 3.\n",
      "\n",
      "    For all three studies, plasma samples were analyzed for total ibuprofen and acetaminophen using a validated analytical assay employing a high-performance liquid chromatography tandem mass spectrometric method by PPD (Middleton, WI, USA). The lower limit of quantitation (LLOQ) of the assay for ibuprofen and acetaminophen was 0.2 and 0.1 μg/mL, respectively. Clinical specimens with plasma ibuprofen or acetaminophen concentrations below the LLOQ were reported as below the LLOQ. In Studies 1 and 2, PK metrics were calculated for each subject using non-compartmental analysis of plasma concentration-time data using the internally validated software system electronic non-compartmental analysis (eNCA) version 2.2.4. In Study 3, PK metrics were calculated using Phoenix WinNonlin version 6.4 (Pharsight Corporation, Mountain View, CA, USA).\n",
      "\n",
      "    PK metrics calculated included C_max, time to maximum concentration (t_max), area under the concentration-time curve from time zero to the last quantifiable concentration (AUC_last), AUC_∞, and terminal half-life (t_½). The comparability of PK metrics in Studies 1 and 2 was determined by constructing 90% CIs around the estimated difference between test and reference treatments using a mixed-effects model based on natural log-transformed data. The mixed-effects model was implemented using SAS PROC MIXED (SAS Institute, Inc., Cary, NC, USA) with the restricted maximum likelihood estimation method and the Kenward–Roger degrees of freedom algorithm. Because the monocomponent doses in Study 1 were different from those of the FDC, PK metrics were dose normalized to ibuprofen 250 mg and acetaminophen 500 mg for the purposes of comparison.\n",
      "\n",
      "    Safety, including AEs, was monitored throughout the in-patient portion of the studies and during a follow-up phone call 14 days after the last investigational drug dose in each study.\n",
      "\n",
      "\n",
      "\n",
      "Text with Refs: SECTION: Methods:\n",
      "\n",
      "    SECTION: Study Design:\n",
      "\n",
      "    Three clinical phase I PK studies were conducted. Study 1 (conducted from January to March 2016) and Study 2 (conducted from December 2015 to March 2016) were performed at the Pfizer Clinical Research Unit (New Haven, CT, USA) and were open-label, four-way crossover studies that enrolled healthy adults. The third study (Study 3) was carried out from August to November 2016 at three clinical research centers across the US (WCCT Global, Costa Mesa, CA; Pharmaceutical Research Associates, Salt Lake City, UT; and Altasciences/Vince and Associates Clinical Research, Overland Park, KS) and was an open-label, single-dose study in healthy adolescents. The studies were conducted in compliance with the ethical principles originating in or derived from the Declaration of Helsinki and in compliance with all International Council for Harmonization Good Clinical Practice guidelines, as well as local regulatory requirements. All subjects (or parents or guardians in the adolescent study) provided written informed consent, and informed assent was obtained from each minor subject. The studies were managed by Pfizer Inc. and conducted by investigators employed or contracted by, and under the direction of, Pfizer Inc. Data management and analyses were conducted by Pfizer Inc., and investigators had full access and control over data interpretation for this study.\n",
      "\n",
      "    Subjects included in the two adult studies (i.e. Studies 1 and 2) were healthy male and female volunteers aged 18–55 years, inclusive. Included subjects had a body mass index (BMI) of 17.5–30.5 kg/m^2, inclusive, and a total body weight of > 50 kg. For inclusion in Study 3, subjects were healthy males and females 12–17 years of age, inclusive, with at least one painful condition (e.g. headache, dysmenorrhea, or musculoskeletal pain) that required the use of an oral OTC analgesic five or more times in the previous 4 weeks. Total body weight, stature, and BMI must have been within the 10th and 90th percentile for age and sex. Female subjects of childbearing potential and males able to father children must have been willing to use a highly effective method of contraception for the duration of the study and for 28 days after the last dose of study medication.\n",
      "\n",
      "    Exclusion criteria were similar in each of the three studies. Pregnant or breastfeeding subjects were not allowed to participate in any of the studies. The presence or history of significant disease, bleeding disorder, signs of dehydration (adolescents), or any other condition in which study medication may have increased risk; any condition that could have affected drug absorption (e.g. gastrectomy); a positive urine drug screen; history of regular alcohol consumption (adults); alcohol use within 24 h (adults) or 48 h (adolescents) of dosing; or use of tobacco within 6 months of screening (adults) or within 24 h prior to dosing (adolescents) was exclusionary. Treatment with an investigational drug within 30 days, use of prescription and non-prescription drugs or dietary supplements within 7 days, or use of nutritional supplements within 14 days prior to the first dose of study drug was prohibited. Subjects with hypertension (i.e. blood pressure ≥ 140/90 mmHg in adults or ≥ 95th percentile for age and height in adolescents); QT or QRS prolongation of > 450 ms or > 120 ms, respectively; aspartate or alanine aminotransferase ≥ 3 × or total bilirubin ≥ 1.5 × the upper limit of normal; blood donation of approximately 1 pint (adults) or exceeding 130 mL or 3 mL/kg (adolescents) within 56 days; hypersensitivity to aspirin, acetaminophen, ibuprofen, or any other NSAID; consumption of grapefruit or related citrus fruits within 7 days prior to dosing; use of acetaminophen, ibuprofen, or any other NSAID within 48 h prior to the first dose of study medication; or use of caffeine or alcohol within 24 h of admission prompted study exclusion. Subjects with a positive test for hepatitis B, hepatitis C, or human immunodeficiency virus were excluded.\n",
      "\n",
      "\n",
      "    SECTION: Determination of Sample Size:\n",
      "\n",
      "    In a previous publication [6[MHTML::dataref::4]] studying the PK profile of a novel FDC tablet formulation of ibuprofen and paracetamol (ibuprofen 400 mg/acetaminophen 1000 mg) under fasted and fed conditions, it was observed that the fed versus fasted ratio of C_max was lower than 80% for both ibuprofen and acetaminophen, suggesting that it was unlikely to achieve bioequivalence regardless of the sample size used for this parameter. Therefore, the sample size calculation in Study 1 was focused on having adequate power for declaring bioequivalence in terms of area under the concentration-time curve from time zero to infinity (AUC_∞). The sample size calculation was based on the results of the log-transformed AUC_∞ in acetaminophen, the analyte with the higher variability in this study.\n",
      "\n",
      "    In order to provide at least 85% power for declaring bioequivalence for AUC_∞ in Study 1, 32 subjects were required to complete the study. This sample size estimate assumed a root mean square of error (RMSE) of 0.120 and that the true bioavailability of the test formulation was within 15% of that for the reference formulation [6[MHTML::dataref::4]]. To ensure at least 32 subjects completed all four periods of the study, approximately 36 subjects were to be enrolled.\n",
      "\n",
      "    For Study 2, acetaminophen and log-transformed C_max, the analyte and the parameter with the highest variabilities observed in previous Pfizer Consumer Healthcare (PCH) studies, were used in the sample size calculation. Additionally, it was assumed that the true bioavailability of the test formulation (FDC ibuprofen/acetaminophen 250/500 mg) was within 5.0% of that for the reference formulation and that it was similar between the two analytes, ibuprofen and acetaminophen. This was observed in a previous publication studying the PK profiles of a novel FDC tablet of ibuprofen and acetaminophen (ibuprofen 400 mg/acetaminophen 1000 mg) [6[MHTML::dataref::4]].\n",
      "\n",
      "    Using these assumptions and an RMSE of 0.2742 (observed in a previous PCH study [#PA-96-01], which studied the PK profiles of different acetaminophen formulations of 1000 mg; unpublished data), it was estimated that a sample size of approximately 40 subjects would provide at least 85% power to establish bioequivalence in Study 2. To ensure approximately 40 subjects completed all four periods of the study, at least 44 subjects were to be enrolled.\n",
      "\n",
      "    For Study 3, review of previous PK data for ibuprofen and acetaminophen revealed that acetaminophen and the apparent oral clearance (CL), as calculated by the dose administered/AUC_∞ (CL/F), were the analyte and PK parameter, respectively, with the higher variability. Taking into consideration regulatory guidance from the US FDA as well as historical PK data, and using the method proposed by Wang et al. [18[MHTML::dataref::17]], it was estimated that a sample size of nine subjects within each of the age groups (12–14 years and 15–17 years) would provide at least 90% power to target the 95% confidence interval (CI) to be within 60% and 140% of the geometric mean estimate of CL/F for FDC ibuprofen/acetaminophen in each age subgroup, assuming an approximate between-subject coefficient of variability of 30% for the untransformed CL for acetaminophen based on a previous adult PK study conducted by PCH. To allow for dropouts in this multicenter study, approximately 22 subjects were to be enrolled to ensure that a minimum of 18 subjects completed the study (at least 9 within each age subgroup).\n",
      "\n",
      "\n",
      "    SECTION: Study Treatments:\n",
      "\n",
      "    Subjects were administered a single dose of study drug at baseline as described below. In Study 1, subjects were randomized to receive a single dose of 2 × FDC ibuprofen/acetaminophen 125 mg/250 mg (i.e. FDC ibuprofen/acetaminophen 250/500 mg; ^©2019 GSK group of companies or its licensor, Madison, NJ, USA) either after a 10-h fast or following a high-fat breakfast, or ibuprofen 200 mg (Advil^®; ^©2019 GSK group of companies or its licensor), or acetaminophen extended release (ER) 650 mg (Tylenol^® 8 HR; Johnson & Johnson Consumer Inc, New Brunswick, NJ, USA), both fasted. Acetaminophen 650 mg ER and ibuprofen 200 mg were used for comparison based on regulatory requirements. In Study 2, subjects were randomized to 2 × FDC ibuprofen/acetaminophen 125/250 mg, coadministered monocomponents ibuprofen 250 mg (^©2019 GSK group of companies or its licensor) and acetaminophen 500 mg (Tylenol^® Extra Strength; McNeil Consumer Healthcare, Ft. Washington, PA, USA), ibuprofen 250 mg alone, or acetaminophen 500 mg alone following an overnight fast of at least 10 h. Studies 1 and 2 had a crossover design; subjects received all four treatments, with a 2-day washout between each treatment period. Subjects remained in the clinic for the duration of the study. In Study 3, all subjects received a single dose of 2 × FDC ibuprofen/acetaminophen 125/250 mg (i.e. FDC ibuprofen/acetaminophen 250/500 mg) after an overnight fast.\n",
      "\n",
      "\n",
      "    SECTION: Phamacokinetic (PK) Sampling, Analysis, and Calculations:\n",
      "\n",
      "    In each study, a predose PK sample was obtained approximately 60 min before each treatment period. PK sampling was conducted at 10, 20, 30, 40, 50, 60, 75, and 90 min and 2, 3, 4, 6, 8, 10, 12, 18, and 24 h after dosing in Study 1, and at the same time points through 12 h in Study 2. Samples were obtained at 10, 20, 30, 45, 60, 75, and 90 min and at 2, 3, 6, 9, and 12 h in Study 3.\n",
      "\n",
      "    For all three studies, plasma samples were analyzed for total ibuprofen and acetaminophen using a validated analytical assay employing a high-performance liquid chromatography tandem mass spectrometric method by PPD (Middleton, WI, USA). The lower limit of quantitation (LLOQ) of the assay for ibuprofen and acetaminophen was 0.2 and 0.1 μg/mL, respectively. Clinical specimens with plasma ibuprofen or acetaminophen concentrations below the LLOQ were reported as below the LLOQ. In Studies 1 and 2, PK metrics were calculated for each subject using non-compartmental analysis of plasma concentration-time data using the internally validated software system electronic non-compartmental analysis (eNCA) version 2.2.4. In Study 3, PK metrics were calculated using Phoenix WinNonlin version 6.4 (Pharsight Corporation, Mountain View, CA, USA).\n",
      "\n",
      "    PK metrics calculated included C_max, time to maximum concentration (t_max), area under the concentration-time curve from time zero to the last quantifiable concentration (AUC_last), AUC_∞, and terminal half-life (t_½). The comparability of PK metrics in Studies 1 and 2 was determined by constructing 90% CIs around the estimated difference between test and reference treatments using a mixed-effects model based on natural log-transformed data. The mixed-effects model was implemented using SAS PROC MIXED (SAS Institute, Inc., Cary, NC, USA) with the restricted maximum likelihood estimation method and the Kenward–Roger degrees of freedom algorithm. Because the monocomponent doses in Study 1 were different from those of the FDC, PK metrics were dose normalized to ibuprofen 250 mg and acetaminophen 500 mg for the purposes of comparison.\n",
      "\n",
      "    Safety, including AEs, was monitored throughout the in-patient portion of the studies and during a follow-up phone call 14 days after the last investigational drug dose in each study.\n",
      "\n",
      "\n",
      "Text: SECTION: Results:\n",
      "\n",
      "    SECTION: Baseline Characteristics:\n",
      "\n",
      "    Baseline characteristics for the three studies are shown in Table 1. A total of 35 subjects were randomized in Study 1 and 46 in Study 2. In Study 3, 21 subjects were assigned to treatment. In all three studies, the proportion of males and females was approximately 50%. In Study 3, the majority (62%) of subjects were White, whereas in Studies 1 and 2, the largest proportion of subjects were Black (54% and 41%, respectively). One subject in Study 1 discontinued study drug during the first treatment period due to an inability to swallow study medication, and two subjects in Study 2 discontinued study drug during the first treatment period due to difficulties in collecting PK samples; no PK profiling was possible for these two subjects. All 21 subjects in Study 3 completed treatment and were analyzed for PK metrics and safety.\n",
      "\n",
      "\n",
      "    SECTION: PK Profiles:\n",
      "\n",
      "    PK concentration-time profiles for ibuprofen and acetaminophen in the three studies are shown in Figs. 1 and 2, respectively.\n",
      "\n",
      "        SECTION: Study 1: Comparison of Fixed-Dose Combination (FDC) to Single-Ingredient Products and Food Effects:\n",
      "\n",
      "        PK metrics for ibuprofen and acetaminophen in Study 1 are summarized in Table 2. Under fasted conditions, the median plasma ibuprofen dose-normalized concentration-time profiles were similar for FDC ibuprofen/acetaminophen 250/500 mg and ibuprofen 200 mg alone (Fig. 1a) except for a shorter ibuprofen t_max for the FDC (1.38 h vs. 2.00 h, respectively) (Table 2). As seen in Table 3, the ratios of AUC_∞ (99.93%), AUC_last (100.63%), and C_max (102.44%) of FDC ibuprofen/acetaminophen 250/500 mg versus ibuprofen 200 mg under fasted conditions, and their 90% CIs, were completely contained within the limits of 80–125%, indicating bioequivalence under fasted conditions.\n",
      "\n",
      "        There was no meaningful food effect on the overall extent of absorption of ibuprofen from the FDC. The ratios for FDC fed/FDC fasted of the adjusted dose-normalized geometric means for AUC_∞ and AUC_last were 86.61% and 85.96%, respectively. The 90% CIs for these AUC values (Table 3) were within the acceptance range for bioequivalence of 80–125%. However, the rate of absorption was delayed with food compared with fasting; the ratio for dose-normalized C_max for ibuprofen was 63.86% (Table 3), indicative of an approximately 36% lower peak concentration of ibuprofen when the FDC was administered in the fed state. Similarly, the t_max was delayed for ibuprofen when the FDC was administered with food: 3.00 h with food and 1.38 h fasted. The t_½ was similar with or without food (2.4 h vs. 2.2 h, respectively) (Table 2).\n",
      "\n",
      "        Under fasted conditions, the median plasma acetaminophen dose-normalized concentration-time profiles were similar for FDC ibuprofen/acetaminophen 250/500 mg and acetaminophen ER 650 mg alone (Fig. 2a), with the exception of a shorter t_max for the FDC (0.58 h vs. 1.50 h, respectively) (Table 2). The overall relative bioavailability of the two treatments was equivalent based on dose-normalized test/reference ratios for AUC_∞ (108.60) and AUC_last (108.27) and their associated 90% CIs (Table 4). The ratio for dose-normalized C_max was 177.48%, indicating an approximately 77% higher peak concentration of acetaminophen derived from the FDC ibuprofen/acetaminophen 250/500 mg fasted treatment compared with that of acetaminophen ER 650 mg fasted treatment (Table 4), a finding that was not unexpected given use of the ER acetaminophen formulation in this comparison.\n",
      "\n",
      "        There was no effect of food on the extent of absorption of the acetaminophen from the FDC. The ratios of acetaminophen fed/acetaminophen fasted (Table 4) of dose-normalized geometric means for AUC_∞ and AUC_last were 95.01% and 94.29%, respectively; the 90% CIs for each were within the acceptance range for bioequivalence of 80–125%, indicating no relevant effect of food on these metrics. As with ibuprofen, the absorption rate of acetaminophen was delayed when the FDC was taken with food compared with fasting. The ratio for dose-normalized C_max was 63.22%, indicating an approximately 37% lower peak concentration for acetaminophen after administration of the FDC in the fed state compared with the fasted state (Table 4). Similarly, t_max was 2.49 h with food and 0.58 h when fasted. The t_½ for acetaminophen was similar with and without food (4.7 h vs. 4.6 h, respectively) (Table 2).\n",
      "\n",
      "\n",
      "        SECTION: Study 2: Comparison of FDC with Individual Components and Formulation Effects:\n",
      "\n",
      "        PK metrics for ibuprofen and acetaminophen in Study 2 are summarized in Table 5. As shown in Fig. 1b, the median plasma ibuprofen concentration-time profiles were similar for FDC ibuprofen/acetaminophen 250/500 mg, monocomponent ibuprofen 250 mg + acetaminophen 500 mg administered together, and ibuprofen 250 mg alone. The C_max was 12% higher following the FDC ibuprofen/acetaminophen 250/500 mg treatment than following treatment with either the coadministered monocomponents or ibuprofen 250 mg (Table 5). The relative bioavailability of treatments was similar based on AUC_∞, AUC_last, and C_max (Table 6), where the respective ratios of adjusted geometric means of ibuprofen were 102.53%, 103.00%, and 112.42% after administration of the FDC relative to the coadministered monocomponents. Similar results were obtained for the FDC relative to ibuprofen 250 mg alone. The ratios of adjusted geometric means of AUC_∞, AUC_last, and C_max were 102.60%, 103.08%, and 112.02%, respectively, following administration of FDC relative to ibuprofen 250 mg alone. The 90% CIs for each of these test/reference ratios reported were contained within the bioequivalence acceptance range of 80–125%, indicating bioequivalence.\n",
      "\n",
      "        As shown in Fig. 2b, the median plasma acetaminophen concentration-time curves for FDC ibuprofen/acetaminophen 250/500 mg, monocomponent ibuprofen 250 mg + acetaminophen 500 mg, and acetaminophen 500 mg alone were similar for all treatments, and the bioavailability of treatments was also similar based on AUC_∞, AUC_last, and C_max and their associated 90% CIs (Table 6). The ratios of adjusted geometric means of acetaminophen AUC_∞, AUC_last, and C_max were 99.79%, 100.00%, and 94.32 after administration of FDC relative to the coadministered monocomponents; each respective 90% CI fell within the limits indicative of bioequivalence. For the comparison of FDC with acetaminophen 500 mg alone, the ratios of adjusted geometric means of acetaminophen AUC_∞, AUC_last, and C_max were 104.00%, 104.12%, and 101.64%, respectively; all CIs were contained within the bioequivalence acceptance range of 80–125% (Table 6), also indicating bioequivalence.\n",
      "\n",
      "\n",
      "        SECTION: Study 3: Evaluation of PK in Adolescents:\n",
      "\n",
      "        PK metrics for ibuprofen and acetaminophen following administration of the FDC to adolescents in Study 3 are summarized in Table 7. Results are presented for all subjects and for the age groups 12–14 years and 15–17 years separately. The overall ibuprofen exposure (AUC values) following administration of the FDC was similar for both the younger and older age groups. However, the younger group had a C_max that was approximately 23% higher and occurred 1 h earlier relative to the older subjects (t_max: 1 vs. 2 h, respectively). Overall acetaminophen exposure was approximately 30% higher in the younger age group compared with the older age group. As with ibuprofen, C_max for acetaminophen was higher in the younger group (approximately 42%) and t_max was 0.5 h faster relative to the older group (0.5 vs. 1 h, respectively). The mean t_½ values were similar across all age groups.\n",
      "\n",
      "        Although not designed for a direct comparison, a numerical comparison of the results for the FDC in the fasted state in adolescents (Table 7) with those in adults (Table 2) indicated that the overall (AUC) and maximal (C_max) exposures to ibuprofen and acetaminophen in the adolescent group were similar to those in adults; overall exposure (AUC) to ibuprofen was slightly higher (95 µg∙h/mL vs. 77–78 µg∙h/mL) in adolescents.\n",
      "\n",
      "\n",
      "\n",
      "    SECTION: Safety:\n",
      "\n",
      "    AEs across the three trials were all mild or moderate in intensity; treatment-emergent AEs are summarized in Table 8. In Study 1, seven subjects (20%) reported 10 AEs; three AEs in two subjects were determined to be treatment-related: one subject experienced nausea (after ibuprofen 200 mg) and somnolence (after FDC fasted), and another reported headache (after FDC fed). All of these treatment-related AEs were mild and resolved. In Study 2, 10 subjects (21.7%) experienced 15 AEs. Six of these AEs in three subjects were determined to be treatment-related: two subjects experienced treatment-related constipation, and a third experienced abdominal distention, upper abdominal pain, dyspepsia, and nausea. Two of these AEs occurred during treatment with the monocomponents administered together, one during treatment with ibuprofen 250 mg, and three during treatment with acetaminophen 500 mg. All of these treatment-related AEs were mild and resolved. In Study 3, two subjects (9.5%) experienced five mild treatment-emergent AEs. One AE of dizziness was considered to be related to treatment with the FDC. No dose reductions or discontinuations due to AEs, no serious AEs, and no deaths occurred in any of the three studies. Likewise, no clinically significant changes in vital signs were apparent in any study. The safety profile of the FDC observed during each study was consistent with the known safety profile of the individual components.\n",
      "\n",
      "\n",
      "\n",
      "Text with Refs: SECTION: Results:\n",
      "\n",
      "    SECTION: Baseline Characteristics:\n",
      "\n",
      "    Baseline characteristics for the three studies are shown in Table 1[MHTML::dataref::18]. A total of 35 subjects were randomized in Study 1 and 46 in Study 2. In Study 3, 21 subjects were assigned to treatment. In all three studies, the proportion of males and females was approximately 50%. In Study 3, the majority (62%) of subjects were White, whereas in Studies 1 and 2, the largest proportion of subjects were Black (54% and 41%, respectively). One subject in Study 1 discontinued study drug during the first treatment period due to an inability to swallow study medication, and two subjects in Study 2 discontinued study drug during the first treatment period due to difficulties in collecting PK samples; no PK profiling was possible for these two subjects. All 21 subjects in Study 3 completed treatment and were analyzed for PK metrics and safety.[MHTML::dataref::19]\n",
      "\n",
      "\n",
      "    SECTION: PK Profiles:\n",
      "\n",
      "    PK concentration-time profiles for ibuprofen and acetaminophen in the three studies are shown in Figs. 1[MHTML::dataref::20] and 2[MHTML::dataref::21], respectively.[MHTML::dataref::22][MHTML::dataref::23]\n",
      "\n",
      "        SECTION: Study 1: Comparison of Fixed-Dose Combination (FDC) to Single-Ingredient Products and Food Effects:\n",
      "\n",
      "        PK metrics for ibuprofen and acetaminophen in Study 1 are summarized in Table 2[MHTML::dataref::24]. Under fasted conditions, the median plasma ibuprofen dose-normalized concentration-time profiles were similar for FDC ibuprofen/acetaminophen 250/500 mg and ibuprofen 200 mg alone (Fig. 1[MHTML::dataref::20]a) except for a shorter ibuprofen t_max for the FDC (1.38 h vs. 2.00 h, respectively) (Table 2[MHTML::dataref::24]). As seen in Table 3[MHTML::dataref::25], the ratios of AUC_∞ (99.93%), AUC_last (100.63%), and C_max (102.44%) of FDC ibuprofen/acetaminophen 250/500 mg versus ibuprofen 200 mg under fasted conditions, and their 90% CIs, were completely contained within the limits of 80–125%, indicating bioequivalence under fasted conditions.[MHTML::dataref::26][MHTML::dataref::27]\n",
      "\n",
      "        There was no meaningful food effect on the overall extent of absorption of ibuprofen from the FDC. The ratios for FDC fed/FDC fasted of the adjusted dose-normalized geometric means for AUC_∞ and AUC_last were 86.61% and 85.96%, respectively. The 90% CIs for these AUC values (Table 3[MHTML::dataref::25]) were within the acceptance range for bioequivalence of 80–125%. However, the rate of absorption was delayed with food compared with fasting; the ratio for dose-normalized C_max for ibuprofen was 63.86% (Table 3[MHTML::dataref::25]), indicative of an approximately 36% lower peak concentration of ibuprofen when the FDC was administered in the fed state. Similarly, the t_max was delayed for ibuprofen when the FDC was administered with food: 3.00 h with food and 1.38 h fasted. The t_½ was similar with or without food (2.4 h vs. 2.2 h, respectively) (Table 2[MHTML::dataref::24]).\n",
      "\n",
      "        Under fasted conditions, the median plasma acetaminophen dose-normalized concentration-time profiles were similar for FDC ibuprofen/acetaminophen 250/500 mg and acetaminophen ER 650 mg alone (Fig. 2[MHTML::dataref::21]a), with the exception of a shorter t_max for the FDC (0.58 h vs. 1.50 h, respectively) (Table 2[MHTML::dataref::24]). The overall relative bioavailability of the two treatments was equivalent based on dose-normalized test/reference ratios for AUC_∞ (108.60) and AUC_last (108.27) and their associated 90% CIs (Table 4[MHTML::dataref::28]). The ratio for dose-normalized C_max was 177.48%, indicating an approximately 77% higher peak concentration of acetaminophen derived from the FDC ibuprofen/acetaminophen 250/500 mg fasted treatment compared with that of acetaminophen ER 650 mg fasted treatment (Table 4[MHTML::dataref::28]), a finding that was not unexpected given use of the ER acetaminophen formulation in this comparison.[MHTML::dataref::29]\n",
      "\n",
      "        There was no effect of food on the extent of absorption of the acetaminophen from the FDC. The ratios of acetaminophen fed/acetaminophen fasted (Table 4[MHTML::dataref::28]) of dose-normalized geometric means for AUC_∞ and AUC_last were 95.01% and 94.29%, respectively; the 90% CIs for each were within the acceptance range for bioequivalence of 80–125%, indicating no relevant effect of food on these metrics. As with ibuprofen, the absorption rate of acetaminophen was delayed when the FDC was taken with food compared with fasting. The ratio for dose-normalized C_max was 63.22%, indicating an approximately 37% lower peak concentration for acetaminophen after administration of the FDC in the fed state compared with the fasted state (Table 4[MHTML::dataref::28]). Similarly, t_max was 2.49 h with food and 0.58 h when fasted. The t_½ for acetaminophen was similar with and without food (4.7 h vs. 4.6 h, respectively) (Table 2[MHTML::dataref::24]).\n",
      "\n",
      "\n",
      "        SECTION: Study 2: Comparison of FDC with Individual Components and Formulation Effects:\n",
      "\n",
      "        PK metrics for ibuprofen and acetaminophen in Study 2 are summarized in Table 5[MHTML::dataref::30]. As shown in Fig. 1[MHTML::dataref::20]b, the median plasma ibuprofen concentration-time profiles were similar for FDC ibuprofen/acetaminophen 250/500 mg, monocomponent ibuprofen 250 mg + acetaminophen 500 mg administered together, and ibuprofen 250 mg alone. The C_max was 12% higher following the FDC ibuprofen/acetaminophen 250/500 mg treatment than following treatment with either the coadministered monocomponents or ibuprofen 250 mg (Table 5[MHTML::dataref::30]). The relative bioavailability of treatments was similar based on AUC_∞, AUC_last, and C_max (Table 6[MHTML::dataref::31]), where the respective ratios of adjusted geometric means of ibuprofen were 102.53%, 103.00%, and 112.42% after administration of the FDC relative to the coadministered monocomponents. Similar results were obtained for the FDC relative to ibuprofen 250 mg alone. The ratios of adjusted geometric means of AUC_∞, AUC_last, and C_max were 102.60%, 103.08%, and 112.02%, respectively, following administration of FDC relative to ibuprofen 250 mg alone. The 90% CIs for each of these test/reference ratios reported were contained within the bioequivalence acceptance range of 80–125%, indicating bioequivalence.[MHTML::dataref::32][MHTML::dataref::33]\n",
      "\n",
      "        As shown in Fig. 2[MHTML::dataref::21]b, the median plasma acetaminophen concentration-time curves for FDC ibuprofen/acetaminophen 250/500 mg, monocomponent ibuprofen 250 mg + acetaminophen 500 mg, and acetaminophen 500 mg alone were similar for all treatments, and the bioavailability of treatments was also similar based on AUC_∞, AUC_last, and C_max and their associated 90% CIs (Table 6[MHTML::dataref::31]). The ratios of adjusted geometric means of acetaminophen AUC_∞, AUC_last, and C_max were 99.79%, 100.00%, and 94.32 after administration of FDC relative to the coadministered monocomponents; each respective 90% CI fell within the limits indicative of bioequivalence. For the comparison of FDC with acetaminophen 500 mg alone, the ratios of adjusted geometric means of acetaminophen AUC_∞, AUC_last, and C_max were 104.00%, 104.12%, and 101.64%, respectively; all CIs were contained within the bioequivalence acceptance range of 80–125% (Table 6[MHTML::dataref::31]), also indicating bioequivalence.\n",
      "\n",
      "\n",
      "        SECTION: Study 3: Evaluation of PK in Adolescents:\n",
      "\n",
      "        PK metrics for ibuprofen and acetaminophen following administration of the FDC to adolescents in Study 3 are summarized in Table 7[MHTML::dataref::34]. Results are presented for all subjects and for the age groups 12–14 years and 15–17 years separately. The overall ibuprofen exposure (AUC values) following administration of the FDC was similar for both the younger and older age groups. However, the younger group had a C_max that was approximately 23% higher and occurred 1 h earlier relative to the older subjects (t_max: 1 vs. 2 h, respectively). Overall acetaminophen exposure was approximately 30% higher in the younger age group compared with the older age group. As with ibuprofen, C_max for acetaminophen was higher in the younger group (approximately 42%) and t_max was 0.5 h faster relative to the older group (0.5 vs. 1 h, respectively). The mean t_½ values were similar across all age groups.[MHTML::dataref::35]\n",
      "\n",
      "        Although not designed for a direct comparison, a numerical comparison of the results for the FDC in the fasted state in adolescents (Table 7[MHTML::dataref::34]) with those in adults (Table 2[MHTML::dataref::24]) indicated that the overall (AUC) and maximal (C_max) exposures to ibuprofen and acetaminophen in the adolescent group were similar to those in adults; overall exposure (AUC) to ibuprofen was slightly higher (95 µg∙h/mL vs. 77–78 µg∙h/mL) in adolescents.\n",
      "\n",
      "\n",
      "\n",
      "    SECTION: Safety:\n",
      "\n",
      "    AEs across the three trials were all mild or moderate in intensity; treatment-emergent AEs are summarized in Table 8[MHTML::dataref::36]. In Study 1, seven subjects (20%) reported 10 AEs; three AEs in two subjects were determined to be treatment-related: one subject experienced nausea (after ibuprofen 200 mg) and somnolence (after FDC fasted), and another reported headache (after FDC fed). All of these treatment-related AEs were mild and resolved. In Study 2, 10 subjects (21.7%) experienced 15 AEs. Six of these AEs in three subjects were determined to be treatment-related: two subjects experienced treatment-related constipation, and a third experienced abdominal distention, upper abdominal pain, dyspepsia, and nausea. Two of these AEs occurred during treatment with the monocomponents administered together, one during treatment with ibuprofen 250 mg, and three during treatment with acetaminophen 500 mg. All of these treatment-related AEs were mild and resolved. In Study 3, two subjects (9.5%) experienced five mild treatment-emergent AEs. One AE of dizziness was considered to be related to treatment with the FDC. No dose reductions or discontinuations due to AEs, no serious AEs, and no deaths occurred in any of the three studies. Likewise, no clinically significant changes in vital signs were apparent in any study. The safety profile of the FDC observed during each study was consistent with the known safety profile of the individual components.[MHTML::dataref::37]\n",
      "\n",
      "\n",
      "Text: SECTION: Discussion:\n",
      "\n",
      "This series of PK studies demonstrates that the FDC ibuprofen/acetaminophen 250/500 mg (administered as 2 × ibuprofen/acetaminophen 125/250 mg) is bioequivalent to its individual monocomponents when administered separately or together. These data substantiate the lack of drug–drug PK interactions or formulation effects, respectively, with the combination. Acetaminophen in the FDC is bioequivalent to dose-normalized acetaminophen ER 650 mg for AUC. However, an increase in acetaminophen C_max was seen with the FDC compared with the acetaminophen ER 650 mg comparator. This result was expected as the FDC is an immediate-release formulation, whereas the acetaminophen 650 mg used was an ER formulation with delayed absorption. Ibuprofen in the FDC was also bioequivalent to dose-normalized ibuprofen 200 mg for AUC and C_max. These results therefore demonstrate that the exposure to ibuprofen and acetaminophen in the FDC is similar to those of commercially available formulations of the individual components, indicating there should be no increased safety concerns.\n",
      "\n",
      "A food effect on the rate of absorption was observed with the FDC, with C_max for ibuprofen and acetaminophen decreased 36% and 37%, respectively, in the presence of food. T_max was also delayed by approximately 1.6 h for ibuprofen and 1.9 h for acetaminophen in fed, compared with fasting, conditions. This is consistent with a previous study in which an FDC of ibuprofen/acetaminophen at a total dose of 400/1000 mg, respectively, exhibited decreased C_max values in the fed versus fasted state (ratios of 76% and 61% for ibuprofen and acetaminophen, respectively) and delayed median t_max by 0.75 h and 1 h, respectively [6]. Studies of ibuprofen alone and acetaminophen alone have also demonstrated decreased C_max and delayed t_max when either is administered with food [19, 20]. Although the overall extent of absorption (AUC) of ibuprofen from the FDC was slightly reduced (14%) in the presence of food compared with ibuprofen alone, both AUC_∞ and AUC_last met the bioequivalence standard of 80–125%. The overall exposure to acetaminophen was not affected by food, therefore it is unlikely that the slightly reduced AUC of ibuprofen observed in the fed state would be clinically meaningful in terms of analgesic efficacy. However, the effect of food on efficacy has not been evaluated as the dental pain studies of the FDC were conducted with food restrictions, as is the standard methodology.\n",
      "\n",
      "The majority of PK studies of ibuprofen and acetaminophen have focused on adults and younger subjects, with limited data available in adolescents aged 12–17 years [6, 21–28]. As a result, population PK estimates and allometric adjustments or scaling have typically provided the rationale for dosing in this younger age group [27, 28]. The present study of FDC ibuprofen/acetaminophen 250/500 mg therefore adds new and relevant information by reporting ibuprofen and acetaminophen PK in this age group. Importantly, no clinically important differences in PK exposure were observed for adolescents in comparison with adult subjects 18 years of age and older. Indeed, while these studies were not designed to be compared, the overall plasma concentration-time curves for both components of the FDC (in the fasted state) were similar across all three studies, and comparison of AUC and C_max values between the adolescent and adult studies also indicates similar exposures to both components, with a slightly higher overall exposure to ibuprofen in adolescents. This provides support for similar dosing recommendations for adolescents as in adults.\n",
      "\n",
      "In the younger age subgroup of subjects aged 12–14 years, ibuprofen and acetaminophen exposures were slightly increased following a single dose of the FDC compared with the older age group aged 15–17 years. This difference was as expected given the smaller body surface area and lower body weight of the younger subjects, and the differences were not clinically meaningful.\n",
      "\n",
      "These studies confirm the results of previous studies indicating no drug–drug PK interaction between ibuprofen and acetaminophen [6, 17]; therefore, no additional safety concerns are expected compared with the administration of either agent alone. The data also indicate no formulation effect when combining the two ingredients into one tablet. Consistent with these findings, the FDC ibuprofen/acetaminophen 250/500 mg was safe and generally well tolerated in these studies. All AEs were mild or moderate in severity, with no discontinuations due to AEs. AEs were equally distributed between treatment arms, with no new safety concerns compared with the individual components. Importantly, exposure in adolescents was similar to that in adults, and the FDC was generally well tolerated, indicating that this formulation can be safely used in this population. However, it should be noted that these were small, short-duration studies, and rare and serious AEs such as gastrointestinal bleeding and liver failure would not be expected. However, a large, longer-duration study (13 weeks) evaluating a similar FDC of ibuprofen/acetaminophen (200/500 mg) found a safety profile that was at least as favorable as maximum single OTC doses of the individual components (ibuprofen 400 mg, acetaminophen 1000 mg) [15].\n",
      "\n",
      "\n",
      "Text with Refs: SECTION: Discussion:\n",
      "\n",
      "This series of PK studies demonstrates that the FDC ibuprofen/acetaminophen 250/500 mg (administered as 2 × ibuprofen/acetaminophen 125/250 mg) is bioequivalent to its individual monocomponents when administered separately or together. These data substantiate the lack of drug–drug PK interactions or formulation effects, respectively, with the combination. Acetaminophen in the FDC is bioequivalent to dose-normalized acetaminophen ER 650 mg for AUC. However, an increase in acetaminophen C_max was seen with the FDC compared with the acetaminophen ER 650 mg comparator. This result was expected as the FDC is an immediate-release formulation, whereas the acetaminophen 650 mg used was an ER formulation with delayed absorption. Ibuprofen in the FDC was also bioequivalent to dose-normalized ibuprofen 200 mg for AUC and C_max. These results therefore demonstrate that the exposure to ibuprofen and acetaminophen in the FDC is similar to those of commercially available formulations of the individual components, indicating there should be no increased safety concerns.\n",
      "\n",
      "A food effect on the rate of absorption was observed with the FDC, with C_max for ibuprofen and acetaminophen decreased 36% and 37%, respectively, in the presence of food. T_max was also delayed by approximately 1.6 h for ibuprofen and 1.9 h for acetaminophen in fed, compared with fasting, conditions. This is consistent with a previous study in which an FDC of ibuprofen/acetaminophen at a total dose of 400/1000 mg, respectively, exhibited decreased C_max values in the fed versus fasted state (ratios of 76% and 61% for ibuprofen and acetaminophen, respectively) and delayed median t_max by 0.75 h and 1 h, respectively [6[MHTML::dataref::4]]. Studies of ibuprofen alone and acetaminophen alone have also demonstrated decreased C_max and delayed t_max when either is administered with food [19[MHTML::dataref::38], 20[MHTML::dataref::39]]. Although the overall extent of absorption (AUC) of ibuprofen from the FDC was slightly reduced (14%) in the presence of food compared with ibuprofen alone, both AUC_∞ and AUC_last met the bioequivalence standard of 80–125%. The overall exposure to acetaminophen was not affected by food, therefore it is unlikely that the slightly reduced AUC of ibuprofen observed in the fed state would be clinically meaningful in terms of analgesic efficacy. However, the effect of food on efficacy has not been evaluated as the dental pain studies of the FDC were conducted with food restrictions, as is the standard methodology.\n",
      "\n",
      "The majority of PK studies of ibuprofen and acetaminophen have focused on adults and younger subjects, with limited data available in adolescents aged 12–17 years [6[MHTML::dataref::4], 21[MHTML::dataref::40]–28[MHTML::dataref::41]]. As a result, population PK estimates and allometric adjustments or scaling have typically provided the rationale for dosing in this younger age group [27[MHTML::dataref::42], 28[MHTML::dataref::41]]. The present study of FDC ibuprofen/acetaminophen 250/500 mg therefore adds new and relevant information by reporting ibuprofen and acetaminophen PK in this age group. Importantly, no clinically important differences in PK exposure were observed for adolescents in comparison with adult subjects 18 years of age and older. Indeed, while these studies were not designed to be compared, the overall plasma concentration-time curves for both components of the FDC (in the fasted state) were similar across all three studies, and comparison of AUC and C_max values between the adolescent and adult studies also indicates similar exposures to both components, with a slightly higher overall exposure to ibuprofen in adolescents. This provides support for similar dosing recommendations for adolescents as in adults.\n",
      "\n",
      "In the younger age subgroup of subjects aged 12–14 years, ibuprofen and acetaminophen exposures were slightly increased following a single dose of the FDC compared with the older age group aged 15–17 years. This difference was as expected given the smaller body surface area and lower body weight of the younger subjects, and the differences were not clinically meaningful.\n",
      "\n",
      "These studies confirm the results of previous studies indicating no drug–drug PK interaction between ibuprofen and acetaminophen [6[MHTML::dataref::4], 17[MHTML::dataref::16]]; therefore, no additional safety concerns are expected compared with the administration of either agent alone. The data also indicate no formulation effect when combining the two ingredients into one tablet. Consistent with these findings, the FDC ibuprofen/acetaminophen 250/500 mg was safe and generally well tolerated in these studies. All AEs were mild or moderate in severity, with no discontinuations due to AEs. AEs were equally distributed between treatment arms, with no new safety concerns compared with the individual components. Importantly, exposure in adolescents was similar to that in adults, and the FDC was generally well tolerated, indicating that this formulation can be safely used in this population. However, it should be noted that these were small, short-duration studies, and rare and serious AEs such as gastrointestinal bleeding and liver failure would not be expected. However, a large, longer-duration study (13 weeks) evaluating a similar FDC of ibuprofen/acetaminophen (200/500 mg) found a safety profile that was at least as favorable as maximum single OTC doses of the individual components (ibuprofen 400 mg, acetaminophen 1000 mg) [15[MHTML::dataref::15]].\n",
      "\n",
      "Text: SECTION: Conclusions:\n",
      "\n",
      "The FDC ibuprofen/acetaminophen 250/500 mg has a PK profile similar to its monocomponent constituents when administered alone or coadministered. Overall exposure to ibuprofen and acetaminophen was bioequivalent under fed versus fasted conditions, although, as expected, food delayed absorption, similar to what has previously been observed for each individual monocomponent. In adolescents, overall exposure to ibuprofen from the FDC, as measured by AUC, was similar in individuals 12–14 years of age and 15–17 years of age, but C_max was 23% higher and t_max was achieved earlier in the younger age group of patients. In contrast, acetaminophen exposure (i.e. AUC) was 30% higher in the younger group after administration of the FDC; C_max was 42% higher and t_max occurred earlier in the younger age group of patients than in older adolescents. Exposure to ibuprofen and acetaminophen in the overall group of adolescents was similar to that in adults, supporting the same dosing in that population.\n",
      "\n",
      "\n",
      "Text with Refs: SECTION: Conclusions:\n",
      "\n",
      "The FDC ibuprofen/acetaminophen 250/500 mg has a PK profile similar to its monocomponent constituents when administered alone or coadministered. Overall exposure to ibuprofen and acetaminophen was bioequivalent under fed versus fasted conditions, although, as expected, food delayed absorption, similar to what has previously been observed for each individual monocomponent. In adolescents, overall exposure to ibuprofen from the FDC, as measured by AUC, was similar in individuals 12–14 years of age and 15–17 years of age, but C_max was 23% higher and t_max was achieved earlier in the younger age group of patients. In contrast, acetaminophen exposure (i.e. AUC) was 30% higher in the younger group after administration of the FDC; C_max was 42% higher and t_max occurred earlier in the younger age group of patients than in older adolescents. Exposure to ibuprofen and acetaminophen in the overall group of adolescents was similar to that in adults, supporting the same dosing in that population.\n",
      "\n"
     ]
    }
   ],
   "source": [
    "#iterate through abstract sections and print the cleaned text, and text with MHTML datarefs side-by-side\n",
    "\n",
    "if p.body:\n",
    "    for par in p.body:\n",
    "        print(\"Text: \" + par.text)\n",
    "        print()\n",
    "        print(\"Text with Refs: \" + par.text_with_refs)"
   ]
  }
 ],
 "metadata": {
  "interpreter": {
   "hash": "427d4943968a1e3fc165f884a0cbd733d19eb316925f7601ef95e6c86f630a99"
  },
  "kernelspec": {
   "display_name": "Python 3.10.9 64-bit ('scrapemed': conda)",
   "name": "python3"
  },
  "language_info": {
   "codemirror_mode": {
    "name": "ipython",
    "version": 3
   },
   "file_extension": ".py",
   "mimetype": "text/x-python",
   "name": "python",
   "nbconvert_exporter": "python",
   "pygments_lexer": "ipython3",
   "version": "3.10.12"
  },
  "orig_nbformat": 4
 },
 "nbformat": 4,
 "nbformat_minor": 2
}
