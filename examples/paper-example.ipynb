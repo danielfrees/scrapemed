{
 "cells": [
  {
   "cell_type": "code",
   "execution_count": 6,
   "metadata": {},
   "outputs": [
    {
     "name": "stdout",
     "output_type": "stream",
     "text": [
      "The autoreload extension is already loaded. To reload it, use:\n",
      "  %reload_ext autoreload\n"
     ]
    },
    {
     "data": {
      "text/plain": [
       "True"
      ]
     },
     "execution_count": 6,
     "metadata": {},
     "output_type": "execute_result"
    }
   ],
   "source": [
    "%load_ext autoreload\n",
    "%autoreload 2\n",
    "import sys\n",
    "sys.path.insert(0, \"../../scrapemed\")\n",
    "\n",
    "import scrapemed.paper as paper\n",
    "import pandas as pd\n",
    "import lxml\n",
    "from dotenv import load_dotenv\n",
    "import os\n",
    "load_dotenv()"
   ]
  },
  {
   "cell_type": "markdown",
   "metadata": {},
   "source": [
    "## Download a Paper from PMC"
   ]
  },
  {
   "cell_type": "code",
   "execution_count": 3,
   "metadata": {},
   "outputs": [],
   "source": [
    "import lxml.etree as ET\n",
    "from io import StringIO\n",
    "import os"
   ]
  },
  {
   "cell_type": "code",
   "execution_count": 4,
   "metadata": {},
   "outputs": [
    {
     "data": {
      "text/plain": [
       "<lxml.etree.DTD at 0x107eac600>"
      ]
     },
     "execution_count": 4,
     "metadata": {},
     "output_type": "execute_result"
    }
   ],
   "source": [
    "dtd_filepath = os.path.join(\"..\", \"scrapemed\", \"data\", \"DTDs\", \"nlm-articleset-2.0.dtd\")\n",
    "\n",
    "with open(dtd_filepath, \"r\") as f:\n",
    "    dtd_doc = f.read()\n",
    "\n",
    "ET.DTD(dtd_filepath)"
   ]
  },
  {
   "cell_type": "code",
   "execution_count": 16,
   "metadata": {},
   "outputs": [
    {
     "data": {
      "text/plain": [
       "'<!--\\n4 Dec 2009: This DTD was written to accomodate multiple articles\\ntagged in any version of the NLM Archiving and Interchange Tag\\nSuite (http://dtd.nlm.nih.gov) and gathered in one pmc-articleset\\nwrapper tag.\\n\\nEach individual article should be valid against a version of the Archiving\\nDTD. The articles may not be valid against the same version.\\n\\nFebruary, 2012: Updated with NISO Z39.96 JATS elements and attributes\\nthrough draft 1.0.\\n-->\\n\\n<!--    Public document type definition. Typical invocation:\\n<!DOCTYPE nlm-articleset PUBLIC \"-//NLM//DTD ARTICLE SET 2.0//EN\"\\n\"http://dtd.nlm.nih.gov/ncbi/pmc/articleset/nlm-articleset-2.0.dtd\">\\n-->\\n\\n<!ENTITY % atts \\t\\t\"\\nabbr    CDATA    #IMPLIED\\nabbrev-type    CDATA    #IMPLIED\\nabstract-type    CDATA    #IMPLIED\\naccent    CDATA    #IMPLIED\\naccentunder    CDATA    #IMPLIED\\nactiontype    CDATA    #IMPLIED\\nalign    CDATA    #IMPLIED\\nalignmentscope    CDATA    #IMPLIED\\nalt    CDATA    #IMPLIED\\nalt-title-type    CDATA    #IMPLIED\\nalt-version    CDATA    #IMPLIED\\nalternate-form-of    CDATA    #IMPLIED\\naltimg    CDATA    #IMPLIED\\naltimg-height    CDATA    #IMPLIED\\naltimg-valign    CDATA    #IMPLIED\\naltimg-width    CDATA    #IMPLIED\\nalttext    CDATA    #IMPLIED\\narrange    CDATA    #IMPLIED\\narticle-type    CDATA    #IMPLIED\\nassigning-authority    CDATA    #IMPLIED\\nauthenticated   CDATA    #IMPLIED\\naward-type    CDATA    #IMPLIED\\naxis    CDATA    #IMPLIED\\nbaseline    CDATA    #IMPLIED\\nbaseline-shift    CDATA    #IMPLIED\\nbevelled    CDATA    #IMPLIED\\nborder    CDATA    #IMPLIED\\ncalendar    CDATA    #IMPLIED\\ncellpadding    CDATA    #IMPLIED\\ncellspacing    CDATA    #IMPLIED\\nchar    CDATA    #IMPLIED\\ncharalign    CDATA    #IMPLIED\\ncharoff    CDATA    #IMPLIED\\ncitation-type    CDATA    #IMPLIED\\nclass    CDATA    #IMPLIED\\nclose    CDATA    #IMPLIED\\ncode-type    CDATA    #IMPLIED\\nccollab-type    CDATA    #IMPLIED\\ncolor    CDATA    #IMPLIED\\ncolspan    CDATA    #IMPLIED\\ncolumnalign    CDATA    #IMPLIED\\ncolumnlines    CDATA    #IMPLIED\\ncolumnspacing    CDATA    #IMPLIED\\ncolumnspan    CDATA    #IMPLIED\\ncolumnwidth    CDATA    #IMPLIED\\ncontent-type    CDATA    #IMPLIED\\ncontinued-from    CDATA    #IMPLIED\\ncontrib-id-type    CDATA    #IMPLIED\\ncontrib-type    CDATA    #IMPLIED\\ncorresp    CDATA    #IMPLIED\\ncount    CDATA    #IMPLIED\\ncount-type    CDATA    #IMPLIED\\ncountry    CDATA    #IMPLIED\\ncrossout    CDATA    #IMPLIED\\ncurrency    CDATA    #IMPLIED\\ndate-type    CDATA    #IMPLIED\\ndeceased    CDATA    #IMPLIED\\ndecimalpoint    CDATA    #IMPLIED\\ndenomalign    CDATA    #IMPLIED\\ndepth    CDATA    #IMPLIED\\ndescription    CDATA    #IMPLIED\\ndesignator    CDATA    #IMPLIED\\ndir    CDATA    #IMPLIED\\ndisp-level    CDATA    #IMPLIED\\ndisplay    CDATA    #IMPLIED\\ndisplaystyle    CDATA    #IMPLIED\\ndocument-id    CDATA    #IMPLIED\\ndocument-id-type    CDATA    #IMPLIED\\ndocument-type    CDATA    #IMPLIED\\ndtd-version    CDATA    #IMPLIED\\nedge    CDATA    #IMPLIED\\nelocation-id    CDATA    #IMPLIED\\nequal-contrib    CDATA    #IMPLIED\\next-link-type    CDATA    #IMPLIED\\nfence    CDATA    #IMPLIED\\nfig-type    CDATA    #IMPLIED\\nfn-type    CDATA    #IMPLIED\\nfontchar    CDATA    #IMPLIED\\nfontname    CDATA    #IMPLIED\\nform    CDATA    #IMPLIED\\nformat    CDATA    #IMPLIED\\nframe    CDATA    #IMPLIED\\nframespacing    CDATA    #IMPLIED\\nglyph-data    CDATA    #IMPLIED\\ngroupalign    CDATA    #IMPLIED\\nheaders    CDATA    #IMPLIED\\nheight    CDATA    #IMPLIED\\nhref    CDATA    #IMPLIED\\nid    CDATA    #IMPLIED\\nindentalign    CDATA    #IMPLIED\\nindentalignfirst    CDATA    #IMPLIED\\nindentalignlast    CDATA    #IMPLIED\\nindentshift    CDATA    #IMPLIED\\nindentshiftfirst    CDATA    #IMPLIED\\nindentshiftlast    CDATA    #IMPLIED\\nindenttarget    CDATA    #IMPLIED\\ninfixlinebreakstyle    CDATA    #IMPLIED\\ninitials    CDATA    #IMPLIED\\ninstitution-id-type    CDATA    #IMPLIED\\niso-8061-date    CDATA    #IMPLIED\\nissue    CDATA    #IMPLIED\\njournal-id    CDATA    #IMPLIED\\njournal-id-type    CDATA    #IMPLIED\\nkwd-group-type    CDATA    #IMPLIED\\nlargeop    CDATA    #IMPLIED\\nlength    CDATA    #IMPLIED\\nlicense-type    CDATA    #IMPLIED\\nlinebreaking    CDATA    #IMPLIED\\nlinebreakmultchar    CDATA    #IMPLIED\\nlinebreakstyle    CDATA    #IMPLIED\\nlineleading    CDATA    #IMPLIED\\nlinethickness    CDATA    #IMPLIED\\nlink-type    CDATA    #IMPLIED\\nlist-content    CDATA    #IMPLIED\\nlist-continued    CDATA    #IMPLIED\\nlist-type    CDATA    #IMPLIED\\nlocation    CDATA    #IMPLIED\\nlongdivstyle    CDATA    #IMPLIED\\nlspace    CDATA    #IMPLIED\\nmacros    CDATA    #IMPLIED\\nmathbackground    CDATA    #IMPLIED\\nmathcolor    CDATA    #IMPLIED\\nmathsize    CDATA    #IMPLIED\\nmathvariant    CDATA    #IMPLIED\\nmaxsize    CDATA    #IMPLIED\\nmime-subtype    CDATA    #IMPLIED\\nmimetype    CDATA    #IMPLIED\\nminlabelspacing    CDATA    #IMPLIED\\nminsize    CDATA    #IMPLIED\\nmode    CDATA    #IMPLIED\\nmovablelimits    CDATA    #IMPLIED\\nmstack    CDATA    #IMPLIED\\nmunder    CDATA    #IMPLIED\\nname    CDATA    #IMPLIED\\nname-style    CDATA    #IMPLIED\\nnotation    CDATA    #IMPLIED\\nnotes-type    CDATA    #IMPLIED\\nnumalign    CDATA    #IMPLIED\\nobject-id-type    CDATA    #IMPLIED\\nobject-type    CDATA    #IMPLIED\\nopen    CDATA    #IMPLIED\\norientation    CDATA    #IMPLIED\\nother    CDATA    #IMPLIED\\noverflow    CDATA    #IMPLIED\\npage    CDATA    #IMPLIED\\npage-sharing    CDATA    #IMPLIED\\nperson-group-type    CDATA    #IMPLIED\\nposition    CDATA    #IMPLIED\\nprefix-word    CDATA    #IMPLIED\\npreformat-type    CDATA    #IMPLIED\\nproduct-type    CDATA    #IMPLIED\\npub-id-type    CDATA    #IMPLIED\\npub-type    CDATA    #IMPLIED\\npublication-format    CDATA    #IMPLIED\\npublication-type    CDATA    #IMPLIED\\npublisher-type    CDATA    #IMPLIED\\nrationale    CDATA    #IMPLIED\\nref-type    CDATA    #IMPLIED\\nrelated-article-type    CDATA    #IMPLIED\\nresolution    CDATA    #IMPLIED\\nresponse-type    CDATA    #IMPLIED\\nrid    CDATA    #IMPLIED\\nrowalign    CDATA    #IMPLIED\\nrowlines    CDATA    #IMPLIED\\nrowspacing    CDATA    #IMPLIED\\nrowspan    CDATA    #IMPLIED\\nrspace    CDATA    #IMPLIED\\nrules    CDATA    #IMPLIED\\nscope    CDATA    #IMPLIED\\nscriptlevel    CDATA    #IMPLIED\\nscriptminsize    CDATA    #IMPLIED\\nscriptsizemultiplier    CDATA    #IMPLIED\\nsec-type    CDATA    #IMPLIED\\nselection    CDATA    #IMPLIED\\nseparator    CDATA    #IMPLIED\\nseparators    CDATA    #IMPLIED\\nseq    CDATA    #IMPLIED\\nshift    CDATA    #IMPLIED\\nsource-id    CDATA    #IMPLIED\\nsource-id-type    CDATA    #IMPLIED\\nsource-type    CDATA    #IMPLIED\\nspan    CDATA    #IMPLIED\\nspecific-use    CDATA    #IMPLIED\\nsrc    CDATA    #IMPLIED\\nstackalign    CDATA    #IMPLIED\\nstretchy    CDATA    #IMPLIED\\nstyle    CDATA    #IMPLIED\\nstyle-type    CDATA    #IMPLIED\\nsubj-group-type    CDATA    #IMPLIED\\nsummary    CDATA    #IMPLIED\\nsupplement-type    CDATA    #IMPLIED\\nsymbol    CDATA    #IMPLIED\\nsymmetric    CDATA    #IMPLIED\\ntarget-type    CDATA    #IMPLIED\\ntype    CDATA    #IMPLIED\\nunderline-style    CDATA    #IMPLIED\\nunits    CDATA    #IMPLIED\\nvalign    CDATA    #IMPLIED\\nversion    CDATA    #IMPLIED\\nvoffset    CDATA    #IMPLIED\\nvol    CDATA    #IMPLIED\\nwidth    CDATA    #IMPLIED\\nx-size    CDATA    #IMPLIED\\nxlink:actuate    CDATA    #IMPLIED\\nxlink:href    CDATA    #IMPLIED\\nxlink:role    CDATA    #IMPLIED\\nxlink:show    CDATA    #IMPLIED\\nxlink:title    CDATA    #IMPLIED\\nxlink:type    CDATA    #IMPLIED\\nxml:base    CDATA    #IMPLIED\\nxml:lang    CDATA    #IMPLIED\\nxml:space    CDATA    #IMPLIED\\nxmlns:ali    CDATA    #IMPLIED\\nxmlns:mml    CDATA    #IMPLIED\\nxmlns:xlink    CDATA    #IMPLIED\\nxmlns:xsi    CDATA    #IMPLIED\\nxref    CDATA    #IMPLIED\\nxsi:schemaLocation    CDATA    #IMPLIED\\ny-size    CDATA    #IMPLIED\\n\\t\\t\\t\">\\n\\n<!ELEMENT pmc-articleset (article+) >\\n<!ELEMENT nlm-articleset (article+) >\\n\\n<!ELEMENT abbrev\\tANY >\\n<!ATTLIST  abbrev\\t%atts; >\\n\\n<!ELEMENT ali:free_to_read\\tANY >\\n<!ATTLIST  ali:free_to_read\\t%atts; >\\n\\n<!ELEMENT ali:license_ref\\tANY >\\n<!ATTLIST  ali:license_ref\\t%atts; >\\n\\n<!ELEMENT abbrev-journal-title\\tANY >\\n<!ATTLIST abbrev-journal-title\\t%atts; >\\n\\n<!ELEMENT abstract\\tANY >\\n<!ATTLIST abstract\\t%atts; >\\n\\n<!ELEMENT access-date\\tANY >\\n<!ATTLIST access-date\\t%atts; >\\n\\n<!ELEMENT ack\\tANY >\\n<!ATTLIST ack\\t%atts; >\\n\\n<!ELEMENT addr-line\\tANY >\\n<!ATTLIST addr-line\\t%atts; >\\n\\n<!ELEMENT address\\tANY >\\n<!ATTLIST address\\t%atts; >\\n\\n<!ELEMENT aff\\tANY >\\n<!ATTLIST aff\\t%atts; >\\n\\n<!ELEMENT aff-alternatives\\tANY >\\n<!ATTLIST aff-alternatives\\t%atts; >\\n\\n<!ELEMENT alt-text\\tANY >\\n<!ATTLIST alt-text\\t%atts; >\\n\\n<!ELEMENT alt-title\\tANY >\\n<!ATTLIST alt-title\\t%atts; >\\n\\n<!ELEMENT alternatives\\tANY >\\n<!ATTLIST alternatives\\t%atts; >\\n\\n<!ELEMENT annotation\\tANY >\\n<!ATTLIST annotation\\t%atts; >\\n\\n<!ELEMENT anonymous\\tANY >\\n<!ATTLIST anonymous\\t%atts; >\\n\\n<!ELEMENT app\\tANY >\\n<!ATTLIST app\\t%atts; >\\n\\n<!ELEMENT app-group\\tANY >\\n<!ATTLIST app-group\\t%atts; >\\n\\n<!ELEMENT array\\tANY >\\n<!ATTLIST array\\t%atts; >\\n\\n<!ELEMENT article\\tANY >\\n<!ATTLIST article\\t%atts; >\\n\\n<!ELEMENT article-categories\\tANY >\\n<!ATTLIST article-categories\\t%atts; >\\n\\n<!ELEMENT article-id\\tANY >\\n<!ATTLIST article-id\\t%atts; >\\n\\n<!ELEMENT article-meta\\tANY >\\n<!ATTLIST article-meta\\t%atts; >\\n\\n<!ELEMENT article-title\\tANY >\\n<!ATTLIST article-title\\t%atts; >\\n\\n<!ELEMENT attrib\\tANY >\\n<!ATTLIST attrib\\t%atts; >\\n\\n<!ELEMENT author-comment\\tANY >\\n<!ATTLIST author-comment\\t%atts; >\\n\\n<!ELEMENT author-notes\\tANY >\\n<!ATTLIST author-notes\\t%atts; >\\n\\n<!ELEMENT award-group\\tANY >\\n<!ATTLIST award-group\\t%atts; >\\n\\n<!ELEMENT award-id\\tANY >\\n<!ATTLIST award-id\\t%atts; >\\n\\n<!ELEMENT back\\tANY >\\n<!ATTLIST back\\t%atts; >\\n\\n<!ELEMENT binding\\tANY >\\n<!ATTLIST binding\\t%atts; >\\n\\n<!ELEMENT bio\\tANY >\\n<!ATTLIST bio\\t%atts; >\\n\\n<!ELEMENT body\\tANY >\\n<!ATTLIST body\\t%atts; >\\n\\n<!ELEMENT bold\\tANY >\\n<!ATTLIST bold\\t%atts; >\\n\\n<!ELEMENT book-title\\tANY >\\n<!ATTLIST book-title\\t%atts; >\\n\\n<!ELEMENT book-subtitle\\tANY >\\n<!ATTLIST book-subtitle\\t%atts; >\\n\\n<!ELEMENT boxed-text\\tANY >\\n<!ATTLIST boxed-text\\t%atts; >\\n\\n<!ELEMENT break\\tANY >\\n<!ATTLIST break\\t%atts; >\\n\\n<!ELEMENT caption\\tANY >\\n<!ATTLIST caption\\t%atts; >\\n\\n<!ELEMENT ccc-statement\\tANY >\\n<!ATTLIST ccc-statement\\t%atts; >\\n\\n<!ELEMENT chapter-title\\tANY >\\n<!ATTLIST chapter-title\\t%atts; >\\n\\n<!ELEMENT chem-struct\\tANY >\\n<!ATTLIST chem-struct\\t%atts; >\\n\\n<!ELEMENT chem-struct-wrapper\\tANY >\\n<!ATTLIST chem-struct-wrapper\\t%atts; >\\n\\n<!ELEMENT chem-struct-wrap\\tANY >\\n<!ATTLIST chem-struct-wrap\\t%atts; >\\n\\n<!ELEMENT citation\\tANY >\\n<!ATTLIST citation\\t%atts; >\\n\\n<!ELEMENT citation-alternatives\\tANY >\\n<!ATTLIST citation-alternatives\\t%atts; >\\n\\n<!ELEMENT city\\tANY >\\n<!ATTLIST city\\t%atts; >\\n\\n<!ELEMENT code\\tANY >\\n<!ATTLIST code\\t%atts; >\\n\\n<!ELEMENT col\\tANY >\\n<!ATTLIST col\\t%atts; >\\n\\n<!ELEMENT colgroup\\tANY >\\n<!ATTLIST colgroup\\t%atts; >\\n\\n<!ELEMENT collab\\tANY >\\n<!ATTLIST collab\\t%atts; >\\n\\n<!ELEMENT collab-alternatives\\tANY >\\n<!ATTLIST collab-alternatives\\t%atts; >\\n\\n<!ELEMENT comment\\tANY >\\n<!ATTLIST comment\\t%atts; >\\n\\n<!ELEMENT compund-kwd\\tANY >\\n<!ATTLIST compund-kwd\\t%atts; >\\n\\n<!ELEMENT compound-kwd-part\\tANY >\\n<!ATTLIST compound-kwd-part\\t%atts; >\\n\\n<!ELEMENT compound-subject\\tANY >\\n<!ATTLIST compound-subject\\t%atts; >\\n\\n<!ELEMENT compound-subject-part\\tANY >\\n<!ATTLIST compound-subject-part\\t%atts; >\\n\\n<!ELEMENT conf-acronym\\tANY >\\n<!ATTLIST conf-acronym\\t%atts; >\\n\\n<!ELEMENT conf-date\\tANY >\\n<!ATTLIST conf-date\\t%atts; >\\n\\n<!ELEMENT conf-loc\\tANY >\\n<!ATTLIST conf-loc\\t%atts; >\\n\\n<!ELEMENT conf-name\\tANY >\\n<!ATTLIST conf-name\\t%atts; >\\n\\n<!ELEMENT conf-num\\tANY >\\n<!ATTLIST conf-num\\t%atts; >\\n\\n<!ELEMENT conf-sponsor\\tANY >\\n<!ATTLIST conf-sponsor\\t%atts; >\\n\\n<!ELEMENT conf-theme\\tANY >\\n<!ATTLIST conf-theme\\t%atts; >\\n\\n<!ELEMENT conference\\tANY >\\n<!ATTLIST conference\\t%atts; >\\n\\n<!ELEMENT contract-num\\tANY >\\n<!ATTLIST contract-num\\t%atts; >\\n\\n<!ELEMENT contract-sponsor\\tANY >\\n<!ATTLIST contract-sponsor\\t%atts; >\\n\\n<!ELEMENT contrib\\tANY >\\n<!ATTLIST contrib\\t%atts; >\\n\\n<!ELEMENT contrib-group\\tANY >\\n<!ATTLIST contrib-group\\t%atts; >\\n\\n<!ELEMENT contrib-id\\tANY >\\n<!ATTLIST contrib-id\\t%atts; >\\n\\n<!ELEMENT copyright-holder\\tANY >\\n<!ATTLIST copyright-holder\\t%atts; >\\n\\n<!ELEMENT copyright-statement\\tANY >\\n<!ATTLIST copyright-statement\\t%atts; >\\n\\n<!ELEMENT copyright-year\\tANY >\\n<!ATTLIST copyright-year\\t%atts; >\\n\\n<!ELEMENT corresp\\tANY >\\n<!ATTLIST corresp\\t%atts; >\\n\\n<!ELEMENT country\\tANY >\\n<!ATTLIST country\\t%atts; >\\n\\n<!ELEMENT counts\\tANY >\\n<!ATTLIST counts\\t%atts; >\\n\\n<!ELEMENT custom-meta\\tANY >\\n<!ATTLIST custom-meta\\t%atts; >\\n\\n<!ELEMENT custom-meta-group\\tANY >\\n<!ATTLIST custom-meta-group\\t%atts; >\\n\\n<!ELEMENT custom-meta-wrap\\tANY >\\n<!ATTLIST custom-meta-wrap\\t%atts; >\\n\\n<!ELEMENT data-title\\tANY >\\n<!ATTLIST data-title\\t%atts; >\\n\\n<!ELEMENT date\\tANY >\\n<!ATTLIST date\\t%atts; >\\n\\n<!ELEMENT date-in-citation\\tANY >\\n<!ATTLIST date-in-citation\\t%atts; >\\n\\n<!ELEMENT day\\tANY >\\n<!ATTLIST day\\t%atts; >\\n\\n<!ELEMENT def\\tANY >\\n<!ATTLIST def\\t%atts; >\\n\\n<!ELEMENT def-head\\tANY >\\n<!ATTLIST def-head\\t%atts; >\\n\\n<!ELEMENT def-item\\tANY >\\n<!ATTLIST def-item\\t%atts; >\\n\\n<!ELEMENT def-list\\tANY >\\n<!ATTLIST def-list\\t%atts; >\\n\\n<!ELEMENT degrees\\tANY >\\n<!ATTLIST degrees\\t%atts; >\\n\\n<!ELEMENT disp-formula\\tANY >\\n<!ATTLIST disp-formula\\t%atts; >\\n\\n<!ELEMENT disp-formula-group\\tANY >\\n<!ATTLIST disp-formula-group\\t%atts; >\\n\\n<!ELEMENT disp-quote\\tANY >\\n<!ATTLIST disp-quote\\t%atts; >\\n\\n<!ELEMENT edition\\tANY >\\n<!ATTLIST edition\\t%atts; >\\n\\n<!ELEMENT element-citation\\tANY >\\n<!ATTLIST element-citation\\t%atts; >\\n\\n<!ELEMENT elocation-id\\tANY >\\n<!ATTLIST elocation-id\\t%atts; >\\n\\n<!ELEMENT email\\tANY >\\n<!ATTLIST email\\t%atts; >\\n\\n<!ELEMENT equation-count\\tANY >\\n<!ATTLIST equation-count\\t%atts; >\\n\\n<!ELEMENT era\\tANY >\\n<!ATTLIST era\\t%atts; >\\n\\n<!ELEMENT etal\\tANY >\\n<!ATTLIST etal\\t%atts; >\\n\\n<!ELEMENT ext-link\\tANY >\\n<!ATTLIST ext-link\\t%atts; >\\n\\n<!ELEMENT fax\\tANY >\\n<!ATTLIST fax\\t%atts; >\\n\\n<!ELEMENT fig\\tANY >\\n<!ATTLIST fig\\t%atts; >\\n\\n<!ELEMENT fig-count\\tANY >\\n<!ATTLIST fig-count\\t%atts; >\\n\\n<!ELEMENT fig-group\\tANY >\\n<!ATTLIST fig-group\\t%atts; >\\n\\n<!ELEMENT floats-group\\tANY >\\n<!ATTLIST floats-group\\t%atts; >\\n\\n<!ELEMENT floats-wrap\\tANY >\\n<!ATTLIST floats-wrap\\t%atts; >\\n\\n<!ELEMENT fn\\tANY >\\n<!ATTLIST fn\\t%atts; >\\n\\n<!ELEMENT fn-group\\tANY >\\n<!ATTLIST fn-group\\t%atts; >\\n\\n<!ELEMENT fixed-case\\tANY >\\n<!ATTLIST fixed-case\\t%atts; >\\n\\n<!ELEMENT font\\tANY >\\n<!ATTLIST font\\t%atts; >\\n\\n<!ELEMENT fpage\\tANY >\\n<!ATTLIST fpage\\t%atts; >\\n\\n<!ELEMENT front\\tANY >\\n<!ATTLIST front\\t%atts; >\\n\\n<!ELEMENT front-stub\\tANY >\\n<!ATTLIST front-stub\\t%atts; >\\n\\n<!ELEMENT funding-group\\tANY >\\n<!ATTLIST funding-group\\t%atts; >\\n\\n<!ELEMENT funding-source\\tANY >\\n<!ATTLIST funding-source\\t%atts; >\\n\\n<!ELEMENT funding-statement\\tANY >\\n<!ATTLIST funding-statement\\t%atts; >\\n\\n<!ELEMENT given-names\\tANY >\\n<!ATTLIST given-names\\t%atts; >\\n\\n<!ELEMENT gloss-group\\tANY >\\n<!ATTLIST gloss-group\\t%atts; >\\n\\n<!ELEMENT glossary\\tANY >\\n<!ATTLIST glossary\\t%atts; >\\n\\n<!ELEMENT glyph-data\\tANY >\\n<!ATTLIST glyph-data\\t%atts; >\\n\\n<!ELEMENT glyph-ref\\tANY >\\n<!ATTLIST glyph-ref\\t%atts; >\\n\\n<!ELEMENT gov\\tANY >\\n<!ATTLIST gov\\t%atts; >\\n\\n<!ELEMENT grant-num\\tANY >\\n<!ATTLIST grant-num\\t%atts; >\\n\\n<!ELEMENT grant-sponsor\\tANY >\\n<!ATTLIST grant-sponsor\\t%atts; >\\n\\n<!ELEMENT graphic\\tANY >\\n<!ATTLIST graphic\\t%atts; >\\n\\n<!ELEMENT history\\tANY >\\n<!ATTLIST history\\t%atts; >\\n\\n<!ELEMENT hr\\tANY >\\n<!ATTLIST hr\\t%atts; >\\n\\n<!ELEMENT inline-formula\\tANY >\\n<!ATTLIST inline-formula\\t%atts; >\\n\\n<!ELEMENT inline-graphic\\tANY >\\n<!ATTLIST inline-graphic\\t%atts; >\\n\\n<!ELEMENT inline-supplementary-material\\tANY >\\n<!ATTLIST inline-supplementary-material\\t%atts; >\\n\\n<!ELEMENT institution\\tANY >\\n<!ATTLIST institution\\t%atts; >\\n\\n<!ELEMENT institution-id\\tANY >\\n<!ATTLIST institution-id\\t%atts; >\\n\\n<!ELEMENT institution-wrap\\tANY >\\n<!ATTLIST institution-wrap\\t%atts; >\\n\\n<!ELEMENT isbn\\tANY >\\n<!ATTLIST isbn\\t%atts; >\\n\\n<!ELEMENT issn\\tANY >\\n<!ATTLIST issn\\t%atts; >\\n\\n<!ELEMENT issn-l\\tANY >\\n<!ATTLIST issn-l\\t%atts; >\\n\\n<!ELEMENT issue\\tANY >\\n<!ATTLIST issue\\t%atts; >\\n\\n<!ELEMENT issue-id\\tANY >\\n<!ATTLIST issue-id\\t%atts; >\\n\\n<!ELEMENT issue-part\\tANY >\\n<!ATTLIST issue-part\\t%atts; >\\n\\n<!ELEMENT issue-sponsor\\tANY >\\n<!ATTLIST issue-sponsor\\t%atts; >\\n\\n<!ELEMENT issue-title\\tANY >\\n<!ATTLIST issue-title\\t%atts; >\\n\\n<!ELEMENT italic\\tANY >\\n<!ATTLIST italic\\t%atts; >\\n\\n<!ELEMENT journal-id\\tANY >\\n<!ATTLIST journal-id\\t%atts; >\\n\\n<!ELEMENT journal-meta\\tANY >\\n<!ATTLIST journal-meta\\t%atts; >\\n\\n<!ELEMENT journal-subtitle\\tANY >\\n<!ATTLIST journal-subtitle\\t%atts; >\\n\\n<!ELEMENT journal-title\\tANY >\\n<!ATTLIST journal-title\\t%atts; >\\n\\n<!ELEMENT journal-title-group\\tANY >\\n<!ATTLIST journal-title-group\\t%atts; >\\n\\n<!ELEMENT kwd\\tANY >\\n<!ATTLIST kwd\\t%atts; >\\n\\n<!ELEMENT kwd-group\\tANY >\\n<!ATTLIST kwd-group\\t%atts; >\\n\\n<!ELEMENT label\\tANY >\\n<!ATTLIST label\\t%atts; >\\n\\n<!ELEMENT license\\tANY >\\n<!ATTLIST license\\t%atts; >\\n\\n<!ELEMENT license-p\\tANY >\\n<!ATTLIST license-p\\t%atts; >\\n\\n<!ELEMENT list\\tANY >\\n<!ATTLIST list\\t%atts; >\\n\\n<!ELEMENT list-item\\tANY >\\n<!ATTLIST list-item\\t%atts; >\\n\\n<!ELEMENT long-desc\\tANY >\\n<!ATTLIST long-desc\\t%atts; >\\n\\n<!ELEMENT lpage\\tANY >\\n<!ATTLIST lpage\\t%atts; >\\n\\n<!ELEMENT media\\tANY >\\n<!ATTLIST media\\t%atts; >\\n\\n<!ELEMENT meta-name\\tANY >\\n<!ATTLIST meta-name\\t%atts; >\\n\\n<!ELEMENT meta-value\\tANY >\\n<!ATTLIST meta-value\\t%atts; >\\n\\n<!ELEMENT milestone-end\\tANY >\\n<!ATTLIST milestone-end\\t%atts; >\\n\\n<!ELEMENT milestone-start\\tANY >\\n<!ATTLIST milestone-start\\t%atts; >\\n\\n<!ELEMENT mixed-citation\\tANY >\\n<!ATTLIST mixed-citation\\t%atts; >\\n\\n<!ELEMENT mml:abs\\tANY >\\n<!ATTLIST mml:abs\\t%atts; >\\n\\n<!ELEMENT mml:and\\tANY >\\n<!ATTLIST mml:and\\t%atts; >\\n\\n<!ELEMENT mml:annotation\\tANY >\\n<!ATTLIST mml:annotation\\t%atts; >\\n\\n<!ELEMENT mml:annotation-xml\\tANY >\\n<!ATTLIST mml:annotation-xml\\t%atts; >\\n\\n<!ELEMENT mml:apply\\tANY >\\n<!ATTLIST mml:apply\\t%atts; >\\n\\n<!ELEMENT mml:approx\\tANY >\\n<!ATTLIST mml:approx\\t%atts; >\\n\\n<!ELEMENT mml:arccos\\tANY >\\n<!ATTLIST mml:arccos\\t%atts; >\\n\\n<!ELEMENT mml:arccosh\\tANY >\\n<!ATTLIST mml:arccosh\\t%atts; >\\n\\n<!ELEMENT mml:arccot\\tANY >\\n<!ATTLIST mml:arccot\\t%atts; >\\n\\n<!ELEMENT mml:arccoth\\tANY >\\n<!ATTLIST mml:arccoth\\t%atts; >\\n\\n<!ELEMENT mml:arccsc\\tANY >\\n<!ATTLIST mml:arccsc\\t%atts; >\\n\\n<!ELEMENT mml:arccsch\\tANY >\\n<!ATTLIST mml:arccsch\\t%atts; >\\n\\n<!ELEMENT mml:arcsec\\tANY >\\n<!ATTLIST mml:arcsec\\t%atts; >\\n\\n<!ELEMENT mml:arcsech\\tANY >\\n<!ATTLIST mml:arcsech\\t%atts; >\\n\\n<!ELEMENT mml:arcsin\\tANY >\\n<!ATTLIST mml:arcsin\\t%atts; >\\n\\n<!ELEMENT mml:arcsinh\\tANY >\\n<!ATTLIST mml:arcsinh\\t%atts; >\\n\\n<!ELEMENT mml:arctan\\tANY >\\n<!ATTLIST mml:arctan\\t%atts; >\\n\\n<!ELEMENT mml:arctanh\\tANY >\\n<!ATTLIST mml:arctanh\\t%atts; >\\n\\n<!ELEMENT mml:arg\\tANY >\\n<!ATTLIST mml:arg\\t%atts; >\\n\\n<!ELEMENT mml:bvar\\tANY >\\n<!ATTLIST mml:bvar\\t%atts; >\\n\\n<!ELEMENT mml:card\\tANY >\\n<!ATTLIST mml:card\\t%atts; >\\n\\n<!ELEMENT mml:cartesianproduct\\tANY >\\n<!ATTLIST mml:cartesianproduct\\t%atts; >\\n\\n<!ELEMENT mml:ceiling\\tANY >\\n<!ATTLIST mml:ceiling\\t%atts; >\\n\\n<!ELEMENT mml:ci\\tANY >\\n<!ATTLIST mml:ci\\t%atts; >\\n\\n<!ELEMENT mml:cn\\tANY >\\n<!ATTLIST mml:cn\\t%atts; >\\n\\n<!ELEMENT mml:codomain\\tANY >\\n<!ATTLIST mml:codomain\\t%atts; >\\n\\n<!ELEMENT mml:complexes\\tANY >\\n<!ATTLIST mml:complexes\\t%atts; >\\n\\n<!ELEMENT mml:compose\\tANY >\\n<!ATTLIST mml:compose\\t%atts; >\\n\\n<!ELEMENT mml:condition\\tANY >\\n<!ATTLIST mml:condition\\t%atts; >\\n\\n<!ELEMENT mml:conjugate\\tANY >\\n<!ATTLIST mml:conjugate\\t%atts; >\\n\\n<!ELEMENT mml:cos\\tANY >\\n<!ATTLIST mml:cos\\t%atts; >\\n\\n<!ELEMENT mml:cosh\\tANY >\\n<!ATTLIST mml:cosh\\t%atts; >\\n\\n<!ELEMENT mml:cot\\tANY >\\n<!ATTLIST mml:cot\\t%atts; >\\n\\n<!ELEMENT mml:coth\\tANY >\\n<!ATTLIST mml:coth\\t%atts; >\\n\\n<!ELEMENT mml:csc\\tANY >\\n<!ATTLIST mml:csc\\t%atts; >\\n\\n<!ELEMENT mml:csch\\tANY >\\n<!ATTLIST mml:csch\\t%atts; >\\n\\n<!ELEMENT mml:csymbol\\tANY >\\n<!ATTLIST mml:csymbol\\t%atts; >\\n\\n<!ELEMENT mml:curl\\tANY >\\n<!ATTLIST mml:curl\\t%atts; >\\n\\n<!ELEMENT mml:declare\\tANY >\\n<!ATTLIST mml:declare\\t%atts; >\\n\\n<!ELEMENT mml:degree\\tANY >\\n<!ATTLIST mml:degree\\t%atts; >\\n\\n<!ELEMENT mml:determinant\\tANY >\\n<!ATTLIST mml:determinant\\t%atts; >\\n\\n<!ELEMENT mml:diff\\tANY >\\n<!ATTLIST mml:diff\\t%atts; >\\n\\n<!ELEMENT mml:divergence\\tANY >\\n<!ATTLIST mml:divergence\\t%atts; >\\n\\n<!ELEMENT mml:divide\\tANY >\\n<!ATTLIST mml:divide\\t%atts; >\\n\\n<!ELEMENT mml:domain\\tANY >\\n<!ATTLIST mml:domain\\t%atts; >\\n\\n<!ELEMENT mml:domainofapplication\\tANY >\\n<!ATTLIST mml:domainofapplication\\t%atts; >\\n\\n<!ELEMENT mml:emptyset\\tANY >\\n<!ATTLIST mml:emptyset\\t%atts; >\\n\\n<!ELEMENT mml:eq\\tANY >\\n<!ATTLIST mml:eq\\t%atts; >\\n\\n<!ELEMENT mml:equivalent\\tANY >\\n<!ATTLIST mml:equivalent\\t%atts; >\\n\\n<!ELEMENT mml:eulergamma\\tANY >\\n<!ATTLIST mml:eulergamma\\t%atts; >\\n\\n<!ELEMENT mml:exists\\tANY >\\n<!ATTLIST mml:exists\\t%atts; >\\n\\n<!ELEMENT mml:exp\\tANY >\\n<!ATTLIST mml:exp\\t%atts; >\\n\\n<!ELEMENT mml:exponentiale\\tANY >\\n<!ATTLIST mml:exponentiale\\t%atts; >\\n\\n<!ELEMENT mml:factorial\\tANY >\\n<!ATTLIST mml:factorial\\t%atts; >\\n\\n<!ELEMENT mml:factorof\\tANY >\\n<!ATTLIST mml:factorof\\t%atts; >\\n\\n<!ELEMENT mml:false\\tANY >\\n<!ATTLIST mml:false\\t%atts; >\\n\\n<!ELEMENT mml:floor\\tANY >\\n<!ATTLIST mml:floor\\t%atts; >\\n\\n<!ELEMENT mml:fn\\tANY >\\n<!ATTLIST mml:fn\\t%atts; >\\n\\n<!ELEMENT mml:forall\\tANY >\\n<!ATTLIST mml:forall\\t%atts; >\\n\\n<!ELEMENT mml:gcd\\tANY >\\n<!ATTLIST mml:gcd\\t%atts; >\\n\\n<!ELEMENT mml:geq\\tANY >\\n<!ATTLIST mml:geq\\t%atts; >\\n\\n<!ELEMENT mml:grad\\tANY >\\n<!ATTLIST mml:grad\\t%atts; >\\n\\n<!ELEMENT mml:gt\\tANY >\\n<!ATTLIST mml:gt\\t%atts; >\\n\\n<!ELEMENT mml:ident\\tANY >\\n<!ATTLIST mml:ident\\t%atts; >\\n\\n<!ELEMENT mml:image\\tANY >\\n<!ATTLIST mml:image\\t%atts; >\\n\\n<!ELEMENT mml:imaginary\\tANY >\\n<!ATTLIST mml:imaginary\\t%atts; >\\n\\n<!ELEMENT mml:imaginaryi\\tANY >\\n<!ATTLIST mml:imaginaryi\\t%atts; >\\n\\n<!ELEMENT mml:implies\\tANY >\\n<!ATTLIST mml:implies\\t%atts; >\\n\\n<!ELEMENT mml:in\\tANY >\\n<!ATTLIST mml:in\\t%atts; >\\n\\n<!ELEMENT mml:infinity\\tANY >\\n<!ATTLIST mml:infinity\\t%atts; >\\n\\n<!ELEMENT mml:int\\tANY >\\n<!ATTLIST mml:int\\t%atts; >\\n\\n<!ELEMENT mml:integers\\tANY >\\n<!ATTLIST mml:integers\\t%atts; >\\n\\n<!ELEMENT mml:intersect\\tANY >\\n<!ATTLIST mml:intersect\\t%atts; >\\n\\n<!ELEMENT mml:interval\\tANY >\\n<!ATTLIST mml:interval\\t%atts; >\\n\\n<!ELEMENT mml:inverse\\tANY >\\n<!ATTLIST mml:inverse\\t%atts; >\\n\\n<!ELEMENT mml:lambda\\tANY >\\n<!ATTLIST mml:lambda\\t%atts; >\\n\\n<!ELEMENT mml:laplacian\\tANY >\\n<!ATTLIST mml:laplacian\\t%atts; >\\n\\n<!ELEMENT mml:lcm\\tANY >\\n<!ATTLIST mml:lcm\\t%atts; >\\n\\n<!ELEMENT mml:leq\\tANY >\\n<!ATTLIST mml:leq\\t%atts; >\\n\\n<!ELEMENT mml:limit\\tANY >\\n<!ATTLIST mml:limit\\t%atts; >\\n\\n<!ELEMENT mml:list\\tANY >\\n<!ATTLIST mml:list\\t%atts; >\\n\\n<!ELEMENT mml:ln\\tANY >\\n<!ATTLIST mml:ln\\t%atts; >\\n\\n<!ELEMENT mml:log\\tANY >\\n<!ATTLIST mml:log\\t%atts; >\\n\\n<!ELEMENT mml:logbase\\tANY >\\n<!ATTLIST mml:logbase\\t%atts; >\\n\\n<!ELEMENT mml:lowlimit\\tANY >\\n<!ATTLIST mml:lowlimit\\t%atts; >\\n\\n<!ELEMENT mml:lt\\tANY >\\n<!ATTLIST mml:lt\\t%atts; >\\n\\n<!ELEMENT mml:maction\\tANY >\\n<!ATTLIST mml:maction\\t%atts; >\\n\\n<!ELEMENT mml:maligngroup\\tANY >\\n<!ATTLIST mml:maligngroup\\t%atts; >\\n\\n<!ELEMENT mml:malignmark\\tANY >\\n<!ATTLIST mml:malignmark\\t%atts; >\\n\\n<!ELEMENT mml:math\\tANY >\\n<!ATTLIST mml:math\\t%atts; >\\n\\n<!ELEMENT mml:matrix\\tANY >\\n<!ATTLIST mml:matrix\\t%atts; >\\n\\n<!ELEMENT mml:matrixrow\\tANY >\\n<!ATTLIST mml:matrixrow\\t%atts; >\\n\\n<!ELEMENT mml:max\\tANY >\\n<!ATTLIST mml:max\\t%atts; >\\n\\n<!ELEMENT mml:mean\\tANY >\\n<!ATTLIST mml:mean\\t%atts; >\\n\\n<!ELEMENT mml:median\\tANY >\\n<!ATTLIST mml:median\\t%atts; >\\n\\n<!ELEMENT mml:menclose\\tANY >\\n<!ATTLIST mml:menclose\\t%atts; >\\n\\n<!ELEMENT mml:merror\\tANY >\\n<!ATTLIST mml:merror\\t%atts; >\\n\\n<!ELEMENT mml:mfenced\\tANY >\\n<!ATTLIST mml:mfenced\\t%atts; >\\n\\n<!ELEMENT mml:mfrac\\tANY >\\n<!ATTLIST mml:mfrac\\t%atts; >\\n\\n<!ELEMENT mml:mglyph\\tANY >\\n<!ATTLIST mml:mglyph\\t%atts; >\\n\\n<!ELEMENT mml:mi\\tANY >\\n<!ATTLIST mml:mi\\t%atts; >\\n\\n<!ELEMENT mml:min\\tANY >\\n<!ATTLIST mml:min\\t%atts; >\\n\\n<!ELEMENT mml:minus\\tANY >\\n<!ATTLIST mml:minus\\t%atts; >\\n\\n<!ELEMENT mml:mlabeledtr\\tANY >\\n<!ATTLIST mml:mlabeledtr\\t%atts; >\\n\\n<!ELEMENT mml:mmultiscripts\\tANY >\\n<!ATTLIST mml:mmultiscripts\\t%atts; >\\n\\n<!ELEMENT mml:mn\\tANY >\\n<!ATTLIST mml:mn\\t%atts; >\\n\\n<!ELEMENT mml:mo\\tANY >\\n<!ATTLIST mml:mo\\t%atts; >\\n\\n<!ELEMENT mml:mode\\tANY >\\n<!ATTLIST mml:mode\\t%atts; >\\n\\n<!ELEMENT mml:moment\\tANY >\\n<!ATTLIST mml:moment\\t%atts; >\\n\\n<!ELEMENT mml:momentabout\\tANY >\\n<!ATTLIST mml:momentabout\\t%atts; >\\n\\n<!ELEMENT mml:mover\\tANY >\\n<!ATTLIST mml:mover\\t%atts; >\\n\\n<!ELEMENT mml:mpadded\\tANY >\\n<!ATTLIST mml:mpadded\\t%atts; >\\n\\n<!ELEMENT mml:mphantom\\tANY >\\n<!ATTLIST mml:mphantom\\t%atts; >\\n\\n<!ELEMENT mml:mprescripts\\tANY >\\n<!ATTLIST mml:mprescripts\\t%atts; >\\n\\n<!ELEMENT mml:mroot\\tANY >\\n<!ATTLIST mml:mroot\\t%atts; >\\n\\n<!ELEMENT mml:mrow\\tANY >\\n<!ATTLIST mml:mrow\\t%atts; >\\n\\n<!ELEMENT mml:ms\\tANY >\\n<!ATTLIST mml:ms\\t%atts; >\\n\\n<!ELEMENT mml:mspace\\tANY >\\n<!ATTLIST mml:mspace\\t%atts; >\\n\\n<!ELEMENT mml:msqrt\\tANY >\\n<!ATTLIST mml:msqrt\\t%atts; >\\n\\n<!ELEMENT mml:mstyle\\tANY >\\n<!ATTLIST mml:mstyle\\t%atts; >\\n\\n<!ELEMENT mml:msub\\tANY >\\n<!ATTLIST mml:msub\\t%atts; >\\n\\n<!ELEMENT mml:msubsup\\tANY >\\n<!ATTLIST mml:msubsup\\t%atts; >\\n\\n<!ELEMENT mml:msup\\tANY >\\n<!ATTLIST mml:msup\\t%atts; >\\n\\n<!ELEMENT mml:mtable\\tANY >\\n<!ATTLIST mml:mtable\\t%atts; >\\n\\n<!ELEMENT mml:mtd\\tANY >\\n<!ATTLIST mml:mtd\\t%atts; >\\n\\n<!ELEMENT mml:mtext\\tANY >\\n<!ATTLIST mml:mtext\\t\\t%atts; >\\n\\n<!ELEMENT mml:mtr\\tANY >\\n<!ATTLIST mml:mtr\\t%atts; >\\n\\n<!ELEMENT mml:munder\\tANY >\\n<!ATTLIST mml:munder\\t%atts; >\\n\\n<!ELEMENT mml:munderover\\tANY >\\n<!ATTLIST mml:munderover\\t%atts; >\\n\\n<!ELEMENT mml:naturalnumbers\\tANY >\\n<!ATTLIST mml:naturalnumbers\\t%atts; >\\n\\n<!ELEMENT mml:neq\\tANY >\\n<!ATTLIST mml:neq\\t%atts; >\\n\\n<!ELEMENT mml:none\\tANY >\\n<!ATTLIST mml:none\\t%atts; >\\n\\n<!ELEMENT mml:not\\tANY >\\n<!ATTLIST mml:not\\t%atts; >\\n\\n<!ELEMENT mml:notanumber\\tANY >\\n<!ATTLIST mml:notanumber\\t%atts; >\\n\\n<!ELEMENT mml:notin\\tANY >\\n<!ATTLIST mml:notin\\t%atts; >\\n\\n<!ELEMENT mml:notprsubset\\tANY >\\n<!ATTLIST mml:notprsubset\\t%atts; >\\n\\n<!ELEMENT mml:notsubset\\tANY >\\n<!ATTLIST mml:notsubset\\t%atts; >\\n\\n<!ELEMENT mml:or\\tANY >\\n<!ATTLIST mml:or\\t%atts; >\\n\\n<!ELEMENT mml:otherwise\\tANY >\\n<!ATTLIST mml:otherwise\\t%atts; >\\n\\n<!ELEMENT mml:outerproduct\\tANY >\\n<!ATTLIST mml:outerproduct\\t%atts; >\\n\\n<!ELEMENT mml:partialdiff\\tANY >\\n<!ATTLIST mml:partialdiff\\t%atts; >\\n\\n<!ELEMENT mml:pi\\tANY >\\n<!ATTLIST mml:pi\\t%atts; >\\n\\n<!ELEMENT mml:piece\\tANY >\\n<!ATTLIST mml:piece\\t%atts; >\\n\\n<!ELEMENT mml:piecewise\\tANY >\\n<!ATTLIST mml:piecewise\\t%atts; >\\n\\n<!ELEMENT mml:plus\\tANY >\\n<!ATTLIST mml:plus\\t%atts; >\\n\\n<!ELEMENT mml:power\\tANY >\\n<!ATTLIST mml:power\\t%atts; >\\n\\n<!ELEMENT mml:primes\\tANY >\\n<!ATTLIST mml:primes\\t%atts; >\\n\\n<!ELEMENT mml:product\\tANY >\\n<!ATTLIST mml:product\\t%atts; >\\n\\n<!ELEMENT mml:prsubset\\tANY >\\n<!ATTLIST mml:prsubset\\t%atts; >\\n\\n<!ELEMENT mml:quotient\\tANY >\\n<!ATTLIST mml:quotient\\t%atts; >\\n\\n<!ELEMENT mml:rationals\\tANY >\\n<!ATTLIST mml:rationals\\t%atts; >\\n\\n<!ELEMENT mml:real\\tANY >\\n<!ATTLIST mml:real\\t%atts; >\\n\\n<!ELEMENT mml:reals\\tANY >\\n<!ATTLIST mml:reals\\t%atts; >\\n\\n<!ELEMENT mml:reln\\tANY >\\n<!ATTLIST mml:reln\\t%atts; >\\n\\n<!ELEMENT mml:rem\\tANY >\\n<!ATTLIST mml:rem\\t%atts; >\\n\\n<!ELEMENT mml:root\\tANY >\\n<!ATTLIST mml:root\\t%atts; >\\n\\n<!ELEMENT mml:scalarproduct\\tANY >\\n<!ATTLIST mml:scalarproduct\\t%atts; >\\n\\n<!ELEMENT mml:sdev\\tANY >\\n<!ATTLIST mml:sdev\\t%atts; >\\n\\n<!ELEMENT mml:sec\\tANY >\\n<!ATTLIST mml:sec\\t%atts; >\\n\\n<!ELEMENT mml:sech\\tANY >\\n<!ATTLIST mml:sech\\t%atts; >\\n\\n<!ELEMENT mml:selector\\tANY >\\n<!ATTLIST mml:selector\\t%atts; >\\n\\n<!ELEMENT mml:semantics\\tANY >\\n<!ATTLIST mml:semantics\\t%atts; >\\n\\n<!ELEMENT mml:sep\\tANY >\\n<!ATTLIST mml:sep\\t%atts; >\\n\\n<!ELEMENT mml:set\\tANY >\\n<!ATTLIST mml:set\\t%atts; >\\n\\n<!ELEMENT mml:setdiff\\tANY >\\n<!ATTLIST mml:setdiff\\t%atts; >\\n\\n<!ELEMENT mml:sin\\tANY >\\n<!ATTLIST mml:sin\\t%atts; >\\n\\n<!ELEMENT mml:sinh\\tANY >\\n<!ATTLIST mml:sinh\\t%atts; >\\n\\n<!ELEMENT mml:subset\\tANY >\\n<!ATTLIST mml:subset\\t%atts; >\\n\\n<!ELEMENT mml:sum\\tANY >\\n<!ATTLIST mml:sum\\t%atts; >\\n\\n<!ELEMENT mml:tan\\tANY >\\n<!ATTLIST mml:tan\\t%atts; >\\n\\n<!ELEMENT mml:tanh\\tANY >\\n<!ATTLIST mml:tanh\\t%atts; >\\n\\n<!ELEMENT mml:tendsto\\tANY >\\n<!ATTLIST mml:tendsto\\t%atts; >\\n\\n<!ELEMENT mml:times\\tANY >\\n<!ATTLIST mml:times\\t%atts; >\\n\\n<!ELEMENT mml:transpose\\tANY >\\n<!ATTLIST mml:transpose\\t%atts; >\\n\\n<!ELEMENT mml:true\\tANY >\\n<!ATTLIST mml:true\\t%atts; >\\n\\n<!ELEMENT mml:union\\tANY >\\n<!ATTLIST mml:union\\t%atts; >\\n\\n<!ELEMENT mml:uplimit\\tANY >\\n<!ATTLIST mml:uplimit\\t%atts; >\\n\\n<!ELEMENT mml:variance\\tANY >\\n<!ATTLIST mml:variance\\t%atts; >\\n\\n<!ELEMENT mml:vector\\tANY >\\n<!ATTLIST mml:vector\\t%atts; >\\n\\n<!ELEMENT mml:vectorproduct\\tANY >\\n<!ATTLIST mml:vectorproduct\\t%atts; >\\n\\n<!ELEMENT mml:xor \\tANY >\\n<!ATTLIST mml:xor\\t%atts; >\\n\\n<!ELEMENT monospace\\tANY >\\n<!ATTLIST monospace\\t%atts; >\\n\\n<!ELEMENT month\\tANY >\\n<!ATTLIST month\\t%atts; >\\n\\n<!ELEMENT name\\tANY >\\n<!ATTLIST name\\t%atts; >\\n\\n<!ELEMENT name-alternatives\\tANY >\\n<!ATTLIST name-alternatives\\t%atts; >\\n\\n<!ELEMENT named-content\\tANY >\\n<!ATTLIST named-content\\t%atts; >\\n\\n<!ELEMENT nested-kwd\\tANY >\\n<!ATTLIST nested-kwd\\t%atts; >\\n\\n<!ELEMENT nlm-citation\\tANY >\\n<!ATTLIST nlm-citation\\t%atts; >\\n\\n<!ELEMENT note\\tANY >\\n<!ATTLIST note\\t%atts; >\\n\\n<!ELEMENT notes\\tANY >\\n<!ATTLIST notes\\t%atts; >\\n\\n<!ELEMENT object-id\\tANY >\\n<!ATTLIST object-id\\t%atts; >\\n\\n<!ELEMENT on-behalf-of\\tANY >\\n<!ATTLIST on-behalf-of\\t%atts; >\\n\\n<!ELEMENT open-access\\tANY >\\n<!ATTLIST open-access\\t%atts; >\\n\\n<!ELEMENT overline\\tANY >\\n<!ATTLIST overline\\t%atts; >\\n\\n<!ELEMENT overline-end\\tANY >\\n<!ATTLIST overline-end\\t%atts; >\\n\\n<!ELEMENT overline-start\\tANY >\\n<!ATTLIST overline-start\\t%atts; >\\n\\n<!ELEMENT p\\tANY >\\n<!ATTLIST p\\t%atts; >\\n\\n<!ELEMENT page-count\\tANY >\\n<!ATTLIST page-count\\t%atts; >\\n\\n<!ELEMENT page-range\\tANY >\\n<!ATTLIST page-range\\t%atts; >\\n\\n<!ELEMENT part-title\\tANY >\\n<!ATTLIST part-title\\t%atts; >\\n\\n<!ELEMENT patent\\tANY >\\n<!ATTLIST patent\\t%atts; >\\n\\n<!ELEMENT permissions\\tANY >\\n<!ATTLIST permissions\\t%atts; >\\n\\n<!ELEMENT person-group\\tANY >\\n<!ATTLIST person-group\\t%atts; >\\n\\n<!ELEMENT phone\\tANY >\\n<!ATTLIST phone\\t%atts; >\\n\\n<!ELEMENT postal-code\\tANY >\\n<!ATTLIST postal-code\\t%atts; >\\n\\n<!ELEMENT prefix\\tANY >\\n<!ATTLIST prefix\\t%atts; >\\n\\n<!ELEMENT preformat\\tANY >\\n<!ATTLIST preformat\\t%atts; >\\n\\n<!ELEMENT price\\tANY >\\n<!ATTLIST price\\t%atts; >\\n\\n<!ELEMENT principal-award-recipient\\tANY >\\n<!ATTLIST principal-award-recipient\\t%atts; >\\n\\n<!ELEMENT principal-investigator\\tANY >\\n<!ATTLIST principal-investigator\\t%atts; >\\n\\n<!ELEMENT private-char\\tANY >\\n<!ATTLIST private-char\\t%atts; >\\n\\n<!ELEMENT product\\tANY >\\n<!ATTLIST product\\t%atts; >\\n\\n<!ELEMENT pub-date\\tANY >\\n<!ATTLIST pub-date\\t%atts; >\\n\\n<!ELEMENT pub-id\\tANY >\\n<!ATTLIST pub-id\\t%atts; >\\n\\n<!ELEMENT publisher\\tANY >\\n<!ATTLIST publisher\\t%atts; >\\n\\n<!ELEMENT publisher-loc\\tANY >\\n<!ATTLIST publisher-loc\\t%atts; >\\n\\n<!ELEMENT publisher-name\\tANY >\\n<!ATTLIST publisher-name\\t%atts; >\\n\\n<!ELEMENT ref\\tANY >\\n<!ATTLIST ref\\t%atts; >\\n\\n<!ELEMENT ref-count\\tANY >\\n<!ATTLIST ref-count\\t%atts; >\\n\\n<!ELEMENT ref-list\\tANY >\\n<!ATTLIST ref-list\\t%atts; >\\n\\n<!ELEMENT related-article\\tANY >\\n<!ATTLIST related-article\\t%atts; >\\n\\n<!ELEMENT related-object\\tANY >\\n<!ATTLIST related-object\\t%atts; >\\n\\n<!ELEMENT response\\tANY >\\n<!ATTLIST response\\t%atts; >\\n\\n<!ELEMENT role\\tANY >\\n<!ATTLIST role\\t%atts; >\\n\\n<!ELEMENT roman\\tANY >\\n<!ATTLIST roman\\t%atts; >\\n\\n<!ELEMENT ruby\\tANY >\\n<!ATTLIST ruby\\t%atts; >\\n\\n<!ELEMENT rb\\tANY >\\n<!ATTLIST rb\\t%atts; >\\n\\n<!ELEMENT rp\\tANY >\\n<!ATTLIST rp\\t%atts; >\\n\\n<!ELEMENT rt\\tANY >\\n<!ATTLIST rt\\t%atts; >\\n\\n<!ELEMENT sans-serif\\tANY >\\n<!ATTLIST sans-serif\\t%atts; >\\n\\n<!ELEMENT sc\\tANY >\\n<!ATTLIST sc\\t%atts; >\\n\\n<!ELEMENT season\\tANY >\\n<!ATTLIST season\\t%atts; >\\n\\n<!ELEMENT sec\\tANY >\\n<!ATTLIST sec\\t%atts; >\\n\\n<!ELEMENT sec-meta\\tANY >\\n<!ATTLIST sec-meta\\t%atts; >\\n\\n<!ELEMENT self-uri\\tANY >\\n<!ATTLIST self-uri\\t%atts; >\\n\\n<!ELEMENT series\\tANY >\\n<!ATTLIST series\\t%atts; >\\n\\n<!ELEMENT series-text\\tANY >\\n<!ATTLIST series-text\\t%atts; >\\n\\n<!ELEMENT series-title\\tANY >\\n<!ATTLIST series-title\\t%atts; >\\n\\n<!ELEMENT sig\\tANY >\\n<!ATTLIST sig\\t%atts; >\\n\\n<!ELEMENT sig-block\\tANY >\\n<!ATTLIST sig-block\\t%atts; >\\n\\n<!ELEMENT size\\tANY >\\n<!ATTLIST size\\t%atts; >\\n\\n<!ELEMENT source\\tANY >\\n<!ATTLIST source\\t%atts; >\\n\\n<!ELEMENT source-subtitle\\tANY >\\n<!ATTLIST source-subtitle\\t%atts; >\\n\\n<!ELEMENT speaker\\tANY >\\n<!ATTLIST speaker\\t%atts; >\\n\\n<!ELEMENT speech\\tANY >\\n<!ATTLIST speech\\t%atts; >\\n\\n<!ELEMENT state\\tANY >\\n<!ATTLIST state\\t%atts; >\\n\\n<!ELEMENT statement\\tANY >\\n<!ATTLIST statement\\t%atts; >\\n\\n<!ELEMENT std\\tANY >\\n<!ATTLIST std\\t%atts; >\\n\\n<!ELEMENT std-organization\\tANY >\\n<!ATTLIST std-organization\\t%atts; >\\n\\n<!ELEMENT strike\\tANY >\\n<!ATTLIST strike\\t%atts; >\\n\\n<!ELEMENT string-conf\\tANY >\\n<!ATTLIST string-conf\\t%atts; >\\n\\n<!ELEMENT string-date\\tANY >\\n<!ATTLIST string-date\\t%atts; >\\n\\n<!ELEMENT string-kwd\\tANY >\\n<!ATTLIST string-kwd\\t%atts; >\\n\\n<!ELEMENT string-name\\tANY >\\n<!ATTLIST string-name\\t%atts; >\\n\\n<!ELEMENT styled-content\\tANY >\\n<!ATTLIST styled-content\\t%atts; >\\n\\n<!ELEMENT sub\\tANY >\\n<!ATTLIST sub\\t%atts; >\\n\\n<!ELEMENT sub-article\\tANY >\\n<!ATTLIST sub-article\\t%atts; >\\n\\n<!ELEMENT subj-group\\tANY >\\n<!ATTLIST subj-group\\t%atts; >\\n\\n<!ELEMENT subject\\tANY >\\n<!ATTLIST subject\\t%atts; >\\n\\n<!ELEMENT subtitle\\tANY >\\n<!ATTLIST subtitle\\t%atts; >\\n\\n<!ELEMENT suffix\\tANY >\\n<!ATTLIST suffix\\t%atts; >\\n\\n<!ELEMENT sup\\tANY >\\n<!ATTLIST sup\\t%atts; >\\n\\n<!ELEMENT supplement\\tANY >\\n<!ATTLIST supplement\\t%atts; >\\n\\n<!ELEMENT supplementary-material\\tANY >\\n<!ATTLIST supplementary-material\\t%atts; >\\n\\n<!ELEMENT surname\\tANY >\\n<!ATTLIST surname\\t%atts; >\\n\\n<!ELEMENT table\\tANY >\\n<!ATTLIST table\\t%atts; >\\n\\n<!ELEMENT table-count\\tANY >\\n<!ATTLIST table-count\\t%atts; >\\n\\n<!ELEMENT table-wrap\\tANY >\\n<!ATTLIST table-wrap\\t%atts; >\\n\\n<!ELEMENT table-wrap-foot\\tANY >\\n<!ATTLIST table-wrap-foot\\t%atts; >\\n\\n<!ELEMENT table-wrap-group\\tANY >\\n<!ATTLIST table-wrap-group\\t%atts; >\\n\\n<!ELEMENT target\\tANY >\\n<!ATTLIST target\\t%atts; >\\n\\n<!ELEMENT tbody\\tANY >\\n<!ATTLIST tbody\\t%atts; >\\n\\n<!ELEMENT td\\tANY >\\n<!ATTLIST td\\t%atts; >\\n\\n<!ELEMENT term\\tANY >\\n<!ATTLIST term\\t%atts; >\\n\\n<!ELEMENT term-head\\tANY >\\n<!ATTLIST term-head\\t%atts; >\\n\\n<!ELEMENT tex-math\\tANY >\\n<!ATTLIST tex-math\\t%atts; >\\n\\n<!ELEMENT textual-form\\tANY >\\n<!ATTLIST textual-form\\t%atts; >\\n\\n<!ELEMENT tfoot\\tANY >\\n<!ATTLIST tfoot\\t%atts; >\\n\\n<!ELEMENT th\\tANY >\\n<!ATTLIST th\\t%atts; >\\n\\n<!ELEMENT thead\\tANY >\\n<!ATTLIST thead\\t%atts; >\\n\\n<!ELEMENT time-stamp\\tANY >\\n<!ATTLIST time-stamp\\t%atts; >\\n\\n<!ELEMENT title\\tANY >\\n<!ATTLIST title\\t%atts; >\\n\\n<!ELEMENT title-group\\tANY >\\n<!ATTLIST title-group\\t%atts; >\\n\\n<!ELEMENT tr\\tANY >\\n<!ATTLIST tr\\t%atts; >\\n\\n<!ELEMENT trans-abstract\\tANY >\\n<!ATTLIST trans-abstract\\t%atts; >\\n\\n<!ELEMENT trans-source\\tANY >\\n<!ATTLIST trans-source\\t%atts; >\\n\\n<!ELEMENT trans-subtitle\\tANY >\\n<!ATTLIST trans-subtitle\\t%atts; >\\n\\n<!ELEMENT trans-title\\tANY >\\n<!ATTLIST trans-title\\t%atts; >\\n\\n<!ELEMENT trans-title-group\\tANY >\\n<!ATTLIST trans-title-group\\t%atts; >\\n\\n<!ELEMENT underline\\tANY >\\n<!ATTLIST underline\\t%atts; >\\n\\n<!ELEMENT underline-end\\tANY >\\n<!ATTLIST underline-end\\t%atts; >\\n\\n<!ELEMENT underline-start\\tANY >\\n<!ATTLIST underline-start\\t%atts; >\\n\\n<!ELEMENT unstructured-kwd-group\\tANY >\\n<!ATTLIST unstructured-kwd-group\\t%atts; >\\n\\n<!ELEMENT uri\\tANY >\\n<!ATTLIST uri\\t%atts; >\\n\\n<!ELEMENT verse-group\\tANY >\\n<!ATTLIST verse-group\\t%atts; >\\n\\n<!ELEMENT verse-line\\tANY >\\n<!ATTLIST verse-line\\t%atts; >\\n\\n<!ELEMENT version\\tANY >\\n<!ATTLIST version\\t%atts; >\\n\\n<!ELEMENT volume\\tANY >\\n<!ATTLIST volume\\t%atts; >\\n\\n<!ELEMENT volume-id\\tANY >\\n<!ATTLIST volume-id\\t%atts; >\\n\\n<!ELEMENT volume-series\\tANY >\\n<!ATTLIST volume-series\\t%atts; >\\n\\n<!ELEMENT word-count\\tANY >\\n<!ATTLIST word-count\\t%atts; >\\n\\n<!ELEMENT x\\tANY >\\n<!ATTLIST x\\t%atts; >\\n\\n<!ELEMENT xref\\tANY >\\n<!ATTLIST xref\\t%atts; >\\n\\n<!ELEMENT year\\tANY >\\n<!ATTLIST year\\t%atts; >\\n\\n<!ELEMENT zipcode\\tANY >\\n<!ATTLIST zipcode\\t%atts; >\\n\\n'"
      ]
     },
     "execution_count": 16,
     "metadata": {},
     "output_type": "execute_result"
    }
   ],
   "source": [
    "dtd_doc"
   ]
  },
  {
   "cell_type": "code",
   "execution_count": 20,
   "metadata": {},
   "outputs": [
    {
     "ename": "DTDParseError",
     "evalue": "error parsing DTD",
     "output_type": "error",
     "traceback": [
      "\u001b[0;31m---------------------------------------------------------------------------\u001b[0m",
      "\u001b[0;31mDTDParseError\u001b[0m                             Traceback (most recent call last)",
      "Cell \u001b[0;32mIn[20], line 6\u001b[0m\n\u001b[1;32m      3\u001b[0m PMCID \u001b[38;5;241m=\u001b[39m \u001b[38;5;241m7067710\u001b[39m\n\u001b[1;32m      4\u001b[0m email \u001b[38;5;241m=\u001b[39m os\u001b[38;5;241m.\u001b[39mgetenv(\u001b[38;5;124m\"\u001b[39m\u001b[38;5;124mPMC_EMAIL\u001b[39m\u001b[38;5;124m\"\u001b[39m)\n\u001b[0;32m----> 6\u001b[0m p \u001b[38;5;241m=\u001b[39m \u001b[43mpaper\u001b[49m\u001b[38;5;241;43m.\u001b[39;49m\u001b[43mPaper\u001b[49m\u001b[38;5;241;43m.\u001b[39;49m\u001b[43mfrom_pmc\u001b[49m\u001b[43m(\u001b[49m\u001b[43mPMCID\u001b[49m\u001b[43m,\u001b[49m\u001b[43m \u001b[49m\u001b[43memail\u001b[49m\u001b[43m,\u001b[49m\u001b[43m \u001b[49m\u001b[43mdownload\u001b[49m\u001b[38;5;241;43m=\u001b[39;49m\u001b[38;5;28;43;01mFalse\u001b[39;49;00m\u001b[43m)\u001b[49m\n",
      "File \u001b[0;32m~/Desktop/Open Source Projects/scrapemed/examples/../../scrapemed/scrapemed/paper.py:179\u001b[0m, in \u001b[0;36mPaper.from_pmc\u001b[0;34m(cls, pmcid, email, download, validate, verbose, suppress_warnings, suppress_errors)\u001b[0m\n\u001b[1;32m    177\u001b[0m \u001b[38;5;28;01mfor\u001b[39;00m i \u001b[38;5;129;01min\u001b[39;00m \u001b[38;5;28mrange\u001b[39m(NUM_TRIES):\n\u001b[1;32m    178\u001b[0m     \u001b[38;5;28;01mtry\u001b[39;00m:\n\u001b[0;32m--> 179\u001b[0m         paper_dict \u001b[38;5;241m=\u001b[39m \u001b[43mparse\u001b[49m\u001b[38;5;241;43m.\u001b[39;49m\u001b[43mpaper_dict_from_pmc\u001b[49m\u001b[43m(\u001b[49m\n\u001b[1;32m    180\u001b[0m \u001b[43m            \u001b[49m\u001b[43mpmcid\u001b[49m\u001b[38;5;241;43m=\u001b[39;49m\u001b[43mpmcid\u001b[49m\u001b[43m,\u001b[49m\n\u001b[1;32m    181\u001b[0m \u001b[43m            \u001b[49m\u001b[43memail\u001b[49m\u001b[38;5;241;43m=\u001b[39;49m\u001b[43memail\u001b[49m\u001b[43m,\u001b[49m\n\u001b[1;32m    182\u001b[0m \u001b[43m            \u001b[49m\u001b[43mdownload\u001b[49m\u001b[38;5;241;43m=\u001b[39;49m\u001b[43mdownload\u001b[49m\u001b[43m,\u001b[49m\n\u001b[1;32m    183\u001b[0m \u001b[43m            \u001b[49m\u001b[43mvalidate\u001b[49m\u001b[38;5;241;43m=\u001b[39;49m\u001b[43mvalidate\u001b[49m\u001b[43m,\u001b[49m\n\u001b[1;32m    184\u001b[0m \u001b[43m            \u001b[49m\u001b[43mverbose\u001b[49m\u001b[38;5;241;43m=\u001b[39;49m\u001b[43mverbose\u001b[49m\u001b[43m,\u001b[49m\n\u001b[1;32m    185\u001b[0m \u001b[43m            \u001b[49m\u001b[43msuppress_warnings\u001b[49m\u001b[38;5;241;43m=\u001b[39;49m\u001b[43msuppress_warnings\u001b[49m\u001b[43m,\u001b[49m\n\u001b[1;32m    186\u001b[0m \u001b[43m            \u001b[49m\u001b[43msuppress_errors\u001b[49m\u001b[38;5;241;43m=\u001b[39;49m\u001b[43msuppress_errors\u001b[49m\u001b[43m,\u001b[49m\n\u001b[1;32m    187\u001b[0m \u001b[43m        \u001b[49m\u001b[43m)\u001b[49m\n\u001b[1;32m    188\u001b[0m         \u001b[38;5;28;01mbreak\u001b[39;00m\n\u001b[1;32m    189\u001b[0m     \u001b[38;5;28;01mexcept\u001b[39;00m HTTPError:\n",
      "File \u001b[0;32m~/Desktop/Open Source Projects/scrapemed/examples/../../scrapemed/scrapemed/_parse.py:130\u001b[0m, in \u001b[0;36mpaper_dict_from_pmc\u001b[0;34m(pmcid, email, download, validate, verbose, suppress_warnings, suppress_errors)\u001b[0m\n\u001b[1;32m    128\u001b[0m     \u001b[38;5;28mprint\u001b[39m(\u001b[38;5;124mf\u001b[39m\u001b[38;5;124m\"\u001b[39m\u001b[38;5;124mGenerating Paper object for PMCID = \u001b[39m\u001b[38;5;132;01m{\u001b[39;00mpmcid\u001b[38;5;132;01m}\u001b[39;00m\u001b[38;5;124m...\u001b[39m\u001b[38;5;124m\"\u001b[39m)\n\u001b[1;32m    129\u001b[0m \u001b[38;5;66;03m# DOWNLOAD XML TREE AND GET ROOT\u001b[39;00m\n\u001b[0;32m--> 130\u001b[0m paper_tree \u001b[38;5;241m=\u001b[39m \u001b[43mscrape\u001b[49m\u001b[38;5;241;43m.\u001b[39;49m\u001b[43mget_xml\u001b[49m\u001b[43m(\u001b[49m\n\u001b[1;32m    131\u001b[0m \u001b[43m    \u001b[49m\u001b[43mpmcid\u001b[49m\u001b[38;5;241;43m=\u001b[39;49m\u001b[43mpmcid\u001b[49m\u001b[43m,\u001b[49m\u001b[43m \u001b[49m\u001b[43memail\u001b[49m\u001b[38;5;241;43m=\u001b[39;49m\u001b[43memail\u001b[49m\u001b[43m,\u001b[49m\u001b[43m \u001b[49m\u001b[43mdownload\u001b[49m\u001b[38;5;241;43m=\u001b[39;49m\u001b[43mdownload\u001b[49m\u001b[43m,\u001b[49m\u001b[43m \u001b[49m\u001b[43mvalidate\u001b[49m\u001b[38;5;241;43m=\u001b[39;49m\u001b[43mvalidate\u001b[49m\u001b[43m,\u001b[49m\u001b[43m \u001b[49m\u001b[43mverbose\u001b[49m\u001b[38;5;241;43m=\u001b[39;49m\u001b[43mverbose\u001b[49m\n\u001b[1;32m    132\u001b[0m \u001b[43m\u001b[49m\u001b[43m)\u001b[49m\n\u001b[1;32m    133\u001b[0m root \u001b[38;5;241m=\u001b[39m paper_tree\u001b[38;5;241m.\u001b[39mgetroot()\n\u001b[1;32m    135\u001b[0m \u001b[38;5;28;01mreturn\u001b[39;00m generate_paper_dict(\n\u001b[1;32m    136\u001b[0m     pmcid\u001b[38;5;241m=\u001b[39mpmcid,\n\u001b[1;32m    137\u001b[0m     paper_root\u001b[38;5;241m=\u001b[39mroot,\n\u001b[0;32m   (...)\u001b[0m\n\u001b[1;32m    140\u001b[0m     suppress_errors\u001b[38;5;241m=\u001b[39msuppress_errors,\n\u001b[1;32m    141\u001b[0m )\n",
      "File \u001b[0;32m~/Desktop/Open Source Projects/scrapemed/examples/../../scrapemed/scrapemed/scrape.py:123\u001b[0m, in \u001b[0;36mget_xml\u001b[0;34m(pmcid, email, download, validate, strip_text_styling, verbose)\u001b[0m\n\u001b[1;32m    116\u001b[0m tree \u001b[38;5;241m=\u001b[39m xml_tree_from_string(\n\u001b[1;32m    117\u001b[0m     xml_string\u001b[38;5;241m=\u001b[39mxml_text, strip_text_styling\u001b[38;5;241m=\u001b[39mstrip_text_styling, verbose\u001b[38;5;241m=\u001b[39mverbose\n\u001b[1;32m    118\u001b[0m )\n\u001b[1;32m    120\u001b[0m \u001b[38;5;28;01mif\u001b[39;00m validate:\n\u001b[1;32m    121\u001b[0m     \u001b[38;5;66;03m# Validate tags, attrs, values are supported for\u001b[39;00m\n\u001b[1;32m    122\u001b[0m     \u001b[38;5;66;03m# parsing by the scrapemed package.\u001b[39;00m\n\u001b[0;32m--> 123\u001b[0m     \u001b[43m_validate\u001b[49m\u001b[38;5;241;43m.\u001b[39;49m\u001b[43mvalidate_xml\u001b[49m\u001b[43m(\u001b[49m\u001b[43mtree\u001b[49m\u001b[43m)\u001b[49m\n\u001b[1;32m    124\u001b[0m \u001b[38;5;28;01melse\u001b[39;00m:\n\u001b[1;32m    125\u001b[0m     warnings\u001b[38;5;241m.\u001b[39mwarn(\n\u001b[1;32m    126\u001b[0m         (\n\u001b[1;32m    127\u001b[0m             \u001b[38;5;124mf\u001b[39m\u001b[38;5;124m\"\u001b[39m\u001b[38;5;124mWarning! Scraping XML for PMCID \u001b[39m\u001b[38;5;132;01m{\u001b[39;00mpmcid\u001b[38;5;132;01m}\u001b[39;00m\u001b[38;5;124m from \u001b[39m\u001b[38;5;124m\"\u001b[39m\n\u001b[0;32m   (...)\u001b[0m\n\u001b[1;32m    130\u001b[0m         validationWarning,\n\u001b[1;32m    131\u001b[0m     )\n",
      "File \u001b[0;32m~/Desktop/Open Source Projects/scrapemed/examples/../../scrapemed/scrapemed/_validate.py:88\u001b[0m, in \u001b[0;36mvalidate_xml\u001b[0;34m(xml)\u001b[0m\n\u001b[1;32m     80\u001b[0m \u001b[38;5;28;01mif\u001b[39;00m dtd_doc \u001b[38;5;129;01mis\u001b[39;00m \u001b[38;5;28;01mNone\u001b[39;00m:\n\u001b[1;32m     81\u001b[0m     \u001b[38;5;28;01mraise\u001b[39;00m noDTDFoundError(\n\u001b[1;32m     82\u001b[0m         cleanerdoc(\n\u001b[1;32m     83\u001b[0m \u001b[38;5;250m            \u001b[39m\u001b[38;5;124;03m\"\"\"DTD not found in scrapemed package. Ensure you are using the \u001b[39;00m\n\u001b[1;32m     84\u001b[0m \u001b[38;5;124;03m            latest package version.\"\"\"\u001b[39;00m\n\u001b[1;32m     85\u001b[0m         )\n\u001b[1;32m     86\u001b[0m     )\n\u001b[0;32m---> 88\u001b[0m dtd \u001b[38;5;241m=\u001b[39m \u001b[43mET\u001b[49m\u001b[38;5;241;43m.\u001b[39;49m\u001b[43mDTD\u001b[49m\u001b[43m(\u001b[49m\u001b[43mStringIO\u001b[49m\u001b[43m(\u001b[49m\u001b[43mdtd_doc\u001b[49m\u001b[43m)\u001b[49m\u001b[43m)\u001b[49m\n\u001b[1;32m     90\u001b[0m \u001b[38;5;28;01mreturn\u001b[39;00m dtd\u001b[38;5;241m.\u001b[39mvalidate(xml)\n",
      "File \u001b[0;32msrc/lxml/dtd.pxi:291\u001b[0m, in \u001b[0;36mlxml.etree.DTD.__init__\u001b[0;34m()\u001b[0m\n",
      "File \u001b[0;32msrc/lxml/dtd.pxi:409\u001b[0m, in \u001b[0;36mlxml.etree._parseDtdFromFilelike\u001b[0;34m()\u001b[0m\n",
      "\u001b[0;31mDTDParseError\u001b[0m: error parsing DTD"
     ]
    }
   ],
   "source": [
    "#Specify creds and PMCID\n",
    "\n",
    "PMCID = 7067710\n",
    "email = os.getenv(\"PMC_EMAIL\")\n",
    "\n",
    "p = paper.Paper.from_pmc(PMCID, email, download=False)"
   ]
  },
  {
   "cell_type": "markdown",
   "metadata": {},
   "source": [
    "## Natural Language Querying and Paper Embeddings"
   ]
  },
  {
   "cell_type": "code",
   "execution_count": 3,
   "metadata": {},
   "outputs": [
    {
     "name": "stdout",
     "output_type": "stream",
     "text": [
      "Vectorizing Paper (This may take a little while)...\n",
      "Done Vectorizing Paper! Natural language query with Paper.query() now available.\n"
     ]
    },
    {
     "data": {
      "text/plain": [
       "{'Match on pmcid-7067710-chunk-26': '...similar to its monocomponent constituents when administered separately or coadministered, indicating no drug–drug interactions and no formulation effects. Similar to previous findings for the individual components, the rates of absorption of ibuprofen and acetaminophen from the FDC were slightly delayed in the presence of food. Overall, adolescents had similar exposures to acetaminophen and ibuprofen...'}"
      ]
     },
     "execution_count": 3,
     "metadata": {},
     "output_type": "execute_result"
    }
   ],
   "source": [
    "p.query(\"absorption\")"
   ]
  },
  {
   "cell_type": "code",
   "execution_count": 4,
   "metadata": {},
   "outputs": [
    {
     "data": {
      "text/plain": [
       "{'Match on pmcid-7067710-chunk-302': '...of the FDC to adolescents in Study 3 are summarized in Table\\xa07. Results are presented for all subjects and for the age groups 12–14\\xa0years and 15–17\\xa0years separately. The overall ibuprofen exposure (AUC values) following administration of the FDC was similar for both the younger and older age groups. However, the younger group had a C_max that was approximately 23% higher and occurred 1\\xa0h earlier relative to...',\n",
       " 'Match on pmcid-7067710-chunk-92': '...for this study.\\n\\n    Subjects included in the two adult studies (i.e. Studies 1 and 2) were healthy males and females 12–17\\xa0years of age, inclusive, with at least one painful condition (e.g. headache,...'}"
      ]
     },
     "execution_count": 4,
     "metadata": {},
     "output_type": "execute_result"
    }
   ],
   "source": [
    "p.query(\"what were the participants ages?\", n_results=2, n_before=1, n_after=3)"
   ]
  },
  {
   "cell_type": "markdown",
   "metadata": {},
   "source": [
    "## Peek at the Full Text"
   ]
  },
  {
   "cell_type": "code",
   "execution_count": 5,
   "metadata": {},
   "outputs": [
    {
     "data": {
      "text/plain": [
       "'Abstract: \\n\\nSECTION: Introduction:\\n\\nA fixed-dose combination (FDC) of ibuprofen and acetaminophen ha'"
      ]
     },
     "execution_count": 5,
     "metadata": {},
     "output_type": "execute_result"
    }
   ],
   "source": [
    "p.full_text()[0:100]"
   ]
  },
  {
   "cell_type": "markdown",
   "metadata": {},
   "source": [
    "## Peek at relational df representation of Paper"
   ]
  },
  {
   "cell_type": "code",
   "execution_count": 6,
   "metadata": {},
   "outputs": [
    {
     "name": "stdout",
     "output_type": "stream",
     "text": [
      "<class 'pandas.core.frame.DataFrame'>\n",
      "Index: 31 entries, PMCID to Figures\n",
      "Data columns (total 1 columns):\n",
      " #   Column  Non-Null Count  Dtype \n",
      "---  ------  --------------  ----- \n",
      " 0   0       30 non-null     object\n",
      "dtypes: object(1)\n",
      "memory usage: 496.0+ bytes\n"
     ]
    }
   ],
   "source": [
    "pd.DataFrame(p.to_relational()).info()"
   ]
  },
  {
   "cell_type": "markdown",
   "metadata": {},
   "source": [
    "## Look at a bunch of other Paper metadata"
   ]
  },
  {
   "cell_type": "code",
   "execution_count": 7,
   "metadata": {},
   "outputs": [
    {
     "data": {
      "text/plain": [
       "'Phase I Pharmacokinetic Study of Fixed-Dose Combinations of Ibuprofen and Acetaminophen in Healthy Adult and Adolescent Populations'"
      ]
     },
     "execution_count": 7,
     "metadata": {},
     "output_type": "execute_result"
    }
   ],
   "source": [
    "p.title"
   ]
  },
  {
   "cell_type": "code",
   "execution_count": 8,
   "metadata": {},
   "outputs": [
    {
     "data": {
      "text/html": [
       "<div>\n",
       "<style scoped>\n",
       "    .dataframe tbody tr th:only-of-type {\n",
       "        vertical-align: middle;\n",
       "    }\n",
       "\n",
       "    .dataframe tbody tr th {\n",
       "        vertical-align: top;\n",
       "    }\n",
       "\n",
       "    .dataframe thead th {\n",
       "        text-align: right;\n",
       "    }\n",
       "</style>\n",
       "<table border=\"1\" class=\"dataframe\">\n",
       "  <thead>\n",
       "    <tr style=\"text-align: right;\">\n",
       "      <th></th>\n",
       "      <th>Contributor_Type</th>\n",
       "      <th>First_Name</th>\n",
       "      <th>Last_Name</th>\n",
       "      <th>Email_Address</th>\n",
       "      <th>Affiliations</th>\n",
       "    </tr>\n",
       "  </thead>\n",
       "  <tbody>\n",
       "    <tr>\n",
       "      <th>0</th>\n",
       "      <td>Author</td>\n",
       "      <td>Sanela</td>\n",
       "      <td>Tarabar</td>\n",
       "      <td>Sanela.Tarabar@pfizer.com</td>\n",
       "      <td>[Aff1: Pfizer New Haven Clinical Research Unit, New Haven, CT USA, Aff6: Clinical Research and Development, KS1, 1 Portland Street, Cambridge, MA 02139 USA]</td>\n",
       "    </tr>\n",
       "    <tr>\n",
       "      <th>1</th>\n",
       "      <td>Author</td>\n",
       "      <td>Debra</td>\n",
       "      <td>Kelsh</td>\n",
       "      <td>None</td>\n",
       "      <td>[Aff2: Altasciences/Vince and Associates Clinical Research, Overland Park, KS USA]</td>\n",
       "    </tr>\n",
       "    <tr>\n",
       "      <th>2</th>\n",
       "      <td>Author</td>\n",
       "      <td>Bradley</td>\n",
       "      <td>Vince</td>\n",
       "      <td>None</td>\n",
       "      <td>[Aff2: Altasciences/Vince and Associates Clinical Research, Overland Park, KS USA]</td>\n",
       "    </tr>\n",
       "    <tr>\n",
       "      <th>3</th>\n",
       "      <td>Author</td>\n",
       "      <td>Rina</td>\n",
       "      <td>Leyva</td>\n",
       "      <td>None</td>\n",
       "      <td>[Aff3: Pfizer Consumer Healthcare, Madison, NJ USA]</td>\n",
       "    </tr>\n",
       "    <tr>\n",
       "      <th>4</th>\n",
       "      <td>Author</td>\n",
       "      <td>Dongweon</td>\n",
       "      <td>Song</td>\n",
       "      <td>None</td>\n",
       "      <td>[Aff4: Pfizer Inc., Collegeville, PA USA]</td>\n",
       "    </tr>\n",
       "    <tr>\n",
       "      <th>5</th>\n",
       "      <td>Author</td>\n",
       "      <td>Kyle</td>\n",
       "      <td>Matschke</td>\n",
       "      <td>None</td>\n",
       "      <td>[Aff4: Pfizer Inc., Collegeville, PA USA]</td>\n",
       "    </tr>\n",
       "    <tr>\n",
       "      <th>6</th>\n",
       "      <td>Author</td>\n",
       "      <td>David E.</td>\n",
       "      <td>Kellstein</td>\n",
       "      <td>None</td>\n",
       "      <td>[Aff5: Pfizer Consumer Healthcare, Madison, NJ USA]</td>\n",
       "    </tr>\n",
       "    <tr>\n",
       "      <th>7</th>\n",
       "      <td>Author</td>\n",
       "      <td>Suzanne</td>\n",
       "      <td>Meeves</td>\n",
       "      <td>None</td>\n",
       "      <td>[Aff5: Pfizer Consumer Healthcare, Madison, NJ USA]</td>\n",
       "    </tr>\n",
       "    <tr>\n",
       "      <th>8</th>\n",
       "      <td>Author</td>\n",
       "      <td>Mario</td>\n",
       "      <td>Cruz-Rivera</td>\n",
       "      <td>None</td>\n",
       "      <td>[Aff5: Pfizer Consumer Healthcare, Madison, NJ USA]</td>\n",
       "    </tr>\n",
       "  </tbody>\n",
       "</table>\n",
       "</div>"
      ],
      "text/plain": [
       "  Contributor_Type First_Name    Last_Name              Email_Address  \\\n",
       "0           Author     Sanela      Tarabar  Sanela.Tarabar@pfizer.com   \n",
       "1           Author      Debra        Kelsh                       None   \n",
       "2           Author    Bradley        Vince                       None   \n",
       "3           Author       Rina        Leyva                       None   \n",
       "4           Author   Dongweon         Song                       None   \n",
       "5           Author       Kyle     Matschke                       None   \n",
       "6           Author   David E.    Kellstein                       None   \n",
       "7           Author    Suzanne       Meeves                       None   \n",
       "8           Author      Mario  Cruz-Rivera                       None   \n",
       "\n",
       "                                                                                                                                                   Affiliations  \n",
       "0  [Aff1: Pfizer New Haven Clinical Research Unit, New Haven, CT USA, Aff6: Clinical Research and Development, KS1, 1 Portland Street, Cambridge, MA 02139 USA]  \n",
       "1                                                                            [Aff2: Altasciences/Vince and Associates Clinical Research, Overland Park, KS USA]  \n",
       "2                                                                            [Aff2: Altasciences/Vince and Associates Clinical Research, Overland Park, KS USA]  \n",
       "3                                                                                                           [Aff3: Pfizer Consumer Healthcare, Madison, NJ USA]  \n",
       "4                                                                                                                     [Aff4: Pfizer Inc., Collegeville, PA USA]  \n",
       "5                                                                                                                     [Aff4: Pfizer Inc., Collegeville, PA USA]  \n",
       "6                                                                                                           [Aff5: Pfizer Consumer Healthcare, Madison, NJ USA]  \n",
       "7                                                                                                           [Aff5: Pfizer Consumer Healthcare, Madison, NJ USA]  \n",
       "8                                                                                                           [Aff5: Pfizer Consumer Healthcare, Madison, NJ USA]  "
      ]
     },
     "execution_count": 8,
     "metadata": {},
     "output_type": "execute_result"
    }
   ],
   "source": [
    "pd.options.display.max_colwidth = 200\n",
    "p.authors"
   ]
  },
  {
   "cell_type": "code",
   "execution_count": 9,
   "metadata": {},
   "outputs": [
    {
     "name": "stdout",
     "output_type": "stream",
     "text": [
      "No non-author contributors were found after parsing this paper.\n"
     ]
    }
   ],
   "source": [
    "print(p.non_author_contributors)"
   ]
  },
  {
   "cell_type": "code",
   "execution_count": 10,
   "metadata": {},
   "outputs": [
    {
     "data": {
      "text/plain": [
       "{'nlm-ta': 'Drugs R D', 'iso-abbrev': 'Drugs R D'}"
      ]
     },
     "execution_count": 10,
     "metadata": {},
     "output_type": "execute_result"
    }
   ],
   "source": [
    "p.journal_id"
   ]
  },
  {
   "cell_type": "code",
   "execution_count": 11,
   "metadata": {},
   "outputs": [
    {
     "data": {
      "text/plain": [
       "{'ppub': '1174-5886', 'epub': '1179-6901'}"
      ]
     },
     "execution_count": 11,
     "metadata": {},
     "output_type": "execute_result"
    }
   ],
   "source": [
    "p.issn"
   ]
  },
  {
   "cell_type": "code",
   "execution_count": 12,
   "metadata": {},
   "outputs": [
    {
     "data": {
      "text/plain": [
       "'Drugs in R&D'"
      ]
     },
     "execution_count": 12,
     "metadata": {},
     "output_type": "execute_result"
    }
   ],
   "source": [
    "p.journal_title"
   ]
  },
  {
   "cell_type": "code",
   "execution_count": 13,
   "metadata": {},
   "outputs": [
    {
     "data": {
      "text/plain": [
       "'Cham'"
      ]
     },
     "execution_count": 13,
     "metadata": {},
     "output_type": "execute_result"
    }
   ],
   "source": [
    "p.publisher_location"
   ]
  },
  {
   "cell_type": "code",
   "execution_count": 14,
   "metadata": {},
   "outputs": [
    {
     "data": {
      "text/plain": [
       "'Springer International Publishing'"
      ]
     },
     "execution_count": 14,
     "metadata": {},
     "output_type": "execute_result"
    }
   ],
   "source": [
    "p.publisher_name"
   ]
  },
  {
   "cell_type": "code",
   "execution_count": 15,
   "metadata": {},
   "outputs": [
    {
     "data": {
      "text/plain": [
       "{'pmid': '32130679',\n",
       " 'pmc': '7067710',\n",
       " 'publisher-id': '293',\n",
       " 'doi': '10.1007/s40268-020-00293-5'}"
      ]
     },
     "execution_count": 15,
     "metadata": {},
     "output_type": "execute_result"
    }
   ],
   "source": [
    "p.article_id"
   ]
  },
  {
   "cell_type": "code",
   "execution_count": 16,
   "metadata": {},
   "outputs": [
    {
     "data": {
      "text/plain": [
       "['Original Research Article']"
      ]
     },
     "execution_count": 16,
     "metadata": {},
     "output_type": "execute_result"
    }
   ],
   "source": [
    "p.article_types"
   ]
  },
  {
   "cell_type": "code",
   "execution_count": 17,
   "metadata": {},
   "outputs": [
    {
     "data": {
      "text/plain": [
       "'No extra article categories found. Check paper.article_types for header categories.'"
      ]
     },
     "execution_count": 17,
     "metadata": {},
     "output_type": "execute_result"
    }
   ],
   "source": [
    "p.article_categories"
   ]
  },
  {
   "cell_type": "code",
   "execution_count": 18,
   "metadata": {},
   "outputs": [
    {
     "data": {
      "text/plain": [
       "{'epub': datetime.datetime(2020, 3, 4, 0, 0),\n",
       " 'pmc-release': datetime.datetime(2020, 3, 4, 0, 0),\n",
       " 'ppub': datetime.datetime(2020, 3, 1, 0, 0)}"
      ]
     },
     "execution_count": 18,
     "metadata": {},
     "output_type": "execute_result"
    }
   ],
   "source": [
    "p.published_date"
   ]
  },
  {
   "cell_type": "code",
   "execution_count": 19,
   "metadata": {},
   "outputs": [
    {
     "data": {
      "text/plain": [
       "'20'"
      ]
     },
     "execution_count": 19,
     "metadata": {},
     "output_type": "execute_result"
    }
   ],
   "source": [
    "p.volume"
   ]
  },
  {
   "cell_type": "code",
   "execution_count": 20,
   "metadata": {},
   "outputs": [
    {
     "data": {
      "text/plain": [
       "'1'"
      ]
     },
     "execution_count": 20,
     "metadata": {},
     "output_type": "execute_result"
    }
   ],
   "source": [
    "p.issue"
   ]
  },
  {
   "cell_type": "code",
   "execution_count": 21,
   "metadata": {},
   "outputs": [
    {
     "data": {
      "text/plain": [
       "'23'"
      ]
     },
     "execution_count": 21,
     "metadata": {},
     "output_type": "execute_result"
    }
   ],
   "source": [
    "p.fpage"
   ]
  },
  {
   "cell_type": "code",
   "execution_count": 22,
   "metadata": {},
   "outputs": [
    {
     "data": {
      "text/plain": [
       "'37'"
      ]
     },
     "execution_count": 22,
     "metadata": {},
     "output_type": "execute_result"
    }
   ],
   "source": [
    "p.lpage"
   ]
  },
  {
   "cell_type": "code",
   "execution_count": 23,
   "metadata": {},
   "outputs": [
    {
     "data": {
      "text/plain": [
       "{'Copyright Statement': '© The Author(s) 2020',\n",
       " 'License Type': 'OpenAccess',\n",
       " 'License Text': \"Open AccessThis article is licensed under a Creative Commons Attribution-NonCommercial 4.0 International License, which permits any non-commercial use, sharing, adaptation, distribution and reproduction in any medium or format, as long as you give appropriate credit to the original author(s) and the source, provide a link to the Creative Commons licence, and indicate if changes were made. The images or other third party material in this article are included in the article's Creative Commons licence, unless indicated otherwise in a credit line to the material. If material is not included in the article's Creative Commons licence and your intended use is not permitted by statutory regulation or exceeds the permitted use, you will need to obtain permission directly from the copyright holder.To view a copy of this licence, visit [External URI:]http://creativecommons.org/licenses/by-nc/4.0/.\"}"
      ]
     },
     "execution_count": 23,
     "metadata": {},
     "output_type": "execute_result"
    }
   ],
   "source": [
    "p.permissions"
   ]
  },
  {
   "cell_type": "code",
   "execution_count": 24,
   "metadata": {},
   "outputs": [
    {
     "data": {
      "text/plain": [
       "'© The Author(s) 2020'"
      ]
     },
     "execution_count": 24,
     "metadata": {},
     "output_type": "execute_result"
    }
   ],
   "source": [
    "p.copyright"
   ]
  },
  {
   "cell_type": "code",
   "execution_count": 25,
   "metadata": {},
   "outputs": [
    {
     "data": {
      "text/plain": [
       "'OpenAccess'"
      ]
     },
     "execution_count": 25,
     "metadata": {},
     "output_type": "execute_result"
    }
   ],
   "source": [
    "p.license"
   ]
  },
  {
   "cell_type": "code",
   "execution_count": 26,
   "metadata": {},
   "outputs": [
    {
     "data": {
      "text/plain": [
       "['Pfizer Consumer Healthcare']"
      ]
     },
     "execution_count": 26,
     "metadata": {},
     "output_type": "execute_result"
    }
   ],
   "source": [
    "p.funding"
   ]
  },
  {
   "cell_type": "code",
   "execution_count": 27,
   "metadata": {},
   "outputs": [
    {
     "data": {
      "text/plain": [
       "'The authors David E. Kellstein, Suzanne Meeves and Mario Cruz-Rivera were Employees of Pfizer Consumer Healthcare, Madison, NJ, USA at the time this research was conducted.'"
      ]
     },
     "execution_count": 27,
     "metadata": {},
     "output_type": "execute_result"
    }
   ],
   "source": [
    "p.footnote"
   ]
  },
  {
   "cell_type": "code",
   "execution_count": 28,
   "metadata": {},
   "outputs": [
    {
     "name": "stdout",
     "output_type": "stream",
     "text": [
      "Acknowledgements \n",
      "       Medical writing support was provided by John H. Simmons, MD, of Peloton Advantage, LLC, an OPEN Health company, and was funded by Pfizer. On 1 August 2019, PCH became part of GSK Consumer Healthcare. The authors would like to thank Zhongwei Zhou, lead programmer, and all the programmers who supported these studies, as well as the study participants.\n"
     ]
    }
   ],
   "source": [
    "for ack in p.acknowledgements:\n",
    "    print(ack)"
   ]
  },
  {
   "cell_type": "markdown",
   "metadata": {},
   "source": [
    "## More Detailed Investigation of Ref Map and Texts"
   ]
  },
  {
   "cell_type": "code",
   "execution_count": 29,
   "metadata": {},
   "outputs": [
    {
     "data": {
      "text/plain": [
       "{'Authors': ['A Dickman'],\n",
       " 'Title': 'Choosing over-the-counter analgesics',\n",
       " 'Source': 'Pharm J.',\n",
       " 'Year': '2008',\n",
       " 'Volume': '281',\n",
       " 'FirstPage': '631',\n",
       " 'LastPage': None,\n",
       " 'DOI': None,\n",
       " 'PMID': None}"
      ]
     },
     "execution_count": 29,
     "metadata": {},
     "output_type": "execute_result"
    }
   ],
   "source": [
    "\n",
    "#look at DATAREF index 1, a citation (if using the provided example PMCID article)\n",
    "p.ref_map[1]"
   ]
  },
  {
   "cell_type": "code",
   "execution_count": 30,
   "metadata": {},
   "outputs": [
    {
     "data": {
      "text/plain": [
       "[{'Authors': ['A Dickman'],\n",
       "  'Title': 'Choosing over-the-counter analgesics',\n",
       "  'Source': 'Pharm J.',\n",
       "  'Year': '2008',\n",
       "  'Volume': '281',\n",
       "  'FirstPage': '631',\n",
       "  'LastPage': None,\n",
       "  'DOI': None,\n",
       "  'PMID': None}]"
      ]
     },
     "execution_count": 30,
     "metadata": {},
     "output_type": "execute_result"
    }
   ],
   "source": [
    "#look at datarefs filtered by citations\n",
    "p.citations[0:1]"
   ]
  },
  {
   "cell_type": "code",
   "execution_count": 31,
   "metadata": {},
   "outputs": [
    {
     "data": {
      "text/html": [
       "<div>\n",
       "<style scoped>\n",
       "    .dataframe tbody tr th:only-of-type {\n",
       "        vertical-align: middle;\n",
       "    }\n",
       "\n",
       "    .dataframe tbody tr th {\n",
       "        vertical-align: top;\n",
       "    }\n",
       "\n",
       "    .dataframe thead th {\n",
       "        text-align: right;\n",
       "    }\n",
       "</style>\n",
       "<table border=\"1\" class=\"dataframe\">\n",
       "  <thead>\n",
       "    <tr style=\"text-align: right;\">\n",
       "      <th></th>\n",
       "      <th>0</th>\n",
       "    </tr>\n",
       "  </thead>\n",
       "  <tbody>\n",
       "    <tr>\n",
       "      <th>0</th>\n",
       "      <td>The pharmacokinetic profile of a fixed-dose combination (FDC) of ibuprofen 250 mg and acetaminophen 500 mg was found to be similar to its individual components administered separately or coadminis...</td>\n",
       "    </tr>\n",
       "    <tr>\n",
       "      <th>1</th>\n",
       "      <td>Similar to what has been previously reported for the individual ingredients, food delayed the absorption of both components but had no effect on overall exposure; exposure to both components in ad...</td>\n",
       "    </tr>\n",
       "    <tr>\n",
       "      <th>2</th>\n",
       "      <td>Since the efficacy of this FDC has been shown to be superior to the same doses of individual components and it is generally well tolerated, this new FDC may provide another analgesic treatment opt...</td>\n",
       "    </tr>\n",
       "  </tbody>\n",
       "</table>\n",
       "</div>"
      ],
      "text/plain": [
       "                                                                                                                                                                                                         0\n",
       "0  The pharmacokinetic profile of a fixed-dose combination (FDC) of ibuprofen 250 mg and acetaminophen 500 mg was found to be similar to its individual components administered separately or coadminis...\n",
       "1  Similar to what has been previously reported for the individual ingredients, food delayed the absorption of both components but had no effect on overall exposure; exposure to both components in ad...\n",
       "2  Since the efficacy of this FDC has been shown to be superior to the same doses of individual components and it is generally well tolerated, this new FDC may provide another analgesic treatment opt..."
      ]
     },
     "execution_count": 31,
     "metadata": {},
     "output_type": "execute_result"
    }
   ],
   "source": [
    "#look at an example table filtered out of the ref map\n",
    "p.tables[0]"
   ]
  },
  {
   "cell_type": "code",
   "execution_count": 32,
   "metadata": {},
   "outputs": [
    {
     "data": {
      "text/plain": [
       "{'Label': 'Fig.\\xa01',\n",
       " 'Caption': 'Median plasma ibuprofen concentration over time following a single oral dose: a Study 1; b Study 2; c Study 3. Note that plasma concentrations for IBU 200\\xa0mg in Study 1 are dose-normalized. APAP acetaminophen, FDC fixed-dose combination, IBU ibuprofen',\n",
       " 'Link': '40268_2020_293_Fig1_HTML'}"
      ]
     },
     "execution_count": 32,
     "metadata": {},
     "output_type": "execute_result"
    }
   ],
   "source": [
    "#look at an example figure filtered out from the ref map\n",
    "p.figures[0]"
   ]
  },
  {
   "cell_type": "code",
   "execution_count": 33,
   "metadata": {},
   "outputs": [
    {
     "name": "stdout",
     "output_type": "stream",
     "text": [
      "Text: SECTION: Key Points:\n",
      "\n",
      "\n",
      "\n",
      "\n",
      "Text with Refs: SECTION: Key Points:\n",
      "\n",
      "[MHTML::dataref::0]\n",
      "\n",
      "Text: SECTION: Introduction:\n",
      "\n",
      "Ibuprofen and acetaminophen are among the most widely used non-prescription over-the-counter (OTC) analgesic/antipyretic drugs, both in the US and globally [1, 2]. The efficacy of these agents for the treatment of mild-to-moderate acute pain and fever in the OTC setting is well established [2–5]. Ibuprofen is a nonsteroidal anti-inflammatory drug (NSAID) that inhibits the cyclooxygenase (COX)-1 and -2 isoenzymes and hence the synthesis of pro-inflammatory prostaglandins, whereas acetaminophen is believed to act through inhibition of a subclass of COX enzyme isoforms in the central nervous system [6]. Additionally, acetaminophen has been reported to have effects on descending inhibitory serotonergic pain pathways to inhibit the l-arginine nitric oxide pathway; effects on cannabinoid receptors may also be operant [7]. Both ibuprofen and acetaminophen are associated with a ceiling effect for pain relief, i.e. a point at which higher single doses of either agent provide comparable changes in pain scores versus lower doses; respective dose ceilings are 400 mg for ibuprofen [8, 9] and 1000 mg for acetaminophen [10]. Conversely, the risk of adverse events (AEs) with ibuprofen and acetaminophen, such as gastrointestinal toxicity and acute liver failure, respectively, increases with greater doses of each agent [11, 12].\n",
      "\n",
      "Previous phase III clinical studies have demonstrated better efficacy of a fixed-dose combination (FDC) of ibuprofen and acetaminophen relative to monoactives in the same doses [13, 14]. Combining ibuprofen and acetaminophen may also allow for the effective use of lower doses of both agents, potentially reducing safety concerns associated with these drugs when administered alone at higher doses [11]. Indeed, combinations of ibuprofen and acetaminophen have been previously studied and have been shown to be effective in the management of acute pain and reduction of fever [3, 13–16]. Furthermore, these studies also demonstrated a safety profile of the ibuprofen/acetaminophen combination comparable or superior to the individual components [3, 13–15].\n",
      "\n",
      "Pharmacokinetic (PK) studies have demonstrated no alterations in plasma drug concentrations, indicating no drug–drug interactions, when ibuprofen and acetaminophen are administered concomitantly [6, 17]; therefore, no additional safety concerns are expected when ibuprofen and acetaminophen are used in combination compared with either agent alone. In this study, we report on three separate clinical PK studies of a new FDC of ibuprofen and acetaminophen containing lower doses of the two ingredients (250 mg ibuprofen/500 mg acetaminophen, administered as two tablets of 125 mg ibuprofen/250 mg acetaminophen) than the maximum recommended doses of the single-ingredient products. Analgesic studies of this FDC have demonstrated efficacy superior to the individual components and comparable to the maximal analgesic dose of ibuprofen (400 mg; Kellstein and Leyva, unpublished data). The objectives of the three studies detailed herein were (1) to determine the relative bioavailability of ibuprofen and acetaminophen from this new FDC compared with its individual monocomponents administered together or separately in adults; (2) to evaluate the effects of food on PK in adults; and (3) to determine exposure to ibuprofen and acetaminophen from the FDC in adolescents.\n",
      "\n",
      "\n",
      "Text with Refs: SECTION: Introduction:\n",
      "\n",
      "Ibuprofen and acetaminophen are among the most widely used non-prescription over-the-counter (OTC) analgesic/antipyretic drugs, both in the US and globally [1[MHTML::dataref::1], 2[MHTML::dataref::2]]. The efficacy of these agents for the treatment of mild-to-moderate acute pain and fever in the OTC setting is well established [2[MHTML::dataref::2]–5[MHTML::dataref::3]]. Ibuprofen is a nonsteroidal anti-inflammatory drug (NSAID) that inhibits the cyclooxygenase (COX)-1 and -2 isoenzymes and hence the synthesis of pro-inflammatory prostaglandins, whereas acetaminophen is believed to act through inhibition of a subclass of COX enzyme isoforms in the central nervous system [6[MHTML::dataref::4]]. Additionally, acetaminophen has been reported to have effects on descending inhibitory serotonergic pain pathways to inhibit the l-arginine nitric oxide pathway; effects on cannabinoid receptors may also be operant [7[MHTML::dataref::5]]. Both ibuprofen and acetaminophen are associated with a ceiling effect for pain relief, i.e. a point at which higher single doses of either agent provide comparable changes in pain scores versus lower doses; respective dose ceilings are 400 mg for ibuprofen [8[MHTML::dataref::6], 9[MHTML::dataref::7]] and 1000 mg for acetaminophen [10[MHTML::dataref::8]]. Conversely, the risk of adverse events (AEs) with ibuprofen and acetaminophen, such as gastrointestinal toxicity and acute liver failure, respectively, increases with greater doses of each agent [11[MHTML::dataref::9], 12[MHTML::dataref::10]].\n",
      "\n",
      "Previous phase III clinical studies have demonstrated better efficacy of a fixed-dose combination (FDC) of ibuprofen and acetaminophen relative to monoactives in the same doses [13[MHTML::dataref::11], 14[MHTML::dataref::12]]. Combining ibuprofen and acetaminophen may also allow for the effective use of lower doses of both agents, potentially reducing safety concerns associated with these drugs when administered alone at higher doses [11[MHTML::dataref::9]]. Indeed, combinations of ibuprofen and acetaminophen have been previously studied and have been shown to be effective in the management of acute pain and reduction of fever [3[MHTML::dataref::13], 13[MHTML::dataref::11]–16[MHTML::dataref::14]]. Furthermore, these studies also demonstrated a safety profile of the ibuprofen/acetaminophen combination comparable or superior to the individual components [3[MHTML::dataref::13], 13[MHTML::dataref::11]–15[MHTML::dataref::15]].\n",
      "\n",
      "Pharmacokinetic (PK) studies have demonstrated no alterations in plasma drug concentrations, indicating no drug–drug interactions, when ibuprofen and acetaminophen are administered concomitantly [6[MHTML::dataref::4], 17[MHTML::dataref::16]]; therefore, no additional safety concerns are expected when ibuprofen and acetaminophen are used in combination compared with either agent alone. In this study, we report on three separate clinical PK studies of a new FDC of ibuprofen and acetaminophen containing lower doses of the two ingredients (250 mg ibuprofen/500 mg acetaminophen, administered as two tablets of 125 mg ibuprofen/250 mg acetaminophen) than the maximum recommended doses of the single-ingredient products. Analgesic studies of this FDC have demonstrated efficacy superior to the individual components and comparable to the maximal analgesic dose of ibuprofen (400 mg; Kellstein and Leyva, unpublished data). The objectives of the three studies detailed herein were (1) to determine the relative bioavailability of ibuprofen and acetaminophen from this new FDC compared with its individual monocomponents administered together or separately in adults; (2) to evaluate the effects of food on PK in adults; and (3) to determine exposure to ibuprofen and acetaminophen from the FDC in adolescents.\n",
      "\n",
      "Text: SECTION: Methods:\n",
      "\n",
      "    SECTION: Study Design:\n",
      "\n",
      "    Three clinical phase I PK studies were conducted. Study 1 (conducted from January to March 2016) and Study 2 (conducted from December 2015 to March 2016) were performed at the Pfizer Clinical Research Unit (New Haven, CT, USA) and were open-label, four-way crossover studies that enrolled healthy adults. The third study (Study 3) was carried out from August to November 2016 at three clinical research centers across the US (WCCT Global, Costa Mesa, CA; Pharmaceutical Research Associates, Salt Lake City, UT; and Altasciences/Vince and Associates Clinical Research, Overland Park, KS) and was an open-label, single-dose study in healthy adolescents. The studies were conducted in compliance with the ethical principles originating in or derived from the Declaration of Helsinki and in compliance with all International Council for Harmonization Good Clinical Practice guidelines, as well as local regulatory requirements. All subjects (or parents or guardians in the adolescent study) provided written informed consent, and informed assent was obtained from each minor subject. The studies were managed by Pfizer Inc. and conducted by investigators employed or contracted by, and under the direction of, Pfizer Inc. Data management and analyses were conducted by Pfizer Inc., and investigators had full access and control over data interpretation for this study.\n",
      "\n",
      "    Subjects included in the two adult studies (i.e. Studies 1 and 2) were healthy male and female volunteers aged 18–55 years, inclusive. Included subjects had a body mass index (BMI) of 17.5–30.5 kg/m^2, inclusive, and a total body weight of > 50 kg. For inclusion in Study 3, subjects were healthy males and females 12–17 years of age, inclusive, with at least one painful condition (e.g. headache, dysmenorrhea, or musculoskeletal pain) that required the use of an oral OTC analgesic five or more times in the previous 4 weeks. Total body weight, stature, and BMI must have been within the 10th and 90th percentile for age and sex. Female subjects of childbearing potential and males able to father children must have been willing to use a highly effective method of contraception for the duration of the study and for 28 days after the last dose of study medication.\n",
      "\n",
      "    Exclusion criteria were similar in each of the three studies. Pregnant or breastfeeding subjects were not allowed to participate in any of the studies. The presence or history of significant disease, bleeding disorder, signs of dehydration (adolescents), or any other condition in which study medication may have increased risk; any condition that could have affected drug absorption (e.g. gastrectomy); a positive urine drug screen; history of regular alcohol consumption (adults); alcohol use within 24 h (adults) or 48 h (adolescents) of dosing; or use of tobacco within 6 months of screening (adults) or within 24 h prior to dosing (adolescents) was exclusionary. Treatment with an investigational drug within 30 days, use of prescription and non-prescription drugs or dietary supplements within 7 days, or use of nutritional supplements within 14 days prior to the first dose of study drug was prohibited. Subjects with hypertension (i.e. blood pressure ≥ 140/90 mmHg in adults or ≥ 95th percentile for age and height in adolescents); QT or QRS prolongation of > 450 ms or > 120 ms, respectively; aspartate or alanine aminotransferase ≥ 3 × or total bilirubin ≥ 1.5 × the upper limit of normal; blood donation of approximately 1 pint (adults) or exceeding 130 mL or 3 mL/kg (adolescents) within 56 days; hypersensitivity to aspirin, acetaminophen, ibuprofen, or any other NSAID; consumption of grapefruit or related citrus fruits within 7 days prior to dosing; use of acetaminophen, ibuprofen, or any other NSAID within 48 h prior to the first dose of study medication; or use of caffeine or alcohol within 24 h of admission prompted study exclusion. Subjects with a positive test for hepatitis B, hepatitis C, or human immunodeficiency virus were excluded.\n",
      "\n",
      "\n",
      "    SECTION: Determination of Sample Size:\n",
      "\n",
      "    In a previous publication [6] studying the PK profile of a novel FDC tablet formulation of ibuprofen and paracetamol (ibuprofen 400 mg/acetaminophen 1000 mg) under fasted and fed conditions, it was observed that the fed versus fasted ratio of C_max was lower than 80% for both ibuprofen and acetaminophen, suggesting that it was unlikely to achieve bioequivalence regardless of the sample size used for this parameter. Therefore, the sample size calculation in Study 1 was focused on having adequate power for declaring bioequivalence in terms of area under the concentration-time curve from time zero to infinity (AUC_∞). The sample size calculation was based on the results of the log-transformed AUC_∞ in acetaminophen, the analyte with the higher variability in this study.\n",
      "\n",
      "    In order to provide at least 85% power for declaring bioequivalence for AUC_∞ in Study 1, 32 subjects were required to complete the study. This sample size estimate assumed a root mean square of error (RMSE) of 0.120 and that the true bioavailability of the test formulation was within 15% of that for the reference formulation [6]. To ensure at least 32 subjects completed all four periods of the study, approximately 36 subjects were to be enrolled.\n",
      "\n",
      "    For Study 2, acetaminophen and log-transformed C_max, the analyte and the parameter with the highest variabilities observed in previous Pfizer Consumer Healthcare (PCH) studies, were used in the sample size calculation. Additionally, it was assumed that the true bioavailability of the test formulation (FDC ibuprofen/acetaminophen 250/500 mg) was within 5.0% of that for the reference formulation and that it was similar between the two analytes, ibuprofen and acetaminophen. This was observed in a previous publication studying the PK profiles of a novel FDC tablet of ibuprofen and acetaminophen (ibuprofen 400 mg/acetaminophen 1000 mg) [6].\n",
      "\n",
      "    Using these assumptions and an RMSE of 0.2742 (observed in a previous PCH study [#PA-96-01], which studied the PK profiles of different acetaminophen formulations of 1000 mg; unpublished data), it was estimated that a sample size of approximately 40 subjects would provide at least 85% power to establish bioequivalence in Study 2. To ensure approximately 40 subjects completed all four periods of the study, at least 44 subjects were to be enrolled.\n",
      "\n",
      "    For Study 3, review of previous PK data for ibuprofen and acetaminophen revealed that acetaminophen and the apparent oral clearance (CL), as calculated by the dose administered/AUC_∞ (CL/F), were the analyte and PK parameter, respectively, with the higher variability. Taking into consideration regulatory guidance from the US FDA as well as historical PK data, and using the method proposed by Wang et al. [18], it was estimated that a sample size of nine subjects within each of the age groups (12–14 years and 15–17 years) would provide at least 90% power to target the 95% confidence interval (CI) to be within 60% and 140% of the geometric mean estimate of CL/F for FDC ibuprofen/acetaminophen in each age subgroup, assuming an approximate between-subject coefficient of variability of 30% for the untransformed CL for acetaminophen based on a previous adult PK study conducted by PCH. To allow for dropouts in this multicenter study, approximately 22 subjects were to be enrolled to ensure that a minimum of 18 subjects completed the study (at least 9 within each age subgroup).\n",
      "\n",
      "\n",
      "    SECTION: Study Treatments:\n",
      "\n",
      "    Subjects were administered a single dose of study drug at baseline as described below. In Study 1, subjects were randomized to receive a single dose of 2 × FDC ibuprofen/acetaminophen 125 mg/250 mg (i.e. FDC ibuprofen/acetaminophen 250/500 mg; ^©2019 GSK group of companies or its licensor, Madison, NJ, USA) either after a 10-h fast or following a high-fat breakfast, or ibuprofen 200 mg (Advil^®; ^©2019 GSK group of companies or its licensor), or acetaminophen extended release (ER) 650 mg (Tylenol^® 8 HR; Johnson & Johnson Consumer Inc, New Brunswick, NJ, USA), both fasted. Acetaminophen 650 mg ER and ibuprofen 200 mg were used for comparison based on regulatory requirements. In Study 2, subjects were randomized to 2 × FDC ibuprofen/acetaminophen 125/250 mg, coadministered monocomponents ibuprofen 250 mg (^©2019 GSK group of companies or its licensor) and acetaminophen 500 mg (Tylenol^® Extra Strength; McNeil Consumer Healthcare, Ft. Washington, PA, USA), ibuprofen 250 mg alone, or acetaminophen 500 mg alone following an overnight fast of at least 10 h. Studies 1 and 2 had a crossover design; subjects received all four treatments, with a 2-day washout between each treatment period. Subjects remained in the clinic for the duration of the study. In Study 3, all subjects received a single dose of 2 × FDC ibuprofen/acetaminophen 125/250 mg (i.e. FDC ibuprofen/acetaminophen 250/500 mg) after an overnight fast.\n",
      "\n",
      "\n",
      "    SECTION: Phamacokinetic (PK) Sampling, Analysis, and Calculations:\n",
      "\n",
      "    In each study, a predose PK sample was obtained approximately 60 min before each treatment period. PK sampling was conducted at 10, 20, 30, 40, 50, 60, 75, and 90 min and 2, 3, 4, 6, 8, 10, 12, 18, and 24 h after dosing in Study 1, and at the same time points through 12 h in Study 2. Samples were obtained at 10, 20, 30, 45, 60, 75, and 90 min and at 2, 3, 6, 9, and 12 h in Study 3.\n",
      "\n",
      "    For all three studies, plasma samples were analyzed for total ibuprofen and acetaminophen using a validated analytical assay employing a high-performance liquid chromatography tandem mass spectrometric method by PPD (Middleton, WI, USA). The lower limit of quantitation (LLOQ) of the assay for ibuprofen and acetaminophen was 0.2 and 0.1 μg/mL, respectively. Clinical specimens with plasma ibuprofen or acetaminophen concentrations below the LLOQ were reported as below the LLOQ. In Studies 1 and 2, PK metrics were calculated for each subject using non-compartmental analysis of plasma concentration-time data using the internally validated software system electronic non-compartmental analysis (eNCA) version 2.2.4. In Study 3, PK metrics were calculated using Phoenix WinNonlin version 6.4 (Pharsight Corporation, Mountain View, CA, USA).\n",
      "\n",
      "    PK metrics calculated included C_max, time to maximum concentration (t_max), area under the concentration-time curve from time zero to the last quantifiable concentration (AUC_last), AUC_∞, and terminal half-life (t_½). The comparability of PK metrics in Studies 1 and 2 was determined by constructing 90% CIs around the estimated difference between test and reference treatments using a mixed-effects model based on natural log-transformed data. The mixed-effects model was implemented using SAS PROC MIXED (SAS Institute, Inc., Cary, NC, USA) with the restricted maximum likelihood estimation method and the Kenward–Roger degrees of freedom algorithm. Because the monocomponent doses in Study 1 were different from those of the FDC, PK metrics were dose normalized to ibuprofen 250 mg and acetaminophen 500 mg for the purposes of comparison.\n",
      "\n",
      "    Safety, including AEs, was monitored throughout the in-patient portion of the studies and during a follow-up phone call 14 days after the last investigational drug dose in each study.\n",
      "\n",
      "\n",
      "\n",
      "Text with Refs: SECTION: Methods:\n",
      "\n",
      "    SECTION: Study Design:\n",
      "\n",
      "    Three clinical phase I PK studies were conducted. Study 1 (conducted from January to March 2016) and Study 2 (conducted from December 2015 to March 2016) were performed at the Pfizer Clinical Research Unit (New Haven, CT, USA) and were open-label, four-way crossover studies that enrolled healthy adults. The third study (Study 3) was carried out from August to November 2016 at three clinical research centers across the US (WCCT Global, Costa Mesa, CA; Pharmaceutical Research Associates, Salt Lake City, UT; and Altasciences/Vince and Associates Clinical Research, Overland Park, KS) and was an open-label, single-dose study in healthy adolescents. The studies were conducted in compliance with the ethical principles originating in or derived from the Declaration of Helsinki and in compliance with all International Council for Harmonization Good Clinical Practice guidelines, as well as local regulatory requirements. All subjects (or parents or guardians in the adolescent study) provided written informed consent, and informed assent was obtained from each minor subject. The studies were managed by Pfizer Inc. and conducted by investigators employed or contracted by, and under the direction of, Pfizer Inc. Data management and analyses were conducted by Pfizer Inc., and investigators had full access and control over data interpretation for this study.\n",
      "\n",
      "    Subjects included in the two adult studies (i.e. Studies 1 and 2) were healthy male and female volunteers aged 18–55 years, inclusive. Included subjects had a body mass index (BMI) of 17.5–30.5 kg/m^2, inclusive, and a total body weight of > 50 kg. For inclusion in Study 3, subjects were healthy males and females 12–17 years of age, inclusive, with at least one painful condition (e.g. headache, dysmenorrhea, or musculoskeletal pain) that required the use of an oral OTC analgesic five or more times in the previous 4 weeks. Total body weight, stature, and BMI must have been within the 10th and 90th percentile for age and sex. Female subjects of childbearing potential and males able to father children must have been willing to use a highly effective method of contraception for the duration of the study and for 28 days after the last dose of study medication.\n",
      "\n",
      "    Exclusion criteria were similar in each of the three studies. Pregnant or breastfeeding subjects were not allowed to participate in any of the studies. The presence or history of significant disease, bleeding disorder, signs of dehydration (adolescents), or any other condition in which study medication may have increased risk; any condition that could have affected drug absorption (e.g. gastrectomy); a positive urine drug screen; history of regular alcohol consumption (adults); alcohol use within 24 h (adults) or 48 h (adolescents) of dosing; or use of tobacco within 6 months of screening (adults) or within 24 h prior to dosing (adolescents) was exclusionary. Treatment with an investigational drug within 30 days, use of prescription and non-prescription drugs or dietary supplements within 7 days, or use of nutritional supplements within 14 days prior to the first dose of study drug was prohibited. Subjects with hypertension (i.e. blood pressure ≥ 140/90 mmHg in adults or ≥ 95th percentile for age and height in adolescents); QT or QRS prolongation of > 450 ms or > 120 ms, respectively; aspartate or alanine aminotransferase ≥ 3 × or total bilirubin ≥ 1.5 × the upper limit of normal; blood donation of approximately 1 pint (adults) or exceeding 130 mL or 3 mL/kg (adolescents) within 56 days; hypersensitivity to aspirin, acetaminophen, ibuprofen, or any other NSAID; consumption of grapefruit or related citrus fruits within 7 days prior to dosing; use of acetaminophen, ibuprofen, or any other NSAID within 48 h prior to the first dose of study medication; or use of caffeine or alcohol within 24 h of admission prompted study exclusion. Subjects with a positive test for hepatitis B, hepatitis C, or human immunodeficiency virus were excluded.\n",
      "\n",
      "\n",
      "    SECTION: Determination of Sample Size:\n",
      "\n",
      "    In a previous publication [6[MHTML::dataref::4]] studying the PK profile of a novel FDC tablet formulation of ibuprofen and paracetamol (ibuprofen 400 mg/acetaminophen 1000 mg) under fasted and fed conditions, it was observed that the fed versus fasted ratio of C_max was lower than 80% for both ibuprofen and acetaminophen, suggesting that it was unlikely to achieve bioequivalence regardless of the sample size used for this parameter. Therefore, the sample size calculation in Study 1 was focused on having adequate power for declaring bioequivalence in terms of area under the concentration-time curve from time zero to infinity (AUC_∞). The sample size calculation was based on the results of the log-transformed AUC_∞ in acetaminophen, the analyte with the higher variability in this study.\n",
      "\n",
      "    In order to provide at least 85% power for declaring bioequivalence for AUC_∞ in Study 1, 32 subjects were required to complete the study. This sample size estimate assumed a root mean square of error (RMSE) of 0.120 and that the true bioavailability of the test formulation was within 15% of that for the reference formulation [6[MHTML::dataref::4]]. To ensure at least 32 subjects completed all four periods of the study, approximately 36 subjects were to be enrolled.\n",
      "\n",
      "    For Study 2, acetaminophen and log-transformed C_max, the analyte and the parameter with the highest variabilities observed in previous Pfizer Consumer Healthcare (PCH) studies, were used in the sample size calculation. Additionally, it was assumed that the true bioavailability of the test formulation (FDC ibuprofen/acetaminophen 250/500 mg) was within 5.0% of that for the reference formulation and that it was similar between the two analytes, ibuprofen and acetaminophen. This was observed in a previous publication studying the PK profiles of a novel FDC tablet of ibuprofen and acetaminophen (ibuprofen 400 mg/acetaminophen 1000 mg) [6[MHTML::dataref::4]].\n",
      "\n",
      "    Using these assumptions and an RMSE of 0.2742 (observed in a previous PCH study [#PA-96-01], which studied the PK profiles of different acetaminophen formulations of 1000 mg; unpublished data), it was estimated that a sample size of approximately 40 subjects would provide at least 85% power to establish bioequivalence in Study 2. To ensure approximately 40 subjects completed all four periods of the study, at least 44 subjects were to be enrolled.\n",
      "\n",
      "    For Study 3, review of previous PK data for ibuprofen and acetaminophen revealed that acetaminophen and the apparent oral clearance (CL), as calculated by the dose administered/AUC_∞ (CL/F), were the analyte and PK parameter, respectively, with the higher variability. Taking into consideration regulatory guidance from the US FDA as well as historical PK data, and using the method proposed by Wang et al. [18[MHTML::dataref::17]], it was estimated that a sample size of nine subjects within each of the age groups (12–14 years and 15–17 years) would provide at least 90% power to target the 95% confidence interval (CI) to be within 60% and 140% of the geometric mean estimate of CL/F for FDC ibuprofen/acetaminophen in each age subgroup, assuming an approximate between-subject coefficient of variability of 30% for the untransformed CL for acetaminophen based on a previous adult PK study conducted by PCH. To allow for dropouts in this multicenter study, approximately 22 subjects were to be enrolled to ensure that a minimum of 18 subjects completed the study (at least 9 within each age subgroup).\n",
      "\n",
      "\n",
      "    SECTION: Study Treatments:\n",
      "\n",
      "    Subjects were administered a single dose of study drug at baseline as described below. In Study 1, subjects were randomized to receive a single dose of 2 × FDC ibuprofen/acetaminophen 125 mg/250 mg (i.e. FDC ibuprofen/acetaminophen 250/500 mg; ^©2019 GSK group of companies or its licensor, Madison, NJ, USA) either after a 10-h fast or following a high-fat breakfast, or ibuprofen 200 mg (Advil^®; ^©2019 GSK group of companies or its licensor), or acetaminophen extended release (ER) 650 mg (Tylenol^® 8 HR; Johnson & Johnson Consumer Inc, New Brunswick, NJ, USA), both fasted. Acetaminophen 650 mg ER and ibuprofen 200 mg were used for comparison based on regulatory requirements. In Study 2, subjects were randomized to 2 × FDC ibuprofen/acetaminophen 125/250 mg, coadministered monocomponents ibuprofen 250 mg (^©2019 GSK group of companies or its licensor) and acetaminophen 500 mg (Tylenol^® Extra Strength; McNeil Consumer Healthcare, Ft. Washington, PA, USA), ibuprofen 250 mg alone, or acetaminophen 500 mg alone following an overnight fast of at least 10 h. Studies 1 and 2 had a crossover design; subjects received all four treatments, with a 2-day washout between each treatment period. Subjects remained in the clinic for the duration of the study. In Study 3, all subjects received a single dose of 2 × FDC ibuprofen/acetaminophen 125/250 mg (i.e. FDC ibuprofen/acetaminophen 250/500 mg) after an overnight fast.\n",
      "\n",
      "\n",
      "    SECTION: Phamacokinetic (PK) Sampling, Analysis, and Calculations:\n",
      "\n",
      "    In each study, a predose PK sample was obtained approximately 60 min before each treatment period. PK sampling was conducted at 10, 20, 30, 40, 50, 60, 75, and 90 min and 2, 3, 4, 6, 8, 10, 12, 18, and 24 h after dosing in Study 1, and at the same time points through 12 h in Study 2. Samples were obtained at 10, 20, 30, 45, 60, 75, and 90 min and at 2, 3, 6, 9, and 12 h in Study 3.\n",
      "\n",
      "    For all three studies, plasma samples were analyzed for total ibuprofen and acetaminophen using a validated analytical assay employing a high-performance liquid chromatography tandem mass spectrometric method by PPD (Middleton, WI, USA). The lower limit of quantitation (LLOQ) of the assay for ibuprofen and acetaminophen was 0.2 and 0.1 μg/mL, respectively. Clinical specimens with plasma ibuprofen or acetaminophen concentrations below the LLOQ were reported as below the LLOQ. In Studies 1 and 2, PK metrics were calculated for each subject using non-compartmental analysis of plasma concentration-time data using the internally validated software system electronic non-compartmental analysis (eNCA) version 2.2.4. In Study 3, PK metrics were calculated using Phoenix WinNonlin version 6.4 (Pharsight Corporation, Mountain View, CA, USA).\n",
      "\n",
      "    PK metrics calculated included C_max, time to maximum concentration (t_max), area under the concentration-time curve from time zero to the last quantifiable concentration (AUC_last), AUC_∞, and terminal half-life (t_½). The comparability of PK metrics in Studies 1 and 2 was determined by constructing 90% CIs around the estimated difference between test and reference treatments using a mixed-effects model based on natural log-transformed data. The mixed-effects model was implemented using SAS PROC MIXED (SAS Institute, Inc., Cary, NC, USA) with the restricted maximum likelihood estimation method and the Kenward–Roger degrees of freedom algorithm. Because the monocomponent doses in Study 1 were different from those of the FDC, PK metrics were dose normalized to ibuprofen 250 mg and acetaminophen 500 mg for the purposes of comparison.\n",
      "\n",
      "    Safety, including AEs, was monitored throughout the in-patient portion of the studies and during a follow-up phone call 14 days after the last investigational drug dose in each study.\n",
      "\n",
      "\n",
      "Text: SECTION: Results:\n",
      "\n",
      "    SECTION: Baseline Characteristics:\n",
      "\n",
      "    Baseline characteristics for the three studies are shown in Table 1. A total of 35 subjects were randomized in Study 1 and 46 in Study 2. In Study 3, 21 subjects were assigned to treatment. In all three studies, the proportion of males and females was approximately 50%. In Study 3, the majority (62%) of subjects were White, whereas in Studies 1 and 2, the largest proportion of subjects were Black (54% and 41%, respectively). One subject in Study 1 discontinued study drug during the first treatment period due to an inability to swallow study medication, and two subjects in Study 2 discontinued study drug during the first treatment period due to difficulties in collecting PK samples; no PK profiling was possible for these two subjects. All 21 subjects in Study 3 completed treatment and were analyzed for PK metrics and safety.\n",
      "\n",
      "\n",
      "    SECTION: PK Profiles:\n",
      "\n",
      "    PK concentration-time profiles for ibuprofen and acetaminophen in the three studies are shown in Figs. 1 and 2, respectively.\n",
      "\n",
      "        SECTION: Study 1: Comparison of Fixed-Dose Combination (FDC) to Single-Ingredient Products and Food Effects:\n",
      "\n",
      "        PK metrics for ibuprofen and acetaminophen in Study 1 are summarized in Table 2. Under fasted conditions, the median plasma ibuprofen dose-normalized concentration-time profiles were similar for FDC ibuprofen/acetaminophen 250/500 mg and ibuprofen 200 mg alone (Fig. 1a) except for a shorter ibuprofen t_max for the FDC (1.38 h vs. 2.00 h, respectively) (Table 2). As seen in Table 3, the ratios of AUC_∞ (99.93%), AUC_last (100.63%), and C_max (102.44%) of FDC ibuprofen/acetaminophen 250/500 mg versus ibuprofen 200 mg under fasted conditions, and their 90% CIs, were completely contained within the limits of 80–125%, indicating bioequivalence under fasted conditions.\n",
      "\n",
      "        There was no meaningful food effect on the overall extent of absorption of ibuprofen from the FDC. The ratios for FDC fed/FDC fasted of the adjusted dose-normalized geometric means for AUC_∞ and AUC_last were 86.61% and 85.96%, respectively. The 90% CIs for these AUC values (Table 3) were within the acceptance range for bioequivalence of 80–125%. However, the rate of absorption was delayed with food compared with fasting; the ratio for dose-normalized C_max for ibuprofen was 63.86% (Table 3), indicative of an approximately 36% lower peak concentration of ibuprofen when the FDC was administered in the fed state. Similarly, the t_max was delayed for ibuprofen when the FDC was administered with food: 3.00 h with food and 1.38 h fasted. The t_½ was similar with or without food (2.4 h vs. 2.2 h, respectively) (Table 2).\n",
      "\n",
      "        Under fasted conditions, the median plasma acetaminophen dose-normalized concentration-time profiles were similar for FDC ibuprofen/acetaminophen 250/500 mg and acetaminophen ER 650 mg alone (Fig. 2a), with the exception of a shorter t_max for the FDC (0.58 h vs. 1.50 h, respectively) (Table 2). The overall relative bioavailability of the two treatments was equivalent based on dose-normalized test/reference ratios for AUC_∞ (108.60) and AUC_last (108.27) and their associated 90% CIs (Table 4). The ratio for dose-normalized C_max was 177.48%, indicating an approximately 77% higher peak concentration of acetaminophen derived from the FDC ibuprofen/acetaminophen 250/500 mg fasted treatment compared with that of acetaminophen ER 650 mg fasted treatment (Table 4), a finding that was not unexpected given use of the ER acetaminophen formulation in this comparison.\n",
      "\n",
      "        There was no effect of food on the extent of absorption of the acetaminophen from the FDC. The ratios of acetaminophen fed/acetaminophen fasted (Table 4) of dose-normalized geometric means for AUC_∞ and AUC_last were 95.01% and 94.29%, respectively; the 90% CIs for each were within the acceptance range for bioequivalence of 80–125%, indicating no relevant effect of food on these metrics. As with ibuprofen, the absorption rate of acetaminophen was delayed when the FDC was taken with food compared with fasting. The ratio for dose-normalized C_max was 63.22%, indicating an approximately 37% lower peak concentration for acetaminophen after administration of the FDC in the fed state compared with the fasted state (Table 4). Similarly, t_max was 2.49 h with food and 0.58 h when fasted. The t_½ for acetaminophen was similar with and without food (4.7 h vs. 4.6 h, respectively) (Table 2).\n",
      "\n",
      "\n",
      "        SECTION: Study 2: Comparison of FDC with Individual Components and Formulation Effects:\n",
      "\n",
      "        PK metrics for ibuprofen and acetaminophen in Study 2 are summarized in Table 5. As shown in Fig. 1b, the median plasma ibuprofen concentration-time profiles were similar for FDC ibuprofen/acetaminophen 250/500 mg, monocomponent ibuprofen 250 mg + acetaminophen 500 mg administered together, and ibuprofen 250 mg alone. The C_max was 12% higher following the FDC ibuprofen/acetaminophen 250/500 mg treatment than following treatment with either the coadministered monocomponents or ibuprofen 250 mg (Table 5). The relative bioavailability of treatments was similar based on AUC_∞, AUC_last, and C_max (Table 6), where the respective ratios of adjusted geometric means of ibuprofen were 102.53%, 103.00%, and 112.42% after administration of the FDC relative to the coadministered monocomponents. Similar results were obtained for the FDC relative to ibuprofen 250 mg alone. The ratios of adjusted geometric means of AUC_∞, AUC_last, and C_max were 102.60%, 103.08%, and 112.02%, respectively, following administration of FDC relative to ibuprofen 250 mg alone. The 90% CIs for each of these test/reference ratios reported were contained within the bioequivalence acceptance range of 80–125%, indicating bioequivalence.\n",
      "\n",
      "        As shown in Fig. 2b, the median plasma acetaminophen concentration-time curves for FDC ibuprofen/acetaminophen 250/500 mg, monocomponent ibuprofen 250 mg + acetaminophen 500 mg, and acetaminophen 500 mg alone were similar for all treatments, and the bioavailability of treatments was also similar based on AUC_∞, AUC_last, and C_max and their associated 90% CIs (Table 6). The ratios of adjusted geometric means of acetaminophen AUC_∞, AUC_last, and C_max were 99.79%, 100.00%, and 94.32 after administration of FDC relative to the coadministered monocomponents; each respective 90% CI fell within the limits indicative of bioequivalence. For the comparison of FDC with acetaminophen 500 mg alone, the ratios of adjusted geometric means of acetaminophen AUC_∞, AUC_last, and C_max were 104.00%, 104.12%, and 101.64%, respectively; all CIs were contained within the bioequivalence acceptance range of 80–125% (Table 6), also indicating bioequivalence.\n",
      "\n",
      "\n",
      "        SECTION: Study 3: Evaluation of PK in Adolescents:\n",
      "\n",
      "        PK metrics for ibuprofen and acetaminophen following administration of the FDC to adolescents in Study 3 are summarized in Table 7. Results are presented for all subjects and for the age groups 12–14 years and 15–17 years separately. The overall ibuprofen exposure (AUC values) following administration of the FDC was similar for both the younger and older age groups. However, the younger group had a C_max that was approximately 23% higher and occurred 1 h earlier relative to the older subjects (t_max: 1 vs. 2 h, respectively). Overall acetaminophen exposure was approximately 30% higher in the younger age group compared with the older age group. As with ibuprofen, C_max for acetaminophen was higher in the younger group (approximately 42%) and t_max was 0.5 h faster relative to the older group (0.5 vs. 1 h, respectively). The mean t_½ values were similar across all age groups.\n",
      "\n",
      "        Although not designed for a direct comparison, a numerical comparison of the results for the FDC in the fasted state in adolescents (Table 7) with those in adults (Table 2) indicated that the overall (AUC) and maximal (C_max) exposures to ibuprofen and acetaminophen in the adolescent group were similar to those in adults; overall exposure (AUC) to ibuprofen was slightly higher (95 µg∙h/mL vs. 77–78 µg∙h/mL) in adolescents.\n",
      "\n",
      "\n",
      "\n",
      "    SECTION: Safety:\n",
      "\n",
      "    AEs across the three trials were all mild or moderate in intensity; treatment-emergent AEs are summarized in Table 8. In Study 1, seven subjects (20%) reported 10 AEs; three AEs in two subjects were determined to be treatment-related: one subject experienced nausea (after ibuprofen 200 mg) and somnolence (after FDC fasted), and another reported headache (after FDC fed). All of these treatment-related AEs were mild and resolved. In Study 2, 10 subjects (21.7%) experienced 15 AEs. Six of these AEs in three subjects were determined to be treatment-related: two subjects experienced treatment-related constipation, and a third experienced abdominal distention, upper abdominal pain, dyspepsia, and nausea. Two of these AEs occurred during treatment with the monocomponents administered together, one during treatment with ibuprofen 250 mg, and three during treatment with acetaminophen 500 mg. All of these treatment-related AEs were mild and resolved. In Study 3, two subjects (9.5%) experienced five mild treatment-emergent AEs. One AE of dizziness was considered to be related to treatment with the FDC. No dose reductions or discontinuations due to AEs, no serious AEs, and no deaths occurred in any of the three studies. Likewise, no clinically significant changes in vital signs were apparent in any study. The safety profile of the FDC observed during each study was consistent with the known safety profile of the individual components.\n",
      "\n",
      "\n",
      "\n",
      "Text with Refs: SECTION: Results:\n",
      "\n",
      "    SECTION: Baseline Characteristics:\n",
      "\n",
      "    Baseline characteristics for the three studies are shown in Table 1[MHTML::dataref::18]. A total of 35 subjects were randomized in Study 1 and 46 in Study 2. In Study 3, 21 subjects were assigned to treatment. In all three studies, the proportion of males and females was approximately 50%. In Study 3, the majority (62%) of subjects were White, whereas in Studies 1 and 2, the largest proportion of subjects were Black (54% and 41%, respectively). One subject in Study 1 discontinued study drug during the first treatment period due to an inability to swallow study medication, and two subjects in Study 2 discontinued study drug during the first treatment period due to difficulties in collecting PK samples; no PK profiling was possible for these two subjects. All 21 subjects in Study 3 completed treatment and were analyzed for PK metrics and safety.[MHTML::dataref::19]\n",
      "\n",
      "\n",
      "    SECTION: PK Profiles:\n",
      "\n",
      "    PK concentration-time profiles for ibuprofen and acetaminophen in the three studies are shown in Figs. 1[MHTML::dataref::20] and 2[MHTML::dataref::21], respectively.[MHTML::dataref::22][MHTML::dataref::23]\n",
      "\n",
      "        SECTION: Study 1: Comparison of Fixed-Dose Combination (FDC) to Single-Ingredient Products and Food Effects:\n",
      "\n",
      "        PK metrics for ibuprofen and acetaminophen in Study 1 are summarized in Table 2[MHTML::dataref::24]. Under fasted conditions, the median plasma ibuprofen dose-normalized concentration-time profiles were similar for FDC ibuprofen/acetaminophen 250/500 mg and ibuprofen 200 mg alone (Fig. 1[MHTML::dataref::20]a) except for a shorter ibuprofen t_max for the FDC (1.38 h vs. 2.00 h, respectively) (Table 2[MHTML::dataref::24]). As seen in Table 3[MHTML::dataref::25], the ratios of AUC_∞ (99.93%), AUC_last (100.63%), and C_max (102.44%) of FDC ibuprofen/acetaminophen 250/500 mg versus ibuprofen 200 mg under fasted conditions, and their 90% CIs, were completely contained within the limits of 80–125%, indicating bioequivalence under fasted conditions.[MHTML::dataref::26][MHTML::dataref::27]\n",
      "\n",
      "        There was no meaningful food effect on the overall extent of absorption of ibuprofen from the FDC. The ratios for FDC fed/FDC fasted of the adjusted dose-normalized geometric means for AUC_∞ and AUC_last were 86.61% and 85.96%, respectively. The 90% CIs for these AUC values (Table 3[MHTML::dataref::25]) were within the acceptance range for bioequivalence of 80–125%. However, the rate of absorption was delayed with food compared with fasting; the ratio for dose-normalized C_max for ibuprofen was 63.86% (Table 3[MHTML::dataref::25]), indicative of an approximately 36% lower peak concentration of ibuprofen when the FDC was administered in the fed state. Similarly, the t_max was delayed for ibuprofen when the FDC was administered with food: 3.00 h with food and 1.38 h fasted. The t_½ was similar with or without food (2.4 h vs. 2.2 h, respectively) (Table 2[MHTML::dataref::24]).\n",
      "\n",
      "        Under fasted conditions, the median plasma acetaminophen dose-normalized concentration-time profiles were similar for FDC ibuprofen/acetaminophen 250/500 mg and acetaminophen ER 650 mg alone (Fig. 2[MHTML::dataref::21]a), with the exception of a shorter t_max for the FDC (0.58 h vs. 1.50 h, respectively) (Table 2[MHTML::dataref::24]). The overall relative bioavailability of the two treatments was equivalent based on dose-normalized test/reference ratios for AUC_∞ (108.60) and AUC_last (108.27) and their associated 90% CIs (Table 4[MHTML::dataref::28]). The ratio for dose-normalized C_max was 177.48%, indicating an approximately 77% higher peak concentration of acetaminophen derived from the FDC ibuprofen/acetaminophen 250/500 mg fasted treatment compared with that of acetaminophen ER 650 mg fasted treatment (Table 4[MHTML::dataref::28]), a finding that was not unexpected given use of the ER acetaminophen formulation in this comparison.[MHTML::dataref::29]\n",
      "\n",
      "        There was no effect of food on the extent of absorption of the acetaminophen from the FDC. The ratios of acetaminophen fed/acetaminophen fasted (Table 4[MHTML::dataref::28]) of dose-normalized geometric means for AUC_∞ and AUC_last were 95.01% and 94.29%, respectively; the 90% CIs for each were within the acceptance range for bioequivalence of 80–125%, indicating no relevant effect of food on these metrics. As with ibuprofen, the absorption rate of acetaminophen was delayed when the FDC was taken with food compared with fasting. The ratio for dose-normalized C_max was 63.22%, indicating an approximately 37% lower peak concentration for acetaminophen after administration of the FDC in the fed state compared with the fasted state (Table 4[MHTML::dataref::28]). Similarly, t_max was 2.49 h with food and 0.58 h when fasted. The t_½ for acetaminophen was similar with and without food (4.7 h vs. 4.6 h, respectively) (Table 2[MHTML::dataref::24]).\n",
      "\n",
      "\n",
      "        SECTION: Study 2: Comparison of FDC with Individual Components and Formulation Effects:\n",
      "\n",
      "        PK metrics for ibuprofen and acetaminophen in Study 2 are summarized in Table 5[MHTML::dataref::30]. As shown in Fig. 1[MHTML::dataref::20]b, the median plasma ibuprofen concentration-time profiles were similar for FDC ibuprofen/acetaminophen 250/500 mg, monocomponent ibuprofen 250 mg + acetaminophen 500 mg administered together, and ibuprofen 250 mg alone. The C_max was 12% higher following the FDC ibuprofen/acetaminophen 250/500 mg treatment than following treatment with either the coadministered monocomponents or ibuprofen 250 mg (Table 5[MHTML::dataref::30]). The relative bioavailability of treatments was similar based on AUC_∞, AUC_last, and C_max (Table 6[MHTML::dataref::31]), where the respective ratios of adjusted geometric means of ibuprofen were 102.53%, 103.00%, and 112.42% after administration of the FDC relative to the coadministered monocomponents. Similar results were obtained for the FDC relative to ibuprofen 250 mg alone. The ratios of adjusted geometric means of AUC_∞, AUC_last, and C_max were 102.60%, 103.08%, and 112.02%, respectively, following administration of FDC relative to ibuprofen 250 mg alone. The 90% CIs for each of these test/reference ratios reported were contained within the bioequivalence acceptance range of 80–125%, indicating bioequivalence.[MHTML::dataref::32][MHTML::dataref::33]\n",
      "\n",
      "        As shown in Fig. 2[MHTML::dataref::21]b, the median plasma acetaminophen concentration-time curves for FDC ibuprofen/acetaminophen 250/500 mg, monocomponent ibuprofen 250 mg + acetaminophen 500 mg, and acetaminophen 500 mg alone were similar for all treatments, and the bioavailability of treatments was also similar based on AUC_∞, AUC_last, and C_max and their associated 90% CIs (Table 6[MHTML::dataref::31]). The ratios of adjusted geometric means of acetaminophen AUC_∞, AUC_last, and C_max were 99.79%, 100.00%, and 94.32 after administration of FDC relative to the coadministered monocomponents; each respective 90% CI fell within the limits indicative of bioequivalence. For the comparison of FDC with acetaminophen 500 mg alone, the ratios of adjusted geometric means of acetaminophen AUC_∞, AUC_last, and C_max were 104.00%, 104.12%, and 101.64%, respectively; all CIs were contained within the bioequivalence acceptance range of 80–125% (Table 6[MHTML::dataref::31]), also indicating bioequivalence.\n",
      "\n",
      "\n",
      "        SECTION: Study 3: Evaluation of PK in Adolescents:\n",
      "\n",
      "        PK metrics for ibuprofen and acetaminophen following administration of the FDC to adolescents in Study 3 are summarized in Table 7[MHTML::dataref::34]. Results are presented for all subjects and for the age groups 12–14 years and 15–17 years separately. The overall ibuprofen exposure (AUC values) following administration of the FDC was similar for both the younger and older age groups. However, the younger group had a C_max that was approximately 23% higher and occurred 1 h earlier relative to the older subjects (t_max: 1 vs. 2 h, respectively). Overall acetaminophen exposure was approximately 30% higher in the younger age group compared with the older age group. As with ibuprofen, C_max for acetaminophen was higher in the younger group (approximately 42%) and t_max was 0.5 h faster relative to the older group (0.5 vs. 1 h, respectively). The mean t_½ values were similar across all age groups.[MHTML::dataref::35]\n",
      "\n",
      "        Although not designed for a direct comparison, a numerical comparison of the results for the FDC in the fasted state in adolescents (Table 7[MHTML::dataref::34]) with those in adults (Table 2[MHTML::dataref::24]) indicated that the overall (AUC) and maximal (C_max) exposures to ibuprofen and acetaminophen in the adolescent group were similar to those in adults; overall exposure (AUC) to ibuprofen was slightly higher (95 µg∙h/mL vs. 77–78 µg∙h/mL) in adolescents.\n",
      "\n",
      "\n",
      "\n",
      "    SECTION: Safety:\n",
      "\n",
      "    AEs across the three trials were all mild or moderate in intensity; treatment-emergent AEs are summarized in Table 8[MHTML::dataref::36]. In Study 1, seven subjects (20%) reported 10 AEs; three AEs in two subjects were determined to be treatment-related: one subject experienced nausea (after ibuprofen 200 mg) and somnolence (after FDC fasted), and another reported headache (after FDC fed). All of these treatment-related AEs were mild and resolved. In Study 2, 10 subjects (21.7%) experienced 15 AEs. Six of these AEs in three subjects were determined to be treatment-related: two subjects experienced treatment-related constipation, and a third experienced abdominal distention, upper abdominal pain, dyspepsia, and nausea. Two of these AEs occurred during treatment with the monocomponents administered together, one during treatment with ibuprofen 250 mg, and three during treatment with acetaminophen 500 mg. All of these treatment-related AEs were mild and resolved. In Study 3, two subjects (9.5%) experienced five mild treatment-emergent AEs. One AE of dizziness was considered to be related to treatment with the FDC. No dose reductions or discontinuations due to AEs, no serious AEs, and no deaths occurred in any of the three studies. Likewise, no clinically significant changes in vital signs were apparent in any study. The safety profile of the FDC observed during each study was consistent with the known safety profile of the individual components.[MHTML::dataref::37]\n",
      "\n",
      "\n",
      "Text: SECTION: Discussion:\n",
      "\n",
      "This series of PK studies demonstrates that the FDC ibuprofen/acetaminophen 250/500 mg (administered as 2 × ibuprofen/acetaminophen 125/250 mg) is bioequivalent to its individual monocomponents when administered separately or together. These data substantiate the lack of drug–drug PK interactions or formulation effects, respectively, with the combination. Acetaminophen in the FDC is bioequivalent to dose-normalized acetaminophen ER 650 mg for AUC. However, an increase in acetaminophen C_max was seen with the FDC compared with the acetaminophen ER 650 mg comparator. This result was expected as the FDC is an immediate-release formulation, whereas the acetaminophen 650 mg used was an ER formulation with delayed absorption. Ibuprofen in the FDC was also bioequivalent to dose-normalized ibuprofen 200 mg for AUC and C_max. These results therefore demonstrate that the exposure to ibuprofen and acetaminophen in the FDC is similar to those of commercially available formulations of the individual components, indicating there should be no increased safety concerns.\n",
      "\n",
      "A food effect on the rate of absorption was observed with the FDC, with C_max for ibuprofen and acetaminophen decreased 36% and 37%, respectively, in the presence of food. T_max was also delayed by approximately 1.6 h for ibuprofen and 1.9 h for acetaminophen in fed, compared with fasting, conditions. This is consistent with a previous study in which an FDC of ibuprofen/acetaminophen at a total dose of 400/1000 mg, respectively, exhibited decreased C_max values in the fed versus fasted state (ratios of 76% and 61% for ibuprofen and acetaminophen, respectively) and delayed median t_max by 0.75 h and 1 h, respectively [6]. Studies of ibuprofen alone and acetaminophen alone have also demonstrated decreased C_max and delayed t_max when either is administered with food [19, 20]. Although the overall extent of absorption (AUC) of ibuprofen from the FDC was slightly reduced (14%) in the presence of food compared with ibuprofen alone, both AUC_∞ and AUC_last met the bioequivalence standard of 80–125%. The overall exposure to acetaminophen was not affected by food, therefore it is unlikely that the slightly reduced AUC of ibuprofen observed in the fed state would be clinically meaningful in terms of analgesic efficacy. However, the effect of food on efficacy has not been evaluated as the dental pain studies of the FDC were conducted with food restrictions, as is the standard methodology.\n",
      "\n",
      "The majority of PK studies of ibuprofen and acetaminophen have focused on adults and younger subjects, with limited data available in adolescents aged 12–17 years [6, 21–28]. As a result, population PK estimates and allometric adjustments or scaling have typically provided the rationale for dosing in this younger age group [27, 28]. The present study of FDC ibuprofen/acetaminophen 250/500 mg therefore adds new and relevant information by reporting ibuprofen and acetaminophen PK in this age group. Importantly, no clinically important differences in PK exposure were observed for adolescents in comparison with adult subjects 18 years of age and older. Indeed, while these studies were not designed to be compared, the overall plasma concentration-time curves for both components of the FDC (in the fasted state) were similar across all three studies, and comparison of AUC and C_max values between the adolescent and adult studies also indicates similar exposures to both components, with a slightly higher overall exposure to ibuprofen in adolescents. This provides support for similar dosing recommendations for adolescents as in adults.\n",
      "\n",
      "In the younger age subgroup of subjects aged 12–14 years, ibuprofen and acetaminophen exposures were slightly increased following a single dose of the FDC compared with the older age group aged 15–17 years. This difference was as expected given the smaller body surface area and lower body weight of the younger subjects, and the differences were not clinically meaningful.\n",
      "\n",
      "These studies confirm the results of previous studies indicating no drug–drug PK interaction between ibuprofen and acetaminophen [6, 17]; therefore, no additional safety concerns are expected compared with the administration of either agent alone. The data also indicate no formulation effect when combining the two ingredients into one tablet. Consistent with these findings, the FDC ibuprofen/acetaminophen 250/500 mg was safe and generally well tolerated in these studies. All AEs were mild or moderate in severity, with no discontinuations due to AEs. AEs were equally distributed between treatment arms, with no new safety concerns compared with the individual components. Importantly, exposure in adolescents was similar to that in adults, and the FDC was generally well tolerated, indicating that this formulation can be safely used in this population. However, it should be noted that these were small, short-duration studies, and rare and serious AEs such as gastrointestinal bleeding and liver failure would not be expected. However, a large, longer-duration study (13 weeks) evaluating a similar FDC of ibuprofen/acetaminophen (200/500 mg) found a safety profile that was at least as favorable as maximum single OTC doses of the individual components (ibuprofen 400 mg, acetaminophen 1000 mg) [15].\n",
      "\n",
      "\n",
      "Text with Refs: SECTION: Discussion:\n",
      "\n",
      "This series of PK studies demonstrates that the FDC ibuprofen/acetaminophen 250/500 mg (administered as 2 × ibuprofen/acetaminophen 125/250 mg) is bioequivalent to its individual monocomponents when administered separately or together. These data substantiate the lack of drug–drug PK interactions or formulation effects, respectively, with the combination. Acetaminophen in the FDC is bioequivalent to dose-normalized acetaminophen ER 650 mg for AUC. However, an increase in acetaminophen C_max was seen with the FDC compared with the acetaminophen ER 650 mg comparator. This result was expected as the FDC is an immediate-release formulation, whereas the acetaminophen 650 mg used was an ER formulation with delayed absorption. Ibuprofen in the FDC was also bioequivalent to dose-normalized ibuprofen 200 mg for AUC and C_max. These results therefore demonstrate that the exposure to ibuprofen and acetaminophen in the FDC is similar to those of commercially available formulations of the individual components, indicating there should be no increased safety concerns.\n",
      "\n",
      "A food effect on the rate of absorption was observed with the FDC, with C_max for ibuprofen and acetaminophen decreased 36% and 37%, respectively, in the presence of food. T_max was also delayed by approximately 1.6 h for ibuprofen and 1.9 h for acetaminophen in fed, compared with fasting, conditions. This is consistent with a previous study in which an FDC of ibuprofen/acetaminophen at a total dose of 400/1000 mg, respectively, exhibited decreased C_max values in the fed versus fasted state (ratios of 76% and 61% for ibuprofen and acetaminophen, respectively) and delayed median t_max by 0.75 h and 1 h, respectively [6[MHTML::dataref::4]]. Studies of ibuprofen alone and acetaminophen alone have also demonstrated decreased C_max and delayed t_max when either is administered with food [19[MHTML::dataref::38], 20[MHTML::dataref::39]]. Although the overall extent of absorption (AUC) of ibuprofen from the FDC was slightly reduced (14%) in the presence of food compared with ibuprofen alone, both AUC_∞ and AUC_last met the bioequivalence standard of 80–125%. The overall exposure to acetaminophen was not affected by food, therefore it is unlikely that the slightly reduced AUC of ibuprofen observed in the fed state would be clinically meaningful in terms of analgesic efficacy. However, the effect of food on efficacy has not been evaluated as the dental pain studies of the FDC were conducted with food restrictions, as is the standard methodology.\n",
      "\n",
      "The majority of PK studies of ibuprofen and acetaminophen have focused on adults and younger subjects, with limited data available in adolescents aged 12–17 years [6[MHTML::dataref::4], 21[MHTML::dataref::40]–28[MHTML::dataref::41]]. As a result, population PK estimates and allometric adjustments or scaling have typically provided the rationale for dosing in this younger age group [27[MHTML::dataref::42], 28[MHTML::dataref::41]]. The present study of FDC ibuprofen/acetaminophen 250/500 mg therefore adds new and relevant information by reporting ibuprofen and acetaminophen PK in this age group. Importantly, no clinically important differences in PK exposure were observed for adolescents in comparison with adult subjects 18 years of age and older. Indeed, while these studies were not designed to be compared, the overall plasma concentration-time curves for both components of the FDC (in the fasted state) were similar across all three studies, and comparison of AUC and C_max values between the adolescent and adult studies also indicates similar exposures to both components, with a slightly higher overall exposure to ibuprofen in adolescents. This provides support for similar dosing recommendations for adolescents as in adults.\n",
      "\n",
      "In the younger age subgroup of subjects aged 12–14 years, ibuprofen and acetaminophen exposures were slightly increased following a single dose of the FDC compared with the older age group aged 15–17 years. This difference was as expected given the smaller body surface area and lower body weight of the younger subjects, and the differences were not clinically meaningful.\n",
      "\n",
      "These studies confirm the results of previous studies indicating no drug–drug PK interaction between ibuprofen and acetaminophen [6[MHTML::dataref::4], 17[MHTML::dataref::16]]; therefore, no additional safety concerns are expected compared with the administration of either agent alone. The data also indicate no formulation effect when combining the two ingredients into one tablet. Consistent with these findings, the FDC ibuprofen/acetaminophen 250/500 mg was safe and generally well tolerated in these studies. All AEs were mild or moderate in severity, with no discontinuations due to AEs. AEs were equally distributed between treatment arms, with no new safety concerns compared with the individual components. Importantly, exposure in adolescents was similar to that in adults, and the FDC was generally well tolerated, indicating that this formulation can be safely used in this population. However, it should be noted that these were small, short-duration studies, and rare and serious AEs such as gastrointestinal bleeding and liver failure would not be expected. However, a large, longer-duration study (13 weeks) evaluating a similar FDC of ibuprofen/acetaminophen (200/500 mg) found a safety profile that was at least as favorable as maximum single OTC doses of the individual components (ibuprofen 400 mg, acetaminophen 1000 mg) [15[MHTML::dataref::15]].\n",
      "\n",
      "Text: SECTION: Conclusions:\n",
      "\n",
      "The FDC ibuprofen/acetaminophen 250/500 mg has a PK profile similar to its monocomponent constituents when administered alone or coadministered. Overall exposure to ibuprofen and acetaminophen was bioequivalent under fed versus fasted conditions, although, as expected, food delayed absorption, similar to what has previously been observed for each individual monocomponent. In adolescents, overall exposure to ibuprofen from the FDC, as measured by AUC, was similar in individuals 12–14 years of age and 15–17 years of age, but C_max was 23% higher and t_max was achieved earlier in the younger age group of patients. In contrast, acetaminophen exposure (i.e. AUC) was 30% higher in the younger group after administration of the FDC; C_max was 42% higher and t_max occurred earlier in the younger age group of patients than in older adolescents. Exposure to ibuprofen and acetaminophen in the overall group of adolescents was similar to that in adults, supporting the same dosing in that population.\n",
      "\n",
      "\n",
      "Text with Refs: SECTION: Conclusions:\n",
      "\n",
      "The FDC ibuprofen/acetaminophen 250/500 mg has a PK profile similar to its monocomponent constituents when administered alone or coadministered. Overall exposure to ibuprofen and acetaminophen was bioequivalent under fed versus fasted conditions, although, as expected, food delayed absorption, similar to what has previously been observed for each individual monocomponent. In adolescents, overall exposure to ibuprofen from the FDC, as measured by AUC, was similar in individuals 12–14 years of age and 15–17 years of age, but C_max was 23% higher and t_max was achieved earlier in the younger age group of patients. In contrast, acetaminophen exposure (i.e. AUC) was 30% higher in the younger group after administration of the FDC; C_max was 42% higher and t_max occurred earlier in the younger age group of patients than in older adolescents. Exposure to ibuprofen and acetaminophen in the overall group of adolescents was similar to that in adults, supporting the same dosing in that population.\n",
      "\n"
     ]
    }
   ],
   "source": [
    "#iterate through abstract sections and print the cleaned text, and text with MHTML datarefs side-by-side\n",
    "\n",
    "if p.body:\n",
    "    for par in p.body:\n",
    "        print(\"Text: \" + par.text)\n",
    "        print()\n",
    "        print(\"Text with Refs: \" + par.text_with_refs)"
   ]
  }
 ],
 "metadata": {
  "interpreter": {
   "hash": "427d4943968a1e3fc165f884a0cbd733d19eb316925f7601ef95e6c86f630a99"
  },
  "kernelspec": {
   "display_name": "Python 3.10.9 64-bit ('scrapemed': conda)",
   "name": "python3"
  },
  "language_info": {
   "codemirror_mode": {
    "name": "ipython",
    "version": 3
   },
   "file_extension": ".py",
   "mimetype": "text/x-python",
   "name": "python",
   "nbconvert_exporter": "python",
   "pygments_lexer": "ipython3",
   "version": "3.11.7"
  },
  "orig_nbformat": 4
 },
 "nbformat": 4,
 "nbformat_minor": 2
}
