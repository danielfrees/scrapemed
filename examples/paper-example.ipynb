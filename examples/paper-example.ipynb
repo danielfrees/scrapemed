{
 "cells": [
  {
   "cell_type": "code",
   "execution_count": 1,
   "metadata": {},
   "outputs": [
    {
     "data": {
      "text/plain": [
       "True"
      ]
     },
     "execution_count": 1,
     "metadata": {},
     "output_type": "execute_result"
    }
   ],
   "source": [
    "%load_ext autoreload\n",
    "%autoreload 2\n",
    "import sys\n",
    "sys.path.insert(0, \"../../scrapemed\")\n",
    "\n",
    "import scrapemed.paper as paper\n",
    "import pandas as pd\n",
    "import lxml\n",
    "from dotenv import load_dotenv\n",
    "import os\n",
    "load_dotenv()"
   ]
  },
  {
   "cell_type": "markdown",
   "metadata": {},
   "source": [
    "## Download a Paper from PMC"
   ]
  },
  {
   "cell_type": "code",
   "execution_count": 2,
   "metadata": {},
   "outputs": [
    {
     "name": "stderr",
     "output_type": "stream",
     "text": [
      "unexpectedMultipleMatchWarning: Warning! Multiple titles matched. Setting Paper.title to the first match.\n",
      "\n",
      "unexpectedTagWarning: Tag of type sc found in a text portion of the provided markup language. Expected only HTML styling tags, or tags from the following list: ['xref', 'fig', 'table-wrap']. Specified unknown tag behavior: keep. Warning occured in a text section with id: Par6.\n",
      "\n"
     ]
    }
   ],
   "source": [
    "#Specify creds and PMCID\n",
    "\n",
    "PMCID = 7067710\n",
    "email = os.getenv(\"PMC_EMAIL\")\n",
    "\n",
    "p = paper.Paper.from_pmc(PMCID, email, download=False)"
   ]
  },
  {
   "cell_type": "markdown",
   "metadata": {},
   "source": [
    "## Natural Language Querying and Paper Embeddings"
   ]
  },
  {
   "cell_type": "code",
   "execution_count": 3,
   "metadata": {},
   "outputs": [
    {
     "name": "stdout",
     "output_type": "stream",
     "text": [
      "Vectorizing Paper (This may take a little while)...\n",
      "Done Vectorizing Paper! Natural language query with Paper.query() now available.\n"
     ]
    },
    {
     "data": {
      "text/plain": [
       "{'Match on pmcid-7067710-chunk-26': '...similar to its monocomponent constituents when administered separately or coadministered, indicating no drug–drug interactions and no formulation effects. Similar to previous findings for the individual components, the rates of absorption of ibuprofen and acetaminophen from the FDC were slightly delayed in the presence of food. Overall, adolescents had similar exposures to acetaminophen and ibuprofen...'}"
      ]
     },
     "execution_count": 3,
     "metadata": {},
     "output_type": "execute_result"
    }
   ],
   "source": [
    "p.query(\"absorption\")"
   ]
  },
  {
   "cell_type": "code",
   "execution_count": 4,
   "metadata": {},
   "outputs": [
    {
     "data": {
      "text/plain": [
       "{'Match on pmcid-7067710-chunk-302': '...of the FDC to adolescents in Study 3 are summarized in Table\\xa07. Results are presented for all subjects and for the age groups 12–14\\xa0years and 15–17\\xa0years separately. The overall ibuprofen exposure (AUC values) following administration of the FDC was similar for both the younger and older age groups. However, the younger group had a C_max that was approximately 23% higher and occurred 1\\xa0h earlier relative to...',\n",
       " 'Match on pmcid-7067710-chunk-92': '...for this study.\\n\\n    Subjects included in the two adult studies (i.e. Studies 1 and 2) were healthy males and females 12–17\\xa0years of age, inclusive, with at least one painful condition (e.g. headache,...'}"
      ]
     },
     "execution_count": 4,
     "metadata": {},
     "output_type": "execute_result"
    }
   ],
   "source": [
    "p.query(\"what were the participants ages?\", n_results=2, n_before=1, n_after=3)"
   ]
  },
  {
   "cell_type": "markdown",
   "metadata": {},
   "source": [
    "## Peek at the Full Text"
   ]
  },
  {
   "cell_type": "code",
   "execution_count": 5,
   "metadata": {},
   "outputs": [
    {
     "data": {
      "text/plain": [
       "'Abstract: \\n\\nSECTION: Introduction:\\n\\nA fixed-dose combination (FDC) of ibuprofen and acetaminophen ha'"
      ]
     },
     "execution_count": 5,
     "metadata": {},
     "output_type": "execute_result"
    }
   ],
   "source": [
    "p.full_text()[0:100]"
   ]
  },
  {
   "cell_type": "markdown",
   "metadata": {},
   "source": [
    "## Peek at relational df representation of Paper"
   ]
  },
  {
   "cell_type": "code",
   "execution_count": 6,
   "metadata": {},
   "outputs": [
    {
     "name": "stdout",
     "output_type": "stream",
     "text": [
      "<class 'pandas.core.frame.DataFrame'>\n",
      "Index: 31 entries, PMCID to Figures\n",
      "Data columns (total 1 columns):\n",
      " #   Column  Non-Null Count  Dtype \n",
      "---  ------  --------------  ----- \n",
      " 0   0       30 non-null     object\n",
      "dtypes: object(1)\n",
      "memory usage: 496.0+ bytes\n"
     ]
    }
   ],
   "source": [
    "pd.DataFrame(p.to_relational()).info()"
   ]
  },
  {
   "cell_type": "markdown",
   "metadata": {},
   "source": [
    "## Look at a bunch of other Paper metadata"
   ]
  },
  {
   "cell_type": "code",
   "execution_count": 7,
   "metadata": {},
   "outputs": [
    {
     "data": {
      "text/plain": [
       "'Phase I Pharmacokinetic Study of Fixed-Dose Combinations of Ibuprofen and Acetaminophen in Healthy Adult and Adolescent Populations'"
      ]
     },
     "execution_count": 7,
     "metadata": {},
     "output_type": "execute_result"
    }
   ],
   "source": [
    "p.title"
   ]
  },
  {
   "cell_type": "code",
   "execution_count": 8,
   "metadata": {},
   "outputs": [
    {
     "data": {
      "text/html": [
       "<div>\n",
       "<style scoped>\n",
       "    .dataframe tbody tr th:only-of-type {\n",
       "        vertical-align: middle;\n",
       "    }\n",
       "\n",
       "    .dataframe tbody tr th {\n",
       "        vertical-align: top;\n",
       "    }\n",
       "\n",
       "    .dataframe thead th {\n",
       "        text-align: right;\n",
       "    }\n",
       "</style>\n",
       "<table border=\"1\" class=\"dataframe\">\n",
       "  <thead>\n",
       "    <tr style=\"text-align: right;\">\n",
       "      <th></th>\n",
       "      <th>Contributor_Type</th>\n",
       "      <th>First_Name</th>\n",
       "      <th>Last_Name</th>\n",
       "      <th>Email_Address</th>\n",
       "      <th>Affiliations</th>\n",
       "    </tr>\n",
       "  </thead>\n",
       "  <tbody>\n",
       "    <tr>\n",
       "      <th>0</th>\n",
       "      <td>Author</td>\n",
       "      <td>Sanela</td>\n",
       "      <td>Tarabar</td>\n",
       "      <td>Sanela.Tarabar@pfizer.com</td>\n",
       "      <td>[Aff1: Pfizer New Haven Clinical Research Unit, New Haven, CT USA, Aff6: Clinical Research and Development, KS1, 1 Portland Street, Cambridge, MA 02139 USA]</td>\n",
       "    </tr>\n",
       "    <tr>\n",
       "      <th>1</th>\n",
       "      <td>Author</td>\n",
       "      <td>Debra</td>\n",
       "      <td>Kelsh</td>\n",
       "      <td>None</td>\n",
       "      <td>[Aff2: Altasciences/Vince and Associates Clinical Research, Overland Park, KS USA]</td>\n",
       "    </tr>\n",
       "    <tr>\n",
       "      <th>2</th>\n",
       "      <td>Author</td>\n",
       "      <td>Bradley</td>\n",
       "      <td>Vince</td>\n",
       "      <td>None</td>\n",
       "      <td>[Aff2: Altasciences/Vince and Associates Clinical Research, Overland Park, KS USA]</td>\n",
       "    </tr>\n",
       "    <tr>\n",
       "      <th>3</th>\n",
       "      <td>Author</td>\n",
       "      <td>Rina</td>\n",
       "      <td>Leyva</td>\n",
       "      <td>None</td>\n",
       "      <td>[Aff3: Pfizer Consumer Healthcare, Madison, NJ USA]</td>\n",
       "    </tr>\n",
       "    <tr>\n",
       "      <th>4</th>\n",
       "      <td>Author</td>\n",
       "      <td>Dongweon</td>\n",
       "      <td>Song</td>\n",
       "      <td>None</td>\n",
       "      <td>[Aff4: Pfizer Inc., Collegeville, PA USA]</td>\n",
       "    </tr>\n",
       "    <tr>\n",
       "      <th>5</th>\n",
       "      <td>Author</td>\n",
       "      <td>Kyle</td>\n",
       "      <td>Matschke</td>\n",
       "      <td>None</td>\n",
       "      <td>[Aff4: Pfizer Inc., Collegeville, PA USA]</td>\n",
       "    </tr>\n",
       "    <tr>\n",
       "      <th>6</th>\n",
       "      <td>Author</td>\n",
       "      <td>David E.</td>\n",
       "      <td>Kellstein</td>\n",
       "      <td>None</td>\n",
       "      <td>[Aff5: Pfizer Consumer Healthcare, Madison, NJ USA]</td>\n",
       "    </tr>\n",
       "    <tr>\n",
       "      <th>7</th>\n",
       "      <td>Author</td>\n",
       "      <td>Suzanne</td>\n",
       "      <td>Meeves</td>\n",
       "      <td>None</td>\n",
       "      <td>[Aff5: Pfizer Consumer Healthcare, Madison, NJ USA]</td>\n",
       "    </tr>\n",
       "    <tr>\n",
       "      <th>8</th>\n",
       "      <td>Author</td>\n",
       "      <td>Mario</td>\n",
       "      <td>Cruz-Rivera</td>\n",
       "      <td>None</td>\n",
       "      <td>[Aff5: Pfizer Consumer Healthcare, Madison, NJ USA]</td>\n",
       "    </tr>\n",
       "  </tbody>\n",
       "</table>\n",
       "</div>"
      ],
      "text/plain": [
       "  Contributor_Type First_Name    Last_Name              Email_Address  \\\n",
       "0           Author     Sanela      Tarabar  Sanela.Tarabar@pfizer.com   \n",
       "1           Author      Debra        Kelsh                       None   \n",
       "2           Author    Bradley        Vince                       None   \n",
       "3           Author       Rina        Leyva                       None   \n",
       "4           Author   Dongweon         Song                       None   \n",
       "5           Author       Kyle     Matschke                       None   \n",
       "6           Author   David E.    Kellstein                       None   \n",
       "7           Author    Suzanne       Meeves                       None   \n",
       "8           Author      Mario  Cruz-Rivera                       None   \n",
       "\n",
       "                                                                                                                                                   Affiliations  \n",
       "0  [Aff1: Pfizer New Haven Clinical Research Unit, New Haven, CT USA, Aff6: Clinical Research and Development, KS1, 1 Portland Street, Cambridge, MA 02139 USA]  \n",
       "1                                                                            [Aff2: Altasciences/Vince and Associates Clinical Research, Overland Park, KS USA]  \n",
       "2                                                                            [Aff2: Altasciences/Vince and Associates Clinical Research, Overland Park, KS USA]  \n",
       "3                                                                                                           [Aff3: Pfizer Consumer Healthcare, Madison, NJ USA]  \n",
       "4                                                                                                                     [Aff4: Pfizer Inc., Collegeville, PA USA]  \n",
       "5                                                                                                                     [Aff4: Pfizer Inc., Collegeville, PA USA]  \n",
       "6                                                                                                           [Aff5: Pfizer Consumer Healthcare, Madison, NJ USA]  \n",
       "7                                                                                                           [Aff5: Pfizer Consumer Healthcare, Madison, NJ USA]  \n",
       "8                                                                                                           [Aff5: Pfizer Consumer Healthcare, Madison, NJ USA]  "
      ]
     },
     "execution_count": 8,
     "metadata": {},
     "output_type": "execute_result"
    }
   ],
   "source": [
    "pd.options.display.max_colwidth = 200\n",
    "p.authors"
   ]
  },
  {
   "cell_type": "code",
   "execution_count": 9,
   "metadata": {},
   "outputs": [
    {
     "name": "stdout",
     "output_type": "stream",
     "text": [
      "No non-author contributors were found after parsing this paper.\n"
     ]
    }
   ],
   "source": [
    "print(p.non_author_contributors)"
   ]
  },
  {
   "cell_type": "code",
   "execution_count": 11,
   "metadata": {},
   "outputs": [
    {
     "data": {
      "text/plain": [
       "{'nlm-ta': 'Drugs R D', 'iso-abbrev': 'Drugs R D'}"
      ]
     },
     "execution_count": 11,
     "metadata": {},
     "output_type": "execute_result"
    }
   ],
   "source": [
    "p.journal_id"
   ]
  },
  {
   "cell_type": "code",
   "execution_count": 12,
   "metadata": {},
   "outputs": [
    {
     "data": {
      "text/plain": [
       "{'ppub': '1174-5886', 'epub': '1179-6901'}"
      ]
     },
     "execution_count": 12,
     "metadata": {},
     "output_type": "execute_result"
    }
   ],
   "source": [
    "p.issn"
   ]
  },
  {
   "cell_type": "code",
   "execution_count": 13,
   "metadata": {},
   "outputs": [
    {
     "data": {
      "text/plain": [
       "'Drugs in R&D'"
      ]
     },
     "execution_count": 13,
     "metadata": {},
     "output_type": "execute_result"
    }
   ],
   "source": [
    "p.journal_title"
   ]
  },
  {
   "cell_type": "code",
   "execution_count": 14,
   "metadata": {},
   "outputs": [
    {
     "data": {
      "text/plain": [
       "'Cham'"
      ]
     },
     "execution_count": 14,
     "metadata": {},
     "output_type": "execute_result"
    }
   ],
   "source": [
    "p.publisher_location"
   ]
  },
  {
   "cell_type": "code",
   "execution_count": 15,
   "metadata": {},
   "outputs": [
    {
     "data": {
      "text/plain": [
       "'Springer International Publishing'"
      ]
     },
     "execution_count": 15,
     "metadata": {},
     "output_type": "execute_result"
    }
   ],
   "source": [
    "p.publisher_name"
   ]
  },
  {
   "cell_type": "code",
   "execution_count": 16,
   "metadata": {},
   "outputs": [
    {
     "data": {
      "text/plain": [
       "{'pmid': '32130679',\n",
       " 'pmc': '7067710',\n",
       " 'publisher-id': '293',\n",
       " 'doi': '10.1007/s40268-020-00293-5'}"
      ]
     },
     "execution_count": 16,
     "metadata": {},
     "output_type": "execute_result"
    }
   ],
   "source": [
    "p.article_id"
   ]
  },
  {
   "cell_type": "code",
   "execution_count": 17,
   "metadata": {},
   "outputs": [
    {
     "data": {
      "text/plain": [
       "['Original Research Article']"
      ]
     },
     "execution_count": 17,
     "metadata": {},
     "output_type": "execute_result"
    }
   ],
   "source": [
    "p.article_types"
   ]
  },
  {
   "cell_type": "code",
   "execution_count": 18,
   "metadata": {},
   "outputs": [
    {
     "data": {
      "text/plain": [
       "'No extra article categories found. Check paper.article_types for header categories.'"
      ]
     },
     "execution_count": 18,
     "metadata": {},
     "output_type": "execute_result"
    }
   ],
   "source": [
    "p.article_categories"
   ]
  },
  {
   "cell_type": "code",
   "execution_count": 19,
   "metadata": {},
   "outputs": [
    {
     "data": {
      "text/plain": [
       "{'epub': datetime.datetime(2020, 3, 4, 0, 0),\n",
       " 'pmc-release': datetime.datetime(2020, 3, 4, 0, 0),\n",
       " 'ppub': datetime.datetime(2020, 3, 1, 0, 0)}"
      ]
     },
     "execution_count": 19,
     "metadata": {},
     "output_type": "execute_result"
    }
   ],
   "source": [
    "p.published_date"
   ]
  },
  {
   "cell_type": "code",
   "execution_count": 20,
   "metadata": {},
   "outputs": [
    {
     "data": {
      "text/plain": [
       "'20'"
      ]
     },
     "execution_count": 20,
     "metadata": {},
     "output_type": "execute_result"
    }
   ],
   "source": [
    "p.volume"
   ]
  },
  {
   "cell_type": "code",
   "execution_count": 21,
   "metadata": {},
   "outputs": [
    {
     "data": {
      "text/plain": [
       "'1'"
      ]
     },
     "execution_count": 21,
     "metadata": {},
     "output_type": "execute_result"
    }
   ],
   "source": [
    "p.issue"
   ]
  },
  {
   "cell_type": "code",
   "execution_count": 22,
   "metadata": {},
   "outputs": [
    {
     "data": {
      "text/plain": [
       "'23'"
      ]
     },
     "execution_count": 22,
     "metadata": {},
     "output_type": "execute_result"
    }
   ],
   "source": [
    "p.fpage"
   ]
  },
  {
   "cell_type": "code",
   "execution_count": 23,
   "metadata": {},
   "outputs": [
    {
     "data": {
      "text/plain": [
       "'37'"
      ]
     },
     "execution_count": 23,
     "metadata": {},
     "output_type": "execute_result"
    }
   ],
   "source": [
    "p.lpage"
   ]
  },
  {
   "cell_type": "code",
   "execution_count": 24,
   "metadata": {},
   "outputs": [
    {
     "data": {
      "text/plain": [
       "{'Copyright Statement': '© The Author(s) 2020',\n",
       " 'License Type': 'OpenAccess',\n",
       " 'License Text': \"Open AccessThis article is licensed under a Creative Commons Attribution-NonCommercial 4.0 International License, which permits any non-commercial use, sharing, adaptation, distribution and reproduction in any medium or format, as long as you give appropriate credit to the original author(s) and the source, provide a link to the Creative Commons licence, and indicate if changes were made. The images or other third party material in this article are included in the article's Creative Commons licence, unless indicated otherwise in a credit line to the material. If material is not included in the article's Creative Commons licence and your intended use is not permitted by statutory regulation or exceeds the permitted use, you will need to obtain permission directly from the copyright holder.To view a copy of this licence, visit [External URI:]http://creativecommons.org/licenses/by-nc/4.0/.\"}"
      ]
     },
     "execution_count": 24,
     "metadata": {},
     "output_type": "execute_result"
    }
   ],
   "source": [
    "p.permissions"
   ]
  },
  {
   "cell_type": "code",
   "execution_count": 25,
   "metadata": {},
   "outputs": [
    {
     "data": {
      "text/plain": [
       "'© The Author(s) 2020'"
      ]
     },
     "execution_count": 25,
     "metadata": {},
     "output_type": "execute_result"
    }
   ],
   "source": [
    "p.copyright"
   ]
  },
  {
   "cell_type": "code",
   "execution_count": 26,
   "metadata": {},
   "outputs": [
    {
     "data": {
      "text/plain": [
       "'OpenAccess'"
      ]
     },
     "execution_count": 26,
     "metadata": {},
     "output_type": "execute_result"
    }
   ],
   "source": [
    "p.license"
   ]
  },
  {
   "cell_type": "code",
   "execution_count": 27,
   "metadata": {},
   "outputs": [
    {
     "data": {
      "text/plain": [
       "['Pfizer Consumer Healthcare']"
      ]
     },
     "execution_count": 27,
     "metadata": {},
     "output_type": "execute_result"
    }
   ],
   "source": [
    "p.funding"
   ]
  },
  {
   "cell_type": "code",
   "execution_count": 28,
   "metadata": {},
   "outputs": [
    {
     "data": {
      "text/plain": [
       "'The authors David E. Kellstein, Suzanne Meeves and Mario Cruz-Rivera were Employees of Pfizer Consumer Healthcare, Madison, NJ, USA at the time this research was conducted.'"
      ]
     },
     "execution_count": 28,
     "metadata": {},
     "output_type": "execute_result"
    }
   ],
   "source": [
    "p.footnote"
   ]
  },
  {
   "cell_type": "code",
   "execution_count": 29,
   "metadata": {},
   "outputs": [
    {
     "name": "stdout",
     "output_type": "stream",
     "text": [
      "Acknowledgements \n",
      "       Medical writing support was provided by John H. Simmons, MD, of Peloton Advantage, LLC, an OPEN Health company, and was funded by Pfizer. On 1 August 2019, PCH became part of GSK Consumer Healthcare. The authors would like to thank Zhongwei Zhou, lead programmer, and all the programmers who supported these studies, as well as the study participants.\n"
     ]
    }
   ],
   "source": [
    "for ack in p.acknowledgements:\n",
    "    print(ack)"
   ]
  },
  {
   "cell_type": "markdown",
   "metadata": {},
   "source": [
    "## More Detailed Investigation of Ref Map and Texts"
   ]
  },
  {
   "cell_type": "code",
   "execution_count": 32,
   "metadata": {},
   "outputs": [
    {
     "data": {
      "text/plain": [
       "{'Authors': ['A Dickman'],\n",
       " 'Title': 'Choosing over-the-counter analgesics',\n",
       " 'Source': 'Pharm J.',\n",
       " 'Year': '2008',\n",
       " 'Volume': '281',\n",
       " 'FirstPage': '631',\n",
       " 'LastPage': None,\n",
       " 'DOI': None,\n",
       " 'PMID': None}"
      ]
     },
     "execution_count": 32,
     "metadata": {},
     "output_type": "execute_result"
    }
   ],
   "source": [
    "\n",
    "#look at DATAREF index 1, a citation (if using the provided example PMCID article)\n",
    "p.ref_map[1]"
   ]
  },
  {
   "cell_type": "code",
   "execution_count": 33,
   "metadata": {},
   "outputs": [
    {
     "data": {
      "text/plain": [
       "[{'Authors': ['A Dickman'],\n",
       "  'Title': 'Choosing over-the-counter analgesics',\n",
       "  'Source': 'Pharm J.',\n",
       "  'Year': '2008',\n",
       "  'Volume': '281',\n",
       "  'FirstPage': '631',\n",
       "  'LastPage': None,\n",
       "  'DOI': None,\n",
       "  'PMID': None}]"
      ]
     },
     "execution_count": 33,
     "metadata": {},
     "output_type": "execute_result"
    }
   ],
   "source": [
    "#look at datarefs filtered by citations\n",
    "p.citations[0:1]"
   ]
  },
  {
   "cell_type": "code",
   "execution_count": null,
   "metadata": {},
   "outputs": [
    {
     "data": {
      "text/html": [
       "<div>\n",
       "<style scoped>\n",
       "    .dataframe tbody tr th:only-of-type {\n",
       "        vertical-align: middle;\n",
       "    }\n",
       "\n",
       "    .dataframe tbody tr th {\n",
       "        vertical-align: top;\n",
       "    }\n",
       "\n",
       "    .dataframe thead th {\n",
       "        text-align: right;\n",
       "    }\n",
       "</style>\n",
       "<table border=\"1\" class=\"dataframe\">\n",
       "  <thead>\n",
       "    <tr style=\"text-align: right;\">\n",
       "      <th></th>\n",
       "      <th>0</th>\n",
       "    </tr>\n",
       "  </thead>\n",
       "  <tbody>\n",
       "    <tr>\n",
       "      <th>0</th>\n",
       "      <td>The pharmacokinetic profile of a fixed-dose combination (FDC) of ibuprofen 250 mg and acetaminophen 500 mg was found to be similar to its individual components administered separately or coadminis...</td>\n",
       "    </tr>\n",
       "    <tr>\n",
       "      <th>1</th>\n",
       "      <td>Similar to what has been previously reported for the individual ingredients, food delayed the absorption of both components but had no effect on overall exposure; exposure to both components in ad...</td>\n",
       "    </tr>\n",
       "    <tr>\n",
       "      <th>2</th>\n",
       "      <td>Since the efficacy of this FDC has been shown to be superior to the same doses of individual components and it is generally well tolerated, this new FDC may provide another analgesic treatment opt...</td>\n",
       "    </tr>\n",
       "  </tbody>\n",
       "</table>\n",
       "</div>"
      ],
      "text/plain": [
       "                                                                                                                                                                                                         0\n",
       "0  The pharmacokinetic profile of a fixed-dose combination (FDC) of ibuprofen 250 mg and acetaminophen 500 mg was found to be similar to its individual components administered separately or coadminis...\n",
       "1  Similar to what has been previously reported for the individual ingredients, food delayed the absorption of both components but had no effect on overall exposure; exposure to both components in ad...\n",
       "2  Since the efficacy of this FDC has been shown to be superior to the same doses of individual components and it is generally well tolerated, this new FDC may provide another analgesic treatment opt..."
      ]
     },
     "execution_count": 38,
     "metadata": {},
     "output_type": "execute_result"
    }
   ],
   "source": [
    "#look at an example table filtered out of the ref map\n",
    "p.tables[0]"
   ]
  },
  {
   "cell_type": "code",
   "execution_count": null,
   "metadata": {},
   "outputs": [
    {
     "data": {
      "text/plain": [
       "[{'Label': 'Fig.\\xa01',\n",
       "  'Caption': 'Median plasma ibuprofen concentration over time following a single oral dose: a Study 1; b Study 2; c Study 3. Note that plasma concentrations for IBU 200\\xa0mg in Study 1 are dose-normalized. APAP acetaminophen, FDC fixed-dose combination, IBU ibuprofen',\n",
       "  'Link': '40268_2020_293_Fig1_HTML'},\n",
       " {'Label': 'Fig.\\xa02',\n",
       "  'Caption': 'Median plasma acetaminophen concentration over time following a single oral dose: a Study 1; b Study 2; c Study 3. Note that plasma concentrations for APAP ER 650\\xa0mg in Study 1 are dose-normalized. APAP acetaminophen, ER extended-release, FDC fixed-dose combination, IBU ibuprofen',\n",
       "  'Link': '40268_2020_293_Fig2_HTML'},\n",
       " {'Label': 'Fig.\\xa01',\n",
       "  'Caption': 'Median plasma ibuprofen concentration over time following a single oral dose: a Study 1; b Study 2; c Study 3. Note that plasma concentrations for IBU 200\\xa0mg in Study 1 are dose-normalized. APAP acetaminophen, FDC fixed-dose combination, IBU ibuprofen',\n",
       "  'Link': '40268_2020_293_Fig1_HTML'},\n",
       " {'Label': 'Fig.\\xa02',\n",
       "  'Caption': 'Median plasma acetaminophen concentration over time following a single oral dose: a Study 1; b Study 2; c Study 3. Note that plasma concentrations for APAP ER 650\\xa0mg in Study 1 are dose-normalized. APAP acetaminophen, ER extended-release, FDC fixed-dose combination, IBU ibuprofen',\n",
       "  'Link': '40268_2020_293_Fig2_HTML'}]"
      ]
     },
     "execution_count": 39,
     "metadata": {},
     "output_type": "execute_result"
    }
   ],
   "source": [
    "#look at an example figure filtered out from the ref map\n",
    "p.figures[0]"
   ]
  },
  {
   "cell_type": "code",
   "execution_count": null,
   "metadata": {},
   "outputs": [
    {
     "name": "stdout",
     "output_type": "stream",
     "text": [
      "Text: SECTION: Introduction:\n",
      "\n",
      "A fixed-dose combination (FDC) of ibuprofen and acetaminophen has been developed that provides greater analgesic efficacy than either agent alone at the same doses without increasing the risk for adverse events.\n",
      "\n",
      "\n",
      "Text with Refs: SECTION: Introduction:\n",
      "\n",
      "A fixed-dose combination (FDC) of ibuprofen and acetaminophen has been developed that provides greater analgesic efficacy than either agent alone at the same doses without increasing the risk for adverse events.\n",
      "\n",
      "Text: SECTION: Methods:\n",
      "\n",
      "We report three clinical phase I studies designed to assess the pharmacokinetics (PK) of the FDC of ibuprofen/acetaminophen 250/500 mg (administered as two tablets of ibuprofen 125 mg/acetaminophen 250 mg) in comparison with its individual components administered alone or together, and to determine the effect of food on the PK of the FDC. Two studies in healthy adults aged 18–55 years used a crossover design in which subjects received a single dose of each treatment with a 2-day washout period between each. In the third study, the bioavailability of ibuprofen and acetaminophen from a single oral dose of the FDC was assessed in healthy adolescents aged 12–17 years, inclusive.\n",
      "\n",
      "\n",
      "Text with Refs: SECTION: Methods:\n",
      "\n",
      "We report three clinical phase I studies designed to assess the pharmacokinetics (PK) of the FDC of ibuprofen/acetaminophen 250/500 mg (administered as two tablets of ibuprofen 125 mg/acetaminophen 250 mg) in comparison with its individual components administered alone or together, and to determine the effect of food on the PK of the FDC. Two studies in healthy adults aged 18–55 years used a crossover design in which subjects received a single dose of each treatment with a 2-day washout period between each. In the third study, the bioavailability of ibuprofen and acetaminophen from a single oral dose of the FDC was assessed in healthy adolescents aged 12–17 years, inclusive.\n",
      "\n",
      "Text: SECTION: Results:\n",
      "\n",
      "A total of 35 and 46 subjects were enrolled in the two adult studies, respectively, and 21 were enrolled in the adolescent study. Ibuprofen and acetaminophen in the FDC were bioequivalent to the monocomponents administered alone or together. With food, the maximum concentration (C_max) for ibuprofen and acetaminophen from the FDC was reduced by 36% and 37%, respectively, and time to C_max (i.e. t_max) was delayed. Overall drug exposure to ibuprofen or acetaminophen in the fed versus fasted states was similar. In adolescents, overall exposure to acetaminophen and ibuprofen was comparable with that in adults, with a slightly higher overall exposure to ibuprofen. Exposure to acetaminophen and ibuprofen in adolescents aged 12–14 years was slightly higher versus those aged 15–17 years. Adverse events were similar across all treatment groups.\n",
      "\n",
      "\n",
      "Text with Refs: SECTION: Results:\n",
      "\n",
      "A total of 35 and 46 subjects were enrolled in the two adult studies, respectively, and 21 were enrolled in the adolescent study. Ibuprofen and acetaminophen in the FDC were bioequivalent to the monocomponents administered alone or together. With food, the maximum concentration (C_max) for ibuprofen and acetaminophen from the FDC was reduced by 36% and 37%, respectively, and time to C_max (i.e. t_max) was delayed. Overall drug exposure to ibuprofen or acetaminophen in the fed versus fasted states was similar. In adolescents, overall exposure to acetaminophen and ibuprofen was comparable with that in adults, with a slightly higher overall exposure to ibuprofen. Exposure to acetaminophen and ibuprofen in adolescents aged 12–14 years was slightly higher versus those aged 15–17 years. Adverse events were similar across all treatment groups.\n",
      "\n",
      "Text: SECTION: Conclusions:\n",
      "\n",
      "The FDC of ibuprofen/acetaminophen 250/500 mg has a PK profile similar to its monocomponent constituents when administered separately or coadministered, indicating no drug–drug interactions and no formulation effects. Similar to previous findings for the individual components, the rates of absorption of ibuprofen and acetaminophen from the FDC were slightly delayed in the presence of food. Overall, adolescents had similar exposures to acetaminophen and ibuprofen as adults, while younger adolescents had slightly greater exposure than older adolescents, probably due to their smaller body size. The FDC was generally well tolerated.\n",
      "\n",
      "\n",
      "Text with Refs: SECTION: Conclusions:\n",
      "\n",
      "The FDC of ibuprofen/acetaminophen 250/500 mg has a PK profile similar to its monocomponent constituents when administered separately or coadministered, indicating no drug–drug interactions and no formulation effects. Similar to previous findings for the individual components, the rates of absorption of ibuprofen and acetaminophen from the FDC were slightly delayed in the presence of food. Overall, adolescents had similar exposures to acetaminophen and ibuprofen as adults, while younger adolescents had slightly greater exposure than older adolescents, probably due to their smaller body size. The FDC was generally well tolerated.\n",
      "\n"
     ]
    }
   ],
   "source": [
    "#iterate through abstract sections and print the cleaned text, and text with MHTML datarefs side-by-side\n",
    "\n",
    "if p.abstract:\n",
    "    for par in p.abstract:\n",
    "        print(\"Text: \" + par.text)\n",
    "        print()\n",
    "        print(\"Text with Refs: \" + par.text_with_refs)"
   ]
  }
 ],
 "metadata": {
  "interpreter": {
   "hash": "427d4943968a1e3fc165f884a0cbd733d19eb316925f7601ef95e6c86f630a99"
  },
  "kernelspec": {
   "display_name": "Python 3.10.9 64-bit ('scrapemed': conda)",
   "name": "python3"
  },
  "language_info": {
   "codemirror_mode": {
    "name": "ipython",
    "version": 3
   },
   "file_extension": ".py",
   "mimetype": "text/x-python",
   "name": "python",
   "nbconvert_exporter": "python",
   "pygments_lexer": "ipython3",
   "version": "3.10.12"
  },
  "orig_nbformat": 4
 },
 "nbformat": 4,
 "nbformat_minor": 2
}
